{
 "cells": [
  {
   "cell_type": "markdown",
   "id": "ddbe9d87-efca-4605-a37d-6be666059acb",
   "metadata": {},
   "source": [
    "# Final Data Science Project\n",
    "## Adriana Alleyne, Sebastian Tucker Kryiakos, Lilly Meraz, Uriel Martinez, Jazmine Veliz"
   ]
  },
  {
   "cell_type": "markdown",
   "id": "725a98a8-3f88-423d-9a05-2cb9ebd38416",
   "metadata": {},
   "source": [
    "## Introduction and Background\n",
    "Convince your audience that the rest of the project is worth learning about. What interesting problem are you exploring? Why should EVERYONE be interested in your analysis?\n"
   ]
  },
  {
   "cell_type": "markdown",
   "id": "e57614f1-1553-4c37-8466-57b5d34ec527",
   "metadata": {},
   "source": [
    "## Main Question: How does each variable effect depression.\n",
    "### Sub Questions:"
   ]
  },
  {
   "cell_type": "markdown",
   "id": "d08b57c6-d1a4-47d1-8e55-add077bae635",
   "metadata": {},
   "source": [
    "## Data Used\n",
    "Give some background about your data. Where did you get it? How was it compiled? How many observations? What are the variables?\n",
    "\n",
    "Show a data frame with the most important columns.\n",
    "\n",
    "Do some descriptive statistics and talk about the results."
   ]
  },
  {
   "cell_type": "markdown",
   "id": "81e09c0c-925d-4c19-b2c6-87c1628454d1",
   "metadata": {},
   "source": [
    "## Exploratory Data Analysis\n",
    "Show a few plots or some data tables that help your reader understand your data better. What are some initial questions that you were able to quickly answer? How do those questions lead you to a deeper analysis?"
   ]
  },
  {
   "cell_type": "markdown",
   "id": "6e64214f-8aef-40a4-ac33-ad03de24f4f2",
   "metadata": {},
   "source": [
    "## Analysis and Results\n",
    "Here is where you show your code and results (plots, tables, predictions, etc) that help to explore and answer your questions. There should be code here that can be run to reproduce your results and conclusions. After each plot/table/final number, you should add a Markdown cell where you explain to the reader what the result means and how/why it answers the question."
   ]
  },
  {
   "cell_type": "markdown",
   "id": "85a48f3e-6a9c-42a1-951b-08127d1aa01a",
   "metadata": {},
   "source": [
    "## Conclusion\n",
    "Give a brief statement about what you achieved in your analysis, what issues or limitations your analysis contains, a conversation of any ethical concerns with the data or analysis, and some possible future directions (if you had more time an money to keep going)."
   ]
  },
  {
   "cell_type": "code",
   "execution_count": null,
   "id": "b93deb17-652c-48fa-b2b0-5ec1a624e843",
   "metadata": {},
   "outputs": [],
   "source": []
  }
 ],
 "metadata": {
  "kernelspec": {
   "display_name": "Python 3 (ipykernel)",
   "language": "python",
   "name": "python3"
  },
  "language_info": {
   "codemirror_mode": {
    "name": "ipython",
    "version": 3
   },
   "file_extension": ".py",
   "mimetype": "text/x-python",
   "name": "python",
   "nbconvert_exporter": "python",
   "pygments_lexer": "ipython3",
   "version": "3.12.3"
  }
 },
 "nbformat": 4,
 "nbformat_minor": 5
}
