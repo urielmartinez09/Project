{
 "cells": [
  {
   "cell_type": "markdown",
   "id": "ff4dfaf8-72a6-4c22-82a3-908bc01832b5",
   "metadata": {},
   "source": [
    "# Final Data Science Project\n",
    "## By: Sebastian Tucker-Kyriakos"
   ]
  },
  {
   "cell_type": "code",
   "execution_count": 405,
   "id": "16886eb4-66fc-4c35-92a4-8d2ef4059fba",
   "metadata": {},
   "outputs": [],
   "source": [
    "import numpy as np\n",
    "import pandas as pd\n",
    "\n",
    "import matplotlib.pyplot as plt\n",
    "import plotly.express as px\n",
    "from plotly.subplots import make_subplots\n",
    "import plotly.io as pio\n",
    "pio.renderers.defaule = 'colab'\n",
    "\n",
    "from itables import show"
   ]
  },
  {
   "cell_type": "code",
   "execution_count": 596,
   "id": "b9e570f4-dba7-4f3a-9b5b-187aa68e3e8a",
   "metadata": {},
   "outputs": [
    {
     "data": {
      "text/html": [
       "<table id=\"itables_05a7e329_19e3_4559_bdcf_87c96546173c\" class=\"display nowrap\" data-quarto-disable-processing=\"true\" style=\"table-layout:auto;width:auto;margin:auto;caption-side:bottom\">\n",
       "<thead>\n",
       "    <tr style=\"text-align: right;\">\n",
       "      \n",
       "      <th>id</th>\n",
       "      <th>Name</th>\n",
       "      <th>Gender</th>\n",
       "      <th>Age</th>\n",
       "      <th>City</th>\n",
       "      <th>Working Professional or Student</th>\n",
       "      <th>Profession</th>\n",
       "      <th>Academic Pressure</th>\n",
       "      <th>Work Pressure</th>\n",
       "      <th>CGPA</th>\n",
       "      <th>Study Satisfaction</th>\n",
       "      <th>Job Satisfaction</th>\n",
       "      <th>Sleep Duration</th>\n",
       "      <th>Dietary Habits</th>\n",
       "      <th>Degree</th>\n",
       "      <th>Have you ever had suicidal thoughts ?</th>\n",
       "      <th>Work/Study Hours</th>\n",
       "      <th>Financial Stress</th>\n",
       "      <th>Family History of Mental Illness</th>\n",
       "      <th>Depression</th>\n",
       "    </tr>\n",
       "  </thead><tbody><tr>\n",
       "<td style=\"vertical-align:middle; text-align:left\">\n",
       "<div style=\"float:left; margin-right: 10px;\">\n",
       "<a href=https://mwouts.github.io/itables/><svg class=\"main-svg\" xmlns=\"http://www.w3.org/2000/svg\" xmlns:xlink=\"http://www.w3.org/1999/xlink\"\n",
       "width=\"64\" viewBox=\"0 0 500 400\" style=\"font-family: 'Droid Sans', sans-serif;\">\n",
       "    <g style=\"fill:#d9d7fc\">\n",
       "        <path d=\"M100,400H500V357H100Z\" />\n",
       "        <path d=\"M100,300H400V257H100Z\" />\n",
       "        <path d=\"M0,200H400V157H0Z\" />\n",
       "        <path d=\"M100,100H500V57H100Z\" />\n",
       "        <path d=\"M100,350H500V307H100Z\" />\n",
       "        <path d=\"M100,250H400V207H100Z\" />\n",
       "        <path d=\"M0,150H400V107H0Z\" />\n",
       "        <path d=\"M100,50H500V7H100Z\" />\n",
       "    </g>\n",
       "    <g style=\"fill:#1a1366;stroke:#1a1366;\">\n",
       "   <rect x=\"100\" y=\"7\" width=\"400\" height=\"43\">\n",
       "    <animate\n",
       "      attributeName=\"width\"\n",
       "      values=\"0;400;0\"\n",
       "      dur=\"5s\"\n",
       "      repeatCount=\"indefinite\" />\n",
       "      <animate\n",
       "      attributeName=\"x\"\n",
       "      values=\"100;100;500\"\n",
       "      dur=\"5s\"\n",
       "      repeatCount=\"indefinite\" />\n",
       "  </rect>\n",
       "        <rect x=\"0\" y=\"107\" width=\"400\" height=\"43\">\n",
       "    <animate\n",
       "      attributeName=\"width\"\n",
       "      values=\"0;400;0\"\n",
       "      dur=\"3.5s\"\n",
       "      repeatCount=\"indefinite\" />\n",
       "    <animate\n",
       "      attributeName=\"x\"\n",
       "      values=\"0;0;400\"\n",
       "      dur=\"3.5s\"\n",
       "      repeatCount=\"indefinite\" />\n",
       "  </rect>\n",
       "        <rect x=\"100\" y=\"207\" width=\"300\" height=\"43\">\n",
       "    <animate\n",
       "      attributeName=\"width\"\n",
       "      values=\"0;300;0\"\n",
       "      dur=\"3s\"\n",
       "      repeatCount=\"indefinite\" />\n",
       "    <animate\n",
       "      attributeName=\"x\"\n",
       "      values=\"100;100;400\"\n",
       "      dur=\"3s\"\n",
       "      repeatCount=\"indefinite\" />\n",
       "  </rect>\n",
       "        <rect x=\"100\" y=\"307\" width=\"400\" height=\"43\">\n",
       "    <animate\n",
       "      attributeName=\"width\"\n",
       "      values=\"0;400;0\"\n",
       "      dur=\"4s\"\n",
       "      repeatCount=\"indefinite\" />\n",
       "      <animate\n",
       "      attributeName=\"x\"\n",
       "      values=\"100;100;500\"\n",
       "      dur=\"4s\"\n",
       "      repeatCount=\"indefinite\" />\n",
       "  </rect>\n",
       "        <g style=\"fill:transparent;stroke-width:8; stroke-linejoin:round\" rx=\"5\">\n",
       "            <g transform=\"translate(45 50) rotate(-45)\">\n",
       "                <circle r=\"33\" cx=\"0\" cy=\"0\" />\n",
       "                <rect x=\"-8\" y=\"32\" width=\"16\" height=\"30\" />\n",
       "            </g>\n",
       "\n",
       "            <g transform=\"translate(450 152)\">\n",
       "                <polyline points=\"-15,-20 -35,-20 -35,40 25,40 25,20\" />\n",
       "                <rect x=\"-15\" y=\"-40\" width=\"60\" height=\"60\" />\n",
       "            </g>\n",
       "\n",
       "            <g transform=\"translate(50 352)\">\n",
       "                <polygon points=\"-35,-5 0,-40 35,-5\" />\n",
       "                <polygon points=\"-35,10 0,45 35,10\" />\n",
       "            </g>\n",
       "\n",
       "            <g transform=\"translate(75 250)\">\n",
       "                <polyline points=\"-30,30 -60,0 -30,-30\" />\n",
       "                <polyline points=\"0,30 -30,0 0,-30\" />\n",
       "            </g>\n",
       "\n",
       "            <g transform=\"translate(425 250) rotate(180)\">\n",
       "                <polyline points=\"-30,30 -60,0 -30,-30\" />\n",
       "                <polyline points=\"0,30 -30,0 0,-30\" />\n",
       "            </g>\n",
       "        </g>\n",
       "    </g>\n",
       "</svg>\n",
       "</a>\n",
       "</div>\n",
       "<div>\n",
       "Loading ITables v2.2.2 from the internet...\n",
       "(need <a href=https://mwouts.github.io/itables/troubleshooting.html>help</a>?)</td>\n",
       "</div>\n",
       "</tr></tbody>\n",
       "\n",
       "</table>\n",
       "<link href=\"https://www.unpkg.com/dt_for_itables@2.0.13/dt_bundle.css\" rel=\"stylesheet\">\n",
       "<script type=\"module\">\n",
       "    import {DataTable, jQuery as $} from 'https://www.unpkg.com/dt_for_itables@2.0.13/dt_bundle.js';\n",
       "\n",
       "    document.querySelectorAll(\"#itables_05a7e329_19e3_4559_bdcf_87c96546173c:not(.dataTable)\").forEach(table => {\n",
       "        if (!(table instanceof HTMLTableElement))\n",
       "            return;\n",
       "\n",
       "        // Define the table data\n",
       "        const data = [[0, \"Aaradhya\", \"Female\", 49.0, \"Ludhiana\", \"Working Professional\", \"Chef\", NaN, 5.0, NaN, NaN, 2.0, \"More than 8 hours\", \"Healthy\", \"BHM\", \"No\", 1.0, 2.0, \"No\", 0], [1, \"Vivan\", \"Male\", 26.0, \"Varanasi\", \"Working Professional\", \"Teacher\", NaN, 4.0, NaN, NaN, 3.0, \"Less than 5 hours\", \"Unhealthy\", \"LLB\", \"Yes\", 7.0, 3.0, \"No\", 1], [2, \"Yuvraj\", \"Male\", 33.0, \"Visakhapatnam\", \"Student\", \"NaN\", 5.0, NaN, 8.97, 2.0, NaN, \"5-6 hours\", \"Healthy\", \"B.Pharm\", \"Yes\", 3.0, 1.0, \"No\", 1], [3, \"Yuvraj\", \"Male\", 22.0, \"Mumbai\", \"Working Professional\", \"Teacher\", NaN, 5.0, NaN, NaN, 1.0, \"Less than 5 hours\", \"Moderate\", \"BBA\", \"Yes\", 10.0, 1.0, \"Yes\", 1], [4, \"Rhea\", \"Female\", 30.0, \"Kanpur\", \"Working Professional\", \"Business Analyst\", NaN, 1.0, NaN, NaN, 1.0, \"5-6 hours\", \"Unhealthy\", \"BBA\", \"Yes\", 9.0, 4.0, \"Yes\", 0], [5, \"Vani\", \"Female\", 59.0, \"Ahmedabad\", \"Working Professional\", \"Finanancial Analyst\", NaN, 2.0, NaN, NaN, 5.0, \"5-6 hours\", \"Healthy\", \"MCA\", \"No\", 7.0, 5.0, \"No\", 0], [6, \"Ritvik\", \"Male\", 47.0, \"Thane\", \"Working Professional\", \"Chemist\", NaN, 5.0, NaN, NaN, 2.0, \"7-8 hours\", \"Moderate\", \"MD\", \"No\", 6.0, 2.0, \"No\", 0], [7, \"Rajveer\", \"Male\", 38.0, \"Nashik\", \"Working Professional\", \"Teacher\", NaN, 3.0, NaN, NaN, 4.0, \"7-8 hours\", \"Unhealthy\", \"B.Pharm\", \"No\", 10.0, 3.0, \"Yes\", 0], [8, \"Aishwarya\", \"Female\", 24.0, \"Bangalore\", \"Student\", \"NaN\", 2.0, NaN, 5.9, 5.0, NaN, \"5-6 hours\", \"Moderate\", \"BSc\", \"No\", 3.0, 2.0, \"Yes\", 0], [9, \"Simran\", \"Female\", 42.0, \"Patna\", \"Working Professional\", \"Electrician\", NaN, 4.0, NaN, NaN, 1.0, \"5-6 hours\", \"Healthy\", \"ME\", \"Yes\", 7.0, 2.0, \"Yes\", 0], [10, \"Utkarsh\", \"Male\", 55.0, \"Rajkot\", \"Working Professional\", \"Software Engineer\", NaN, 3.0, NaN, NaN, 2.0, \"7-8 hours\", \"Moderate\", \"BSc\", \"No\", 6.0, 4.0, \"Yes\", 0], [11, \"Aahana\", \"Female\", 51.0, \"Patna\", \"Working Professional\", \"Teacher\", NaN, 1.0, NaN, NaN, 2.0, \"7-8 hours\", \"Moderate\", \"B.Arch\", \"No\", 9.0, 5.0, \"No\", 0], [12, \"Tejas\", \"Male\", 39.0, \"Jaipur\", \"Working Professional\", \"Data Scientist\", NaN, 2.0, NaN, NaN, 5.0, \"More than 8 hours\", \"Moderate\", \"BCA\", \"Yes\", 1.0, 3.0, \"No\", 0], [13, \"Aadhya\", \"Female\", 29.0, \"Pune\", \"Working Professional\", \"Chef\", NaN, 4.0, NaN, NaN, 4.0, \"7-8 hours\", \"Unhealthy\", \"BHM\", \"No\", 6.0, 5.0, \"Yes\", 0], [14, \"Kiran\", \"Male\", 50.0, \"Thane\", \"Working Professional\", \"Plumber\", NaN, 1.0, NaN, NaN, 1.0, \"More than 8 hours\", \"Moderate\", \"BE\", \"Yes\", 8.0, 5.0, \"Yes\", 0], [15, \"Aditi\", \"Female\", 23.0, \"Patna\", \"Working Professional\", \"Marketing Manager\", NaN, 2.0, NaN, NaN, 2.0, \"5-6 hours\", \"Healthy\", \"MA\", \"Yes\", 6.0, 4.0, \"Yes\", 1], [16, \"Suhani\", \"Female\", 49.0, \"Lucknow\", \"Working Professional\", \"Teacher\", NaN, 5.0, NaN, NaN, 3.0, \"More than 8 hours\", \"Healthy\", \"B.Ed\", \"No\", 2.0, 1.0, \"No\", 0], [17, \"Jiya\", \"Female\", 56.0, \"Meerut\", \"Working Professional\", \"Accountant\", NaN, 5.0, NaN, NaN, 3.0, \"7-8 hours\", \"Moderate\", \"B.Com\", \"No\", 0.0, 5.0, \"Yes\", 0], [18, \"Bhavesh\", \"Male\", 50.0, \"Agra\", \"Working Professional\", \"Entrepreneur\", NaN, 5.0, NaN, NaN, 2.0, \"7-8 hours\", \"Moderate\", \"BBA\", \"No\", 3.0, 2.0, \"Yes\", 0], [19, \"Armaan\", \"Male\", 45.0, \"Rajkot\", \"Working Professional\", \"Teacher\", NaN, 2.0, NaN, NaN, 4.0, \"5-6 hours\", \"Moderate\", \"MBA\", \"Yes\", 2.0, 3.0, \"No\", 0], [20, \"Ishaani\", \"Female\", 37.0, \"Surat\", \"Working Professional\", \"Teacher\", NaN, 3.0, NaN, NaN, 1.0, \"7-8 hours\", \"Healthy\", \"B.Ed\", \"No\", 5.0, 2.0, \"Yes\", 0], [21, \"Prachi\", \"Female\", 45.0, \"Faridabad\", \"Working Professional\", \"HR Manager\", NaN, 3.0, NaN, NaN, 1.0, \"7-8 hours\", \"Unhealthy\", \"MA\", \"Yes\", 6.0, 4.0, \"Yes\", 0], [22, \"Pratyush\", \"Male\", 37.0, \"Meerut\", \"Working Professional\", \"Teacher\", NaN, 5.0, NaN, NaN, 5.0, \"5-6 hours\", \"Healthy\", \"B.Arch\", \"No\", 9.0, 2.0, \"Yes\", 0], [23, \"Aishwarya\", \"Female\", 46.0, \"Hyderabad\", \"Working Professional\", \"UX/UI Designer\", NaN, 2.0, NaN, NaN, 3.0, \"5-6 hours\", \"Healthy\", \"BCA\", \"No\", 7.0, 5.0, \"No\", 0], [24, \"Abhinav\", \"Male\", 39.0, \"Pune\", \"Working Professional\", \"Content Writer\", NaN, 5.0, NaN, NaN, 2.0, \"More than 8 hours\", \"Healthy\", \"M.Com\", \"Yes\", 7.0, 2.0, \"Yes\", 0], [25, \"Siddhesh\", \"Male\", 38.0, \"Thane\", \"Working Professional\", \"Chef\", NaN, 2.0, NaN, NaN, 1.0, \"More than 8 hours\", \"Healthy\", \"MHM\", \"Yes\", 2.0, 2.0, \"No\", 0], [26, \"Aditya\", \"Male\", 31.0, \"Srinagar\", \"Student\", \"NaN\", 3.0, NaN, 7.03, 5.0, NaN, \"Less than 5 hours\", \"Healthy\", \"BA\", \"No\", 9.0, 1.0, \"Yes\", 0], [27, \"Aarav\", \"Male\", 50.0, \"Ghaziabad\", \"Working Professional\", \"HR Manager\", NaN, 5.0, NaN, NaN, 3.0, \"Less than 5 hours\", \"Healthy\", \"MA\", \"Yes\", 12.0, 5.0, \"Yes\", 1], [28, \"Asha\", \"Female\", 47.0, \"Kolkata\", \"Working Professional\", \"Entrepreneur\", NaN, 3.0, NaN, NaN, 5.0, \"7-8 hours\", \"Moderate\", \"BSc\", \"No\", 5.0, 1.0, \"No\", 0], [29, \"Kashish\", \"Female\", 19.0, \"Agra\", \"Working Professional\", \"NaN\", NaN, 1.0, NaN, NaN, 5.0, \"More than 8 hours\", \"Healthy\", \"Class 12\", \"No\", 5.0, 2.0, \"No\", 0], [30, \"Prisha\", \"Female\", 28.0, \"Varanasi\", \"Student\", \"NaN\", 3.0, NaN, 5.59, 2.0, NaN, \"7-8 hours\", \"Moderate\", \"BCA\", \"Yes\", 4.0, 5.0, \"Yes\", 1], [31, \"Aaradhya\", \"Female\", 37.0, \"Pune\", \"Working Professional\", \"Chef\", NaN, 2.0, NaN, NaN, 1.0, \"7-8 hours\", \"Unhealthy\", \"BHM\", \"No\", 5.0, 3.0, \"Yes\", 0], [32, \"Chhavi\", \"Female\", 25.0, \"Jaipur\", \"Student\", \"NaN\", 4.0, NaN, 8.13, 3.0, NaN, \"5-6 hours\", \"Moderate\", \"M.Tech\", \"Yes\", 1.0, 1.0, \"No\", 0], [33, \"Tanmay\", \"Male\", 29.0, \"Pune\", \"Student\", \"NaN\", 2.0, NaN, 5.7, 3.0, NaN, \"Less than 5 hours\", \"Healthy\", \"PhD\", \"No\", 4.0, 1.0, \"No\", 0], [34, \"Vihaan\", \"Male\", 41.0, \"Chennai\", \"Working Professional\", \"Teacher\", NaN, 1.0, NaN, NaN, 4.0, \"7-8 hours\", \"Unhealthy\", \"LLB\", \"Yes\", 6.0, 5.0, \"No\", 0], [35, \"Shiv\", \"Male\", 45.0, \"Rajkot\", \"Working Professional\", \"Chemist\", NaN, 1.0, NaN, NaN, 4.0, \"7-8 hours\", \"Moderate\", \"B.Pharm\", \"Yes\", 9.0, 1.0, \"Yes\", 0], [36, \"Anvi\", \"Female\", 50.0, \"Kalyan\", \"Working Professional\", \"NaN\", NaN, 4.0, NaN, NaN, 4.0, \"7-8 hours\", \"Unhealthy\", \"Class 12\", \"No\", 0.0, 2.0, \"No\", 0], [37, \"Darsh\", \"Male\", 51.0, \"Nagpur\", \"Working Professional\", \"Educational Consultant\", NaN, 1.0, NaN, NaN, 5.0, \"7-8 hours\", \"Unhealthy\", \"B.Ed\", \"Yes\", 0.0, 4.0, \"No\", 0], [38, \"Samar\", \"Male\", 45.0, \"Mumbai\", \"Working Professional\", \"Civil Engineer\", NaN, 3.0, NaN, NaN, 2.0, \"Less than 5 hours\", \"Healthy\", \"MCA\", \"No\", 9.0, 5.0, \"No\", 0], [39, \"Raunak\", \"Male\", 59.0, \"Jaipur\", \"Working Professional\", \"Manager\", NaN, 4.0, NaN, NaN, 1.0, \"Less than 5 hours\", \"Unhealthy\", \"BHM\", \"Yes\", 2.0, 4.0, \"No\", 0], [40, \"Armaan\", \"Male\", 51.0, \"Nashik\", \"Working Professional\", \"Electrician\", NaN, 2.0, NaN, NaN, 4.0, \"7-8 hours\", \"Healthy\", \"ME\", \"No\", 1.0, 2.0, \"Yes\", 0], [41, \"Mahi\", \"Female\", 47.0, \"Ludhiana\", \"Working Professional\", \"Pharmacist\", NaN, 4.0, NaN, NaN, 1.0, \"Less than 5 hours\", \"Healthy\", \"B.Pharm\", \"Yes\", 9.0, 2.0, \"Yes\", 0], [42, \"Shaurya\", \"Male\", 60.0, \"Ludhiana\", \"Working Professional\", \"Manager\", NaN, 4.0, NaN, NaN, 1.0, \"5-6 hours\", \"Moderate\", \"MHM\", \"Yes\", 3.0, 2.0, \"No\", 0], [43, \"Vidya\", \"Female\", 18.0, \"Vadodara\", \"Working Professional\", \"NaN\", NaN, 5.0, NaN, NaN, 4.0, \"Less than 5 hours\", \"Moderate\", \"Class 12\", \"Yes\", 10.0, 5.0, \"No\", 1], [44, \"Jai\", \"Male\", 55.0, \"Jaipur\", \"Working Professional\", \"Civil Engineer\", NaN, 1.0, NaN, NaN, 1.0, \"7-8 hours\", \"Unhealthy\", \"BBA\", \"Yes\", 0.0, 2.0, \"No\", 0], [45, \"Ayush\", \"Male\", 36.0, \"Ludhiana\", \"Working Professional\", \"Marketing Manager\", NaN, 1.0, NaN, NaN, 2.0, \"7-8 hours\", \"Healthy\", \"BA\", \"Yes\", 0.0, 2.0, \"Yes\", 0], [46, \"Ansh\", \"Male\", 49.0, \"Meerut\", \"Working Professional\", \"Teacher\", NaN, 2.0, NaN, NaN, 1.0, \"7-8 hours\", \"Moderate\", \"M.Ed\", \"Yes\", 0.0, 1.0, \"Yes\", 0], [47, \"Vani\", \"Female\", 50.0, \"Nashik\", \"Working Professional\", \"Pharmacist\", NaN, 1.0, NaN, NaN, 3.0, \"7-8 hours\", \"Unhealthy\", \"MA\", \"Yes\", 10.0, 2.0, \"Yes\", 0], [48, \"Anand\", \"Male\", 38.0, \"Ghaziabad\", \"Working Professional\", \"NaN\", NaN, 2.0, NaN, NaN, 5.0, \"5-6 hours\", \"Moderate\", \"Class 12\", \"No\", 1.0, 1.0, \"Yes\", 0], [49, \"Yashvi\", \"Female\", 39.0, \"Vasai-Virar\", \"Working Professional\", \"Financial Analyst\", NaN, 2.0, NaN, NaN, 2.0, \"7-8 hours\", \"Moderate\", \"B.Com\", \"No\", 0.0, 1.0, \"Yes\", 0], [50, \"Raunak\", \"Male\", 21.0, \"Pune\", \"Working Professional\", \"NaN\", NaN, 4.0, NaN, NaN, 5.0, \"5-6 hours\", \"Healthy\", \"Class 12\", \"Yes\", 8.0, 5.0, \"Yes\", 0], [51, \"Aarav\", \"Male\", 58.0, \"Kalyan\", \"Working Professional\", \"Architect\", NaN, 2.0, NaN, NaN, 1.0, \"More than 8 hours\", \"Unhealthy\", \"B.Arch\", \"Yes\", 4.0, 1.0, \"Yes\", 0], [52, \"Shrey\", \"Male\", 30.0, \"Thane\", \"Student\", \"NaN\", 3.0, NaN, 9.54, 4.0, NaN, \"7-8 hours\", \"Healthy\", \"BSc\", \"No\", 1.0, 2.0, \"No\", 0], [53, \"Ritika\", \"Female\", 44.0, \"Ludhiana\", \"Working Professional\", \"Teacher\", NaN, 5.0, NaN, NaN, 2.0, \"7-8 hours\", \"Unhealthy\", \"B.Pharm\", \"No\", 9.0, 1.0, \"Yes\", 0], [54, \"Mihir\", \"Male\", 31.0, \"Patna\", \"Working Professional\", \"Mechanical Engineer\", NaN, 2.0, NaN, NaN, 5.0, \"Less than 5 hours\", \"Healthy\", \"PhD\", \"No\", 0.0, 3.0, \"Yes\", 0], [55, \"Ayush\", \"Male\", 56.0, \"Kanpur\", \"Working Professional\", \"Plumber\", NaN, 2.0, NaN, NaN, 3.0, \"Less than 5 hours\", \"Moderate\", \"MCA\", \"No\", 10.0, 3.0, \"No\", 0], [56, \"Isha\", \"Female\", 30.0, \"Chennai\", \"Student\", \"NaN\", 2.0, NaN, 8.04, 4.0, NaN, \"Less than 5 hours\", \"Unhealthy\", \"Class 12\", \"No\", 0.0, 1.0, \"Yes\", 0], [57, \"Arjun\", \"Male\", 47.0, \"Lucknow\", \"Working Professional\", \"Teacher\", NaN, 2.0, NaN, NaN, 3.0, \"More than 8 hours\", \"Healthy\", \"MCA\", \"Yes\", 12.0, 4.0, \"No\", 0], [58, \"Vani\", \"Female\", 23.0, \"Agra\", \"Working Professional\", \"HR Manager\", NaN, 5.0, NaN, NaN, 2.0, \"5-6 hours\", \"Healthy\", \"MSc\", \"Yes\", 3.0, 4.0, \"No\", 1], [59, \"Rohan\", \"Male\", 28.0, \"Nagpur\", \"Student\", \"NaN\", 3.0, NaN, 9.79, 1.0, NaN, \"7-8 hours\", \"Moderate\", \"B.Ed\", \"Yes\", 12.0, 3.0, \"No\", 1], [60, \"Vivan\", \"Male\", 25.0, \"Hyderabad\", \"Working Professional\", \"Teacher\", NaN, 5.0, NaN, NaN, 2.0, \"7-8 hours\", \"Unhealthy\", \"B.Arch\", \"No\", 4.0, 5.0, \"Yes\", 1], [61, \"Pratham\", \"Male\", 43.0, \"Patna\", \"Working Professional\", \"Architect\", NaN, 4.0, NaN, NaN, 1.0, \"Less than 5 hours\", \"Healthy\", \"BSc\", \"No\", 0.0, 3.0, \"No\", 0], [62, \"Nirvaan\", \"Male\", 31.0, \"Nashik\", \"Student\", \"NaN\", 2.0, NaN, 8.38, 3.0, NaN, \"Less than 5 hours\", \"Moderate\", \"LLB\", \"Yes\", 2.0, 5.0, \"No\", 1], [63, \"Ishaan\", \"Male\", 40.0, \"Ludhiana\", \"Working Professional\", \"Marketing Manager\", NaN, 3.0, NaN, NaN, 3.0, \"Less than 5 hours\", \"Unhealthy\", \"BA\", \"No\", 1.0, 5.0, \"Yes\", 0], [64, \"Aarya\", \"Female\", 28.0, \"Chennai\", \"Working Professional\", \"Electrician\", NaN, 3.0, NaN, NaN, 2.0, \"5-6 hours\", \"Moderate\", \"BCA\", \"No\", 9.0, 1.0, \"Yes\", 0], [65, \"Riya\", \"Female\", 35.0, \"Rajkot\", \"Working Professional\", \"Mechanical Engineer\", NaN, 4.0, NaN, NaN, 1.0, \"5-6 hours\", \"Healthy\", \"BSc\", \"Yes\", 4.0, 4.0, \"No\", 0], [66, \"Aariv\", \"Male\", 54.0, \"Meerut\", \"Working Professional\", \"Chef\", NaN, 1.0, NaN, NaN, 2.0, \"5-6 hours\", \"Moderate\", \"BHM\", \"No\", 1.0, 3.0, \"No\", 0], [67, \"Raghavendra\", \"Male\", 50.0, \"Vasai-Virar\", \"Working Professional\", \"Customer Support\", NaN, 4.0, NaN, NaN, 3.0, \"7-8 hours\", \"Healthy\", \"BA\", \"No\", 7.0, 4.0, \"No\", 0], [68, \"Armaan\", \"Male\", 46.0, \"Ludhiana\", \"Working Professional\", \"Consultant\", NaN, 1.0, NaN, NaN, 3.0, \"Less than 5 hours\", \"Healthy\", \"PhD\", \"Yes\", 3.0, 3.0, \"No\", 0], [69, \"Mahika\", \"Female\", 51.0, \"Agra\", \"Working Professional\", \"Teacher\", NaN, 2.0, NaN, NaN, 4.0, \"5-6 hours\", \"Healthy\", \"B.Ed\", \"No\", 0.0, 2.0, \"No\", 0], [70, \"Abhishek\", \"Male\", 18.0, \"Vasai-Virar\", \"Working Professional\", \"NaN\", NaN, 5.0, NaN, NaN, 2.0, \"Less than 5 hours\", \"Moderate\", \"Class 12\", \"Yes\", 6.0, 4.0, \"No\", 1], [71, \"Jiya\", \"Female\", 38.0, \"Vadodara\", \"Working Professional\", \"Architect\", NaN, 4.0, NaN, NaN, 2.0, \"7-8 hours\", \"Healthy\", \"MCA\", \"Yes\", 11.0, 5.0, \"Yes\", 0], [72, \"Armaan\", \"Male\", 54.0, \"Vasai-Virar\", \"Working Professional\", \"Teacher\", NaN, 2.0, NaN, NaN, 3.0, \"5-6 hours\", \"Moderate\", \"B.Arch\", \"No\", 6.0, 1.0, \"No\", 0], [73, \"Harshil\", \"Male\", 44.0, \"Kolkata\", \"Working Professional\", \"Consultant\", NaN, 3.0, NaN, NaN, 5.0, \"5-6 hours\", \"Healthy\", \"BBA\", \"No\", 1.0, 3.0, \"No\", 0], [74, \"Rohan\", \"Male\", 41.0, \"Thane\", \"Working Professional\", \"Content Writer\", NaN, 1.0, NaN, NaN, 2.0, \"5-6 hours\", \"Unhealthy\", \"ME\", \"Yes\", 6.0, 2.0, \"Yes\", 0], [75, \"Janvi\", \"Female\", 59.0, \"Agra\", \"Working Professional\", \"Marketing Manager\", NaN, 5.0, NaN, NaN, 3.0, \"7-8 hours\", \"Healthy\", \"BA\", \"Yes\", 5.0, 4.0, \"Yes\", 0], [76, \"Aariv\", \"Male\", 54.0, \"Delhi\", \"Working Professional\", \"Content Writer\", NaN, 4.0, NaN, NaN, 2.0, \"7-8 hours\", \"Unhealthy\", \"B.Ed\", \"No\", 12.0, 5.0, \"Yes\", 0], [77, \"Kartikeya\", \"Male\", 45.0, \"Rajkot\", \"Working Professional\", \"Architect\", NaN, 1.0, NaN, NaN, 5.0, \"7-8 hours\", \"Unhealthy\", \"B.Arch\", \"Yes\", 6.0, 3.0, \"Yes\", 0], [78, \"Shivam\", \"Male\", 46.0, \"Surat\", \"Working Professional\", \"Educational Consultant\", NaN, 2.0, NaN, NaN, 2.0, \"7-8 hours\", \"Moderate\", \"B.Ed\", \"No\", 10.0, 1.0, \"Yes\", 0], [79, \"Advait\", \"Male\", 45.0, \"Bangalore\", \"Working Professional\", \"Teacher\", NaN, 2.0, NaN, NaN, 4.0, \"7-8 hours\", \"Unhealthy\", \"B.Pharm\", \"No\", 11.0, 4.0, \"No\", 0], [80, \"Samar\", \"Male\", 21.0, \"Thane\", \"Working Professional\", \"NaN\", NaN, 4.0, NaN, NaN, 4.0, \"5-6 hours\", \"Unhealthy\", \"Class 12\", \"No\", 1.0, 2.0, \"No\", 0], [81, \"Reyansh\", \"Male\", 19.0, \"Nagpur\", \"Working Professional\", \"NaN\", NaN, 5.0, NaN, NaN, 4.0, \"Less than 5 hours\", \"Moderate\", \"Class 12\", \"Yes\", 11.0, 2.0, \"No\", 1], [82, \"Saanvi\", \"Female\", 49.0, \"Hyderabad\", \"Working Professional\", \"NaN\", NaN, 1.0, NaN, NaN, 5.0, \"5-6 hours\", \"Moderate\", \"Class 12\", \"No\", 0.0, 3.0, \"No\", 0], [83, \"Ivaan\", \"Male\", 24.0, \"Nagpur\", \"Student\", \"NaN\", 3.0, NaN, 6.1, 3.0, NaN, \"5-6 hours\", \"Moderate\", \"Class 12\", \"Yes\", 11.0, 1.0, \"Yes\", 1], [84, \"Pallavi\", \"Female\", 47.0, \"Nagpur\", \"Working Professional\", \"Teacher\", NaN, 5.0, NaN, NaN, 5.0, \"7-8 hours\", \"Unhealthy\", \"BSc\", \"No\", 0.0, 5.0, \"Yes\", 0], [85, \"Rohan\", \"Male\", 51.0, \"Hyderabad\", \"Working Professional\", \"Judge\", NaN, 3.0, NaN, NaN, 5.0, \"5-6 hours\", \"Healthy\", \"LLB\", \"No\", 11.0, 1.0, \"Yes\", 0], [86, \"Aaradhya\", \"Female\", 30.0, \"Vadodara\", \"Working Professional\", \"Teacher\", NaN, 2.0, NaN, NaN, 4.0, \"Less than 5 hours\", \"Unhealthy\", \"B.Arch\", \"No\", 10.0, 2.0, \"No\", 0], [87, \"Samar\", \"Male\", 54.0, \"Jaipur\", \"Working Professional\", \"Researcher\", NaN, 2.0, NaN, NaN, 4.0, \"5-6 hours\", \"Unhealthy\", \"M.Tech\", \"No\", 2.0, 2.0, \"No\", 0], [88, \"Sneha\", \"Female\", 60.0, \"Rajkot\", \"Working Professional\", \"UX/UI Designer\", NaN, 5.0, NaN, NaN, 3.0, \"7-8 hours\", \"Moderate\", \"MSc\", \"No\", 2.0, 1.0, \"Yes\", 0], [89, \"Ayaan\", \"Male\", 45.0, \"Bangalore\", \"Working Professional\", \"Teacher\", NaN, 1.0, NaN, NaN, 5.0, \"7-8 hours\", \"Moderate\", \"B.Arch\", \"No\", 2.0, 4.0, \"Yes\", 0], [90, \"Ayush\", \"Male\", 24.0, \"Chennai\", \"Working Professional\", \"Teacher\", NaN, 4.0, NaN, NaN, 3.0, \"5-6 hours\", \"Healthy\", \"B.Ed\", \"Yes\", 8.0, 4.0, \"Yes\", 0], [91, \"Aakash\", \"Male\", 33.0, \"Vadodara\", \"Student\", \"NaN\", 3.0, NaN, 7.03, 4.0, NaN, \"Less than 5 hours\", \"Healthy\", \"BE\", \"Yes\", 10.0, 2.0, \"Yes\", 0], [92, \"Raghav\", \"Male\", 54.0, \"Nagpur\", \"Working Professional\", \"Content Writer\", NaN, 2.0, NaN, NaN, 1.0, \"More than 8 hours\", \"Unhealthy\", \"B.Tech\", \"No\", 3.0, 1.0, \"No\", 0], [93, \"Shiv\", \"Male\", 18.0, \"Thane\", \"Working Professional\", \"NaN\", NaN, 4.0, NaN, NaN, 2.0, \"7-8 hours\", \"Unhealthy\", \"Class 12\", \"No\", 2.0, 1.0, \"No\", 0], [94, \"Satyam\", \"Male\", 27.0, \"Kalyan\", \"Student\", \"NaN\", 5.0, NaN, 7.04, 1.0, NaN, \"Less than 5 hours\", \"Moderate\", \"M.Tech\", \"No\", 10.0, 1.0, \"Yes\", 1], [95, \"Shiv\", \"Male\", 36.0, \"Rajkot\", \"Working Professional\", \"Teacher\", NaN, 2.0, NaN, NaN, 5.0, \"More than 8 hours\", \"Healthy\", \"B.Ed\", \"Yes\", 10.0, 4.0, \"No\", 0], [96, \"Aarush\", \"Male\", 31.0, \"Ludhiana\", \"Working Professional\", \"Teacher\", NaN, 4.0, NaN, NaN, 3.0, \"5-6 hours\", \"Unhealthy\", \"B.Ed\", \"Yes\", 4.0, 2.0, \"No\", 0], [97, \"Vibha\", \"Female\", 52.0, \"Chennai\", \"Working Professional\", \"Data Scientist\", NaN, 1.0, NaN, NaN, 3.0, \"7-8 hours\", \"Moderate\", \"M.Tech\", \"No\", 1.0, 2.0, \"Yes\", 0], [98, \"Rupal\", \"Female\", 56.0, \"Lucknow\", \"Working Professional\", \"Educational Consultant\", NaN, 2.0, NaN, NaN, 2.0, \"Less than 5 hours\", \"Healthy\", \"B.Ed\", \"No\", 9.0, 2.0, \"No\", 0], [99, \"Vivan\", \"Male\", 36.0, \"Thane\", \"Working Professional\", \"Teacher\", NaN, 1.0, NaN, NaN, 2.0, \"Less than 5 hours\", \"Healthy\", \"B.Ed\", \"Yes\", 10.0, 3.0, \"Yes\", 0], [100, \"Sanya\", \"Female\", 19.0, \"Rajkot\", \"Student\", \"NaN\", 2.0, NaN, 8.52, 4.0, NaN, \"Less than 5 hours\", \"Unhealthy\", \"Class 12\", \"No\", 6.0, 2.0, \"Yes\", 0], [101, \"Mira\", \"Female\", 48.0, \"Ludhiana\", \"Working Professional\", \"NaN\", NaN, 3.0, NaN, NaN, 2.0, \"5-6 hours\", \"Healthy\", \"Class 12\", \"Yes\", 8.0, 4.0, \"Yes\", 1], [102, \"Shiv\", \"Male\", 56.0, \"Rajkot\", \"Working Professional\", \"Teacher\", NaN, 3.0, NaN, NaN, 3.0, \"7-8 hours\", \"Moderate\", \"B.Arch\", \"No\", 7.0, 3.0, \"No\", 0], [103, \"Rashi\", \"Female\", 19.0, \"Kalyan\", \"Student\", \"NaN\", 5.0, NaN, 5.64, 5.0, NaN, \"Less than 5 hours\", \"Moderate\", \"Class 12\", \"Yes\", 4.0, 5.0, \"Yes\", 1], [104, \"Shivam\", \"Male\", 43.0, \"Meerut\", \"Working Professional\", \"Judge\", NaN, 4.0, NaN, NaN, 2.0, \"7-8 hours\", \"Healthy\", \"LLM\", \"No\", 7.0, 3.0, \"No\", 0], [105, \"Bhavesh\", \"Male\", 57.0, \"Chennai\", \"Working Professional\", \"Consultant\", NaN, 3.0, NaN, NaN, 5.0, \"Less than 5 hours\", \"Unhealthy\", \"BE\", \"No\", 2.0, 3.0, \"No\", 0], [106, \"Shlok\", \"Male\", 29.0, \"Srinagar\", \"Student\", \"NaN\", 3.0, NaN, 8.58, 3.0, NaN, \"More than 8 hours\", \"Moderate\", \"M.Tech\", \"Yes\", 10.0, 2.0, \"Yes\", 1], [107, \"Vani\", \"Female\", 19.0, \"Srinagar\", \"Working Professional\", \"NaN\", NaN, 5.0, NaN, NaN, 5.0, \"7-8 hours\", \"Healthy\", \"Class 12\", \"Yes\", 11.0, 4.0, \"Yes\", 1], [108, \"Harsha\", \"Male\", 50.0, \"Delhi\", \"Working Professional\", \"Researcher\", NaN, 2.0, NaN, NaN, 1.0, \"Less than 5 hours\", \"Unhealthy\", \"B.Tech\", \"Yes\", 1.0, 2.0, \"Yes\", 0], [109, \"Rupal\", \"Female\", 37.0, \"Kanpur\", \"Working Professional\", \"Electrician\", NaN, 1.0, NaN, NaN, 4.0, \"5-6 hours\", \"Moderate\", \"BCA\", \"No\", 9.0, 5.0, \"No\", 0], [110, \"Raunak\", \"Male\", 38.0, \"Kanpur\", \"Working Professional\", \"Teacher\", NaN, 4.0, NaN, NaN, 1.0, \"5-6 hours\", \"Unhealthy\", \"B.Pharm\", \"No\", 3.0, 5.0, \"Yes\", 0], [111, \"Divya\", \"Female\", 37.0, \"Visakhapatnam\", \"Working Professional\", \"Architect\", NaN, 4.0, NaN, NaN, 1.0, \"More than 8 hours\", \"Moderate\", \"MSc\", \"No\", 12.0, 3.0, \"No\", 0], [112, \"Aariv\", \"Male\", 53.0, \"Delhi\", \"Working Professional\", \"HR Manager\", NaN, 4.0, NaN, NaN, 4.0, \"5-6 hours\", \"Healthy\", \"MA\", \"Yes\", 9.0, 3.0, \"Yes\", 0], [113, \"Aariv\", \"Male\", 34.0, \"Patna\", \"Working Professional\", \"Teacher\", NaN, 3.0, NaN, NaN, 5.0, \"More than 8 hours\", \"Moderate\", \"B.Ed\", \"Yes\", 10.0, 3.0, \"No\", 0], [114, \"Ishaan\", \"Male\", 57.0, \"Kanpur\", \"Working Professional\", \"HR Manager\", NaN, 1.0, NaN, NaN, 4.0, \"5-6 hours\", \"Moderate\", \"M.Tech\", \"No\", 11.0, 5.0, \"No\", 0], [115, \"Pranav\", \"Male\", 55.0, \"Patna\", \"Working Professional\", \"Content Writer\", NaN, 1.0, NaN, NaN, 4.0, \"Less than 5 hours\", \"Healthy\", \"BE\", \"No\", 9.0, 1.0, \"No\", 0], [116, \"Hrithik\", \"Male\", 53.0, \"Kolkata\", \"Working Professional\", \"Judge\", NaN, 4.0, NaN, NaN, 5.0, \"Less than 5 hours\", \"Unhealthy\", \"LLB\", \"No\", 0.0, 4.0, \"Yes\", 0], [117, \"Prachi\", \"Female\", 24.0, \"Bangalore\", \"Working Professional\", \"Teacher\", NaN, 1.0, NaN, NaN, 1.0, \"5-6 hours\", \"Unhealthy\", \"MBBS\", \"No\", 8.0, 3.0, \"No\", 0], [118, \"Prisha\", \"Female\", 59.0, \"Agra\", \"Working Professional\", \"Entrepreneur\", NaN, 2.0, NaN, NaN, 3.0, \"More than 8 hours\", \"Healthy\", \"BSc\", \"Yes\", 10.0, 2.0, \"No\", 0], [119, \"Aaradhya\", \"Female\", 51.0, \"Meerut\", \"Working Professional\", \"Marketing Manager\", NaN, 2.0, NaN, NaN, 5.0, \"7-8 hours\", \"Healthy\", \"BA\", \"No\", 9.0, 3.0, \"No\", 0], [120, \"Tushar\", \"Male\", 25.0, \"Nashik\", \"Student\", \"NaN\", 5.0, NaN, 6.51, 2.0, NaN, \"Less than 5 hours\", \"Unhealthy\", \"M.Ed\", \"Yes\", 2.0, 5.0, \"Yes\", 1], [121, \"Garima\", \"Female\", 18.0, \"Hyderabad\", \"Working Professional\", \"NaN\", NaN, 5.0, NaN, NaN, 4.0, \"7-8 hours\", \"Unhealthy\", \"Class 12\", \"Yes\", 7.0, 2.0, \"Yes\", 1], [122, \"Rashi\", \"Female\", 19.0, \"Ludhiana\", \"Working Professional\", \"NaN\", NaN, 2.0, NaN, NaN, 1.0, \"5-6 hours\", \"Healthy\", \"Class 12\", \"Yes\", 3.0, 1.0, \"Yes\", 0], [123, \"Abhishek\", \"Male\", 47.0, \"Kanpur\", \"Working Professional\", \"Teacher\", NaN, 4.0, NaN, NaN, 5.0, \"Less than 5 hours\", \"Unhealthy\", \"M.Pharm\", \"Yes\", 6.0, 4.0, \"Yes\", 0], [124, \"Shivam\", \"Male\", 44.0, \"Pune\", \"Working Professional\", \"Teacher\", NaN, 2.0, NaN, NaN, 1.0, \"7-8 hours\", \"Healthy\", \"B.Tech\", \"Yes\", 1.0, 3.0, \"No\", 0], [125, \"Divya\", \"Female\", 50.0, \"Bangalore\", \"Working Professional\", \"Content Writer\", NaN, 4.0, NaN, NaN, 5.0, \"Less than 5 hours\", \"Moderate\", \"BE\", \"No\", 4.0, 3.0, \"No\", 0], [126, \"Ishaani\", \"Female\", 29.0, \"Vasai-Virar\", \"Working Professional\", \"Marketing Manager\", NaN, 5.0, NaN, NaN, 5.0, \"More than 8 hours\", \"Healthy\", \"B.Com\", \"No\", 12.0, 1.0, \"Yes\", 0], [127, \"Anand\", \"Male\", 59.0, \"Mumbai\", \"Working Professional\", \"NaN\", NaN, 1.0, NaN, NaN, 5.0, \"Less than 5 hours\", \"Healthy\", \"Class 12\", \"Yes\", 5.0, 1.0, \"No\", 0], [128, \"Zoya\", \"Female\", 57.0, \"Pune\", \"Working Professional\", \"Consultant\", NaN, 2.0, NaN, NaN, 3.0, \"7-8 hours\", \"Healthy\", \"B.Com\", \"Yes\", 9.0, 3.0, \"No\", 0], [129, \"Kian\", \"Male\", 45.0, \"Kanpur\", \"Working Professional\", \"NaN\", NaN, 4.0, NaN, NaN, 3.0, \"5-6 hours\", \"Healthy\", \"Class 12\", \"Yes\", 2.0, 4.0, \"No\", 0], [130, \"Aakash\", \"Female\", 51.0, \"Vadodara\", \"Working Professional\", \"Teacher\", NaN, 2.0, NaN, NaN, 5.0, \"More than 8 hours\", \"Moderate\", \"B.Arch\", \"No\", 11.0, 1.0, \"No\", 0], [131, \"Vibha\", \"Female\", 57.0, \"Mumbai\", \"Working Professional\", \"Entrepreneur\", NaN, 1.0, NaN, NaN, 5.0, \"7-8 hours\", \"Unhealthy\", \"BSc\", \"Yes\", 8.0, 2.0, \"No\", 0], [132, \"Vani\", \"Female\", 20.0, \"Ahmedabad\", \"Student\", \"NaN\", 5.0, NaN, 7.25, 3.0, NaN, \"5-6 hours\", \"Healthy\", \"Class 12\", \"Yes\", 10.0, 3.0, \"No\", 1], [133, \"Reyansh\", \"Male\", 50.0, \"Vasai-Virar\", \"Working Professional\", \"Manager\", NaN, 5.0, NaN, NaN, 5.0, \"Less than 5 hours\", \"Healthy\", \"MHM\", \"No\", 12.0, 1.0, \"No\", 0], [134, \"Rohan\", \"Male\", 54.0, \"Thane\", \"Working Professional\", \"Finanancial Analyst\", NaN, 3.0, NaN, NaN, 5.0, \"7-8 hours\", \"Moderate\", \"B.Tech\", \"No\", 10.0, 2.0, \"No\", 0], [135, \"Rohan\", \"Male\", 54.0, \"Jaipur\", \"Working Professional\", \"Pilot\", NaN, 3.0, NaN, NaN, 5.0, \"7-8 hours\", \"Healthy\", \"B.Tech\", \"No\", 7.0, 4.0, \"No\", 0], [136, \"Navya\", \"Female\", 52.0, \"Kolkata\", \"Working Professional\", \"NaN\", NaN, 3.0, NaN, NaN, 4.0, \"5-6 hours\", \"Moderate\", \"Class 12\", \"Yes\", 4.0, 4.0, \"No\", 0], [137, \"Lakshay\", \"Male\", 29.0, \"Kanpur\", \"Working Professional\", \"Business Analyst\", NaN, 5.0, NaN, NaN, 1.0, \"5-6 hours\", \"Unhealthy\", \"BE\", \"Yes\", 4.0, 3.0, \"Yes\", 1], [138, \"Aarush\", \"Male\", 25.0, \"Nashik\", \"Working Professional\", \"Graphic Designer\", NaN, 2.0, NaN, NaN, 2.0, \"5-6 hours\", \"Moderate\", \"B.Tech\", \"No\", 6.0, 5.0, \"No\", 1], [139, \"Advait\", \"Male\", 19.0, \"Chennai\", \"Student\", \"NaN\", 2.0, NaN, 7.83, 2.0, NaN, \"7-8 hours\", \"Unhealthy\", \"Class 12\", \"No\", 6.0, 3.0, \"No\", 0], [140, \"Kriti\", \"Female\", 36.0, \"Ahmedabad\", \"Working Professional\", \"Teacher\", NaN, 5.0, NaN, NaN, 2.0, \"More than 8 hours\", \"Moderate\", \"BA\", \"No\", 1.0, 2.0, \"Yes\", 0], [141, \"Asha\", \"Female\", 60.0, \"Bhopal\", \"Working Professional\", \"Travel Consultant\", NaN, 2.0, NaN, NaN, 2.0, \"7-8 hours\", \"Moderate\", \"MHM\", \"No\", 12.0, 2.0, \"Yes\", 0], [142, \"Raghav\", \"Male\", 53.0, \"Patna\", \"Working Professional\", \"Business Analyst\", NaN, 3.0, NaN, NaN, 4.0, \"Less than 5 hours\", \"Unhealthy\", \"ME\", \"No\", 4.0, 1.0, \"No\", 0], [143, \"Palak\", \"Female\", 46.0, \"Vadodara\", \"Working Professional\", \"Teacher\", NaN, 4.0, NaN, NaN, 1.0, \"Less than 5 hours\", \"Healthy\", \"B.Arch\", \"Yes\", 1.0, 5.0, \"No\", 0], [144, \"Rohan\", \"Male\", 28.0, \"Lucknow\", \"Working Professional\", \"Digital Marketer\", NaN, 2.0, NaN, NaN, 5.0, \"Less than 5 hours\", \"Unhealthy\", \"B.Com\", \"Yes\", 0.0, 1.0, \"No\", 1], [145, \"Aryan\", \"Male\", 25.0, \"Kalyan\", \"Student\", \"NaN\", 3.0, NaN, 9.93, 3.0, NaN, \"5-6 hours\", \"Moderate\", \"B.Ed\", \"No\", 8.0, 3.0, \"Yes\", 1], [146, \"Parth\", \"Male\", 34.0, \"Agra\", \"Working Professional\", \"Teacher\", NaN, 3.0, NaN, NaN, 5.0, \"More than 8 hours\", \"Healthy\", \"LLB\", \"No\", 11.0, 3.0, \"No\", 0], [147, \"Ishan\", \"Male\", 51.0, \"Kanpur\", \"Working Professional\", \"Manager\", NaN, 4.0, NaN, NaN, 3.0, \"7-8 hours\", \"Healthy\", \"MHM\", \"No\", 1.0, 2.0, \"No\", 0], [148, \"Divya\", \"Female\", 43.0, \"Pune\", \"Working Professional\", \"Content Writer\", NaN, 5.0, NaN, NaN, 4.0, \"Less than 5 hours\", \"Unhealthy\", \"B.Ed\", \"No\", 7.0, 2.0, \"No\", 0], [149, \"Rupak\", \"Male\", 46.0, \"Pune\", \"Working Professional\", \"Content Writer\", NaN, 2.0, NaN, NaN, 4.0, \"7-8 hours\", \"Healthy\", \"M.Ed\", \"No\", 11.0, 3.0, \"No\", 0], [150, \"Raghavendra\", \"Male\", 48.0, \"Varanasi\", \"Working Professional\", \"Content Writer\", NaN, 4.0, NaN, NaN, 2.0, \"5-6 hours\", \"Healthy\", \"B.Ed\", \"Yes\", 6.0, 1.0, \"Yes\", 0], [151, \"Aaradhya\", \"Female\", 42.0, \"Vasai-Virar\", \"Working Professional\", \"Finanancial Analyst\", NaN, 5.0, NaN, NaN, 1.0, \"5-6 hours\", \"Healthy\", \"BCA\", \"Yes\", 8.0, 1.0, \"Yes\", 0], [152, \"Atharv\", \"Male\", 60.0, \"Varanasi\", \"Working Professional\", \"Travel Consultant\", NaN, 1.0, NaN, NaN, 5.0, \"7-8 hours\", \"Moderate\", \"MHM\", \"No\", 0.0, 2.0, \"No\", 0], [153, \"Shaurya\", \"Male\", 22.0, \"Surat\", \"Working Professional\", \"Teacher\", NaN, 5.0, NaN, NaN, 1.0, \"7-8 hours\", \"Healthy\", \"BCA\", \"No\", 11.0, 1.0, \"Yes\", 1], [154, \"Aarti\", \"Female\", 43.0, \"Delhi\", \"Working Professional\", \"Content Writer\", NaN, 3.0, NaN, NaN, 5.0, \"7-8 hours\", \"Unhealthy\", \"ME\", \"Yes\", 12.0, 2.0, \"Yes\", 0], [155, \"Anirudh\", \"Male\", 43.0, \"Lucknow\", \"Working Professional\", \"Lawyer\", NaN, 5.0, NaN, NaN, 1.0, \"5-6 hours\", \"Healthy\", \"LLM\", \"No\", 10.0, 4.0, \"No\", 0], [156, \"Kabir\", \"Male\", 55.0, \"Ghaziabad\", \"Working Professional\", \"Customer Support\", NaN, 4.0, NaN, NaN, 2.0, \"More than 8 hours\", \"Unhealthy\", \"BA\", \"No\", 11.0, 2.0, \"Yes\", 0], [157, \"Aariv\", \"Male\", 23.0, \"Rajkot\", \"Working Professional\", \"Architect\", NaN, 3.0, NaN, NaN, 2.0, \"7-8 hours\", \"Moderate\", \"B.Arch\", \"No\", 5.0, 1.0, \"No\", 0], [158, \"Shiv\", \"Male\", 56.0, \"Pune\", \"Working Professional\", \"Civil Engineer\", NaN, 2.0, NaN, NaN, 3.0, \"5-6 hours\", \"Healthy\", \"M.Tech\", \"Yes\", 12.0, 4.0, \"Yes\", 0], [159, \"Rhea\", \"Female\", 45.0, \"Ludhiana\", \"Working Professional\", \"Teacher\", NaN, 2.0, NaN, NaN, 5.0, \"More than 8 hours\", \"Healthy\", \"B.Arch\", \"Yes\", 6.0, 4.0, \"Yes\", 0], [160, \"Jai\", \"Male\", 46.0, \"Jaipur\", \"Working Professional\", \"Civil Engineer\", NaN, 3.0, NaN, NaN, 1.0, \"7-8 hours\", \"Healthy\", \"M.Tech\", \"No\", 10.0, 3.0, \"No\", 0], [161, \"Ritvik\", \"Male\", 29.0, \"Kolkata\", \"Student\", \"NaN\", 3.0, NaN, 8.74, 4.0, NaN, \"5-6 hours\", \"Moderate\", \"B.Ed\", \"Yes\", 1.0, 1.0, \"No\", 0], [162, \"Ritvik\", \"Male\", 29.0, \"Kolkata\", \"Student\", \"NaN\", 3.0, NaN, 6.73, 3.0, NaN, \"7-8 hours\", \"Moderate\", \"M.Tech\", \"No\", 0.0, 1.0, \"No\", 0], [163, \"Sanjeev\", \"Male\", 49.0, \"Delhi\", \"Working Professional\", \"Pharmacist\", NaN, 2.0, NaN, NaN, 2.0, \"More than 8 hours\", \"Moderate\", \"B.Pharm\", \"Yes\", 11.0, 5.0, \"No\", 0], [164, \"Armaan\", \"Male\", 38.0, \"Pune\", \"Working Professional\", \"Chef\", NaN, 4.0, NaN, NaN, 4.0, \"7-8 hours\", \"Healthy\", \"BHM\", \"No\", 7.0, 5.0, \"No\", 0], [165, \"Sanket\", \"Male\", 22.0, \"Chennai\", \"Working Professional\", \"Content Writer\", NaN, 2.0, NaN, NaN, 5.0, \"5-6 hours\", \"Moderate\", \"BCA\", \"Yes\", 9.0, 2.0, \"Yes\", 0], [166, \"Tara\", \"Female\", 25.0, \"Ahmedabad\", \"Student\", \"NaN\", 3.0, NaN, 5.57, 3.0, NaN, \"More than 8 hours\", \"Unhealthy\", \"MSc\", \"Yes\", 10.0, 5.0, \"No\", 1], [167, \"Tushar\", \"Male\", 38.0, \"Visakhapatnam\", \"Working Professional\", \"Chemist\", NaN, 4.0, NaN, NaN, 5.0, \"7-8 hours\", \"Moderate\", \"B.Pharm\", \"No\", 10.0, 5.0, \"Yes\", 0], [168, \"Rashi\", \"Female\", 38.0, \"Faridabad\", \"Working Professional\", \"Consultant\", NaN, 4.0, NaN, NaN, 4.0, \"7-8 hours\", \"Unhealthy\", \"MCA\", \"No\", 9.0, 5.0, \"Yes\", 0], [169, \"Ishaani\", \"Female\", 42.0, \"Kalyan\", \"Working Professional\", \"Finanancial Analyst\", NaN, 5.0, NaN, NaN, 1.0, \"More than 8 hours\", \"Healthy\", \"MSc\", \"Yes\", 1.0, 5.0, \"No\", 0], [170, \"Gagan\", \"Male\", 36.0, \"Delhi\", \"Working Professional\", \"Content Writer\", NaN, 2.0, NaN, NaN, 2.0, \"5-6 hours\", \"Moderate\", \"M.Ed\", \"Yes\", 4.0, 4.0, \"Yes\", 0], [171, \"Anjali\", \"Female\", 35.0, \"Chennai\", \"Working Professional\", \"Lawyer\", NaN, 4.0, NaN, NaN, 1.0, \"5-6 hours\", \"Moderate\", \"LLB\", \"No\", 10.0, 1.0, \"Yes\", 0], [172, \"Kartikeya\", \"Male\", 23.0, \"Thane\", \"Student\", \"NaN\", 1.0, NaN, 8.59, 4.0, NaN, \"7-8 hours\", \"Healthy\", \"BHM\", \"No\", 11.0, 3.0, \"No\", 0], [173, \"Hrithik\", \"Male\", 18.0, \"Bangalore\", \"Student\", \"NaN\", 4.0, NaN, 7.1, 3.0, NaN, \"More than 8 hours\", \"Unhealthy\", \"Class 12\", \"Yes\", 11.0, 5.0, \"Yes\", 1], [174, \"Gaurav\", \"Male\", 18.0, \"Chennai\", \"Working Professional\", \"NaN\", NaN, 5.0, NaN, NaN, 3.0, \"Less than 5 hours\", \"Unhealthy\", \"Class 12\", \"No\", 3.0, 5.0, \"No\", 1], [175, \"Rashi\", \"Female\", 28.0, \"Ludhiana\", \"Working Professional\", \"Educational Consultant\", NaN, 2.0, NaN, NaN, 5.0, \"5-6 hours\", \"Healthy\", \"B.Ed\", \"Yes\", 9.0, 5.0, \"Yes\", 0], [176, \"Aditi\", \"Female\", 20.0, \"Mumbai\", \"Student\", \"NaN\", 5.0, NaN, 8.58, 5.0, NaN, \"7-8 hours\", \"Moderate\", \"Class 12\", \"No\", 2.0, 2.0, \"Yes\", 1], [177, \"Janvi\", \"Female\", 47.0, \"Nagpur\", \"Working Professional\", \"HR Manager\", NaN, 4.0, NaN, NaN, 3.0, \"5-6 hours\", \"Healthy\", \"BA\", \"Yes\", 3.0, 2.0, \"Yes\", 0], [178, \"Asha\", \"Female\", 46.0, \"Chennai\", \"Working Professional\", \"Mechanical Engineer\", NaN, 4.0, NaN, NaN, 4.0, \"Less than 5 hours\", \"Healthy\", \"BSc\", \"Yes\", 0.0, 1.0, \"No\", 0], [179, \"Siddhesh\", \"Male\", 31.0, \"Rajkot\", \"Working Professional\", \"Finanancial Analyst\", NaN, 5.0, NaN, NaN, 2.0, \"Less than 5 hours\", \"Moderate\", \"PhD\", \"Yes\", 3.0, 2.0, \"Yes\", 0], [180, \"Riya\", \"Female\", 40.0, \"Mumbai\", \"Working Professional\", \"Chef\", NaN, 3.0, NaN, NaN, 4.0, \"7-8 hours\", \"Moderate\", \"BHM\", \"Yes\", 11.0, 5.0, \"Yes\", 1], [181, \"Vikram\", \"Male\", 50.0, \"Kolkata\", \"Working Professional\", \"Customer Support\", NaN, 2.0, NaN, NaN, 5.0, \"7-8 hours\", \"Healthy\", \"BA\", \"Yes\", 2.0, 4.0, \"No\", 0], [182, \"Yogesh\", \"Male\", 56.0, \"Ahmedabad\", \"Working Professional\", \"Pharmacist\", NaN, 2.0, NaN, NaN, 5.0, \"Less than 5 hours\", \"Unhealthy\", \"MBBS\", \"No\", 4.0, 5.0, \"Yes\", 0], [183, \"Pratyush\", \"Male\", 57.0, \"Visakhapatnam\", \"Working Professional\", \"Manager\", NaN, 4.0, NaN, NaN, 2.0, \"5-6 hours\", \"Unhealthy\", \"MHM\", \"Yes\", 9.0, 4.0, \"Yes\", 0], [184, \"Ila\", \"Female\", 49.0, \"Nashik\", \"Working Professional\", \"Entrepreneur\", NaN, 2.0, NaN, NaN, 5.0, \"More than 8 hours\", \"Unhealthy\", \"B.Tech\", \"No\", 1.0, 4.0, \"Yes\", 0], [185, \"Rishi\", \"Male\", 55.0, \"Hyderabad\", \"Working Professional\", \"Content Writer\", NaN, 2.0, NaN, NaN, 2.0, \"Less than 5 hours\", \"Unhealthy\", \"B.Ed\", \"No\", 11.0, 3.0, \"No\", 0], [186, \"Pratham\", \"Male\", 31.0, \"Ahmedabad\", \"Student\", \"NaN\", 2.0, NaN, 6.08, 5.0, NaN, \"7-8 hours\", \"Moderate\", \"LLB\", \"Yes\", 3.0, 3.0, \"Yes\", 1], [187, \"Aditi\", \"Female\", 39.0, \"Ludhiana\", \"Working Professional\", \"Data Scientist\", NaN, 4.0, NaN, NaN, 3.0, \"5-6 hours\", \"Unhealthy\", \"MCA\", \"No\", 5.0, 5.0, \"No\", 0], [188, \"Ayansh\", \"Male\", 50.0, \"Patna\", \"Working Professional\", \"Teacher\", NaN, 1.0, NaN, NaN, 3.0, \"Less than 5 hours\", \"Moderate\", \"B.Ed\", \"Yes\", 0.0, 2.0, \"No\", 0], [189, \"Armaan\", \"Male\", 59.0, \"Indore\", \"Working Professional\", \"Chemist\", NaN, 5.0, NaN, NaN, 4.0, \"More than 8 hours\", \"Moderate\", \"M.Pharm\", \"No\", 10.0, 4.0, \"Yes\", 0], [190, \"Vidya\", \"Female\", 39.0, \"Lucknow\", \"Working Professional\", \"Chef\", NaN, 1.0, NaN, NaN, 5.0, \"Less than 5 hours\", \"Unhealthy\", \"MHM\", \"Yes\", 4.0, 5.0, \"Yes\", 0], [191, \"Kolkata\", \"Male\", 54.0, \"Kolkata\", \"Working Professional\", \"Lawyer\", NaN, 1.0, NaN, NaN, 3.0, \"Less than 5 hours\", \"Unhealthy\", \"LLB\", \"Yes\", 2.0, 1.0, \"Yes\", 0], [192, \"Abhishek\", \"Male\", 29.0, \"Vasai-Virar\", \"Working Professional\", \"Judge\", NaN, 2.0, NaN, NaN, 3.0, \"More than 8 hours\", \"Moderate\", \"LLB\", \"Yes\", 8.0, 1.0, \"Yes\", 0], [193, \"Gaurav\", \"Male\", 25.0, \"Lucknow\", \"Student\", \"NaN\", 3.0, NaN, 7.25, 3.0, NaN, \"More than 8 hours\", \"Unhealthy\", \"M.Ed\", \"Yes\", 10.0, 5.0, \"No\", 1], [194, \"Kavya\", \"Female\", 54.0, \"Kolkata\", \"Working Professional\", \"Teacher\", NaN, 2.0, NaN, NaN, 2.0, \"5-6 hours\", \"Moderate\", \"B.Ed\", \"No\", 6.0, 4.0, \"Yes\", 0], [195, \"Shivam\", \"Male\", 38.0, \"Mumbai\", \"Working Professional\", \"Teacher\", NaN, 1.0, NaN, NaN, 2.0, \"7-8 hours\", \"Healthy\", \"BA\", \"No\", 2.0, 4.0, \"No\", 0], [196, \"Aanchal\", \"Female\", 33.0, \"Srinagar\", \"Working Professional\", \"Teacher\", NaN, 3.0, NaN, NaN, 4.0, \"7-8 hours\", \"Healthy\", \"B.Ed\", \"Yes\", 11.0, 5.0, \"No\", 0], [197, \"Vedant\", \"Male\", 46.0, \"Nashik\", \"Working Professional\", \"Financial Analyst\", NaN, 2.0, NaN, NaN, 1.0, \"More than 8 hours\", \"Healthy\", \"M.Com\", \"No\", 10.0, 3.0, \"Yes\", 0], [198, \"Abhishek\", \"Male\", 37.0, \"Jaipur\", \"Working Professional\", \"Teacher\", NaN, 3.0, NaN, NaN, 4.0, \"More than 8 hours\", \"Moderate\", \"M.Pharm\", \"Yes\", 2.0, 3.0, \"Yes\", 0], [199, \"Aariv\", \"Male\", 43.0, \"Patna\", \"Working Professional\", \"Teacher\", NaN, 1.0, NaN, NaN, 4.0, \"More than 8 hours\", \"Moderate\", \"B.Ed\", \"Yes\", 4.0, 5.0, \"Yes\", 0], [200, \"Samaira\", \"Female\", 60.0, \"Kalyan\", \"Working Professional\", \"Research Analyst\", NaN, 5.0, NaN, NaN, 2.0, \"5-6 hours\", \"Healthy\", \"MBA\", \"No\", 3.0, 2.0, \"No\", 0], [201, \"Harsh\", \"Male\", 48.0, \"Indore\", \"Working Professional\", \"Sales Executive\", NaN, 1.0, NaN, NaN, 1.0, \"7-8 hours\", \"Moderate\", \"M.Com\", \"Yes\", 12.0, 5.0, \"Yes\", 0], [202, \"Reyansh\", \"Male\", 43.0, \"Meerut\", \"Working Professional\", \"Customer Support\", NaN, 5.0, NaN, NaN, 3.0, \"5-6 hours\", \"Healthy\", \"B.Com\", \"No\", 12.0, 1.0, \"Yes\", 0], [203, \"Shiv\", \"Male\", 49.0, \"Bangalore\", \"Working Professional\", \"Chemist\", NaN, 2.0, NaN, NaN, 2.0, \"Less than 5 hours\", \"Moderate\", \"M.Pharm\", \"Yes\", 6.0, 1.0, \"No\", 0], [204, \"Nikita\", \"Female\", 45.0, \"Vadodara\", \"Working Professional\", \"Teacher\", NaN, 4.0, NaN, NaN, 2.0, \"More than 8 hours\", \"Healthy\", \"B.Arch\", \"No\", 2.0, 4.0, \"Yes\", 0], [140496, \"Jhanvi\", \"Female\", 40.0, \"Chennai\", \"Working Professional\", \"Researcher\", NaN, 4.0, NaN, NaN, 5.0, \"7-8 hours\", \"Healthy\", \"MCA\", \"No\", 4.0, 3.0, \"Yes\", 0], [140497, \"Ritik\", \"Male\", 43.0, \"Nagpur\", \"Working Professional\", \"Business Analyst\", NaN, 2.0, NaN, NaN, 3.0, \"5-6 hours\", \"Unhealthy\", \"B.Com\", \"Yes\", 4.0, 5.0, \"No\", 0], [140498, \"Raghavendra\", \"Male\", 54.0, \"Vadodara\", \"Working Professional\", \"HR Manager\", NaN, 2.0, NaN, NaN, 2.0, \"5-6 hours\", \"Moderate\", \"M.Tech\", \"Yes\", 4.0, 1.0, \"No\", 0], [140499, \"Yashvi\", \"Female\", 57.0, \"Thane\", \"Working Professional\", \"Teacher\", NaN, 1.0, NaN, NaN, 1.0, \"7-8 hours\", \"Unhealthy\", \"B.Pharm\", \"Yes\", 11.0, 1.0, \"Yes\", 0], [140500, \"Kartikeya\", \"Male\", 42.0, \"Kolkata\", \"Working Professional\", \"Manager\", NaN, 3.0, NaN, NaN, 5.0, \"Less than 5 hours\", \"Unhealthy\", \"BHM\", \"Yes\", 1.0, 3.0, \"Yes\", 0], [140501, \"Mira\", \"Female\", 33.0, \"Vasai-Virar\", \"Working Professional\", \"Content Writer\", NaN, 4.0, NaN, NaN, 4.0, \"Less than 5 hours\", \"Unhealthy\", \"M.Ed\", \"Yes\", 11.0, 5.0, \"No\", 0], [140502, \"Kartik\", \"Male\", 48.0, \"Pune\", \"Working Professional\", \"Investment Banker\", NaN, 1.0, NaN, NaN, 1.0, \"5-6 hours\", \"Healthy\", \"MBA\", \"No\", 10.0, 2.0, \"Yes\", 0], [140503, \"Aarush\", \"Male\", 22.0, \"Chennai\", \"Student\", \"NaN\", 2.0, NaN, 5.77, 1.0, NaN, \"5-6 hours\", \"Unhealthy\", \"M.Tech\", \"No\", 10.0, 1.0, \"No\", 0], [140504, \"Aarush\", \"Male\", 18.0, \"Ahmedabad\", \"Student\", \"NaN\", 3.0, NaN, 7.88, 4.0, NaN, \"7-8 hours\", \"Healthy\", \"Class 12\", \"Yes\", 10.0, 3.0, \"No\", 1], [140505, \"Ila\", \"Female\", 42.0, \"Kalyan\", \"Working Professional\", \"HR Manager\", NaN, 4.0, NaN, NaN, 2.0, \"More than 8 hours\", \"Healthy\", \"MSc\", \"No\", 8.0, 2.0, \"No\", 0], [140506, \"Darsh\", \"Male\", 58.0, \"Vasai-Virar\", \"Working Professional\", \"Researcher\", NaN, 4.0, NaN, NaN, 3.0, \"5-6 hours\", \"Moderate\", \"ME\", \"No\", 8.0, 4.0, \"Yes\", 0], [140507, \"Gauri\", \"Female\", 33.0, \"Chennai\", \"Student\", \"NaN\", 5.0, NaN, 5.86, 3.0, NaN, \"Less than 5 hours\", \"Unhealthy\", \"BCA\", \"Yes\", 12.0, 5.0, \"Yes\", 1], [140508, \"Tara\", \"Female\", 48.0, \"Mumbai\", \"Working Professional\", \"Manager\", NaN, 4.0, NaN, NaN, 1.0, \"5-6 hours\", \"Unhealthy\", \"MHM\", \"No\", 6.0, 4.0, \"Yes\", 0], [140509, \"Prachi\", \"Female\", 38.0, \"Kolkata\", \"Working Professional\", \"Pharmacist\", NaN, 3.0, NaN, NaN, 2.0, \"More than 8 hours\", \"Moderate\", \"MBBS\", \"Yes\", 7.0, 4.0, \"Yes\", 0], [140510, \"Riya\", \"Female\", 51.0, \"Mumbai\", \"Working Professional\", \"Entrepreneur\", NaN, 4.0, NaN, NaN, 3.0, \"Less than 5 hours\", \"Unhealthy\", \"B.Tech\", \"Yes\", 2.0, 5.0, \"No\", 0], [140511, \"Pallavi\", \"Female\", 38.0, \"Vadodara\", \"Working Professional\", \"Chef\", NaN, 3.0, NaN, NaN, 1.0, \"Less than 5 hours\", \"Healthy\", \"BHM\", \"Yes\", 1.0, 1.0, \"Yes\", 0], [140512, \"Arnav\", \"Male\", 30.0, \"Hyderabad\", \"Student\", \"NaN\", 5.0, NaN, 9.71, 2.0, NaN, \"7-8 hours\", \"Unhealthy\", \"M.Ed\", \"Yes\", 9.0, 5.0, \"No\", 1], [140513, \"Yamini\", \"Female\", 25.0, \"Visakhapatnam\", \"Student\", \"NaN\", 2.0, NaN, 8.7, 5.0, NaN, \"5-6 hours\", \"Healthy\", \"B.Ed\", \"Yes\", 1.0, 4.0, \"Yes\", 0], [140514, \"Aarti\", \"Female\", 24.0, \"Vasai-Virar\", \"Working Professional\", \"NaN\", NaN, 3.0, NaN, NaN, 3.0, \"More than 8 hours\", \"Healthy\", \"Class 12\", \"No\", 4.0, 4.0, \"No\", 0], [140515, \"Arav\", \"Male\", 59.0, \"Vasai-Virar\", \"Working Professional\", \"Architect\", NaN, 2.0, NaN, NaN, 5.0, \"More than 8 hours\", \"Unhealthy\", \"B.Arch\", \"Yes\", 8.0, 2.0, \"No\", 0], [140516, \"Prisha\", \"Female\", 55.0, \"Mumbai\", \"Working Professional\", \"Investment Banker\", NaN, 3.0, NaN, NaN, 4.0, \"Less than 5 hours\", \"Moderate\", \"MBA\", \"No\", 4.0, 2.0, \"Yes\", 0], [140517, \"Reyansh\", \"Male\", 26.0, \"Srinagar\", \"Student\", \"NaN\", 1.0, NaN, 7.46, 3.0, NaN, \"5-6 hours\", \"Unhealthy\", \"MCA\", \"No\", 12.0, 2.0, \"No\", 0], [140518, \"Abhishek\", \"Male\", 34.0, \"Jaipur\", \"Student\", \"NaN\", 4.0, NaN, 5.12, 5.0, NaN, \"7-8 hours\", \"Healthy\", \"MD\", \"Yes\", 4.0, 4.0, \"Yes\", 0], [140519, \"Deepak\", \"Male\", 46.0, \"Hyderabad\", \"Working Professional\", \"Sales Executive\", NaN, 5.0, NaN, NaN, 3.0, \"Less than 5 hours\", \"Healthy\", \"BBA\", \"No\", 7.0, 3.0, \"No\", 0], [140520, \"Arav\", \"Male\", 31.0, \"Patna\", \"Working Professional\", \"Judge\", NaN, 4.0, NaN, NaN, 3.0, \"5-6 hours\", \"Unhealthy\", \"LLB\", \"Yes\", 7.0, 5.0, \"Yes\", 1], [140521, \"Aishwarya\", \"Female\", 45.0, \"Ludhiana\", \"Working Professional\", \"Digital Marketer\", NaN, 1.0, NaN, NaN, 3.0, \"7-8 hours\", \"Unhealthy\", \"B.Com\", \"No\", 1.0, 3.0, \"No\", 0], [140522, \"Kriti\", \"Female\", 22.0, \"Vasai-Virar\", \"Student\", \"Architect\", 3.0, NaN, 9.13, 4.0, NaN, \"7-8 hours\", \"Unhealthy\", \"MCA\", \"Yes\", 4.0, 1.0, \"Yes\", 1], [140523, \"Rupal\", \"Female\", 37.0, \"Srinagar\", \"Working Professional\", \"Lawyer\", NaN, 4.0, NaN, NaN, 2.0, \"7-8 hours\", \"Moderate\", \"LLB\", \"Yes\", 7.0, 2.0, \"Yes\", 0], [140524, \"Rupal\", \"Female\", 26.0, \"Vadodara\", \"Working Professional\", \"Customer Support\", NaN, 1.0, NaN, NaN, 4.0, \"More than 8 hours\", \"Unhealthy\", \"BA\", \"Yes\", 3.0, 2.0, \"No\", 0], [140525, \"Riya\", \"Female\", 42.0, \"Chennai\", \"Working Professional\", \"Consultant\", NaN, 1.0, NaN, NaN, 2.0, \"More than 8 hours\", \"Healthy\", \"MSc\", \"No\", 6.0, 5.0, \"No\", 0], [140526, \"Janvi\", \"Female\", 26.0, \"Surat\", \"Working Professional\", \"Teacher\", NaN, 3.0, NaN, NaN, 5.0, \"Less than 5 hours\", \"Moderate\", \"B.Arch\", \"Yes\", 10.0, 4.0, \"No\", 0], [140527, \"Shivansh\", \"Male\", 49.0, \"Mumbai\", \"Working Professional\", \"Plumber\", NaN, 2.0, NaN, NaN, 1.0, \"Less than 5 hours\", \"Moderate\", \"BE\", \"No\", 0.0, 5.0, \"No\", 0], [140528, \"Tina\", \"Female\", 46.0, \"Vadodara\", \"Working Professional\", \"Electrician\", NaN, 3.0, NaN, NaN, 5.0, \"5-6 hours\", \"Healthy\", \"ME\", \"Yes\", 5.0, 1.0, \"No\", 0], [140529, \"Yashvi\", \"Female\", 44.0, \"Vadodara\", \"Working Professional\", \"Teacher\", NaN, 3.0, NaN, NaN, 2.0, \"More than 8 hours\", \"Unhealthy\", \"M.Com\", \"Yes\", 8.0, 4.0, \"No\", 0], [140530, \"Vibha\", \"Female\", 19.0, \"Ghaziabad\", \"Student\", \"NaN\", 3.0, NaN, 9.93, 3.0, NaN, \"7-8 hours\", \"Unhealthy\", \"Class 12\", \"Yes\", 4.0, 5.0, \"No\", 1], [140531, \"Saanvi\", \"Female\", 23.0, \"Faridabad\", \"Student\", \"NaN\", 3.0, NaN, 5.38, 4.0, NaN, \"7-8 hours\", \"Unhealthy\", \"BSc\", \"Yes\", 12.0, 4.0, \"No\", 1], [140532, \"Shlok\", \"Male\", 42.0, \"Agra\", \"Working Professional\", \"Digital Marketer\", NaN, 2.0, NaN, NaN, 3.0, \"7-8 hours\", \"Moderate\", \"BA\", \"No\", 9.0, 4.0, \"No\", 0], [140533, \"Rupak\", \"Male\", 53.0, \"Vadodara\", \"Working Professional\", \"Architect\", NaN, 4.0, NaN, NaN, 4.0, \"5-6 hours\", \"Moderate\", \"B.Arch\", \"Yes\", 7.0, 5.0, \"Yes\", 0], [140534, \"Jhanvi\", \"Female\", 39.0, \"Ludhiana\", \"Working Professional\", \"Travel Consultant\", NaN, 2.0, NaN, NaN, 4.0, \"More than 8 hours\", \"Healthy\", \"MHM\", \"No\", 5.0, 3.0, \"No\", 0], [140535, \"Tushar\", \"Male\", 51.0, \"Vasai-Virar\", \"Working Professional\", \"Teacher\", NaN, 3.0, NaN, NaN, 2.0, \"5-6 hours\", \"Unhealthy\", \"M.Ed\", \"No\", 5.0, 5.0, \"Yes\", 0], [140536, \"Arya\", \"Male\", 33.0, \"Nagpur\", \"Student\", \"NaN\", 1.0, NaN, 7.39, 4.0, NaN, \"7-8 hours\", \"Unhealthy\", \"BHM\", \"No\", 12.0, 2.0, \"No\", 0], [140537, \"Krishna\", \"Male\", 43.0, \"Bangalore\", \"Working Professional\", \"Teacher\", NaN, 2.0, NaN, NaN, 1.0, \"Less than 5 hours\", \"Moderate\", \"B.Arch\", \"Yes\", 4.0, 4.0, \"No\", 0], [140538, \"Pooja\", \"Female\", 42.0, \"Kalyan\", \"Working Professional\", \"Sales Executive\", NaN, 4.0, NaN, NaN, 5.0, \"More than 8 hours\", \"Unhealthy\", \"M.Com\", \"No\", 7.0, 5.0, \"Yes\", 0], [140539, \"Zoya\", \"Female\", 49.0, \"Kolkata\", \"Working Professional\", \"Civil Engineer\", NaN, 1.0, NaN, NaN, 3.0, \"Less than 5 hours\", \"Unhealthy\", \"BSc\", \"No\", 2.0, 2.0, \"Yes\", 0], [140540, \"Ila\", \"Female\", 50.0, \"Srinagar\", \"Working Professional\", \"Chef\", NaN, 5.0, NaN, NaN, 2.0, \"More than 8 hours\", \"Moderate\", \"BHM\", \"No\", 12.0, 5.0, \"No\", 0], [140541, \"Ansh\", \"Male\", 54.0, \"Vasai-Virar\", \"Working Professional\", \"Teacher\", NaN, 1.0, NaN, NaN, 4.0, \"7-8 hours\", \"Healthy\", \"B.Arch\", \"Yes\", 0.0, 5.0, \"Yes\", 0], [140542, \"Vidya\", \"Female\", 37.0, \"Ghaziabad\", \"Working Professional\", \"Architect\", NaN, 4.0, NaN, NaN, 3.0, \"7-8 hours\", \"Unhealthy\", \"B.Arch\", \"Yes\", 10.0, 5.0, \"No\", 0], [140543, \"Rhea\", \"Female\", 51.0, \"Indore\", \"Working Professional\", \"Electrician\", NaN, 5.0, NaN, NaN, 1.0, \"Less than 5 hours\", \"Healthy\", \"ME\", \"No\", 4.0, 4.0, \"No\", 0], [140544, \"Anand\", \"Male\", 51.0, \"Ghaziabad\", \"Working Professional\", \"Customer Support\", NaN, 4.0, NaN, NaN, 3.0, \"More than 8 hours\", \"Unhealthy\", \"B.Com\", \"Yes\", 9.0, 5.0, \"No\", 0], [140545, \"Rajat\", \"Male\", 19.0, \"Pune\", \"Student\", \"NaN\", 2.0, NaN, 6.33, 5.0, NaN, \"More than 8 hours\", \"Healthy\", \"Class 12\", \"Yes\", 12.0, 2.0, \"Yes\", 0], [140546, \"Aaradhya\", \"Female\", 28.0, \"Vasai-Virar\", \"Working Professional\", \"Customer Support\", NaN, 5.0, NaN, NaN, 2.0, \"7-8 hours\", \"Unhealthy\", \"BA\", \"Yes\", 0.0, 3.0, \"No\", 0], [140547, \"Anand\", \"Male\", 27.0, \"Indore\", \"Student\", \"NaN\", 4.0, NaN, 9.88, 3.0, NaN, \"7-8 hours\", \"Unhealthy\", \"B.Com\", \"Yes\", 12.0, 2.0, \"Yes\", 1], [140548, \"Ritvik\", \"Male\", 21.0, \"Kalyan\", \"Student\", \"NaN\", 1.0, NaN, 9.21, 3.0, NaN, \"More than 8 hours\", \"Unhealthy\", \"M.Com\", \"No\", 10.0, 3.0, \"No\", 0], [140549, \"Pari\", \"Female\", 47.0, \"Ahmedabad\", \"Working Professional\", \"Research Analyst\", NaN, 2.0, NaN, NaN, 4.0, \"7-8 hours\", \"Moderate\", \"MBA\", \"Yes\", 10.0, 4.0, \"No\", 0], [140550, \"Anika\", \"Female\", 59.0, \"Nagpur\", \"Working Professional\", \"Doctor\", NaN, 2.0, NaN, NaN, 5.0, \"5-6 hours\", \"Healthy\", \"B.Pharm\", \"Yes\", 9.0, 1.0, \"No\", 0], [140551, \"Zara\", \"Female\", 28.0, \"Srinagar\", \"Working Professional\", \"Business Analyst\", NaN, 1.0, NaN, NaN, 4.0, \"Less than 5 hours\", \"Moderate\", \"M.Com\", \"No\", 12.0, 4.0, \"Yes\", 0], [140552, \"Mira\", \"Female\", 56.0, \"Visakhapatnam\", \"Working Professional\", \"Architect\", NaN, 2.0, NaN, NaN, 4.0, \"5-6 hours\", \"Unhealthy\", \"MCA\", \"Yes\", 11.0, 4.0, \"Yes\", 0], [140553, \"Janvi\", \"Female\", 52.0, \"Varanasi\", \"Working Professional\", \"Educational Consultant\", NaN, 1.0, NaN, NaN, 3.0, \"5-6 hours\", \"Healthy\", \"M.Ed\", \"No\", 9.0, 3.0, \"Yes\", 0], [140554, \"Rajveer\", \"Male\", 42.0, \"Bangalore\", \"Working Professional\", \"Teacher\", NaN, 3.0, NaN, NaN, 5.0, \"Less than 5 hours\", \"Moderate\", \"MBBS\", \"Yes\", 5.0, 5.0, \"No\", 0], [140555, \"Aarav\", \"Male\", 41.0, \"Bangalore\", \"Working Professional\", \"Manager\", NaN, 1.0, NaN, NaN, 3.0, \"Less than 5 hours\", \"Unhealthy\", \"MHM\", \"No\", 4.0, 2.0, \"No\", 0], [140556, \"Aditi\", \"Female\", 50.0, \"Chennai\", \"Working Professional\", \"Civil Engineer\", NaN, 2.0, NaN, NaN, 5.0, \"Less than 5 hours\", \"Moderate\", \"MCA\", \"No\", 6.0, 5.0, \"No\", 0], [140557, \"Vivan\", \"Male\", 45.0, \"Nagpur\", \"Working Professional\", \"Judge\", NaN, 2.0, NaN, NaN, 5.0, \"5-6 hours\", \"Healthy\", \"LLM\", \"Yes\", 3.0, 3.0, \"Yes\", 0], [140558, \"Ivaan\", \"Male\", 24.0, \"Nagpur\", \"Student\", \"NaN\", 3.0, NaN, 8.54, 3.0, NaN, \"5-6 hours\", \"Moderate\", \"Class 12\", \"Yes\", 11.0, 2.0, \"No\", 0], [140559, \"Vibha\", \"Female\", 18.0, \"Agra\", \"Working Professional\", \"NaN\", NaN, 2.0, NaN, NaN, 5.0, \"7-8 hours\", \"Unhealthy\", \"Class 12\", \"Yes\", 7.0, 2.0, \"No\", 0], [140560, \"Jiya\", \"Female\", 38.0, \"Nagpur\", \"Working Professional\", \"Financial Analyst\", NaN, 1.0, NaN, NaN, 5.0, \"7-8 hours\", \"Unhealthy\", \"M.Com\", \"Yes\", 0.0, 3.0, \"No\", 0], [140561, \"Aarti\", \"Female\", 18.0, \"Pune\", \"Working Professional\", \"NaN\", NaN, 3.0, NaN, NaN, 5.0, \"More than 8 hours\", \"Healthy\", \"Class 12\", \"Yes\", 8.0, 4.0, \"Yes\", 0], [140562, \"Ivaan\", \"Male\", 56.0, \"Kolkata\", \"Working Professional\", \"Teacher\", NaN, 3.0, NaN, NaN, 1.0, \"5-6 hours\", \"Moderate\", \"B.Pharm\", \"No\", 5.0, 2.0, \"No\", 0], [140563, \"Shivam\", \"Male\", 44.0, \"Bhopal\", \"Working Professional\", \"Chemist\", NaN, 4.0, NaN, NaN, 2.0, \"More than 8 hours\", \"Moderate\", \"MD\", \"No\", 0.0, 1.0, \"No\", 0], [140564, \"Ishan\", \"Male\", 27.0, \"Surat\", \"Student\", \"NaN\", 4.0, NaN, 5.16, 4.0, NaN, \"Less than 5 hours\", \"Moderate\", \"M.Pharm\", \"Yes\", 6.0, 2.0, \"Yes\", 1], [140565, \"Armaan\", \"Male\", 48.0, \"Bangalore\", \"Working Professional\", \"Pilot\", NaN, 5.0, NaN, NaN, 2.0, \"Less than 5 hours\", \"Healthy\", \"BCA\", \"Yes\", 2.0, 5.0, \"No\", 0], [140566, \"Aaradhya\", \"Female\", 46.0, \"Bhopal\", \"Working Professional\", \"Pharmacist\", NaN, 2.0, NaN, NaN, 2.0, \"Less than 5 hours\", \"Healthy\", \"MBBS\", \"Yes\", 12.0, 1.0, \"Yes\", 0], [140567, \"Gaurav\", \"Male\", 47.0, \"Patna\", \"Working Professional\", \"HR Manager\", NaN, 5.0, NaN, NaN, 2.0, \"Less than 5 hours\", \"Unhealthy\", \"BBA\", \"No\", 2.0, 4.0, \"No\", 0], [140568, \"Anvi\", \"Female\", 28.0, \"Vasai-Virar\", \"Student\", \"NaN\", 2.0, NaN, 5.86, 3.0, NaN, \"Less than 5 hours\", \"Unhealthy\", \"M.Ed\", \"No\", 1.0, 2.0, \"No\", 0], [140569, \"Ira\", \"Female\", 39.0, \"Kolkata\", \"Working Professional\", \"Consultant\", NaN, 2.0, NaN, NaN, 2.0, \"More than 8 hours\", \"Healthy\", \"B.Com\", \"Yes\", 0.0, 2.0, \"No\", 0], [140570, \"Vivan\", \"Male\", 58.0, \"Meerut\", \"Working Professional\", \"Financial Analyst\", NaN, 2.0, NaN, NaN, 4.0, \"More than 8 hours\", \"Moderate\", \"M.Com\", \"No\", 8.0, 1.0, \"No\", 0], [140571, \"Mayank\", \"Male\", 35.0, \"Srinagar\", \"Working Professional\", \"Teacher\", NaN, 4.0, NaN, NaN, 3.0, \"5-6 hours\", \"Healthy\", \"LLB\", \"Yes\", 12.0, 5.0, \"Yes\", 0], [140572, \"Rohan\", \"Male\", 53.0, \"Kolkata\", \"Working Professional\", \"Consultant\", NaN, 1.0, NaN, NaN, 2.0, \"Less than 5 hours\", \"Healthy\", \"B.Com\", \"Yes\", 6.0, 3.0, \"No\", 0], [140573, \"Parth\", \"Male\", 37.0, \"Patna\", \"Working Professional\", \"Chef\", NaN, 2.0, NaN, NaN, 5.0, \"5-6 hours\", \"Unhealthy\", \"MHM\", \"No\", 10.0, 3.0, \"Yes\", 0], [140574, \"Rahil\", \"Male\", 43.0, \"Meerut\", \"Working Professional\", \"Civil Engineer\", NaN, 2.0, NaN, NaN, 3.0, \"Less than 5 hours\", \"Unhealthy\", \"BSc\", \"Yes\", 5.0, 3.0, \"No\", 0], [140575, \"Shaurya\", \"Male\", 51.0, \"Jaipur\", \"Working Professional\", \"Mechanical Engineer\", NaN, 3.0, NaN, NaN, 2.0, \"5-6 hours\", \"Moderate\", \"MSc\", \"Yes\", 1.0, 2.0, \"Yes\", 0], [140576, \"Rupak\", \"Male\", 49.0, \"Bangalore\", \"Working Professional\", \"Architect\", NaN, 1.0, NaN, NaN, 3.0, \"More than 8 hours\", \"Healthy\", \"B.Arch\", \"No\", 9.0, 3.0, \"No\", 0], [140577, \"Aariv\", \"Male\", 28.0, \"Agra\", \"Working Professional\", \"NaN\", NaN, 5.0, NaN, NaN, 4.0, \"Less than 5 hours\", \"Unhealthy\", \"Class 12\", \"Yes\", 11.0, 3.0, \"Yes\", 1], [140578, \"Rohan\", \"Male\", 48.0, \"Mumbai\", \"Working Professional\", \"Content Writer\", NaN, 5.0, NaN, NaN, 1.0, \"Less than 5 hours\", \"Moderate\", \"B.Ed\", \"No\", 11.0, 3.0, \"Yes\", 0], [140579, \"Rohan\", \"Male\", 56.0, \"Rajkot\", \"Working Professional\", \"Consultant\", NaN, 3.0, NaN, NaN, 4.0, \"5-6 hours\", \"Healthy\", \"B.Com\", \"No\", 7.0, 2.0, \"Yes\", 0], [140580, \"Reyansh\", \"Male\", 25.0, \"Kanpur\", \"Working Professional\", \"Travel Consultant\", NaN, 3.0, NaN, NaN, 5.0, \"Less than 5 hours\", \"Unhealthy\", \"MHM\", \"Yes\", 9.0, 2.0, \"Yes\", 0], [140581, \"Reyansh\", \"Male\", 54.0, \"Faridabad\", \"Working Professional\", \"Researcher\", NaN, 4.0, NaN, NaN, 2.0, \"5-6 hours\", \"Healthy\", \"BSc\", \"Yes\", 8.0, 4.0, \"No\", 0], [140582, \"Ritik\", \"Male\", 52.0, \"Chennai\", \"Working Professional\", \"Teacher\", NaN, 2.0, NaN, NaN, 1.0, \"More than 8 hours\", \"Moderate\", \"M.Pharm\", \"No\", 2.0, 2.0, \"No\", 0], [140583, \"Shiv\", \"Male\", 53.0, \"Delhi\", \"Working Professional\", \"Judge\", NaN, 4.0, NaN, NaN, 2.0, \"Less than 5 hours\", \"Moderate\", \"LLB\", \"No\", 3.0, 1.0, \"No\", 0], [140584, \"Vibha\", \"Female\", 22.0, \"Kanpur\", \"Student\", \"NaN\", 4.0, NaN, 6.61, 2.0, NaN, \"More than 8 hours\", \"Unhealthy\", \"M.Com\", \"Yes\", 6.0, 5.0, \"No\", 1], [140585, \"Vedant\", \"Male\", 51.0, \"Kalyan\", \"Working Professional\", \"Teacher\", NaN, 2.0, NaN, NaN, 2.0, \"More than 8 hours\", \"Moderate\", \"M.Pharm\", \"No\", 6.0, 5.0, \"No\", 0], [140586, \"Om\", \"Male\", 57.0, \"Visakhapatnam\", \"Working Professional\", \"Chef\", NaN, 5.0, NaN, NaN, 4.0, \"7-8 hours\", \"Healthy\", \"MHM\", \"No\", 1.0, 2.0, \"No\", 0], [140587, \"Nikita\", \"Female\", 59.0, \"Chennai\", \"Working Professional\", \"Consultant\", NaN, 4.0, NaN, NaN, 3.0, \"5-6 hours\", \"Unhealthy\", \"BSc\", \"Yes\", 3.0, 4.0, \"Yes\", 0], [140588, \"Pratyush\", \"Male\", 41.0, \"Pune\", \"Working Professional\", \"Judge\", NaN, 2.0, NaN, NaN, 3.0, \"7-8 hours\", \"Unhealthy\", \"LLB\", \"No\", 10.0, 2.0, \"Yes\", 0], [140589, \"Sanya\", \"Female\", 48.0, \"Mumbai\", \"Working Professional\", \"Business Analyst\", NaN, 3.0, NaN, NaN, 2.0, \"7-8 hours\", \"Healthy\", \"M.Com\", \"Yes\", 0.0, 2.0, \"Yes\", 0], [140590, \"Vidhi\", \"Female\", 28.0, \"Srinagar\", \"Working Professional\", \"Digital Marketer\", NaN, 2.0, NaN, NaN, 4.0, \"7-8 hours\", \"Moderate\", \"B.Com\", \"Yes\", 2.0, 2.0, \"Yes\", 0], [140591, \"Karishma\", \"Female\", 59.0, \"Bangalore\", \"Working Professional\", \"Teacher\", NaN, 2.0, NaN, NaN, 3.0, \"Less than 5 hours\", \"Moderate\", \"B.Ed\", \"No\", 2.0, 3.0, \"Yes\", 0], [140592, \"Ishan\", \"Male\", 39.0, \"Nagpur\", \"Working Professional\", \"Teacher\", NaN, 2.0, NaN, NaN, 1.0, \"Less than 5 hours\", \"Moderate\", \"LLM\", \"No\", 7.0, 1.0, \"No\", 0], [140593, \"Tushar\", \"Male\", 18.0, \"Surat\", \"Working Professional\", \"NaN\", NaN, 1.0, NaN, NaN, 1.0, \"5-6 hours\", \"Healthy\", \"Class 12\", \"Yes\", 8.0, 4.0, \"No\", 1], [140594, \"Vihaan\", \"Male\", 18.0, \"Meerut\", \"Student\", \"NaN\", 5.0, NaN, 6.25, 3.0, NaN, \"7-8 hours\", \"Unhealthy\", \"Class 12\", \"No\", 11.0, 2.0, \"Yes\", 1], [140595, \"Ansh\", \"Male\", 43.0, \"Lucknow\", \"Working Professional\", \"Teacher\", NaN, 4.0, NaN, NaN, 2.0, \"7-8 hours\", \"Moderate\", \"B.Ed\", \"No\", 1.0, 3.0, \"Yes\", 0], [140596, \"Rishi\", \"Male\", 37.0, \"Jaipur\", \"Working Professional\", \"Data Scientist\", NaN, 2.0, NaN, NaN, 4.0, \"Less than 5 hours\", \"Healthy\", \"BCA\", \"No\", 3.0, 5.0, \"Yes\", 0], [140597, \"Vani\", \"Female\", 19.0, \"Mumbai\", \"Student\", \"NaN\", 2.0, NaN, 9.21, 5.0, NaN, \"5-6 hours\", \"Unhealthy\", \"Class 12\", \"Yes\", 3.0, 2.0, \"No\", 0], [140598, \"Aishwarya\", \"Female\", 51.0, \"Bangalore\", \"Working Professional\", \"Doctor\", NaN, 3.0, NaN, NaN, 2.0, \"7-8 hours\", \"Moderate\", \"M.Pharm\", \"Yes\", 11.0, 1.0, \"No\", 0], [140599, \"Shaurya\", \"Male\", 50.0, \"Kanpur\", \"Working Professional\", \"Researcher\", NaN, 5.0, NaN, NaN, 4.0, \"7-8 hours\", \"Unhealthy\", \"B.Tech\", \"No\", 6.0, 1.0, \"No\", 0], [140600, \"Darsh\", \"Male\", 47.0, \"Rajkot\", \"Working Professional\", \"Judge\", NaN, 1.0, NaN, NaN, 5.0, \"7-8 hours\", \"Moderate\", \"LLB\", \"No\", 0.0, 3.0, \"Yes\", 0], [140601, \"Tanisha\", \"Female\", 22.0, \"Jaipur\", \"Student\", \"NaN\", 5.0, NaN, 9.25, 4.0, NaN, \"More than 8 hours\", \"Unhealthy\", \"BBA\", \"Yes\", 8.0, 3.0, \"No\", 1], [140602, \"Zara\", \"Female\", 57.0, \"Nashik\", \"Working Professional\", \"Teacher\", NaN, 5.0, NaN, NaN, 3.0, \"5-6 hours\", \"Unhealthy\", \"MBA\", \"No\", 2.0, 1.0, \"Yes\", 0], [140603, \"Harsha\", \"Male\", 59.0, \"Vasai-Virar\", \"Working Professional\", \"Teacher\", NaN, 2.0, NaN, NaN, 4.0, \"Less than 5 hours\", \"Moderate\", \"B.Arch\", \"Yes\", 9.0, 4.0, \"Yes\", 0], [140604, \"Janvi\", \"Female\", 49.0, \"Visakhapatnam\", \"Working Professional\", \"Teacher\", NaN, 4.0, NaN, NaN, 4.0, \"7-8 hours\", \"Healthy\", \"B.Arch\", \"No\", 4.0, 1.0, \"No\", 0], [140605, \"Vihaan\", \"Male\", 24.0, \"Pune\", \"Working Professional\", \"Teacher\", NaN, 2.0, NaN, NaN, 5.0, \"7-8 hours\", \"Moderate\", \"MD\", \"Yes\", 9.0, 5.0, \"Yes\", 1], [140606, \"Mahi\", \"Female\", 50.0, \"Delhi\", \"Working Professional\", \"NaN\", NaN, 1.0, NaN, NaN, 5.0, \"Less than 5 hours\", \"Healthy\", \"Class 12\", \"No\", 1.0, 1.0, \"No\", 0], [140607, \"Krishna\", \"Male\", 59.0, \"Varanasi\", \"Working Professional\", \"Travel Consultant\", NaN, 5.0, NaN, NaN, 5.0, \"More than 8 hours\", \"Unhealthy\", \"BHM\", \"No\", 3.0, 4.0, \"No\", 0], [140608, \"Zoya\", \"Female\", 44.0, \"Visakhapatnam\", \"Working Professional\", \"Architect\", NaN, 1.0, NaN, NaN, 3.0, \"Less than 5 hours\", \"Moderate\", \"B.Arch\", \"No\", 9.0, 5.0, \"Yes\", 0], [140609, \"Pranav\", \"Male\", 25.0, \"Mumbai\", \"Working Professional\", \"NaN\", NaN, 5.0, NaN, NaN, 5.0, \"Less than 5 hours\", \"Unhealthy\", \"Class 12\", \"Yes\", 6.0, 4.0, \"Yes\", 1], [140610, \"Trisha\", \"Female\", 44.0, \"Pune\", \"Working Professional\", \"Business Analyst\", NaN, 5.0, NaN, NaN, 2.0, \"More than 8 hours\", \"Moderate\", \"BCA\", \"No\", 10.0, 3.0, \"Yes\", 0], [140611, \"Rohan\", \"Male\", 50.0, \"Kalyan\", \"Working Professional\", \"Entrepreneur\", NaN, 3.0, NaN, NaN, 1.0, \"Less than 5 hours\", \"Moderate\", \"BBA\", \"No\", 2.0, 2.0, \"Yes\", 0], [140612, \"Raghavendra\", \"Male\", 38.0, \"Pune\", \"Working Professional\", \"Teacher\", NaN, 5.0, NaN, NaN, 4.0, \"7-8 hours\", \"Healthy\", \"LLM\", \"Yes\", 5.0, 3.0, \"Yes\", 0], [140613, \"Vivan\", \"Male\", 45.0, \"Patna\", \"Working Professional\", \"Teacher\", NaN, 5.0, NaN, NaN, 1.0, \"7-8 hours\", \"Healthy\", \"B.Ed\", \"Yes\", 2.0, 3.0, \"Yes\", 0], [140614, \"Jiya\", \"Female\", 56.0, \"Bhopal\", \"Working Professional\", \"Doctor\", NaN, 1.0, NaN, NaN, 4.0, \"Less than 5 hours\", \"Healthy\", \"MD\", \"No\", 6.0, 1.0, \"No\", 0], [140615, \"Rahil\", \"Male\", 38.0, \"Jaipur\", \"Working Professional\", \"Teacher\", NaN, 4.0, NaN, NaN, 3.0, \"More than 8 hours\", \"Unhealthy\", \"MBA\", \"No\", 7.0, 1.0, \"No\", 0], [140616, \"Shiv\", \"Male\", 39.0, \"Ludhiana\", \"Working Professional\", \"Teacher\", NaN, 4.0, NaN, NaN, 5.0, \"More than 8 hours\", \"Unhealthy\", \"LLM\", \"Yes\", 9.0, 2.0, \"Yes\", 0], [140617, \"Ritika\", \"Female\", 42.0, \"Bangalore\", \"Working Professional\", \"Consultant\", NaN, 1.0, NaN, NaN, 2.0, \"5-6 hours\", \"Moderate\", \"PhD\", \"No\", 9.0, 2.0, \"No\", 0], [140618, \"Tanisha\", \"Female\", 29.0, \"Kolkata\", \"Working Professional\", \"Consultant\", NaN, 1.0, NaN, NaN, 2.0, \"7-8 hours\", \"Unhealthy\", \"ME\", \"No\", 9.0, 5.0, \"Yes\", 0], [140619, \"Raunak\", \"Male\", 52.0, \"Lucknow\", \"Working Professional\", \"Teacher\", NaN, 2.0, NaN, NaN, 5.0, \"5-6 hours\", \"Moderate\", \"M.Ed\", \"Yes\", 11.0, 1.0, \"No\", 0], [140620, \"Rupal\", \"Female\", 42.0, \"Kalyan\", \"Working Professional\", \"Architect\", NaN, 4.0, NaN, NaN, 2.0, \"5-6 hours\", \"Moderate\", \"B.Arch\", \"Yes\", 12.0, 1.0, \"Yes\", 0], [140621, \"Prachi\", \"Female\", 23.0, \"Ahmedabad\", \"Working Professional\", \"Sales Executive\", NaN, 4.0, NaN, NaN, 1.0, \"Less than 5 hours\", \"Unhealthy\", \"B.Com\", \"Yes\", 4.0, 1.0, \"Yes\", 1], [140622, \"Rupal\", \"Female\", 23.0, \"Kanpur\", \"Working Professional\", \"Teacher\", NaN, 4.0, NaN, NaN, 5.0, \"7-8 hours\", \"Unhealthy\", \"BCA\", \"No\", 0.0, 1.0, \"No\", 0], [140623, \"Vani\", \"Female\", 56.0, \"Ghaziabad\", \"Working Professional\", \"Marketing Manager\", NaN, 2.0, NaN, NaN, 3.0, \"7-8 hours\", \"Moderate\", \"B.Com\", \"No\", 4.0, 1.0, \"Yes\", 0], [140624, \"Vikram\", \"Male\", 32.0, \"Rajkot\", \"Student\", \"NaN\", 4.0, NaN, 9.19, 1.0, NaN, \"5-6 hours\", \"Healthy\", \"MSc\", \"No\", 7.0, 4.0, \"Yes\", 1], [140625, \"Rohan\", \"Male\", 43.0, \"Pune\", \"Working Professional\", \"Teacher\", NaN, 1.0, NaN, NaN, 3.0, \"More than 8 hours\", \"Healthy\", \"LLM\", \"Yes\", 6.0, 5.0, \"Yes\", 0], [140626, \"Prachi\", \"Female\", 43.0, \"Ahmedabad\", \"Working Professional\", \"Teacher\", NaN, 3.0, NaN, NaN, 4.0, \"5-6 hours\", \"Moderate\", \"B.Arch\", \"Yes\", 1.0, 3.0, \"Yes\", 0], [140627, \"Rudransh\", \"Male\", 54.0, \"Kolkata\", \"Working Professional\", \"Plumber\", NaN, 5.0, NaN, NaN, 3.0, \"5-6 hours\", \"Unhealthy\", \"MCA\", \"No\", 7.0, 3.0, \"No\", 0], [140628, \"Leela\", \"Female\", 53.0, \"Patna\", \"Working Professional\", \"Business Analyst\", NaN, 3.0, NaN, NaN, 3.0, \"Less than 5 hours\", \"Unhealthy\", \"B.Com\", \"Yes\", 9.0, 1.0, \"No\", 0], [140629, \"Kartik\", \"Male\", 50.0, \"Meerut\", \"Working Professional\", \"Consultant\", NaN, 4.0, NaN, NaN, 3.0, \"7-8 hours\", \"Healthy\", \"MCA\", \"Yes\", 8.0, 4.0, \"No\", 1], [140630, \"Ishan\", \"Male\", 19.0, \"Kolkata\", \"Student\", \"NaN\", 4.0, NaN, 7.13, 1.0, NaN, \"More than 8 hours\", \"Moderate\", \"Class 12\", \"No\", 10.0, 2.0, \"No\", 1], [140631, \"Kunal\", \"Male\", 33.0, \"Ahmedabad\", \"Student\", \"NaN\", 1.0, NaN, 5.7, 2.0, NaN, \"Less than 5 hours\", \"Healthy\", \"MCA\", \"Yes\", 2.0, 2.0, \"No\", 0], [140632, \"Darsh\", \"Male\", 52.0, \"Bhopal\", \"Working Professional\", \"Teacher\", NaN, 2.0, NaN, NaN, 5.0, \"More than 8 hours\", \"Unhealthy\", \"BA\", \"No\", 12.0, 3.0, \"No\", 0], [140633, \"Isha\", \"Female\", 38.0, \"Chennai\", \"Working Professional\", \"Teacher\", NaN, 2.0, NaN, NaN, 5.0, \"More than 8 hours\", \"Healthy\", \"M.Ed\", \"No\", 5.0, 5.0, \"No\", 0], [140634, \"Satyam\", \"Male\", 41.0, \"Pune\", \"Working Professional\", \"Pharmacist\", NaN, 3.0, NaN, NaN, 5.0, \"More than 8 hours\", \"Healthy\", \"MBBS\", \"No\", 10.0, 1.0, \"No\", 0], [140635, \"Shrey\", \"Male\", 28.0, \"Ludhiana\", \"Student\", \"NaN\", 3.0, NaN, 5.03, 3.0, NaN, \"Less than 5 hours\", \"Moderate\", \"Class 12\", \"Yes\", 6.0, 2.0, \"Yes\", 0], [140636, \"Anushka\", \"Female\", 50.0, \"Vasai-Virar\", \"Working Professional\", \"HR Manager\", NaN, 2.0, NaN, NaN, 2.0, \"7-8 hours\", \"Unhealthy\", \"BBA\", \"No\", 9.0, 3.0, \"Yes\", 0], [140637, \"Veda\", \"Female\", 44.0, \"Ludhiana\", \"Working Professional\", \"Marketing Manager\", NaN, 4.0, NaN, NaN, 4.0, \"7-8 hours\", \"Unhealthy\", \"MA\", \"Yes\", 0.0, 3.0, \"No\", 0], [140638, \"Anvi\", \"Female\", 45.0, \"Visakhapatnam\", \"Working Professional\", \"Content Writer\", NaN, 2.0, NaN, NaN, 4.0, \"7-8 hours\", \"Healthy\", \"M.Ed\", \"Yes\", 12.0, 5.0, \"No\", 0], [140639, \"Ritik\", \"Male\", 38.0, \"Agra\", \"Working Professional\", \"Content Writer\", NaN, 5.0, NaN, NaN, 5.0, \"Less than 5 hours\", \"Healthy\", \"B.Ed\", \"Yes\", 10.0, 4.0, \"Yes\", 0], [140640, \"Ishaani\", \"Female\", 44.0, \"Thane\", \"Working Professional\", \"Teacher\", NaN, 2.0, NaN, NaN, 5.0, \"More than 8 hours\", \"Unhealthy\", \"MD\", \"No\", 10.0, 5.0, \"Yes\", 0], [140641, \"Shrey\", \"Male\", 18.0, \"Thane\", \"Working Professional\", \"NaN\", NaN, 5.0, NaN, NaN, 5.0, \"5-6 hours\", \"Moderate\", \"Class 12\", \"Yes\", 8.0, 1.0, \"Yes\", 0], [140642, \"Vihaan\", \"Male\", 53.0, \"Kalyan\", \"Working Professional\", \"Pharmacist\", NaN, 3.0, NaN, NaN, 3.0, \"5-6 hours\", \"Unhealthy\", \"B.Pharm\", \"No\", 4.0, 5.0, \"Yes\", 0], [140643, \"Rudransh\", \"Male\", 56.0, \"Agra\", \"Working Professional\", \"Content Writer\", NaN, 5.0, NaN, NaN, 2.0, \"More than 8 hours\", \"Unhealthy\", \"ME\", \"No\", 6.0, 2.0, \"Yes\", 0], [140644, \"Rohan\", \"Male\", 47.0, \"Mumbai\", \"Working Professional\", \"Teacher\", NaN, 2.0, NaN, NaN, 2.0, \"More than 8 hours\", \"Unhealthy\", \"B.Ed\", \"No\", 7.0, 1.0, \"Yes\", 0], [140645, \"Eshita\", \"Female\", 28.0, \"Thane\", \"Student\", \"NaN\", 4.0, NaN, 7.77, 3.0, NaN, \"Less than 5 hours\", \"Unhealthy\", \"MSc\", \"No\", 2.0, 5.0, \"No\", 1], [140646, \"Harini\", \"Female\", 53.0, \"Rajkot\", \"Working Professional\", \"Investment Banker\", NaN, 3.0, NaN, NaN, 1.0, \"5-6 hours\", \"Healthy\", \"BBA\", \"No\", 10.0, 1.0, \"No\", 0], [140647, \"Yuvraj\", \"Male\", 35.0, \"Rajkot\", \"Working Professional\", \"NaN\", NaN, 5.0, NaN, NaN, 1.0, \"7-8 hours\", \"Unhealthy\", \"Class 12\", \"Yes\", 11.0, 2.0, \"Yes\", 1], [140648, \"Rishi\", \"Male\", 53.0, \"Nagpur\", \"Working Professional\", \"Teacher\", NaN, 1.0, NaN, NaN, 1.0, \"Less than 5 hours\", \"Moderate\", \"LLM\", \"No\", 10.0, 5.0, \"No\", 0], [140649, \"Aadhya\", \"Female\", 47.0, \"Kolkata\", \"Working Professional\", \"Manager\", NaN, 5.0, NaN, NaN, 3.0, \"7-8 hours\", \"Healthy\", \"BHM\", \"No\", 0.0, 5.0, \"Yes\", 0], [140650, \"Aarav\", \"Male\", 56.0, \"Bhopal\", \"Working Professional\", \"Pharmacist\", NaN, 5.0, NaN, NaN, 5.0, \"More than 8 hours\", \"Unhealthy\", \"MBBS\", \"Yes\", 12.0, 4.0, \"No\", 0], [140651, \"Chhavi\", \"Female\", 59.0, \"Ludhiana\", \"Working Professional\", \"Sales Executive\", NaN, 2.0, NaN, NaN, 2.0, \"5-6 hours\", \"Healthy\", \"M.Com\", \"No\", 5.0, 5.0, \"Yes\", 0], [140652, \"Rupak\", \"Male\", 43.0, \"Thane\", \"Working Professional\", \"Teacher\", NaN, 1.0, NaN, NaN, 5.0, \"More than 8 hours\", \"Moderate\", \"B.Arch\", \"No\", 4.0, 3.0, \"No\", 0], [140653, \"Varun\", \"Male\", 21.0, \"Faridabad\", \"Working Professional\", \"Manager\", NaN, 5.0, NaN, NaN, 3.0, \"Less than 5 hours\", \"Unhealthy\", \"BHM\", \"No\", 0.0, 3.0, \"Yes\", 1], [140654, \"Armaan\", \"Male\", 31.0, \"Agra\", \"Working Professional\", \"Pharmacist\", NaN, 5.0, NaN, NaN, 3.0, \"Less than 5 hours\", \"Healthy\", \"MBBS\", \"No\", 11.0, 2.0, \"Yes\", 0], [140655, \"Kiran\", \"Male\", 44.0, \"Meerut\", \"Working Professional\", \"NaN\", NaN, 1.0, NaN, NaN, 3.0, \"More than 8 hours\", \"Healthy\", \"PhD\", \"No\", 0.0, 4.0, \"No\", 0], [140656, \"Nalini\", \"Female\", 59.0, \"Meerut\", \"Working Professional\", \"Teacher\", NaN, 3.0, NaN, NaN, 4.0, \"Less than 5 hours\", \"Unhealthy\", \"M.Ed\", \"No\", 11.0, 4.0, \"No\", 0], [140657, \"Aariv\", \"Male\", 48.0, \"Kolkata\", \"Working Professional\", \"Customer Support\", NaN, 5.0, NaN, NaN, 4.0, \"Less than 5 hours\", \"Unhealthy\", \"BA\", \"Yes\", 0.0, 4.0, \"No\", 0], [140658, \"Esha\", \"Female\", 50.0, \"Varanasi\", \"Working Professional\", \"Content Writer\", NaN, 1.0, NaN, NaN, 5.0, \"Less than 5 hours\", \"Unhealthy\", \"BA\", \"No\", 1.0, 4.0, \"No\", 0], [140659, \"Aanchal\", \"Female\", 44.0, \"Kalyan\", \"Working Professional\", \"Teacher\", NaN, 4.0, NaN, NaN, 1.0, \"More than 8 hours\", \"Healthy\", \"M.Com\", \"Yes\", 12.0, 2.0, \"No\", 0], [140660, \"Rohan\", \"Male\", 47.0, \"Kalyan\", \"Working Professional\", \"Data Scientist\", NaN, 2.0, NaN, NaN, 5.0, \"7-8 hours\", \"Moderate\", \"MCA\", \"No\", 6.0, 1.0, \"No\", 0], [140661, \"Raghavendra\", \"Male\", 49.0, \"Vasai-Virar\", \"Working Professional\", \"Teacher\", NaN, 5.0, NaN, NaN, 2.0, \"5-6 hours\", \"Moderate\", \"BBA\", \"No\", 5.0, 3.0, \"Yes\", 0], [140662, \"Gaurav\", \"Male\", 42.0, \"Visakhapatnam\", \"Working Professional\", \"HR Manager\", NaN, 4.0, NaN, NaN, 2.0, \"7-8 hours\", \"Healthy\", \"MBA\", \"Yes\", 4.0, 5.0, \"No\", 0], [140663, \"Harsha\", \"Male\", 55.0, \"Indore\", \"Working Professional\", \"Teacher\", NaN, 3.0, NaN, NaN, 3.0, \"5-6 hours\", \"Unhealthy\", \"B.Ed\", \"Yes\", 1.0, 5.0, \"No\", 0], [140664, \"Divya\", \"Female\", 40.0, \"Visakhapatnam\", \"Working Professional\", \"Teacher\", NaN, 5.0, NaN, NaN, 2.0, \"5-6 hours\", \"Moderate\", \"B.Ed\", \"No\", 9.0, 5.0, \"No\", 0], [140665, \"Asha\", \"Female\", 50.0, \"Thane\", \"Working Professional\", \"Travel Consultant\", NaN, 2.0, NaN, NaN, 3.0, \"5-6 hours\", \"Healthy\", \"MHM\", \"No\", 9.0, 3.0, \"Yes\", 0], [140666, \"Abhishek\", \"Male\", 18.0, \"Vadodara\", \"Working Professional\", \"NaN\", NaN, 5.0, NaN, NaN, 4.0, \"Less than 5 hours\", \"Moderate\", \"Class 12\", \"No\", 2.0, 5.0, \"No\", 1], [140667, \"Kashish\", \"Female\", 19.0, \"Rajkot\", \"Working Professional\", \"NaN\", NaN, 4.0, NaN, NaN, 2.0, \"More than 8 hours\", \"Unhealthy\", \"MHM\", \"Yes\", 12.0, 4.0, \"Yes\", 1], [140668, \"Kashish\", \"Female\", 57.0, \"Faridabad\", \"Working Professional\", \"Teacher\", NaN, 5.0, NaN, NaN, 2.0, \"7-8 hours\", \"Moderate\", \"B.Com\", \"Yes\", 5.0, 2.0, \"Yes\", 0], [140669, \"Aditi\", \"Female\", 20.0, \"Indore\", \"Student\", \"NaN\", 3.0, NaN, 7.72, 5.0, NaN, \"Less than 5 hours\", \"Moderate\", \"Class 12\", \"Yes\", 8.0, 1.0, \"No\", 0], [140670, \"Ritvik\", \"Male\", 49.0, \"Kanpur\", \"Working Professional\", \"Content Writer\", NaN, 5.0, NaN, NaN, 4.0, \"5-6 hours\", \"Healthy\", \"B.Tech\", \"Yes\", 3.0, 4.0, \"No\", 0], [140671, \"Shiv\", \"Male\", 35.0, \"Kanpur\", \"Working Professional\", \"Teacher\", NaN, 4.0, NaN, NaN, 1.0, \"Less than 5 hours\", \"Unhealthy\", \"B.Arch\", \"Yes\", 11.0, 1.0, \"No\", 0], [140672, \"Nandini\", \"Female\", 24.0, \"Hyderabad\", \"Student\", \"NaN\", 3.0, NaN, 6.02, 2.0, NaN, \"7-8 hours\", \"Moderate\", \"B.Arch\", \"No\", 8.0, 2.0, \"No\", 0], [140673, \"Kiara\", \"Female\", 59.0, \"Kanpur\", \"Working Professional\", \"Teacher\", NaN, 5.0, NaN, NaN, 2.0, \"5-6 hours\", \"Moderate\", \"B.Ed\", \"Yes\", 8.0, 5.0, \"No\", 0], [140674, \"Harsh\", \"Male\", 56.0, \"Vadodara\", \"Working Professional\", \"Lawyer\", NaN, 5.0, NaN, NaN, 2.0, \"More than 8 hours\", \"Moderate\", \"LLB\", \"No\", 11.0, 4.0, \"Yes\", 0], [140675, \"Gagan\", \"Male\", 50.0, \"Kanpur\", \"Working Professional\", \"Digital Marketer\", NaN, 4.0, NaN, NaN, 1.0, \"5-6 hours\", \"Unhealthy\", \"BA\", \"No\", 3.0, 4.0, \"No\", 0], [140676, \"Rupak\", \"Male\", 40.0, \"Chennai\", \"Working Professional\", \"Teacher\", NaN, 2.0, NaN, NaN, 3.0, \"5-6 hours\", \"Moderate\", \"LLB\", \"No\", 0.0, 4.0, \"Yes\", 0], [140677, \"Shanaya\", \"Female\", 57.0, \"Pune\", \"Working Professional\", \"Pharmacist\", NaN, 5.0, NaN, NaN, 4.0, \"More than 8 hours\", \"Moderate\", \"B.Pharm\", \"Yes\", 1.0, 2.0, \"No\", 0], [140678, \"Rajveer\", \"Male\", 53.0, \"Varanasi\", \"Working Professional\", \"Business Analyst\", NaN, 4.0, NaN, NaN, 3.0, \"7-8 hours\", \"Healthy\", \"MCA\", \"No\", 12.0, 1.0, \"Yes\", 0], [140679, \"Manan\", \"Male\", 56.0, \"Meerut\", \"Working Professional\", \"Teacher\", NaN, 2.0, NaN, NaN, 5.0, \"7-8 hours\", \"Healthy\", \"ME\", \"Yes\", 0.0, 5.0, \"No\", 0], [140680, \"Shivam\", \"Male\", 46.0, \"Jaipur\", \"Working Professional\", \"Content Writer\", NaN, 2.0, NaN, NaN, 1.0, \"More than 8 hours\", \"Healthy\", \"BA\", \"No\", 1.0, 4.0, \"No\", 0], [140681, \"Pratham\", \"Male\", 23.0, \"Srinagar\", \"Student\", \"NaN\", 3.0, NaN, 6.0, 2.0, NaN, \"More than 8 hours\", \"Healthy\", \"MBBS\", \"Yes\", 12.0, 4.0, \"No\", 0], [140682, \"Raghavendra\", \"Male\", 42.0, \"Delhi\", \"Working Professional\", \"Software Engineer\", NaN, 3.0, NaN, NaN, 3.0, \"5-6 hours\", \"Unhealthy\", \"M.Tech\", \"No\", 7.0, 5.0, \"Yes\", 0], [140683, \"Zoya\", \"Female\", 58.0, \"Surat\", \"Working Professional\", \"Teacher\", NaN, 4.0, NaN, NaN, 4.0, \"Less than 5 hours\", \"Healthy\", \"B.Arch\", \"No\", 9.0, 2.0, \"Yes\", 0], [140684, \"Gaurav\", \"Male\", 31.0, \"Lucknow\", \"Student\", \"NaN\", 2.0, NaN, 7.27, 5.0, NaN, \"7-8 hours\", \"Moderate\", \"B.Com\", \"Yes\", 6.0, 1.0, \"Yes\", 0], [140685, \"Aaradhya\", \"Female\", 27.0, \"Surat\", \"Student\", \"NaN\", 5.0, NaN, 5.75, 5.0, NaN, \"5-6 hours\", \"Unhealthy\", \"Class 12\", \"Yes\", 7.0, 1.0, \"Yes\", 0], [140686, \"Rohan\", \"Male\", 27.0, \"Ludhiana\", \"Student\", \"NaN\", 2.0, NaN, 9.4, 3.0, NaN, \"Less than 5 hours\", \"Healthy\", \"MSc\", \"No\", 0.0, 3.0, \"Yes\", 0], [140687, \"Reyansh\", \"Male\", 38.0, \"Mumbai\", \"Working Professional\", \"Civil Engineer\", NaN, 2.0, NaN, NaN, 4.0, \"5-6 hours\", \"Moderate\", \"MCA\", \"Yes\", 8.0, 1.0, \"No\", 0], [140688, \"Rajat\", \"Male\", 48.0, \"Hyderabad\", \"Working Professional\", \"Chemist\", NaN, 5.0, NaN, NaN, 1.0, \"Less than 5 hours\", \"Moderate\", \"B.Pharm\", \"No\", 8.0, 4.0, \"Yes\", 0], [140689, \"Ayaan\", \"Male\", 31.0, \"Faridabad\", \"Student\", \"NaN\", 3.0, NaN, 6.61, 4.0, NaN, \"5-6 hours\", \"Unhealthy\", \"MD\", \"No\", 12.0, 2.0, \"No\", 0], [140690, \"Rashi\", \"Female\", 18.0, \"Ludhiana\", \"Student\", \"NaN\", 5.0, NaN, 6.88, 2.0, NaN, \"Less than 5 hours\", \"Healthy\", \"Class 12\", \"Yes\", 10.0, 5.0, \"No\", 1], [140691, \"Zara\", \"Female\", 57.0, \"Meerut\", \"Working Professional\", \"Teacher\", NaN, 1.0, NaN, NaN, 1.0, \"Less than 5 hours\", \"Moderate\", \"B.Arch\", \"Yes\", 4.0, 5.0, \"Yes\", 0], [140692, \"Raunak\", \"Male\", 49.0, \"Bhopal\", \"Working Professional\", \"Financial Analyst\", NaN, 4.0, NaN, NaN, 1.0, \"7-8 hours\", \"Moderate\", \"MBA\", \"No\", 9.0, 1.0, \"No\", 0], [140693, \"Shaurya\", \"Male\", 55.0, \"Srinagar\", \"Working Professional\", \"Data Scientist\", NaN, 1.0, NaN, NaN, 3.0, \"Less than 5 hours\", \"Unhealthy\", \"M.Tech\", \"No\", 9.0, 2.0, \"No\", 0], [140694, \"Ishaani\", \"Female\", 45.0, \"Ahmedabad\", \"Working Professional\", \"Teacher\", NaN, 2.0, NaN, NaN, 5.0, \"Less than 5 hours\", \"Moderate\", \"B.Ed\", \"Yes\", 1.0, 5.0, \"No\", 0], [140695, \"Vidya\", \"Female\", 18.0, \"Ahmedabad\", \"Working Professional\", \"NaN\", NaN, 5.0, NaN, NaN, 4.0, \"5-6 hours\", \"Unhealthy\", \"Class 12\", \"No\", 2.0, 4.0, \"Yes\", 1], [140696, \"Lata\", \"Female\", 41.0, \"Hyderabad\", \"Working Professional\", \"Content Writer\", NaN, 5.0, NaN, NaN, 4.0, \"7-8 hours\", \"Moderate\", \"B.Tech\", \"Yes\", 6.0, 5.0, \"Yes\", 0], [140697, \"Aanchal\", \"Female\", 24.0, \"Kolkata\", \"Working Professional\", \"Marketing Manager\", NaN, 3.0, NaN, NaN, 1.0, \"More than 8 hours\", \"Moderate\", \"B.Com\", \"No\", 4.0, 4.0, \"No\", 0], [140698, \"Prachi\", \"Female\", 49.0, \"Srinagar\", \"Working Professional\", \"Plumber\", NaN, 5.0, NaN, NaN, 2.0, \"5-6 hours\", \"Moderate\", \"ME\", \"Yes\", 10.0, 1.0, \"No\", 0], [140699, \"Sai\", \"Male\", 27.0, \"Patna\", \"Student\", \"NaN\", 4.0, NaN, 9.24, 1.0, NaN, \"Less than 5 hours\", \"Healthy\", \"BCA\", \"Yes\", 2.0, 3.0, \"Yes\", 1]];\n",
       "\n",
       "        // Define the dt_args\n",
       "        let dt_args = {\"layout\": {\"topStart\": \"pageLength\", \"topEnd\": \"search\", \"bottomStart\": \"info\", \"bottomEnd\": \"paging\"}, \"order\": [], \"warn_on_selected_rows_not_rendered\": true, \"filtered_row_count\": 140291, \"fnInfoCallback\": function (oSettings, iStart, iEnd, iMax, iTotal, sPre) { return sPre + ' (<a href=\"https://mwouts.github.io/itables/downsampling.html\">downsampled</a> from 140,700x20 to 409x20 as maxBytes=64KB)'; }};\n",
       "        dt_args[\"data\"] = data;\n",
       "\n",
       "        \n",
       "        new DataTable(table, dt_args);\n",
       "    });\n",
       "</script>\n"
      ],
      "text/plain": [
       "<IPython.core.display.HTML object>"
      ]
     },
     "metadata": {},
     "output_type": "display_data"
    }
   ],
   "source": [
    "# importing data\n",
    "file_name = 'Data/train.csv'\n",
    "DF = pd.read_csv(file_name)\n",
    "show(DF)"
   ]
  },
  {
   "cell_type": "markdown",
   "id": "c2fa3dd5-7a1a-443d-8264-75f6ed14e481",
   "metadata": {},
   "source": [
    "## Questions: \n",
    "\n",
    "### Questions 1: Which Variables Have the Greatest Effect on Depression"
   ]
  },
  {
   "cell_type": "code",
   "execution_count": 346,
   "id": "d6f083e9-143f-4855-9e0b-016e7de8f9d8",
   "metadata": {},
   "outputs": [
    {
     "data": {
      "text/html": [
       "<div>\n",
       "<style scoped>\n",
       "    .dataframe tbody tr th:only-of-type {\n",
       "        vertical-align: middle;\n",
       "    }\n",
       "\n",
       "    .dataframe tbody tr th {\n",
       "        vertical-align: top;\n",
       "    }\n",
       "\n",
       "    .dataframe thead th {\n",
       "        text-align: right;\n",
       "    }\n",
       "</style>\n",
       "<table border=\"1\" class=\"dataframe\">\n",
       "  <thead>\n",
       "    <tr style=\"text-align: right;\">\n",
       "      <th></th>\n",
       "      <th>Study Satisfaction</th>\n",
       "      <th>Depression</th>\n",
       "      <th>count</th>\n",
       "    </tr>\n",
       "  </thead>\n",
       "  <tbody>\n",
       "    <tr>\n",
       "      <th>0</th>\n",
       "      <td>1.0</td>\n",
       "      <td>0</td>\n",
       "      <td>1594</td>\n",
       "    </tr>\n",
       "    <tr>\n",
       "      <th>1</th>\n",
       "      <td>1.0</td>\n",
       "      <td>1</td>\n",
       "      <td>3857</td>\n",
       "    </tr>\n",
       "    <tr>\n",
       "      <th>2</th>\n",
       "      <td>2.0</td>\n",
       "      <td>0</td>\n",
       "      <td>2071</td>\n",
       "    </tr>\n",
       "    <tr>\n",
       "      <th>3</th>\n",
       "      <td>2.0</td>\n",
       "      <td>1</td>\n",
       "      <td>3769</td>\n",
       "    </tr>\n",
       "    <tr>\n",
       "      <th>4</th>\n",
       "      <td>3.0</td>\n",
       "      <td>0</td>\n",
       "      <td>2469</td>\n",
       "    </tr>\n",
       "    <tr>\n",
       "      <th>5</th>\n",
       "      <td>3.0</td>\n",
       "      <td>1</td>\n",
       "      <td>3354</td>\n",
       "    </tr>\n",
       "    <tr>\n",
       "      <th>6</th>\n",
       "      <td>4.0</td>\n",
       "      <td>0</td>\n",
       "      <td>3095</td>\n",
       "    </tr>\n",
       "    <tr>\n",
       "      <th>7</th>\n",
       "      <td>4.0</td>\n",
       "      <td>1</td>\n",
       "      <td>3265</td>\n",
       "    </tr>\n",
       "    <tr>\n",
       "      <th>8</th>\n",
       "      <td>5.0</td>\n",
       "      <td>0</td>\n",
       "      <td>2334</td>\n",
       "    </tr>\n",
       "    <tr>\n",
       "      <th>9</th>\n",
       "      <td>5.0</td>\n",
       "      <td>1</td>\n",
       "      <td>2089</td>\n",
       "    </tr>\n",
       "  </tbody>\n",
       "</table>\n",
       "</div>"
      ],
      "text/plain": [
       "   Study Satisfaction  Depression  count\n",
       "0                 1.0           0   1594\n",
       "1                 1.0           1   3857\n",
       "2                 2.0           0   2071\n",
       "3                 2.0           1   3769\n",
       "4                 3.0           0   2469\n",
       "5                 3.0           1   3354\n",
       "6                 4.0           0   3095\n",
       "7                 4.0           1   3265\n",
       "8                 5.0           0   2334\n",
       "9                 5.0           1   2089"
      ]
     },
     "execution_count": 346,
     "metadata": {},
     "output_type": "execute_result"
    }
   ],
   "source": [
    "DF.groupby(['Study Satisfaction', 'Depression']).size().reset_index(name='count')"
   ]
  },
  {
   "cell_type": "code",
   "execution_count": 650,
   "id": "709d1620-68b7-44a4-ad35-c4e3d362b8c6",
   "metadata": {},
   "outputs": [
    {
     "data": {
      "application/vnd.plotly.v1+json": {
       "config": {
        "plotlyServerURL": "https://plot.ly"
       },
       "data": [
        {
         "customdata": [
          [
           0
          ],
          [
           1
          ]
         ],
         "direction": "clockwise",
         "domain": {
          "x": [
           0,
           0.18400000000000002
          ],
          "y": [
           0,
           1
          ]
         },
         "hovertemplate": "Study Satisfaction=5.0<br>Depression=%{customdata[0]}<br>count=%{value}<extra></extra>",
         "labels": [
          0,
          1
         ],
         "legendgroup": "",
         "marker": {
          "colors": [
           "#636efa",
           "#EF553B"
          ]
         },
         "name": "",
         "showlegend": true,
         "sort": false,
         "type": "pie",
         "values": [
          2334,
          2089
         ]
        },
        {
         "customdata": [
          [
           0
          ],
          [
           1
          ]
         ],
         "direction": "clockwise",
         "domain": {
          "x": [
           0.20400000000000001,
           0.388
          ],
          "y": [
           0,
           1
          ]
         },
         "hovertemplate": "Study Satisfaction=4.0<br>Depression=%{customdata[0]}<br>count=%{value}<extra></extra>",
         "labels": [
          0,
          1
         ],
         "legendgroup": "",
         "marker": {
          "colors": [
           "#636efa",
           "#EF553B"
          ]
         },
         "name": "",
         "showlegend": true,
         "sort": false,
         "type": "pie",
         "values": [
          3095,
          3265
         ]
        },
        {
         "customdata": [
          [
           0
          ],
          [
           1
          ]
         ],
         "direction": "clockwise",
         "domain": {
          "x": [
           0.40800000000000003,
           0.5920000000000001
          ],
          "y": [
           0,
           1
          ]
         },
         "hovertemplate": "Study Satisfaction=3.0<br>Depression=%{customdata[0]}<br>count=%{value}<extra></extra>",
         "labels": [
          0,
          1
         ],
         "legendgroup": "",
         "marker": {
          "colors": [
           "#636efa",
           "#EF553B"
          ]
         },
         "name": "",
         "showlegend": true,
         "sort": false,
         "type": "pie",
         "values": [
          2469,
          3354
         ]
        },
        {
         "customdata": [
          [
           0
          ],
          [
           1
          ]
         ],
         "direction": "clockwise",
         "domain": {
          "x": [
           0.6120000000000001,
           0.7960000000000002
          ],
          "y": [
           0,
           1
          ]
         },
         "hovertemplate": "Study Satisfaction=2.0<br>Depression=%{customdata[0]}<br>count=%{value}<extra></extra>",
         "labels": [
          0,
          1
         ],
         "legendgroup": "",
         "marker": {
          "colors": [
           "#636efa",
           "#EF553B"
          ]
         },
         "name": "",
         "showlegend": true,
         "sort": false,
         "type": "pie",
         "values": [
          2071,
          3769
         ]
        },
        {
         "customdata": [
          [
           0
          ],
          [
           1
          ]
         ],
         "direction": "clockwise",
         "domain": {
          "x": [
           0.8160000000000001,
           1
          ],
          "y": [
           0,
           1
          ]
         },
         "hovertemplate": "Study Satisfaction=1.0<br>Depression=%{customdata[0]}<br>count=%{value}<extra></extra>",
         "labels": [
          0,
          1
         ],
         "legendgroup": "",
         "marker": {
          "colors": [
           "#636efa",
           "#EF553B"
          ]
         },
         "name": "",
         "showlegend": true,
         "sort": false,
         "type": "pie",
         "values": [
          1594,
          3857
         ]
        }
       ],
       "layout": {
        "annotations": [
         {
          "font": {},
          "showarrow": false,
          "text": "Study Satisfaction=5.0",
          "x": 0.09200000000000001,
          "xanchor": "center",
          "xref": "paper",
          "y": 1,
          "yanchor": "bottom",
          "yref": "paper"
         },
         {
          "font": {},
          "showarrow": false,
          "text": "Study Satisfaction=4.0",
          "x": 0.29600000000000004,
          "xanchor": "center",
          "xref": "paper",
          "y": 1,
          "yanchor": "bottom",
          "yref": "paper"
         },
         {
          "font": {},
          "showarrow": false,
          "text": "Study Satisfaction=3.0",
          "x": 0.5,
          "xanchor": "center",
          "xref": "paper",
          "y": 1,
          "yanchor": "bottom",
          "yref": "paper"
         },
         {
          "font": {},
          "showarrow": false,
          "text": "Study Satisfaction=2.0",
          "x": 0.7040000000000002,
          "xanchor": "center",
          "xref": "paper",
          "y": 1,
          "yanchor": "bottom",
          "yref": "paper"
         },
         {
          "font": {},
          "showarrow": false,
          "text": "Study Satisfaction=1.0",
          "x": 0.908,
          "xanchor": "center",
          "xref": "paper",
          "y": 1,
          "yanchor": "bottom",
          "yref": "paper"
         }
        ],
        "font": {
         "color": "Darkblue",
         "family": "Times",
         "size": 12
        },
        "height": 300,
        "legend": {
         "title": {
          "text": "Depression"
         },
         "tracegroupgap": 0
        },
        "margin": {
         "t": 60
        },
        "template": {
         "data": {
          "bar": [
           {
            "error_x": {
             "color": "rgb(51,51,51)"
            },
            "error_y": {
             "color": "rgb(51,51,51)"
            },
            "marker": {
             "line": {
              "color": "rgb(237,237,237)",
              "width": 0.5
             },
             "pattern": {
              "fillmode": "overlay",
              "size": 10,
              "solidity": 0.2
             }
            },
            "type": "bar"
           }
          ],
          "barpolar": [
           {
            "marker": {
             "line": {
              "color": "rgb(237,237,237)",
              "width": 0.5
             },
             "pattern": {
              "fillmode": "overlay",
              "size": 10,
              "solidity": 0.2
             }
            },
            "type": "barpolar"
           }
          ],
          "carpet": [
           {
            "aaxis": {
             "endlinecolor": "rgb(51,51,51)",
             "gridcolor": "white",
             "linecolor": "white",
             "minorgridcolor": "white",
             "startlinecolor": "rgb(51,51,51)"
            },
            "baxis": {
             "endlinecolor": "rgb(51,51,51)",
             "gridcolor": "white",
             "linecolor": "white",
             "minorgridcolor": "white",
             "startlinecolor": "rgb(51,51,51)"
            },
            "type": "carpet"
           }
          ],
          "choropleth": [
           {
            "colorbar": {
             "outlinewidth": 0,
             "tickcolor": "rgb(237,237,237)",
             "ticklen": 6,
             "ticks": "inside"
            },
            "type": "choropleth"
           }
          ],
          "contour": [
           {
            "colorbar": {
             "outlinewidth": 0,
             "tickcolor": "rgb(237,237,237)",
             "ticklen": 6,
             "ticks": "inside"
            },
            "colorscale": [
             [
              0,
              "rgb(20,44,66)"
             ],
             [
              1,
              "rgb(90,179,244)"
             ]
            ],
            "type": "contour"
           }
          ],
          "contourcarpet": [
           {
            "colorbar": {
             "outlinewidth": 0,
             "tickcolor": "rgb(237,237,237)",
             "ticklen": 6,
             "ticks": "inside"
            },
            "type": "contourcarpet"
           }
          ],
          "heatmap": [
           {
            "colorbar": {
             "outlinewidth": 0,
             "tickcolor": "rgb(237,237,237)",
             "ticklen": 6,
             "ticks": "inside"
            },
            "colorscale": [
             [
              0,
              "rgb(20,44,66)"
             ],
             [
              1,
              "rgb(90,179,244)"
             ]
            ],
            "type": "heatmap"
           }
          ],
          "heatmapgl": [
           {
            "colorbar": {
             "outlinewidth": 0,
             "tickcolor": "rgb(237,237,237)",
             "ticklen": 6,
             "ticks": "inside"
            },
            "colorscale": [
             [
              0,
              "rgb(20,44,66)"
             ],
             [
              1,
              "rgb(90,179,244)"
             ]
            ],
            "type": "heatmapgl"
           }
          ],
          "histogram": [
           {
            "marker": {
             "pattern": {
              "fillmode": "overlay",
              "size": 10,
              "solidity": 0.2
             }
            },
            "type": "histogram"
           }
          ],
          "histogram2d": [
           {
            "colorbar": {
             "outlinewidth": 0,
             "tickcolor": "rgb(237,237,237)",
             "ticklen": 6,
             "ticks": "inside"
            },
            "colorscale": [
             [
              0,
              "rgb(20,44,66)"
             ],
             [
              1,
              "rgb(90,179,244)"
             ]
            ],
            "type": "histogram2d"
           }
          ],
          "histogram2dcontour": [
           {
            "colorbar": {
             "outlinewidth": 0,
             "tickcolor": "rgb(237,237,237)",
             "ticklen": 6,
             "ticks": "inside"
            },
            "colorscale": [
             [
              0,
              "rgb(20,44,66)"
             ],
             [
              1,
              "rgb(90,179,244)"
             ]
            ],
            "type": "histogram2dcontour"
           }
          ],
          "mesh3d": [
           {
            "colorbar": {
             "outlinewidth": 0,
             "tickcolor": "rgb(237,237,237)",
             "ticklen": 6,
             "ticks": "inside"
            },
            "type": "mesh3d"
           }
          ],
          "parcoords": [
           {
            "line": {
             "colorbar": {
              "outlinewidth": 0,
              "tickcolor": "rgb(237,237,237)",
              "ticklen": 6,
              "ticks": "inside"
             }
            },
            "type": "parcoords"
           }
          ],
          "pie": [
           {
            "automargin": true,
            "type": "pie"
           }
          ],
          "scatter": [
           {
            "fillpattern": {
             "fillmode": "overlay",
             "size": 10,
             "solidity": 0.2
            },
            "type": "scatter"
           }
          ],
          "scatter3d": [
           {
            "line": {
             "colorbar": {
              "outlinewidth": 0,
              "tickcolor": "rgb(237,237,237)",
              "ticklen": 6,
              "ticks": "inside"
             }
            },
            "marker": {
             "colorbar": {
              "outlinewidth": 0,
              "tickcolor": "rgb(237,237,237)",
              "ticklen": 6,
              "ticks": "inside"
             }
            },
            "type": "scatter3d"
           }
          ],
          "scattercarpet": [
           {
            "marker": {
             "colorbar": {
              "outlinewidth": 0,
              "tickcolor": "rgb(237,237,237)",
              "ticklen": 6,
              "ticks": "inside"
             }
            },
            "type": "scattercarpet"
           }
          ],
          "scattergeo": [
           {
            "marker": {
             "colorbar": {
              "outlinewidth": 0,
              "tickcolor": "rgb(237,237,237)",
              "ticklen": 6,
              "ticks": "inside"
             }
            },
            "type": "scattergeo"
           }
          ],
          "scattergl": [
           {
            "marker": {
             "colorbar": {
              "outlinewidth": 0,
              "tickcolor": "rgb(237,237,237)",
              "ticklen": 6,
              "ticks": "inside"
             }
            },
            "type": "scattergl"
           }
          ],
          "scattermapbox": [
           {
            "marker": {
             "colorbar": {
              "outlinewidth": 0,
              "tickcolor": "rgb(237,237,237)",
              "ticklen": 6,
              "ticks": "inside"
             }
            },
            "type": "scattermapbox"
           }
          ],
          "scatterpolar": [
           {
            "marker": {
             "colorbar": {
              "outlinewidth": 0,
              "tickcolor": "rgb(237,237,237)",
              "ticklen": 6,
              "ticks": "inside"
             }
            },
            "type": "scatterpolar"
           }
          ],
          "scatterpolargl": [
           {
            "marker": {
             "colorbar": {
              "outlinewidth": 0,
              "tickcolor": "rgb(237,237,237)",
              "ticklen": 6,
              "ticks": "inside"
             }
            },
            "type": "scatterpolargl"
           }
          ],
          "scatterternary": [
           {
            "marker": {
             "colorbar": {
              "outlinewidth": 0,
              "tickcolor": "rgb(237,237,237)",
              "ticklen": 6,
              "ticks": "inside"
             }
            },
            "type": "scatterternary"
           }
          ],
          "surface": [
           {
            "colorbar": {
             "outlinewidth": 0,
             "tickcolor": "rgb(237,237,237)",
             "ticklen": 6,
             "ticks": "inside"
            },
            "colorscale": [
             [
              0,
              "rgb(20,44,66)"
             ],
             [
              1,
              "rgb(90,179,244)"
             ]
            ],
            "type": "surface"
           }
          ],
          "table": [
           {
            "cells": {
             "fill": {
              "color": "rgb(237,237,237)"
             },
             "line": {
              "color": "white"
             }
            },
            "header": {
             "fill": {
              "color": "rgb(217,217,217)"
             },
             "line": {
              "color": "white"
             }
            },
            "type": "table"
           }
          ]
         },
         "layout": {
          "annotationdefaults": {
           "arrowhead": 0,
           "arrowwidth": 1
          },
          "autotypenumbers": "strict",
          "coloraxis": {
           "colorbar": {
            "outlinewidth": 0,
            "tickcolor": "rgb(237,237,237)",
            "ticklen": 6,
            "ticks": "inside"
           }
          },
          "colorscale": {
           "sequential": [
            [
             0,
             "rgb(20,44,66)"
            ],
            [
             1,
             "rgb(90,179,244)"
            ]
           ],
           "sequentialminus": [
            [
             0,
             "rgb(20,44,66)"
            ],
            [
             1,
             "rgb(90,179,244)"
            ]
           ]
          },
          "colorway": [
           "#F8766D",
           "#A3A500",
           "#00BF7D",
           "#00B0F6",
           "#E76BF3"
          ],
          "font": {
           "color": "rgb(51,51,51)"
          },
          "geo": {
           "bgcolor": "white",
           "lakecolor": "white",
           "landcolor": "rgb(237,237,237)",
           "showlakes": true,
           "showland": true,
           "subunitcolor": "white"
          },
          "hoverlabel": {
           "align": "left"
          },
          "hovermode": "closest",
          "paper_bgcolor": "white",
          "plot_bgcolor": "rgb(237,237,237)",
          "polar": {
           "angularaxis": {
            "gridcolor": "white",
            "linecolor": "white",
            "showgrid": true,
            "tickcolor": "rgb(51,51,51)",
            "ticks": "outside"
           },
           "bgcolor": "rgb(237,237,237)",
           "radialaxis": {
            "gridcolor": "white",
            "linecolor": "white",
            "showgrid": true,
            "tickcolor": "rgb(51,51,51)",
            "ticks": "outside"
           }
          },
          "scene": {
           "xaxis": {
            "backgroundcolor": "rgb(237,237,237)",
            "gridcolor": "white",
            "gridwidth": 2,
            "linecolor": "white",
            "showbackground": true,
            "showgrid": true,
            "tickcolor": "rgb(51,51,51)",
            "ticks": "outside",
            "zerolinecolor": "white"
           },
           "yaxis": {
            "backgroundcolor": "rgb(237,237,237)",
            "gridcolor": "white",
            "gridwidth": 2,
            "linecolor": "white",
            "showbackground": true,
            "showgrid": true,
            "tickcolor": "rgb(51,51,51)",
            "ticks": "outside",
            "zerolinecolor": "white"
           },
           "zaxis": {
            "backgroundcolor": "rgb(237,237,237)",
            "gridcolor": "white",
            "gridwidth": 2,
            "linecolor": "white",
            "showbackground": true,
            "showgrid": true,
            "tickcolor": "rgb(51,51,51)",
            "ticks": "outside",
            "zerolinecolor": "white"
           }
          },
          "shapedefaults": {
           "fillcolor": "black",
           "line": {
            "width": 0
           },
           "opacity": 0.3
          },
          "ternary": {
           "aaxis": {
            "gridcolor": "white",
            "linecolor": "white",
            "showgrid": true,
            "tickcolor": "rgb(51,51,51)",
            "ticks": "outside"
           },
           "baxis": {
            "gridcolor": "white",
            "linecolor": "white",
            "showgrid": true,
            "tickcolor": "rgb(51,51,51)",
            "ticks": "outside"
           },
           "bgcolor": "rgb(237,237,237)",
           "caxis": {
            "gridcolor": "white",
            "linecolor": "white",
            "showgrid": true,
            "tickcolor": "rgb(51,51,51)",
            "ticks": "outside"
           }
          },
          "xaxis": {
           "automargin": true,
           "gridcolor": "white",
           "linecolor": "white",
           "showgrid": true,
           "tickcolor": "rgb(51,51,51)",
           "ticks": "outside",
           "title": {
            "standoff": 15
           },
           "zerolinecolor": "white"
          },
          "yaxis": {
           "automargin": true,
           "gridcolor": "white",
           "linecolor": "white",
           "showgrid": true,
           "tickcolor": "rgb(51,51,51)",
           "ticks": "outside",
           "title": {
            "standoff": 15
           },
           "zerolinecolor": "white"
          }
         }
        },
        "title": {
         "font": {
          "size": 25
         },
         "text": "How Do Different Variables Influence Depression Rates? <br> <sup>Study Satisfaction Vs. Depression<sup>",
         "x": 0.5,
         "xanchor": "center",
         "y": 0.95,
         "yanchor": "top"
        },
        "width": 900
       }
      },
      "image/png": "[encoded data removed]",
      "text/html": [
       "<div>                            <div id=\"4e794e17-4f9f-4e67-9b4c-f30e970000f6\" class=\"plotly-graph-div\" style=\"height:300px; width:900px;\"></div>            <script type=\"text/javascript\">                require([\"plotly\"], function(Plotly) {                    window.PLOTLYENV=window.PLOTLYENV || {};                                    if (document.getElementById(\"4e794e17-4f9f-4e67-9b4c-f30e970000f6\")) {                    Plotly.newPlot(                        \"4e794e17-4f9f-4e67-9b4c-f30e970000f6\",                        [{\"customdata\":[[0],[1]],\"direction\":\"clockwise\",\"domain\":{\"x\":[0.0,0.18400000000000002],\"y\":[0.0,1.0]},\"hovertemplate\":\"Study Satisfaction=5.0\\u003cbr\\u003eDepression=%{customdata[0]}\\u003cbr\\u003ecount=%{value}\\u003cextra\\u003e\\u003c\\u002fextra\\u003e\",\"labels\":[0,1],\"legendgroup\":\"\",\"marker\":{\"colors\":[\"#636efa\",\"#EF553B\"]},\"name\":\"\",\"showlegend\":true,\"sort\":false,\"values\":[2334,2089],\"type\":\"pie\"},{\"customdata\":[[0],[1]],\"direction\":\"clockwise\",\"domain\":{\"x\":[0.20400000000000001,0.388],\"y\":[0.0,1.0]},\"hovertemplate\":\"Study Satisfaction=4.0\\u003cbr\\u003eDepression=%{customdata[0]}\\u003cbr\\u003ecount=%{value}\\u003cextra\\u003e\\u003c\\u002fextra\\u003e\",\"labels\":[0,1],\"legendgroup\":\"\",\"marker\":{\"colors\":[\"#636efa\",\"#EF553B\"]},\"name\":\"\",\"showlegend\":true,\"sort\":false,\"values\":[3095,3265],\"type\":\"pie\"},{\"customdata\":[[0],[1]],\"direction\":\"clockwise\",\"domain\":{\"x\":[0.40800000000000003,0.5920000000000001],\"y\":[0.0,1.0]},\"hovertemplate\":\"Study Satisfaction=3.0\\u003cbr\\u003eDepression=%{customdata[0]}\\u003cbr\\u003ecount=%{value}\\u003cextra\\u003e\\u003c\\u002fextra\\u003e\",\"labels\":[0,1],\"legendgroup\":\"\",\"marker\":{\"colors\":[\"#636efa\",\"#EF553B\"]},\"name\":\"\",\"showlegend\":true,\"sort\":false,\"values\":[2469,3354],\"type\":\"pie\"},{\"customdata\":[[0],[1]],\"direction\":\"clockwise\",\"domain\":{\"x\":[0.6120000000000001,0.7960000000000002],\"y\":[0.0,1.0]},\"hovertemplate\":\"Study Satisfaction=2.0\\u003cbr\\u003eDepression=%{customdata[0]}\\u003cbr\\u003ecount=%{value}\\u003cextra\\u003e\\u003c\\u002fextra\\u003e\",\"labels\":[0,1],\"legendgroup\":\"\",\"marker\":{\"colors\":[\"#636efa\",\"#EF553B\"]},\"name\":\"\",\"showlegend\":true,\"sort\":false,\"values\":[2071,3769],\"type\":\"pie\"},{\"customdata\":[[0],[1]],\"direction\":\"clockwise\",\"domain\":{\"x\":[0.8160000000000001,1.0],\"y\":[0.0,1.0]},\"hovertemplate\":\"Study Satisfaction=1.0\\u003cbr\\u003eDepression=%{customdata[0]}\\u003cbr\\u003ecount=%{value}\\u003cextra\\u003e\\u003c\\u002fextra\\u003e\",\"labels\":[0,1],\"legendgroup\":\"\",\"marker\":{\"colors\":[\"#636efa\",\"#EF553B\"]},\"name\":\"\",\"showlegend\":true,\"sort\":false,\"values\":[1594,3857],\"type\":\"pie\"}],                        {\"template\":{\"data\":{\"barpolar\":[{\"marker\":{\"line\":{\"color\":\"rgb(237,237,237)\",\"width\":0.5},\"pattern\":{\"fillmode\":\"overlay\",\"size\":10,\"solidity\":0.2}},\"type\":\"barpolar\"}],\"bar\":[{\"error_x\":{\"color\":\"rgb(51,51,51)\"},\"error_y\":{\"color\":\"rgb(51,51,51)\"},\"marker\":{\"line\":{\"color\":\"rgb(237,237,237)\",\"width\":0.5},\"pattern\":{\"fillmode\":\"overlay\",\"size\":10,\"solidity\":0.2}},\"type\":\"bar\"}],\"carpet\":[{\"aaxis\":{\"endlinecolor\":\"rgb(51,51,51)\",\"gridcolor\":\"white\",\"linecolor\":\"white\",\"minorgridcolor\":\"white\",\"startlinecolor\":\"rgb(51,51,51)\"},\"baxis\":{\"endlinecolor\":\"rgb(51,51,51)\",\"gridcolor\":\"white\",\"linecolor\":\"white\",\"minorgridcolor\":\"white\",\"startlinecolor\":\"rgb(51,51,51)\"},\"type\":\"carpet\"}],\"choropleth\":[{\"colorbar\":{\"outlinewidth\":0,\"tickcolor\":\"rgb(237,237,237)\",\"ticklen\":6,\"ticks\":\"inside\"},\"type\":\"choropleth\"}],\"contourcarpet\":[{\"colorbar\":{\"outlinewidth\":0,\"tickcolor\":\"rgb(237,237,237)\",\"ticklen\":6,\"ticks\":\"inside\"},\"type\":\"contourcarpet\"}],\"contour\":[{\"colorbar\":{\"outlinewidth\":0,\"tickcolor\":\"rgb(237,237,237)\",\"ticklen\":6,\"ticks\":\"inside\"},\"colorscale\":[[0,\"rgb(20,44,66)\"],[1,\"rgb(90,179,244)\"]],\"type\":\"contour\"}],\"heatmapgl\":[{\"colorbar\":{\"outlinewidth\":0,\"tickcolor\":\"rgb(237,237,237)\",\"ticklen\":6,\"ticks\":\"inside\"},\"colorscale\":[[0,\"rgb(20,44,66)\"],[1,\"rgb(90,179,244)\"]],\"type\":\"heatmapgl\"}],\"heatmap\":[{\"colorbar\":{\"outlinewidth\":0,\"tickcolor\":\"rgb(237,237,237)\",\"ticklen\":6,\"ticks\":\"inside\"},\"colorscale\":[[0,\"rgb(20,44,66)\"],[1,\"rgb(90,179,244)\"]],\"type\":\"heatmap\"}],\"histogram2dcontour\":[{\"colorbar\":{\"outlinewidth\":0,\"tickcolor\":\"rgb(237,237,237)\",\"ticklen\":6,\"ticks\":\"inside\"},\"colorscale\":[[0,\"rgb(20,44,66)\"],[1,\"rgb(90,179,244)\"]],\"type\":\"histogram2dcontour\"}],\"histogram2d\":[{\"colorbar\":{\"outlinewidth\":0,\"tickcolor\":\"rgb(237,237,237)\",\"ticklen\":6,\"ticks\":\"inside\"},\"colorscale\":[[0,\"rgb(20,44,66)\"],[1,\"rgb(90,179,244)\"]],\"type\":\"histogram2d\"}],\"histogram\":[{\"marker\":{\"pattern\":{\"fillmode\":\"overlay\",\"size\":10,\"solidity\":0.2}},\"type\":\"histogram\"}],\"mesh3d\":[{\"colorbar\":{\"outlinewidth\":0,\"tickcolor\":\"rgb(237,237,237)\",\"ticklen\":6,\"ticks\":\"inside\"},\"type\":\"mesh3d\"}],\"parcoords\":[{\"line\":{\"colorbar\":{\"outlinewidth\":0,\"tickcolor\":\"rgb(237,237,237)\",\"ticklen\":6,\"ticks\":\"inside\"}},\"type\":\"parcoords\"}],\"pie\":[{\"automargin\":true,\"type\":\"pie\"}],\"scatter3d\":[{\"line\":{\"colorbar\":{\"outlinewidth\":0,\"tickcolor\":\"rgb(237,237,237)\",\"ticklen\":6,\"ticks\":\"inside\"}},\"marker\":{\"colorbar\":{\"outlinewidth\":0,\"tickcolor\":\"rgb(237,237,237)\",\"ticklen\":6,\"ticks\":\"inside\"}},\"type\":\"scatter3d\"}],\"scattercarpet\":[{\"marker\":{\"colorbar\":{\"outlinewidth\":0,\"tickcolor\":\"rgb(237,237,237)\",\"ticklen\":6,\"ticks\":\"inside\"}},\"type\":\"scattercarpet\"}],\"scattergeo\":[{\"marker\":{\"colorbar\":{\"outlinewidth\":0,\"tickcolor\":\"rgb(237,237,237)\",\"ticklen\":6,\"ticks\":\"inside\"}},\"type\":\"scattergeo\"}],\"scattergl\":[{\"marker\":{\"colorbar\":{\"outlinewidth\":0,\"tickcolor\":\"rgb(237,237,237)\",\"ticklen\":6,\"ticks\":\"inside\"}},\"type\":\"scattergl\"}],\"scattermapbox\":[{\"marker\":{\"colorbar\":{\"outlinewidth\":0,\"tickcolor\":\"rgb(237,237,237)\",\"ticklen\":6,\"ticks\":\"inside\"}},\"type\":\"scattermapbox\"}],\"scatterpolargl\":[{\"marker\":{\"colorbar\":{\"outlinewidth\":0,\"tickcolor\":\"rgb(237,237,237)\",\"ticklen\":6,\"ticks\":\"inside\"}},\"type\":\"scatterpolargl\"}],\"scatterpolar\":[{\"marker\":{\"colorbar\":{\"outlinewidth\":0,\"tickcolor\":\"rgb(237,237,237)\",\"ticklen\":6,\"ticks\":\"inside\"}},\"type\":\"scatterpolar\"}],\"scatter\":[{\"fillpattern\":{\"fillmode\":\"overlay\",\"size\":10,\"solidity\":0.2},\"type\":\"scatter\"}],\"scatterternary\":[{\"marker\":{\"colorbar\":{\"outlinewidth\":0,\"tickcolor\":\"rgb(237,237,237)\",\"ticklen\":6,\"ticks\":\"inside\"}},\"type\":\"scatterternary\"}],\"surface\":[{\"colorbar\":{\"outlinewidth\":0,\"tickcolor\":\"rgb(237,237,237)\",\"ticklen\":6,\"ticks\":\"inside\"},\"colorscale\":[[0,\"rgb(20,44,66)\"],[1,\"rgb(90,179,244)\"]],\"type\":\"surface\"}],\"table\":[{\"cells\":{\"fill\":{\"color\":\"rgb(237,237,237)\"},\"line\":{\"color\":\"white\"}},\"header\":{\"fill\":{\"color\":\"rgb(217,217,217)\"},\"line\":{\"color\":\"white\"}},\"type\":\"table\"}]},\"layout\":{\"annotationdefaults\":{\"arrowhead\":0,\"arrowwidth\":1},\"autotypenumbers\":\"strict\",\"coloraxis\":{\"colorbar\":{\"outlinewidth\":0,\"tickcolor\":\"rgb(237,237,237)\",\"ticklen\":6,\"ticks\":\"inside\"}},\"colorscale\":{\"sequential\":[[0,\"rgb(20,44,66)\"],[1,\"rgb(90,179,244)\"]],\"sequentialminus\":[[0,\"rgb(20,44,66)\"],[1,\"rgb(90,179,244)\"]]},\"colorway\":[\"#F8766D\",\"#A3A500\",\"#00BF7D\",\"#00B0F6\",\"#E76BF3\"],\"font\":{\"color\":\"rgb(51,51,51)\"},\"geo\":{\"bgcolor\":\"white\",\"lakecolor\":\"white\",\"landcolor\":\"rgb(237,237,237)\",\"showlakes\":true,\"showland\":true,\"subunitcolor\":\"white\"},\"hoverlabel\":{\"align\":\"left\"},\"hovermode\":\"closest\",\"paper_bgcolor\":\"white\",\"plot_bgcolor\":\"rgb(237,237,237)\",\"polar\":{\"angularaxis\":{\"gridcolor\":\"white\",\"linecolor\":\"white\",\"showgrid\":true,\"tickcolor\":\"rgb(51,51,51)\",\"ticks\":\"outside\"},\"bgcolor\":\"rgb(237,237,237)\",\"radialaxis\":{\"gridcolor\":\"white\",\"linecolor\":\"white\",\"showgrid\":true,\"tickcolor\":\"rgb(51,51,51)\",\"ticks\":\"outside\"}},\"scene\":{\"xaxis\":{\"backgroundcolor\":\"rgb(237,237,237)\",\"gridcolor\":\"white\",\"gridwidth\":2,\"linecolor\":\"white\",\"showbackground\":true,\"showgrid\":true,\"tickcolor\":\"rgb(51,51,51)\",\"ticks\":\"outside\",\"zerolinecolor\":\"white\"},\"yaxis\":{\"backgroundcolor\":\"rgb(237,237,237)\",\"gridcolor\":\"white\",\"gridwidth\":2,\"linecolor\":\"white\",\"showbackground\":true,\"showgrid\":true,\"tickcolor\":\"rgb(51,51,51)\",\"ticks\":\"outside\",\"zerolinecolor\":\"white\"},\"zaxis\":{\"backgroundcolor\":\"rgb(237,237,237)\",\"gridcolor\":\"white\",\"gridwidth\":2,\"linecolor\":\"white\",\"showbackground\":true,\"showgrid\":true,\"tickcolor\":\"rgb(51,51,51)\",\"ticks\":\"outside\",\"zerolinecolor\":\"white\"}},\"shapedefaults\":{\"fillcolor\":\"black\",\"line\":{\"width\":0},\"opacity\":0.3},\"ternary\":{\"aaxis\":{\"gridcolor\":\"white\",\"linecolor\":\"white\",\"showgrid\":true,\"tickcolor\":\"rgb(51,51,51)\",\"ticks\":\"outside\"},\"baxis\":{\"gridcolor\":\"white\",\"linecolor\":\"white\",\"showgrid\":true,\"tickcolor\":\"rgb(51,51,51)\",\"ticks\":\"outside\"},\"bgcolor\":\"rgb(237,237,237)\",\"caxis\":{\"gridcolor\":\"white\",\"linecolor\":\"white\",\"showgrid\":true,\"tickcolor\":\"rgb(51,51,51)\",\"ticks\":\"outside\"}},\"xaxis\":{\"automargin\":true,\"gridcolor\":\"white\",\"linecolor\":\"white\",\"showgrid\":true,\"tickcolor\":\"rgb(51,51,51)\",\"ticks\":\"outside\",\"title\":{\"standoff\":15},\"zerolinecolor\":\"white\"},\"yaxis\":{\"automargin\":true,\"gridcolor\":\"white\",\"linecolor\":\"white\",\"showgrid\":true,\"tickcolor\":\"rgb(51,51,51)\",\"ticks\":\"outside\",\"title\":{\"standoff\":15},\"zerolinecolor\":\"white\"}}},\"annotations\":[{\"font\":{},\"showarrow\":false,\"text\":\"Study Satisfaction=5.0\",\"x\":0.09200000000000001,\"xanchor\":\"center\",\"xref\":\"paper\",\"y\":1.0,\"yanchor\":\"bottom\",\"yref\":\"paper\"},{\"font\":{},\"showarrow\":false,\"text\":\"Study Satisfaction=4.0\",\"x\":0.29600000000000004,\"xanchor\":\"center\",\"xref\":\"paper\",\"y\":1.0,\"yanchor\":\"bottom\",\"yref\":\"paper\"},{\"font\":{},\"showarrow\":false,\"text\":\"Study Satisfaction=3.0\",\"x\":0.5,\"xanchor\":\"center\",\"xref\":\"paper\",\"y\":1.0,\"yanchor\":\"bottom\",\"yref\":\"paper\"},{\"font\":{},\"showarrow\":false,\"text\":\"Study Satisfaction=2.0\",\"x\":0.7040000000000002,\"xanchor\":\"center\",\"xref\":\"paper\",\"y\":1.0,\"yanchor\":\"bottom\",\"yref\":\"paper\"},{\"font\":{},\"showarrow\":false,\"text\":\"Study Satisfaction=1.0\",\"x\":0.908,\"xanchor\":\"center\",\"xref\":\"paper\",\"y\":1.0,\"yanchor\":\"bottom\",\"yref\":\"paper\"}],\"legend\":{\"tracegroupgap\":0,\"title\":{\"text\":\"Depression\"}},\"margin\":{\"t\":60},\"title\":{\"font\":{\"size\":25},\"text\":\"How Do Different Variables Influence Depression Rates? \\u003cbr\\u003e \\u003csup\\u003eStudy Satisfaction Vs. Depression\\u003csup\\u003e\",\"x\":0.5,\"y\":0.95,\"xanchor\":\"center\",\"yanchor\":\"top\"},\"font\":{\"family\":\"Times\",\"size\":12,\"color\":\"Darkblue\"},\"width\":900,\"height\":300},                        {\"responsive\": true}                    ).then(function(){\n",
       "                            \n",
       "var gd = document.getElementById('4e794e17-4f9f-4e67-9b4c-f30e970000f6');\n",
       "var x = new MutationObserver(function (mutations, observer) {{\n",
       "        var display = window.getComputedStyle(gd).display;\n",
       "        if (!display || display === 'none') {{\n",
       "            console.log([gd, 'removed!']);\n",
       "            Plotly.purge(gd);\n",
       "            observer.disconnect();\n",
       "        }}\n",
       "}});\n",
       "\n",
       "// Listen for the removal of the full notebook cells\n",
       "var notebookContainer = gd.closest('#notebook-container');\n",
       "if (notebookContainer) {{\n",
       "    x.observe(notebookContainer, {childList: true});\n",
       "}}\n",
       "\n",
       "// Listen for the clearing of the current output cell\n",
       "var outputEl = gd.closest('.output');\n",
       "if (outputEl) {{\n",
       "    x.observe(outputEl, {childList: true});\n",
       "}}\n",
       "\n",
       "                        })                };                });            </script>        </div>"
      ]
     },
     "metadata": {},
     "output_type": "display_data"
    },
    {
     "data": {
      "application/vnd.plotly.v1+json": {
       "config": {
        "plotlyServerURL": "https://plot.ly"
       },
       "data": [
        {
         "customdata": [
          [
           0
          ],
          [
           1
          ]
         ],
         "domain": {
          "x": [
           0,
           0.18400000000000002
          ],
          "y": [
           0,
           1
          ]
         },
         "hovertemplate": "Job Satisfaction=5.0<br>count=%{value}<br>Depression=%{customdata[0]}<extra></extra>",
         "legendgroup": "",
         "marker": {
          "colors": [
           "#636efa",
           "#EF553B"
          ]
         },
         "name": "",
         "showlegend": false,
         "type": "pie",
         "values": [
          21928,
          884
         ]
        },
        {
         "customdata": [
          [
           0
          ],
          [
           1
          ]
         ],
         "domain": {
          "x": [
           0.20400000000000001,
           0.388
          ],
          "y": [
           0,
           1
          ]
         },
         "hovertemplate": "Job Satisfaction=4.0<br>count=%{value}<br>Depression=%{customdata[0]}<extra></extra>",
         "legendgroup": "",
         "marker": {
          "colors": [
           "#636efa",
           "#EF553B"
          ]
         },
         "name": "",
         "showlegend": false,
         "type": "pie",
         "values": [
          20095,
          825
         ]
        },
        {
         "customdata": [
          [
           0
          ],
          [
           1
          ]
         ],
         "domain": {
          "x": [
           0.40800000000000003,
           0.5920000000000001
          ],
          "y": [
           0,
           1
          ]
         },
         "hovertemplate": "Job Satisfaction=3.0<br>count=%{value}<br>Depression=%{customdata[0]}<extra></extra>",
         "legendgroup": "",
         "marker": {
          "colors": [
           "#636efa",
           "#EF553B"
          ]
         },
         "name": "",
         "showlegend": false,
         "type": "pie",
         "values": [
          20755,
          1196
         ]
        },
        {
         "customdata": [
          [
           0
          ],
          [
           1
          ]
         ],
         "domain": {
          "x": [
           0.6120000000000001,
           0.7960000000000002
          ],
          "y": [
           0,
           1
          ]
         },
         "hovertemplate": "Job Satisfaction=2.0<br>count=%{value}<br>Depression=%{customdata[0]}<extra></extra>",
         "legendgroup": "",
         "marker": {
          "colors": [
           "#636efa",
           "#EF553B"
          ]
         },
         "name": "",
         "showlegend": false,
         "type": "pie",
         "values": [
          22346,
          2437
         ]
        },
        {
         "customdata": [
          [
           0
          ],
          [
           1
          ]
         ],
         "domain": {
          "x": [
           0.8160000000000001,
           1
          ],
          "y": [
           0,
           1
          ]
         },
         "hovertemplate": "Job Satisfaction=1.0<br>count=%{value}<br>Depression=%{customdata[0]}<extra></extra>",
         "legendgroup": "",
         "marker": {
          "colors": [
           "#636efa",
           "#EF553B"
          ]
         },
         "name": "",
         "showlegend": false,
         "type": "pie",
         "values": [
          18439,
          3885
         ]
        }
       ],
       "layout": {
        "annotations": [
         {
          "font": {},
          "showarrow": false,
          "text": "Job Satisfaction=5.0",
          "x": 0.09200000000000001,
          "xanchor": "center",
          "xref": "paper",
          "y": 1,
          "yanchor": "bottom",
          "yref": "paper"
         },
         {
          "font": {},
          "showarrow": false,
          "text": "Job Satisfaction=4.0",
          "x": 0.29600000000000004,
          "xanchor": "center",
          "xref": "paper",
          "y": 1,
          "yanchor": "bottom",
          "yref": "paper"
         },
         {
          "font": {},
          "showarrow": false,
          "text": "Job Satisfaction=3.0",
          "x": 0.5,
          "xanchor": "center",
          "xref": "paper",
          "y": 1,
          "yanchor": "bottom",
          "yref": "paper"
         },
         {
          "font": {},
          "showarrow": false,
          "text": "Job Satisfaction=2.0",
          "x": 0.7040000000000002,
          "xanchor": "center",
          "xref": "paper",
          "y": 1,
          "yanchor": "bottom",
          "yref": "paper"
         },
         {
          "font": {},
          "showarrow": false,
          "text": "Job Satisfaction=1.0",
          "x": 0.908,
          "xanchor": "center",
          "xref": "paper",
          "y": 1,
          "yanchor": "bottom",
          "yref": "paper"
         }
        ],
        "font": {
         "color": "Darkblue",
         "family": "Times",
         "size": 12
        },
        "height": 300,
        "legend": {
         "tracegroupgap": 0
        },
        "margin": {
         "t": 60
        },
        "template": {
         "data": {
          "bar": [
           {
            "error_x": {
             "color": "#2a3f5f"
            },
            "error_y": {
             "color": "#2a3f5f"
            },
            "marker": {
             "line": {
              "color": "#E5ECF6",
              "width": 0.5
             },
             "pattern": {
              "fillmode": "overlay",
              "size": 10,
              "solidity": 0.2
             }
            },
            "type": "bar"
           }
          ],
          "barpolar": [
           {
            "marker": {
             "line": {
              "color": "#E5ECF6",
              "width": 0.5
             },
             "pattern": {
              "fillmode": "overlay",
              "size": 10,
              "solidity": 0.2
             }
            },
            "type": "barpolar"
           }
          ],
          "carpet": [
           {
            "aaxis": {
             "endlinecolor": "#2a3f5f",
             "gridcolor": "white",
             "linecolor": "white",
             "minorgridcolor": "white",
             "startlinecolor": "#2a3f5f"
            },
            "baxis": {
             "endlinecolor": "#2a3f5f",
             "gridcolor": "white",
             "linecolor": "white",
             "minorgridcolor": "white",
             "startlinecolor": "#2a3f5f"
            },
            "type": "carpet"
           }
          ],
          "choropleth": [
           {
            "colorbar": {
             "outlinewidth": 0,
             "ticks": ""
            },
            "type": "choropleth"
           }
          ],
          "contour": [
           {
            "colorbar": {
             "outlinewidth": 0,
             "ticks": ""
            },
            "colorscale": [
             [
              0,
              "#0d0887"
             ],
             [
              0.1111111111111111,
              "#46039f"
             ],
             [
              0.2222222222222222,
              "#7201a8"
             ],
             [
              0.3333333333333333,
              "#9c179e"
             ],
             [
              0.4444444444444444,
              "#bd3786"
             ],
             [
              0.5555555555555556,
              "#d8576b"
             ],
             [
              0.6666666666666666,
              "#ed7953"
             ],
             [
              0.7777777777777778,
              "#fb9f3a"
             ],
             [
              0.8888888888888888,
              "#fdca26"
             ],
             [
              1,
              "#f0f921"
             ]
            ],
            "type": "contour"
           }
          ],
          "contourcarpet": [
           {
            "colorbar": {
             "outlinewidth": 0,
             "ticks": ""
            },
            "type": "contourcarpet"
           }
          ],
          "heatmap": [
           {
            "colorbar": {
             "outlinewidth": 0,
             "ticks": ""
            },
            "colorscale": [
             [
              0,
              "#0d0887"
             ],
             [
              0.1111111111111111,
              "#46039f"
             ],
             [
              0.2222222222222222,
              "#7201a8"
             ],
             [
              0.3333333333333333,
              "#9c179e"
             ],
             [
              0.4444444444444444,
              "#bd3786"
             ],
             [
              0.5555555555555556,
              "#d8576b"
             ],
             [
              0.6666666666666666,
              "#ed7953"
             ],
             [
              0.7777777777777778,
              "#fb9f3a"
             ],
             [
              0.8888888888888888,
              "#fdca26"
             ],
             [
              1,
              "#f0f921"
             ]
            ],
            "type": "heatmap"
           }
          ],
          "heatmapgl": [
           {
            "colorbar": {
             "outlinewidth": 0,
             "ticks": ""
            },
            "colorscale": [
             [
              0,
              "#0d0887"
             ],
             [
              0.1111111111111111,
              "#46039f"
             ],
             [
              0.2222222222222222,
              "#7201a8"
             ],
             [
              0.3333333333333333,
              "#9c179e"
             ],
             [
              0.4444444444444444,
              "#bd3786"
             ],
             [
              0.5555555555555556,
              "#d8576b"
             ],
             [
              0.6666666666666666,
              "#ed7953"
             ],
             [
              0.7777777777777778,
              "#fb9f3a"
             ],
             [
              0.8888888888888888,
              "#fdca26"
             ],
             [
              1,
              "#f0f921"
             ]
            ],
            "type": "heatmapgl"
           }
          ],
          "histogram": [
           {
            "marker": {
             "pattern": {
              "fillmode": "overlay",
              "size": 10,
              "solidity": 0.2
             }
            },
            "type": "histogram"
           }
          ],
          "histogram2d": [
           {
            "colorbar": {
             "outlinewidth": 0,
             "ticks": ""
            },
            "colorscale": [
             [
              0,
              "#0d0887"
             ],
             [
              0.1111111111111111,
              "#46039f"
             ],
             [
              0.2222222222222222,
              "#7201a8"
             ],
             [
              0.3333333333333333,
              "#9c179e"
             ],
             [
              0.4444444444444444,
              "#bd3786"
             ],
             [
              0.5555555555555556,
              "#d8576b"
             ],
             [
              0.6666666666666666,
              "#ed7953"
             ],
             [
              0.7777777777777778,
              "#fb9f3a"
             ],
             [
              0.8888888888888888,
              "#fdca26"
             ],
             [
              1,
              "#f0f921"
             ]
            ],
            "type": "histogram2d"
           }
          ],
          "histogram2dcontour": [
           {
            "colorbar": {
             "outlinewidth": 0,
             "ticks": ""
            },
            "colorscale": [
             [
              0,
              "#0d0887"
             ],
             [
              0.1111111111111111,
              "#46039f"
             ],
             [
              0.2222222222222222,
              "#7201a8"
             ],
             [
              0.3333333333333333,
              "#9c179e"
             ],
             [
              0.4444444444444444,
              "#bd3786"
             ],
             [
              0.5555555555555556,
              "#d8576b"
             ],
             [
              0.6666666666666666,
              "#ed7953"
             ],
             [
              0.7777777777777778,
              "#fb9f3a"
             ],
             [
              0.8888888888888888,
              "#fdca26"
             ],
             [
              1,
              "#f0f921"
             ]
            ],
            "type": "histogram2dcontour"
           }
          ],
          "mesh3d": [
           {
            "colorbar": {
             "outlinewidth": 0,
             "ticks": ""
            },
            "type": "mesh3d"
           }
          ],
          "parcoords": [
           {
            "line": {
             "colorbar": {
              "outlinewidth": 0,
              "ticks": ""
             }
            },
            "type": "parcoords"
           }
          ],
          "pie": [
           {
            "automargin": true,
            "type": "pie"
           }
          ],
          "scatter": [
           {
            "fillpattern": {
             "fillmode": "overlay",
             "size": 10,
             "solidity": 0.2
            },
            "type": "scatter"
           }
          ],
          "scatter3d": [
           {
            "line": {
             "colorbar": {
              "outlinewidth": 0,
              "ticks": ""
             }
            },
            "marker": {
             "colorbar": {
              "outlinewidth": 0,
              "ticks": ""
             }
            },
            "type": "scatter3d"
           }
          ],
          "scattercarpet": [
           {
            "marker": {
             "colorbar": {
              "outlinewidth": 0,
              "ticks": ""
             }
            },
            "type": "scattercarpet"
           }
          ],
          "scattergeo": [
           {
            "marker": {
             "colorbar": {
              "outlinewidth": 0,
              "ticks": ""
             }
            },
            "type": "scattergeo"
           }
          ],
          "scattergl": [
           {
            "marker": {
             "colorbar": {
              "outlinewidth": 0,
              "ticks": ""
             }
            },
            "type": "scattergl"
           }
          ],
          "scattermapbox": [
           {
            "marker": {
             "colorbar": {
              "outlinewidth": 0,
              "ticks": ""
             }
            },
            "type": "scattermapbox"
           }
          ],
          "scatterpolar": [
           {
            "marker": {
             "colorbar": {
              "outlinewidth": 0,
              "ticks": ""
             }
            },
            "type": "scatterpolar"
           }
          ],
          "scatterpolargl": [
           {
            "marker": {
             "colorbar": {
              "outlinewidth": 0,
              "ticks": ""
             }
            },
            "type": "scatterpolargl"
           }
          ],
          "scatterternary": [
           {
            "marker": {
             "colorbar": {
              "outlinewidth": 0,
              "ticks": ""
             }
            },
            "type": "scatterternary"
           }
          ],
          "surface": [
           {
            "colorbar": {
             "outlinewidth": 0,
             "ticks": ""
            },
            "colorscale": [
             [
              0,
              "#0d0887"
             ],
             [
              0.1111111111111111,
              "#46039f"
             ],
             [
              0.2222222222222222,
              "#7201a8"
             ],
             [
              0.3333333333333333,
              "#9c179e"
             ],
             [
              0.4444444444444444,
              "#bd3786"
             ],
             [
              0.5555555555555556,
              "#d8576b"
             ],
             [
              0.6666666666666666,
              "#ed7953"
             ],
             [
              0.7777777777777778,
              "#fb9f3a"
             ],
             [
              0.8888888888888888,
              "#fdca26"
             ],
             [
              1,
              "#f0f921"
             ]
            ],
            "type": "surface"
           }
          ],
          "table": [
           {
            "cells": {
             "fill": {
              "color": "#EBF0F8"
             },
             "line": {
              "color": "white"
             }
            },
            "header": {
             "fill": {
              "color": "#C8D4E3"
             },
             "line": {
              "color": "white"
             }
            },
            "type": "table"
           }
          ]
         },
         "layout": {
          "annotationdefaults": {
           "arrowcolor": "#2a3f5f",
           "arrowhead": 0,
           "arrowwidth": 1
          },
          "autotypenumbers": "strict",
          "coloraxis": {
           "colorbar": {
            "outlinewidth": 0,
            "ticks": ""
           }
          },
          "colorscale": {
           "diverging": [
            [
             0,
             "#8e0152"
            ],
            [
             0.1,
             "#c51b7d"
            ],
            [
             0.2,
             "#de77ae"
            ],
            [
             0.3,
             "#f1b6da"
            ],
            [
             0.4,
             "#fde0ef"
            ],
            [
             0.5,
             "#f7f7f7"
            ],
            [
             0.6,
             "#e6f5d0"
            ],
            [
             0.7,
             "#b8e186"
            ],
            [
             0.8,
             "#7fbc41"
            ],
            [
             0.9,
             "#4d9221"
            ],
            [
             1,
             "#276419"
            ]
           ],
           "sequential": [
            [
             0,
             "#0d0887"
            ],
            [
             0.1111111111111111,
             "#46039f"
            ],
            [
             0.2222222222222222,
             "#7201a8"
            ],
            [
             0.3333333333333333,
             "#9c179e"
            ],
            [
             0.4444444444444444,
             "#bd3786"
            ],
            [
             0.5555555555555556,
             "#d8576b"
            ],
            [
             0.6666666666666666,
             "#ed7953"
            ],
            [
             0.7777777777777778,
             "#fb9f3a"
            ],
            [
             0.8888888888888888,
             "#fdca26"
            ],
            [
             1,
             "#f0f921"
            ]
           ],
           "sequentialminus": [
            [
             0,
             "#0d0887"
            ],
            [
             0.1111111111111111,
             "#46039f"
            ],
            [
             0.2222222222222222,
             "#7201a8"
            ],
            [
             0.3333333333333333,
             "#9c179e"
            ],
            [
             0.4444444444444444,
             "#bd3786"
            ],
            [
             0.5555555555555556,
             "#d8576b"
            ],
            [
             0.6666666666666666,
             "#ed7953"
            ],
            [
             0.7777777777777778,
             "#fb9f3a"
            ],
            [
             0.8888888888888888,
             "#fdca26"
            ],
            [
             1,
             "#f0f921"
            ]
           ]
          },
          "colorway": [
           "#636efa",
           "#EF553B",
           "#00cc96",
           "#ab63fa",
           "#FFA15A",
           "#19d3f3",
           "#FF6692",
           "#B6E880",
           "#FF97FF",
           "#FECB52"
          ],
          "font": {
           "color": "#2a3f5f"
          },
          "geo": {
           "bgcolor": "white",
           "lakecolor": "white",
           "landcolor": "#E5ECF6",
           "showlakes": true,
           "showland": true,
           "subunitcolor": "white"
          },
          "hoverlabel": {
           "align": "left"
          },
          "hovermode": "closest",
          "mapbox": {
           "style": "light"
          },
          "paper_bgcolor": "white",
          "plot_bgcolor": "#E5ECF6",
          "polar": {
           "angularaxis": {
            "gridcolor": "white",
            "linecolor": "white",
            "ticks": ""
           },
           "bgcolor": "#E5ECF6",
           "radialaxis": {
            "gridcolor": "white",
            "linecolor": "white",
            "ticks": ""
           }
          },
          "scene": {
           "xaxis": {
            "backgroundcolor": "#E5ECF6",
            "gridcolor": "white",
            "gridwidth": 2,
            "linecolor": "white",
            "showbackground": true,
            "ticks": "",
            "zerolinecolor": "white"
           },
           "yaxis": {
            "backgroundcolor": "#E5ECF6",
            "gridcolor": "white",
            "gridwidth": 2,
            "linecolor": "white",
            "showbackground": true,
            "ticks": "",
            "zerolinecolor": "white"
           },
           "zaxis": {
            "backgroundcolor": "#E5ECF6",
            "gridcolor": "white",
            "gridwidth": 2,
            "linecolor": "white",
            "showbackground": true,
            "ticks": "",
            "zerolinecolor": "white"
           }
          },
          "shapedefaults": {
           "line": {
            "color": "#2a3f5f"
           }
          },
          "ternary": {
           "aaxis": {
            "gridcolor": "white",
            "linecolor": "white",
            "ticks": ""
           },
           "baxis": {
            "gridcolor": "white",
            "linecolor": "white",
            "ticks": ""
           },
           "bgcolor": "#E5ECF6",
           "caxis": {
            "gridcolor": "white",
            "linecolor": "white",
            "ticks": ""
           }
          },
          "title": {
           "x": 0.05
          },
          "xaxis": {
           "automargin": true,
           "gridcolor": "white",
           "linecolor": "white",
           "ticks": "",
           "title": {
            "standoff": 15
           },
           "zerolinecolor": "white",
           "zerolinewidth": 2
          },
          "yaxis": {
           "automargin": true,
           "gridcolor": "white",
           "linecolor": "white",
           "ticks": "",
           "title": {
            "standoff": 15
           },
           "zerolinecolor": "white",
           "zerolinewidth": 2
          }
         }
        },
        "title": {
         "font": {
          "size": 18
         },
         "text": "Job Satisfaction Vs. Depression",
         "x": 0.5,
         "y": 0.95
        },
        "width": 900
       }
      },
      "image/png": "[encoded data removed]",
      "text/html": [
       "<div>                            <div id=\"48785198-71f0-40a5-b9da-eaa2b5906679\" class=\"plotly-graph-div\" style=\"height:300px; width:900px;\"></div>            <script type=\"text/javascript\">                require([\"plotly\"], function(Plotly) {                    window.PLOTLYENV=window.PLOTLYENV || {};                                    if (document.getElementById(\"48785198-71f0-40a5-b9da-eaa2b5906679\")) {                    Plotly.newPlot(                        \"48785198-71f0-40a5-b9da-eaa2b5906679\",                        [{\"customdata\":[[0],[1]],\"domain\":{\"x\":[0.0,0.18400000000000002],\"y\":[0.0,1.0]},\"hovertemplate\":\"Job Satisfaction=5.0\\u003cbr\\u003ecount=%{value}\\u003cbr\\u003eDepression=%{customdata[0]}\\u003cextra\\u003e\\u003c\\u002fextra\\u003e\",\"legendgroup\":\"\",\"marker\":{\"colors\":[\"#636efa\",\"#EF553B\"]},\"name\":\"\",\"showlegend\":false,\"values\":[21928,884],\"type\":\"pie\"},{\"customdata\":[[0],[1]],\"domain\":{\"x\":[0.20400000000000001,0.388],\"y\":[0.0,1.0]},\"hovertemplate\":\"Job Satisfaction=4.0\\u003cbr\\u003ecount=%{value}\\u003cbr\\u003eDepression=%{customdata[0]}\\u003cextra\\u003e\\u003c\\u002fextra\\u003e\",\"legendgroup\":\"\",\"marker\":{\"colors\":[\"#636efa\",\"#EF553B\"]},\"name\":\"\",\"showlegend\":false,\"values\":[20095,825],\"type\":\"pie\"},{\"customdata\":[[0],[1]],\"domain\":{\"x\":[0.40800000000000003,0.5920000000000001],\"y\":[0.0,1.0]},\"hovertemplate\":\"Job Satisfaction=3.0\\u003cbr\\u003ecount=%{value}\\u003cbr\\u003eDepression=%{customdata[0]}\\u003cextra\\u003e\\u003c\\u002fextra\\u003e\",\"legendgroup\":\"\",\"marker\":{\"colors\":[\"#636efa\",\"#EF553B\"]},\"name\":\"\",\"showlegend\":false,\"values\":[20755,1196],\"type\":\"pie\"},{\"customdata\":[[0],[1]],\"domain\":{\"x\":[0.6120000000000001,0.7960000000000002],\"y\":[0.0,1.0]},\"hovertemplate\":\"Job Satisfaction=2.0\\u003cbr\\u003ecount=%{value}\\u003cbr\\u003eDepression=%{customdata[0]}\\u003cextra\\u003e\\u003c\\u002fextra\\u003e\",\"legendgroup\":\"\",\"marker\":{\"colors\":[\"#636efa\",\"#EF553B\"]},\"name\":\"\",\"showlegend\":false,\"values\":[22346,2437],\"type\":\"pie\"},{\"customdata\":[[0],[1]],\"domain\":{\"x\":[0.8160000000000001,1.0],\"y\":[0.0,1.0]},\"hovertemplate\":\"Job Satisfaction=1.0\\u003cbr\\u003ecount=%{value}\\u003cbr\\u003eDepression=%{customdata[0]}\\u003cextra\\u003e\\u003c\\u002fextra\\u003e\",\"legendgroup\":\"\",\"marker\":{\"colors\":[\"#636efa\",\"#EF553B\"]},\"name\":\"\",\"showlegend\":false,\"values\":[18439,3885],\"type\":\"pie\"}],                        {\"template\":{\"data\":{\"histogram2dcontour\":[{\"type\":\"histogram2dcontour\",\"colorbar\":{\"outlinewidth\":0,\"ticks\":\"\"},\"colorscale\":[[0.0,\"#0d0887\"],[0.1111111111111111,\"#46039f\"],[0.2222222222222222,\"#7201a8\"],[0.3333333333333333,\"#9c179e\"],[0.4444444444444444,\"#bd3786\"],[0.5555555555555556,\"#d8576b\"],[0.6666666666666666,\"#ed7953\"],[0.7777777777777778,\"#fb9f3a\"],[0.8888888888888888,\"#fdca26\"],[1.0,\"#f0f921\"]]}],\"choropleth\":[{\"type\":\"choropleth\",\"colorbar\":{\"outlinewidth\":0,\"ticks\":\"\"}}],\"histogram2d\":[{\"type\":\"histogram2d\",\"colorbar\":{\"outlinewidth\":0,\"ticks\":\"\"},\"colorscale\":[[0.0,\"#0d0887\"],[0.1111111111111111,\"#46039f\"],[0.2222222222222222,\"#7201a8\"],[0.3333333333333333,\"#9c179e\"],[0.4444444444444444,\"#bd3786\"],[0.5555555555555556,\"#d8576b\"],[0.6666666666666666,\"#ed7953\"],[0.7777777777777778,\"#fb9f3a\"],[0.8888888888888888,\"#fdca26\"],[1.0,\"#f0f921\"]]}],\"heatmap\":[{\"type\":\"heatmap\",\"colorbar\":{\"outlinewidth\":0,\"ticks\":\"\"},\"colorscale\":[[0.0,\"#0d0887\"],[0.1111111111111111,\"#46039f\"],[0.2222222222222222,\"#7201a8\"],[0.3333333333333333,\"#9c179e\"],[0.4444444444444444,\"#bd3786\"],[0.5555555555555556,\"#d8576b\"],[0.6666666666666666,\"#ed7953\"],[0.7777777777777778,\"#fb9f3a\"],[0.8888888888888888,\"#fdca26\"],[1.0,\"#f0f921\"]]}],\"heatmapgl\":[{\"type\":\"heatmapgl\",\"colorbar\":{\"outlinewidth\":0,\"ticks\":\"\"},\"colorscale\":[[0.0,\"#0d0887\"],[0.1111111111111111,\"#46039f\"],[0.2222222222222222,\"#7201a8\"],[0.3333333333333333,\"#9c179e\"],[0.4444444444444444,\"#bd3786\"],[0.5555555555555556,\"#d8576b\"],[0.6666666666666666,\"#ed7953\"],[0.7777777777777778,\"#fb9f3a\"],[0.8888888888888888,\"#fdca26\"],[1.0,\"#f0f921\"]]}],\"contourcarpet\":[{\"type\":\"contourcarpet\",\"colorbar\":{\"outlinewidth\":0,\"ticks\":\"\"}}],\"contour\":[{\"type\":\"contour\",\"colorbar\":{\"outlinewidth\":0,\"ticks\":\"\"},\"colorscale\":[[0.0,\"#0d0887\"],[0.1111111111111111,\"#46039f\"],[0.2222222222222222,\"#7201a8\"],[0.3333333333333333,\"#9c179e\"],[0.4444444444444444,\"#bd3786\"],[0.5555555555555556,\"#d8576b\"],[0.6666666666666666,\"#ed7953\"],[0.7777777777777778,\"#fb9f3a\"],[0.8888888888888888,\"#fdca26\"],[1.0,\"#f0f921\"]]}],\"surface\":[{\"type\":\"surface\",\"colorbar\":{\"outlinewidth\":0,\"ticks\":\"\"},\"colorscale\":[[0.0,\"#0d0887\"],[0.1111111111111111,\"#46039f\"],[0.2222222222222222,\"#7201a8\"],[0.3333333333333333,\"#9c179e\"],[0.4444444444444444,\"#bd3786\"],[0.5555555555555556,\"#d8576b\"],[0.6666666666666666,\"#ed7953\"],[0.7777777777777778,\"#fb9f3a\"],[0.8888888888888888,\"#fdca26\"],[1.0,\"#f0f921\"]]}],\"mesh3d\":[{\"type\":\"mesh3d\",\"colorbar\":{\"outlinewidth\":0,\"ticks\":\"\"}}],\"scatter\":[{\"fillpattern\":{\"fillmode\":\"overlay\",\"size\":10,\"solidity\":0.2},\"type\":\"scatter\"}],\"parcoords\":[{\"type\":\"parcoords\",\"line\":{\"colorbar\":{\"outlinewidth\":0,\"ticks\":\"\"}}}],\"scatterpolargl\":[{\"type\":\"scatterpolargl\",\"marker\":{\"colorbar\":{\"outlinewidth\":0,\"ticks\":\"\"}}}],\"bar\":[{\"error_x\":{\"color\":\"#2a3f5f\"},\"error_y\":{\"color\":\"#2a3f5f\"},\"marker\":{\"line\":{\"color\":\"#E5ECF6\",\"width\":0.5},\"pattern\":{\"fillmode\":\"overlay\",\"size\":10,\"solidity\":0.2}},\"type\":\"bar\"}],\"scattergeo\":[{\"type\":\"scattergeo\",\"marker\":{\"colorbar\":{\"outlinewidth\":0,\"ticks\":\"\"}}}],\"scatterpolar\":[{\"type\":\"scatterpolar\",\"marker\":{\"colorbar\":{\"outlinewidth\":0,\"ticks\":\"\"}}}],\"histogram\":[{\"marker\":{\"pattern\":{\"fillmode\":\"overlay\",\"size\":10,\"solidity\":0.2}},\"type\":\"histogram\"}],\"scattergl\":[{\"type\":\"scattergl\",\"marker\":{\"colorbar\":{\"outlinewidth\":0,\"ticks\":\"\"}}}],\"scatter3d\":[{\"type\":\"scatter3d\",\"line\":{\"colorbar\":{\"outlinewidth\":0,\"ticks\":\"\"}},\"marker\":{\"colorbar\":{\"outlinewidth\":0,\"ticks\":\"\"}}}],\"scattermapbox\":[{\"type\":\"scattermapbox\",\"marker\":{\"colorbar\":{\"outlinewidth\":0,\"ticks\":\"\"}}}],\"scatterternary\":[{\"type\":\"scatterternary\",\"marker\":{\"colorbar\":{\"outlinewidth\":0,\"ticks\":\"\"}}}],\"scattercarpet\":[{\"type\":\"scattercarpet\",\"marker\":{\"colorbar\":{\"outlinewidth\":0,\"ticks\":\"\"}}}],\"carpet\":[{\"aaxis\":{\"endlinecolor\":\"#2a3f5f\",\"gridcolor\":\"white\",\"linecolor\":\"white\",\"minorgridcolor\":\"white\",\"startlinecolor\":\"#2a3f5f\"},\"baxis\":{\"endlinecolor\":\"#2a3f5f\",\"gridcolor\":\"white\",\"linecolor\":\"white\",\"minorgridcolor\":\"white\",\"startlinecolor\":\"#2a3f5f\"},\"type\":\"carpet\"}],\"table\":[{\"cells\":{\"fill\":{\"color\":\"#EBF0F8\"},\"line\":{\"color\":\"white\"}},\"header\":{\"fill\":{\"color\":\"#C8D4E3\"},\"line\":{\"color\":\"white\"}},\"type\":\"table\"}],\"barpolar\":[{\"marker\":{\"line\":{\"color\":\"#E5ECF6\",\"width\":0.5},\"pattern\":{\"fillmode\":\"overlay\",\"size\":10,\"solidity\":0.2}},\"type\":\"barpolar\"}],\"pie\":[{\"automargin\":true,\"type\":\"pie\"}]},\"layout\":{\"autotypenumbers\":\"strict\",\"colorway\":[\"#636efa\",\"#EF553B\",\"#00cc96\",\"#ab63fa\",\"#FFA15A\",\"#19d3f3\",\"#FF6692\",\"#B6E880\",\"#FF97FF\",\"#FECB52\"],\"font\":{\"color\":\"#2a3f5f\"},\"hovermode\":\"closest\",\"hoverlabel\":{\"align\":\"left\"},\"paper_bgcolor\":\"white\",\"plot_bgcolor\":\"#E5ECF6\",\"polar\":{\"bgcolor\":\"#E5ECF6\",\"angularaxis\":{\"gridcolor\":\"white\",\"linecolor\":\"white\",\"ticks\":\"\"},\"radialaxis\":{\"gridcolor\":\"white\",\"linecolor\":\"white\",\"ticks\":\"\"}},\"ternary\":{\"bgcolor\":\"#E5ECF6\",\"aaxis\":{\"gridcolor\":\"white\",\"linecolor\":\"white\",\"ticks\":\"\"},\"baxis\":{\"gridcolor\":\"white\",\"linecolor\":\"white\",\"ticks\":\"\"},\"caxis\":{\"gridcolor\":\"white\",\"linecolor\":\"white\",\"ticks\":\"\"}},\"coloraxis\":{\"colorbar\":{\"outlinewidth\":0,\"ticks\":\"\"}},\"colorscale\":{\"sequential\":[[0.0,\"#0d0887\"],[0.1111111111111111,\"#46039f\"],[0.2222222222222222,\"#7201a8\"],[0.3333333333333333,\"#9c179e\"],[0.4444444444444444,\"#bd3786\"],[0.5555555555555556,\"#d8576b\"],[0.6666666666666666,\"#ed7953\"],[0.7777777777777778,\"#fb9f3a\"],[0.8888888888888888,\"#fdca26\"],[1.0,\"#f0f921\"]],\"sequentialminus\":[[0.0,\"#0d0887\"],[0.1111111111111111,\"#46039f\"],[0.2222222222222222,\"#7201a8\"],[0.3333333333333333,\"#9c179e\"],[0.4444444444444444,\"#bd3786\"],[0.5555555555555556,\"#d8576b\"],[0.6666666666666666,\"#ed7953\"],[0.7777777777777778,\"#fb9f3a\"],[0.8888888888888888,\"#fdca26\"],[1.0,\"#f0f921\"]],\"diverging\":[[0,\"#8e0152\"],[0.1,\"#c51b7d\"],[0.2,\"#de77ae\"],[0.3,\"#f1b6da\"],[0.4,\"#fde0ef\"],[0.5,\"#f7f7f7\"],[0.6,\"#e6f5d0\"],[0.7,\"#b8e186\"],[0.8,\"#7fbc41\"],[0.9,\"#4d9221\"],[1,\"#276419\"]]},\"xaxis\":{\"gridcolor\":\"white\",\"linecolor\":\"white\",\"ticks\":\"\",\"title\":{\"standoff\":15},\"zerolinecolor\":\"white\",\"automargin\":true,\"zerolinewidth\":2},\"yaxis\":{\"gridcolor\":\"white\",\"linecolor\":\"white\",\"ticks\":\"\",\"title\":{\"standoff\":15},\"zerolinecolor\":\"white\",\"automargin\":true,\"zerolinewidth\":2},\"scene\":{\"xaxis\":{\"backgroundcolor\":\"#E5ECF6\",\"gridcolor\":\"white\",\"linecolor\":\"white\",\"showbackground\":true,\"ticks\":\"\",\"zerolinecolor\":\"white\",\"gridwidth\":2},\"yaxis\":{\"backgroundcolor\":\"#E5ECF6\",\"gridcolor\":\"white\",\"linecolor\":\"white\",\"showbackground\":true,\"ticks\":\"\",\"zerolinecolor\":\"white\",\"gridwidth\":2},\"zaxis\":{\"backgroundcolor\":\"#E5ECF6\",\"gridcolor\":\"white\",\"linecolor\":\"white\",\"showbackground\":true,\"ticks\":\"\",\"zerolinecolor\":\"white\",\"gridwidth\":2}},\"shapedefaults\":{\"line\":{\"color\":\"#2a3f5f\"}},\"annotationdefaults\":{\"arrowcolor\":\"#2a3f5f\",\"arrowhead\":0,\"arrowwidth\":1},\"geo\":{\"bgcolor\":\"white\",\"landcolor\":\"#E5ECF6\",\"subunitcolor\":\"white\",\"showland\":true,\"showlakes\":true,\"lakecolor\":\"white\"},\"title\":{\"x\":0.05},\"mapbox\":{\"style\":\"light\"}}},\"annotations\":[{\"font\":{},\"showarrow\":false,\"text\":\"Job Satisfaction=5.0\",\"x\":0.09200000000000001,\"xanchor\":\"center\",\"xref\":\"paper\",\"y\":1.0,\"yanchor\":\"bottom\",\"yref\":\"paper\"},{\"font\":{},\"showarrow\":false,\"text\":\"Job Satisfaction=4.0\",\"x\":0.29600000000000004,\"xanchor\":\"center\",\"xref\":\"paper\",\"y\":1.0,\"yanchor\":\"bottom\",\"yref\":\"paper\"},{\"font\":{},\"showarrow\":false,\"text\":\"Job Satisfaction=3.0\",\"x\":0.5,\"xanchor\":\"center\",\"xref\":\"paper\",\"y\":1.0,\"yanchor\":\"bottom\",\"yref\":\"paper\"},{\"font\":{},\"showarrow\":false,\"text\":\"Job Satisfaction=2.0\",\"x\":0.7040000000000002,\"xanchor\":\"center\",\"xref\":\"paper\",\"y\":1.0,\"yanchor\":\"bottom\",\"yref\":\"paper\"},{\"font\":{},\"showarrow\":false,\"text\":\"Job Satisfaction=1.0\",\"x\":0.908,\"xanchor\":\"center\",\"xref\":\"paper\",\"y\":1.0,\"yanchor\":\"bottom\",\"yref\":\"paper\"}],\"legend\":{\"tracegroupgap\":0},\"margin\":{\"t\":60},\"title\":{\"font\":{\"size\":18},\"text\":\"Job Satisfaction Vs. Depression\",\"x\":0.5,\"y\":0.95},\"font\":{\"family\":\"Times\",\"size\":12,\"color\":\"Darkblue\"},\"width\":900,\"height\":300},                        {\"responsive\": true}                    ).then(function(){\n",
       "                            \n",
       "var gd = document.getElementById('48785198-71f0-40a5-b9da-eaa2b5906679');\n",
       "var x = new MutationObserver(function (mutations, observer) {{\n",
       "        var display = window.getComputedStyle(gd).display;\n",
       "        if (!display || display === 'none') {{\n",
       "            console.log([gd, 'removed!']);\n",
       "            Plotly.purge(gd);\n",
       "            observer.disconnect();\n",
       "        }}\n",
       "}});\n",
       "\n",
       "// Listen for the removal of the full notebook cells\n",
       "var notebookContainer = gd.closest('#notebook-container');\n",
       "if (notebookContainer) {{\n",
       "    x.observe(notebookContainer, {childList: true});\n",
       "}}\n",
       "\n",
       "// Listen for the clearing of the current output cell\n",
       "var outputEl = gd.closest('.output');\n",
       "if (outputEl) {{\n",
       "    x.observe(outputEl, {childList: true});\n",
       "}}\n",
       "\n",
       "                        })                };                });            </script>        </div>"
      ]
     },
     "metadata": {},
     "output_type": "display_data"
    }
   ],
   "source": [
    "# This code creates two collections of pie charts, each with five pie charts. Each collection checks the relationship with the\n",
    "# rate of depression with a different variable. The first looks at study satisfaction vs depression, and the second looks at\n",
    "# work satisfaction vs depression.\n",
    "\n",
    "# both collections use very similar code in order to make. The only real difference between the two are the labels and the data\n",
    "\n",
    "# this creates the data frame that will be used for the first set of pie chartss\n",
    "# It creates a data frame and sets it to DF, after applyinga lot of functions to it. \n",
    "# first of all, it only picks out the 'Study Satisfaction' and 'Depression' columns, since that's all we're using. It looks at \n",
    "# the .value_counts for these two columns, meaning it returns the unique combinations for it. The next part, \n",
    "# being the \".reset_index(name='count')\", converts this into a data frame with 'count' as the name for the column with the\n",
    "# frequency of each combination. Finally, .sort_values(by='Study Satisfaction', ascending=False) sorts the values using the \n",
    "# study satisfaction column, with it not being ascending.\n",
    "DF_Depression_Influence = (\n",
    "DF.value_counts(subset=['Study Satisfaction', 'Depression']).reset_index(name='count').sort_values(by='Study Satisfaction', ascending=False)\n",
    ") \n",
    "# creating the pi chart and using the new data frame we just made.\n",
    "fig1 = px.pie(DF_Depression_Influence, \n",
    "# the values are the frequency which lets us see the ratio\n",
    "    values='count', \n",
    "# names is set to depression for the legend\n",
    "    names = 'Depression',\n",
    "# facet column is study satisfaction to seperate the pie charts into the different levels of study satisfaction\n",
    "    facet_col='Study Satisfaction',\n",
    "# color is also depression in order to actually see the ratio\n",
    "    color = 'Depression',\n",
    "# this is to make sure that depression is the red color on the left and goes around counter clcock\n",
    "    category_orders={'Depression' : [0,1]},\n",
    "    \n",
    ")\n",
    "\n",
    "\n",
    "fig1.update_layout( # update layout\n",
    "    template='ggplot2', # setting template for visuals\n",
    "                  legend_title='Depression', # title of the legend\n",
    "                  width=900, #width\n",
    "                  height=300,# Hight\n",
    "\n",
    "    title={ # indicates that I will be customizing the title\n",
    "        'font': dict(size=25),# font size\n",
    "# two titles in one. The first one is the bigger title that titles the whole ten pi charts and uses \"<br>\" to make it a large title,\n",
    "# meanwhile the \"<sup>\" is sued in order to make the smaller title below it that only labels the top five pi charts\n",
    "        'text': \"How Do Different Variables Influence Depression Rates? <br> <sup>Study Satisfaction Vs. Depression<sup>\",\n",
    "        'x': 0.5,  # center the title horizontally\n",
    "        'y': 0.95,  # adjust vertical position\n",
    "        'xanchor': 'center',  # anchor horizontally\n",
    "        'yanchor': 'top',  # anchor vertically\n",
    "         \n",
    "    },\n",
    "    font={'family':\"Times\",'size':12,'color':\"Darkblue\"} # font color\n",
    "                      )\n",
    "\n",
    "fig1.show() # showing final result\n",
    "\n",
    "# below is the second set of pi charts, most of the information is the same except for a couple of changes\n",
    "\n",
    "# i used the same variable as before, however it was changed to fit the second set of pie charts.\n",
    "DF_Depression_Influence = (\n",
    "# firstly, the variable I choose to compare to depression rates is different. Before it was Study Satisfaction, now it is Job \n",
    "# Satisfaction. It is also sorted by Job Satisfaction in order to see the five different levels of satisfaction from 1-5 and \n",
    "# how depression rates look at each level, just like with the previous pie charts. Other than that, everything else in this \n",
    "# line of code is the same.\n",
    "DF.value_counts(subset=['Job Satisfaction', 'Depression']).reset_index(name='count').sort_values(by='Job Satisfaction', ascending=False)\n",
    "    \n",
    "\n",
    ")\n",
    "\n",
    "# used a different title for this pie chart, fig1 for the first and fig2 for this one\n",
    "fig2 = px.pie(DF_Depression_Influence, \n",
    "    values='count', \n",
    "# this is slightly different, since we are using job satisfaction this time, we need to have the facel columns set to this, too\n",
    "    facet_col='Job Satisfaction',\n",
    "    color = 'Depression',\n",
    "    facet_col_wrap = 5,\n",
    "    category_orders={'Depression' : [1,0]},\n",
    "    \n",
    ")\n",
    "\n",
    "\n",
    "fig2.update_layout(\n",
    "                  width=900,\n",
    "                  height=300,\n",
    "    title={\n",
    "        'font': dict(size=18),\n",
    "#title is of course different than the previous. You can also see that its only one title instead of the previous which had two.\n",
    "# this is of course because they are only labeling the small title for the five pie charts and not a bigger title\n",
    "        'text': \"Job Satisfaction Vs. Depression\", \n",
    "        'x': 0.5,  # Center the title horizontally\n",
    "        'y': 0.95,  # Adjust vertical position (closer to top)\n",
    "    },\n",
    "        font={'family':\"Times\",'size':12,'color':\"Darkblue\"}\n",
    "                      \n",
    ")\n",
    "fig2.show()"
   ]
  },
  {
   "cell_type": "markdown",
   "id": "93ab1792-d86a-4961-bd8e-b59b470a0499",
   "metadata": {},
   "source": [
    "    The graphs in each of two groups - job satisfaction and study satisfaction - splits up the participants based on their level of satisfaction from 1-5. Going from left to right, the pie chart starts with those who answered 5 and continues downward towards 1 on the right. In this model, as the legend implies, red means depressed and blue means not depressed.    \n",
    "    \n",
    "    With this in mine, we can clearly see a cooralation between study satisfaction and depression, as well as between job satisfaction and depression. As study and job satisfaction decrease, we can see that the ratio of depression increases. The ration of depression is how many people in that particular group are depressed compared to the total number of people in that group, displayed by the percentage of red. As you can see, that red increases while the blue decreases showing a cooralation.\n",
    "    \n",
    "    However, I noticed another clear cooralation here. As you can see, the first group of pie charts seem to have a much higher rate of depression, even among those who seem satisfied with school. This implies that the students in the data were much more likely to have depression, by a very large margin in fact.\n",
    "\n",
    "    I decided to try to test this by making pie charts that compared student versus worker depression rates directly in order to see the difference. The pie charts are below:"
   ]
  },
  {
   "cell_type": "code",
   "execution_count": 745,
   "id": "b0259426-1c7d-4efe-9e13-5f6a7fc21081",
   "metadata": {},
   "outputs": [
    {
     "data": {
      "application/vnd.plotly.v1+json": {
       "config": {
        "plotlyServerURL": "https://plot.ly"
       },
       "data": [
        {
         "customdata": [
          [
           0
          ],
          [
           1
          ]
         ],
         "domain": {
          "x": [
           0,
           0.49
          ],
          "y": [
           0,
           1
          ]
         },
         "hovertemplate": "Working Professional or Student=Student<br>count=%{value}<br>Depression=%{customdata[0]}<extra></extra>",
         "legendgroup": "",
         "marker": {
          "colors": [
           "#636efa",
           "#EF553B"
          ]
         },
         "name": "",
         "showlegend": false,
         "type": "pie",
         "values": [
          11565,
          16336
         ]
        },
        {
         "customdata": [
          [
           0
          ],
          [
           1
          ]
         ],
         "domain": {
          "x": [
           0.51,
           1
          ],
          "y": [
           0,
           1
          ]
         },
         "hovertemplate": "Working Professional or Student=Working Professional<br>count=%{value}<br>Depression=%{customdata[0]}<extra></extra>",
         "legendgroup": "",
         "marker": {
          "colors": [
           "#636efa",
           "#EF553B"
          ]
         },
         "name": "",
         "showlegend": false,
         "type": "pie",
         "values": [
          103568,
          9231
         ]
        }
       ],
       "layout": {
        "annotations": [
         {
          "font": {},
          "showarrow": false,
          "text": "Working Professional or Student=Student",
          "x": 0.245,
          "xanchor": "center",
          "xref": "paper",
          "y": 1,
          "yanchor": "bottom",
          "yref": "paper"
         },
         {
          "font": {},
          "showarrow": false,
          "text": "Working Professional or Student=Working Professional",
          "x": 0.755,
          "xanchor": "center",
          "xref": "paper",
          "y": 1,
          "yanchor": "bottom",
          "yref": "paper"
         }
        ],
        "autosize": true,
        "font": {
         "color": "Darkblue",
         "family": "Times",
         "size": 12
        },
        "legend": {
         "tracegroupgap": 0
        },
        "margin": {
         "t": 60
        },
        "template": {
         "data": {
          "bar": [
           {
            "error_x": {
             "color": "#2a3f5f"
            },
            "error_y": {
             "color": "#2a3f5f"
            },
            "marker": {
             "line": {
              "color": "#E5ECF6",
              "width": 0.5
             },
             "pattern": {
              "fillmode": "overlay",
              "size": 10,
              "solidity": 0.2
             }
            },
            "type": "bar"
           }
          ],
          "barpolar": [
           {
            "marker": {
             "line": {
              "color": "#E5ECF6",
              "width": 0.5
             },
             "pattern": {
              "fillmode": "overlay",
              "size": 10,
              "solidity": 0.2
             }
            },
            "type": "barpolar"
           }
          ],
          "carpet": [
           {
            "aaxis": {
             "endlinecolor": "#2a3f5f",
             "gridcolor": "white",
             "linecolor": "white",
             "minorgridcolor": "white",
             "startlinecolor": "#2a3f5f"
            },
            "baxis": {
             "endlinecolor": "#2a3f5f",
             "gridcolor": "white",
             "linecolor": "white",
             "minorgridcolor": "white",
             "startlinecolor": "#2a3f5f"
            },
            "type": "carpet"
           }
          ],
          "choropleth": [
           {
            "colorbar": {
             "outlinewidth": 0,
             "ticks": ""
            },
            "type": "choropleth"
           }
          ],
          "contour": [
           {
            "colorbar": {
             "outlinewidth": 0,
             "ticks": ""
            },
            "colorscale": [
             [
              0,
              "#0d0887"
             ],
             [
              0.1111111111111111,
              "#46039f"
             ],
             [
              0.2222222222222222,
              "#7201a8"
             ],
             [
              0.3333333333333333,
              "#9c179e"
             ],
             [
              0.4444444444444444,
              "#bd3786"
             ],
             [
              0.5555555555555556,
              "#d8576b"
             ],
             [
              0.6666666666666666,
              "#ed7953"
             ],
             [
              0.7777777777777778,
              "#fb9f3a"
             ],
             [
              0.8888888888888888,
              "#fdca26"
             ],
             [
              1,
              "#f0f921"
             ]
            ],
            "type": "contour"
           }
          ],
          "contourcarpet": [
           {
            "colorbar": {
             "outlinewidth": 0,
             "ticks": ""
            },
            "type": "contourcarpet"
           }
          ],
          "heatmap": [
           {
            "colorbar": {
             "outlinewidth": 0,
             "ticks": ""
            },
            "colorscale": [
             [
              0,
              "#0d0887"
             ],
             [
              0.1111111111111111,
              "#46039f"
             ],
             [
              0.2222222222222222,
              "#7201a8"
             ],
             [
              0.3333333333333333,
              "#9c179e"
             ],
             [
              0.4444444444444444,
              "#bd3786"
             ],
             [
              0.5555555555555556,
              "#d8576b"
             ],
             [
              0.6666666666666666,
              "#ed7953"
             ],
             [
              0.7777777777777778,
              "#fb9f3a"
             ],
             [
              0.8888888888888888,
              "#fdca26"
             ],
             [
              1,
              "#f0f921"
             ]
            ],
            "type": "heatmap"
           }
          ],
          "heatmapgl": [
           {
            "colorbar": {
             "outlinewidth": 0,
             "ticks": ""
            },
            "colorscale": [
             [
              0,
              "#0d0887"
             ],
             [
              0.1111111111111111,
              "#46039f"
             ],
             [
              0.2222222222222222,
              "#7201a8"
             ],
             [
              0.3333333333333333,
              "#9c179e"
             ],
             [
              0.4444444444444444,
              "#bd3786"
             ],
             [
              0.5555555555555556,
              "#d8576b"
             ],
             [
              0.6666666666666666,
              "#ed7953"
             ],
             [
              0.7777777777777778,
              "#fb9f3a"
             ],
             [
              0.8888888888888888,
              "#fdca26"
             ],
             [
              1,
              "#f0f921"
             ]
            ],
            "type": "heatmapgl"
           }
          ],
          "histogram": [
           {
            "marker": {
             "pattern": {
              "fillmode": "overlay",
              "size": 10,
              "solidity": 0.2
             }
            },
            "type": "histogram"
           }
          ],
          "histogram2d": [
           {
            "colorbar": {
             "outlinewidth": 0,
             "ticks": ""
            },
            "colorscale": [
             [
              0,
              "#0d0887"
             ],
             [
              0.1111111111111111,
              "#46039f"
             ],
             [
              0.2222222222222222,
              "#7201a8"
             ],
             [
              0.3333333333333333,
              "#9c179e"
             ],
             [
              0.4444444444444444,
              "#bd3786"
             ],
             [
              0.5555555555555556,
              "#d8576b"
             ],
             [
              0.6666666666666666,
              "#ed7953"
             ],
             [
              0.7777777777777778,
              "#fb9f3a"
             ],
             [
              0.8888888888888888,
              "#fdca26"
             ],
             [
              1,
              "#f0f921"
             ]
            ],
            "type": "histogram2d"
           }
          ],
          "histogram2dcontour": [
           {
            "colorbar": {
             "outlinewidth": 0,
             "ticks": ""
            },
            "colorscale": [
             [
              0,
              "#0d0887"
             ],
             [
              0.1111111111111111,
              "#46039f"
             ],
             [
              0.2222222222222222,
              "#7201a8"
             ],
             [
              0.3333333333333333,
              "#9c179e"
             ],
             [
              0.4444444444444444,
              "#bd3786"
             ],
             [
              0.5555555555555556,
              "#d8576b"
             ],
             [
              0.6666666666666666,
              "#ed7953"
             ],
             [
              0.7777777777777778,
              "#fb9f3a"
             ],
             [
              0.8888888888888888,
              "#fdca26"
             ],
             [
              1,
              "#f0f921"
             ]
            ],
            "type": "histogram2dcontour"
           }
          ],
          "mesh3d": [
           {
            "colorbar": {
             "outlinewidth": 0,
             "ticks": ""
            },
            "type": "mesh3d"
           }
          ],
          "parcoords": [
           {
            "line": {
             "colorbar": {
              "outlinewidth": 0,
              "ticks": ""
             }
            },
            "type": "parcoords"
           }
          ],
          "pie": [
           {
            "automargin": true,
            "type": "pie"
           }
          ],
          "scatter": [
           {
            "fillpattern": {
             "fillmode": "overlay",
             "size": 10,
             "solidity": 0.2
            },
            "type": "scatter"
           }
          ],
          "scatter3d": [
           {
            "line": {
             "colorbar": {
              "outlinewidth": 0,
              "ticks": ""
             }
            },
            "marker": {
             "colorbar": {
              "outlinewidth": 0,
              "ticks": ""
             }
            },
            "type": "scatter3d"
           }
          ],
          "scattercarpet": [
           {
            "marker": {
             "colorbar": {
              "outlinewidth": 0,
              "ticks": ""
             }
            },
            "type": "scattercarpet"
           }
          ],
          "scattergeo": [
           {
            "marker": {
             "colorbar": {
              "outlinewidth": 0,
              "ticks": ""
             }
            },
            "type": "scattergeo"
           }
          ],
          "scattergl": [
           {
            "marker": {
             "colorbar": {
              "outlinewidth": 0,
              "ticks": ""
             }
            },
            "type": "scattergl"
           }
          ],
          "scattermapbox": [
           {
            "marker": {
             "colorbar": {
              "outlinewidth": 0,
              "ticks": ""
             }
            },
            "type": "scattermapbox"
           }
          ],
          "scatterpolar": [
           {
            "marker": {
             "colorbar": {
              "outlinewidth": 0,
              "ticks": ""
             }
            },
            "type": "scatterpolar"
           }
          ],
          "scatterpolargl": [
           {
            "marker": {
             "colorbar": {
              "outlinewidth": 0,
              "ticks": ""
             }
            },
            "type": "scatterpolargl"
           }
          ],
          "scatterternary": [
           {
            "marker": {
             "colorbar": {
              "outlinewidth": 0,
              "ticks": ""
             }
            },
            "type": "scatterternary"
           }
          ],
          "surface": [
           {
            "colorbar": {
             "outlinewidth": 0,
             "ticks": ""
            },
            "colorscale": [
             [
              0,
              "#0d0887"
             ],
             [
              0.1111111111111111,
              "#46039f"
             ],
             [
              0.2222222222222222,
              "#7201a8"
             ],
             [
              0.3333333333333333,
              "#9c179e"
             ],
             [
              0.4444444444444444,
              "#bd3786"
             ],
             [
              0.5555555555555556,
              "#d8576b"
             ],
             [
              0.6666666666666666,
              "#ed7953"
             ],
             [
              0.7777777777777778,
              "#fb9f3a"
             ],
             [
              0.8888888888888888,
              "#fdca26"
             ],
             [
              1,
              "#f0f921"
             ]
            ],
            "type": "surface"
           }
          ],
          "table": [
           {
            "cells": {
             "fill": {
              "color": "#EBF0F8"
             },
             "line": {
              "color": "white"
             }
            },
            "header": {
             "fill": {
              "color": "#C8D4E3"
             },
             "line": {
              "color": "white"
             }
            },
            "type": "table"
           }
          ]
         },
         "layout": {
          "annotationdefaults": {
           "arrowcolor": "#2a3f5f",
           "arrowhead": 0,
           "arrowwidth": 1
          },
          "autotypenumbers": "strict",
          "coloraxis": {
           "colorbar": {
            "outlinewidth": 0,
            "ticks": ""
           }
          },
          "colorscale": {
           "diverging": [
            [
             0,
             "#8e0152"
            ],
            [
             0.1,
             "#c51b7d"
            ],
            [
             0.2,
             "#de77ae"
            ],
            [
             0.3,
             "#f1b6da"
            ],
            [
             0.4,
             "#fde0ef"
            ],
            [
             0.5,
             "#f7f7f7"
            ],
            [
             0.6,
             "#e6f5d0"
            ],
            [
             0.7,
             "#b8e186"
            ],
            [
             0.8,
             "#7fbc41"
            ],
            [
             0.9,
             "#4d9221"
            ],
            [
             1,
             "#276419"
            ]
           ],
           "sequential": [
            [
             0,
             "#0d0887"
            ],
            [
             0.1111111111111111,
             "#46039f"
            ],
            [
             0.2222222222222222,
             "#7201a8"
            ],
            [
             0.3333333333333333,
             "#9c179e"
            ],
            [
             0.4444444444444444,
             "#bd3786"
            ],
            [
             0.5555555555555556,
             "#d8576b"
            ],
            [
             0.6666666666666666,
             "#ed7953"
            ],
            [
             0.7777777777777778,
             "#fb9f3a"
            ],
            [
             0.8888888888888888,
             "#fdca26"
            ],
            [
             1,
             "#f0f921"
            ]
           ],
           "sequentialminus": [
            [
             0,
             "#0d0887"
            ],
            [
             0.1111111111111111,
             "#46039f"
            ],
            [
             0.2222222222222222,
             "#7201a8"
            ],
            [
             0.3333333333333333,
             "#9c179e"
            ],
            [
             0.4444444444444444,
             "#bd3786"
            ],
            [
             0.5555555555555556,
             "#d8576b"
            ],
            [
             0.6666666666666666,
             "#ed7953"
            ],
            [
             0.7777777777777778,
             "#fb9f3a"
            ],
            [
             0.8888888888888888,
             "#fdca26"
            ],
            [
             1,
             "#f0f921"
            ]
           ]
          },
          "colorway": [
           "#636efa",
           "#EF553B",
           "#00cc96",
           "#ab63fa",
           "#FFA15A",
           "#19d3f3",
           "#FF6692",
           "#B6E880",
           "#FF97FF",
           "#FECB52"
          ],
          "font": {
           "color": "#2a3f5f"
          },
          "geo": {
           "bgcolor": "white",
           "lakecolor": "white",
           "landcolor": "#E5ECF6",
           "showlakes": true,
           "showland": true,
           "subunitcolor": "white"
          },
          "hoverlabel": {
           "align": "left"
          },
          "hovermode": "closest",
          "mapbox": {
           "style": "light"
          },
          "paper_bgcolor": "white",
          "plot_bgcolor": "#E5ECF6",
          "polar": {
           "angularaxis": {
            "gridcolor": "white",
            "linecolor": "white",
            "ticks": ""
           },
           "bgcolor": "#E5ECF6",
           "radialaxis": {
            "gridcolor": "white",
            "linecolor": "white",
            "ticks": ""
           }
          },
          "scene": {
           "xaxis": {
            "backgroundcolor": "#E5ECF6",
            "gridcolor": "white",
            "gridwidth": 2,
            "linecolor": "white",
            "showbackground": true,
            "ticks": "",
            "zerolinecolor": "white"
           },
           "yaxis": {
            "backgroundcolor": "#E5ECF6",
            "gridcolor": "white",
            "gridwidth": 2,
            "linecolor": "white",
            "showbackground": true,
            "ticks": "",
            "zerolinecolor": "white"
           },
           "zaxis": {
            "backgroundcolor": "#E5ECF6",
            "gridcolor": "white",
            "gridwidth": 2,
            "linecolor": "white",
            "showbackground": true,
            "ticks": "",
            "zerolinecolor": "white"
           }
          },
          "shapedefaults": {
           "line": {
            "color": "#2a3f5f"
           }
          },
          "ternary": {
           "aaxis": {
            "gridcolor": "white",
            "linecolor": "white",
            "ticks": ""
           },
           "baxis": {
            "gridcolor": "white",
            "linecolor": "white",
            "ticks": ""
           },
           "bgcolor": "#E5ECF6",
           "caxis": {
            "gridcolor": "white",
            "linecolor": "white",
            "ticks": ""
           }
          },
          "title": {
           "x": 0.05
          },
          "xaxis": {
           "automargin": true,
           "gridcolor": "white",
           "linecolor": "white",
           "ticks": "",
           "title": {
            "standoff": 15
           },
           "zerolinecolor": "white",
           "zerolinewidth": 2
          },
          "yaxis": {
           "automargin": true,
           "gridcolor": "white",
           "linecolor": "white",
           "ticks": "",
           "title": {
            "standoff": 15
           },
           "zerolinecolor": "white",
           "zerolinewidth": 2
          }
         }
        },
        "title": {
         "font": {
          "size": 18
         },
         "text": "Job Satisfaction Vs. Depression",
         "x": 0.5,
         "y": 0.95
        }
       }
      },
      "image/png": "[encoded data removed]",
      "text/html": [
       "<div>                            <div id=\"5579d6e1-871b-47ff-bf38-ffdfc6679d42\" class=\"plotly-graph-div\" style=\"height:525px; width:100%;\"></div>            <script type=\"text/javascript\">                require([\"plotly\"], function(Plotly) {                    window.PLOTLYENV=window.PLOTLYENV || {};                                    if (document.getElementById(\"5579d6e1-871b-47ff-bf38-ffdfc6679d42\")) {                    Plotly.newPlot(                        \"5579d6e1-871b-47ff-bf38-ffdfc6679d42\",                        [{\"customdata\":[[0],[1]],\"domain\":{\"x\":[0.0,0.49],\"y\":[0.0,1.0]},\"hovertemplate\":\"Working Professional or Student=Student\\u003cbr\\u003ecount=%{value}\\u003cbr\\u003eDepression=%{customdata[0]}\\u003cextra\\u003e\\u003c\\u002fextra\\u003e\",\"legendgroup\":\"\",\"marker\":{\"colors\":[\"#636efa\",\"#EF553B\"]},\"name\":\"\",\"showlegend\":false,\"values\":[11565,16336],\"type\":\"pie\"},{\"customdata\":[[0],[1]],\"domain\":{\"x\":[0.51,1.0],\"y\":[0.0,1.0]},\"hovertemplate\":\"Working Professional or Student=Working Professional\\u003cbr\\u003ecount=%{value}\\u003cbr\\u003eDepression=%{customdata[0]}\\u003cextra\\u003e\\u003c\\u002fextra\\u003e\",\"legendgroup\":\"\",\"marker\":{\"colors\":[\"#636efa\",\"#EF553B\"]},\"name\":\"\",\"showlegend\":false,\"values\":[103568,9231],\"type\":\"pie\"}],                        {\"template\":{\"data\":{\"histogram2dcontour\":[{\"type\":\"histogram2dcontour\",\"colorbar\":{\"outlinewidth\":0,\"ticks\":\"\"},\"colorscale\":[[0.0,\"#0d0887\"],[0.1111111111111111,\"#46039f\"],[0.2222222222222222,\"#7201a8\"],[0.3333333333333333,\"#9c179e\"],[0.4444444444444444,\"#bd3786\"],[0.5555555555555556,\"#d8576b\"],[0.6666666666666666,\"#ed7953\"],[0.7777777777777778,\"#fb9f3a\"],[0.8888888888888888,\"#fdca26\"],[1.0,\"#f0f921\"]]}],\"choropleth\":[{\"type\":\"choropleth\",\"colorbar\":{\"outlinewidth\":0,\"ticks\":\"\"}}],\"histogram2d\":[{\"type\":\"histogram2d\",\"colorbar\":{\"outlinewidth\":0,\"ticks\":\"\"},\"colorscale\":[[0.0,\"#0d0887\"],[0.1111111111111111,\"#46039f\"],[0.2222222222222222,\"#7201a8\"],[0.3333333333333333,\"#9c179e\"],[0.4444444444444444,\"#bd3786\"],[0.5555555555555556,\"#d8576b\"],[0.6666666666666666,\"#ed7953\"],[0.7777777777777778,\"#fb9f3a\"],[0.8888888888888888,\"#fdca26\"],[1.0,\"#f0f921\"]]}],\"heatmap\":[{\"type\":\"heatmap\",\"colorbar\":{\"outlinewidth\":0,\"ticks\":\"\"},\"colorscale\":[[0.0,\"#0d0887\"],[0.1111111111111111,\"#46039f\"],[0.2222222222222222,\"#7201a8\"],[0.3333333333333333,\"#9c179e\"],[0.4444444444444444,\"#bd3786\"],[0.5555555555555556,\"#d8576b\"],[0.6666666666666666,\"#ed7953\"],[0.7777777777777778,\"#fb9f3a\"],[0.8888888888888888,\"#fdca26\"],[1.0,\"#f0f921\"]]}],\"heatmapgl\":[{\"type\":\"heatmapgl\",\"colorbar\":{\"outlinewidth\":0,\"ticks\":\"\"},\"colorscale\":[[0.0,\"#0d0887\"],[0.1111111111111111,\"#46039f\"],[0.2222222222222222,\"#7201a8\"],[0.3333333333333333,\"#9c179e\"],[0.4444444444444444,\"#bd3786\"],[0.5555555555555556,\"#d8576b\"],[0.6666666666666666,\"#ed7953\"],[0.7777777777777778,\"#fb9f3a\"],[0.8888888888888888,\"#fdca26\"],[1.0,\"#f0f921\"]]}],\"contourcarpet\":[{\"type\":\"contourcarpet\",\"colorbar\":{\"outlinewidth\":0,\"ticks\":\"\"}}],\"contour\":[{\"type\":\"contour\",\"colorbar\":{\"outlinewidth\":0,\"ticks\":\"\"},\"colorscale\":[[0.0,\"#0d0887\"],[0.1111111111111111,\"#46039f\"],[0.2222222222222222,\"#7201a8\"],[0.3333333333333333,\"#9c179e\"],[0.4444444444444444,\"#bd3786\"],[0.5555555555555556,\"#d8576b\"],[0.6666666666666666,\"#ed7953\"],[0.7777777777777778,\"#fb9f3a\"],[0.8888888888888888,\"#fdca26\"],[1.0,\"#f0f921\"]]}],\"surface\":[{\"type\":\"surface\",\"colorbar\":{\"outlinewidth\":0,\"ticks\":\"\"},\"colorscale\":[[0.0,\"#0d0887\"],[0.1111111111111111,\"#46039f\"],[0.2222222222222222,\"#7201a8\"],[0.3333333333333333,\"#9c179e\"],[0.4444444444444444,\"#bd3786\"],[0.5555555555555556,\"#d8576b\"],[0.6666666666666666,\"#ed7953\"],[0.7777777777777778,\"#fb9f3a\"],[0.8888888888888888,\"#fdca26\"],[1.0,\"#f0f921\"]]}],\"mesh3d\":[{\"type\":\"mesh3d\",\"colorbar\":{\"outlinewidth\":0,\"ticks\":\"\"}}],\"scatter\":[{\"fillpattern\":{\"fillmode\":\"overlay\",\"size\":10,\"solidity\":0.2},\"type\":\"scatter\"}],\"parcoords\":[{\"type\":\"parcoords\",\"line\":{\"colorbar\":{\"outlinewidth\":0,\"ticks\":\"\"}}}],\"scatterpolargl\":[{\"type\":\"scatterpolargl\",\"marker\":{\"colorbar\":{\"outlinewidth\":0,\"ticks\":\"\"}}}],\"bar\":[{\"error_x\":{\"color\":\"#2a3f5f\"},\"error_y\":{\"color\":\"#2a3f5f\"},\"marker\":{\"line\":{\"color\":\"#E5ECF6\",\"width\":0.5},\"pattern\":{\"fillmode\":\"overlay\",\"size\":10,\"solidity\":0.2}},\"type\":\"bar\"}],\"scattergeo\":[{\"type\":\"scattergeo\",\"marker\":{\"colorbar\":{\"outlinewidth\":0,\"ticks\":\"\"}}}],\"scatterpolar\":[{\"type\":\"scatterpolar\",\"marker\":{\"colorbar\":{\"outlinewidth\":0,\"ticks\":\"\"}}}],\"histogram\":[{\"marker\":{\"pattern\":{\"fillmode\":\"overlay\",\"size\":10,\"solidity\":0.2}},\"type\":\"histogram\"}],\"scattergl\":[{\"type\":\"scattergl\",\"marker\":{\"colorbar\":{\"outlinewidth\":0,\"ticks\":\"\"}}}],\"scatter3d\":[{\"type\":\"scatter3d\",\"line\":{\"colorbar\":{\"outlinewidth\":0,\"ticks\":\"\"}},\"marker\":{\"colorbar\":{\"outlinewidth\":0,\"ticks\":\"\"}}}],\"scattermapbox\":[{\"type\":\"scattermapbox\",\"marker\":{\"colorbar\":{\"outlinewidth\":0,\"ticks\":\"\"}}}],\"scatterternary\":[{\"type\":\"scatterternary\",\"marker\":{\"colorbar\":{\"outlinewidth\":0,\"ticks\":\"\"}}}],\"scattercarpet\":[{\"type\":\"scattercarpet\",\"marker\":{\"colorbar\":{\"outlinewidth\":0,\"ticks\":\"\"}}}],\"carpet\":[{\"aaxis\":{\"endlinecolor\":\"#2a3f5f\",\"gridcolor\":\"white\",\"linecolor\":\"white\",\"minorgridcolor\":\"white\",\"startlinecolor\":\"#2a3f5f\"},\"baxis\":{\"endlinecolor\":\"#2a3f5f\",\"gridcolor\":\"white\",\"linecolor\":\"white\",\"minorgridcolor\":\"white\",\"startlinecolor\":\"#2a3f5f\"},\"type\":\"carpet\"}],\"table\":[{\"cells\":{\"fill\":{\"color\":\"#EBF0F8\"},\"line\":{\"color\":\"white\"}},\"header\":{\"fill\":{\"color\":\"#C8D4E3\"},\"line\":{\"color\":\"white\"}},\"type\":\"table\"}],\"barpolar\":[{\"marker\":{\"line\":{\"color\":\"#E5ECF6\",\"width\":0.5},\"pattern\":{\"fillmode\":\"overlay\",\"size\":10,\"solidity\":0.2}},\"type\":\"barpolar\"}],\"pie\":[{\"automargin\":true,\"type\":\"pie\"}]},\"layout\":{\"autotypenumbers\":\"strict\",\"colorway\":[\"#636efa\",\"#EF553B\",\"#00cc96\",\"#ab63fa\",\"#FFA15A\",\"#19d3f3\",\"#FF6692\",\"#B6E880\",\"#FF97FF\",\"#FECB52\"],\"font\":{\"color\":\"#2a3f5f\"},\"hovermode\":\"closest\",\"hoverlabel\":{\"align\":\"left\"},\"paper_bgcolor\":\"white\",\"plot_bgcolor\":\"#E5ECF6\",\"polar\":{\"bgcolor\":\"#E5ECF6\",\"angularaxis\":{\"gridcolor\":\"white\",\"linecolor\":\"white\",\"ticks\":\"\"},\"radialaxis\":{\"gridcolor\":\"white\",\"linecolor\":\"white\",\"ticks\":\"\"}},\"ternary\":{\"bgcolor\":\"#E5ECF6\",\"aaxis\":{\"gridcolor\":\"white\",\"linecolor\":\"white\",\"ticks\":\"\"},\"baxis\":{\"gridcolor\":\"white\",\"linecolor\":\"white\",\"ticks\":\"\"},\"caxis\":{\"gridcolor\":\"white\",\"linecolor\":\"white\",\"ticks\":\"\"}},\"coloraxis\":{\"colorbar\":{\"outlinewidth\":0,\"ticks\":\"\"}},\"colorscale\":{\"sequential\":[[0.0,\"#0d0887\"],[0.1111111111111111,\"#46039f\"],[0.2222222222222222,\"#7201a8\"],[0.3333333333333333,\"#9c179e\"],[0.4444444444444444,\"#bd3786\"],[0.5555555555555556,\"#d8576b\"],[0.6666666666666666,\"#ed7953\"],[0.7777777777777778,\"#fb9f3a\"],[0.8888888888888888,\"#fdca26\"],[1.0,\"#f0f921\"]],\"sequentialminus\":[[0.0,\"#0d0887\"],[0.1111111111111111,\"#46039f\"],[0.2222222222222222,\"#7201a8\"],[0.3333333333333333,\"#9c179e\"],[0.4444444444444444,\"#bd3786\"],[0.5555555555555556,\"#d8576b\"],[0.6666666666666666,\"#ed7953\"],[0.7777777777777778,\"#fb9f3a\"],[0.8888888888888888,\"#fdca26\"],[1.0,\"#f0f921\"]],\"diverging\":[[0,\"#8e0152\"],[0.1,\"#c51b7d\"],[0.2,\"#de77ae\"],[0.3,\"#f1b6da\"],[0.4,\"#fde0ef\"],[0.5,\"#f7f7f7\"],[0.6,\"#e6f5d0\"],[0.7,\"#b8e186\"],[0.8,\"#7fbc41\"],[0.9,\"#4d9221\"],[1,\"#276419\"]]},\"xaxis\":{\"gridcolor\":\"white\",\"linecolor\":\"white\",\"ticks\":\"\",\"title\":{\"standoff\":15},\"zerolinecolor\":\"white\",\"automargin\":true,\"zerolinewidth\":2},\"yaxis\":{\"gridcolor\":\"white\",\"linecolor\":\"white\",\"ticks\":\"\",\"title\":{\"standoff\":15},\"zerolinecolor\":\"white\",\"automargin\":true,\"zerolinewidth\":2},\"scene\":{\"xaxis\":{\"backgroundcolor\":\"#E5ECF6\",\"gridcolor\":\"white\",\"linecolor\":\"white\",\"showbackground\":true,\"ticks\":\"\",\"zerolinecolor\":\"white\",\"gridwidth\":2},\"yaxis\":{\"backgroundcolor\":\"#E5ECF6\",\"gridcolor\":\"white\",\"linecolor\":\"white\",\"showbackground\":true,\"ticks\":\"\",\"zerolinecolor\":\"white\",\"gridwidth\":2},\"zaxis\":{\"backgroundcolor\":\"#E5ECF6\",\"gridcolor\":\"white\",\"linecolor\":\"white\",\"showbackground\":true,\"ticks\":\"\",\"zerolinecolor\":\"white\",\"gridwidth\":2}},\"shapedefaults\":{\"line\":{\"color\":\"#2a3f5f\"}},\"annotationdefaults\":{\"arrowcolor\":\"#2a3f5f\",\"arrowhead\":0,\"arrowwidth\":1},\"geo\":{\"bgcolor\":\"white\",\"landcolor\":\"#E5ECF6\",\"subunitcolor\":\"white\",\"showland\":true,\"showlakes\":true,\"lakecolor\":\"white\"},\"title\":{\"x\":0.05},\"mapbox\":{\"style\":\"light\"}}},\"annotations\":[{\"font\":{},\"showarrow\":false,\"text\":\"Working Professional or Student=Student\",\"x\":0.245,\"xanchor\":\"center\",\"xref\":\"paper\",\"y\":1.0,\"yanchor\":\"bottom\",\"yref\":\"paper\"},{\"font\":{},\"showarrow\":false,\"text\":\"Working Professional or Student=Working Professional\",\"x\":0.755,\"xanchor\":\"center\",\"xref\":\"paper\",\"y\":1.0,\"yanchor\":\"bottom\",\"yref\":\"paper\"}],\"legend\":{\"tracegroupgap\":0},\"margin\":{\"t\":60},\"title\":{\"font\":{\"size\":18},\"text\":\"Job Satisfaction Vs. Depression\",\"x\":0.5,\"y\":0.95},\"font\":{\"family\":\"Times\",\"size\":12,\"color\":\"Darkblue\"}},                        {\"responsive\": true}                    ).then(function(){\n",
       "                            \n",
       "var gd = document.getElementById('5579d6e1-871b-47ff-bf38-ffdfc6679d42');\n",
       "var x = new MutationObserver(function (mutations, observer) {{\n",
       "        var display = window.getComputedStyle(gd).display;\n",
       "        if (!display || display === 'none') {{\n",
       "            console.log([gd, 'removed!']);\n",
       "            Plotly.purge(gd);\n",
       "            observer.disconnect();\n",
       "        }}\n",
       "}});\n",
       "\n",
       "// Listen for the removal of the full notebook cells\n",
       "var notebookContainer = gd.closest('#notebook-container');\n",
       "if (notebookContainer) {{\n",
       "    x.observe(notebookContainer, {childList: true});\n",
       "}}\n",
       "\n",
       "// Listen for the clearing of the current output cell\n",
       "var outputEl = gd.closest('.output');\n",
       "if (outputEl) {{\n",
       "    x.observe(outputEl, {childList: true});\n",
       "}}\n",
       "\n",
       "                        })                };                });            </script>        </div>"
      ]
     },
     "metadata": {},
     "output_type": "display_data"
    }
   ],
   "source": [
    " # the code for this pie chart uses the Working Professional or Student variable and compares it to depression, but it is mostly \n",
    "# the same as the previous charts\n",
    "\n",
    "#sorts the data by working professional or student and depression so that they both appear in the proper\n",
    "\n",
    "DF_Student_Vs_Job = (\n",
    "DF.value_counts(subset=['Working Professional or Student', 'Depression']).reset_index(name='count').sort_values(by=['Working Professional or Student', 'Depression'], ascending=[True, True])\n",
    "     \n",
    "\n",
    ")\n",
    "\n",
    "fig3 = px.pie(DF_Student_Vs_Job, \n",
    "    values = 'count',\n",
    "    facet_col='Working Professional or Student',\n",
    "    color = 'Depression',\n",
    "    category_orders={'Depression': [0, 1]},\n",
    ")\n",
    "\n",
    "\n",
    "fig3.update_layout(\n",
    "\n",
    "    title={\n",
    "        'font': dict(size=18),\n",
    "        'text': \"Job Satisfaction Vs. Depression\", \n",
    "        'x': 0.5,  # Center the title horizontally\n",
    "        'y': 0.95,  # Adjust vertical position (closer to top)\n",
    "    },\n",
    "        font={'family':\"Times\",'size':12,'color':\"Darkblue\"}\n",
    ")\n",
    "fig3.show()"
   ]
  },
  {
   "cell_type": "markdown",
   "id": "e7b99cfc-9d49-4fed-8808-6101de761666",
   "metadata": {},
   "source": [
    "    The workers are on the left, while the students are on the right. As you can very clearly see here, the depression rates are much higher in the participants that were students. This ratio is much higher than I could've ever anticipated, and I think that it is very likely the most influencial variable for depression among those in this data set."
   ]
  },
  {
   "cell_type": "code",
   "execution_count": null,
   "id": "97fd56ad-2d0d-4b5c-bcb0-73dcda9ba8f1",
   "metadata": {},
   "outputs": [],
   "source": [
    "DF_Depression_Influence = (\n",
    "DF.value_counts(subset=['Financial Stress', 'Depression']).reset_index(name='count').sort_values(by='Financial Stress', ascending=True)\n",
    "\n",
    ")\n",
    "\n",
    "fig3 = px.pie(DF_Depression_Influence, \n",
    "    values='count', \n",
    "    facet_col='Financial Stress',\n",
    "    color = 'Depression',\n",
    "    facet_col_wrap = 5,\n",
    "    category_orders={'Depression' : [1,0]},\n",
    "   \n",
    ")\n",
    "\n",
    "\n",
    "fig3.update_layout(\n",
    "                  width=900,\n",
    "                  height=300,\n",
    "    title={\n",
    "        'font': dict(size=18),\n",
    "        'text': \"Financial Stress Vs. Depression\",\n",
    "        'x': 0.5,  # Center the title horizontally\n",
    "        'y': 0.95,  # Adjust vertical position (closer to top)\n",
    "    },\n",
    "        font={'family':\"Times\",'size':12,'color':\"Darkblue\"}\n",
    "                      \n",
    ")\n",
    "\n",
    "fig3.show()"
   ]
  },
  {
   "cell_type": "markdown",
   "id": "7c19673f-cd77-45cd-80a1-a54cb9393038",
   "metadata": {},
   "source": [
    "### How does age influence depression"
   ]
  },
  {
   "cell_type": "code",
   "execution_count": 457,
   "id": "400516b6-bff5-4a3d-8cb0-8411efedf6ba",
   "metadata": {},
   "outputs": [
    {
     "data": {
      "text/html": [
       "<table id=\"itables_7f446ec2_fa3e_4908_a1d7_305a8e953794\" class=\"display nowrap\" data-quarto-disable-processing=\"true\" style=\"table-layout:auto;width:auto;margin:auto;caption-side:bottom\">\n",
       "<thead>\n",
       "    <tr style=\"text-align: right;\">\n",
       "      \n",
       "      <th>id</th>\n",
       "      <th>Name</th>\n",
       "      <th>Gender</th>\n",
       "      <th>Age</th>\n",
       "      <th>City</th>\n",
       "      <th>Working Professional or Student</th>\n",
       "      <th>Profession</th>\n",
       "      <th>Academic Pressure</th>\n",
       "      <th>Work Pressure</th>\n",
       "      <th>CGPA</th>\n",
       "      <th>Study Satisfaction</th>\n",
       "      <th>Job Satisfaction</th>\n",
       "      <th>Sleep Duration</th>\n",
       "      <th>Dietary Habits</th>\n",
       "      <th>Degree</th>\n",
       "      <th>Have you ever had suicidal thoughts ?</th>\n",
       "      <th>Work/Study Hours</th>\n",
       "      <th>Financial Stress</th>\n",
       "      <th>Family History of Mental Illness</th>\n",
       "      <th>Depression</th>\n",
       "    </tr>\n",
       "  </thead><tbody><tr>\n",
       "<td style=\"vertical-align:middle; text-align:left\">\n",
       "<div style=\"float:left; margin-right: 10px;\">\n",
       "<a href=https://mwouts.github.io/itables/><svg class=\"main-svg\" xmlns=\"http://www.w3.org/2000/svg\" xmlns:xlink=\"http://www.w3.org/1999/xlink\"\n",
       "width=\"64\" viewBox=\"0 0 500 400\" style=\"font-family: 'Droid Sans', sans-serif;\">\n",
       "    <g style=\"fill:#d9d7fc\">\n",
       "        <path d=\"M100,400H500V357H100Z\" />\n",
       "        <path d=\"M100,300H400V257H100Z\" />\n",
       "        <path d=\"M0,200H400V157H0Z\" />\n",
       "        <path d=\"M100,100H500V57H100Z\" />\n",
       "        <path d=\"M100,350H500V307H100Z\" />\n",
       "        <path d=\"M100,250H400V207H100Z\" />\n",
       "        <path d=\"M0,150H400V107H0Z\" />\n",
       "        <path d=\"M100,50H500V7H100Z\" />\n",
       "    </g>\n",
       "    <g style=\"fill:#1a1366;stroke:#1a1366;\">\n",
       "   <rect x=\"100\" y=\"7\" width=\"400\" height=\"43\">\n",
       "    <animate\n",
       "      attributeName=\"width\"\n",
       "      values=\"0;400;0\"\n",
       "      dur=\"5s\"\n",
       "      repeatCount=\"indefinite\" />\n",
       "      <animate\n",
       "      attributeName=\"x\"\n",
       "      values=\"100;100;500\"\n",
       "      dur=\"5s\"\n",
       "      repeatCount=\"indefinite\" />\n",
       "  </rect>\n",
       "        <rect x=\"0\" y=\"107\" width=\"400\" height=\"43\">\n",
       "    <animate\n",
       "      attributeName=\"width\"\n",
       "      values=\"0;400;0\"\n",
       "      dur=\"3.5s\"\n",
       "      repeatCount=\"indefinite\" />\n",
       "    <animate\n",
       "      attributeName=\"x\"\n",
       "      values=\"0;0;400\"\n",
       "      dur=\"3.5s\"\n",
       "      repeatCount=\"indefinite\" />\n",
       "  </rect>\n",
       "        <rect x=\"100\" y=\"207\" width=\"300\" height=\"43\">\n",
       "    <animate\n",
       "      attributeName=\"width\"\n",
       "      values=\"0;300;0\"\n",
       "      dur=\"3s\"\n",
       "      repeatCount=\"indefinite\" />\n",
       "    <animate\n",
       "      attributeName=\"x\"\n",
       "      values=\"100;100;400\"\n",
       "      dur=\"3s\"\n",
       "      repeatCount=\"indefinite\" />\n",
       "  </rect>\n",
       "        <rect x=\"100\" y=\"307\" width=\"400\" height=\"43\">\n",
       "    <animate\n",
       "      attributeName=\"width\"\n",
       "      values=\"0;400;0\"\n",
       "      dur=\"4s\"\n",
       "      repeatCount=\"indefinite\" />\n",
       "      <animate\n",
       "      attributeName=\"x\"\n",
       "      values=\"100;100;500\"\n",
       "      dur=\"4s\"\n",
       "      repeatCount=\"indefinite\" />\n",
       "  </rect>\n",
       "        <g style=\"fill:transparent;stroke-width:8; stroke-linejoin:round\" rx=\"5\">\n",
       "            <g transform=\"translate(45 50) rotate(-45)\">\n",
       "                <circle r=\"33\" cx=\"0\" cy=\"0\" />\n",
       "                <rect x=\"-8\" y=\"32\" width=\"16\" height=\"30\" />\n",
       "            </g>\n",
       "\n",
       "            <g transform=\"translate(450 152)\">\n",
       "                <polyline points=\"-15,-20 -35,-20 -35,40 25,40 25,20\" />\n",
       "                <rect x=\"-15\" y=\"-40\" width=\"60\" height=\"60\" />\n",
       "            </g>\n",
       "\n",
       "            <g transform=\"translate(50 352)\">\n",
       "                <polygon points=\"-35,-5 0,-40 35,-5\" />\n",
       "                <polygon points=\"-35,10 0,45 35,10\" />\n",
       "            </g>\n",
       "\n",
       "            <g transform=\"translate(75 250)\">\n",
       "                <polyline points=\"-30,30 -60,0 -30,-30\" />\n",
       "                <polyline points=\"0,30 -30,0 0,-30\" />\n",
       "            </g>\n",
       "\n",
       "            <g transform=\"translate(425 250) rotate(180)\">\n",
       "                <polyline points=\"-30,30 -60,0 -30,-30\" />\n",
       "                <polyline points=\"0,30 -30,0 0,-30\" />\n",
       "            </g>\n",
       "        </g>\n",
       "    </g>\n",
       "</svg>\n",
       "</a>\n",
       "</div>\n",
       "<div>\n",
       "Loading ITables v2.2.2 from the internet...\n",
       "(need <a href=https://mwouts.github.io/itables/troubleshooting.html>help</a>?)</td>\n",
       "</div>\n",
       "</tr></tbody>\n",
       "\n",
       "</table>\n",
       "<link href=\"https://www.unpkg.com/dt_for_itables@2.0.13/dt_bundle.css\" rel=\"stylesheet\">\n",
       "<script type=\"module\">\n",
       "    import {DataTable, jQuery as $} from 'https://www.unpkg.com/dt_for_itables@2.0.13/dt_bundle.js';\n",
       "\n",
       "    document.querySelectorAll(\"#itables_7f446ec2_fa3e_4908_a1d7_305a8e953794:not(.dataTable)\").forEach(table => {\n",
       "        if (!(table instanceof HTMLTableElement))\n",
       "            return;\n",
       "\n",
       "        // Define the table data\n",
       "        const data = [[0, \"Aaradhya\", \"Female\", 49.0, \"Ludhiana\", \"Working Professional\", \"Chef\", NaN, 5.0, NaN, NaN, 2.0, \"More than 8 hours\", \"Healthy\", \"BHM\", \"No\", 1.0, 2.0, \"No\", 0], [1, \"Vivan\", \"Male\", 26.0, \"Varanasi\", \"Working Professional\", \"Teacher\", NaN, 4.0, NaN, NaN, 3.0, \"Less than 5 hours\", \"Unhealthy\", \"LLB\", \"Yes\", 7.0, 3.0, \"No\", 1], [2, \"Yuvraj\", \"Male\", 33.0, \"Visakhapatnam\", \"Student\", \"NaN\", 5.0, NaN, 8.97, 2.0, NaN, \"5-6 hours\", \"Healthy\", \"B.Pharm\", \"Yes\", 3.0, 1.0, \"No\", 1], [3, \"Yuvraj\", \"Male\", 22.0, \"Mumbai\", \"Working Professional\", \"Teacher\", NaN, 5.0, NaN, NaN, 1.0, \"Less than 5 hours\", \"Moderate\", \"BBA\", \"Yes\", 10.0, 1.0, \"Yes\", 1], [4, \"Rhea\", \"Female\", 30.0, \"Kanpur\", \"Working Professional\", \"Business Analyst\", NaN, 1.0, NaN, NaN, 1.0, \"5-6 hours\", \"Unhealthy\", \"BBA\", \"Yes\", 9.0, 4.0, \"Yes\", 0], [5, \"Vani\", \"Female\", 59.0, \"Ahmedabad\", \"Working Professional\", \"Finanancial Analyst\", NaN, 2.0, NaN, NaN, 5.0, \"5-6 hours\", \"Healthy\", \"MCA\", \"No\", 7.0, 5.0, \"No\", 0], [6, \"Ritvik\", \"Male\", 47.0, \"Thane\", \"Working Professional\", \"Chemist\", NaN, 5.0, NaN, NaN, 2.0, \"7-8 hours\", \"Moderate\", \"MD\", \"No\", 6.0, 2.0, \"No\", 0], [7, \"Rajveer\", \"Male\", 38.0, \"Nashik\", \"Working Professional\", \"Teacher\", NaN, 3.0, NaN, NaN, 4.0, \"7-8 hours\", \"Unhealthy\", \"B.Pharm\", \"No\", 10.0, 3.0, \"Yes\", 0], [8, \"Aishwarya\", \"Female\", 24.0, \"Bangalore\", \"Student\", \"NaN\", 2.0, NaN, 5.9, 5.0, NaN, \"5-6 hours\", \"Moderate\", \"BSc\", \"No\", 3.0, 2.0, \"Yes\", 0], [9, \"Simran\", \"Female\", 42.0, \"Patna\", \"Working Professional\", \"Electrician\", NaN, 4.0, NaN, NaN, 1.0, \"5-6 hours\", \"Healthy\", \"ME\", \"Yes\", 7.0, 2.0, \"Yes\", 0], [10, \"Utkarsh\", \"Male\", 55.0, \"Rajkot\", \"Working Professional\", \"Software Engineer\", NaN, 3.0, NaN, NaN, 2.0, \"7-8 hours\", \"Moderate\", \"BSc\", \"No\", 6.0, 4.0, \"Yes\", 0], [11, \"Aahana\", \"Female\", 51.0, \"Patna\", \"Working Professional\", \"Teacher\", NaN, 1.0, NaN, NaN, 2.0, \"7-8 hours\", \"Moderate\", \"B.Arch\", \"No\", 9.0, 5.0, \"No\", 0], [12, \"Tejas\", \"Male\", 39.0, \"Jaipur\", \"Working Professional\", \"Data Scientist\", NaN, 2.0, NaN, NaN, 5.0, \"More than 8 hours\", \"Moderate\", \"BCA\", \"Yes\", 1.0, 3.0, \"No\", 0], [13, \"Aadhya\", \"Female\", 29.0, \"Pune\", \"Working Professional\", \"Chef\", NaN, 4.0, NaN, NaN, 4.0, \"7-8 hours\", \"Unhealthy\", \"BHM\", \"No\", 6.0, 5.0, \"Yes\", 0], [14, \"Kiran\", \"Male\", 50.0, \"Thane\", \"Working Professional\", \"Plumber\", NaN, 1.0, NaN, NaN, 1.0, \"More than 8 hours\", \"Moderate\", \"BE\", \"Yes\", 8.0, 5.0, \"Yes\", 0], [15, \"Aditi\", \"Female\", 23.0, \"Patna\", \"Working Professional\", \"Marketing Manager\", NaN, 2.0, NaN, NaN, 2.0, \"5-6 hours\", \"Healthy\", \"MA\", \"Yes\", 6.0, 4.0, \"Yes\", 1], [16, \"Suhani\", \"Female\", 49.0, \"Lucknow\", \"Working Professional\", \"Teacher\", NaN, 5.0, NaN, NaN, 3.0, \"More than 8 hours\", \"Healthy\", \"B.Ed\", \"No\", 2.0, 1.0, \"No\", 0], [17, \"Jiya\", \"Female\", 56.0, \"Meerut\", \"Working Professional\", \"Accountant\", NaN, 5.0, NaN, NaN, 3.0, \"7-8 hours\", \"Moderate\", \"B.Com\", \"No\", 0.0, 5.0, \"Yes\", 0], [18, \"Bhavesh\", \"Male\", 50.0, \"Agra\", \"Working Professional\", \"Entrepreneur\", NaN, 5.0, NaN, NaN, 2.0, \"7-8 hours\", \"Moderate\", \"BBA\", \"No\", 3.0, 2.0, \"Yes\", 0], [19, \"Armaan\", \"Male\", 45.0, \"Rajkot\", \"Working Professional\", \"Teacher\", NaN, 2.0, NaN, NaN, 4.0, \"5-6 hours\", \"Moderate\", \"MBA\", \"Yes\", 2.0, 3.0, \"No\", 0], [20, \"Ishaani\", \"Female\", 37.0, \"Surat\", \"Working Professional\", \"Teacher\", NaN, 3.0, NaN, NaN, 1.0, \"7-8 hours\", \"Healthy\", \"B.Ed\", \"No\", 5.0, 2.0, \"Yes\", 0], [21, \"Prachi\", \"Female\", 45.0, \"Faridabad\", \"Working Professional\", \"HR Manager\", NaN, 3.0, NaN, NaN, 1.0, \"7-8 hours\", \"Unhealthy\", \"MA\", \"Yes\", 6.0, 4.0, \"Yes\", 0], [22, \"Pratyush\", \"Male\", 37.0, \"Meerut\", \"Working Professional\", \"Teacher\", NaN, 5.0, NaN, NaN, 5.0, \"5-6 hours\", \"Healthy\", \"B.Arch\", \"No\", 9.0, 2.0, \"Yes\", 0], [23, \"Aishwarya\", \"Female\", 46.0, \"Hyderabad\", \"Working Professional\", \"UX/UI Designer\", NaN, 2.0, NaN, NaN, 3.0, \"5-6 hours\", \"Healthy\", \"BCA\", \"No\", 7.0, 5.0, \"No\", 0], [24, \"Abhinav\", \"Male\", 39.0, \"Pune\", \"Working Professional\", \"Content Writer\", NaN, 5.0, NaN, NaN, 2.0, \"More than 8 hours\", \"Healthy\", \"M.Com\", \"Yes\", 7.0, 2.0, \"Yes\", 0], [25, \"Siddhesh\", \"Male\", 38.0, \"Thane\", \"Working Professional\", \"Chef\", NaN, 2.0, NaN, NaN, 1.0, \"More than 8 hours\", \"Healthy\", \"MHM\", \"Yes\", 2.0, 2.0, \"No\", 0], [26, \"Aditya\", \"Male\", 31.0, \"Srinagar\", \"Student\", \"NaN\", 3.0, NaN, 7.03, 5.0, NaN, \"Less than 5 hours\", \"Healthy\", \"BA\", \"No\", 9.0, 1.0, \"Yes\", 0], [27, \"Aarav\", \"Male\", 50.0, \"Ghaziabad\", \"Working Professional\", \"HR Manager\", NaN, 5.0, NaN, NaN, 3.0, \"Less than 5 hours\", \"Healthy\", \"MA\", \"Yes\", 12.0, 5.0, \"Yes\", 1], [28, \"Asha\", \"Female\", 47.0, \"Kolkata\", \"Working Professional\", \"Entrepreneur\", NaN, 3.0, NaN, NaN, 5.0, \"7-8 hours\", \"Moderate\", \"BSc\", \"No\", 5.0, 1.0, \"No\", 0], [29, \"Kashish\", \"Female\", 19.0, \"Agra\", \"Working Professional\", \"NaN\", NaN, 1.0, NaN, NaN, 5.0, \"More than 8 hours\", \"Healthy\", \"Class 12\", \"No\", 5.0, 2.0, \"No\", 0], [30, \"Prisha\", \"Female\", 28.0, \"Varanasi\", \"Student\", \"NaN\", 3.0, NaN, 5.59, 2.0, NaN, \"7-8 hours\", \"Moderate\", \"BCA\", \"Yes\", 4.0, 5.0, \"Yes\", 1], [31, \"Aaradhya\", \"Female\", 37.0, \"Pune\", \"Working Professional\", \"Chef\", NaN, 2.0, NaN, NaN, 1.0, \"7-8 hours\", \"Unhealthy\", \"BHM\", \"No\", 5.0, 3.0, \"Yes\", 0], [32, \"Chhavi\", \"Female\", 25.0, \"Jaipur\", \"Student\", \"NaN\", 4.0, NaN, 8.13, 3.0, NaN, \"5-6 hours\", \"Moderate\", \"M.Tech\", \"Yes\", 1.0, 1.0, \"No\", 0], [33, \"Tanmay\", \"Male\", 29.0, \"Pune\", \"Student\", \"NaN\", 2.0, NaN, 5.7, 3.0, NaN, \"Less than 5 hours\", \"Healthy\", \"PhD\", \"No\", 4.0, 1.0, \"No\", 0], [34, \"Vihaan\", \"Male\", 41.0, \"Chennai\", \"Working Professional\", \"Teacher\", NaN, 1.0, NaN, NaN, 4.0, \"7-8 hours\", \"Unhealthy\", \"LLB\", \"Yes\", 6.0, 5.0, \"No\", 0], [35, \"Shiv\", \"Male\", 45.0, \"Rajkot\", \"Working Professional\", \"Chemist\", NaN, 1.0, NaN, NaN, 4.0, \"7-8 hours\", \"Moderate\", \"B.Pharm\", \"Yes\", 9.0, 1.0, \"Yes\", 0], [36, \"Anvi\", \"Female\", 50.0, \"Kalyan\", \"Working Professional\", \"NaN\", NaN, 4.0, NaN, NaN, 4.0, \"7-8 hours\", \"Unhealthy\", \"Class 12\", \"No\", 0.0, 2.0, \"No\", 0], [37, \"Darsh\", \"Male\", 51.0, \"Nagpur\", \"Working Professional\", \"Educational Consultant\", NaN, 1.0, NaN, NaN, 5.0, \"7-8 hours\", \"Unhealthy\", \"B.Ed\", \"Yes\", 0.0, 4.0, \"No\", 0], [38, \"Samar\", \"Male\", 45.0, \"Mumbai\", \"Working Professional\", \"Civil Engineer\", NaN, 3.0, NaN, NaN, 2.0, \"Less than 5 hours\", \"Healthy\", \"MCA\", \"No\", 9.0, 5.0, \"No\", 0], [39, \"Raunak\", \"Male\", 59.0, \"Jaipur\", \"Working Professional\", \"Manager\", NaN, 4.0, NaN, NaN, 1.0, \"Less than 5 hours\", \"Unhealthy\", \"BHM\", \"Yes\", 2.0, 4.0, \"No\", 0], [40, \"Armaan\", \"Male\", 51.0, \"Nashik\", \"Working Professional\", \"Electrician\", NaN, 2.0, NaN, NaN, 4.0, \"7-8 hours\", \"Healthy\", \"ME\", \"No\", 1.0, 2.0, \"Yes\", 0], [41, \"Mahi\", \"Female\", 47.0, \"Ludhiana\", \"Working Professional\", \"Pharmacist\", NaN, 4.0, NaN, NaN, 1.0, \"Less than 5 hours\", \"Healthy\", \"B.Pharm\", \"Yes\", 9.0, 2.0, \"Yes\", 0], [42, \"Shaurya\", \"Male\", 60.0, \"Ludhiana\", \"Working Professional\", \"Manager\", NaN, 4.0, NaN, NaN, 1.0, \"5-6 hours\", \"Moderate\", \"MHM\", \"Yes\", 3.0, 2.0, \"No\", 0], [43, \"Vidya\", \"Female\", 18.0, \"Vadodara\", \"Working Professional\", \"NaN\", NaN, 5.0, NaN, NaN, 4.0, \"Less than 5 hours\", \"Moderate\", \"Class 12\", \"Yes\", 10.0, 5.0, \"No\", 1], [44, \"Jai\", \"Male\", 55.0, \"Jaipur\", \"Working Professional\", \"Civil Engineer\", NaN, 1.0, NaN, NaN, 1.0, \"7-8 hours\", \"Unhealthy\", \"BBA\", \"Yes\", 0.0, 2.0, \"No\", 0], [45, \"Ayush\", \"Male\", 36.0, \"Ludhiana\", \"Working Professional\", \"Marketing Manager\", NaN, 1.0, NaN, NaN, 2.0, \"7-8 hours\", \"Healthy\", \"BA\", \"Yes\", 0.0, 2.0, \"Yes\", 0], [46, \"Ansh\", \"Male\", 49.0, \"Meerut\", \"Working Professional\", \"Teacher\", NaN, 2.0, NaN, NaN, 1.0, \"7-8 hours\", \"Moderate\", \"M.Ed\", \"Yes\", 0.0, 1.0, \"Yes\", 0], [47, \"Vani\", \"Female\", 50.0, \"Nashik\", \"Working Professional\", \"Pharmacist\", NaN, 1.0, NaN, NaN, 3.0, \"7-8 hours\", \"Unhealthy\", \"MA\", \"Yes\", 10.0, 2.0, \"Yes\", 0], [48, \"Anand\", \"Male\", 38.0, \"Ghaziabad\", \"Working Professional\", \"NaN\", NaN, 2.0, NaN, NaN, 5.0, \"5-6 hours\", \"Moderate\", \"Class 12\", \"No\", 1.0, 1.0, \"Yes\", 0], [49, \"Yashvi\", \"Female\", 39.0, \"Vasai-Virar\", \"Working Professional\", \"Financial Analyst\", NaN, 2.0, NaN, NaN, 2.0, \"7-8 hours\", \"Moderate\", \"B.Com\", \"No\", 0.0, 1.0, \"Yes\", 0], [50, \"Raunak\", \"Male\", 21.0, \"Pune\", \"Working Professional\", \"NaN\", NaN, 4.0, NaN, NaN, 5.0, \"5-6 hours\", \"Healthy\", \"Class 12\", \"Yes\", 8.0, 5.0, \"Yes\", 0], [51, \"Aarav\", \"Male\", 58.0, \"Kalyan\", \"Working Professional\", \"Architect\", NaN, 2.0, NaN, NaN, 1.0, \"More than 8 hours\", \"Unhealthy\", \"B.Arch\", \"Yes\", 4.0, 1.0, \"Yes\", 0], [52, \"Shrey\", \"Male\", 30.0, \"Thane\", \"Student\", \"NaN\", 3.0, NaN, 9.54, 4.0, NaN, \"7-8 hours\", \"Healthy\", \"BSc\", \"No\", 1.0, 2.0, \"No\", 0], [53, \"Ritika\", \"Female\", 44.0, \"Ludhiana\", \"Working Professional\", \"Teacher\", NaN, 5.0, NaN, NaN, 2.0, \"7-8 hours\", \"Unhealthy\", \"B.Pharm\", \"No\", 9.0, 1.0, \"Yes\", 0], [54, \"Mihir\", \"Male\", 31.0, \"Patna\", \"Working Professional\", \"Mechanical Engineer\", NaN, 2.0, NaN, NaN, 5.0, \"Less than 5 hours\", \"Healthy\", \"PhD\", \"No\", 0.0, 3.0, \"Yes\", 0], [55, \"Ayush\", \"Male\", 56.0, \"Kanpur\", \"Working Professional\", \"Plumber\", NaN, 2.0, NaN, NaN, 3.0, \"Less than 5 hours\", \"Moderate\", \"MCA\", \"No\", 10.0, 3.0, \"No\", 0], [56, \"Isha\", \"Female\", 30.0, \"Chennai\", \"Student\", \"NaN\", 2.0, NaN, 8.04, 4.0, NaN, \"Less than 5 hours\", \"Unhealthy\", \"Class 12\", \"No\", 0.0, 1.0, \"Yes\", 0], [57, \"Arjun\", \"Male\", 47.0, \"Lucknow\", \"Working Professional\", \"Teacher\", NaN, 2.0, NaN, NaN, 3.0, \"More than 8 hours\", \"Healthy\", \"MCA\", \"Yes\", 12.0, 4.0, \"No\", 0], [58, \"Vani\", \"Female\", 23.0, \"Agra\", \"Working Professional\", \"HR Manager\", NaN, 5.0, NaN, NaN, 2.0, \"5-6 hours\", \"Healthy\", \"MSc\", \"Yes\", 3.0, 4.0, \"No\", 1], [59, \"Rohan\", \"Male\", 28.0, \"Nagpur\", \"Student\", \"NaN\", 3.0, NaN, 9.79, 1.0, NaN, \"7-8 hours\", \"Moderate\", \"B.Ed\", \"Yes\", 12.0, 3.0, \"No\", 1], [60, \"Vivan\", \"Male\", 25.0, \"Hyderabad\", \"Working Professional\", \"Teacher\", NaN, 5.0, NaN, NaN, 2.0, \"7-8 hours\", \"Unhealthy\", \"B.Arch\", \"No\", 4.0, 5.0, \"Yes\", 1], [61, \"Pratham\", \"Male\", 43.0, \"Patna\", \"Working Professional\", \"Architect\", NaN, 4.0, NaN, NaN, 1.0, \"Less than 5 hours\", \"Healthy\", \"BSc\", \"No\", 0.0, 3.0, \"No\", 0], [62, \"Nirvaan\", \"Male\", 31.0, \"Nashik\", \"Student\", \"NaN\", 2.0, NaN, 8.38, 3.0, NaN, \"Less than 5 hours\", \"Moderate\", \"LLB\", \"Yes\", 2.0, 5.0, \"No\", 1], [63, \"Ishaan\", \"Male\", 40.0, \"Ludhiana\", \"Working Professional\", \"Marketing Manager\", NaN, 3.0, NaN, NaN, 3.0, \"Less than 5 hours\", \"Unhealthy\", \"BA\", \"No\", 1.0, 5.0, \"Yes\", 0], [64, \"Aarya\", \"Female\", 28.0, \"Chennai\", \"Working Professional\", \"Electrician\", NaN, 3.0, NaN, NaN, 2.0, \"5-6 hours\", \"Moderate\", \"BCA\", \"No\", 9.0, 1.0, \"Yes\", 0], [65, \"Riya\", \"Female\", 35.0, \"Rajkot\", \"Working Professional\", \"Mechanical Engineer\", NaN, 4.0, NaN, NaN, 1.0, \"5-6 hours\", \"Healthy\", \"BSc\", \"Yes\", 4.0, 4.0, \"No\", 0], [66, \"Aariv\", \"Male\", 54.0, \"Meerut\", \"Working Professional\", \"Chef\", NaN, 1.0, NaN, NaN, 2.0, \"5-6 hours\", \"Moderate\", \"BHM\", \"No\", 1.0, 3.0, \"No\", 0], [67, \"Raghavendra\", \"Male\", 50.0, \"Vasai-Virar\", \"Working Professional\", \"Customer Support\", NaN, 4.0, NaN, NaN, 3.0, \"7-8 hours\", \"Healthy\", \"BA\", \"No\", 7.0, 4.0, \"No\", 0], [68, \"Armaan\", \"Male\", 46.0, \"Ludhiana\", \"Working Professional\", \"Consultant\", NaN, 1.0, NaN, NaN, 3.0, \"Less than 5 hours\", \"Healthy\", \"PhD\", \"Yes\", 3.0, 3.0, \"No\", 0], [69, \"Mahika\", \"Female\", 51.0, \"Agra\", \"Working Professional\", \"Teacher\", NaN, 2.0, NaN, NaN, 4.0, \"5-6 hours\", \"Healthy\", \"B.Ed\", \"No\", 0.0, 2.0, \"No\", 0], [70, \"Abhishek\", \"Male\", 18.0, \"Vasai-Virar\", \"Working Professional\", \"NaN\", NaN, 5.0, NaN, NaN, 2.0, \"Less than 5 hours\", \"Moderate\", \"Class 12\", \"Yes\", 6.0, 4.0, \"No\", 1], [71, \"Jiya\", \"Female\", 38.0, \"Vadodara\", \"Working Professional\", \"Architect\", NaN, 4.0, NaN, NaN, 2.0, \"7-8 hours\", \"Healthy\", \"MCA\", \"Yes\", 11.0, 5.0, \"Yes\", 0], [72, \"Armaan\", \"Male\", 54.0, \"Vasai-Virar\", \"Working Professional\", \"Teacher\", NaN, 2.0, NaN, NaN, 3.0, \"5-6 hours\", \"Moderate\", \"B.Arch\", \"No\", 6.0, 1.0, \"No\", 0], [73, \"Harshil\", \"Male\", 44.0, \"Kolkata\", \"Working Professional\", \"Consultant\", NaN, 3.0, NaN, NaN, 5.0, \"5-6 hours\", \"Healthy\", \"BBA\", \"No\", 1.0, 3.0, \"No\", 0], [74, \"Rohan\", \"Male\", 41.0, \"Thane\", \"Working Professional\", \"Content Writer\", NaN, 1.0, NaN, NaN, 2.0, \"5-6 hours\", \"Unhealthy\", \"ME\", \"Yes\", 6.0, 2.0, \"Yes\", 0], [75, \"Janvi\", \"Female\", 59.0, \"Agra\", \"Working Professional\", \"Marketing Manager\", NaN, 5.0, NaN, NaN, 3.0, \"7-8 hours\", \"Healthy\", \"BA\", \"Yes\", 5.0, 4.0, \"Yes\", 0], [76, \"Aariv\", \"Male\", 54.0, \"Delhi\", \"Working Professional\", \"Content Writer\", NaN, 4.0, NaN, NaN, 2.0, \"7-8 hours\", \"Unhealthy\", \"B.Ed\", \"No\", 12.0, 5.0, \"Yes\", 0], [77, \"Kartikeya\", \"Male\", 45.0, \"Rajkot\", \"Working Professional\", \"Architect\", NaN, 1.0, NaN, NaN, 5.0, \"7-8 hours\", \"Unhealthy\", \"B.Arch\", \"Yes\", 6.0, 3.0, \"Yes\", 0], [78, \"Shivam\", \"Male\", 46.0, \"Surat\", \"Working Professional\", \"Educational Consultant\", NaN, 2.0, NaN, NaN, 2.0, \"7-8 hours\", \"Moderate\", \"B.Ed\", \"No\", 10.0, 1.0, \"Yes\", 0], [79, \"Advait\", \"Male\", 45.0, \"Bangalore\", \"Working Professional\", \"Teacher\", NaN, 2.0, NaN, NaN, 4.0, \"7-8 hours\", \"Unhealthy\", \"B.Pharm\", \"No\", 11.0, 4.0, \"No\", 0], [80, \"Samar\", \"Male\", 21.0, \"Thane\", \"Working Professional\", \"NaN\", NaN, 4.0, NaN, NaN, 4.0, \"5-6 hours\", \"Unhealthy\", \"Class 12\", \"No\", 1.0, 2.0, \"No\", 0], [81, \"Reyansh\", \"Male\", 19.0, \"Nagpur\", \"Working Professional\", \"NaN\", NaN, 5.0, NaN, NaN, 4.0, \"Less than 5 hours\", \"Moderate\", \"Class 12\", \"Yes\", 11.0, 2.0, \"No\", 1], [82, \"Saanvi\", \"Female\", 49.0, \"Hyderabad\", \"Working Professional\", \"NaN\", NaN, 1.0, NaN, NaN, 5.0, \"5-6 hours\", \"Moderate\", \"Class 12\", \"No\", 0.0, 3.0, \"No\", 0], [83, \"Ivaan\", \"Male\", 24.0, \"Nagpur\", \"Student\", \"NaN\", 3.0, NaN, 6.1, 3.0, NaN, \"5-6 hours\", \"Moderate\", \"Class 12\", \"Yes\", 11.0, 1.0, \"Yes\", 1], [84, \"Pallavi\", \"Female\", 47.0, \"Nagpur\", \"Working Professional\", \"Teacher\", NaN, 5.0, NaN, NaN, 5.0, \"7-8 hours\", \"Unhealthy\", \"BSc\", \"No\", 0.0, 5.0, \"Yes\", 0], [85, \"Rohan\", \"Male\", 51.0, \"Hyderabad\", \"Working Professional\", \"Judge\", NaN, 3.0, NaN, NaN, 5.0, \"5-6 hours\", \"Healthy\", \"LLB\", \"No\", 11.0, 1.0, \"Yes\", 0], [86, \"Aaradhya\", \"Female\", 30.0, \"Vadodara\", \"Working Professional\", \"Teacher\", NaN, 2.0, NaN, NaN, 4.0, \"Less than 5 hours\", \"Unhealthy\", \"B.Arch\", \"No\", 10.0, 2.0, \"No\", 0], [87, \"Samar\", \"Male\", 54.0, \"Jaipur\", \"Working Professional\", \"Researcher\", NaN, 2.0, NaN, NaN, 4.0, \"5-6 hours\", \"Unhealthy\", \"M.Tech\", \"No\", 2.0, 2.0, \"No\", 0], [88, \"Sneha\", \"Female\", 60.0, \"Rajkot\", \"Working Professional\", \"UX/UI Designer\", NaN, 5.0, NaN, NaN, 3.0, \"7-8 hours\", \"Moderate\", \"MSc\", \"No\", 2.0, 1.0, \"Yes\", 0], [89, \"Ayaan\", \"Male\", 45.0, \"Bangalore\", \"Working Professional\", \"Teacher\", NaN, 1.0, NaN, NaN, 5.0, \"7-8 hours\", \"Moderate\", \"B.Arch\", \"No\", 2.0, 4.0, \"Yes\", 0], [90, \"Ayush\", \"Male\", 24.0, \"Chennai\", \"Working Professional\", \"Teacher\", NaN, 4.0, NaN, NaN, 3.0, \"5-6 hours\", \"Healthy\", \"B.Ed\", \"Yes\", 8.0, 4.0, \"Yes\", 0], [91, \"Aakash\", \"Male\", 33.0, \"Vadodara\", \"Student\", \"NaN\", 3.0, NaN, 7.03, 4.0, NaN, \"Less than 5 hours\", \"Healthy\", \"BE\", \"Yes\", 10.0, 2.0, \"Yes\", 0], [92, \"Raghav\", \"Male\", 54.0, \"Nagpur\", \"Working Professional\", \"Content Writer\", NaN, 2.0, NaN, NaN, 1.0, \"More than 8 hours\", \"Unhealthy\", \"B.Tech\", \"No\", 3.0, 1.0, \"No\", 0], [93, \"Shiv\", \"Male\", 18.0, \"Thane\", \"Working Professional\", \"NaN\", NaN, 4.0, NaN, NaN, 2.0, \"7-8 hours\", \"Unhealthy\", \"Class 12\", \"No\", 2.0, 1.0, \"No\", 0], [94, \"Satyam\", \"Male\", 27.0, \"Kalyan\", \"Student\", \"NaN\", 5.0, NaN, 7.04, 1.0, NaN, \"Less than 5 hours\", \"Moderate\", \"M.Tech\", \"No\", 10.0, 1.0, \"Yes\", 1], [95, \"Shiv\", \"Male\", 36.0, \"Rajkot\", \"Working Professional\", \"Teacher\", NaN, 2.0, NaN, NaN, 5.0, \"More than 8 hours\", \"Healthy\", \"B.Ed\", \"Yes\", 10.0, 4.0, \"No\", 0], [96, \"Aarush\", \"Male\", 31.0, \"Ludhiana\", \"Working Professional\", \"Teacher\", NaN, 4.0, NaN, NaN, 3.0, \"5-6 hours\", \"Unhealthy\", \"B.Ed\", \"Yes\", 4.0, 2.0, \"No\", 0], [97, \"Vibha\", \"Female\", 52.0, \"Chennai\", \"Working Professional\", \"Data Scientist\", NaN, 1.0, NaN, NaN, 3.0, \"7-8 hours\", \"Moderate\", \"M.Tech\", \"No\", 1.0, 2.0, \"Yes\", 0], [98, \"Rupal\", \"Female\", 56.0, \"Lucknow\", \"Working Professional\", \"Educational Consultant\", NaN, 2.0, NaN, NaN, 2.0, \"Less than 5 hours\", \"Healthy\", \"B.Ed\", \"No\", 9.0, 2.0, \"No\", 0], [99, \"Vivan\", \"Male\", 36.0, \"Thane\", \"Working Professional\", \"Teacher\", NaN, 1.0, NaN, NaN, 2.0, \"Less than 5 hours\", \"Healthy\", \"B.Ed\", \"Yes\", 10.0, 3.0, \"Yes\", 0], [100, \"Sanya\", \"Female\", 19.0, \"Rajkot\", \"Student\", \"NaN\", 2.0, NaN, 8.52, 4.0, NaN, \"Less than 5 hours\", \"Unhealthy\", \"Class 12\", \"No\", 6.0, 2.0, \"Yes\", 0], [101, \"Mira\", \"Female\", 48.0, \"Ludhiana\", \"Working Professional\", \"NaN\", NaN, 3.0, NaN, NaN, 2.0, \"5-6 hours\", \"Healthy\", \"Class 12\", \"Yes\", 8.0, 4.0, \"Yes\", 1], [102, \"Shiv\", \"Male\", 56.0, \"Rajkot\", \"Working Professional\", \"Teacher\", NaN, 3.0, NaN, NaN, 3.0, \"7-8 hours\", \"Moderate\", \"B.Arch\", \"No\", 7.0, 3.0, \"No\", 0], [103, \"Rashi\", \"Female\", 19.0, \"Kalyan\", \"Student\", \"NaN\", 5.0, NaN, 5.64, 5.0, NaN, \"Less than 5 hours\", \"Moderate\", \"Class 12\", \"Yes\", 4.0, 5.0, \"Yes\", 1], [104, \"Shivam\", \"Male\", 43.0, \"Meerut\", \"Working Professional\", \"Judge\", NaN, 4.0, NaN, NaN, 2.0, \"7-8 hours\", \"Healthy\", \"LLM\", \"No\", 7.0, 3.0, \"No\", 0], [105, \"Bhavesh\", \"Male\", 57.0, \"Chennai\", \"Working Professional\", \"Consultant\", NaN, 3.0, NaN, NaN, 5.0, \"Less than 5 hours\", \"Unhealthy\", \"BE\", \"No\", 2.0, 3.0, \"No\", 0], [106, \"Shlok\", \"Male\", 29.0, \"Srinagar\", \"Student\", \"NaN\", 3.0, NaN, 8.58, 3.0, NaN, \"More than 8 hours\", \"Moderate\", \"M.Tech\", \"Yes\", 10.0, 2.0, \"Yes\", 1], [107, \"Vani\", \"Female\", 19.0, \"Srinagar\", \"Working Professional\", \"NaN\", NaN, 5.0, NaN, NaN, 5.0, \"7-8 hours\", \"Healthy\", \"Class 12\", \"Yes\", 11.0, 4.0, \"Yes\", 1], [108, \"Harsha\", \"Male\", 50.0, \"Delhi\", \"Working Professional\", \"Researcher\", NaN, 2.0, NaN, NaN, 1.0, \"Less than 5 hours\", \"Unhealthy\", \"B.Tech\", \"Yes\", 1.0, 2.0, \"Yes\", 0], [109, \"Rupal\", \"Female\", 37.0, \"Kanpur\", \"Working Professional\", \"Electrician\", NaN, 1.0, NaN, NaN, 4.0, \"5-6 hours\", \"Moderate\", \"BCA\", \"No\", 9.0, 5.0, \"No\", 0], [110, \"Raunak\", \"Male\", 38.0, \"Kanpur\", \"Working Professional\", \"Teacher\", NaN, 4.0, NaN, NaN, 1.0, \"5-6 hours\", \"Unhealthy\", \"B.Pharm\", \"No\", 3.0, 5.0, \"Yes\", 0], [111, \"Divya\", \"Female\", 37.0, \"Visakhapatnam\", \"Working Professional\", \"Architect\", NaN, 4.0, NaN, NaN, 1.0, \"More than 8 hours\", \"Moderate\", \"MSc\", \"No\", 12.0, 3.0, \"No\", 0], [112, \"Aariv\", \"Male\", 53.0, \"Delhi\", \"Working Professional\", \"HR Manager\", NaN, 4.0, NaN, NaN, 4.0, \"5-6 hours\", \"Healthy\", \"MA\", \"Yes\", 9.0, 3.0, \"Yes\", 0], [113, \"Aariv\", \"Male\", 34.0, \"Patna\", \"Working Professional\", \"Teacher\", NaN, 3.0, NaN, NaN, 5.0, \"More than 8 hours\", \"Moderate\", \"B.Ed\", \"Yes\", 10.0, 3.0, \"No\", 0], [114, \"Ishaan\", \"Male\", 57.0, \"Kanpur\", \"Working Professional\", \"HR Manager\", NaN, 1.0, NaN, NaN, 4.0, \"5-6 hours\", \"Moderate\", \"M.Tech\", \"No\", 11.0, 5.0, \"No\", 0], [115, \"Pranav\", \"Male\", 55.0, \"Patna\", \"Working Professional\", \"Content Writer\", NaN, 1.0, NaN, NaN, 4.0, \"Less than 5 hours\", \"Healthy\", \"BE\", \"No\", 9.0, 1.0, \"No\", 0], [116, \"Hrithik\", \"Male\", 53.0, \"Kolkata\", \"Working Professional\", \"Judge\", NaN, 4.0, NaN, NaN, 5.0, \"Less than 5 hours\", \"Unhealthy\", \"LLB\", \"No\", 0.0, 4.0, \"Yes\", 0], [117, \"Prachi\", \"Female\", 24.0, \"Bangalore\", \"Working Professional\", \"Teacher\", NaN, 1.0, NaN, NaN, 1.0, \"5-6 hours\", \"Unhealthy\", \"MBBS\", \"No\", 8.0, 3.0, \"No\", 0], [118, \"Prisha\", \"Female\", 59.0, \"Agra\", \"Working Professional\", \"Entrepreneur\", NaN, 2.0, NaN, NaN, 3.0, \"More than 8 hours\", \"Healthy\", \"BSc\", \"Yes\", 10.0, 2.0, \"No\", 0], [119, \"Aaradhya\", \"Female\", 51.0, \"Meerut\", \"Working Professional\", \"Marketing Manager\", NaN, 2.0, NaN, NaN, 5.0, \"7-8 hours\", \"Healthy\", \"BA\", \"No\", 9.0, 3.0, \"No\", 0], [120, \"Tushar\", \"Male\", 25.0, \"Nashik\", \"Student\", \"NaN\", 5.0, NaN, 6.51, 2.0, NaN, \"Less than 5 hours\", \"Unhealthy\", \"M.Ed\", \"Yes\", 2.0, 5.0, \"Yes\", 1], [121, \"Garima\", \"Female\", 18.0, \"Hyderabad\", \"Working Professional\", \"NaN\", NaN, 5.0, NaN, NaN, 4.0, \"7-8 hours\", \"Unhealthy\", \"Class 12\", \"Yes\", 7.0, 2.0, \"Yes\", 1], [122, \"Rashi\", \"Female\", 19.0, \"Ludhiana\", \"Working Professional\", \"NaN\", NaN, 2.0, NaN, NaN, 1.0, \"5-6 hours\", \"Healthy\", \"Class 12\", \"Yes\", 3.0, 1.0, \"Yes\", 0], [123, \"Abhishek\", \"Male\", 47.0, \"Kanpur\", \"Working Professional\", \"Teacher\", NaN, 4.0, NaN, NaN, 5.0, \"Less than 5 hours\", \"Unhealthy\", \"M.Pharm\", \"Yes\", 6.0, 4.0, \"Yes\", 0], [124, \"Shivam\", \"Male\", 44.0, \"Pune\", \"Working Professional\", \"Teacher\", NaN, 2.0, NaN, NaN, 1.0, \"7-8 hours\", \"Healthy\", \"B.Tech\", \"Yes\", 1.0, 3.0, \"No\", 0], [125, \"Divya\", \"Female\", 50.0, \"Bangalore\", \"Working Professional\", \"Content Writer\", NaN, 4.0, NaN, NaN, 5.0, \"Less than 5 hours\", \"Moderate\", \"BE\", \"No\", 4.0, 3.0, \"No\", 0], [126, \"Ishaani\", \"Female\", 29.0, \"Vasai-Virar\", \"Working Professional\", \"Marketing Manager\", NaN, 5.0, NaN, NaN, 5.0, \"More than 8 hours\", \"Healthy\", \"B.Com\", \"No\", 12.0, 1.0, \"Yes\", 0], [127, \"Anand\", \"Male\", 59.0, \"Mumbai\", \"Working Professional\", \"NaN\", NaN, 1.0, NaN, NaN, 5.0, \"Less than 5 hours\", \"Healthy\", \"Class 12\", \"Yes\", 5.0, 1.0, \"No\", 0], [128, \"Zoya\", \"Female\", 57.0, \"Pune\", \"Working Professional\", \"Consultant\", NaN, 2.0, NaN, NaN, 3.0, \"7-8 hours\", \"Healthy\", \"B.Com\", \"Yes\", 9.0, 3.0, \"No\", 0], [129, \"Kian\", \"Male\", 45.0, \"Kanpur\", \"Working Professional\", \"NaN\", NaN, 4.0, NaN, NaN, 3.0, \"5-6 hours\", \"Healthy\", \"Class 12\", \"Yes\", 2.0, 4.0, \"No\", 0], [130, \"Aakash\", \"Female\", 51.0, \"Vadodara\", \"Working Professional\", \"Teacher\", NaN, 2.0, NaN, NaN, 5.0, \"More than 8 hours\", \"Moderate\", \"B.Arch\", \"No\", 11.0, 1.0, \"No\", 0], [131, \"Vibha\", \"Female\", 57.0, \"Mumbai\", \"Working Professional\", \"Entrepreneur\", NaN, 1.0, NaN, NaN, 5.0, \"7-8 hours\", \"Unhealthy\", \"BSc\", \"Yes\", 8.0, 2.0, \"No\", 0], [132, \"Vani\", \"Female\", 20.0, \"Ahmedabad\", \"Student\", \"NaN\", 5.0, NaN, 7.25, 3.0, NaN, \"5-6 hours\", \"Healthy\", \"Class 12\", \"Yes\", 10.0, 3.0, \"No\", 1], [133, \"Reyansh\", \"Male\", 50.0, \"Vasai-Virar\", \"Working Professional\", \"Manager\", NaN, 5.0, NaN, NaN, 5.0, \"Less than 5 hours\", \"Healthy\", \"MHM\", \"No\", 12.0, 1.0, \"No\", 0], [134, \"Rohan\", \"Male\", 54.0, \"Thane\", \"Working Professional\", \"Finanancial Analyst\", NaN, 3.0, NaN, NaN, 5.0, \"7-8 hours\", \"Moderate\", \"B.Tech\", \"No\", 10.0, 2.0, \"No\", 0], [135, \"Rohan\", \"Male\", 54.0, \"Jaipur\", \"Working Professional\", \"Pilot\", NaN, 3.0, NaN, NaN, 5.0, \"7-8 hours\", \"Healthy\", \"B.Tech\", \"No\", 7.0, 4.0, \"No\", 0], [136, \"Navya\", \"Female\", 52.0, \"Kolkata\", \"Working Professional\", \"NaN\", NaN, 3.0, NaN, NaN, 4.0, \"5-6 hours\", \"Moderate\", \"Class 12\", \"Yes\", 4.0, 4.0, \"No\", 0], [137, \"Lakshay\", \"Male\", 29.0, \"Kanpur\", \"Working Professional\", \"Business Analyst\", NaN, 5.0, NaN, NaN, 1.0, \"5-6 hours\", \"Unhealthy\", \"BE\", \"Yes\", 4.0, 3.0, \"Yes\", 1], [138, \"Aarush\", \"Male\", 25.0, \"Nashik\", \"Working Professional\", \"Graphic Designer\", NaN, 2.0, NaN, NaN, 2.0, \"5-6 hours\", \"Moderate\", \"B.Tech\", \"No\", 6.0, 5.0, \"No\", 1], [139, \"Advait\", \"Male\", 19.0, \"Chennai\", \"Student\", \"NaN\", 2.0, NaN, 7.83, 2.0, NaN, \"7-8 hours\", \"Unhealthy\", \"Class 12\", \"No\", 6.0, 3.0, \"No\", 0], [140, \"Kriti\", \"Female\", 36.0, \"Ahmedabad\", \"Working Professional\", \"Teacher\", NaN, 5.0, NaN, NaN, 2.0, \"More than 8 hours\", \"Moderate\", \"BA\", \"No\", 1.0, 2.0, \"Yes\", 0], [141, \"Asha\", \"Female\", 60.0, \"Bhopal\", \"Working Professional\", \"Travel Consultant\", NaN, 2.0, NaN, NaN, 2.0, \"7-8 hours\", \"Moderate\", \"MHM\", \"No\", 12.0, 2.0, \"Yes\", 0], [142, \"Raghav\", \"Male\", 53.0, \"Patna\", \"Working Professional\", \"Business Analyst\", NaN, 3.0, NaN, NaN, 4.0, \"Less than 5 hours\", \"Unhealthy\", \"ME\", \"No\", 4.0, 1.0, \"No\", 0], [143, \"Palak\", \"Female\", 46.0, \"Vadodara\", \"Working Professional\", \"Teacher\", NaN, 4.0, NaN, NaN, 1.0, \"Less than 5 hours\", \"Healthy\", \"B.Arch\", \"Yes\", 1.0, 5.0, \"No\", 0], [144, \"Rohan\", \"Male\", 28.0, \"Lucknow\", \"Working Professional\", \"Digital Marketer\", NaN, 2.0, NaN, NaN, 5.0, \"Less than 5 hours\", \"Unhealthy\", \"B.Com\", \"Yes\", 0.0, 1.0, \"No\", 1], [145, \"Aryan\", \"Male\", 25.0, \"Kalyan\", \"Student\", \"NaN\", 3.0, NaN, 9.93, 3.0, NaN, \"5-6 hours\", \"Moderate\", \"B.Ed\", \"No\", 8.0, 3.0, \"Yes\", 1], [146, \"Parth\", \"Male\", 34.0, \"Agra\", \"Working Professional\", \"Teacher\", NaN, 3.0, NaN, NaN, 5.0, \"More than 8 hours\", \"Healthy\", \"LLB\", \"No\", 11.0, 3.0, \"No\", 0], [147, \"Ishan\", \"Male\", 51.0, \"Kanpur\", \"Working Professional\", \"Manager\", NaN, 4.0, NaN, NaN, 3.0, \"7-8 hours\", \"Healthy\", \"MHM\", \"No\", 1.0, 2.0, \"No\", 0], [148, \"Divya\", \"Female\", 43.0, \"Pune\", \"Working Professional\", \"Content Writer\", NaN, 5.0, NaN, NaN, 4.0, \"Less than 5 hours\", \"Unhealthy\", \"B.Ed\", \"No\", 7.0, 2.0, \"No\", 0], [149, \"Rupak\", \"Male\", 46.0, \"Pune\", \"Working Professional\", \"Content Writer\", NaN, 2.0, NaN, NaN, 4.0, \"7-8 hours\", \"Healthy\", \"M.Ed\", \"No\", 11.0, 3.0, \"No\", 0], [150, \"Raghavendra\", \"Male\", 48.0, \"Varanasi\", \"Working Professional\", \"Content Writer\", NaN, 4.0, NaN, NaN, 2.0, \"5-6 hours\", \"Healthy\", \"B.Ed\", \"Yes\", 6.0, 1.0, \"Yes\", 0], [151, \"Aaradhya\", \"Female\", 42.0, \"Vasai-Virar\", \"Working Professional\", \"Finanancial Analyst\", NaN, 5.0, NaN, NaN, 1.0, \"5-6 hours\", \"Healthy\", \"BCA\", \"Yes\", 8.0, 1.0, \"Yes\", 0], [152, \"Atharv\", \"Male\", 60.0, \"Varanasi\", \"Working Professional\", \"Travel Consultant\", NaN, 1.0, NaN, NaN, 5.0, \"7-8 hours\", \"Moderate\", \"MHM\", \"No\", 0.0, 2.0, \"No\", 0], [153, \"Shaurya\", \"Male\", 22.0, \"Surat\", \"Working Professional\", \"Teacher\", NaN, 5.0, NaN, NaN, 1.0, \"7-8 hours\", \"Healthy\", \"BCA\", \"No\", 11.0, 1.0, \"Yes\", 1], [154, \"Aarti\", \"Female\", 43.0, \"Delhi\", \"Working Professional\", \"Content Writer\", NaN, 3.0, NaN, NaN, 5.0, \"7-8 hours\", \"Unhealthy\", \"ME\", \"Yes\", 12.0, 2.0, \"Yes\", 0], [155, \"Anirudh\", \"Male\", 43.0, \"Lucknow\", \"Working Professional\", \"Lawyer\", NaN, 5.0, NaN, NaN, 1.0, \"5-6 hours\", \"Healthy\", \"LLM\", \"No\", 10.0, 4.0, \"No\", 0], [156, \"Kabir\", \"Male\", 55.0, \"Ghaziabad\", \"Working Professional\", \"Customer Support\", NaN, 4.0, NaN, NaN, 2.0, \"More than 8 hours\", \"Unhealthy\", \"BA\", \"No\", 11.0, 2.0, \"Yes\", 0], [157, \"Aariv\", \"Male\", 23.0, \"Rajkot\", \"Working Professional\", \"Architect\", NaN, 3.0, NaN, NaN, 2.0, \"7-8 hours\", \"Moderate\", \"B.Arch\", \"No\", 5.0, 1.0, \"No\", 0], [158, \"Shiv\", \"Male\", 56.0, \"Pune\", \"Working Professional\", \"Civil Engineer\", NaN, 2.0, NaN, NaN, 3.0, \"5-6 hours\", \"Healthy\", \"M.Tech\", \"Yes\", 12.0, 4.0, \"Yes\", 0], [159, \"Rhea\", \"Female\", 45.0, \"Ludhiana\", \"Working Professional\", \"Teacher\", NaN, 2.0, NaN, NaN, 5.0, \"More than 8 hours\", \"Healthy\", \"B.Arch\", \"Yes\", 6.0, 4.0, \"Yes\", 0], [160, \"Jai\", \"Male\", 46.0, \"Jaipur\", \"Working Professional\", \"Civil Engineer\", NaN, 3.0, NaN, NaN, 1.0, \"7-8 hours\", \"Healthy\", \"M.Tech\", \"No\", 10.0, 3.0, \"No\", 0], [161, \"Ritvik\", \"Male\", 29.0, \"Kolkata\", \"Student\", \"NaN\", 3.0, NaN, 8.74, 4.0, NaN, \"5-6 hours\", \"Moderate\", \"B.Ed\", \"Yes\", 1.0, 1.0, \"No\", 0], [162, \"Ritvik\", \"Male\", 29.0, \"Kolkata\", \"Student\", \"NaN\", 3.0, NaN, 6.73, 3.0, NaN, \"7-8 hours\", \"Moderate\", \"M.Tech\", \"No\", 0.0, 1.0, \"No\", 0], [163, \"Sanjeev\", \"Male\", 49.0, \"Delhi\", \"Working Professional\", \"Pharmacist\", NaN, 2.0, NaN, NaN, 2.0, \"More than 8 hours\", \"Moderate\", \"B.Pharm\", \"Yes\", 11.0, 5.0, \"No\", 0], [164, \"Armaan\", \"Male\", 38.0, \"Pune\", \"Working Professional\", \"Chef\", NaN, 4.0, NaN, NaN, 4.0, \"7-8 hours\", \"Healthy\", \"BHM\", \"No\", 7.0, 5.0, \"No\", 0], [165, \"Sanket\", \"Male\", 22.0, \"Chennai\", \"Working Professional\", \"Content Writer\", NaN, 2.0, NaN, NaN, 5.0, \"5-6 hours\", \"Moderate\", \"BCA\", \"Yes\", 9.0, 2.0, \"Yes\", 0], [166, \"Tara\", \"Female\", 25.0, \"Ahmedabad\", \"Student\", \"NaN\", 3.0, NaN, 5.57, 3.0, NaN, \"More than 8 hours\", \"Unhealthy\", \"MSc\", \"Yes\", 10.0, 5.0, \"No\", 1], [167, \"Tushar\", \"Male\", 38.0, \"Visakhapatnam\", \"Working Professional\", \"Chemist\", NaN, 4.0, NaN, NaN, 5.0, \"7-8 hours\", \"Moderate\", \"B.Pharm\", \"No\", 10.0, 5.0, \"Yes\", 0], [168, \"Rashi\", \"Female\", 38.0, \"Faridabad\", \"Working Professional\", \"Consultant\", NaN, 4.0, NaN, NaN, 4.0, \"7-8 hours\", \"Unhealthy\", \"MCA\", \"No\", 9.0, 5.0, \"Yes\", 0], [169, \"Ishaani\", \"Female\", 42.0, \"Kalyan\", \"Working Professional\", \"Finanancial Analyst\", NaN, 5.0, NaN, NaN, 1.0, \"More than 8 hours\", \"Healthy\", \"MSc\", \"Yes\", 1.0, 5.0, \"No\", 0], [170, \"Gagan\", \"Male\", 36.0, \"Delhi\", \"Working Professional\", \"Content Writer\", NaN, 2.0, NaN, NaN, 2.0, \"5-6 hours\", \"Moderate\", \"M.Ed\", \"Yes\", 4.0, 4.0, \"Yes\", 0], [171, \"Anjali\", \"Female\", 35.0, \"Chennai\", \"Working Professional\", \"Lawyer\", NaN, 4.0, NaN, NaN, 1.0, \"5-6 hours\", \"Moderate\", \"LLB\", \"No\", 10.0, 1.0, \"Yes\", 0], [172, \"Kartikeya\", \"Male\", 23.0, \"Thane\", \"Student\", \"NaN\", 1.0, NaN, 8.59, 4.0, NaN, \"7-8 hours\", \"Healthy\", \"BHM\", \"No\", 11.0, 3.0, \"No\", 0], [173, \"Hrithik\", \"Male\", 18.0, \"Bangalore\", \"Student\", \"NaN\", 4.0, NaN, 7.1, 3.0, NaN, \"More than 8 hours\", \"Unhealthy\", \"Class 12\", \"Yes\", 11.0, 5.0, \"Yes\", 1], [174, \"Gaurav\", \"Male\", 18.0, \"Chennai\", \"Working Professional\", \"NaN\", NaN, 5.0, NaN, NaN, 3.0, \"Less than 5 hours\", \"Unhealthy\", \"Class 12\", \"No\", 3.0, 5.0, \"No\", 1], [175, \"Rashi\", \"Female\", 28.0, \"Ludhiana\", \"Working Professional\", \"Educational Consultant\", NaN, 2.0, NaN, NaN, 5.0, \"5-6 hours\", \"Healthy\", \"B.Ed\", \"Yes\", 9.0, 5.0, \"Yes\", 0], [176, \"Aditi\", \"Female\", 20.0, \"Mumbai\", \"Student\", \"NaN\", 5.0, NaN, 8.58, 5.0, NaN, \"7-8 hours\", \"Moderate\", \"Class 12\", \"No\", 2.0, 2.0, \"Yes\", 1], [177, \"Janvi\", \"Female\", 47.0, \"Nagpur\", \"Working Professional\", \"HR Manager\", NaN, 4.0, NaN, NaN, 3.0, \"5-6 hours\", \"Healthy\", \"BA\", \"Yes\", 3.0, 2.0, \"Yes\", 0], [178, \"Asha\", \"Female\", 46.0, \"Chennai\", \"Working Professional\", \"Mechanical Engineer\", NaN, 4.0, NaN, NaN, 4.0, \"Less than 5 hours\", \"Healthy\", \"BSc\", \"Yes\", 0.0, 1.0, \"No\", 0], [179, \"Siddhesh\", \"Male\", 31.0, \"Rajkot\", \"Working Professional\", \"Finanancial Analyst\", NaN, 5.0, NaN, NaN, 2.0, \"Less than 5 hours\", \"Moderate\", \"PhD\", \"Yes\", 3.0, 2.0, \"Yes\", 0], [180, \"Riya\", \"Female\", 40.0, \"Mumbai\", \"Working Professional\", \"Chef\", NaN, 3.0, NaN, NaN, 4.0, \"7-8 hours\", \"Moderate\", \"BHM\", \"Yes\", 11.0, 5.0, \"Yes\", 1], [181, \"Vikram\", \"Male\", 50.0, \"Kolkata\", \"Working Professional\", \"Customer Support\", NaN, 2.0, NaN, NaN, 5.0, \"7-8 hours\", \"Healthy\", \"BA\", \"Yes\", 2.0, 4.0, \"No\", 0], [182, \"Yogesh\", \"Male\", 56.0, \"Ahmedabad\", \"Working Professional\", \"Pharmacist\", NaN, 2.0, NaN, NaN, 5.0, \"Less than 5 hours\", \"Unhealthy\", \"MBBS\", \"No\", 4.0, 5.0, \"Yes\", 0], [183, \"Pratyush\", \"Male\", 57.0, \"Visakhapatnam\", \"Working Professional\", \"Manager\", NaN, 4.0, NaN, NaN, 2.0, \"5-6 hours\", \"Unhealthy\", \"MHM\", \"Yes\", 9.0, 4.0, \"Yes\", 0], [184, \"Ila\", \"Female\", 49.0, \"Nashik\", \"Working Professional\", \"Entrepreneur\", NaN, 2.0, NaN, NaN, 5.0, \"More than 8 hours\", \"Unhealthy\", \"B.Tech\", \"No\", 1.0, 4.0, \"Yes\", 0], [185, \"Rishi\", \"Male\", 55.0, \"Hyderabad\", \"Working Professional\", \"Content Writer\", NaN, 2.0, NaN, NaN, 2.0, \"Less than 5 hours\", \"Unhealthy\", \"B.Ed\", \"No\", 11.0, 3.0, \"No\", 0], [186, \"Pratham\", \"Male\", 31.0, \"Ahmedabad\", \"Student\", \"NaN\", 2.0, NaN, 6.08, 5.0, NaN, \"7-8 hours\", \"Moderate\", \"LLB\", \"Yes\", 3.0, 3.0, \"Yes\", 1], [187, \"Aditi\", \"Female\", 39.0, \"Ludhiana\", \"Working Professional\", \"Data Scientist\", NaN, 4.0, NaN, NaN, 3.0, \"5-6 hours\", \"Unhealthy\", \"MCA\", \"No\", 5.0, 5.0, \"No\", 0], [188, \"Ayansh\", \"Male\", 50.0, \"Patna\", \"Working Professional\", \"Teacher\", NaN, 1.0, NaN, NaN, 3.0, \"Less than 5 hours\", \"Moderate\", \"B.Ed\", \"Yes\", 0.0, 2.0, \"No\", 0], [189, \"Armaan\", \"Male\", 59.0, \"Indore\", \"Working Professional\", \"Chemist\", NaN, 5.0, NaN, NaN, 4.0, \"More than 8 hours\", \"Moderate\", \"M.Pharm\", \"No\", 10.0, 4.0, \"Yes\", 0], [190, \"Vidya\", \"Female\", 39.0, \"Lucknow\", \"Working Professional\", \"Chef\", NaN, 1.0, NaN, NaN, 5.0, \"Less than 5 hours\", \"Unhealthy\", \"MHM\", \"Yes\", 4.0, 5.0, \"Yes\", 0], [191, \"Kolkata\", \"Male\", 54.0, \"Kolkata\", \"Working Professional\", \"Lawyer\", NaN, 1.0, NaN, NaN, 3.0, \"Less than 5 hours\", \"Unhealthy\", \"LLB\", \"Yes\", 2.0, 1.0, \"Yes\", 0], [192, \"Abhishek\", \"Male\", 29.0, \"Vasai-Virar\", \"Working Professional\", \"Judge\", NaN, 2.0, NaN, NaN, 3.0, \"More than 8 hours\", \"Moderate\", \"LLB\", \"Yes\", 8.0, 1.0, \"Yes\", 0], [193, \"Gaurav\", \"Male\", 25.0, \"Lucknow\", \"Student\", \"NaN\", 3.0, NaN, 7.25, 3.0, NaN, \"More than 8 hours\", \"Unhealthy\", \"M.Ed\", \"Yes\", 10.0, 5.0, \"No\", 1], [194, \"Kavya\", \"Female\", 54.0, \"Kolkata\", \"Working Professional\", \"Teacher\", NaN, 2.0, NaN, NaN, 2.0, \"5-6 hours\", \"Moderate\", \"B.Ed\", \"No\", 6.0, 4.0, \"Yes\", 0], [195, \"Shivam\", \"Male\", 38.0, \"Mumbai\", \"Working Professional\", \"Teacher\", NaN, 1.0, NaN, NaN, 2.0, \"7-8 hours\", \"Healthy\", \"BA\", \"No\", 2.0, 4.0, \"No\", 0], [196, \"Aanchal\", \"Female\", 33.0, \"Srinagar\", \"Working Professional\", \"Teacher\", NaN, 3.0, NaN, NaN, 4.0, \"7-8 hours\", \"Healthy\", \"B.Ed\", \"Yes\", 11.0, 5.0, \"No\", 0], [197, \"Vedant\", \"Male\", 46.0, \"Nashik\", \"Working Professional\", \"Financial Analyst\", NaN, 2.0, NaN, NaN, 1.0, \"More than 8 hours\", \"Healthy\", \"M.Com\", \"No\", 10.0, 3.0, \"Yes\", 0], [198, \"Abhishek\", \"Male\", 37.0, \"Jaipur\", \"Working Professional\", \"Teacher\", NaN, 3.0, NaN, NaN, 4.0, \"More than 8 hours\", \"Moderate\", \"M.Pharm\", \"Yes\", 2.0, 3.0, \"Yes\", 0], [199, \"Aariv\", \"Male\", 43.0, \"Patna\", \"Working Professional\", \"Teacher\", NaN, 1.0, NaN, NaN, 4.0, \"More than 8 hours\", \"Moderate\", \"B.Ed\", \"Yes\", 4.0, 5.0, \"Yes\", 0], [200, \"Samaira\", \"Female\", 60.0, \"Kalyan\", \"Working Professional\", \"Research Analyst\", NaN, 5.0, NaN, NaN, 2.0, \"5-6 hours\", \"Healthy\", \"MBA\", \"No\", 3.0, 2.0, \"No\", 0], [201, \"Harsh\", \"Male\", 48.0, \"Indore\", \"Working Professional\", \"Sales Executive\", NaN, 1.0, NaN, NaN, 1.0, \"7-8 hours\", \"Moderate\", \"M.Com\", \"Yes\", 12.0, 5.0, \"Yes\", 0], [202, \"Reyansh\", \"Male\", 43.0, \"Meerut\", \"Working Professional\", \"Customer Support\", NaN, 5.0, NaN, NaN, 3.0, \"5-6 hours\", \"Healthy\", \"B.Com\", \"No\", 12.0, 1.0, \"Yes\", 0], [203, \"Shiv\", \"Male\", 49.0, \"Bangalore\", \"Working Professional\", \"Chemist\", NaN, 2.0, NaN, NaN, 2.0, \"Less than 5 hours\", \"Moderate\", \"M.Pharm\", \"Yes\", 6.0, 1.0, \"No\", 0], [204, \"Nikita\", \"Female\", 45.0, \"Vadodara\", \"Working Professional\", \"Teacher\", NaN, 4.0, NaN, NaN, 2.0, \"More than 8 hours\", \"Healthy\", \"B.Arch\", \"No\", 2.0, 4.0, \"Yes\", 0], [140496, \"Jhanvi\", \"Female\", 40.0, \"Chennai\", \"Working Professional\", \"Researcher\", NaN, 4.0, NaN, NaN, 5.0, \"7-8 hours\", \"Healthy\", \"MCA\", \"No\", 4.0, 3.0, \"Yes\", 0], [140497, \"Ritik\", \"Male\", 43.0, \"Nagpur\", \"Working Professional\", \"Business Analyst\", NaN, 2.0, NaN, NaN, 3.0, \"5-6 hours\", \"Unhealthy\", \"B.Com\", \"Yes\", 4.0, 5.0, \"No\", 0], [140498, \"Raghavendra\", \"Male\", 54.0, \"Vadodara\", \"Working Professional\", \"HR Manager\", NaN, 2.0, NaN, NaN, 2.0, \"5-6 hours\", \"Moderate\", \"M.Tech\", \"Yes\", 4.0, 1.0, \"No\", 0], [140499, \"Yashvi\", \"Female\", 57.0, \"Thane\", \"Working Professional\", \"Teacher\", NaN, 1.0, NaN, NaN, 1.0, \"7-8 hours\", \"Unhealthy\", \"B.Pharm\", \"Yes\", 11.0, 1.0, \"Yes\", 0], [140500, \"Kartikeya\", \"Male\", 42.0, \"Kolkata\", \"Working Professional\", \"Manager\", NaN, 3.0, NaN, NaN, 5.0, \"Less than 5 hours\", \"Unhealthy\", \"BHM\", \"Yes\", 1.0, 3.0, \"Yes\", 0], [140501, \"Mira\", \"Female\", 33.0, \"Vasai-Virar\", \"Working Professional\", \"Content Writer\", NaN, 4.0, NaN, NaN, 4.0, \"Less than 5 hours\", \"Unhealthy\", \"M.Ed\", \"Yes\", 11.0, 5.0, \"No\", 0], [140502, \"Kartik\", \"Male\", 48.0, \"Pune\", \"Working Professional\", \"Investment Banker\", NaN, 1.0, NaN, NaN, 1.0, \"5-6 hours\", \"Healthy\", \"MBA\", \"No\", 10.0, 2.0, \"Yes\", 0], [140503, \"Aarush\", \"Male\", 22.0, \"Chennai\", \"Student\", \"NaN\", 2.0, NaN, 5.77, 1.0, NaN, \"5-6 hours\", \"Unhealthy\", \"M.Tech\", \"No\", 10.0, 1.0, \"No\", 0], [140504, \"Aarush\", \"Male\", 18.0, \"Ahmedabad\", \"Student\", \"NaN\", 3.0, NaN, 7.88, 4.0, NaN, \"7-8 hours\", \"Healthy\", \"Class 12\", \"Yes\", 10.0, 3.0, \"No\", 1], [140505, \"Ila\", \"Female\", 42.0, \"Kalyan\", \"Working Professional\", \"HR Manager\", NaN, 4.0, NaN, NaN, 2.0, \"More than 8 hours\", \"Healthy\", \"MSc\", \"No\", 8.0, 2.0, \"No\", 0], [140506, \"Darsh\", \"Male\", 58.0, \"Vasai-Virar\", \"Working Professional\", \"Researcher\", NaN, 4.0, NaN, NaN, 3.0, \"5-6 hours\", \"Moderate\", \"ME\", \"No\", 8.0, 4.0, \"Yes\", 0], [140507, \"Gauri\", \"Female\", 33.0, \"Chennai\", \"Student\", \"NaN\", 5.0, NaN, 5.86, 3.0, NaN, \"Less than 5 hours\", \"Unhealthy\", \"BCA\", \"Yes\", 12.0, 5.0, \"Yes\", 1], [140508, \"Tara\", \"Female\", 48.0, \"Mumbai\", \"Working Professional\", \"Manager\", NaN, 4.0, NaN, NaN, 1.0, \"5-6 hours\", \"Unhealthy\", \"MHM\", \"No\", 6.0, 4.0, \"Yes\", 0], [140509, \"Prachi\", \"Female\", 38.0, \"Kolkata\", \"Working Professional\", \"Pharmacist\", NaN, 3.0, NaN, NaN, 2.0, \"More than 8 hours\", \"Moderate\", \"MBBS\", \"Yes\", 7.0, 4.0, \"Yes\", 0], [140510, \"Riya\", \"Female\", 51.0, \"Mumbai\", \"Working Professional\", \"Entrepreneur\", NaN, 4.0, NaN, NaN, 3.0, \"Less than 5 hours\", \"Unhealthy\", \"B.Tech\", \"Yes\", 2.0, 5.0, \"No\", 0], [140511, \"Pallavi\", \"Female\", 38.0, \"Vadodara\", \"Working Professional\", \"Chef\", NaN, 3.0, NaN, NaN, 1.0, \"Less than 5 hours\", \"Healthy\", \"BHM\", \"Yes\", 1.0, 1.0, \"Yes\", 0], [140512, \"Arnav\", \"Male\", 30.0, \"Hyderabad\", \"Student\", \"NaN\", 5.0, NaN, 9.71, 2.0, NaN, \"7-8 hours\", \"Unhealthy\", \"M.Ed\", \"Yes\", 9.0, 5.0, \"No\", 1], [140513, \"Yamini\", \"Female\", 25.0, \"Visakhapatnam\", \"Student\", \"NaN\", 2.0, NaN, 8.7, 5.0, NaN, \"5-6 hours\", \"Healthy\", \"B.Ed\", \"Yes\", 1.0, 4.0, \"Yes\", 0], [140514, \"Aarti\", \"Female\", 24.0, \"Vasai-Virar\", \"Working Professional\", \"NaN\", NaN, 3.0, NaN, NaN, 3.0, \"More than 8 hours\", \"Healthy\", \"Class 12\", \"No\", 4.0, 4.0, \"No\", 0], [140515, \"Arav\", \"Male\", 59.0, \"Vasai-Virar\", \"Working Professional\", \"Architect\", NaN, 2.0, NaN, NaN, 5.0, \"More than 8 hours\", \"Unhealthy\", \"B.Arch\", \"Yes\", 8.0, 2.0, \"No\", 0], [140516, \"Prisha\", \"Female\", 55.0, \"Mumbai\", \"Working Professional\", \"Investment Banker\", NaN, 3.0, NaN, NaN, 4.0, \"Less than 5 hours\", \"Moderate\", \"MBA\", \"No\", 4.0, 2.0, \"Yes\", 0], [140517, \"Reyansh\", \"Male\", 26.0, \"Srinagar\", \"Student\", \"NaN\", 1.0, NaN, 7.46, 3.0, NaN, \"5-6 hours\", \"Unhealthy\", \"MCA\", \"No\", 12.0, 2.0, \"No\", 0], [140518, \"Abhishek\", \"Male\", 34.0, \"Jaipur\", \"Student\", \"NaN\", 4.0, NaN, 5.12, 5.0, NaN, \"7-8 hours\", \"Healthy\", \"MD\", \"Yes\", 4.0, 4.0, \"Yes\", 0], [140519, \"Deepak\", \"Male\", 46.0, \"Hyderabad\", \"Working Professional\", \"Sales Executive\", NaN, 5.0, NaN, NaN, 3.0, \"Less than 5 hours\", \"Healthy\", \"BBA\", \"No\", 7.0, 3.0, \"No\", 0], [140520, \"Arav\", \"Male\", 31.0, \"Patna\", \"Working Professional\", \"Judge\", NaN, 4.0, NaN, NaN, 3.0, \"5-6 hours\", \"Unhealthy\", \"LLB\", \"Yes\", 7.0, 5.0, \"Yes\", 1], [140521, \"Aishwarya\", \"Female\", 45.0, \"Ludhiana\", \"Working Professional\", \"Digital Marketer\", NaN, 1.0, NaN, NaN, 3.0, \"7-8 hours\", \"Unhealthy\", \"B.Com\", \"No\", 1.0, 3.0, \"No\", 0], [140522, \"Kriti\", \"Female\", 22.0, \"Vasai-Virar\", \"Student\", \"Architect\", 3.0, NaN, 9.13, 4.0, NaN, \"7-8 hours\", \"Unhealthy\", \"MCA\", \"Yes\", 4.0, 1.0, \"Yes\", 1], [140523, \"Rupal\", \"Female\", 37.0, \"Srinagar\", \"Working Professional\", \"Lawyer\", NaN, 4.0, NaN, NaN, 2.0, \"7-8 hours\", \"Moderate\", \"LLB\", \"Yes\", 7.0, 2.0, \"Yes\", 0], [140524, \"Rupal\", \"Female\", 26.0, \"Vadodara\", \"Working Professional\", \"Customer Support\", NaN, 1.0, NaN, NaN, 4.0, \"More than 8 hours\", \"Unhealthy\", \"BA\", \"Yes\", 3.0, 2.0, \"No\", 0], [140525, \"Riya\", \"Female\", 42.0, \"Chennai\", \"Working Professional\", \"Consultant\", NaN, 1.0, NaN, NaN, 2.0, \"More than 8 hours\", \"Healthy\", \"MSc\", \"No\", 6.0, 5.0, \"No\", 0], [140526, \"Janvi\", \"Female\", 26.0, \"Surat\", \"Working Professional\", \"Teacher\", NaN, 3.0, NaN, NaN, 5.0, \"Less than 5 hours\", \"Moderate\", \"B.Arch\", \"Yes\", 10.0, 4.0, \"No\", 0], [140527, \"Shivansh\", \"Male\", 49.0, \"Mumbai\", \"Working Professional\", \"Plumber\", NaN, 2.0, NaN, NaN, 1.0, \"Less than 5 hours\", \"Moderate\", \"BE\", \"No\", 0.0, 5.0, \"No\", 0], [140528, \"Tina\", \"Female\", 46.0, \"Vadodara\", \"Working Professional\", \"Electrician\", NaN, 3.0, NaN, NaN, 5.0, \"5-6 hours\", \"Healthy\", \"ME\", \"Yes\", 5.0, 1.0, \"No\", 0], [140529, \"Yashvi\", \"Female\", 44.0, \"Vadodara\", \"Working Professional\", \"Teacher\", NaN, 3.0, NaN, NaN, 2.0, \"More than 8 hours\", \"Unhealthy\", \"M.Com\", \"Yes\", 8.0, 4.0, \"No\", 0], [140530, \"Vibha\", \"Female\", 19.0, \"Ghaziabad\", \"Student\", \"NaN\", 3.0, NaN, 9.93, 3.0, NaN, \"7-8 hours\", \"Unhealthy\", \"Class 12\", \"Yes\", 4.0, 5.0, \"No\", 1], [140531, \"Saanvi\", \"Female\", 23.0, \"Faridabad\", \"Student\", \"NaN\", 3.0, NaN, 5.38, 4.0, NaN, \"7-8 hours\", \"Unhealthy\", \"BSc\", \"Yes\", 12.0, 4.0, \"No\", 1], [140532, \"Shlok\", \"Male\", 42.0, \"Agra\", \"Working Professional\", \"Digital Marketer\", NaN, 2.0, NaN, NaN, 3.0, \"7-8 hours\", \"Moderate\", \"BA\", \"No\", 9.0, 4.0, \"No\", 0], [140533, \"Rupak\", \"Male\", 53.0, \"Vadodara\", \"Working Professional\", \"Architect\", NaN, 4.0, NaN, NaN, 4.0, \"5-6 hours\", \"Moderate\", \"B.Arch\", \"Yes\", 7.0, 5.0, \"Yes\", 0], [140534, \"Jhanvi\", \"Female\", 39.0, \"Ludhiana\", \"Working Professional\", \"Travel Consultant\", NaN, 2.0, NaN, NaN, 4.0, \"More than 8 hours\", \"Healthy\", \"MHM\", \"No\", 5.0, 3.0, \"No\", 0], [140535, \"Tushar\", \"Male\", 51.0, \"Vasai-Virar\", \"Working Professional\", \"Teacher\", NaN, 3.0, NaN, NaN, 2.0, \"5-6 hours\", \"Unhealthy\", \"M.Ed\", \"No\", 5.0, 5.0, \"Yes\", 0], [140536, \"Arya\", \"Male\", 33.0, \"Nagpur\", \"Student\", \"NaN\", 1.0, NaN, 7.39, 4.0, NaN, \"7-8 hours\", \"Unhealthy\", \"BHM\", \"No\", 12.0, 2.0, \"No\", 0], [140537, \"Krishna\", \"Male\", 43.0, \"Bangalore\", \"Working Professional\", \"Teacher\", NaN, 2.0, NaN, NaN, 1.0, \"Less than 5 hours\", \"Moderate\", \"B.Arch\", \"Yes\", 4.0, 4.0, \"No\", 0], [140538, \"Pooja\", \"Female\", 42.0, \"Kalyan\", \"Working Professional\", \"Sales Executive\", NaN, 4.0, NaN, NaN, 5.0, \"More than 8 hours\", \"Unhealthy\", \"M.Com\", \"No\", 7.0, 5.0, \"Yes\", 0], [140539, \"Zoya\", \"Female\", 49.0, \"Kolkata\", \"Working Professional\", \"Civil Engineer\", NaN, 1.0, NaN, NaN, 3.0, \"Less than 5 hours\", \"Unhealthy\", \"BSc\", \"No\", 2.0, 2.0, \"Yes\", 0], [140540, \"Ila\", \"Female\", 50.0, \"Srinagar\", \"Working Professional\", \"Chef\", NaN, 5.0, NaN, NaN, 2.0, \"More than 8 hours\", \"Moderate\", \"BHM\", \"No\", 12.0, 5.0, \"No\", 0], [140541, \"Ansh\", \"Male\", 54.0, \"Vasai-Virar\", \"Working Professional\", \"Teacher\", NaN, 1.0, NaN, NaN, 4.0, \"7-8 hours\", \"Healthy\", \"B.Arch\", \"Yes\", 0.0, 5.0, \"Yes\", 0], [140542, \"Vidya\", \"Female\", 37.0, \"Ghaziabad\", \"Working Professional\", \"Architect\", NaN, 4.0, NaN, NaN, 3.0, \"7-8 hours\", \"Unhealthy\", \"B.Arch\", \"Yes\", 10.0, 5.0, \"No\", 0], [140543, \"Rhea\", \"Female\", 51.0, \"Indore\", \"Working Professional\", \"Electrician\", NaN, 5.0, NaN, NaN, 1.0, \"Less than 5 hours\", \"Healthy\", \"ME\", \"No\", 4.0, 4.0, \"No\", 0], [140544, \"Anand\", \"Male\", 51.0, \"Ghaziabad\", \"Working Professional\", \"Customer Support\", NaN, 4.0, NaN, NaN, 3.0, \"More than 8 hours\", \"Unhealthy\", \"B.Com\", \"Yes\", 9.0, 5.0, \"No\", 0], [140545, \"Rajat\", \"Male\", 19.0, \"Pune\", \"Student\", \"NaN\", 2.0, NaN, 6.33, 5.0, NaN, \"More than 8 hours\", \"Healthy\", \"Class 12\", \"Yes\", 12.0, 2.0, \"Yes\", 0], [140546, \"Aaradhya\", \"Female\", 28.0, \"Vasai-Virar\", \"Working Professional\", \"Customer Support\", NaN, 5.0, NaN, NaN, 2.0, \"7-8 hours\", \"Unhealthy\", \"BA\", \"Yes\", 0.0, 3.0, \"No\", 0], [140547, \"Anand\", \"Male\", 27.0, \"Indore\", \"Student\", \"NaN\", 4.0, NaN, 9.88, 3.0, NaN, \"7-8 hours\", \"Unhealthy\", \"B.Com\", \"Yes\", 12.0, 2.0, \"Yes\", 1], [140548, \"Ritvik\", \"Male\", 21.0, \"Kalyan\", \"Student\", \"NaN\", 1.0, NaN, 9.21, 3.0, NaN, \"More than 8 hours\", \"Unhealthy\", \"M.Com\", \"No\", 10.0, 3.0, \"No\", 0], [140549, \"Pari\", \"Female\", 47.0, \"Ahmedabad\", \"Working Professional\", \"Research Analyst\", NaN, 2.0, NaN, NaN, 4.0, \"7-8 hours\", \"Moderate\", \"MBA\", \"Yes\", 10.0, 4.0, \"No\", 0], [140550, \"Anika\", \"Female\", 59.0, \"Nagpur\", \"Working Professional\", \"Doctor\", NaN, 2.0, NaN, NaN, 5.0, \"5-6 hours\", \"Healthy\", \"B.Pharm\", \"Yes\", 9.0, 1.0, \"No\", 0], [140551, \"Zara\", \"Female\", 28.0, \"Srinagar\", \"Working Professional\", \"Business Analyst\", NaN, 1.0, NaN, NaN, 4.0, \"Less than 5 hours\", \"Moderate\", \"M.Com\", \"No\", 12.0, 4.0, \"Yes\", 0], [140552, \"Mira\", \"Female\", 56.0, \"Visakhapatnam\", \"Working Professional\", \"Architect\", NaN, 2.0, NaN, NaN, 4.0, \"5-6 hours\", \"Unhealthy\", \"MCA\", \"Yes\", 11.0, 4.0, \"Yes\", 0], [140553, \"Janvi\", \"Female\", 52.0, \"Varanasi\", \"Working Professional\", \"Educational Consultant\", NaN, 1.0, NaN, NaN, 3.0, \"5-6 hours\", \"Healthy\", \"M.Ed\", \"No\", 9.0, 3.0, \"Yes\", 0], [140554, \"Rajveer\", \"Male\", 42.0, \"Bangalore\", \"Working Professional\", \"Teacher\", NaN, 3.0, NaN, NaN, 5.0, \"Less than 5 hours\", \"Moderate\", \"MBBS\", \"Yes\", 5.0, 5.0, \"No\", 0], [140555, \"Aarav\", \"Male\", 41.0, \"Bangalore\", \"Working Professional\", \"Manager\", NaN, 1.0, NaN, NaN, 3.0, \"Less than 5 hours\", \"Unhealthy\", \"MHM\", \"No\", 4.0, 2.0, \"No\", 0], [140556, \"Aditi\", \"Female\", 50.0, \"Chennai\", \"Working Professional\", \"Civil Engineer\", NaN, 2.0, NaN, NaN, 5.0, \"Less than 5 hours\", \"Moderate\", \"MCA\", \"No\", 6.0, 5.0, \"No\", 0], [140557, \"Vivan\", \"Male\", 45.0, \"Nagpur\", \"Working Professional\", \"Judge\", NaN, 2.0, NaN, NaN, 5.0, \"5-6 hours\", \"Healthy\", \"LLM\", \"Yes\", 3.0, 3.0, \"Yes\", 0], [140558, \"Ivaan\", \"Male\", 24.0, \"Nagpur\", \"Student\", \"NaN\", 3.0, NaN, 8.54, 3.0, NaN, \"5-6 hours\", \"Moderate\", \"Class 12\", \"Yes\", 11.0, 2.0, \"No\", 0], [140559, \"Vibha\", \"Female\", 18.0, \"Agra\", \"Working Professional\", \"NaN\", NaN, 2.0, NaN, NaN, 5.0, \"7-8 hours\", \"Unhealthy\", \"Class 12\", \"Yes\", 7.0, 2.0, \"No\", 0], [140560, \"Jiya\", \"Female\", 38.0, \"Nagpur\", \"Working Professional\", \"Financial Analyst\", NaN, 1.0, NaN, NaN, 5.0, \"7-8 hours\", \"Unhealthy\", \"M.Com\", \"Yes\", 0.0, 3.0, \"No\", 0], [140561, \"Aarti\", \"Female\", 18.0, \"Pune\", \"Working Professional\", \"NaN\", NaN, 3.0, NaN, NaN, 5.0, \"More than 8 hours\", \"Healthy\", \"Class 12\", \"Yes\", 8.0, 4.0, \"Yes\", 0], [140562, \"Ivaan\", \"Male\", 56.0, \"Kolkata\", \"Working Professional\", \"Teacher\", NaN, 3.0, NaN, NaN, 1.0, \"5-6 hours\", \"Moderate\", \"B.Pharm\", \"No\", 5.0, 2.0, \"No\", 0], [140563, \"Shivam\", \"Male\", 44.0, \"Bhopal\", \"Working Professional\", \"Chemist\", NaN, 4.0, NaN, NaN, 2.0, \"More than 8 hours\", \"Moderate\", \"MD\", \"No\", 0.0, 1.0, \"No\", 0], [140564, \"Ishan\", \"Male\", 27.0, \"Surat\", \"Student\", \"NaN\", 4.0, NaN, 5.16, 4.0, NaN, \"Less than 5 hours\", \"Moderate\", \"M.Pharm\", \"Yes\", 6.0, 2.0, \"Yes\", 1], [140565, \"Armaan\", \"Male\", 48.0, \"Bangalore\", \"Working Professional\", \"Pilot\", NaN, 5.0, NaN, NaN, 2.0, \"Less than 5 hours\", \"Healthy\", \"BCA\", \"Yes\", 2.0, 5.0, \"No\", 0], [140566, \"Aaradhya\", \"Female\", 46.0, \"Bhopal\", \"Working Professional\", \"Pharmacist\", NaN, 2.0, NaN, NaN, 2.0, \"Less than 5 hours\", \"Healthy\", \"MBBS\", \"Yes\", 12.0, 1.0, \"Yes\", 0], [140567, \"Gaurav\", \"Male\", 47.0, \"Patna\", \"Working Professional\", \"HR Manager\", NaN, 5.0, NaN, NaN, 2.0, \"Less than 5 hours\", \"Unhealthy\", \"BBA\", \"No\", 2.0, 4.0, \"No\", 0], [140568, \"Anvi\", \"Female\", 28.0, \"Vasai-Virar\", \"Student\", \"NaN\", 2.0, NaN, 5.86, 3.0, NaN, \"Less than 5 hours\", \"Unhealthy\", \"M.Ed\", \"No\", 1.0, 2.0, \"No\", 0], [140569, \"Ira\", \"Female\", 39.0, \"Kolkata\", \"Working Professional\", \"Consultant\", NaN, 2.0, NaN, NaN, 2.0, \"More than 8 hours\", \"Healthy\", \"B.Com\", \"Yes\", 0.0, 2.0, \"No\", 0], [140570, \"Vivan\", \"Male\", 58.0, \"Meerut\", \"Working Professional\", \"Financial Analyst\", NaN, 2.0, NaN, NaN, 4.0, \"More than 8 hours\", \"Moderate\", \"M.Com\", \"No\", 8.0, 1.0, \"No\", 0], [140571, \"Mayank\", \"Male\", 35.0, \"Srinagar\", \"Working Professional\", \"Teacher\", NaN, 4.0, NaN, NaN, 3.0, \"5-6 hours\", \"Healthy\", \"LLB\", \"Yes\", 12.0, 5.0, \"Yes\", 0], [140572, \"Rohan\", \"Male\", 53.0, \"Kolkata\", \"Working Professional\", \"Consultant\", NaN, 1.0, NaN, NaN, 2.0, \"Less than 5 hours\", \"Healthy\", \"B.Com\", \"Yes\", 6.0, 3.0, \"No\", 0], [140573, \"Parth\", \"Male\", 37.0, \"Patna\", \"Working Professional\", \"Chef\", NaN, 2.0, NaN, NaN, 5.0, \"5-6 hours\", \"Unhealthy\", \"MHM\", \"No\", 10.0, 3.0, \"Yes\", 0], [140574, \"Rahil\", \"Male\", 43.0, \"Meerut\", \"Working Professional\", \"Civil Engineer\", NaN, 2.0, NaN, NaN, 3.0, \"Less than 5 hours\", \"Unhealthy\", \"BSc\", \"Yes\", 5.0, 3.0, \"No\", 0], [140575, \"Shaurya\", \"Male\", 51.0, \"Jaipur\", \"Working Professional\", \"Mechanical Engineer\", NaN, 3.0, NaN, NaN, 2.0, \"5-6 hours\", \"Moderate\", \"MSc\", \"Yes\", 1.0, 2.0, \"Yes\", 0], [140576, \"Rupak\", \"Male\", 49.0, \"Bangalore\", \"Working Professional\", \"Architect\", NaN, 1.0, NaN, NaN, 3.0, \"More than 8 hours\", \"Healthy\", \"B.Arch\", \"No\", 9.0, 3.0, \"No\", 0], [140577, \"Aariv\", \"Male\", 28.0, \"Agra\", \"Working Professional\", \"NaN\", NaN, 5.0, NaN, NaN, 4.0, \"Less than 5 hours\", \"Unhealthy\", \"Class 12\", \"Yes\", 11.0, 3.0, \"Yes\", 1], [140578, \"Rohan\", \"Male\", 48.0, \"Mumbai\", \"Working Professional\", \"Content Writer\", NaN, 5.0, NaN, NaN, 1.0, \"Less than 5 hours\", \"Moderate\", \"B.Ed\", \"No\", 11.0, 3.0, \"Yes\", 0], [140579, \"Rohan\", \"Male\", 56.0, \"Rajkot\", \"Working Professional\", \"Consultant\", NaN, 3.0, NaN, NaN, 4.0, \"5-6 hours\", \"Healthy\", \"B.Com\", \"No\", 7.0, 2.0, \"Yes\", 0], [140580, \"Reyansh\", \"Male\", 25.0, \"Kanpur\", \"Working Professional\", \"Travel Consultant\", NaN, 3.0, NaN, NaN, 5.0, \"Less than 5 hours\", \"Unhealthy\", \"MHM\", \"Yes\", 9.0, 2.0, \"Yes\", 0], [140581, \"Reyansh\", \"Male\", 54.0, \"Faridabad\", \"Working Professional\", \"Researcher\", NaN, 4.0, NaN, NaN, 2.0, \"5-6 hours\", \"Healthy\", \"BSc\", \"Yes\", 8.0, 4.0, \"No\", 0], [140582, \"Ritik\", \"Male\", 52.0, \"Chennai\", \"Working Professional\", \"Teacher\", NaN, 2.0, NaN, NaN, 1.0, \"More than 8 hours\", \"Moderate\", \"M.Pharm\", \"No\", 2.0, 2.0, \"No\", 0], [140583, \"Shiv\", \"Male\", 53.0, \"Delhi\", \"Working Professional\", \"Judge\", NaN, 4.0, NaN, NaN, 2.0, \"Less than 5 hours\", \"Moderate\", \"LLB\", \"No\", 3.0, 1.0, \"No\", 0], [140584, \"Vibha\", \"Female\", 22.0, \"Kanpur\", \"Student\", \"NaN\", 4.0, NaN, 6.61, 2.0, NaN, \"More than 8 hours\", \"Unhealthy\", \"M.Com\", \"Yes\", 6.0, 5.0, \"No\", 1], [140585, \"Vedant\", \"Male\", 51.0, \"Kalyan\", \"Working Professional\", \"Teacher\", NaN, 2.0, NaN, NaN, 2.0, \"More than 8 hours\", \"Moderate\", \"M.Pharm\", \"No\", 6.0, 5.0, \"No\", 0], [140586, \"Om\", \"Male\", 57.0, \"Visakhapatnam\", \"Working Professional\", \"Chef\", NaN, 5.0, NaN, NaN, 4.0, \"7-8 hours\", \"Healthy\", \"MHM\", \"No\", 1.0, 2.0, \"No\", 0], [140587, \"Nikita\", \"Female\", 59.0, \"Chennai\", \"Working Professional\", \"Consultant\", NaN, 4.0, NaN, NaN, 3.0, \"5-6 hours\", \"Unhealthy\", \"BSc\", \"Yes\", 3.0, 4.0, \"Yes\", 0], [140588, \"Pratyush\", \"Male\", 41.0, \"Pune\", \"Working Professional\", \"Judge\", NaN, 2.0, NaN, NaN, 3.0, \"7-8 hours\", \"Unhealthy\", \"LLB\", \"No\", 10.0, 2.0, \"Yes\", 0], [140589, \"Sanya\", \"Female\", 48.0, \"Mumbai\", \"Working Professional\", \"Business Analyst\", NaN, 3.0, NaN, NaN, 2.0, \"7-8 hours\", \"Healthy\", \"M.Com\", \"Yes\", 0.0, 2.0, \"Yes\", 0], [140590, \"Vidhi\", \"Female\", 28.0, \"Srinagar\", \"Working Professional\", \"Digital Marketer\", NaN, 2.0, NaN, NaN, 4.0, \"7-8 hours\", \"Moderate\", \"B.Com\", \"Yes\", 2.0, 2.0, \"Yes\", 0], [140591, \"Karishma\", \"Female\", 59.0, \"Bangalore\", \"Working Professional\", \"Teacher\", NaN, 2.0, NaN, NaN, 3.0, \"Less than 5 hours\", \"Moderate\", \"B.Ed\", \"No\", 2.0, 3.0, \"Yes\", 0], [140592, \"Ishan\", \"Male\", 39.0, \"Nagpur\", \"Working Professional\", \"Teacher\", NaN, 2.0, NaN, NaN, 1.0, \"Less than 5 hours\", \"Moderate\", \"LLM\", \"No\", 7.0, 1.0, \"No\", 0], [140593, \"Tushar\", \"Male\", 18.0, \"Surat\", \"Working Professional\", \"NaN\", NaN, 1.0, NaN, NaN, 1.0, \"5-6 hours\", \"Healthy\", \"Class 12\", \"Yes\", 8.0, 4.0, \"No\", 1], [140594, \"Vihaan\", \"Male\", 18.0, \"Meerut\", \"Student\", \"NaN\", 5.0, NaN, 6.25, 3.0, NaN, \"7-8 hours\", \"Unhealthy\", \"Class 12\", \"No\", 11.0, 2.0, \"Yes\", 1], [140595, \"Ansh\", \"Male\", 43.0, \"Lucknow\", \"Working Professional\", \"Teacher\", NaN, 4.0, NaN, NaN, 2.0, \"7-8 hours\", \"Moderate\", \"B.Ed\", \"No\", 1.0, 3.0, \"Yes\", 0], [140596, \"Rishi\", \"Male\", 37.0, \"Jaipur\", \"Working Professional\", \"Data Scientist\", NaN, 2.0, NaN, NaN, 4.0, \"Less than 5 hours\", \"Healthy\", \"BCA\", \"No\", 3.0, 5.0, \"Yes\", 0], [140597, \"Vani\", \"Female\", 19.0, \"Mumbai\", \"Student\", \"NaN\", 2.0, NaN, 9.21, 5.0, NaN, \"5-6 hours\", \"Unhealthy\", \"Class 12\", \"Yes\", 3.0, 2.0, \"No\", 0], [140598, \"Aishwarya\", \"Female\", 51.0, \"Bangalore\", \"Working Professional\", \"Doctor\", NaN, 3.0, NaN, NaN, 2.0, \"7-8 hours\", \"Moderate\", \"M.Pharm\", \"Yes\", 11.0, 1.0, \"No\", 0], [140599, \"Shaurya\", \"Male\", 50.0, \"Kanpur\", \"Working Professional\", \"Researcher\", NaN, 5.0, NaN, NaN, 4.0, \"7-8 hours\", \"Unhealthy\", \"B.Tech\", \"No\", 6.0, 1.0, \"No\", 0], [140600, \"Darsh\", \"Male\", 47.0, \"Rajkot\", \"Working Professional\", \"Judge\", NaN, 1.0, NaN, NaN, 5.0, \"7-8 hours\", \"Moderate\", \"LLB\", \"No\", 0.0, 3.0, \"Yes\", 0], [140601, \"Tanisha\", \"Female\", 22.0, \"Jaipur\", \"Student\", \"NaN\", 5.0, NaN, 9.25, 4.0, NaN, \"More than 8 hours\", \"Unhealthy\", \"BBA\", \"Yes\", 8.0, 3.0, \"No\", 1], [140602, \"Zara\", \"Female\", 57.0, \"Nashik\", \"Working Professional\", \"Teacher\", NaN, 5.0, NaN, NaN, 3.0, \"5-6 hours\", \"Unhealthy\", \"MBA\", \"No\", 2.0, 1.0, \"Yes\", 0], [140603, \"Harsha\", \"Male\", 59.0, \"Vasai-Virar\", \"Working Professional\", \"Teacher\", NaN, 2.0, NaN, NaN, 4.0, \"Less than 5 hours\", \"Moderate\", \"B.Arch\", \"Yes\", 9.0, 4.0, \"Yes\", 0], [140604, \"Janvi\", \"Female\", 49.0, \"Visakhapatnam\", \"Working Professional\", \"Teacher\", NaN, 4.0, NaN, NaN, 4.0, \"7-8 hours\", \"Healthy\", \"B.Arch\", \"No\", 4.0, 1.0, \"No\", 0], [140605, \"Vihaan\", \"Male\", 24.0, \"Pune\", \"Working Professional\", \"Teacher\", NaN, 2.0, NaN, NaN, 5.0, \"7-8 hours\", \"Moderate\", \"MD\", \"Yes\", 9.0, 5.0, \"Yes\", 1], [140606, \"Mahi\", \"Female\", 50.0, \"Delhi\", \"Working Professional\", \"NaN\", NaN, 1.0, NaN, NaN, 5.0, \"Less than 5 hours\", \"Healthy\", \"Class 12\", \"No\", 1.0, 1.0, \"No\", 0], [140607, \"Krishna\", \"Male\", 59.0, \"Varanasi\", \"Working Professional\", \"Travel Consultant\", NaN, 5.0, NaN, NaN, 5.0, \"More than 8 hours\", \"Unhealthy\", \"BHM\", \"No\", 3.0, 4.0, \"No\", 0], [140608, \"Zoya\", \"Female\", 44.0, \"Visakhapatnam\", \"Working Professional\", \"Architect\", NaN, 1.0, NaN, NaN, 3.0, \"Less than 5 hours\", \"Moderate\", \"B.Arch\", \"No\", 9.0, 5.0, \"Yes\", 0], [140609, \"Pranav\", \"Male\", 25.0, \"Mumbai\", \"Working Professional\", \"NaN\", NaN, 5.0, NaN, NaN, 5.0, \"Less than 5 hours\", \"Unhealthy\", \"Class 12\", \"Yes\", 6.0, 4.0, \"Yes\", 1], [140610, \"Trisha\", \"Female\", 44.0, \"Pune\", \"Working Professional\", \"Business Analyst\", NaN, 5.0, NaN, NaN, 2.0, \"More than 8 hours\", \"Moderate\", \"BCA\", \"No\", 10.0, 3.0, \"Yes\", 0], [140611, \"Rohan\", \"Male\", 50.0, \"Kalyan\", \"Working Professional\", \"Entrepreneur\", NaN, 3.0, NaN, NaN, 1.0, \"Less than 5 hours\", \"Moderate\", \"BBA\", \"No\", 2.0, 2.0, \"Yes\", 0], [140612, \"Raghavendra\", \"Male\", 38.0, \"Pune\", \"Working Professional\", \"Teacher\", NaN, 5.0, NaN, NaN, 4.0, \"7-8 hours\", \"Healthy\", \"LLM\", \"Yes\", 5.0, 3.0, \"Yes\", 0], [140613, \"Vivan\", \"Male\", 45.0, \"Patna\", \"Working Professional\", \"Teacher\", NaN, 5.0, NaN, NaN, 1.0, \"7-8 hours\", \"Healthy\", \"B.Ed\", \"Yes\", 2.0, 3.0, \"Yes\", 0], [140614, \"Jiya\", \"Female\", 56.0, \"Bhopal\", \"Working Professional\", \"Doctor\", NaN, 1.0, NaN, NaN, 4.0, \"Less than 5 hours\", \"Healthy\", \"MD\", \"No\", 6.0, 1.0, \"No\", 0], [140615, \"Rahil\", \"Male\", 38.0, \"Jaipur\", \"Working Professional\", \"Teacher\", NaN, 4.0, NaN, NaN, 3.0, \"More than 8 hours\", \"Unhealthy\", \"MBA\", \"No\", 7.0, 1.0, \"No\", 0], [140616, \"Shiv\", \"Male\", 39.0, \"Ludhiana\", \"Working Professional\", \"Teacher\", NaN, 4.0, NaN, NaN, 5.0, \"More than 8 hours\", \"Unhealthy\", \"LLM\", \"Yes\", 9.0, 2.0, \"Yes\", 0], [140617, \"Ritika\", \"Female\", 42.0, \"Bangalore\", \"Working Professional\", \"Consultant\", NaN, 1.0, NaN, NaN, 2.0, \"5-6 hours\", \"Moderate\", \"PhD\", \"No\", 9.0, 2.0, \"No\", 0], [140618, \"Tanisha\", \"Female\", 29.0, \"Kolkata\", \"Working Professional\", \"Consultant\", NaN, 1.0, NaN, NaN, 2.0, \"7-8 hours\", \"Unhealthy\", \"ME\", \"No\", 9.0, 5.0, \"Yes\", 0], [140619, \"Raunak\", \"Male\", 52.0, \"Lucknow\", \"Working Professional\", \"Teacher\", NaN, 2.0, NaN, NaN, 5.0, \"5-6 hours\", \"Moderate\", \"M.Ed\", \"Yes\", 11.0, 1.0, \"No\", 0], [140620, \"Rupal\", \"Female\", 42.0, \"Kalyan\", \"Working Professional\", \"Architect\", NaN, 4.0, NaN, NaN, 2.0, \"5-6 hours\", \"Moderate\", \"B.Arch\", \"Yes\", 12.0, 1.0, \"Yes\", 0], [140621, \"Prachi\", \"Female\", 23.0, \"Ahmedabad\", \"Working Professional\", \"Sales Executive\", NaN, 4.0, NaN, NaN, 1.0, \"Less than 5 hours\", \"Unhealthy\", \"B.Com\", \"Yes\", 4.0, 1.0, \"Yes\", 1], [140622, \"Rupal\", \"Female\", 23.0, \"Kanpur\", \"Working Professional\", \"Teacher\", NaN, 4.0, NaN, NaN, 5.0, \"7-8 hours\", \"Unhealthy\", \"BCA\", \"No\", 0.0, 1.0, \"No\", 0], [140623, \"Vani\", \"Female\", 56.0, \"Ghaziabad\", \"Working Professional\", \"Marketing Manager\", NaN, 2.0, NaN, NaN, 3.0, \"7-8 hours\", \"Moderate\", \"B.Com\", \"No\", 4.0, 1.0, \"Yes\", 0], [140624, \"Vikram\", \"Male\", 32.0, \"Rajkot\", \"Student\", \"NaN\", 4.0, NaN, 9.19, 1.0, NaN, \"5-6 hours\", \"Healthy\", \"MSc\", \"No\", 7.0, 4.0, \"Yes\", 1], [140625, \"Rohan\", \"Male\", 43.0, \"Pune\", \"Working Professional\", \"Teacher\", NaN, 1.0, NaN, NaN, 3.0, \"More than 8 hours\", \"Healthy\", \"LLM\", \"Yes\", 6.0, 5.0, \"Yes\", 0], [140626, \"Prachi\", \"Female\", 43.0, \"Ahmedabad\", \"Working Professional\", \"Teacher\", NaN, 3.0, NaN, NaN, 4.0, \"5-6 hours\", \"Moderate\", \"B.Arch\", \"Yes\", 1.0, 3.0, \"Yes\", 0], [140627, \"Rudransh\", \"Male\", 54.0, \"Kolkata\", \"Working Professional\", \"Plumber\", NaN, 5.0, NaN, NaN, 3.0, \"5-6 hours\", \"Unhealthy\", \"MCA\", \"No\", 7.0, 3.0, \"No\", 0], [140628, \"Leela\", \"Female\", 53.0, \"Patna\", \"Working Professional\", \"Business Analyst\", NaN, 3.0, NaN, NaN, 3.0, \"Less than 5 hours\", \"Unhealthy\", \"B.Com\", \"Yes\", 9.0, 1.0, \"No\", 0], [140629, \"Kartik\", \"Male\", 50.0, \"Meerut\", \"Working Professional\", \"Consultant\", NaN, 4.0, NaN, NaN, 3.0, \"7-8 hours\", \"Healthy\", \"MCA\", \"Yes\", 8.0, 4.0, \"No\", 1], [140630, \"Ishan\", \"Male\", 19.0, \"Kolkata\", \"Student\", \"NaN\", 4.0, NaN, 7.13, 1.0, NaN, \"More than 8 hours\", \"Moderate\", \"Class 12\", \"No\", 10.0, 2.0, \"No\", 1], [140631, \"Kunal\", \"Male\", 33.0, \"Ahmedabad\", \"Student\", \"NaN\", 1.0, NaN, 5.7, 2.0, NaN, \"Less than 5 hours\", \"Healthy\", \"MCA\", \"Yes\", 2.0, 2.0, \"No\", 0], [140632, \"Darsh\", \"Male\", 52.0, \"Bhopal\", \"Working Professional\", \"Teacher\", NaN, 2.0, NaN, NaN, 5.0, \"More than 8 hours\", \"Unhealthy\", \"BA\", \"No\", 12.0, 3.0, \"No\", 0], [140633, \"Isha\", \"Female\", 38.0, \"Chennai\", \"Working Professional\", \"Teacher\", NaN, 2.0, NaN, NaN, 5.0, \"More than 8 hours\", \"Healthy\", \"M.Ed\", \"No\", 5.0, 5.0, \"No\", 0], [140634, \"Satyam\", \"Male\", 41.0, \"Pune\", \"Working Professional\", \"Pharmacist\", NaN, 3.0, NaN, NaN, 5.0, \"More than 8 hours\", \"Healthy\", \"MBBS\", \"No\", 10.0, 1.0, \"No\", 0], [140635, \"Shrey\", \"Male\", 28.0, \"Ludhiana\", \"Student\", \"NaN\", 3.0, NaN, 5.03, 3.0, NaN, \"Less than 5 hours\", \"Moderate\", \"Class 12\", \"Yes\", 6.0, 2.0, \"Yes\", 0], [140636, \"Anushka\", \"Female\", 50.0, \"Vasai-Virar\", \"Working Professional\", \"HR Manager\", NaN, 2.0, NaN, NaN, 2.0, \"7-8 hours\", \"Unhealthy\", \"BBA\", \"No\", 9.0, 3.0, \"Yes\", 0], [140637, \"Veda\", \"Female\", 44.0, \"Ludhiana\", \"Working Professional\", \"Marketing Manager\", NaN, 4.0, NaN, NaN, 4.0, \"7-8 hours\", \"Unhealthy\", \"MA\", \"Yes\", 0.0, 3.0, \"No\", 0], [140638, \"Anvi\", \"Female\", 45.0, \"Visakhapatnam\", \"Working Professional\", \"Content Writer\", NaN, 2.0, NaN, NaN, 4.0, \"7-8 hours\", \"Healthy\", \"M.Ed\", \"Yes\", 12.0, 5.0, \"No\", 0], [140639, \"Ritik\", \"Male\", 38.0, \"Agra\", \"Working Professional\", \"Content Writer\", NaN, 5.0, NaN, NaN, 5.0, \"Less than 5 hours\", \"Healthy\", \"B.Ed\", \"Yes\", 10.0, 4.0, \"Yes\", 0], [140640, \"Ishaani\", \"Female\", 44.0, \"Thane\", \"Working Professional\", \"Teacher\", NaN, 2.0, NaN, NaN, 5.0, \"More than 8 hours\", \"Unhealthy\", \"MD\", \"No\", 10.0, 5.0, \"Yes\", 0], [140641, \"Shrey\", \"Male\", 18.0, \"Thane\", \"Working Professional\", \"NaN\", NaN, 5.0, NaN, NaN, 5.0, \"5-6 hours\", \"Moderate\", \"Class 12\", \"Yes\", 8.0, 1.0, \"Yes\", 0], [140642, \"Vihaan\", \"Male\", 53.0, \"Kalyan\", \"Working Professional\", \"Pharmacist\", NaN, 3.0, NaN, NaN, 3.0, \"5-6 hours\", \"Unhealthy\", \"B.Pharm\", \"No\", 4.0, 5.0, \"Yes\", 0], [140643, \"Rudransh\", \"Male\", 56.0, \"Agra\", \"Working Professional\", \"Content Writer\", NaN, 5.0, NaN, NaN, 2.0, \"More than 8 hours\", \"Unhealthy\", \"ME\", \"No\", 6.0, 2.0, \"Yes\", 0], [140644, \"Rohan\", \"Male\", 47.0, \"Mumbai\", \"Working Professional\", \"Teacher\", NaN, 2.0, NaN, NaN, 2.0, \"More than 8 hours\", \"Unhealthy\", \"B.Ed\", \"No\", 7.0, 1.0, \"Yes\", 0], [140645, \"Eshita\", \"Female\", 28.0, \"Thane\", \"Student\", \"NaN\", 4.0, NaN, 7.77, 3.0, NaN, \"Less than 5 hours\", \"Unhealthy\", \"MSc\", \"No\", 2.0, 5.0, \"No\", 1], [140646, \"Harini\", \"Female\", 53.0, \"Rajkot\", \"Working Professional\", \"Investment Banker\", NaN, 3.0, NaN, NaN, 1.0, \"5-6 hours\", \"Healthy\", \"BBA\", \"No\", 10.0, 1.0, \"No\", 0], [140647, \"Yuvraj\", \"Male\", 35.0, \"Rajkot\", \"Working Professional\", \"NaN\", NaN, 5.0, NaN, NaN, 1.0, \"7-8 hours\", \"Unhealthy\", \"Class 12\", \"Yes\", 11.0, 2.0, \"Yes\", 1], [140648, \"Rishi\", \"Male\", 53.0, \"Nagpur\", \"Working Professional\", \"Teacher\", NaN, 1.0, NaN, NaN, 1.0, \"Less than 5 hours\", \"Moderate\", \"LLM\", \"No\", 10.0, 5.0, \"No\", 0], [140649, \"Aadhya\", \"Female\", 47.0, \"Kolkata\", \"Working Professional\", \"Manager\", NaN, 5.0, NaN, NaN, 3.0, \"7-8 hours\", \"Healthy\", \"BHM\", \"No\", 0.0, 5.0, \"Yes\", 0], [140650, \"Aarav\", \"Male\", 56.0, \"Bhopal\", \"Working Professional\", \"Pharmacist\", NaN, 5.0, NaN, NaN, 5.0, \"More than 8 hours\", \"Unhealthy\", \"MBBS\", \"Yes\", 12.0, 4.0, \"No\", 0], [140651, \"Chhavi\", \"Female\", 59.0, \"Ludhiana\", \"Working Professional\", \"Sales Executive\", NaN, 2.0, NaN, NaN, 2.0, \"5-6 hours\", \"Healthy\", \"M.Com\", \"No\", 5.0, 5.0, \"Yes\", 0], [140652, \"Rupak\", \"Male\", 43.0, \"Thane\", \"Working Professional\", \"Teacher\", NaN, 1.0, NaN, NaN, 5.0, \"More than 8 hours\", \"Moderate\", \"B.Arch\", \"No\", 4.0, 3.0, \"No\", 0], [140653, \"Varun\", \"Male\", 21.0, \"Faridabad\", \"Working Professional\", \"Manager\", NaN, 5.0, NaN, NaN, 3.0, \"Less than 5 hours\", \"Unhealthy\", \"BHM\", \"No\", 0.0, 3.0, \"Yes\", 1], [140654, \"Armaan\", \"Male\", 31.0, \"Agra\", \"Working Professional\", \"Pharmacist\", NaN, 5.0, NaN, NaN, 3.0, \"Less than 5 hours\", \"Healthy\", \"MBBS\", \"No\", 11.0, 2.0, \"Yes\", 0], [140655, \"Kiran\", \"Male\", 44.0, \"Meerut\", \"Working Professional\", \"NaN\", NaN, 1.0, NaN, NaN, 3.0, \"More than 8 hours\", \"Healthy\", \"PhD\", \"No\", 0.0, 4.0, \"No\", 0], [140656, \"Nalini\", \"Female\", 59.0, \"Meerut\", \"Working Professional\", \"Teacher\", NaN, 3.0, NaN, NaN, 4.0, \"Less than 5 hours\", \"Unhealthy\", \"M.Ed\", \"No\", 11.0, 4.0, \"No\", 0], [140657, \"Aariv\", \"Male\", 48.0, \"Kolkata\", \"Working Professional\", \"Customer Support\", NaN, 5.0, NaN, NaN, 4.0, \"Less than 5 hours\", \"Unhealthy\", \"BA\", \"Yes\", 0.0, 4.0, \"No\", 0], [140658, \"Esha\", \"Female\", 50.0, \"Varanasi\", \"Working Professional\", \"Content Writer\", NaN, 1.0, NaN, NaN, 5.0, \"Less than 5 hours\", \"Unhealthy\", \"BA\", \"No\", 1.0, 4.0, \"No\", 0], [140659, \"Aanchal\", \"Female\", 44.0, \"Kalyan\", \"Working Professional\", \"Teacher\", NaN, 4.0, NaN, NaN, 1.0, \"More than 8 hours\", \"Healthy\", \"M.Com\", \"Yes\", 12.0, 2.0, \"No\", 0], [140660, \"Rohan\", \"Male\", 47.0, \"Kalyan\", \"Working Professional\", \"Data Scientist\", NaN, 2.0, NaN, NaN, 5.0, \"7-8 hours\", \"Moderate\", \"MCA\", \"No\", 6.0, 1.0, \"No\", 0], [140661, \"Raghavendra\", \"Male\", 49.0, \"Vasai-Virar\", \"Working Professional\", \"Teacher\", NaN, 5.0, NaN, NaN, 2.0, \"5-6 hours\", \"Moderate\", \"BBA\", \"No\", 5.0, 3.0, \"Yes\", 0], [140662, \"Gaurav\", \"Male\", 42.0, \"Visakhapatnam\", \"Working Professional\", \"HR Manager\", NaN, 4.0, NaN, NaN, 2.0, \"7-8 hours\", \"Healthy\", \"MBA\", \"Yes\", 4.0, 5.0, \"No\", 0], [140663, \"Harsha\", \"Male\", 55.0, \"Indore\", \"Working Professional\", \"Teacher\", NaN, 3.0, NaN, NaN, 3.0, \"5-6 hours\", \"Unhealthy\", \"B.Ed\", \"Yes\", 1.0, 5.0, \"No\", 0], [140664, \"Divya\", \"Female\", 40.0, \"Visakhapatnam\", \"Working Professional\", \"Teacher\", NaN, 5.0, NaN, NaN, 2.0, \"5-6 hours\", \"Moderate\", \"B.Ed\", \"No\", 9.0, 5.0, \"No\", 0], [140665, \"Asha\", \"Female\", 50.0, \"Thane\", \"Working Professional\", \"Travel Consultant\", NaN, 2.0, NaN, NaN, 3.0, \"5-6 hours\", \"Healthy\", \"MHM\", \"No\", 9.0, 3.0, \"Yes\", 0], [140666, \"Abhishek\", \"Male\", 18.0, \"Vadodara\", \"Working Professional\", \"NaN\", NaN, 5.0, NaN, NaN, 4.0, \"Less than 5 hours\", \"Moderate\", \"Class 12\", \"No\", 2.0, 5.0, \"No\", 1], [140667, \"Kashish\", \"Female\", 19.0, \"Rajkot\", \"Working Professional\", \"NaN\", NaN, 4.0, NaN, NaN, 2.0, \"More than 8 hours\", \"Unhealthy\", \"MHM\", \"Yes\", 12.0, 4.0, \"Yes\", 1], [140668, \"Kashish\", \"Female\", 57.0, \"Faridabad\", \"Working Professional\", \"Teacher\", NaN, 5.0, NaN, NaN, 2.0, \"7-8 hours\", \"Moderate\", \"B.Com\", \"Yes\", 5.0, 2.0, \"Yes\", 0], [140669, \"Aditi\", \"Female\", 20.0, \"Indore\", \"Student\", \"NaN\", 3.0, NaN, 7.72, 5.0, NaN, \"Less than 5 hours\", \"Moderate\", \"Class 12\", \"Yes\", 8.0, 1.0, \"No\", 0], [140670, \"Ritvik\", \"Male\", 49.0, \"Kanpur\", \"Working Professional\", \"Content Writer\", NaN, 5.0, NaN, NaN, 4.0, \"5-6 hours\", \"Healthy\", \"B.Tech\", \"Yes\", 3.0, 4.0, \"No\", 0], [140671, \"Shiv\", \"Male\", 35.0, \"Kanpur\", \"Working Professional\", \"Teacher\", NaN, 4.0, NaN, NaN, 1.0, \"Less than 5 hours\", \"Unhealthy\", \"B.Arch\", \"Yes\", 11.0, 1.0, \"No\", 0], [140672, \"Nandini\", \"Female\", 24.0, \"Hyderabad\", \"Student\", \"NaN\", 3.0, NaN, 6.02, 2.0, NaN, \"7-8 hours\", \"Moderate\", \"B.Arch\", \"No\", 8.0, 2.0, \"No\", 0], [140673, \"Kiara\", \"Female\", 59.0, \"Kanpur\", \"Working Professional\", \"Teacher\", NaN, 5.0, NaN, NaN, 2.0, \"5-6 hours\", \"Moderate\", \"B.Ed\", \"Yes\", 8.0, 5.0, \"No\", 0], [140674, \"Harsh\", \"Male\", 56.0, \"Vadodara\", \"Working Professional\", \"Lawyer\", NaN, 5.0, NaN, NaN, 2.0, \"More than 8 hours\", \"Moderate\", \"LLB\", \"No\", 11.0, 4.0, \"Yes\", 0], [140675, \"Gagan\", \"Male\", 50.0, \"Kanpur\", \"Working Professional\", \"Digital Marketer\", NaN, 4.0, NaN, NaN, 1.0, \"5-6 hours\", \"Unhealthy\", \"BA\", \"No\", 3.0, 4.0, \"No\", 0], [140676, \"Rupak\", \"Male\", 40.0, \"Chennai\", \"Working Professional\", \"Teacher\", NaN, 2.0, NaN, NaN, 3.0, \"5-6 hours\", \"Moderate\", \"LLB\", \"No\", 0.0, 4.0, \"Yes\", 0], [140677, \"Shanaya\", \"Female\", 57.0, \"Pune\", \"Working Professional\", \"Pharmacist\", NaN, 5.0, NaN, NaN, 4.0, \"More than 8 hours\", \"Moderate\", \"B.Pharm\", \"Yes\", 1.0, 2.0, \"No\", 0], [140678, \"Rajveer\", \"Male\", 53.0, \"Varanasi\", \"Working Professional\", \"Business Analyst\", NaN, 4.0, NaN, NaN, 3.0, \"7-8 hours\", \"Healthy\", \"MCA\", \"No\", 12.0, 1.0, \"Yes\", 0], [140679, \"Manan\", \"Male\", 56.0, \"Meerut\", \"Working Professional\", \"Teacher\", NaN, 2.0, NaN, NaN, 5.0, \"7-8 hours\", \"Healthy\", \"ME\", \"Yes\", 0.0, 5.0, \"No\", 0], [140680, \"Shivam\", \"Male\", 46.0, \"Jaipur\", \"Working Professional\", \"Content Writer\", NaN, 2.0, NaN, NaN, 1.0, \"More than 8 hours\", \"Healthy\", \"BA\", \"No\", 1.0, 4.0, \"No\", 0], [140681, \"Pratham\", \"Male\", 23.0, \"Srinagar\", \"Student\", \"NaN\", 3.0, NaN, 6.0, 2.0, NaN, \"More than 8 hours\", \"Healthy\", \"MBBS\", \"Yes\", 12.0, 4.0, \"No\", 0], [140682, \"Raghavendra\", \"Male\", 42.0, \"Delhi\", \"Working Professional\", \"Software Engineer\", NaN, 3.0, NaN, NaN, 3.0, \"5-6 hours\", \"Unhealthy\", \"M.Tech\", \"No\", 7.0, 5.0, \"Yes\", 0], [140683, \"Zoya\", \"Female\", 58.0, \"Surat\", \"Working Professional\", \"Teacher\", NaN, 4.0, NaN, NaN, 4.0, \"Less than 5 hours\", \"Healthy\", \"B.Arch\", \"No\", 9.0, 2.0, \"Yes\", 0], [140684, \"Gaurav\", \"Male\", 31.0, \"Lucknow\", \"Student\", \"NaN\", 2.0, NaN, 7.27, 5.0, NaN, \"7-8 hours\", \"Moderate\", \"B.Com\", \"Yes\", 6.0, 1.0, \"Yes\", 0], [140685, \"Aaradhya\", \"Female\", 27.0, \"Surat\", \"Student\", \"NaN\", 5.0, NaN, 5.75, 5.0, NaN, \"5-6 hours\", \"Unhealthy\", \"Class 12\", \"Yes\", 7.0, 1.0, \"Yes\", 0], [140686, \"Rohan\", \"Male\", 27.0, \"Ludhiana\", \"Student\", \"NaN\", 2.0, NaN, 9.4, 3.0, NaN, \"Less than 5 hours\", \"Healthy\", \"MSc\", \"No\", 0.0, 3.0, \"Yes\", 0], [140687, \"Reyansh\", \"Male\", 38.0, \"Mumbai\", \"Working Professional\", \"Civil Engineer\", NaN, 2.0, NaN, NaN, 4.0, \"5-6 hours\", \"Moderate\", \"MCA\", \"Yes\", 8.0, 1.0, \"No\", 0], [140688, \"Rajat\", \"Male\", 48.0, \"Hyderabad\", \"Working Professional\", \"Chemist\", NaN, 5.0, NaN, NaN, 1.0, \"Less than 5 hours\", \"Moderate\", \"B.Pharm\", \"No\", 8.0, 4.0, \"Yes\", 0], [140689, \"Ayaan\", \"Male\", 31.0, \"Faridabad\", \"Student\", \"NaN\", 3.0, NaN, 6.61, 4.0, NaN, \"5-6 hours\", \"Unhealthy\", \"MD\", \"No\", 12.0, 2.0, \"No\", 0], [140690, \"Rashi\", \"Female\", 18.0, \"Ludhiana\", \"Student\", \"NaN\", 5.0, NaN, 6.88, 2.0, NaN, \"Less than 5 hours\", \"Healthy\", \"Class 12\", \"Yes\", 10.0, 5.0, \"No\", 1], [140691, \"Zara\", \"Female\", 57.0, \"Meerut\", \"Working Professional\", \"Teacher\", NaN, 1.0, NaN, NaN, 1.0, \"Less than 5 hours\", \"Moderate\", \"B.Arch\", \"Yes\", 4.0, 5.0, \"Yes\", 0], [140692, \"Raunak\", \"Male\", 49.0, \"Bhopal\", \"Working Professional\", \"Financial Analyst\", NaN, 4.0, NaN, NaN, 1.0, \"7-8 hours\", \"Moderate\", \"MBA\", \"No\", 9.0, 1.0, \"No\", 0], [140693, \"Shaurya\", \"Male\", 55.0, \"Srinagar\", \"Working Professional\", \"Data Scientist\", NaN, 1.0, NaN, NaN, 3.0, \"Less than 5 hours\", \"Unhealthy\", \"M.Tech\", \"No\", 9.0, 2.0, \"No\", 0], [140694, \"Ishaani\", \"Female\", 45.0, \"Ahmedabad\", \"Working Professional\", \"Teacher\", NaN, 2.0, NaN, NaN, 5.0, \"Less than 5 hours\", \"Moderate\", \"B.Ed\", \"Yes\", 1.0, 5.0, \"No\", 0], [140695, \"Vidya\", \"Female\", 18.0, \"Ahmedabad\", \"Working Professional\", \"NaN\", NaN, 5.0, NaN, NaN, 4.0, \"5-6 hours\", \"Unhealthy\", \"Class 12\", \"No\", 2.0, 4.0, \"Yes\", 1], [140696, \"Lata\", \"Female\", 41.0, \"Hyderabad\", \"Working Professional\", \"Content Writer\", NaN, 5.0, NaN, NaN, 4.0, \"7-8 hours\", \"Moderate\", \"B.Tech\", \"Yes\", 6.0, 5.0, \"Yes\", 0], [140697, \"Aanchal\", \"Female\", 24.0, \"Kolkata\", \"Working Professional\", \"Marketing Manager\", NaN, 3.0, NaN, NaN, 1.0, \"More than 8 hours\", \"Moderate\", \"B.Com\", \"No\", 4.0, 4.0, \"No\", 0], [140698, \"Prachi\", \"Female\", 49.0, \"Srinagar\", \"Working Professional\", \"Plumber\", NaN, 5.0, NaN, NaN, 2.0, \"5-6 hours\", \"Moderate\", \"ME\", \"Yes\", 10.0, 1.0, \"No\", 0], [140699, \"Sai\", \"Male\", 27.0, \"Patna\", \"Student\", \"NaN\", 4.0, NaN, 9.24, 1.0, NaN, \"Less than 5 hours\", \"Healthy\", \"BCA\", \"Yes\", 2.0, 3.0, \"Yes\", 1]];\n",
       "\n",
       "        // Define the dt_args\n",
       "        let dt_args = {\"layout\": {\"topStart\": \"pageLength\", \"topEnd\": \"search\", \"bottomStart\": \"info\", \"bottomEnd\": \"paging\"}, \"order\": [], \"warn_on_selected_rows_not_rendered\": true, \"filtered_row_count\": 140291, \"fnInfoCallback\": function (oSettings, iStart, iEnd, iMax, iTotal, sPre) { return sPre + ' (<a href=\"https://mwouts.github.io/itables/downsampling.html\">downsampled</a> from 140,700x20 to 409x20 as maxBytes=64KB)'; }};\n",
       "        dt_args[\"data\"] = data;\n",
       "\n",
       "        \n",
       "        new DataTable(table, dt_args);\n",
       "    });\n",
       "</script>\n"
      ],
      "text/plain": [
       "<IPython.core.display.HTML object>"
      ]
     },
     "metadata": {},
     "output_type": "display_data"
    }
   ],
   "source": [
    "show(DF)"
   ]
  },
  {
   "cell_type": "code",
   "execution_count": 585,
   "id": "081050a2-9f9a-414c-8ba9-ad37af61bcca",
   "metadata": {},
   "outputs": [
    {
     "data": {
      "application/vnd.plotly.v1+json": {
       "config": {
        "plotlyServerURL": "https://plot.ly"
       },
       "data": [
        {
         "hovertemplate": "Age=%{x}<br>Depression=%{y}<extra></extra>",
         "legendgroup": "",
         "line": {
          "color": "blue",
          "dash": "solid"
         },
         "marker": {
          "symbol": "circle"
         },
         "mode": "lines",
         "name": "Students",
         "orientation": "v",
         "showlegend": false,
         "type": "scatter",
         "x": [
          18,
          19,
          20,
          21,
          22,
          23,
          24,
          25,
          26,
          27,
          28,
          29,
          30,
          31,
          32,
          33,
          34,
          35
         ],
         "xaxis": "x",
         "y": [
          0.7662255828607435,
          0.7051282051282052,
          0.7058560572194904,
          0.6772885283893395,
          0.6043103448275862,
          0.6389057750759879,
          0.6682905225863596,
          0.6065022421524664,
          0.574025974025974,
          0.606703146374829,
          0.6132208157524613,
          0.5656410256410257,
          0.41397379912663756,
          0.48072880168185006,
          0.5190174326465927,
          0.3898573692551506,
          0.273841961852861,
          0.2
         ],
         "yaxis": "y"
        },
        {
         "hovertemplate": "Age=%{x}<br>Depression=%{y}<extra></extra>",
         "legendgroup": "",
         "line": {
          "color": "red",
          "dash": "solid"
         },
         "marker": {
          "symbol": "circle"
         },
         "mode": "lines",
         "name": "Workers",
         "orientation": "v",
         "showlegend": false,
         "type": "scatter",
         "x": [
          18,
          19,
          20,
          21,
          22,
          23,
          24,
          25,
          26,
          27,
          28,
          29,
          30,
          31,
          32,
          33,
          34,
          35
         ],
         "xaxis": "x",
         "y": [
          0.670522707797772,
          0.5260707635009311,
          0.47339593114241,
          0.6614173228346457,
          0.4271523178807947,
          0.45179282868525894,
          0.3318140382862352,
          0.43330427201394944,
          0.22140608604407136,
          0.40834057341442226,
          0.379253112033195,
          0.2877070619006103,
          0.1877444589308996,
          0.27714033539276256,
          0.20076481835564053,
          0.1595829991980754,
          0.0945945945945946,
          0.04284702549575071
         ],
         "yaxis": "y"
        }
       ],
       "layout": {
        "height": 500,
        "legend": {
         "title": {
          "text": "Group"
         },
         "tracegroupgap": 0,
         "x": 0.8,
         "y": 1
        },
        "margin": {
         "t": 60
        },
        "template": {
         "data": {
          "bar": [
           {
            "error_x": {
             "color": "rgb(51,51,51)"
            },
            "error_y": {
             "color": "rgb(51,51,51)"
            },
            "marker": {
             "line": {
              "color": "rgb(237,237,237)",
              "width": 0.5
             },
             "pattern": {
              "fillmode": "overlay",
              "size": 10,
              "solidity": 0.2
             }
            },
            "type": "bar"
           }
          ],
          "barpolar": [
           {
            "marker": {
             "line": {
              "color": "rgb(237,237,237)",
              "width": 0.5
             },
             "pattern": {
              "fillmode": "overlay",
              "size": 10,
              "solidity": 0.2
             }
            },
            "type": "barpolar"
           }
          ],
          "carpet": [
           {
            "aaxis": {
             "endlinecolor": "rgb(51,51,51)",
             "gridcolor": "white",
             "linecolor": "white",
             "minorgridcolor": "white",
             "startlinecolor": "rgb(51,51,51)"
            },
            "baxis": {
             "endlinecolor": "rgb(51,51,51)",
             "gridcolor": "white",
             "linecolor": "white",
             "minorgridcolor": "white",
             "startlinecolor": "rgb(51,51,51)"
            },
            "type": "carpet"
           }
          ],
          "choropleth": [
           {
            "colorbar": {
             "outlinewidth": 0,
             "tickcolor": "rgb(237,237,237)",
             "ticklen": 6,
             "ticks": "inside"
            },
            "type": "choropleth"
           }
          ],
          "contour": [
           {
            "colorbar": {
             "outlinewidth": 0,
             "tickcolor": "rgb(237,237,237)",
             "ticklen": 6,
             "ticks": "inside"
            },
            "colorscale": [
             [
              0,
              "rgb(20,44,66)"
             ],
             [
              1,
              "rgb(90,179,244)"
             ]
            ],
            "type": "contour"
           }
          ],
          "contourcarpet": [
           {
            "colorbar": {
             "outlinewidth": 0,
             "tickcolor": "rgb(237,237,237)",
             "ticklen": 6,
             "ticks": "inside"
            },
            "type": "contourcarpet"
           }
          ],
          "heatmap": [
           {
            "colorbar": {
             "outlinewidth": 0,
             "tickcolor": "rgb(237,237,237)",
             "ticklen": 6,
             "ticks": "inside"
            },
            "colorscale": [
             [
              0,
              "rgb(20,44,66)"
             ],
             [
              1,
              "rgb(90,179,244)"
             ]
            ],
            "type": "heatmap"
           }
          ],
          "heatmapgl": [
           {
            "colorbar": {
             "outlinewidth": 0,
             "tickcolor": "rgb(237,237,237)",
             "ticklen": 6,
             "ticks": "inside"
            },
            "colorscale": [
             [
              0,
              "rgb(20,44,66)"
             ],
             [
              1,
              "rgb(90,179,244)"
             ]
            ],
            "type": "heatmapgl"
           }
          ],
          "histogram": [
           {
            "marker": {
             "pattern": {
              "fillmode": "overlay",
              "size": 10,
              "solidity": 0.2
             }
            },
            "type": "histogram"
           }
          ],
          "histogram2d": [
           {
            "colorbar": {
             "outlinewidth": 0,
             "tickcolor": "rgb(237,237,237)",
             "ticklen": 6,
             "ticks": "inside"
            },
            "colorscale": [
             [
              0,
              "rgb(20,44,66)"
             ],
             [
              1,
              "rgb(90,179,244)"
             ]
            ],
            "type": "histogram2d"
           }
          ],
          "histogram2dcontour": [
           {
            "colorbar": {
             "outlinewidth": 0,
             "tickcolor": "rgb(237,237,237)",
             "ticklen": 6,
             "ticks": "inside"
            },
            "colorscale": [
             [
              0,
              "rgb(20,44,66)"
             ],
             [
              1,
              "rgb(90,179,244)"
             ]
            ],
            "type": "histogram2dcontour"
           }
          ],
          "mesh3d": [
           {
            "colorbar": {
             "outlinewidth": 0,
             "tickcolor": "rgb(237,237,237)",
             "ticklen": 6,
             "ticks": "inside"
            },
            "type": "mesh3d"
           }
          ],
          "parcoords": [
           {
            "line": {
             "colorbar": {
              "outlinewidth": 0,
              "tickcolor": "rgb(237,237,237)",
              "ticklen": 6,
              "ticks": "inside"
             }
            },
            "type": "parcoords"
           }
          ],
          "pie": [
           {
            "automargin": true,
            "type": "pie"
           }
          ],
          "scatter": [
           {
            "fillpattern": {
             "fillmode": "overlay",
             "size": 10,
             "solidity": 0.2
            },
            "type": "scatter"
           }
          ],
          "scatter3d": [
           {
            "line": {
             "colorbar": {
              "outlinewidth": 0,
              "tickcolor": "rgb(237,237,237)",
              "ticklen": 6,
              "ticks": "inside"
             }
            },
            "marker": {
             "colorbar": {
              "outlinewidth": 0,
              "tickcolor": "rgb(237,237,237)",
              "ticklen": 6,
              "ticks": "inside"
             }
            },
            "type": "scatter3d"
           }
          ],
          "scattercarpet": [
           {
            "marker": {
             "colorbar": {
              "outlinewidth": 0,
              "tickcolor": "rgb(237,237,237)",
              "ticklen": 6,
              "ticks": "inside"
             }
            },
            "type": "scattercarpet"
           }
          ],
          "scattergeo": [
           {
            "marker": {
             "colorbar": {
              "outlinewidth": 0,
              "tickcolor": "rgb(237,237,237)",
              "ticklen": 6,
              "ticks": "inside"
             }
            },
            "type": "scattergeo"
           }
          ],
          "scattergl": [
           {
            "marker": {
             "colorbar": {
              "outlinewidth": 0,
              "tickcolor": "rgb(237,237,237)",
              "ticklen": 6,
              "ticks": "inside"
             }
            },
            "type": "scattergl"
           }
          ],
          "scattermapbox": [
           {
            "marker": {
             "colorbar": {
              "outlinewidth": 0,
              "tickcolor": "rgb(237,237,237)",
              "ticklen": 6,
              "ticks": "inside"
             }
            },
            "type": "scattermapbox"
           }
          ],
          "scatterpolar": [
           {
            "marker": {
             "colorbar": {
              "outlinewidth": 0,
              "tickcolor": "rgb(237,237,237)",
              "ticklen": 6,
              "ticks": "inside"
             }
            },
            "type": "scatterpolar"
           }
          ],
          "scatterpolargl": [
           {
            "marker": {
             "colorbar": {
              "outlinewidth": 0,
              "tickcolor": "rgb(237,237,237)",
              "ticklen": 6,
              "ticks": "inside"
             }
            },
            "type": "scatterpolargl"
           }
          ],
          "scatterternary": [
           {
            "marker": {
             "colorbar": {
              "outlinewidth": 0,
              "tickcolor": "rgb(237,237,237)",
              "ticklen": 6,
              "ticks": "inside"
             }
            },
            "type": "scatterternary"
           }
          ],
          "surface": [
           {
            "colorbar": {
             "outlinewidth": 0,
             "tickcolor": "rgb(237,237,237)",
             "ticklen": 6,
             "ticks": "inside"
            },
            "colorscale": [
             [
              0,
              "rgb(20,44,66)"
             ],
             [
              1,
              "rgb(90,179,244)"
             ]
            ],
            "type": "surface"
           }
          ],
          "table": [
           {
            "cells": {
             "fill": {
              "color": "rgb(237,237,237)"
             },
             "line": {
              "color": "white"
             }
            },
            "header": {
             "fill": {
              "color": "rgb(217,217,217)"
             },
             "line": {
              "color": "white"
             }
            },
            "type": "table"
           }
          ]
         },
         "layout": {
          "annotationdefaults": {
           "arrowhead": 0,
           "arrowwidth": 1
          },
          "autotypenumbers": "strict",
          "coloraxis": {
           "colorbar": {
            "outlinewidth": 0,
            "tickcolor": "rgb(237,237,237)",
            "ticklen": 6,
            "ticks": "inside"
           }
          },
          "colorscale": {
           "sequential": [
            [
             0,
             "rgb(20,44,66)"
            ],
            [
             1,
             "rgb(90,179,244)"
            ]
           ],
           "sequentialminus": [
            [
             0,
             "rgb(20,44,66)"
            ],
            [
             1,
             "rgb(90,179,244)"
            ]
           ]
          },
          "colorway": [
           "#F8766D",
           "#A3A500",
           "#00BF7D",
           "#00B0F6",
           "#E76BF3"
          ],
          "font": {
           "color": "rgb(51,51,51)"
          },
          "geo": {
           "bgcolor": "white",
           "lakecolor": "white",
           "landcolor": "rgb(237,237,237)",
           "showlakes": true,
           "showland": true,
           "subunitcolor": "white"
          },
          "hoverlabel": {
           "align": "left"
          },
          "hovermode": "closest",
          "paper_bgcolor": "white",
          "plot_bgcolor": "rgb(237,237,237)",
          "polar": {
           "angularaxis": {
            "gridcolor": "white",
            "linecolor": "white",
            "showgrid": true,
            "tickcolor": "rgb(51,51,51)",
            "ticks": "outside"
           },
           "bgcolor": "rgb(237,237,237)",
           "radialaxis": {
            "gridcolor": "white",
            "linecolor": "white",
            "showgrid": true,
            "tickcolor": "rgb(51,51,51)",
            "ticks": "outside"
           }
          },
          "scene": {
           "xaxis": {
            "backgroundcolor": "rgb(237,237,237)",
            "gridcolor": "white",
            "gridwidth": 2,
            "linecolor": "white",
            "showbackground": true,
            "showgrid": true,
            "tickcolor": "rgb(51,51,51)",
            "ticks": "outside",
            "zerolinecolor": "white"
           },
           "yaxis": {
            "backgroundcolor": "rgb(237,237,237)",
            "gridcolor": "white",
            "gridwidth": 2,
            "linecolor": "white",
            "showbackground": true,
            "showgrid": true,
            "tickcolor": "rgb(51,51,51)",
            "ticks": "outside",
            "zerolinecolor": "white"
           },
           "zaxis": {
            "backgroundcolor": "rgb(237,237,237)",
            "gridcolor": "white",
            "gridwidth": 2,
            "linecolor": "white",
            "showbackground": true,
            "showgrid": true,
            "tickcolor": "rgb(51,51,51)",
            "ticks": "outside",
            "zerolinecolor": "white"
           }
          },
          "shapedefaults": {
           "fillcolor": "black",
           "line": {
            "width": 0
           },
           "opacity": 0.3
          },
          "ternary": {
           "aaxis": {
            "gridcolor": "white",
            "linecolor": "white",
            "showgrid": true,
            "tickcolor": "rgb(51,51,51)",
            "ticks": "outside"
           },
           "baxis": {
            "gridcolor": "white",
            "linecolor": "white",
            "showgrid": true,
            "tickcolor": "rgb(51,51,51)",
            "ticks": "outside"
           },
           "bgcolor": "rgb(237,237,237)",
           "caxis": {
            "gridcolor": "white",
            "linecolor": "white",
            "showgrid": true,
            "tickcolor": "rgb(51,51,51)",
            "ticks": "outside"
           }
          },
          "xaxis": {
           "automargin": true,
           "gridcolor": "white",
           "linecolor": "white",
           "showgrid": true,
           "tickcolor": "rgb(51,51,51)",
           "ticks": "outside",
           "title": {
            "standoff": 15
           },
           "zerolinecolor": "white"
          },
          "yaxis": {
           "automargin": true,
           "gridcolor": "white",
           "linecolor": "white",
           "showgrid": true,
           "tickcolor": "rgb(51,51,51)",
           "ticks": "outside",
           "title": {
            "standoff": 15
           },
           "zerolinecolor": "white"
          }
         }
        },
        "title": {
         "text": "How Do Depression Rates Change With Age"
        },
        "width": 800,
        "xaxis": {
         "anchor": "y",
         "autorange": true,
         "domain": [
          0,
          1
         ],
         "range": [
          18,
          35
         ],
         "title": {
          "text": "Age"
         },
         "type": "linear"
        },
        "yaxis": {
         "anchor": "x",
         "autorange": true,
         "domain": [
          0,
          1
         ],
         "range": [
          0.0026593278643622167,
          0.806413280492132
         ],
         "title": {
          "text": "Depression"
         },
         "type": "linear"
        }
       }
      },
      "image/png": "[encoded data removed]",
      "text/html": [
       "<div>                            <div id=\"365aca4e-5931-49dd-b05d-c13f82764144\" class=\"plotly-graph-div\" style=\"height:500px; width:800px;\"></div>            <script type=\"text/javascript\">                require([\"plotly\"], function(Plotly) {                    window.PLOTLYENV=window.PLOTLYENV || {};                                    if (document.getElementById(\"365aca4e-5931-49dd-b05d-c13f82764144\")) {                    Plotly.newPlot(                        \"365aca4e-5931-49dd-b05d-c13f82764144\",                        [{\"hovertemplate\":\"Age=%{x}\\u003cbr\\u003eDepression=%{y}\\u003cextra\\u003e\\u003c\\u002fextra\\u003e\",\"legendgroup\":\"\",\"line\":{\"color\":\"blue\",\"dash\":\"solid\"},\"marker\":{\"symbol\":\"circle\"},\"mode\":\"lines\",\"name\":\"Students\",\"orientation\":\"v\",\"showlegend\":false,\"x\":[18.0,19.0,20.0,21.0,22.0,23.0,24.0,25.0,26.0,27.0,28.0,29.0,30.0,31.0,32.0,33.0,34.0,35.0],\"xaxis\":\"x\",\"y\":[0.7662255828607435,0.7051282051282052,0.7058560572194904,0.6772885283893395,0.6043103448275862,0.6389057750759879,0.6682905225863596,0.6065022421524664,0.574025974025974,0.606703146374829,0.6132208157524613,0.5656410256410257,0.41397379912663756,0.48072880168185006,0.5190174326465927,0.3898573692551506,0.273841961852861,0.2],\"yaxis\":\"y\",\"type\":\"scatter\"},{\"hovertemplate\":\"Age=%{x}\\u003cbr\\u003eDepression=%{y}\\u003cextra\\u003e\\u003c\\u002fextra\\u003e\",\"legendgroup\":\"\",\"line\":{\"color\":\"red\",\"dash\":\"solid\"},\"marker\":{\"symbol\":\"circle\"},\"mode\":\"lines\",\"name\":\"Workers\",\"orientation\":\"v\",\"showlegend\":false,\"x\":[18.0,19.0,20.0,21.0,22.0,23.0,24.0,25.0,26.0,27.0,28.0,29.0,30.0,31.0,32.0,33.0,34.0,35.0],\"xaxis\":\"x\",\"y\":[0.670522707797772,0.5260707635009311,0.47339593114241,0.6614173228346457,0.4271523178807947,0.45179282868525894,0.3318140382862352,0.43330427201394944,0.22140608604407136,0.40834057341442226,0.379253112033195,0.2877070619006103,0.1877444589308996,0.27714033539276256,0.20076481835564053,0.1595829991980754,0.0945945945945946,0.04284702549575071],\"yaxis\":\"y\",\"type\":\"scatter\"}],                        {\"template\":{\"data\":{\"barpolar\":[{\"marker\":{\"line\":{\"color\":\"rgb(237,237,237)\",\"width\":0.5},\"pattern\":{\"fillmode\":\"overlay\",\"size\":10,\"solidity\":0.2}},\"type\":\"barpolar\"}],\"bar\":[{\"error_x\":{\"color\":\"rgb(51,51,51)\"},\"error_y\":{\"color\":\"rgb(51,51,51)\"},\"marker\":{\"line\":{\"color\":\"rgb(237,237,237)\",\"width\":0.5},\"pattern\":{\"fillmode\":\"overlay\",\"size\":10,\"solidity\":0.2}},\"type\":\"bar\"}],\"carpet\":[{\"aaxis\":{\"endlinecolor\":\"rgb(51,51,51)\",\"gridcolor\":\"white\",\"linecolor\":\"white\",\"minorgridcolor\":\"white\",\"startlinecolor\":\"rgb(51,51,51)\"},\"baxis\":{\"endlinecolor\":\"rgb(51,51,51)\",\"gridcolor\":\"white\",\"linecolor\":\"white\",\"minorgridcolor\":\"white\",\"startlinecolor\":\"rgb(51,51,51)\"},\"type\":\"carpet\"}],\"choropleth\":[{\"colorbar\":{\"outlinewidth\":0,\"tickcolor\":\"rgb(237,237,237)\",\"ticklen\":6,\"ticks\":\"inside\"},\"type\":\"choropleth\"}],\"contourcarpet\":[{\"colorbar\":{\"outlinewidth\":0,\"tickcolor\":\"rgb(237,237,237)\",\"ticklen\":6,\"ticks\":\"inside\"},\"type\":\"contourcarpet\"}],\"contour\":[{\"colorbar\":{\"outlinewidth\":0,\"tickcolor\":\"rgb(237,237,237)\",\"ticklen\":6,\"ticks\":\"inside\"},\"colorscale\":[[0,\"rgb(20,44,66)\"],[1,\"rgb(90,179,244)\"]],\"type\":\"contour\"}],\"heatmapgl\":[{\"colorbar\":{\"outlinewidth\":0,\"tickcolor\":\"rgb(237,237,237)\",\"ticklen\":6,\"ticks\":\"inside\"},\"colorscale\":[[0,\"rgb(20,44,66)\"],[1,\"rgb(90,179,244)\"]],\"type\":\"heatmapgl\"}],\"heatmap\":[{\"colorbar\":{\"outlinewidth\":0,\"tickcolor\":\"rgb(237,237,237)\",\"ticklen\":6,\"ticks\":\"inside\"},\"colorscale\":[[0,\"rgb(20,44,66)\"],[1,\"rgb(90,179,244)\"]],\"type\":\"heatmap\"}],\"histogram2dcontour\":[{\"colorbar\":{\"outlinewidth\":0,\"tickcolor\":\"rgb(237,237,237)\",\"ticklen\":6,\"ticks\":\"inside\"},\"colorscale\":[[0,\"rgb(20,44,66)\"],[1,\"rgb(90,179,244)\"]],\"type\":\"histogram2dcontour\"}],\"histogram2d\":[{\"colorbar\":{\"outlinewidth\":0,\"tickcolor\":\"rgb(237,237,237)\",\"ticklen\":6,\"ticks\":\"inside\"},\"colorscale\":[[0,\"rgb(20,44,66)\"],[1,\"rgb(90,179,244)\"]],\"type\":\"histogram2d\"}],\"histogram\":[{\"marker\":{\"pattern\":{\"fillmode\":\"overlay\",\"size\":10,\"solidity\":0.2}},\"type\":\"histogram\"}],\"mesh3d\":[{\"colorbar\":{\"outlinewidth\":0,\"tickcolor\":\"rgb(237,237,237)\",\"ticklen\":6,\"ticks\":\"inside\"},\"type\":\"mesh3d\"}],\"parcoords\":[{\"line\":{\"colorbar\":{\"outlinewidth\":0,\"tickcolor\":\"rgb(237,237,237)\",\"ticklen\":6,\"ticks\":\"inside\"}},\"type\":\"parcoords\"}],\"pie\":[{\"automargin\":true,\"type\":\"pie\"}],\"scatter3d\":[{\"line\":{\"colorbar\":{\"outlinewidth\":0,\"tickcolor\":\"rgb(237,237,237)\",\"ticklen\":6,\"ticks\":\"inside\"}},\"marker\":{\"colorbar\":{\"outlinewidth\":0,\"tickcolor\":\"rgb(237,237,237)\",\"ticklen\":6,\"ticks\":\"inside\"}},\"type\":\"scatter3d\"}],\"scattercarpet\":[{\"marker\":{\"colorbar\":{\"outlinewidth\":0,\"tickcolor\":\"rgb(237,237,237)\",\"ticklen\":6,\"ticks\":\"inside\"}},\"type\":\"scattercarpet\"}],\"scattergeo\":[{\"marker\":{\"colorbar\":{\"outlinewidth\":0,\"tickcolor\":\"rgb(237,237,237)\",\"ticklen\":6,\"ticks\":\"inside\"}},\"type\":\"scattergeo\"}],\"scattergl\":[{\"marker\":{\"colorbar\":{\"outlinewidth\":0,\"tickcolor\":\"rgb(237,237,237)\",\"ticklen\":6,\"ticks\":\"inside\"}},\"type\":\"scattergl\"}],\"scattermapbox\":[{\"marker\":{\"colorbar\":{\"outlinewidth\":0,\"tickcolor\":\"rgb(237,237,237)\",\"ticklen\":6,\"ticks\":\"inside\"}},\"type\":\"scattermapbox\"}],\"scatterpolargl\":[{\"marker\":{\"colorbar\":{\"outlinewidth\":0,\"tickcolor\":\"rgb(237,237,237)\",\"ticklen\":6,\"ticks\":\"inside\"}},\"type\":\"scatterpolargl\"}],\"scatterpolar\":[{\"marker\":{\"colorbar\":{\"outlinewidth\":0,\"tickcolor\":\"rgb(237,237,237)\",\"ticklen\":6,\"ticks\":\"inside\"}},\"type\":\"scatterpolar\"}],\"scatter\":[{\"fillpattern\":{\"fillmode\":\"overlay\",\"size\":10,\"solidity\":0.2},\"type\":\"scatter\"}],\"scatterternary\":[{\"marker\":{\"colorbar\":{\"outlinewidth\":0,\"tickcolor\":\"rgb(237,237,237)\",\"ticklen\":6,\"ticks\":\"inside\"}},\"type\":\"scatterternary\"}],\"surface\":[{\"colorbar\":{\"outlinewidth\":0,\"tickcolor\":\"rgb(237,237,237)\",\"ticklen\":6,\"ticks\":\"inside\"},\"colorscale\":[[0,\"rgb(20,44,66)\"],[1,\"rgb(90,179,244)\"]],\"type\":\"surface\"}],\"table\":[{\"cells\":{\"fill\":{\"color\":\"rgb(237,237,237)\"},\"line\":{\"color\":\"white\"}},\"header\":{\"fill\":{\"color\":\"rgb(217,217,217)\"},\"line\":{\"color\":\"white\"}},\"type\":\"table\"}]},\"layout\":{\"annotationdefaults\":{\"arrowhead\":0,\"arrowwidth\":1},\"autotypenumbers\":\"strict\",\"coloraxis\":{\"colorbar\":{\"outlinewidth\":0,\"tickcolor\":\"rgb(237,237,237)\",\"ticklen\":6,\"ticks\":\"inside\"}},\"colorscale\":{\"sequential\":[[0,\"rgb(20,44,66)\"],[1,\"rgb(90,179,244)\"]],\"sequentialminus\":[[0,\"rgb(20,44,66)\"],[1,\"rgb(90,179,244)\"]]},\"colorway\":[\"#F8766D\",\"#A3A500\",\"#00BF7D\",\"#00B0F6\",\"#E76BF3\"],\"font\":{\"color\":\"rgb(51,51,51)\"},\"geo\":{\"bgcolor\":\"white\",\"lakecolor\":\"white\",\"landcolor\":\"rgb(237,237,237)\",\"showlakes\":true,\"showland\":true,\"subunitcolor\":\"white\"},\"hoverlabel\":{\"align\":\"left\"},\"hovermode\":\"closest\",\"paper_bgcolor\":\"white\",\"plot_bgcolor\":\"rgb(237,237,237)\",\"polar\":{\"angularaxis\":{\"gridcolor\":\"white\",\"linecolor\":\"white\",\"showgrid\":true,\"tickcolor\":\"rgb(51,51,51)\",\"ticks\":\"outside\"},\"bgcolor\":\"rgb(237,237,237)\",\"radialaxis\":{\"gridcolor\":\"white\",\"linecolor\":\"white\",\"showgrid\":true,\"tickcolor\":\"rgb(51,51,51)\",\"ticks\":\"outside\"}},\"scene\":{\"xaxis\":{\"backgroundcolor\":\"rgb(237,237,237)\",\"gridcolor\":\"white\",\"gridwidth\":2,\"linecolor\":\"white\",\"showbackground\":true,\"showgrid\":true,\"tickcolor\":\"rgb(51,51,51)\",\"ticks\":\"outside\",\"zerolinecolor\":\"white\"},\"yaxis\":{\"backgroundcolor\":\"rgb(237,237,237)\",\"gridcolor\":\"white\",\"gridwidth\":2,\"linecolor\":\"white\",\"showbackground\":true,\"showgrid\":true,\"tickcolor\":\"rgb(51,51,51)\",\"ticks\":\"outside\",\"zerolinecolor\":\"white\"},\"zaxis\":{\"backgroundcolor\":\"rgb(237,237,237)\",\"gridcolor\":\"white\",\"gridwidth\":2,\"linecolor\":\"white\",\"showbackground\":true,\"showgrid\":true,\"tickcolor\":\"rgb(51,51,51)\",\"ticks\":\"outside\",\"zerolinecolor\":\"white\"}},\"shapedefaults\":{\"fillcolor\":\"black\",\"line\":{\"width\":0},\"opacity\":0.3},\"ternary\":{\"aaxis\":{\"gridcolor\":\"white\",\"linecolor\":\"white\",\"showgrid\":true,\"tickcolor\":\"rgb(51,51,51)\",\"ticks\":\"outside\"},\"baxis\":{\"gridcolor\":\"white\",\"linecolor\":\"white\",\"showgrid\":true,\"tickcolor\":\"rgb(51,51,51)\",\"ticks\":\"outside\"},\"bgcolor\":\"rgb(237,237,237)\",\"caxis\":{\"gridcolor\":\"white\",\"linecolor\":\"white\",\"showgrid\":true,\"tickcolor\":\"rgb(51,51,51)\",\"ticks\":\"outside\"}},\"xaxis\":{\"automargin\":true,\"gridcolor\":\"white\",\"linecolor\":\"white\",\"showgrid\":true,\"tickcolor\":\"rgb(51,51,51)\",\"ticks\":\"outside\",\"title\":{\"standoff\":15},\"zerolinecolor\":\"white\"},\"yaxis\":{\"automargin\":true,\"gridcolor\":\"white\",\"linecolor\":\"white\",\"showgrid\":true,\"tickcolor\":\"rgb(51,51,51)\",\"ticks\":\"outside\",\"title\":{\"standoff\":15},\"zerolinecolor\":\"white\"}}},\"xaxis\":{\"anchor\":\"y\",\"domain\":[0.0,1.0],\"title\":{\"text\":\"Age\"}},\"yaxis\":{\"anchor\":\"x\",\"domain\":[0.0,1.0],\"title\":{\"text\":\"Depression\"}},\"legend\":{\"tracegroupgap\":0,\"title\":{\"text\":\"Group\"},\"x\":0.8,\"y\":1.0},\"margin\":{\"t\":60},\"title\":{\"text\":\"How Do Depression Rates Change With Age\"},\"width\":800,\"height\":500},                        {\"responsive\": true}                    ).then(function(){\n",
       "                            \n",
       "var gd = document.getElementById('365aca4e-5931-49dd-b05d-c13f82764144');\n",
       "var x = new MutationObserver(function (mutations, observer) {{\n",
       "        var display = window.getComputedStyle(gd).display;\n",
       "        if (!display || display === 'none') {{\n",
       "            console.log([gd, 'removed!']);\n",
       "            Plotly.purge(gd);\n",
       "            observer.disconnect();\n",
       "        }}\n",
       "}});\n",
       "\n",
       "// Listen for the removal of the full notebook cells\n",
       "var notebookContainer = gd.closest('#notebook-container');\n",
       "if (notebookContainer) {{\n",
       "    x.observe(notebookContainer, {childList: true});\n",
       "}}\n",
       "\n",
       "// Listen for the clearing of the current output cell\n",
       "var outputEl = gd.closest('.output');\n",
       "if (outputEl) {{\n",
       "    x.observe(outputEl, {childList: true});\n",
       "}}\n",
       "\n",
       "                        })                };                });            </script>        </div>"
      ]
     },
     "metadata": {},
     "output_type": "display_data"
    }
   ],
   "source": [
    "# creating data frame for the line that works with students\n",
    "\n",
    "# create new empty data frame in order to next fill it with columns from the origonal data frame\n",
    "DF_age_with_students = pd.DataFrame()\n",
    "\n",
    "# moving over columns from the original data frame to the new one, specifically the columns depression, age, and family history\n",
    "# of mental illnesses\n",
    "DF_age_with_students['Depression'] = DF['Depression']\n",
    "DF_age_with_students['Age'] = DF['Age']\n",
    "DF_age_with_students['Working Professional or Student'] = DF['Working Professional or Student']\n",
    "\n",
    "#series of masks. First mask filters out only the students for this data frame\n",
    "mask = (DF_age_with_students['Working Professional or Student'] == \"Student\")\n",
    "# this applies the mask\n",
    "DF_age_with_students = DF_age_with_students[mask]\n",
    "# deletes that column since we don't use it and it gets in the way\n",
    "del DF_age_with_students['Working Professional or Student']\n",
    "# masking to avoid ages above 35, since there are only a couple data points there and it throws off the data\n",
    "mask = (DF_age_with_students['Age'] <= 35)\n",
    "#applying mask\n",
    "DF_age_with_students = DF_age_with_students[mask]\n",
    "\n",
    "\n",
    "#creating first graph with students\n",
    "DF_age_with_students = DF_age_with_students.groupby('Age').mean().reset_index()\n",
    "fig_students = px.line(DF_age_with_students, \n",
    "    x = 'Age',\n",
    "    y = 'Depression'\n",
    ")\n",
    "\n",
    "fig_students.update_layout(\n",
    "                  title='How Do Depression Rates Change With Age',\n",
    "                  template='ggplot2',\n",
    "                  width=800,\n",
    "                  height=500,\n",
    "                      )\n",
    "fig_students.update_traces(name=\"Students\", line=dict(color='blue'))\n",
    "\n",
    "#creating second line for workers\n",
    "# create new empty data frame in order to next fill it with columns from the origonal data frame\n",
    "DF_age_with_workers = pd.DataFrame()\n",
    "\n",
    "# moving over columns from the original data frame to the new one, specifically the columns depression, age, and family history\n",
    "# of mental illnesses\n",
    "DF_age_with_workers['Depression'] = DF['Depression']\n",
    "DF_age_with_workers['Age'] = DF['Age']\n",
    "DF_age_with_workers['Working Professional or Student'] = DF['Working Professional or Student']\n",
    "\n",
    "mask = (DF_age_with_workers['Working Professional or Student'] == \"Working Professional\")\n",
    "DF_age_with_workers = DF_age_with_workers[mask]\n",
    "del DF_age_with_workers['Working Professional or Student']\n",
    "mask = (DF_age_with_workers['Age'] <= 35)\n",
    "DF_age_with_workers = DF_age_with_workers[mask]\n",
    "\n",
    "\n",
    "DF_age_with_workers = DF_age_with_workers.groupby('Age').mean().reset_index()\n",
    "fig_workers = px.line(DF_age_with_workers, \n",
    "    x = 'Age',\n",
    "    y = 'Depression'\n",
    ")\n",
    "fig_workers.update_traces(name=\"Workers\", line=dict(color='red'))\n",
    "\n",
    "\n",
    "fig_students.add_traces(fig_workers.data)\n",
    "fig_students.update_layout(\n",
    "    title='How Do Depression Rates Change With Age',\n",
    "    template='ggplot2',\n",
    "    width=800,\n",
    "    height=500,\n",
    "    legend_title=\"Group\", \n",
    "    legend=dict(x=0.8, y=1.0)\n",
    ")\n",
    "fig_students.show()\n"
   ]
  },
  {
   "cell_type": "code",
   "execution_count": 624,
   "id": "00450618-f7c9-4501-a9c6-a50559f09a72",
   "metadata": {},
   "outputs": [
    {
     "data": {
      "text/html": [
       "<table id=\"itables_eb66ac9a_1a77_402a_8d76_e08ab5b7b190\" class=\"display nowrap\" data-quarto-disable-processing=\"true\" style=\"table-layout:auto;width:auto;margin:auto;caption-side:bottom\">\n",
       "<thead>\n",
       "    <tr style=\"text-align: right;\">\n",
       "      \n",
       "      <th>Study Satisfaction</th>\n",
       "      <th>Depression</th>\n",
       "    </tr>\n",
       "  </thead><tbody><tr>\n",
       "<td style=\"vertical-align:middle; text-align:left\">\n",
       "<div style=\"float:left; margin-right: 10px;\">\n",
       "<a href=https://mwouts.github.io/itables/><svg class=\"main-svg\" xmlns=\"http://www.w3.org/2000/svg\" xmlns:xlink=\"http://www.w3.org/1999/xlink\"\n",
       "width=\"64\" viewBox=\"0 0 500 400\" style=\"font-family: 'Droid Sans', sans-serif;\">\n",
       "    <g style=\"fill:#d9d7fc\">\n",
       "        <path d=\"M100,400H500V357H100Z\" />\n",
       "        <path d=\"M100,300H400V257H100Z\" />\n",
       "        <path d=\"M0,200H400V157H0Z\" />\n",
       "        <path d=\"M100,100H500V57H100Z\" />\n",
       "        <path d=\"M100,350H500V307H100Z\" />\n",
       "        <path d=\"M100,250H400V207H100Z\" />\n",
       "        <path d=\"M0,150H400V107H0Z\" />\n",
       "        <path d=\"M100,50H500V7H100Z\" />\n",
       "    </g>\n",
       "    <g style=\"fill:#1a1366;stroke:#1a1366;\">\n",
       "   <rect x=\"100\" y=\"7\" width=\"400\" height=\"43\">\n",
       "    <animate\n",
       "      attributeName=\"width\"\n",
       "      values=\"0;400;0\"\n",
       "      dur=\"5s\"\n",
       "      repeatCount=\"indefinite\" />\n",
       "      <animate\n",
       "      attributeName=\"x\"\n",
       "      values=\"100;100;500\"\n",
       "      dur=\"5s\"\n",
       "      repeatCount=\"indefinite\" />\n",
       "  </rect>\n",
       "        <rect x=\"0\" y=\"107\" width=\"400\" height=\"43\">\n",
       "    <animate\n",
       "      attributeName=\"width\"\n",
       "      values=\"0;400;0\"\n",
       "      dur=\"3.5s\"\n",
       "      repeatCount=\"indefinite\" />\n",
       "    <animate\n",
       "      attributeName=\"x\"\n",
       "      values=\"0;0;400\"\n",
       "      dur=\"3.5s\"\n",
       "      repeatCount=\"indefinite\" />\n",
       "  </rect>\n",
       "        <rect x=\"100\" y=\"207\" width=\"300\" height=\"43\">\n",
       "    <animate\n",
       "      attributeName=\"width\"\n",
       "      values=\"0;300;0\"\n",
       "      dur=\"3s\"\n",
       "      repeatCount=\"indefinite\" />\n",
       "    <animate\n",
       "      attributeName=\"x\"\n",
       "      values=\"100;100;400\"\n",
       "      dur=\"3s\"\n",
       "      repeatCount=\"indefinite\" />\n",
       "  </rect>\n",
       "        <rect x=\"100\" y=\"307\" width=\"400\" height=\"43\">\n",
       "    <animate\n",
       "      attributeName=\"width\"\n",
       "      values=\"0;400;0\"\n",
       "      dur=\"4s\"\n",
       "      repeatCount=\"indefinite\" />\n",
       "      <animate\n",
       "      attributeName=\"x\"\n",
       "      values=\"100;100;500\"\n",
       "      dur=\"4s\"\n",
       "      repeatCount=\"indefinite\" />\n",
       "  </rect>\n",
       "        <g style=\"fill:transparent;stroke-width:8; stroke-linejoin:round\" rx=\"5\">\n",
       "            <g transform=\"translate(45 50) rotate(-45)\">\n",
       "                <circle r=\"33\" cx=\"0\" cy=\"0\" />\n",
       "                <rect x=\"-8\" y=\"32\" width=\"16\" height=\"30\" />\n",
       "            </g>\n",
       "\n",
       "            <g transform=\"translate(450 152)\">\n",
       "                <polyline points=\"-15,-20 -35,-20 -35,40 25,40 25,20\" />\n",
       "                <rect x=\"-15\" y=\"-40\" width=\"60\" height=\"60\" />\n",
       "            </g>\n",
       "\n",
       "            <g transform=\"translate(50 352)\">\n",
       "                <polygon points=\"-35,-5 0,-40 35,-5\" />\n",
       "                <polygon points=\"-35,10 0,45 35,10\" />\n",
       "            </g>\n",
       "\n",
       "            <g transform=\"translate(75 250)\">\n",
       "                <polyline points=\"-30,30 -60,0 -30,-30\" />\n",
       "                <polyline points=\"0,30 -30,0 0,-30\" />\n",
       "            </g>\n",
       "\n",
       "            <g transform=\"translate(425 250) rotate(180)\">\n",
       "                <polyline points=\"-30,30 -60,0 -30,-30\" />\n",
       "                <polyline points=\"0,30 -30,0 0,-30\" />\n",
       "            </g>\n",
       "        </g>\n",
       "    </g>\n",
       "</svg>\n",
       "</a>\n",
       "</div>\n",
       "<div>\n",
       "Loading ITables v2.2.2 from the internet...\n",
       "(need <a href=https://mwouts.github.io/itables/troubleshooting.html>help</a>?)</td>\n",
       "</div>\n",
       "</tr></tbody>\n",
       "\n",
       "</table>\n",
       "<link href=\"https://www.unpkg.com/dt_for_itables@2.0.13/dt_bundle.css\" rel=\"stylesheet\">\n",
       "<script type=\"module\">\n",
       "    import {DataTable, jQuery as $} from 'https://www.unpkg.com/dt_for_itables@2.0.13/dt_bundle.js';\n",
       "\n",
       "    document.querySelectorAll(\"#itables_eb66ac9a_1a77_402a_8d76_e08ab5b7b190:not(.dataTable)\").forEach(table => {\n",
       "        if (!(table instanceof HTMLTableElement))\n",
       "            return;\n",
       "\n",
       "        // Define the table data\n",
       "        const data = [[1.0, 0.707577], [2.0, 0.645427], [3.0, 0.576018], [4.0, 0.513288], [5.0, 0.472185]];\n",
       "\n",
       "        // Define the dt_args\n",
       "        let dt_args = {\"layout\": {\"topStart\": null, \"topEnd\": null, \"bottomStart\": null, \"bottomEnd\": null}, \"order\": [], \"warn_on_selected_rows_not_rendered\": true};\n",
       "        dt_args[\"data\"] = data;\n",
       "\n",
       "        \n",
       "        new DataTable(table, dt_args);\n",
       "    });\n",
       "</script>\n"
      ],
      "text/plain": [
       "<IPython.core.display.HTML object>"
      ]
     },
     "metadata": {},
     "output_type": "display_data"
    },
    {
     "data": {
      "application/vnd.plotly.v1+json": {
       "config": {
        "plotlyServerURL": "https://plot.ly"
       },
       "data": [
        {
         "alignmentgroup": "True",
         "hovertemplate": "Study Satisfaction=%{x}<br>Depression=%{y}<extra></extra>",
         "legendgroup": "",
         "marker": {
          "color": "#636efa",
          "pattern": {
           "shape": ""
          }
         },
         "name": "",
         "offsetgroup": "",
         "orientation": "v",
         "showlegend": false,
         "textposition": "auto",
         "type": "bar",
         "x": [
          1,
          2,
          3,
          4,
          5
         ],
         "xaxis": "x",
         "y": [
          0.7075765914511098,
          0.645426515930113,
          0.5760178663459886,
          0.5132882528699481,
          0.47218453188602444
         ],
         "yaxis": "y"
        }
       ],
       "layout": {
        "barmode": "relative",
        "height": 500,
        "legend": {
         "tracegroupgap": 0
        },
        "margin": {
         "t": 60
        },
        "template": {
         "data": {
          "bar": [
           {
            "error_x": {
             "color": "rgb(51,51,51)"
            },
            "error_y": {
             "color": "rgb(51,51,51)"
            },
            "marker": {
             "line": {
              "color": "rgb(237,237,237)",
              "width": 0.5
             },
             "pattern": {
              "fillmode": "overlay",
              "size": 10,
              "solidity": 0.2
             }
            },
            "type": "bar"
           }
          ],
          "barpolar": [
           {
            "marker": {
             "line": {
              "color": "rgb(237,237,237)",
              "width": 0.5
             },
             "pattern": {
              "fillmode": "overlay",
              "size": 10,
              "solidity": 0.2
             }
            },
            "type": "barpolar"
           }
          ],
          "carpet": [
           {
            "aaxis": {
             "endlinecolor": "rgb(51,51,51)",
             "gridcolor": "white",
             "linecolor": "white",
             "minorgridcolor": "white",
             "startlinecolor": "rgb(51,51,51)"
            },
            "baxis": {
             "endlinecolor": "rgb(51,51,51)",
             "gridcolor": "white",
             "linecolor": "white",
             "minorgridcolor": "white",
             "startlinecolor": "rgb(51,51,51)"
            },
            "type": "carpet"
           }
          ],
          "choropleth": [
           {
            "colorbar": {
             "outlinewidth": 0,
             "tickcolor": "rgb(237,237,237)",
             "ticklen": 6,
             "ticks": "inside"
            },
            "type": "choropleth"
           }
          ],
          "contour": [
           {
            "colorbar": {
             "outlinewidth": 0,
             "tickcolor": "rgb(237,237,237)",
             "ticklen": 6,
             "ticks": "inside"
            },
            "colorscale": [
             [
              0,
              "rgb(20,44,66)"
             ],
             [
              1,
              "rgb(90,179,244)"
             ]
            ],
            "type": "contour"
           }
          ],
          "contourcarpet": [
           {
            "colorbar": {
             "outlinewidth": 0,
             "tickcolor": "rgb(237,237,237)",
             "ticklen": 6,
             "ticks": "inside"
            },
            "type": "contourcarpet"
           }
          ],
          "heatmap": [
           {
            "colorbar": {
             "outlinewidth": 0,
             "tickcolor": "rgb(237,237,237)",
             "ticklen": 6,
             "ticks": "inside"
            },
            "colorscale": [
             [
              0,
              "rgb(20,44,66)"
             ],
             [
              1,
              "rgb(90,179,244)"
             ]
            ],
            "type": "heatmap"
           }
          ],
          "heatmapgl": [
           {
            "colorbar": {
             "outlinewidth": 0,
             "tickcolor": "rgb(237,237,237)",
             "ticklen": 6,
             "ticks": "inside"
            },
            "colorscale": [
             [
              0,
              "rgb(20,44,66)"
             ],
             [
              1,
              "rgb(90,179,244)"
             ]
            ],
            "type": "heatmapgl"
           }
          ],
          "histogram": [
           {
            "marker": {
             "pattern": {
              "fillmode": "overlay",
              "size": 10,
              "solidity": 0.2
             }
            },
            "type": "histogram"
           }
          ],
          "histogram2d": [
           {
            "colorbar": {
             "outlinewidth": 0,
             "tickcolor": "rgb(237,237,237)",
             "ticklen": 6,
             "ticks": "inside"
            },
            "colorscale": [
             [
              0,
              "rgb(20,44,66)"
             ],
             [
              1,
              "rgb(90,179,244)"
             ]
            ],
            "type": "histogram2d"
           }
          ],
          "histogram2dcontour": [
           {
            "colorbar": {
             "outlinewidth": 0,
             "tickcolor": "rgb(237,237,237)",
             "ticklen": 6,
             "ticks": "inside"
            },
            "colorscale": [
             [
              0,
              "rgb(20,44,66)"
             ],
             [
              1,
              "rgb(90,179,244)"
             ]
            ],
            "type": "histogram2dcontour"
           }
          ],
          "mesh3d": [
           {
            "colorbar": {
             "outlinewidth": 0,
             "tickcolor": "rgb(237,237,237)",
             "ticklen": 6,
             "ticks": "inside"
            },
            "type": "mesh3d"
           }
          ],
          "parcoords": [
           {
            "line": {
             "colorbar": {
              "outlinewidth": 0,
              "tickcolor": "rgb(237,237,237)",
              "ticklen": 6,
              "ticks": "inside"
             }
            },
            "type": "parcoords"
           }
          ],
          "pie": [
           {
            "automargin": true,
            "type": "pie"
           }
          ],
          "scatter": [
           {
            "fillpattern": {
             "fillmode": "overlay",
             "size": 10,
             "solidity": 0.2
            },
            "type": "scatter"
           }
          ],
          "scatter3d": [
           {
            "line": {
             "colorbar": {
              "outlinewidth": 0,
              "tickcolor": "rgb(237,237,237)",
              "ticklen": 6,
              "ticks": "inside"
             }
            },
            "marker": {
             "colorbar": {
              "outlinewidth": 0,
              "tickcolor": "rgb(237,237,237)",
              "ticklen": 6,
              "ticks": "inside"
             }
            },
            "type": "scatter3d"
           }
          ],
          "scattercarpet": [
           {
            "marker": {
             "colorbar": {
              "outlinewidth": 0,
              "tickcolor": "rgb(237,237,237)",
              "ticklen": 6,
              "ticks": "inside"
             }
            },
            "type": "scattercarpet"
           }
          ],
          "scattergeo": [
           {
            "marker": {
             "colorbar": {
              "outlinewidth": 0,
              "tickcolor": "rgb(237,237,237)",
              "ticklen": 6,
              "ticks": "inside"
             }
            },
            "type": "scattergeo"
           }
          ],
          "scattergl": [
           {
            "marker": {
             "colorbar": {
              "outlinewidth": 0,
              "tickcolor": "rgb(237,237,237)",
              "ticklen": 6,
              "ticks": "inside"
             }
            },
            "type": "scattergl"
           }
          ],
          "scattermapbox": [
           {
            "marker": {
             "colorbar": {
              "outlinewidth": 0,
              "tickcolor": "rgb(237,237,237)",
              "ticklen": 6,
              "ticks": "inside"
             }
            },
            "type": "scattermapbox"
           }
          ],
          "scatterpolar": [
           {
            "marker": {
             "colorbar": {
              "outlinewidth": 0,
              "tickcolor": "rgb(237,237,237)",
              "ticklen": 6,
              "ticks": "inside"
             }
            },
            "type": "scatterpolar"
           }
          ],
          "scatterpolargl": [
           {
            "marker": {
             "colorbar": {
              "outlinewidth": 0,
              "tickcolor": "rgb(237,237,237)",
              "ticklen": 6,
              "ticks": "inside"
             }
            },
            "type": "scatterpolargl"
           }
          ],
          "scatterternary": [
           {
            "marker": {
             "colorbar": {
              "outlinewidth": 0,
              "tickcolor": "rgb(237,237,237)",
              "ticklen": 6,
              "ticks": "inside"
             }
            },
            "type": "scatterternary"
           }
          ],
          "surface": [
           {
            "colorbar": {
             "outlinewidth": 0,
             "tickcolor": "rgb(237,237,237)",
             "ticklen": 6,
             "ticks": "inside"
            },
            "colorscale": [
             [
              0,
              "rgb(20,44,66)"
             ],
             [
              1,
              "rgb(90,179,244)"
             ]
            ],
            "type": "surface"
           }
          ],
          "table": [
           {
            "cells": {
             "fill": {
              "color": "rgb(237,237,237)"
             },
             "line": {
              "color": "white"
             }
            },
            "header": {
             "fill": {
              "color": "rgb(217,217,217)"
             },
             "line": {
              "color": "white"
             }
            },
            "type": "table"
           }
          ]
         },
         "layout": {
          "annotationdefaults": {
           "arrowhead": 0,
           "arrowwidth": 1
          },
          "autotypenumbers": "strict",
          "coloraxis": {
           "colorbar": {
            "outlinewidth": 0,
            "tickcolor": "rgb(237,237,237)",
            "ticklen": 6,
            "ticks": "inside"
           }
          },
          "colorscale": {
           "sequential": [
            [
             0,
             "rgb(20,44,66)"
            ],
            [
             1,
             "rgb(90,179,244)"
            ]
           ],
           "sequentialminus": [
            [
             0,
             "rgb(20,44,66)"
            ],
            [
             1,
             "rgb(90,179,244)"
            ]
           ]
          },
          "colorway": [
           "#F8766D",
           "#A3A500",
           "#00BF7D",
           "#00B0F6",
           "#E76BF3"
          ],
          "font": {
           "color": "rgb(51,51,51)"
          },
          "geo": {
           "bgcolor": "white",
           "lakecolor": "white",
           "landcolor": "rgb(237,237,237)",
           "showlakes": true,
           "showland": true,
           "subunitcolor": "white"
          },
          "hoverlabel": {
           "align": "left"
          },
          "hovermode": "closest",
          "paper_bgcolor": "white",
          "plot_bgcolor": "rgb(237,237,237)",
          "polar": {
           "angularaxis": {
            "gridcolor": "white",
            "linecolor": "white",
            "showgrid": true,
            "tickcolor": "rgb(51,51,51)",
            "ticks": "outside"
           },
           "bgcolor": "rgb(237,237,237)",
           "radialaxis": {
            "gridcolor": "white",
            "linecolor": "white",
            "showgrid": true,
            "tickcolor": "rgb(51,51,51)",
            "ticks": "outside"
           }
          },
          "scene": {
           "xaxis": {
            "backgroundcolor": "rgb(237,237,237)",
            "gridcolor": "white",
            "gridwidth": 2,
            "linecolor": "white",
            "showbackground": true,
            "showgrid": true,
            "tickcolor": "rgb(51,51,51)",
            "ticks": "outside",
            "zerolinecolor": "white"
           },
           "yaxis": {
            "backgroundcolor": "rgb(237,237,237)",
            "gridcolor": "white",
            "gridwidth": 2,
            "linecolor": "white",
            "showbackground": true,
            "showgrid": true,
            "tickcolor": "rgb(51,51,51)",
            "ticks": "outside",
            "zerolinecolor": "white"
           },
           "zaxis": {
            "backgroundcolor": "rgb(237,237,237)",
            "gridcolor": "white",
            "gridwidth": 2,
            "linecolor": "white",
            "showbackground": true,
            "showgrid": true,
            "tickcolor": "rgb(51,51,51)",
            "ticks": "outside",
            "zerolinecolor": "white"
           }
          },
          "shapedefaults": {
           "fillcolor": "black",
           "line": {
            "width": 0
           },
           "opacity": 0.3
          },
          "ternary": {
           "aaxis": {
            "gridcolor": "white",
            "linecolor": "white",
            "showgrid": true,
            "tickcolor": "rgb(51,51,51)",
            "ticks": "outside"
           },
           "baxis": {
            "gridcolor": "white",
            "linecolor": "white",
            "showgrid": true,
            "tickcolor": "rgb(51,51,51)",
            "ticks": "outside"
           },
           "bgcolor": "rgb(237,237,237)",
           "caxis": {
            "gridcolor": "white",
            "linecolor": "white",
            "showgrid": true,
            "tickcolor": "rgb(51,51,51)",
            "ticks": "outside"
           }
          },
          "xaxis": {
           "automargin": true,
           "gridcolor": "white",
           "linecolor": "white",
           "showgrid": true,
           "tickcolor": "rgb(51,51,51)",
           "ticks": "outside",
           "title": {
            "standoff": 15
           },
           "zerolinecolor": "white"
          },
          "yaxis": {
           "automargin": true,
           "gridcolor": "white",
           "linecolor": "white",
           "showgrid": true,
           "tickcolor": "rgb(51,51,51)",
           "ticks": "outside",
           "title": {
            "standoff": 15
           },
           "zerolinecolor": "white"
          }
         }
        },
        "title": {
         "text": "How Do Depression Rates Change With Study Satisfaction"
        },
        "width": 800,
        "xaxis": {
         "anchor": "y",
         "autorange": true,
         "domain": [
          0,
          1
         ],
         "range": [
          0.5,
          5.5
         ],
         "title": {
          "text": "Study Satisfaction"
         },
         "type": "linear"
        },
        "yaxis": {
         "anchor": "x",
         "autorange": true,
         "domain": [
          0,
          1
         ],
         "range": [
          0,
          0.7448174646853788
         ],
         "title": {
          "text": "Depression"
         },
         "type": "linear"
        }
       }
      },
      "image/png": "[encoded data removed]",
      "text/html": [
       "<div>                            <div id=\"b712fd69-6c84-4db2-936a-08d0dc4e0169\" class=\"plotly-graph-div\" style=\"height:500px; width:800px;\"></div>            <script type=\"text/javascript\">                require([\"plotly\"], function(Plotly) {                    window.PLOTLYENV=window.PLOTLYENV || {};                                    if (document.getElementById(\"b712fd69-6c84-4db2-936a-08d0dc4e0169\")) {                    Plotly.newPlot(                        \"b712fd69-6c84-4db2-936a-08d0dc4e0169\",                        [{\"alignmentgroup\":\"True\",\"hovertemplate\":\"Study Satisfaction=%{x}\\u003cbr\\u003eDepression=%{y}\\u003cextra\\u003e\\u003c\\u002fextra\\u003e\",\"legendgroup\":\"\",\"marker\":{\"color\":\"#636efa\",\"pattern\":{\"shape\":\"\"}},\"name\":\"\",\"offsetgroup\":\"\",\"orientation\":\"v\",\"showlegend\":false,\"textposition\":\"auto\",\"x\":[1.0,2.0,3.0,4.0,5.0],\"xaxis\":\"x\",\"y\":[0.7075765914511098,0.645426515930113,0.5760178663459886,0.5132882528699481,0.47218453188602444],\"yaxis\":\"y\",\"type\":\"bar\"}],                        {\"template\":{\"data\":{\"barpolar\":[{\"marker\":{\"line\":{\"color\":\"rgb(237,237,237)\",\"width\":0.5},\"pattern\":{\"fillmode\":\"overlay\",\"size\":10,\"solidity\":0.2}},\"type\":\"barpolar\"}],\"bar\":[{\"error_x\":{\"color\":\"rgb(51,51,51)\"},\"error_y\":{\"color\":\"rgb(51,51,51)\"},\"marker\":{\"line\":{\"color\":\"rgb(237,237,237)\",\"width\":0.5},\"pattern\":{\"fillmode\":\"overlay\",\"size\":10,\"solidity\":0.2}},\"type\":\"bar\"}],\"carpet\":[{\"aaxis\":{\"endlinecolor\":\"rgb(51,51,51)\",\"gridcolor\":\"white\",\"linecolor\":\"white\",\"minorgridcolor\":\"white\",\"startlinecolor\":\"rgb(51,51,51)\"},\"baxis\":{\"endlinecolor\":\"rgb(51,51,51)\",\"gridcolor\":\"white\",\"linecolor\":\"white\",\"minorgridcolor\":\"white\",\"startlinecolor\":\"rgb(51,51,51)\"},\"type\":\"carpet\"}],\"choropleth\":[{\"colorbar\":{\"outlinewidth\":0,\"tickcolor\":\"rgb(237,237,237)\",\"ticklen\":6,\"ticks\":\"inside\"},\"type\":\"choropleth\"}],\"contourcarpet\":[{\"colorbar\":{\"outlinewidth\":0,\"tickcolor\":\"rgb(237,237,237)\",\"ticklen\":6,\"ticks\":\"inside\"},\"type\":\"contourcarpet\"}],\"contour\":[{\"colorbar\":{\"outlinewidth\":0,\"tickcolor\":\"rgb(237,237,237)\",\"ticklen\":6,\"ticks\":\"inside\"},\"colorscale\":[[0,\"rgb(20,44,66)\"],[1,\"rgb(90,179,244)\"]],\"type\":\"contour\"}],\"heatmapgl\":[{\"colorbar\":{\"outlinewidth\":0,\"tickcolor\":\"rgb(237,237,237)\",\"ticklen\":6,\"ticks\":\"inside\"},\"colorscale\":[[0,\"rgb(20,44,66)\"],[1,\"rgb(90,179,244)\"]],\"type\":\"heatmapgl\"}],\"heatmap\":[{\"colorbar\":{\"outlinewidth\":0,\"tickcolor\":\"rgb(237,237,237)\",\"ticklen\":6,\"ticks\":\"inside\"},\"colorscale\":[[0,\"rgb(20,44,66)\"],[1,\"rgb(90,179,244)\"]],\"type\":\"heatmap\"}],\"histogram2dcontour\":[{\"colorbar\":{\"outlinewidth\":0,\"tickcolor\":\"rgb(237,237,237)\",\"ticklen\":6,\"ticks\":\"inside\"},\"colorscale\":[[0,\"rgb(20,44,66)\"],[1,\"rgb(90,179,244)\"]],\"type\":\"histogram2dcontour\"}],\"histogram2d\":[{\"colorbar\":{\"outlinewidth\":0,\"tickcolor\":\"rgb(237,237,237)\",\"ticklen\":6,\"ticks\":\"inside\"},\"colorscale\":[[0,\"rgb(20,44,66)\"],[1,\"rgb(90,179,244)\"]],\"type\":\"histogram2d\"}],\"histogram\":[{\"marker\":{\"pattern\":{\"fillmode\":\"overlay\",\"size\":10,\"solidity\":0.2}},\"type\":\"histogram\"}],\"mesh3d\":[{\"colorbar\":{\"outlinewidth\":0,\"tickcolor\":\"rgb(237,237,237)\",\"ticklen\":6,\"ticks\":\"inside\"},\"type\":\"mesh3d\"}],\"parcoords\":[{\"line\":{\"colorbar\":{\"outlinewidth\":0,\"tickcolor\":\"rgb(237,237,237)\",\"ticklen\":6,\"ticks\":\"inside\"}},\"type\":\"parcoords\"}],\"pie\":[{\"automargin\":true,\"type\":\"pie\"}],\"scatter3d\":[{\"line\":{\"colorbar\":{\"outlinewidth\":0,\"tickcolor\":\"rgb(237,237,237)\",\"ticklen\":6,\"ticks\":\"inside\"}},\"marker\":{\"colorbar\":{\"outlinewidth\":0,\"tickcolor\":\"rgb(237,237,237)\",\"ticklen\":6,\"ticks\":\"inside\"}},\"type\":\"scatter3d\"}],\"scattercarpet\":[{\"marker\":{\"colorbar\":{\"outlinewidth\":0,\"tickcolor\":\"rgb(237,237,237)\",\"ticklen\":6,\"ticks\":\"inside\"}},\"type\":\"scattercarpet\"}],\"scattergeo\":[{\"marker\":{\"colorbar\":{\"outlinewidth\":0,\"tickcolor\":\"rgb(237,237,237)\",\"ticklen\":6,\"ticks\":\"inside\"}},\"type\":\"scattergeo\"}],\"scattergl\":[{\"marker\":{\"colorbar\":{\"outlinewidth\":0,\"tickcolor\":\"rgb(237,237,237)\",\"ticklen\":6,\"ticks\":\"inside\"}},\"type\":\"scattergl\"}],\"scattermapbox\":[{\"marker\":{\"colorbar\":{\"outlinewidth\":0,\"tickcolor\":\"rgb(237,237,237)\",\"ticklen\":6,\"ticks\":\"inside\"}},\"type\":\"scattermapbox\"}],\"scatterpolargl\":[{\"marker\":{\"colorbar\":{\"outlinewidth\":0,\"tickcolor\":\"rgb(237,237,237)\",\"ticklen\":6,\"ticks\":\"inside\"}},\"type\":\"scatterpolargl\"}],\"scatterpolar\":[{\"marker\":{\"colorbar\":{\"outlinewidth\":0,\"tickcolor\":\"rgb(237,237,237)\",\"ticklen\":6,\"ticks\":\"inside\"}},\"type\":\"scatterpolar\"}],\"scatter\":[{\"fillpattern\":{\"fillmode\":\"overlay\",\"size\":10,\"solidity\":0.2},\"type\":\"scatter\"}],\"scatterternary\":[{\"marker\":{\"colorbar\":{\"outlinewidth\":0,\"tickcolor\":\"rgb(237,237,237)\",\"ticklen\":6,\"ticks\":\"inside\"}},\"type\":\"scatterternary\"}],\"surface\":[{\"colorbar\":{\"outlinewidth\":0,\"tickcolor\":\"rgb(237,237,237)\",\"ticklen\":6,\"ticks\":\"inside\"},\"colorscale\":[[0,\"rgb(20,44,66)\"],[1,\"rgb(90,179,244)\"]],\"type\":\"surface\"}],\"table\":[{\"cells\":{\"fill\":{\"color\":\"rgb(237,237,237)\"},\"line\":{\"color\":\"white\"}},\"header\":{\"fill\":{\"color\":\"rgb(217,217,217)\"},\"line\":{\"color\":\"white\"}},\"type\":\"table\"}]},\"layout\":{\"annotationdefaults\":{\"arrowhead\":0,\"arrowwidth\":1},\"autotypenumbers\":\"strict\",\"coloraxis\":{\"colorbar\":{\"outlinewidth\":0,\"tickcolor\":\"rgb(237,237,237)\",\"ticklen\":6,\"ticks\":\"inside\"}},\"colorscale\":{\"sequential\":[[0,\"rgb(20,44,66)\"],[1,\"rgb(90,179,244)\"]],\"sequentialminus\":[[0,\"rgb(20,44,66)\"],[1,\"rgb(90,179,244)\"]]},\"colorway\":[\"#F8766D\",\"#A3A500\",\"#00BF7D\",\"#00B0F6\",\"#E76BF3\"],\"font\":{\"color\":\"rgb(51,51,51)\"},\"geo\":{\"bgcolor\":\"white\",\"lakecolor\":\"white\",\"landcolor\":\"rgb(237,237,237)\",\"showlakes\":true,\"showland\":true,\"subunitcolor\":\"white\"},\"hoverlabel\":{\"align\":\"left\"},\"hovermode\":\"closest\",\"paper_bgcolor\":\"white\",\"plot_bgcolor\":\"rgb(237,237,237)\",\"polar\":{\"angularaxis\":{\"gridcolor\":\"white\",\"linecolor\":\"white\",\"showgrid\":true,\"tickcolor\":\"rgb(51,51,51)\",\"ticks\":\"outside\"},\"bgcolor\":\"rgb(237,237,237)\",\"radialaxis\":{\"gridcolor\":\"white\",\"linecolor\":\"white\",\"showgrid\":true,\"tickcolor\":\"rgb(51,51,51)\",\"ticks\":\"outside\"}},\"scene\":{\"xaxis\":{\"backgroundcolor\":\"rgb(237,237,237)\",\"gridcolor\":\"white\",\"gridwidth\":2,\"linecolor\":\"white\",\"showbackground\":true,\"showgrid\":true,\"tickcolor\":\"rgb(51,51,51)\",\"ticks\":\"outside\",\"zerolinecolor\":\"white\"},\"yaxis\":{\"backgroundcolor\":\"rgb(237,237,237)\",\"gridcolor\":\"white\",\"gridwidth\":2,\"linecolor\":\"white\",\"showbackground\":true,\"showgrid\":true,\"tickcolor\":\"rgb(51,51,51)\",\"ticks\":\"outside\",\"zerolinecolor\":\"white\"},\"zaxis\":{\"backgroundcolor\":\"rgb(237,237,237)\",\"gridcolor\":\"white\",\"gridwidth\":2,\"linecolor\":\"white\",\"showbackground\":true,\"showgrid\":true,\"tickcolor\":\"rgb(51,51,51)\",\"ticks\":\"outside\",\"zerolinecolor\":\"white\"}},\"shapedefaults\":{\"fillcolor\":\"black\",\"line\":{\"width\":0},\"opacity\":0.3},\"ternary\":{\"aaxis\":{\"gridcolor\":\"white\",\"linecolor\":\"white\",\"showgrid\":true,\"tickcolor\":\"rgb(51,51,51)\",\"ticks\":\"outside\"},\"baxis\":{\"gridcolor\":\"white\",\"linecolor\":\"white\",\"showgrid\":true,\"tickcolor\":\"rgb(51,51,51)\",\"ticks\":\"outside\"},\"bgcolor\":\"rgb(237,237,237)\",\"caxis\":{\"gridcolor\":\"white\",\"linecolor\":\"white\",\"showgrid\":true,\"tickcolor\":\"rgb(51,51,51)\",\"ticks\":\"outside\"}},\"xaxis\":{\"automargin\":true,\"gridcolor\":\"white\",\"linecolor\":\"white\",\"showgrid\":true,\"tickcolor\":\"rgb(51,51,51)\",\"ticks\":\"outside\",\"title\":{\"standoff\":15},\"zerolinecolor\":\"white\"},\"yaxis\":{\"automargin\":true,\"gridcolor\":\"white\",\"linecolor\":\"white\",\"showgrid\":true,\"tickcolor\":\"rgb(51,51,51)\",\"ticks\":\"outside\",\"title\":{\"standoff\":15},\"zerolinecolor\":\"white\"}}},\"xaxis\":{\"anchor\":\"y\",\"domain\":[0.0,1.0],\"title\":{\"text\":\"Study Satisfaction\"}},\"yaxis\":{\"anchor\":\"x\",\"domain\":[0.0,1.0],\"title\":{\"text\":\"Depression\"}},\"legend\":{\"tracegroupgap\":0},\"margin\":{\"t\":60},\"barmode\":\"relative\",\"title\":{\"text\":\"How Do Depression Rates Change With Study Satisfaction\"},\"width\":800,\"height\":500},                        {\"responsive\": true}                    ).then(function(){\n",
       "                            \n",
       "var gd = document.getElementById('b712fd69-6c84-4db2-936a-08d0dc4e0169');\n",
       "var x = new MutationObserver(function (mutations, observer) {{\n",
       "        var display = window.getComputedStyle(gd).display;\n",
       "        if (!display || display === 'none') {{\n",
       "            console.log([gd, 'removed!']);\n",
       "            Plotly.purge(gd);\n",
       "            observer.disconnect();\n",
       "        }}\n",
       "}});\n",
       "\n",
       "// Listen for the removal of the full notebook cells\n",
       "var notebookContainer = gd.closest('#notebook-container');\n",
       "if (notebookContainer) {{\n",
       "    x.observe(notebookContainer, {childList: true});\n",
       "}}\n",
       "\n",
       "// Listen for the clearing of the current output cell\n",
       "var outputEl = gd.closest('.output');\n",
       "if (outputEl) {{\n",
       "    x.observe(outputEl, {childList: true});\n",
       "}}\n",
       "\n",
       "                        })                };                });            </script>        </div>"
      ]
     },
     "metadata": {},
     "output_type": "display_data"
    }
   ],
   "source": [
    "DF_Study_Satisfaction = pd.DataFrame()\n",
    "\n",
    "DF_Study_Satisfaction['Depression'] = DF['Depression']\n",
    "DF_Study_Satisfaction['Study Satisfaction'] = DF['Study Satisfaction']\n",
    "DF_Study_Satisfaction['Working Professional or Student'] = DF['Working Professional or Student']\n",
    "\n",
    "#series of masks. First mask filters out only the students for this data frame\n",
    "mask = (DF_Study_Satisfaction['Working Professional or Student'] == \"Student\")\n",
    "# this applies the mask\n",
    "DF_Study_Satisfaction = DF_Study_Satisfaction[mask]\n",
    "# deletes that column since we don't use it and it gets in the way\n",
    "del DF_Study_Satisfaction['Working Professional or Student']\n",
    "# masking to avoid ages above 35, since there are only a couple data points there and it throws off the data\n",
    "mask = (DF_Study_Satisfaction['Study Satisfaction'] <= 35)\n",
    "#applying mask\n",
    "DF_Study_Satisfaction = DF_Study_Satisfaction[mask]\n",
    "\n",
    "\n",
    "#creating first graph with students\n",
    "DF_Study_Satisfaction = DF_Study_Satisfaction.groupby('Study Satisfaction').mean().reset_index()\n",
    "show(DF_Study_Satisfaction)\n",
    "fig_students = px.bar(DF_Study_Satisfaction, \n",
    "    x = 'Study Satisfaction',\n",
    "    y = 'Depression'\n",
    ")\n",
    "\n",
    "fig_students.update_layout(\n",
    "                  title='How Do Depression Rates Change With Study Satisfaction',\n",
    "                  template='ggplot2',\n",
    "                  width=800,\n",
    "                  height=500,\n",
    "                      )\n",
    "\n",
    "fig_students.show()"
   ]
  },
  {
   "cell_type": "code",
   "execution_count": 625,
   "id": "4d12e61c-43ae-421a-af9a-6c8311a903cc",
   "metadata": {},
   "outputs": [
    {
     "data": {
      "text/html": [
       "<table id=\"itables_742e0269_6647_4364_9cef_7e2724939475\" class=\"display nowrap\" data-quarto-disable-processing=\"true\" style=\"table-layout:auto;width:auto;margin:auto;caption-side:bottom\">\n",
       "<thead>\n",
       "    <tr style=\"text-align: right;\">\n",
       "      \n",
       "      <th>Job Satisfaction</th>\n",
       "      <th>Depression</th>\n",
       "    </tr>\n",
       "  </thead><tbody><tr>\n",
       "<td style=\"vertical-align:middle; text-align:left\">\n",
       "<div style=\"float:left; margin-right: 10px;\">\n",
       "<a href=https://mwouts.github.io/itables/><svg class=\"main-svg\" xmlns=\"http://www.w3.org/2000/svg\" xmlns:xlink=\"http://www.w3.org/1999/xlink\"\n",
       "width=\"64\" viewBox=\"0 0 500 400\" style=\"font-family: 'Droid Sans', sans-serif;\">\n",
       "    <g style=\"fill:#d9d7fc\">\n",
       "        <path d=\"M100,400H500V357H100Z\" />\n",
       "        <path d=\"M100,300H400V257H100Z\" />\n",
       "        <path d=\"M0,200H400V157H0Z\" />\n",
       "        <path d=\"M100,100H500V57H100Z\" />\n",
       "        <path d=\"M100,350H500V307H100Z\" />\n",
       "        <path d=\"M100,250H400V207H100Z\" />\n",
       "        <path d=\"M0,150H400V107H0Z\" />\n",
       "        <path d=\"M100,50H500V7H100Z\" />\n",
       "    </g>\n",
       "    <g style=\"fill:#1a1366;stroke:#1a1366;\">\n",
       "   <rect x=\"100\" y=\"7\" width=\"400\" height=\"43\">\n",
       "    <animate\n",
       "      attributeName=\"width\"\n",
       "      values=\"0;400;0\"\n",
       "      dur=\"5s\"\n",
       "      repeatCount=\"indefinite\" />\n",
       "      <animate\n",
       "      attributeName=\"x\"\n",
       "      values=\"100;100;500\"\n",
       "      dur=\"5s\"\n",
       "      repeatCount=\"indefinite\" />\n",
       "  </rect>\n",
       "        <rect x=\"0\" y=\"107\" width=\"400\" height=\"43\">\n",
       "    <animate\n",
       "      attributeName=\"width\"\n",
       "      values=\"0;400;0\"\n",
       "      dur=\"3.5s\"\n",
       "      repeatCount=\"indefinite\" />\n",
       "    <animate\n",
       "      attributeName=\"x\"\n",
       "      values=\"0;0;400\"\n",
       "      dur=\"3.5s\"\n",
       "      repeatCount=\"indefinite\" />\n",
       "  </rect>\n",
       "        <rect x=\"100\" y=\"207\" width=\"300\" height=\"43\">\n",
       "    <animate\n",
       "      attributeName=\"width\"\n",
       "      values=\"0;300;0\"\n",
       "      dur=\"3s\"\n",
       "      repeatCount=\"indefinite\" />\n",
       "    <animate\n",
       "      attributeName=\"x\"\n",
       "      values=\"100;100;400\"\n",
       "      dur=\"3s\"\n",
       "      repeatCount=\"indefinite\" />\n",
       "  </rect>\n",
       "        <rect x=\"100\" y=\"307\" width=\"400\" height=\"43\">\n",
       "    <animate\n",
       "      attributeName=\"width\"\n",
       "      values=\"0;400;0\"\n",
       "      dur=\"4s\"\n",
       "      repeatCount=\"indefinite\" />\n",
       "      <animate\n",
       "      attributeName=\"x\"\n",
       "      values=\"100;100;500\"\n",
       "      dur=\"4s\"\n",
       "      repeatCount=\"indefinite\" />\n",
       "  </rect>\n",
       "        <g style=\"fill:transparent;stroke-width:8; stroke-linejoin:round\" rx=\"5\">\n",
       "            <g transform=\"translate(45 50) rotate(-45)\">\n",
       "                <circle r=\"33\" cx=\"0\" cy=\"0\" />\n",
       "                <rect x=\"-8\" y=\"32\" width=\"16\" height=\"30\" />\n",
       "            </g>\n",
       "\n",
       "            <g transform=\"translate(450 152)\">\n",
       "                <polyline points=\"-15,-20 -35,-20 -35,40 25,40 25,20\" />\n",
       "                <rect x=\"-15\" y=\"-40\" width=\"60\" height=\"60\" />\n",
       "            </g>\n",
       "\n",
       "            <g transform=\"translate(50 352)\">\n",
       "                <polygon points=\"-35,-5 0,-40 35,-5\" />\n",
       "                <polygon points=\"-35,10 0,45 35,10\" />\n",
       "            </g>\n",
       "\n",
       "            <g transform=\"translate(75 250)\">\n",
       "                <polyline points=\"-30,30 -60,0 -30,-30\" />\n",
       "                <polyline points=\"0,30 -30,0 0,-30\" />\n",
       "            </g>\n",
       "\n",
       "            <g transform=\"translate(425 250) rotate(180)\">\n",
       "                <polyline points=\"-30,30 -60,0 -30,-30\" />\n",
       "                <polyline points=\"0,30 -30,0 0,-30\" />\n",
       "            </g>\n",
       "        </g>\n",
       "    </g>\n",
       "</svg>\n",
       "</a>\n",
       "</div>\n",
       "<div>\n",
       "Loading ITables v2.2.2 from the internet...\n",
       "(need <a href=https://mwouts.github.io/itables/troubleshooting.html>help</a>?)</td>\n",
       "</div>\n",
       "</tr></tbody>\n",
       "\n",
       "</table>\n",
       "<link href=\"https://www.unpkg.com/dt_for_itables@2.0.13/dt_bundle.css\" rel=\"stylesheet\">\n",
       "<script type=\"module\">\n",
       "    import {DataTable, jQuery as $} from 'https://www.unpkg.com/dt_for_itables@2.0.13/dt_bundle.js';\n",
       "\n",
       "    document.querySelectorAll(\"#itables_742e0269_6647_4364_9cef_7e2724939475:not(.dataTable)\").forEach(table => {\n",
       "        if (!(table instanceof HTMLTableElement))\n",
       "            return;\n",
       "\n",
       "        // Define the table data\n",
       "        const data = [[1.0, 0.173999], [2.0, 0.098265], [3.0, 0.054487], [4.0, 0.039392], [5.0, 0.038752]];\n",
       "\n",
       "        // Define the dt_args\n",
       "        let dt_args = {\"layout\": {\"topStart\": null, \"topEnd\": null, \"bottomStart\": null, \"bottomEnd\": null}, \"order\": [], \"warn_on_selected_rows_not_rendered\": true};\n",
       "        dt_args[\"data\"] = data;\n",
       "\n",
       "        \n",
       "        new DataTable(table, dt_args);\n",
       "    });\n",
       "</script>\n"
      ],
      "text/plain": [
       "<IPython.core.display.HTML object>"
      ]
     },
     "metadata": {},
     "output_type": "display_data"
    },
    {
     "data": {
      "application/vnd.plotly.v1+json": {
       "config": {
        "plotlyServerURL": "https://plot.ly"
       },
       "data": [
        {
         "alignmentgroup": "True",
         "hovertemplate": "Job Satisfaction=%{x}<br>Depression=%{y}<extra></extra>",
         "legendgroup": "",
         "marker": {
          "color": "#636efa",
          "pattern": {
           "shape": ""
          }
         },
         "name": "",
         "offsetgroup": "",
         "orientation": "v",
         "showlegend": false,
         "textposition": "auto",
         "type": "bar",
         "x": [
          1,
          2,
          3,
          4,
          5
         ],
         "xaxis": "x",
         "y": [
          0.17399874563211182,
          0.09826472962066182,
          0.0544874715261959,
          0.039391911272588204,
          0.0387515342802034
         ],
         "yaxis": "y"
        }
       ],
       "layout": {
        "barmode": "relative",
        "height": 500,
        "legend": {
         "tracegroupgap": 0
        },
        "margin": {
         "t": 60
        },
        "template": {
         "data": {
          "bar": [
           {
            "error_x": {
             "color": "rgb(51,51,51)"
            },
            "error_y": {
             "color": "rgb(51,51,51)"
            },
            "marker": {
             "line": {
              "color": "rgb(237,237,237)",
              "width": 0.5
             },
             "pattern": {
              "fillmode": "overlay",
              "size": 10,
              "solidity": 0.2
             }
            },
            "type": "bar"
           }
          ],
          "barpolar": [
           {
            "marker": {
             "line": {
              "color": "rgb(237,237,237)",
              "width": 0.5
             },
             "pattern": {
              "fillmode": "overlay",
              "size": 10,
              "solidity": 0.2
             }
            },
            "type": "barpolar"
           }
          ],
          "carpet": [
           {
            "aaxis": {
             "endlinecolor": "rgb(51,51,51)",
             "gridcolor": "white",
             "linecolor": "white",
             "minorgridcolor": "white",
             "startlinecolor": "rgb(51,51,51)"
            },
            "baxis": {
             "endlinecolor": "rgb(51,51,51)",
             "gridcolor": "white",
             "linecolor": "white",
             "minorgridcolor": "white",
             "startlinecolor": "rgb(51,51,51)"
            },
            "type": "carpet"
           }
          ],
          "choropleth": [
           {
            "colorbar": {
             "outlinewidth": 0,
             "tickcolor": "rgb(237,237,237)",
             "ticklen": 6,
             "ticks": "inside"
            },
            "type": "choropleth"
           }
          ],
          "contour": [
           {
            "colorbar": {
             "outlinewidth": 0,
             "tickcolor": "rgb(237,237,237)",
             "ticklen": 6,
             "ticks": "inside"
            },
            "colorscale": [
             [
              0,
              "rgb(20,44,66)"
             ],
             [
              1,
              "rgb(90,179,244)"
             ]
            ],
            "type": "contour"
           }
          ],
          "contourcarpet": [
           {
            "colorbar": {
             "outlinewidth": 0,
             "tickcolor": "rgb(237,237,237)",
             "ticklen": 6,
             "ticks": "inside"
            },
            "type": "contourcarpet"
           }
          ],
          "heatmap": [
           {
            "colorbar": {
             "outlinewidth": 0,
             "tickcolor": "rgb(237,237,237)",
             "ticklen": 6,
             "ticks": "inside"
            },
            "colorscale": [
             [
              0,
              "rgb(20,44,66)"
             ],
             [
              1,
              "rgb(90,179,244)"
             ]
            ],
            "type": "heatmap"
           }
          ],
          "heatmapgl": [
           {
            "colorbar": {
             "outlinewidth": 0,
             "tickcolor": "rgb(237,237,237)",
             "ticklen": 6,
             "ticks": "inside"
            },
            "colorscale": [
             [
              0,
              "rgb(20,44,66)"
             ],
             [
              1,
              "rgb(90,179,244)"
             ]
            ],
            "type": "heatmapgl"
           }
          ],
          "histogram": [
           {
            "marker": {
             "pattern": {
              "fillmode": "overlay",
              "size": 10,
              "solidity": 0.2
             }
            },
            "type": "histogram"
           }
          ],
          "histogram2d": [
           {
            "colorbar": {
             "outlinewidth": 0,
             "tickcolor": "rgb(237,237,237)",
             "ticklen": 6,
             "ticks": "inside"
            },
            "colorscale": [
             [
              0,
              "rgb(20,44,66)"
             ],
             [
              1,
              "rgb(90,179,244)"
             ]
            ],
            "type": "histogram2d"
           }
          ],
          "histogram2dcontour": [
           {
            "colorbar": {
             "outlinewidth": 0,
             "tickcolor": "rgb(237,237,237)",
             "ticklen": 6,
             "ticks": "inside"
            },
            "colorscale": [
             [
              0,
              "rgb(20,44,66)"
             ],
             [
              1,
              "rgb(90,179,244)"
             ]
            ],
            "type": "histogram2dcontour"
           }
          ],
          "mesh3d": [
           {
            "colorbar": {
             "outlinewidth": 0,
             "tickcolor": "rgb(237,237,237)",
             "ticklen": 6,
             "ticks": "inside"
            },
            "type": "mesh3d"
           }
          ],
          "parcoords": [
           {
            "line": {
             "colorbar": {
              "outlinewidth": 0,
              "tickcolor": "rgb(237,237,237)",
              "ticklen": 6,
              "ticks": "inside"
             }
            },
            "type": "parcoords"
           }
          ],
          "pie": [
           {
            "automargin": true,
            "type": "pie"
           }
          ],
          "scatter": [
           {
            "fillpattern": {
             "fillmode": "overlay",
             "size": 10,
             "solidity": 0.2
            },
            "type": "scatter"
           }
          ],
          "scatter3d": [
           {
            "line": {
             "colorbar": {
              "outlinewidth": 0,
              "tickcolor": "rgb(237,237,237)",
              "ticklen": 6,
              "ticks": "inside"
             }
            },
            "marker": {
             "colorbar": {
              "outlinewidth": 0,
              "tickcolor": "rgb(237,237,237)",
              "ticklen": 6,
              "ticks": "inside"
             }
            },
            "type": "scatter3d"
           }
          ],
          "scattercarpet": [
           {
            "marker": {
             "colorbar": {
              "outlinewidth": 0,
              "tickcolor": "rgb(237,237,237)",
              "ticklen": 6,
              "ticks": "inside"
             }
            },
            "type": "scattercarpet"
           }
          ],
          "scattergeo": [
           {
            "marker": {
             "colorbar": {
              "outlinewidth": 0,
              "tickcolor": "rgb(237,237,237)",
              "ticklen": 6,
              "ticks": "inside"
             }
            },
            "type": "scattergeo"
           }
          ],
          "scattergl": [
           {
            "marker": {
             "colorbar": {
              "outlinewidth": 0,
              "tickcolor": "rgb(237,237,237)",
              "ticklen": 6,
              "ticks": "inside"
             }
            },
            "type": "scattergl"
           }
          ],
          "scattermapbox": [
           {
            "marker": {
             "colorbar": {
              "outlinewidth": 0,
              "tickcolor": "rgb(237,237,237)",
              "ticklen": 6,
              "ticks": "inside"
             }
            },
            "type": "scattermapbox"
           }
          ],
          "scatterpolar": [
           {
            "marker": {
             "colorbar": {
              "outlinewidth": 0,
              "tickcolor": "rgb(237,237,237)",
              "ticklen": 6,
              "ticks": "inside"
             }
            },
            "type": "scatterpolar"
           }
          ],
          "scatterpolargl": [
           {
            "marker": {
             "colorbar": {
              "outlinewidth": 0,
              "tickcolor": "rgb(237,237,237)",
              "ticklen": 6,
              "ticks": "inside"
             }
            },
            "type": "scatterpolargl"
           }
          ],
          "scatterternary": [
           {
            "marker": {
             "colorbar": {
              "outlinewidth": 0,
              "tickcolor": "rgb(237,237,237)",
              "ticklen": 6,
              "ticks": "inside"
             }
            },
            "type": "scatterternary"
           }
          ],
          "surface": [
           {
            "colorbar": {
             "outlinewidth": 0,
             "tickcolor": "rgb(237,237,237)",
             "ticklen": 6,
             "ticks": "inside"
            },
            "colorscale": [
             [
              0,
              "rgb(20,44,66)"
             ],
             [
              1,
              "rgb(90,179,244)"
             ]
            ],
            "type": "surface"
           }
          ],
          "table": [
           {
            "cells": {
             "fill": {
              "color": "rgb(237,237,237)"
             },
             "line": {
              "color": "white"
             }
            },
            "header": {
             "fill": {
              "color": "rgb(217,217,217)"
             },
             "line": {
              "color": "white"
             }
            },
            "type": "table"
           }
          ]
         },
         "layout": {
          "annotationdefaults": {
           "arrowhead": 0,
           "arrowwidth": 1
          },
          "autotypenumbers": "strict",
          "coloraxis": {
           "colorbar": {
            "outlinewidth": 0,
            "tickcolor": "rgb(237,237,237)",
            "ticklen": 6,
            "ticks": "inside"
           }
          },
          "colorscale": {
           "sequential": [
            [
             0,
             "rgb(20,44,66)"
            ],
            [
             1,
             "rgb(90,179,244)"
            ]
           ],
           "sequentialminus": [
            [
             0,
             "rgb(20,44,66)"
            ],
            [
             1,
             "rgb(90,179,244)"
            ]
           ]
          },
          "colorway": [
           "#F8766D",
           "#A3A500",
           "#00BF7D",
           "#00B0F6",
           "#E76BF3"
          ],
          "font": {
           "color": "rgb(51,51,51)"
          },
          "geo": {
           "bgcolor": "white",
           "lakecolor": "white",
           "landcolor": "rgb(237,237,237)",
           "showlakes": true,
           "showland": true,
           "subunitcolor": "white"
          },
          "hoverlabel": {
           "align": "left"
          },
          "hovermode": "closest",
          "paper_bgcolor": "white",
          "plot_bgcolor": "rgb(237,237,237)",
          "polar": {
           "angularaxis": {
            "gridcolor": "white",
            "linecolor": "white",
            "showgrid": true,
            "tickcolor": "rgb(51,51,51)",
            "ticks": "outside"
           },
           "bgcolor": "rgb(237,237,237)",
           "radialaxis": {
            "gridcolor": "white",
            "linecolor": "white",
            "showgrid": true,
            "tickcolor": "rgb(51,51,51)",
            "ticks": "outside"
           }
          },
          "scene": {
           "xaxis": {
            "backgroundcolor": "rgb(237,237,237)",
            "gridcolor": "white",
            "gridwidth": 2,
            "linecolor": "white",
            "showbackground": true,
            "showgrid": true,
            "tickcolor": "rgb(51,51,51)",
            "ticks": "outside",
            "zerolinecolor": "white"
           },
           "yaxis": {
            "backgroundcolor": "rgb(237,237,237)",
            "gridcolor": "white",
            "gridwidth": 2,
            "linecolor": "white",
            "showbackground": true,
            "showgrid": true,
            "tickcolor": "rgb(51,51,51)",
            "ticks": "outside",
            "zerolinecolor": "white"
           },
           "zaxis": {
            "backgroundcolor": "rgb(237,237,237)",
            "gridcolor": "white",
            "gridwidth": 2,
            "linecolor": "white",
            "showbackground": true,
            "showgrid": true,
            "tickcolor": "rgb(51,51,51)",
            "ticks": "outside",
            "zerolinecolor": "white"
           }
          },
          "shapedefaults": {
           "fillcolor": "black",
           "line": {
            "width": 0
           },
           "opacity": 0.3
          },
          "ternary": {
           "aaxis": {
            "gridcolor": "white",
            "linecolor": "white",
            "showgrid": true,
            "tickcolor": "rgb(51,51,51)",
            "ticks": "outside"
           },
           "baxis": {
            "gridcolor": "white",
            "linecolor": "white",
            "showgrid": true,
            "tickcolor": "rgb(51,51,51)",
            "ticks": "outside"
           },
           "bgcolor": "rgb(237,237,237)",
           "caxis": {
            "gridcolor": "white",
            "linecolor": "white",
            "showgrid": true,
            "tickcolor": "rgb(51,51,51)",
            "ticks": "outside"
           }
          },
          "xaxis": {
           "automargin": true,
           "gridcolor": "white",
           "linecolor": "white",
           "showgrid": true,
           "tickcolor": "rgb(51,51,51)",
           "ticks": "outside",
           "title": {
            "standoff": 15
           },
           "zerolinecolor": "white"
          },
          "yaxis": {
           "automargin": true,
           "gridcolor": "white",
           "linecolor": "white",
           "showgrid": true,
           "tickcolor": "rgb(51,51,51)",
           "ticks": "outside",
           "title": {
            "standoff": 15
           },
           "zerolinecolor": "white"
          }
         }
        },
        "title": {
         "text": "How Do Depression Rates Change With Job Satisfaction"
        },
        "width": 800,
        "xaxis": {
         "anchor": "y",
         "autorange": true,
         "domain": [
          0,
          1
         ],
         "range": [
          0.5,
          5.5
         ],
         "title": {
          "text": "Job Satisfaction"
         },
         "type": "linear"
        },
        "yaxis": {
         "anchor": "x",
         "autorange": true,
         "domain": [
          0,
          1
         ],
         "range": [
          0,
          0.1831565743495914
         ],
         "title": {
          "text": "Depression"
         },
         "type": "linear"
        }
       }
      },
      "image/png": "[encoded data removed]",
      "text/html": [
       "<div>                            <div id=\"5c75ec9b-f493-4b61-9964-bd94d5428c54\" class=\"plotly-graph-div\" style=\"height:500px; width:800px;\"></div>            <script type=\"text/javascript\">                require([\"plotly\"], function(Plotly) {                    window.PLOTLYENV=window.PLOTLYENV || {};                                    if (document.getElementById(\"5c75ec9b-f493-4b61-9964-bd94d5428c54\")) {                    Plotly.newPlot(                        \"5c75ec9b-f493-4b61-9964-bd94d5428c54\",                        [{\"alignmentgroup\":\"True\",\"hovertemplate\":\"Job Satisfaction=%{x}\\u003cbr\\u003eDepression=%{y}\\u003cextra\\u003e\\u003c\\u002fextra\\u003e\",\"legendgroup\":\"\",\"marker\":{\"color\":\"#636efa\",\"pattern\":{\"shape\":\"\"}},\"name\":\"\",\"offsetgroup\":\"\",\"orientation\":\"v\",\"showlegend\":false,\"textposition\":\"auto\",\"x\":[1.0,2.0,3.0,4.0,5.0],\"xaxis\":\"x\",\"y\":[0.17399874563211182,0.09826472962066182,0.0544874715261959,0.039391911272588204,0.0387515342802034],\"yaxis\":\"y\",\"type\":\"bar\"}],                        {\"template\":{\"data\":{\"barpolar\":[{\"marker\":{\"line\":{\"color\":\"rgb(237,237,237)\",\"width\":0.5},\"pattern\":{\"fillmode\":\"overlay\",\"size\":10,\"solidity\":0.2}},\"type\":\"barpolar\"}],\"bar\":[{\"error_x\":{\"color\":\"rgb(51,51,51)\"},\"error_y\":{\"color\":\"rgb(51,51,51)\"},\"marker\":{\"line\":{\"color\":\"rgb(237,237,237)\",\"width\":0.5},\"pattern\":{\"fillmode\":\"overlay\",\"size\":10,\"solidity\":0.2}},\"type\":\"bar\"}],\"carpet\":[{\"aaxis\":{\"endlinecolor\":\"rgb(51,51,51)\",\"gridcolor\":\"white\",\"linecolor\":\"white\",\"minorgridcolor\":\"white\",\"startlinecolor\":\"rgb(51,51,51)\"},\"baxis\":{\"endlinecolor\":\"rgb(51,51,51)\",\"gridcolor\":\"white\",\"linecolor\":\"white\",\"minorgridcolor\":\"white\",\"startlinecolor\":\"rgb(51,51,51)\"},\"type\":\"carpet\"}],\"choropleth\":[{\"colorbar\":{\"outlinewidth\":0,\"tickcolor\":\"rgb(237,237,237)\",\"ticklen\":6,\"ticks\":\"inside\"},\"type\":\"choropleth\"}],\"contourcarpet\":[{\"colorbar\":{\"outlinewidth\":0,\"tickcolor\":\"rgb(237,237,237)\",\"ticklen\":6,\"ticks\":\"inside\"},\"type\":\"contourcarpet\"}],\"contour\":[{\"colorbar\":{\"outlinewidth\":0,\"tickcolor\":\"rgb(237,237,237)\",\"ticklen\":6,\"ticks\":\"inside\"},\"colorscale\":[[0,\"rgb(20,44,66)\"],[1,\"rgb(90,179,244)\"]],\"type\":\"contour\"}],\"heatmapgl\":[{\"colorbar\":{\"outlinewidth\":0,\"tickcolor\":\"rgb(237,237,237)\",\"ticklen\":6,\"ticks\":\"inside\"},\"colorscale\":[[0,\"rgb(20,44,66)\"],[1,\"rgb(90,179,244)\"]],\"type\":\"heatmapgl\"}],\"heatmap\":[{\"colorbar\":{\"outlinewidth\":0,\"tickcolor\":\"rgb(237,237,237)\",\"ticklen\":6,\"ticks\":\"inside\"},\"colorscale\":[[0,\"rgb(20,44,66)\"],[1,\"rgb(90,179,244)\"]],\"type\":\"heatmap\"}],\"histogram2dcontour\":[{\"colorbar\":{\"outlinewidth\":0,\"tickcolor\":\"rgb(237,237,237)\",\"ticklen\":6,\"ticks\":\"inside\"},\"colorscale\":[[0,\"rgb(20,44,66)\"],[1,\"rgb(90,179,244)\"]],\"type\":\"histogram2dcontour\"}],\"histogram2d\":[{\"colorbar\":{\"outlinewidth\":0,\"tickcolor\":\"rgb(237,237,237)\",\"ticklen\":6,\"ticks\":\"inside\"},\"colorscale\":[[0,\"rgb(20,44,66)\"],[1,\"rgb(90,179,244)\"]],\"type\":\"histogram2d\"}],\"histogram\":[{\"marker\":{\"pattern\":{\"fillmode\":\"overlay\",\"size\":10,\"solidity\":0.2}},\"type\":\"histogram\"}],\"mesh3d\":[{\"colorbar\":{\"outlinewidth\":0,\"tickcolor\":\"rgb(237,237,237)\",\"ticklen\":6,\"ticks\":\"inside\"},\"type\":\"mesh3d\"}],\"parcoords\":[{\"line\":{\"colorbar\":{\"outlinewidth\":0,\"tickcolor\":\"rgb(237,237,237)\",\"ticklen\":6,\"ticks\":\"inside\"}},\"type\":\"parcoords\"}],\"pie\":[{\"automargin\":true,\"type\":\"pie\"}],\"scatter3d\":[{\"line\":{\"colorbar\":{\"outlinewidth\":0,\"tickcolor\":\"rgb(237,237,237)\",\"ticklen\":6,\"ticks\":\"inside\"}},\"marker\":{\"colorbar\":{\"outlinewidth\":0,\"tickcolor\":\"rgb(237,237,237)\",\"ticklen\":6,\"ticks\":\"inside\"}},\"type\":\"scatter3d\"}],\"scattercarpet\":[{\"marker\":{\"colorbar\":{\"outlinewidth\":0,\"tickcolor\":\"rgb(237,237,237)\",\"ticklen\":6,\"ticks\":\"inside\"}},\"type\":\"scattercarpet\"}],\"scattergeo\":[{\"marker\":{\"colorbar\":{\"outlinewidth\":0,\"tickcolor\":\"rgb(237,237,237)\",\"ticklen\":6,\"ticks\":\"inside\"}},\"type\":\"scattergeo\"}],\"scattergl\":[{\"marker\":{\"colorbar\":{\"outlinewidth\":0,\"tickcolor\":\"rgb(237,237,237)\",\"ticklen\":6,\"ticks\":\"inside\"}},\"type\":\"scattergl\"}],\"scattermapbox\":[{\"marker\":{\"colorbar\":{\"outlinewidth\":0,\"tickcolor\":\"rgb(237,237,237)\",\"ticklen\":6,\"ticks\":\"inside\"}},\"type\":\"scattermapbox\"}],\"scatterpolargl\":[{\"marker\":{\"colorbar\":{\"outlinewidth\":0,\"tickcolor\":\"rgb(237,237,237)\",\"ticklen\":6,\"ticks\":\"inside\"}},\"type\":\"scatterpolargl\"}],\"scatterpolar\":[{\"marker\":{\"colorbar\":{\"outlinewidth\":0,\"tickcolor\":\"rgb(237,237,237)\",\"ticklen\":6,\"ticks\":\"inside\"}},\"type\":\"scatterpolar\"}],\"scatter\":[{\"fillpattern\":{\"fillmode\":\"overlay\",\"size\":10,\"solidity\":0.2},\"type\":\"scatter\"}],\"scatterternary\":[{\"marker\":{\"colorbar\":{\"outlinewidth\":0,\"tickcolor\":\"rgb(237,237,237)\",\"ticklen\":6,\"ticks\":\"inside\"}},\"type\":\"scatterternary\"}],\"surface\":[{\"colorbar\":{\"outlinewidth\":0,\"tickcolor\":\"rgb(237,237,237)\",\"ticklen\":6,\"ticks\":\"inside\"},\"colorscale\":[[0,\"rgb(20,44,66)\"],[1,\"rgb(90,179,244)\"]],\"type\":\"surface\"}],\"table\":[{\"cells\":{\"fill\":{\"color\":\"rgb(237,237,237)\"},\"line\":{\"color\":\"white\"}},\"header\":{\"fill\":{\"color\":\"rgb(217,217,217)\"},\"line\":{\"color\":\"white\"}},\"type\":\"table\"}]},\"layout\":{\"annotationdefaults\":{\"arrowhead\":0,\"arrowwidth\":1},\"autotypenumbers\":\"strict\",\"coloraxis\":{\"colorbar\":{\"outlinewidth\":0,\"tickcolor\":\"rgb(237,237,237)\",\"ticklen\":6,\"ticks\":\"inside\"}},\"colorscale\":{\"sequential\":[[0,\"rgb(20,44,66)\"],[1,\"rgb(90,179,244)\"]],\"sequentialminus\":[[0,\"rgb(20,44,66)\"],[1,\"rgb(90,179,244)\"]]},\"colorway\":[\"#F8766D\",\"#A3A500\",\"#00BF7D\",\"#00B0F6\",\"#E76BF3\"],\"font\":{\"color\":\"rgb(51,51,51)\"},\"geo\":{\"bgcolor\":\"white\",\"lakecolor\":\"white\",\"landcolor\":\"rgb(237,237,237)\",\"showlakes\":true,\"showland\":true,\"subunitcolor\":\"white\"},\"hoverlabel\":{\"align\":\"left\"},\"hovermode\":\"closest\",\"paper_bgcolor\":\"white\",\"plot_bgcolor\":\"rgb(237,237,237)\",\"polar\":{\"angularaxis\":{\"gridcolor\":\"white\",\"linecolor\":\"white\",\"showgrid\":true,\"tickcolor\":\"rgb(51,51,51)\",\"ticks\":\"outside\"},\"bgcolor\":\"rgb(237,237,237)\",\"radialaxis\":{\"gridcolor\":\"white\",\"linecolor\":\"white\",\"showgrid\":true,\"tickcolor\":\"rgb(51,51,51)\",\"ticks\":\"outside\"}},\"scene\":{\"xaxis\":{\"backgroundcolor\":\"rgb(237,237,237)\",\"gridcolor\":\"white\",\"gridwidth\":2,\"linecolor\":\"white\",\"showbackground\":true,\"showgrid\":true,\"tickcolor\":\"rgb(51,51,51)\",\"ticks\":\"outside\",\"zerolinecolor\":\"white\"},\"yaxis\":{\"backgroundcolor\":\"rgb(237,237,237)\",\"gridcolor\":\"white\",\"gridwidth\":2,\"linecolor\":\"white\",\"showbackground\":true,\"showgrid\":true,\"tickcolor\":\"rgb(51,51,51)\",\"ticks\":\"outside\",\"zerolinecolor\":\"white\"},\"zaxis\":{\"backgroundcolor\":\"rgb(237,237,237)\",\"gridcolor\":\"white\",\"gridwidth\":2,\"linecolor\":\"white\",\"showbackground\":true,\"showgrid\":true,\"tickcolor\":\"rgb(51,51,51)\",\"ticks\":\"outside\",\"zerolinecolor\":\"white\"}},\"shapedefaults\":{\"fillcolor\":\"black\",\"line\":{\"width\":0},\"opacity\":0.3},\"ternary\":{\"aaxis\":{\"gridcolor\":\"white\",\"linecolor\":\"white\",\"showgrid\":true,\"tickcolor\":\"rgb(51,51,51)\",\"ticks\":\"outside\"},\"baxis\":{\"gridcolor\":\"white\",\"linecolor\":\"white\",\"showgrid\":true,\"tickcolor\":\"rgb(51,51,51)\",\"ticks\":\"outside\"},\"bgcolor\":\"rgb(237,237,237)\",\"caxis\":{\"gridcolor\":\"white\",\"linecolor\":\"white\",\"showgrid\":true,\"tickcolor\":\"rgb(51,51,51)\",\"ticks\":\"outside\"}},\"xaxis\":{\"automargin\":true,\"gridcolor\":\"white\",\"linecolor\":\"white\",\"showgrid\":true,\"tickcolor\":\"rgb(51,51,51)\",\"ticks\":\"outside\",\"title\":{\"standoff\":15},\"zerolinecolor\":\"white\"},\"yaxis\":{\"automargin\":true,\"gridcolor\":\"white\",\"linecolor\":\"white\",\"showgrid\":true,\"tickcolor\":\"rgb(51,51,51)\",\"ticks\":\"outside\",\"title\":{\"standoff\":15},\"zerolinecolor\":\"white\"}}},\"xaxis\":{\"anchor\":\"y\",\"domain\":[0.0,1.0],\"title\":{\"text\":\"Job Satisfaction\"}},\"yaxis\":{\"anchor\":\"x\",\"domain\":[0.0,1.0],\"title\":{\"text\":\"Depression\"}},\"legend\":{\"tracegroupgap\":0},\"margin\":{\"t\":60},\"barmode\":\"relative\",\"title\":{\"text\":\"How Do Depression Rates Change With Job Satisfaction\"},\"width\":800,\"height\":500},                        {\"responsive\": true}                    ).then(function(){\n",
       "                            \n",
       "var gd = document.getElementById('5c75ec9b-f493-4b61-9964-bd94d5428c54');\n",
       "var x = new MutationObserver(function (mutations, observer) {{\n",
       "        var display = window.getComputedStyle(gd).display;\n",
       "        if (!display || display === 'none') {{\n",
       "            console.log([gd, 'removed!']);\n",
       "            Plotly.purge(gd);\n",
       "            observer.disconnect();\n",
       "        }}\n",
       "}});\n",
       "\n",
       "// Listen for the removal of the full notebook cells\n",
       "var notebookContainer = gd.closest('#notebook-container');\n",
       "if (notebookContainer) {{\n",
       "    x.observe(notebookContainer, {childList: true});\n",
       "}}\n",
       "\n",
       "// Listen for the clearing of the current output cell\n",
       "var outputEl = gd.closest('.output');\n",
       "if (outputEl) {{\n",
       "    x.observe(outputEl, {childList: true});\n",
       "}}\n",
       "\n",
       "                        })                };                });            </script>        </div>"
      ]
     },
     "metadata": {},
     "output_type": "display_data"
    }
   ],
   "source": [
    "DF_Work_Satisfaction = pd.DataFrame()\n",
    "\n",
    "DF_Work_Satisfaction['Depression'] = DF['Depression']\n",
    "DF_Work_Satisfaction['Job Satisfaction'] = DF['Job Satisfaction']\n",
    "DF_Work_Satisfaction['Working Professional or Student'] = DF['Working Professional or Student']\n",
    "\n",
    "#series of masks. First mask filters out only the students for this data frame\n",
    "mask = (DF_Work_Satisfaction['Working Professional or Student'] == \"Working Professional\")\n",
    "# this applies the mask\n",
    "DF_Work_Satisfaction = DF_Work_Satisfaction[mask]\n",
    "# deletes that column since we don't use it and it gets in the way\n",
    "del DF_Work_Satisfaction['Working Professional or Student']\n",
    "# masking to avoid ages above 35, since there are only a couple data points there and it throws off the data\n",
    "mask = (DF_Work_Satisfaction['Job Satisfaction'] <= 35)\n",
    "#applying mask\n",
    "DF_Work_Satisfaction = DF_Work_Satisfaction[mask]\n",
    "\n",
    "\n",
    "#creating first graph with students\n",
    "DF_Work_Satisfaction = DF_Work_Satisfaction.groupby('Job Satisfaction').mean().reset_index()\n",
    "show(DF_Work_Satisfaction)\n",
    "fig_workers = px.bar(DF_Work_Satisfaction, \n",
    "    x = 'Job Satisfaction',\n",
    "    y = 'Depression'\n",
    ")\n",
    "\n",
    "fig_workers.update_layout(\n",
    "                  title='How Do Depression Rates Change With Job Satisfaction',\n",
    "                  template='ggplot2',\n",
    "                  width=800,\n",
    "                  height=500,\n",
    "                      )\n",
    "fig_workers.show()"
   ]
  },
  {
   "cell_type": "code",
   "execution_count": 659,
   "id": "304d137f-37aa-49ce-926d-d4686789d6a8",
   "metadata": {},
   "outputs": [
    {
     "data": {
      "text/html": [
       "<table id=\"itables_d60462bd_e5f0_48db_94db_a5b1a5b4c415\" class=\"display nowrap\" data-quarto-disable-processing=\"true\" style=\"table-layout:auto;width:auto;margin:auto;caption-side:bottom\">\n",
       "<thead>\n",
       "    <tr style=\"text-align: right;\">\n",
       "      <th></th>\n",
       "      <th>Study Satisfaction</th>\n",
       "      <th>Depression</th>\n",
       "      <th>count</th>\n",
       "    </tr>\n",
       "  </thead><tbody><tr>\n",
       "<td style=\"vertical-align:middle; text-align:left\">\n",
       "<div style=\"float:left; margin-right: 10px;\">\n",
       "<a href=https://mwouts.github.io/itables/><svg class=\"main-svg\" xmlns=\"http://www.w3.org/2000/svg\" xmlns:xlink=\"http://www.w3.org/1999/xlink\"\n",
       "width=\"64\" viewBox=\"0 0 500 400\" style=\"font-family: 'Droid Sans', sans-serif;\">\n",
       "    <g style=\"fill:#d9d7fc\">\n",
       "        <path d=\"M100,400H500V357H100Z\" />\n",
       "        <path d=\"M100,300H400V257H100Z\" />\n",
       "        <path d=\"M0,200H400V157H0Z\" />\n",
       "        <path d=\"M100,100H500V57H100Z\" />\n",
       "        <path d=\"M100,350H500V307H100Z\" />\n",
       "        <path d=\"M100,250H400V207H100Z\" />\n",
       "        <path d=\"M0,150H400V107H0Z\" />\n",
       "        <path d=\"M100,50H500V7H100Z\" />\n",
       "    </g>\n",
       "    <g style=\"fill:#1a1366;stroke:#1a1366;\">\n",
       "   <rect x=\"100\" y=\"7\" width=\"400\" height=\"43\">\n",
       "    <animate\n",
       "      attributeName=\"width\"\n",
       "      values=\"0;400;0\"\n",
       "      dur=\"5s\"\n",
       "      repeatCount=\"indefinite\" />\n",
       "      <animate\n",
       "      attributeName=\"x\"\n",
       "      values=\"100;100;500\"\n",
       "      dur=\"5s\"\n",
       "      repeatCount=\"indefinite\" />\n",
       "  </rect>\n",
       "        <rect x=\"0\" y=\"107\" width=\"400\" height=\"43\">\n",
       "    <animate\n",
       "      attributeName=\"width\"\n",
       "      values=\"0;400;0\"\n",
       "      dur=\"3.5s\"\n",
       "      repeatCount=\"indefinite\" />\n",
       "    <animate\n",
       "      attributeName=\"x\"\n",
       "      values=\"0;0;400\"\n",
       "      dur=\"3.5s\"\n",
       "      repeatCount=\"indefinite\" />\n",
       "  </rect>\n",
       "        <rect x=\"100\" y=\"207\" width=\"300\" height=\"43\">\n",
       "    <animate\n",
       "      attributeName=\"width\"\n",
       "      values=\"0;300;0\"\n",
       "      dur=\"3s\"\n",
       "      repeatCount=\"indefinite\" />\n",
       "    <animate\n",
       "      attributeName=\"x\"\n",
       "      values=\"100;100;400\"\n",
       "      dur=\"3s\"\n",
       "      repeatCount=\"indefinite\" />\n",
       "  </rect>\n",
       "        <rect x=\"100\" y=\"307\" width=\"400\" height=\"43\">\n",
       "    <animate\n",
       "      attributeName=\"width\"\n",
       "      values=\"0;400;0\"\n",
       "      dur=\"4s\"\n",
       "      repeatCount=\"indefinite\" />\n",
       "      <animate\n",
       "      attributeName=\"x\"\n",
       "      values=\"100;100;500\"\n",
       "      dur=\"4s\"\n",
       "      repeatCount=\"indefinite\" />\n",
       "  </rect>\n",
       "        <g style=\"fill:transparent;stroke-width:8; stroke-linejoin:round\" rx=\"5\">\n",
       "            <g transform=\"translate(45 50) rotate(-45)\">\n",
       "                <circle r=\"33\" cx=\"0\" cy=\"0\" />\n",
       "                <rect x=\"-8\" y=\"32\" width=\"16\" height=\"30\" />\n",
       "            </g>\n",
       "\n",
       "            <g transform=\"translate(450 152)\">\n",
       "                <polyline points=\"-15,-20 -35,-20 -35,40 25,40 25,20\" />\n",
       "                <rect x=\"-15\" y=\"-40\" width=\"60\" height=\"60\" />\n",
       "            </g>\n",
       "\n",
       "            <g transform=\"translate(50 352)\">\n",
       "                <polygon points=\"-35,-5 0,-40 35,-5\" />\n",
       "                <polygon points=\"-35,10 0,45 35,10\" />\n",
       "            </g>\n",
       "\n",
       "            <g transform=\"translate(75 250)\">\n",
       "                <polyline points=\"-30,30 -60,0 -30,-30\" />\n",
       "                <polyline points=\"0,30 -30,0 0,-30\" />\n",
       "            </g>\n",
       "\n",
       "            <g transform=\"translate(425 250) rotate(180)\">\n",
       "                <polyline points=\"-30,30 -60,0 -30,-30\" />\n",
       "                <polyline points=\"0,30 -30,0 0,-30\" />\n",
       "            </g>\n",
       "        </g>\n",
       "    </g>\n",
       "</svg>\n",
       "</a>\n",
       "</div>\n",
       "<div>\n",
       "Loading ITables v2.2.2 from the internet...\n",
       "(need <a href=https://mwouts.github.io/itables/troubleshooting.html>help</a>?)</td>\n",
       "</div>\n",
       "</tr></tbody>\n",
       "\n",
       "</table>\n",
       "<link href=\"https://www.unpkg.com/dt_for_itables@2.0.13/dt_bundle.css\" rel=\"stylesheet\">\n",
       "<script type=\"module\">\n",
       "    import {DataTable, jQuery as $} from 'https://www.unpkg.com/dt_for_itables@2.0.13/dt_bundle.js';\n",
       "\n",
       "    document.querySelectorAll(\"#itables_d60462bd_e5f0_48db_94db_a5b1a5b4c415:not(.dataTable)\").forEach(table => {\n",
       "        if (!(table instanceof HTMLTableElement))\n",
       "            return;\n",
       "\n",
       "        // Define the table data\n",
       "        const data = [[6, 5.0, 0, 2334], [7, 5.0, 1, 2089], [3, 4.0, 1, 3265], [4, 4.0, 0, 3095], [2, 3.0, 1, 3354], [5, 3.0, 0, 2469], [1, 2.0, 1, 3769], [8, 2.0, 0, 2071], [0, 1.0, 1, 3857], [9, 1.0, 0, 1594]];\n",
       "\n",
       "        // Define the dt_args\n",
       "        let dt_args = {\"layout\": {\"topStart\": null, \"topEnd\": null, \"bottomStart\": null, \"bottomEnd\": null}, \"order\": [], \"warn_on_selected_rows_not_rendered\": true};\n",
       "        dt_args[\"data\"] = data;\n",
       "\n",
       "        \n",
       "        new DataTable(table, dt_args);\n",
       "    });\n",
       "</script>\n"
      ],
      "text/plain": [
       "<IPython.core.display.HTML object>"
      ]
     },
     "metadata": {},
     "output_type": "display_data"
    }
   ],
   "source": [
    "newvariable = (\n",
    "DF.value_counts(subset=['Study Satisfaction', 'Depression']).reset_index(name='count').sort_values(by='Study Satisfaction', ascending=False)\n",
    "    \n",
    ")\n",
    "\n",
    "funmask = newvariable['Study Satisfaction'] != 0\n",
    "df_new[mask]\n",
    "\n",
    "show(newvariable)"
   ]
  },
  {
   "cell_type": "code",
   "execution_count": 626,
   "id": "fdaee840-e6ef-4e6a-a0b6-a85cdb9e87be",
   "metadata": {},
   "outputs": [
    {
     "data": {
      "text/html": [
       "<div>\n",
       "<style scoped>\n",
       "    .dataframe tbody tr th:only-of-type {\n",
       "        vertical-align: middle;\n",
       "    }\n",
       "\n",
       "    .dataframe tbody tr th {\n",
       "        vertical-align: top;\n",
       "    }\n",
       "\n",
       "    .dataframe thead th {\n",
       "        text-align: right;\n",
       "    }\n",
       "</style>\n",
       "<table border=\"1\" class=\"dataframe\">\n",
       "  <thead>\n",
       "    <tr style=\"text-align: right;\">\n",
       "      <th></th>\n",
       "      <th>id</th>\n",
       "      <th>Name</th>\n",
       "      <th>Gender</th>\n",
       "      <th>Age</th>\n",
       "      <th>City</th>\n",
       "      <th>Working Professional or Student</th>\n",
       "      <th>Profession</th>\n",
       "      <th>Academic Pressure</th>\n",
       "      <th>Work Pressure</th>\n",
       "      <th>CGPA</th>\n",
       "      <th>Study Satisfaction</th>\n",
       "      <th>Job Satisfaction</th>\n",
       "      <th>Sleep Duration</th>\n",
       "      <th>Dietary Habits</th>\n",
       "      <th>Degree</th>\n",
       "      <th>Have you ever had suicidal thoughts ?</th>\n",
       "      <th>Work/Study Hours</th>\n",
       "      <th>Financial Stress</th>\n",
       "      <th>Family History of Mental Illness</th>\n",
       "      <th>Depression</th>\n",
       "    </tr>\n",
       "  </thead>\n",
       "  <tbody>\n",
       "    <tr>\n",
       "      <th>0</th>\n",
       "      <td>0</td>\n",
       "      <td>Aaradhya</td>\n",
       "      <td>Female</td>\n",
       "      <td>49.0</td>\n",
       "      <td>Ludhiana</td>\n",
       "      <td>Working Professional</td>\n",
       "      <td>Chef</td>\n",
       "      <td>NaN</td>\n",
       "      <td>5.0</td>\n",
       "      <td>NaN</td>\n",
       "      <td>NaN</td>\n",
       "      <td>2.0</td>\n",
       "      <td>More than 8 hours</td>\n",
       "      <td>Healthy</td>\n",
       "      <td>BHM</td>\n",
       "      <td>No</td>\n",
       "      <td>1.0</td>\n",
       "      <td>2.0</td>\n",
       "      <td>No</td>\n",
       "      <td>0</td>\n",
       "    </tr>\n",
       "    <tr>\n",
       "      <th>1</th>\n",
       "      <td>1</td>\n",
       "      <td>Vivan</td>\n",
       "      <td>Male</td>\n",
       "      <td>26.0</td>\n",
       "      <td>Varanasi</td>\n",
       "      <td>Working Professional</td>\n",
       "      <td>Teacher</td>\n",
       "      <td>NaN</td>\n",
       "      <td>4.0</td>\n",
       "      <td>NaN</td>\n",
       "      <td>NaN</td>\n",
       "      <td>3.0</td>\n",
       "      <td>Less than 5 hours</td>\n",
       "      <td>Unhealthy</td>\n",
       "      <td>LLB</td>\n",
       "      <td>Yes</td>\n",
       "      <td>7.0</td>\n",
       "      <td>3.0</td>\n",
       "      <td>No</td>\n",
       "      <td>1</td>\n",
       "    </tr>\n",
       "    <tr>\n",
       "      <th>2</th>\n",
       "      <td>2</td>\n",
       "      <td>Yuvraj</td>\n",
       "      <td>Male</td>\n",
       "      <td>33.0</td>\n",
       "      <td>Visakhapatnam</td>\n",
       "      <td>Student</td>\n",
       "      <td>NaN</td>\n",
       "      <td>5.0</td>\n",
       "      <td>NaN</td>\n",
       "      <td>8.97</td>\n",
       "      <td>2.0</td>\n",
       "      <td>NaN</td>\n",
       "      <td>5-6 hours</td>\n",
       "      <td>Healthy</td>\n",
       "      <td>B.Pharm</td>\n",
       "      <td>Yes</td>\n",
       "      <td>3.0</td>\n",
       "      <td>1.0</td>\n",
       "      <td>No</td>\n",
       "      <td>1</td>\n",
       "    </tr>\n",
       "    <tr>\n",
       "      <th>3</th>\n",
       "      <td>3</td>\n",
       "      <td>Yuvraj</td>\n",
       "      <td>Male</td>\n",
       "      <td>22.0</td>\n",
       "      <td>Mumbai</td>\n",
       "      <td>Working Professional</td>\n",
       "      <td>Teacher</td>\n",
       "      <td>NaN</td>\n",
       "      <td>5.0</td>\n",
       "      <td>NaN</td>\n",
       "      <td>NaN</td>\n",
       "      <td>1.0</td>\n",
       "      <td>Less than 5 hours</td>\n",
       "      <td>Moderate</td>\n",
       "      <td>BBA</td>\n",
       "      <td>Yes</td>\n",
       "      <td>10.0</td>\n",
       "      <td>1.0</td>\n",
       "      <td>Yes</td>\n",
       "      <td>1</td>\n",
       "    </tr>\n",
       "    <tr>\n",
       "      <th>4</th>\n",
       "      <td>4</td>\n",
       "      <td>Rhea</td>\n",
       "      <td>Female</td>\n",
       "      <td>30.0</td>\n",
       "      <td>Kanpur</td>\n",
       "      <td>Working Professional</td>\n",
       "      <td>Business Analyst</td>\n",
       "      <td>NaN</td>\n",
       "      <td>1.0</td>\n",
       "      <td>NaN</td>\n",
       "      <td>NaN</td>\n",
       "      <td>1.0</td>\n",
       "      <td>5-6 hours</td>\n",
       "      <td>Unhealthy</td>\n",
       "      <td>BBA</td>\n",
       "      <td>Yes</td>\n",
       "      <td>9.0</td>\n",
       "      <td>4.0</td>\n",
       "      <td>Yes</td>\n",
       "      <td>0</td>\n",
       "    </tr>\n",
       "    <tr>\n",
       "      <th>...</th>\n",
       "      <td>...</td>\n",
       "      <td>...</td>\n",
       "      <td>...</td>\n",
       "      <td>...</td>\n",
       "      <td>...</td>\n",
       "      <td>...</td>\n",
       "      <td>...</td>\n",
       "      <td>...</td>\n",
       "      <td>...</td>\n",
       "      <td>...</td>\n",
       "      <td>...</td>\n",
       "      <td>...</td>\n",
       "      <td>...</td>\n",
       "      <td>...</td>\n",
       "      <td>...</td>\n",
       "      <td>...</td>\n",
       "      <td>...</td>\n",
       "      <td>...</td>\n",
       "      <td>...</td>\n",
       "      <td>...</td>\n",
       "    </tr>\n",
       "    <tr>\n",
       "      <th>140695</th>\n",
       "      <td>140695</td>\n",
       "      <td>Vidya</td>\n",
       "      <td>Female</td>\n",
       "      <td>18.0</td>\n",
       "      <td>Ahmedabad</td>\n",
       "      <td>Working Professional</td>\n",
       "      <td>NaN</td>\n",
       "      <td>NaN</td>\n",
       "      <td>5.0</td>\n",
       "      <td>NaN</td>\n",
       "      <td>NaN</td>\n",
       "      <td>4.0</td>\n",
       "      <td>5-6 hours</td>\n",
       "      <td>Unhealthy</td>\n",
       "      <td>Class 12</td>\n",
       "      <td>No</td>\n",
       "      <td>2.0</td>\n",
       "      <td>4.0</td>\n",
       "      <td>Yes</td>\n",
       "      <td>1</td>\n",
       "    </tr>\n",
       "    <tr>\n",
       "      <th>140696</th>\n",
       "      <td>140696</td>\n",
       "      <td>Lata</td>\n",
       "      <td>Female</td>\n",
       "      <td>41.0</td>\n",
       "      <td>Hyderabad</td>\n",
       "      <td>Working Professional</td>\n",
       "      <td>Content Writer</td>\n",
       "      <td>NaN</td>\n",
       "      <td>5.0</td>\n",
       "      <td>NaN</td>\n",
       "      <td>NaN</td>\n",
       "      <td>4.0</td>\n",
       "      <td>7-8 hours</td>\n",
       "      <td>Moderate</td>\n",
       "      <td>B.Tech</td>\n",
       "      <td>Yes</td>\n",
       "      <td>6.0</td>\n",
       "      <td>5.0</td>\n",
       "      <td>Yes</td>\n",
       "      <td>0</td>\n",
       "    </tr>\n",
       "    <tr>\n",
       "      <th>140697</th>\n",
       "      <td>140697</td>\n",
       "      <td>Aanchal</td>\n",
       "      <td>Female</td>\n",
       "      <td>24.0</td>\n",
       "      <td>Kolkata</td>\n",
       "      <td>Working Professional</td>\n",
       "      <td>Marketing Manager</td>\n",
       "      <td>NaN</td>\n",
       "      <td>3.0</td>\n",
       "      <td>NaN</td>\n",
       "      <td>NaN</td>\n",
       "      <td>1.0</td>\n",
       "      <td>More than 8 hours</td>\n",
       "      <td>Moderate</td>\n",
       "      <td>B.Com</td>\n",
       "      <td>No</td>\n",
       "      <td>4.0</td>\n",
       "      <td>4.0</td>\n",
       "      <td>No</td>\n",
       "      <td>0</td>\n",
       "    </tr>\n",
       "    <tr>\n",
       "      <th>140698</th>\n",
       "      <td>140698</td>\n",
       "      <td>Prachi</td>\n",
       "      <td>Female</td>\n",
       "      <td>49.0</td>\n",
       "      <td>Srinagar</td>\n",
       "      <td>Working Professional</td>\n",
       "      <td>Plumber</td>\n",
       "      <td>NaN</td>\n",
       "      <td>5.0</td>\n",
       "      <td>NaN</td>\n",
       "      <td>NaN</td>\n",
       "      <td>2.0</td>\n",
       "      <td>5-6 hours</td>\n",
       "      <td>Moderate</td>\n",
       "      <td>ME</td>\n",
       "      <td>Yes</td>\n",
       "      <td>10.0</td>\n",
       "      <td>1.0</td>\n",
       "      <td>No</td>\n",
       "      <td>0</td>\n",
       "    </tr>\n",
       "    <tr>\n",
       "      <th>140699</th>\n",
       "      <td>140699</td>\n",
       "      <td>Sai</td>\n",
       "      <td>Male</td>\n",
       "      <td>27.0</td>\n",
       "      <td>Patna</td>\n",
       "      <td>Student</td>\n",
       "      <td>NaN</td>\n",
       "      <td>4.0</td>\n",
       "      <td>NaN</td>\n",
       "      <td>9.24</td>\n",
       "      <td>1.0</td>\n",
       "      <td>NaN</td>\n",
       "      <td>Less than 5 hours</td>\n",
       "      <td>Healthy</td>\n",
       "      <td>BCA</td>\n",
       "      <td>Yes</td>\n",
       "      <td>2.0</td>\n",
       "      <td>3.0</td>\n",
       "      <td>Yes</td>\n",
       "      <td>1</td>\n",
       "    </tr>\n",
       "  </tbody>\n",
       "</table>\n",
       "<p>140700 rows × 20 columns</p>\n",
       "</div>"
      ],
      "text/plain": [
       "            id      Name  Gender   Age           City  \\\n",
       "0            0  Aaradhya  Female  49.0       Ludhiana   \n",
       "1            1     Vivan    Male  26.0       Varanasi   \n",
       "2            2    Yuvraj    Male  33.0  Visakhapatnam   \n",
       "3            3    Yuvraj    Male  22.0         Mumbai   \n",
       "4            4      Rhea  Female  30.0         Kanpur   \n",
       "...        ...       ...     ...   ...            ...   \n",
       "140695  140695     Vidya  Female  18.0      Ahmedabad   \n",
       "140696  140696      Lata  Female  41.0      Hyderabad   \n",
       "140697  140697   Aanchal  Female  24.0        Kolkata   \n",
       "140698  140698    Prachi  Female  49.0       Srinagar   \n",
       "140699  140699       Sai    Male  27.0          Patna   \n",
       "\n",
       "       Working Professional or Student         Profession  Academic Pressure  \\\n",
       "0                 Working Professional               Chef                NaN   \n",
       "1                 Working Professional            Teacher                NaN   \n",
       "2                              Student                NaN                5.0   \n",
       "3                 Working Professional            Teacher                NaN   \n",
       "4                 Working Professional   Business Analyst                NaN   \n",
       "...                                ...                ...                ...   \n",
       "140695            Working Professional                NaN                NaN   \n",
       "140696            Working Professional     Content Writer                NaN   \n",
       "140697            Working Professional  Marketing Manager                NaN   \n",
       "140698            Working Professional            Plumber                NaN   \n",
       "140699                         Student                NaN                4.0   \n",
       "\n",
       "        Work Pressure  CGPA  Study Satisfaction  Job Satisfaction  \\\n",
       "0                 5.0   NaN                 NaN               2.0   \n",
       "1                 4.0   NaN                 NaN               3.0   \n",
       "2                 NaN  8.97                 2.0               NaN   \n",
       "3                 5.0   NaN                 NaN               1.0   \n",
       "4                 1.0   NaN                 NaN               1.0   \n",
       "...               ...   ...                 ...               ...   \n",
       "140695            5.0   NaN                 NaN               4.0   \n",
       "140696            5.0   NaN                 NaN               4.0   \n",
       "140697            3.0   NaN                 NaN               1.0   \n",
       "140698            5.0   NaN                 NaN               2.0   \n",
       "140699            NaN  9.24                 1.0               NaN   \n",
       "\n",
       "           Sleep Duration Dietary Habits    Degree  \\\n",
       "0       More than 8 hours        Healthy       BHM   \n",
       "1       Less than 5 hours      Unhealthy       LLB   \n",
       "2               5-6 hours        Healthy   B.Pharm   \n",
       "3       Less than 5 hours       Moderate       BBA   \n",
       "4               5-6 hours      Unhealthy       BBA   \n",
       "...                   ...            ...       ...   \n",
       "140695          5-6 hours      Unhealthy  Class 12   \n",
       "140696          7-8 hours       Moderate    B.Tech   \n",
       "140697  More than 8 hours       Moderate     B.Com   \n",
       "140698          5-6 hours       Moderate        ME   \n",
       "140699  Less than 5 hours        Healthy       BCA   \n",
       "\n",
       "       Have you ever had suicidal thoughts ?  Work/Study Hours  \\\n",
       "0                                         No               1.0   \n",
       "1                                        Yes               7.0   \n",
       "2                                        Yes               3.0   \n",
       "3                                        Yes              10.0   \n",
       "4                                        Yes               9.0   \n",
       "...                                      ...               ...   \n",
       "140695                                    No               2.0   \n",
       "140696                                   Yes               6.0   \n",
       "140697                                    No               4.0   \n",
       "140698                                   Yes              10.0   \n",
       "140699                                   Yes               2.0   \n",
       "\n",
       "        Financial Stress Family History of Mental Illness  Depression  \n",
       "0                    2.0                               No           0  \n",
       "1                    3.0                               No           1  \n",
       "2                    1.0                               No           1  \n",
       "3                    1.0                              Yes           1  \n",
       "4                    4.0                              Yes           0  \n",
       "...                  ...                              ...         ...  \n",
       "140695               4.0                              Yes           1  \n",
       "140696               5.0                              Yes           0  \n",
       "140697               4.0                               No           0  \n",
       "140698               1.0                               No           0  \n",
       "140699               3.0                              Yes           1  \n",
       "\n",
       "[140700 rows x 20 columns]"
      ]
     },
     "execution_count": 626,
     "metadata": {},
     "output_type": "execute_result"
    }
   ],
   "source": [
    "DF"
   ]
  },
  {
   "cell_type": "code",
   "execution_count": 643,
   "id": "87e6d49b-3580-43c2-a2a0-96075d3cbaf5",
   "metadata": {},
   "outputs": [
    {
     "data": {
      "text/html": [
       "<table id=\"itables_faf337da_0762_4424_9ece_12ad1995c12d\" class=\"display nowrap\" data-quarto-disable-processing=\"true\" style=\"table-layout:auto;width:auto;margin:auto;caption-side:bottom\">\n",
       "<thead>\n",
       "    <tr style=\"text-align: right;\">\n",
       "      <th></th>\n",
       "      <th>Study Satisfaction</th>\n",
       "      <th>Depression</th>\n",
       "      <th>count</th>\n",
       "    </tr>\n",
       "  </thead><tbody><tr>\n",
       "<td style=\"vertical-align:middle; text-align:left\">\n",
       "<div style=\"float:left; margin-right: 10px;\">\n",
       "<a href=https://mwouts.github.io/itables/><svg class=\"main-svg\" xmlns=\"http://www.w3.org/2000/svg\" xmlns:xlink=\"http://www.w3.org/1999/xlink\"\n",
       "width=\"64\" viewBox=\"0 0 500 400\" style=\"font-family: 'Droid Sans', sans-serif;\">\n",
       "    <g style=\"fill:#d9d7fc\">\n",
       "        <path d=\"M100,400H500V357H100Z\" />\n",
       "        <path d=\"M100,300H400V257H100Z\" />\n",
       "        <path d=\"M0,200H400V157H0Z\" />\n",
       "        <path d=\"M100,100H500V57H100Z\" />\n",
       "        <path d=\"M100,350H500V307H100Z\" />\n",
       "        <path d=\"M100,250H400V207H100Z\" />\n",
       "        <path d=\"M0,150H400V107H0Z\" />\n",
       "        <path d=\"M100,50H500V7H100Z\" />\n",
       "    </g>\n",
       "    <g style=\"fill:#1a1366;stroke:#1a1366;\">\n",
       "   <rect x=\"100\" y=\"7\" width=\"400\" height=\"43\">\n",
       "    <animate\n",
       "      attributeName=\"width\"\n",
       "      values=\"0;400;0\"\n",
       "      dur=\"5s\"\n",
       "      repeatCount=\"indefinite\" />\n",
       "      <animate\n",
       "      attributeName=\"x\"\n",
       "      values=\"100;100;500\"\n",
       "      dur=\"5s\"\n",
       "      repeatCount=\"indefinite\" />\n",
       "  </rect>\n",
       "        <rect x=\"0\" y=\"107\" width=\"400\" height=\"43\">\n",
       "    <animate\n",
       "      attributeName=\"width\"\n",
       "      values=\"0;400;0\"\n",
       "      dur=\"3.5s\"\n",
       "      repeatCount=\"indefinite\" />\n",
       "    <animate\n",
       "      attributeName=\"x\"\n",
       "      values=\"0;0;400\"\n",
       "      dur=\"3.5s\"\n",
       "      repeatCount=\"indefinite\" />\n",
       "  </rect>\n",
       "        <rect x=\"100\" y=\"207\" width=\"300\" height=\"43\">\n",
       "    <animate\n",
       "      attributeName=\"width\"\n",
       "      values=\"0;300;0\"\n",
       "      dur=\"3s\"\n",
       "      repeatCount=\"indefinite\" />\n",
       "    <animate\n",
       "      attributeName=\"x\"\n",
       "      values=\"100;100;400\"\n",
       "      dur=\"3s\"\n",
       "      repeatCount=\"indefinite\" />\n",
       "  </rect>\n",
       "        <rect x=\"100\" y=\"307\" width=\"400\" height=\"43\">\n",
       "    <animate\n",
       "      attributeName=\"width\"\n",
       "      values=\"0;400;0\"\n",
       "      dur=\"4s\"\n",
       "      repeatCount=\"indefinite\" />\n",
       "      <animate\n",
       "      attributeName=\"x\"\n",
       "      values=\"100;100;500\"\n",
       "      dur=\"4s\"\n",
       "      repeatCount=\"indefinite\" />\n",
       "  </rect>\n",
       "        <g style=\"fill:transparent;stroke-width:8; stroke-linejoin:round\" rx=\"5\">\n",
       "            <g transform=\"translate(45 50) rotate(-45)\">\n",
       "                <circle r=\"33\" cx=\"0\" cy=\"0\" />\n",
       "                <rect x=\"-8\" y=\"32\" width=\"16\" height=\"30\" />\n",
       "            </g>\n",
       "\n",
       "            <g transform=\"translate(450 152)\">\n",
       "                <polyline points=\"-15,-20 -35,-20 -35,40 25,40 25,20\" />\n",
       "                <rect x=\"-15\" y=\"-40\" width=\"60\" height=\"60\" />\n",
       "            </g>\n",
       "\n",
       "            <g transform=\"translate(50 352)\">\n",
       "                <polygon points=\"-35,-5 0,-40 35,-5\" />\n",
       "                <polygon points=\"-35,10 0,45 35,10\" />\n",
       "            </g>\n",
       "\n",
       "            <g transform=\"translate(75 250)\">\n",
       "                <polyline points=\"-30,30 -60,0 -30,-30\" />\n",
       "                <polyline points=\"0,30 -30,0 0,-30\" />\n",
       "            </g>\n",
       "\n",
       "            <g transform=\"translate(425 250) rotate(180)\">\n",
       "                <polyline points=\"-30,30 -60,0 -30,-30\" />\n",
       "                <polyline points=\"0,30 -30,0 0,-30\" />\n",
       "            </g>\n",
       "        </g>\n",
       "    </g>\n",
       "</svg>\n",
       "</a>\n",
       "</div>\n",
       "<div>\n",
       "Loading ITables v2.2.2 from the internet...\n",
       "(need <a href=https://mwouts.github.io/itables/troubleshooting.html>help</a>?)</td>\n",
       "</div>\n",
       "</tr></tbody>\n",
       "\n",
       "</table>\n",
       "<link href=\"https://www.unpkg.com/dt_for_itables@2.0.13/dt_bundle.css\" rel=\"stylesheet\">\n",
       "<script type=\"module\">\n",
       "    import {DataTable, jQuery as $} from 'https://www.unpkg.com/dt_for_itables@2.0.13/dt_bundle.js';\n",
       "\n",
       "    document.querySelectorAll(\"#itables_faf337da_0762_4424_9ece_12ad1995c12d:not(.dataTable)\").forEach(table => {\n",
       "        if (!(table instanceof HTMLTableElement))\n",
       "            return;\n",
       "\n",
       "        // Define the table data\n",
       "        const data = [[6, 5.0, 0, 2334], [7, 5.0, 1, 2089], [3, 4.0, 1, 3265], [4, 4.0, 0, 3095], [2, 3.0, 1, 3354], [5, 3.0, 0, 2469], [1, 2.0, 1, 3769], [8, 2.0, 0, 2071], [0, 1.0, 1, 3857], [9, 1.0, 0, 1594]];\n",
       "\n",
       "        // Define the dt_args\n",
       "        let dt_args = {\"layout\": {\"topStart\": null, \"topEnd\": null, \"bottomStart\": null, \"bottomEnd\": null}, \"order\": [], \"warn_on_selected_rows_not_rendered\": true};\n",
       "        dt_args[\"data\"] = data;\n",
       "\n",
       "        \n",
       "        new DataTable(table, dt_args);\n",
       "    });\n",
       "</script>\n"
      ],
      "text/plain": [
       "<IPython.core.display.HTML object>"
      ]
     },
     "metadata": {},
     "output_type": "display_data"
    },
    {
     "data": {
      "application/vnd.plotly.v1+json": {
       "config": {
        "plotlyServerURL": "https://plot.ly"
       },
       "data": [
        {
         "alignmentgroup": "True",
         "bingroup": "x",
         "histfunc": "sum",
         "hovertemplate": "Depression=0<br>Study Satisfaction=%{x}<br>sum of count=%{y}<extra></extra>",
         "legendgroup": "0",
         "marker": {
          "color": "#636efa",
          "pattern": {
           "shape": ""
          }
         },
         "name": "0",
         "offsetgroup": "0",
         "orientation": "v",
         "showlegend": true,
         "type": "histogram",
         "x": [
          5,
          4,
          3,
          2,
          1
         ],
         "xaxis": "x",
         "y": [
          2334,
          3095,
          2469,
          2071,
          1594
         ],
         "yaxis": "y"
        },
        {
         "alignmentgroup": "True",
         "bingroup": "x",
         "histfunc": "sum",
         "hovertemplate": "Depression=1<br>Study Satisfaction=%{x}<br>sum of count=%{y}<extra></extra>",
         "legendgroup": "1",
         "marker": {
          "color": "#EF553B",
          "pattern": {
           "shape": ""
          }
         },
         "name": "1",
         "offsetgroup": "1",
         "orientation": "v",
         "showlegend": true,
         "type": "histogram",
         "x": [
          5,
          4,
          3,
          2,
          1
         ],
         "xaxis": "x",
         "y": [
          2089,
          3265,
          3354,
          3769,
          3857
         ],
         "yaxis": "y"
        }
       ],
       "layout": {
        "barmode": "relative",
        "height": 500,
        "legend": {
         "title": {
          "text": "Depression"
         },
         "tracegroupgap": 0
        },
        "margin": {
         "t": 60
        },
        "template": {
         "data": {
          "bar": [
           {
            "error_x": {
             "color": "rgb(51,51,51)"
            },
            "error_y": {
             "color": "rgb(51,51,51)"
            },
            "marker": {
             "line": {
              "color": "rgb(237,237,237)",
              "width": 0.5
             },
             "pattern": {
              "fillmode": "overlay",
              "size": 10,
              "solidity": 0.2
             }
            },
            "type": "bar"
           }
          ],
          "barpolar": [
           {
            "marker": {
             "line": {
              "color": "rgb(237,237,237)",
              "width": 0.5
             },
             "pattern": {
              "fillmode": "overlay",
              "size": 10,
              "solidity": 0.2
             }
            },
            "type": "barpolar"
           }
          ],
          "carpet": [
           {
            "aaxis": {
             "endlinecolor": "rgb(51,51,51)",
             "gridcolor": "white",
             "linecolor": "white",
             "minorgridcolor": "white",
             "startlinecolor": "rgb(51,51,51)"
            },
            "baxis": {
             "endlinecolor": "rgb(51,51,51)",
             "gridcolor": "white",
             "linecolor": "white",
             "minorgridcolor": "white",
             "startlinecolor": "rgb(51,51,51)"
            },
            "type": "carpet"
           }
          ],
          "choropleth": [
           {
            "colorbar": {
             "outlinewidth": 0,
             "tickcolor": "rgb(237,237,237)",
             "ticklen": 6,
             "ticks": "inside"
            },
            "type": "choropleth"
           }
          ],
          "contour": [
           {
            "colorbar": {
             "outlinewidth": 0,
             "tickcolor": "rgb(237,237,237)",
             "ticklen": 6,
             "ticks": "inside"
            },
            "colorscale": [
             [
              0,
              "rgb(20,44,66)"
             ],
             [
              1,
              "rgb(90,179,244)"
             ]
            ],
            "type": "contour"
           }
          ],
          "contourcarpet": [
           {
            "colorbar": {
             "outlinewidth": 0,
             "tickcolor": "rgb(237,237,237)",
             "ticklen": 6,
             "ticks": "inside"
            },
            "type": "contourcarpet"
           }
          ],
          "heatmap": [
           {
            "colorbar": {
             "outlinewidth": 0,
             "tickcolor": "rgb(237,237,237)",
             "ticklen": 6,
             "ticks": "inside"
            },
            "colorscale": [
             [
              0,
              "rgb(20,44,66)"
             ],
             [
              1,
              "rgb(90,179,244)"
             ]
            ],
            "type": "heatmap"
           }
          ],
          "heatmapgl": [
           {
            "colorbar": {
             "outlinewidth": 0,
             "tickcolor": "rgb(237,237,237)",
             "ticklen": 6,
             "ticks": "inside"
            },
            "colorscale": [
             [
              0,
              "rgb(20,44,66)"
             ],
             [
              1,
              "rgb(90,179,244)"
             ]
            ],
            "type": "heatmapgl"
           }
          ],
          "histogram": [
           {
            "marker": {
             "pattern": {
              "fillmode": "overlay",
              "size": 10,
              "solidity": 0.2
             }
            },
            "type": "histogram"
           }
          ],
          "histogram2d": [
           {
            "colorbar": {
             "outlinewidth": 0,
             "tickcolor": "rgb(237,237,237)",
             "ticklen": 6,
             "ticks": "inside"
            },
            "colorscale": [
             [
              0,
              "rgb(20,44,66)"
             ],
             [
              1,
              "rgb(90,179,244)"
             ]
            ],
            "type": "histogram2d"
           }
          ],
          "histogram2dcontour": [
           {
            "colorbar": {
             "outlinewidth": 0,
             "tickcolor": "rgb(237,237,237)",
             "ticklen": 6,
             "ticks": "inside"
            },
            "colorscale": [
             [
              0,
              "rgb(20,44,66)"
             ],
             [
              1,
              "rgb(90,179,244)"
             ]
            ],
            "type": "histogram2dcontour"
           }
          ],
          "mesh3d": [
           {
            "colorbar": {
             "outlinewidth": 0,
             "tickcolor": "rgb(237,237,237)",
             "ticklen": 6,
             "ticks": "inside"
            },
            "type": "mesh3d"
           }
          ],
          "parcoords": [
           {
            "line": {
             "colorbar": {
              "outlinewidth": 0,
              "tickcolor": "rgb(237,237,237)",
              "ticklen": 6,
              "ticks": "inside"
             }
            },
            "type": "parcoords"
           }
          ],
          "pie": [
           {
            "automargin": true,
            "type": "pie"
           }
          ],
          "scatter": [
           {
            "fillpattern": {
             "fillmode": "overlay",
             "size": 10,
             "solidity": 0.2
            },
            "type": "scatter"
           }
          ],
          "scatter3d": [
           {
            "line": {
             "colorbar": {
              "outlinewidth": 0,
              "tickcolor": "rgb(237,237,237)",
              "ticklen": 6,
              "ticks": "inside"
             }
            },
            "marker": {
             "colorbar": {
              "outlinewidth": 0,
              "tickcolor": "rgb(237,237,237)",
              "ticklen": 6,
              "ticks": "inside"
             }
            },
            "type": "scatter3d"
           }
          ],
          "scattercarpet": [
           {
            "marker": {
             "colorbar": {
              "outlinewidth": 0,
              "tickcolor": "rgb(237,237,237)",
              "ticklen": 6,
              "ticks": "inside"
             }
            },
            "type": "scattercarpet"
           }
          ],
          "scattergeo": [
           {
            "marker": {
             "colorbar": {
              "outlinewidth": 0,
              "tickcolor": "rgb(237,237,237)",
              "ticklen": 6,
              "ticks": "inside"
             }
            },
            "type": "scattergeo"
           }
          ],
          "scattergl": [
           {
            "marker": {
             "colorbar": {
              "outlinewidth": 0,
              "tickcolor": "rgb(237,237,237)",
              "ticklen": 6,
              "ticks": "inside"
             }
            },
            "type": "scattergl"
           }
          ],
          "scattermapbox": [
           {
            "marker": {
             "colorbar": {
              "outlinewidth": 0,
              "tickcolor": "rgb(237,237,237)",
              "ticklen": 6,
              "ticks": "inside"
             }
            },
            "type": "scattermapbox"
           }
          ],
          "scatterpolar": [
           {
            "marker": {
             "colorbar": {
              "outlinewidth": 0,
              "tickcolor": "rgb(237,237,237)",
              "ticklen": 6,
              "ticks": "inside"
             }
            },
            "type": "scatterpolar"
           }
          ],
          "scatterpolargl": [
           {
            "marker": {
             "colorbar": {
              "outlinewidth": 0,
              "tickcolor": "rgb(237,237,237)",
              "ticklen": 6,
              "ticks": "inside"
             }
            },
            "type": "scatterpolargl"
           }
          ],
          "scatterternary": [
           {
            "marker": {
             "colorbar": {
              "outlinewidth": 0,
              "tickcolor": "rgb(237,237,237)",
              "ticklen": 6,
              "ticks": "inside"
             }
            },
            "type": "scatterternary"
           }
          ],
          "surface": [
           {
            "colorbar": {
             "outlinewidth": 0,
             "tickcolor": "rgb(237,237,237)",
             "ticklen": 6,
             "ticks": "inside"
            },
            "colorscale": [
             [
              0,
              "rgb(20,44,66)"
             ],
             [
              1,
              "rgb(90,179,244)"
             ]
            ],
            "type": "surface"
           }
          ],
          "table": [
           {
            "cells": {
             "fill": {
              "color": "rgb(237,237,237)"
             },
             "line": {
              "color": "white"
             }
            },
            "header": {
             "fill": {
              "color": "rgb(217,217,217)"
             },
             "line": {
              "color": "white"
             }
            },
            "type": "table"
           }
          ]
         },
         "layout": {
          "annotationdefaults": {
           "arrowhead": 0,
           "arrowwidth": 1
          },
          "autotypenumbers": "strict",
          "coloraxis": {
           "colorbar": {
            "outlinewidth": 0,
            "tickcolor": "rgb(237,237,237)",
            "ticklen": 6,
            "ticks": "inside"
           }
          },
          "colorscale": {
           "sequential": [
            [
             0,
             "rgb(20,44,66)"
            ],
            [
             1,
             "rgb(90,179,244)"
            ]
           ],
           "sequentialminus": [
            [
             0,
             "rgb(20,44,66)"
            ],
            [
             1,
             "rgb(90,179,244)"
            ]
           ]
          },
          "colorway": [
           "#F8766D",
           "#A3A500",
           "#00BF7D",
           "#00B0F6",
           "#E76BF3"
          ],
          "font": {
           "color": "rgb(51,51,51)"
          },
          "geo": {
           "bgcolor": "white",
           "lakecolor": "white",
           "landcolor": "rgb(237,237,237)",
           "showlakes": true,
           "showland": true,
           "subunitcolor": "white"
          },
          "hoverlabel": {
           "align": "left"
          },
          "hovermode": "closest",
          "paper_bgcolor": "white",
          "plot_bgcolor": "rgb(237,237,237)",
          "polar": {
           "angularaxis": {
            "gridcolor": "white",
            "linecolor": "white",
            "showgrid": true,
            "tickcolor": "rgb(51,51,51)",
            "ticks": "outside"
           },
           "bgcolor": "rgb(237,237,237)",
           "radialaxis": {
            "gridcolor": "white",
            "linecolor": "white",
            "showgrid": true,
            "tickcolor": "rgb(51,51,51)",
            "ticks": "outside"
           }
          },
          "scene": {
           "xaxis": {
            "backgroundcolor": "rgb(237,237,237)",
            "gridcolor": "white",
            "gridwidth": 2,
            "linecolor": "white",
            "showbackground": true,
            "showgrid": true,
            "tickcolor": "rgb(51,51,51)",
            "ticks": "outside",
            "zerolinecolor": "white"
           },
           "yaxis": {
            "backgroundcolor": "rgb(237,237,237)",
            "gridcolor": "white",
            "gridwidth": 2,
            "linecolor": "white",
            "showbackground": true,
            "showgrid": true,
            "tickcolor": "rgb(51,51,51)",
            "ticks": "outside",
            "zerolinecolor": "white"
           },
           "zaxis": {
            "backgroundcolor": "rgb(237,237,237)",
            "gridcolor": "white",
            "gridwidth": 2,
            "linecolor": "white",
            "showbackground": true,
            "showgrid": true,
            "tickcolor": "rgb(51,51,51)",
            "ticks": "outside",
            "zerolinecolor": "white"
           }
          },
          "shapedefaults": {
           "fillcolor": "black",
           "line": {
            "width": 0
           },
           "opacity": 0.3
          },
          "ternary": {
           "aaxis": {
            "gridcolor": "white",
            "linecolor": "white",
            "showgrid": true,
            "tickcolor": "rgb(51,51,51)",
            "ticks": "outside"
           },
           "baxis": {
            "gridcolor": "white",
            "linecolor": "white",
            "showgrid": true,
            "tickcolor": "rgb(51,51,51)",
            "ticks": "outside"
           },
           "bgcolor": "rgb(237,237,237)",
           "caxis": {
            "gridcolor": "white",
            "linecolor": "white",
            "showgrid": true,
            "tickcolor": "rgb(51,51,51)",
            "ticks": "outside"
           }
          },
          "xaxis": {
           "automargin": true,
           "gridcolor": "white",
           "linecolor": "white",
           "showgrid": true,
           "tickcolor": "rgb(51,51,51)",
           "ticks": "outside",
           "title": {
            "standoff": 15
           },
           "zerolinecolor": "white"
          },
          "yaxis": {
           "automargin": true,
           "gridcolor": "white",
           "linecolor": "white",
           "showgrid": true,
           "tickcolor": "rgb(51,51,51)",
           "ticks": "outside",
           "title": {
            "standoff": 15
           },
           "zerolinecolor": "white"
          }
         }
        },
        "title": {
         "text": "How Do Depression Rates Change With Job Satisfaction"
        },
        "width": 800,
        "xaxis": {
         "anchor": "y",
         "autorange": true,
         "domain": [
          0,
          1
         ],
         "range": [
          -0.5,
          5.5
         ],
         "title": {
          "text": "Study Satisfaction"
         },
         "type": "linear"
        },
        "yaxis": {
         "anchor": "x",
         "autorange": true,
         "domain": [
          0,
          1
         ],
         "range": [
          0,
          12276.842105263158
         ],
         "title": {
          "text": "sum of count"
         },
         "type": "linear"
        }
       }
      },
      "image/png": "[encoded data removed]",
      "text/html": [
       "<div>                            <div id=\"23511270-17db-4edb-a885-1d5065f42bba\" class=\"plotly-graph-div\" style=\"height:500px; width:800px;\"></div>            <script type=\"text/javascript\">                require([\"plotly\"], function(Plotly) {                    window.PLOTLYENV=window.PLOTLYENV || {};                                    if (document.getElementById(\"23511270-17db-4edb-a885-1d5065f42bba\")) {                    Plotly.newPlot(                        \"23511270-17db-4edb-a885-1d5065f42bba\",                        [{\"alignmentgroup\":\"True\",\"bingroup\":\"x\",\"histfunc\":\"sum\",\"hovertemplate\":\"Depression=0\\u003cbr\\u003eStudy Satisfaction=%{x}\\u003cbr\\u003esum of count=%{y}\\u003cextra\\u003e\\u003c\\u002fextra\\u003e\",\"legendgroup\":\"0\",\"marker\":{\"color\":\"#636efa\",\"pattern\":{\"shape\":\"\"}},\"name\":\"0\",\"offsetgroup\":\"0\",\"orientation\":\"v\",\"showlegend\":true,\"x\":[5.0,4.0,3.0,2.0,1.0],\"xaxis\":\"x\",\"y\":[2334,3095,2469,2071,1594],\"yaxis\":\"y\",\"type\":\"histogram\"},{\"alignmentgroup\":\"True\",\"bingroup\":\"x\",\"histfunc\":\"sum\",\"hovertemplate\":\"Depression=1\\u003cbr\\u003eStudy Satisfaction=%{x}\\u003cbr\\u003esum of count=%{y}\\u003cextra\\u003e\\u003c\\u002fextra\\u003e\",\"legendgroup\":\"1\",\"marker\":{\"color\":\"#EF553B\",\"pattern\":{\"shape\":\"\"}},\"name\":\"1\",\"offsetgroup\":\"1\",\"orientation\":\"v\",\"showlegend\":true,\"x\":[5.0,4.0,3.0,2.0,1.0],\"xaxis\":\"x\",\"y\":[2089,3265,3354,3769,3857],\"yaxis\":\"y\",\"type\":\"histogram\"}],                        {\"template\":{\"data\":{\"barpolar\":[{\"marker\":{\"line\":{\"color\":\"rgb(237,237,237)\",\"width\":0.5},\"pattern\":{\"fillmode\":\"overlay\",\"size\":10,\"solidity\":0.2}},\"type\":\"barpolar\"}],\"bar\":[{\"error_x\":{\"color\":\"rgb(51,51,51)\"},\"error_y\":{\"color\":\"rgb(51,51,51)\"},\"marker\":{\"line\":{\"color\":\"rgb(237,237,237)\",\"width\":0.5},\"pattern\":{\"fillmode\":\"overlay\",\"size\":10,\"solidity\":0.2}},\"type\":\"bar\"}],\"carpet\":[{\"aaxis\":{\"endlinecolor\":\"rgb(51,51,51)\",\"gridcolor\":\"white\",\"linecolor\":\"white\",\"minorgridcolor\":\"white\",\"startlinecolor\":\"rgb(51,51,51)\"},\"baxis\":{\"endlinecolor\":\"rgb(51,51,51)\",\"gridcolor\":\"white\",\"linecolor\":\"white\",\"minorgridcolor\":\"white\",\"startlinecolor\":\"rgb(51,51,51)\"},\"type\":\"carpet\"}],\"choropleth\":[{\"colorbar\":{\"outlinewidth\":0,\"tickcolor\":\"rgb(237,237,237)\",\"ticklen\":6,\"ticks\":\"inside\"},\"type\":\"choropleth\"}],\"contourcarpet\":[{\"colorbar\":{\"outlinewidth\":0,\"tickcolor\":\"rgb(237,237,237)\",\"ticklen\":6,\"ticks\":\"inside\"},\"type\":\"contourcarpet\"}],\"contour\":[{\"colorbar\":{\"outlinewidth\":0,\"tickcolor\":\"rgb(237,237,237)\",\"ticklen\":6,\"ticks\":\"inside\"},\"colorscale\":[[0,\"rgb(20,44,66)\"],[1,\"rgb(90,179,244)\"]],\"type\":\"contour\"}],\"heatmapgl\":[{\"colorbar\":{\"outlinewidth\":0,\"tickcolor\":\"rgb(237,237,237)\",\"ticklen\":6,\"ticks\":\"inside\"},\"colorscale\":[[0,\"rgb(20,44,66)\"],[1,\"rgb(90,179,244)\"]],\"type\":\"heatmapgl\"}],\"heatmap\":[{\"colorbar\":{\"outlinewidth\":0,\"tickcolor\":\"rgb(237,237,237)\",\"ticklen\":6,\"ticks\":\"inside\"},\"colorscale\":[[0,\"rgb(20,44,66)\"],[1,\"rgb(90,179,244)\"]],\"type\":\"heatmap\"}],\"histogram2dcontour\":[{\"colorbar\":{\"outlinewidth\":0,\"tickcolor\":\"rgb(237,237,237)\",\"ticklen\":6,\"ticks\":\"inside\"},\"colorscale\":[[0,\"rgb(20,44,66)\"],[1,\"rgb(90,179,244)\"]],\"type\":\"histogram2dcontour\"}],\"histogram2d\":[{\"colorbar\":{\"outlinewidth\":0,\"tickcolor\":\"rgb(237,237,237)\",\"ticklen\":6,\"ticks\":\"inside\"},\"colorscale\":[[0,\"rgb(20,44,66)\"],[1,\"rgb(90,179,244)\"]],\"type\":\"histogram2d\"}],\"histogram\":[{\"marker\":{\"pattern\":{\"fillmode\":\"overlay\",\"size\":10,\"solidity\":0.2}},\"type\":\"histogram\"}],\"mesh3d\":[{\"colorbar\":{\"outlinewidth\":0,\"tickcolor\":\"rgb(237,237,237)\",\"ticklen\":6,\"ticks\":\"inside\"},\"type\":\"mesh3d\"}],\"parcoords\":[{\"line\":{\"colorbar\":{\"outlinewidth\":0,\"tickcolor\":\"rgb(237,237,237)\",\"ticklen\":6,\"ticks\":\"inside\"}},\"type\":\"parcoords\"}],\"pie\":[{\"automargin\":true,\"type\":\"pie\"}],\"scatter3d\":[{\"line\":{\"colorbar\":{\"outlinewidth\":0,\"tickcolor\":\"rgb(237,237,237)\",\"ticklen\":6,\"ticks\":\"inside\"}},\"marker\":{\"colorbar\":{\"outlinewidth\":0,\"tickcolor\":\"rgb(237,237,237)\",\"ticklen\":6,\"ticks\":\"inside\"}},\"type\":\"scatter3d\"}],\"scattercarpet\":[{\"marker\":{\"colorbar\":{\"outlinewidth\":0,\"tickcolor\":\"rgb(237,237,237)\",\"ticklen\":6,\"ticks\":\"inside\"}},\"type\":\"scattercarpet\"}],\"scattergeo\":[{\"marker\":{\"colorbar\":{\"outlinewidth\":0,\"tickcolor\":\"rgb(237,237,237)\",\"ticklen\":6,\"ticks\":\"inside\"}},\"type\":\"scattergeo\"}],\"scattergl\":[{\"marker\":{\"colorbar\":{\"outlinewidth\":0,\"tickcolor\":\"rgb(237,237,237)\",\"ticklen\":6,\"ticks\":\"inside\"}},\"type\":\"scattergl\"}],\"scattermapbox\":[{\"marker\":{\"colorbar\":{\"outlinewidth\":0,\"tickcolor\":\"rgb(237,237,237)\",\"ticklen\":6,\"ticks\":\"inside\"}},\"type\":\"scattermapbox\"}],\"scatterpolargl\":[{\"marker\":{\"colorbar\":{\"outlinewidth\":0,\"tickcolor\":\"rgb(237,237,237)\",\"ticklen\":6,\"ticks\":\"inside\"}},\"type\":\"scatterpolargl\"}],\"scatterpolar\":[{\"marker\":{\"colorbar\":{\"outlinewidth\":0,\"tickcolor\":\"rgb(237,237,237)\",\"ticklen\":6,\"ticks\":\"inside\"}},\"type\":\"scatterpolar\"}],\"scatter\":[{\"fillpattern\":{\"fillmode\":\"overlay\",\"size\":10,\"solidity\":0.2},\"type\":\"scatter\"}],\"scatterternary\":[{\"marker\":{\"colorbar\":{\"outlinewidth\":0,\"tickcolor\":\"rgb(237,237,237)\",\"ticklen\":6,\"ticks\":\"inside\"}},\"type\":\"scatterternary\"}],\"surface\":[{\"colorbar\":{\"outlinewidth\":0,\"tickcolor\":\"rgb(237,237,237)\",\"ticklen\":6,\"ticks\":\"inside\"},\"colorscale\":[[0,\"rgb(20,44,66)\"],[1,\"rgb(90,179,244)\"]],\"type\":\"surface\"}],\"table\":[{\"cells\":{\"fill\":{\"color\":\"rgb(237,237,237)\"},\"line\":{\"color\":\"white\"}},\"header\":{\"fill\":{\"color\":\"rgb(217,217,217)\"},\"line\":{\"color\":\"white\"}},\"type\":\"table\"}]},\"layout\":{\"annotationdefaults\":{\"arrowhead\":0,\"arrowwidth\":1},\"autotypenumbers\":\"strict\",\"coloraxis\":{\"colorbar\":{\"outlinewidth\":0,\"tickcolor\":\"rgb(237,237,237)\",\"ticklen\":6,\"ticks\":\"inside\"}},\"colorscale\":{\"sequential\":[[0,\"rgb(20,44,66)\"],[1,\"rgb(90,179,244)\"]],\"sequentialminus\":[[0,\"rgb(20,44,66)\"],[1,\"rgb(90,179,244)\"]]},\"colorway\":[\"#F8766D\",\"#A3A500\",\"#00BF7D\",\"#00B0F6\",\"#E76BF3\"],\"font\":{\"color\":\"rgb(51,51,51)\"},\"geo\":{\"bgcolor\":\"white\",\"lakecolor\":\"white\",\"landcolor\":\"rgb(237,237,237)\",\"showlakes\":true,\"showland\":true,\"subunitcolor\":\"white\"},\"hoverlabel\":{\"align\":\"left\"},\"hovermode\":\"closest\",\"paper_bgcolor\":\"white\",\"plot_bgcolor\":\"rgb(237,237,237)\",\"polar\":{\"angularaxis\":{\"gridcolor\":\"white\",\"linecolor\":\"white\",\"showgrid\":true,\"tickcolor\":\"rgb(51,51,51)\",\"ticks\":\"outside\"},\"bgcolor\":\"rgb(237,237,237)\",\"radialaxis\":{\"gridcolor\":\"white\",\"linecolor\":\"white\",\"showgrid\":true,\"tickcolor\":\"rgb(51,51,51)\",\"ticks\":\"outside\"}},\"scene\":{\"xaxis\":{\"backgroundcolor\":\"rgb(237,237,237)\",\"gridcolor\":\"white\",\"gridwidth\":2,\"linecolor\":\"white\",\"showbackground\":true,\"showgrid\":true,\"tickcolor\":\"rgb(51,51,51)\",\"ticks\":\"outside\",\"zerolinecolor\":\"white\"},\"yaxis\":{\"backgroundcolor\":\"rgb(237,237,237)\",\"gridcolor\":\"white\",\"gridwidth\":2,\"linecolor\":\"white\",\"showbackground\":true,\"showgrid\":true,\"tickcolor\":\"rgb(51,51,51)\",\"ticks\":\"outside\",\"zerolinecolor\":\"white\"},\"zaxis\":{\"backgroundcolor\":\"rgb(237,237,237)\",\"gridcolor\":\"white\",\"gridwidth\":2,\"linecolor\":\"white\",\"showbackground\":true,\"showgrid\":true,\"tickcolor\":\"rgb(51,51,51)\",\"ticks\":\"outside\",\"zerolinecolor\":\"white\"}},\"shapedefaults\":{\"fillcolor\":\"black\",\"line\":{\"width\":0},\"opacity\":0.3},\"ternary\":{\"aaxis\":{\"gridcolor\":\"white\",\"linecolor\":\"white\",\"showgrid\":true,\"tickcolor\":\"rgb(51,51,51)\",\"ticks\":\"outside\"},\"baxis\":{\"gridcolor\":\"white\",\"linecolor\":\"white\",\"showgrid\":true,\"tickcolor\":\"rgb(51,51,51)\",\"ticks\":\"outside\"},\"bgcolor\":\"rgb(237,237,237)\",\"caxis\":{\"gridcolor\":\"white\",\"linecolor\":\"white\",\"showgrid\":true,\"tickcolor\":\"rgb(51,51,51)\",\"ticks\":\"outside\"}},\"xaxis\":{\"automargin\":true,\"gridcolor\":\"white\",\"linecolor\":\"white\",\"showgrid\":true,\"tickcolor\":\"rgb(51,51,51)\",\"ticks\":\"outside\",\"title\":{\"standoff\":15},\"zerolinecolor\":\"white\"},\"yaxis\":{\"automargin\":true,\"gridcolor\":\"white\",\"linecolor\":\"white\",\"showgrid\":true,\"tickcolor\":\"rgb(51,51,51)\",\"ticks\":\"outside\",\"title\":{\"standoff\":15},\"zerolinecolor\":\"white\"}}},\"xaxis\":{\"anchor\":\"y\",\"domain\":[0.0,1.0],\"title\":{\"text\":\"Study Satisfaction\"}},\"yaxis\":{\"anchor\":\"x\",\"domain\":[0.0,1.0],\"title\":{\"text\":\"sum of count\"}},\"legend\":{\"title\":{\"text\":\"Depression\"},\"tracegroupgap\":0},\"margin\":{\"t\":60},\"barmode\":\"relative\",\"title\":{\"text\":\"How Do Depression Rates Change With Job Satisfaction\"},\"width\":800,\"height\":500},                        {\"responsive\": true}                    ).then(function(){\n",
       "                            \n",
       "var gd = document.getElementById('23511270-17db-4edb-a885-1d5065f42bba');\n",
       "var x = new MutationObserver(function (mutations, observer) {{\n",
       "        var display = window.getComputedStyle(gd).display;\n",
       "        if (!display || display === 'none') {{\n",
       "            console.log([gd, 'removed!']);\n",
       "            Plotly.purge(gd);\n",
       "            observer.disconnect();\n",
       "        }}\n",
       "}});\n",
       "\n",
       "// Listen for the removal of the full notebook cells\n",
       "var notebookContainer = gd.closest('#notebook-container');\n",
       "if (notebookContainer) {{\n",
       "    x.observe(notebookContainer, {childList: true});\n",
       "}}\n",
       "\n",
       "// Listen for the clearing of the current output cell\n",
       "var outputEl = gd.closest('.output');\n",
       "if (outputEl) {{\n",
       "    x.observe(outputEl, {childList: true});\n",
       "}}\n",
       "\n",
       "                        })                };                });            </script>        </div>"
      ]
     },
     "metadata": {},
     "output_type": "display_data"
    }
   ],
   "source": [
    "DF_Depression_Influence = (\n",
    "DF.value_counts(subset=['Study Satisfaction', 'Depression']).reset_index(name='count').sort_values(by='Study Satisfaction', ascending=False)\n",
    ") \n",
    "show(DF_Depression_Influence)\n",
    "fig = px.histogram(DF_Depression_Influence,\n",
    "    x = 'Study Satisfaction',\n",
    "                   y = 'count',\n",
    "                   color = 'Depression'\n",
    ")\n",
    "fig.update_layout(\n",
    "                  title='How Do Depression Rates Change With Job Satisfaction',\n",
    "                  template='ggplot2',\n",
    "                  width=800,\n",
    "                  height=500,\n",
    "                      )\n",
    "fig.show()\n",
    "\n"
   ]
  }
 ],
 "metadata": {
  "kernelspec": {
   "display_name": "Python 3 (ipykernel)",
   "language": "python",
   "name": "python3"
  },
  "language_info": {
   "codemirror_mode": {
    "name": "ipython",
    "version": 3
   },
   "file_extension": ".py",
   "mimetype": "text/x-python",
   "name": "python",
   "nbconvert_exporter": "python",
   "pygments_lexer": "ipython3",
   "version": "3.12.2"
  }
 },
 "nbformat": 4,
 "nbformat_minor": 5
}
