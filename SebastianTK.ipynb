{
 "cells": [
  {
   "cell_type": "markdown",
   "id": "ff4dfaf8-72a6-4c22-82a3-908bc01832b5",
   "metadata": {},
   "source": [
    "# Final Data Science Project\n",
    "## By: Sebastian Tucker-Kyriakos"
   ]
  },
  {
   "cell_type": "code",
   "execution_count": 254,
   "id": "16886eb4-66fc-4c35-92a4-8d2ef4059fba",
   "metadata": {},
   "outputs": [],
   "source": [
    "import numpy as np\n",
    "import pandas as pd\n",
    "\n",
    "import matplotlib.pyplot as plt\n",
    "import plotly.express as px\n",
    "from plotly.subplots import make_subplots\n",
    "import plotly.io as pio\n",
    "pio.renderers.defaule = 'colab'\n",
    "\n",
    "from itables import show"
   ]
  },
  {
   "cell_type": "code",
   "execution_count": 256,
   "id": "b9e570f4-dba7-4f3a-9b5b-187aa68e3e8a",
   "metadata": {},
   "outputs": [
    {
     "data": {
      "text/html": [
       "<table id=\"itables_026cd281_62a2_43d1_9fc4_d3366a6c1133\" class=\"display nowrap\" data-quarto-disable-processing=\"true\" style=\"table-layout:auto;width:auto;margin:auto;caption-side:bottom\">\n",
       "<thead>\n",
       "    <tr style=\"text-align: right;\">\n",
       "      \n",
       "      <th>id</th>\n",
       "      <th>Name</th>\n",
       "      <th>Gender</th>\n",
       "      <th>Age</th>\n",
       "      <th>City</th>\n",
       "      <th>Working Professional or Student</th>\n",
       "      <th>Profession</th>\n",
       "      <th>Academic Pressure</th>\n",
       "      <th>Work Pressure</th>\n",
       "      <th>CGPA</th>\n",
       "      <th>Study Satisfaction</th>\n",
       "      <th>Job Satisfaction</th>\n",
       "      <th>Sleep Duration</th>\n",
       "      <th>Dietary Habits</th>\n",
       "      <th>Degree</th>\n",
       "      <th>Have you ever had suicidal thoughts ?</th>\n",
       "      <th>Work/Study Hours</th>\n",
       "      <th>Financial Stress</th>\n",
       "      <th>Family History of Mental Illness</th>\n",
       "      <th>Depression</th>\n",
       "    </tr>\n",
       "  </thead><tbody><tr>\n",
       "<td style=\"vertical-align:middle; text-align:left\">\n",
       "<div style=\"float:left; margin-right: 10px;\">\n",
       "<a href=https://mwouts.github.io/itables/><svg class=\"main-svg\" xmlns=\"http://www.w3.org/2000/svg\" xmlns:xlink=\"http://www.w3.org/1999/xlink\"\n",
       "width=\"64\" viewBox=\"0 0 500 400\" style=\"font-family: 'Droid Sans', sans-serif;\">\n",
       "    <g style=\"fill:#d9d7fc\">\n",
       "        <path d=\"M100,400H500V357H100Z\" />\n",
       "        <path d=\"M100,300H400V257H100Z\" />\n",
       "        <path d=\"M0,200H400V157H0Z\" />\n",
       "        <path d=\"M100,100H500V57H100Z\" />\n",
       "        <path d=\"M100,350H500V307H100Z\" />\n",
       "        <path d=\"M100,250H400V207H100Z\" />\n",
       "        <path d=\"M0,150H400V107H0Z\" />\n",
       "        <path d=\"M100,50H500V7H100Z\" />\n",
       "    </g>\n",
       "    <g style=\"fill:#1a1366;stroke:#1a1366;\">\n",
       "   <rect x=\"100\" y=\"7\" width=\"400\" height=\"43\">\n",
       "    <animate\n",
       "      attributeName=\"width\"\n",
       "      values=\"0;400;0\"\n",
       "      dur=\"5s\"\n",
       "      repeatCount=\"indefinite\" />\n",
       "      <animate\n",
       "      attributeName=\"x\"\n",
       "      values=\"100;100;500\"\n",
       "      dur=\"5s\"\n",
       "      repeatCount=\"indefinite\" />\n",
       "  </rect>\n",
       "        <rect x=\"0\" y=\"107\" width=\"400\" height=\"43\">\n",
       "    <animate\n",
       "      attributeName=\"width\"\n",
       "      values=\"0;400;0\"\n",
       "      dur=\"3.5s\"\n",
       "      repeatCount=\"indefinite\" />\n",
       "    <animate\n",
       "      attributeName=\"x\"\n",
       "      values=\"0;0;400\"\n",
       "      dur=\"3.5s\"\n",
       "      repeatCount=\"indefinite\" />\n",
       "  </rect>\n",
       "        <rect x=\"100\" y=\"207\" width=\"300\" height=\"43\">\n",
       "    <animate\n",
       "      attributeName=\"width\"\n",
       "      values=\"0;300;0\"\n",
       "      dur=\"3s\"\n",
       "      repeatCount=\"indefinite\" />\n",
       "    <animate\n",
       "      attributeName=\"x\"\n",
       "      values=\"100;100;400\"\n",
       "      dur=\"3s\"\n",
       "      repeatCount=\"indefinite\" />\n",
       "  </rect>\n",
       "        <rect x=\"100\" y=\"307\" width=\"400\" height=\"43\">\n",
       "    <animate\n",
       "      attributeName=\"width\"\n",
       "      values=\"0;400;0\"\n",
       "      dur=\"4s\"\n",
       "      repeatCount=\"indefinite\" />\n",
       "      <animate\n",
       "      attributeName=\"x\"\n",
       "      values=\"100;100;500\"\n",
       "      dur=\"4s\"\n",
       "      repeatCount=\"indefinite\" />\n",
       "  </rect>\n",
       "        <g style=\"fill:transparent;stroke-width:8; stroke-linejoin:round\" rx=\"5\">\n",
       "            <g transform=\"translate(45 50) rotate(-45)\">\n",
       "                <circle r=\"33\" cx=\"0\" cy=\"0\" />\n",
       "                <rect x=\"-8\" y=\"32\" width=\"16\" height=\"30\" />\n",
       "            </g>\n",
       "\n",
       "            <g transform=\"translate(450 152)\">\n",
       "                <polyline points=\"-15,-20 -35,-20 -35,40 25,40 25,20\" />\n",
       "                <rect x=\"-15\" y=\"-40\" width=\"60\" height=\"60\" />\n",
       "            </g>\n",
       "\n",
       "            <g transform=\"translate(50 352)\">\n",
       "                <polygon points=\"-35,-5 0,-40 35,-5\" />\n",
       "                <polygon points=\"-35,10 0,45 35,10\" />\n",
       "            </g>\n",
       "\n",
       "            <g transform=\"translate(75 250)\">\n",
       "                <polyline points=\"-30,30 -60,0 -30,-30\" />\n",
       "                <polyline points=\"0,30 -30,0 0,-30\" />\n",
       "            </g>\n",
       "\n",
       "            <g transform=\"translate(425 250) rotate(180)\">\n",
       "                <polyline points=\"-30,30 -60,0 -30,-30\" />\n",
       "                <polyline points=\"0,30 -30,0 0,-30\" />\n",
       "            </g>\n",
       "        </g>\n",
       "    </g>\n",
       "</svg>\n",
       "</a>\n",
       "</div>\n",
       "<div>\n",
       "Loading ITables v2.2.2 from the internet...\n",
       "(need <a href=https://mwouts.github.io/itables/troubleshooting.html>help</a>?)</td>\n",
       "</div>\n",
       "</tr></tbody>\n",
       "\n",
       "</table>\n",
       "<link href=\"https://www.unpkg.com/dt_for_itables@2.0.13/dt_bundle.css\" rel=\"stylesheet\">\n",
       "<script type=\"module\">\n",
       "    import {DataTable, jQuery as $} from 'https://www.unpkg.com/dt_for_itables@2.0.13/dt_bundle.js';\n",
       "\n",
       "    document.querySelectorAll(\"#itables_026cd281_62a2_43d1_9fc4_d3366a6c1133:not(.dataTable)\").forEach(table => {\n",
       "        if (!(table instanceof HTMLTableElement))\n",
       "            return;\n",
       "\n",
       "        // Define the table data\n",
       "        const data = [[0, \"Aaradhya\", \"Female\", 49.0, \"Ludhiana\", \"Working Professional\", \"Chef\", NaN, 5.0, NaN, NaN, 2.0, \"More than 8 hours\", \"Healthy\", \"BHM\", \"No\", 1.0, 2.0, \"No\", 0], [1, \"Vivan\", \"Male\", 26.0, \"Varanasi\", \"Working Professional\", \"Teacher\", NaN, 4.0, NaN, NaN, 3.0, \"Less than 5 hours\", \"Unhealthy\", \"LLB\", \"Yes\", 7.0, 3.0, \"No\", 1], [2, \"Yuvraj\", \"Male\", 33.0, \"Visakhapatnam\", \"Student\", \"NaN\", 5.0, NaN, 8.97, 2.0, NaN, \"5-6 hours\", \"Healthy\", \"B.Pharm\", \"Yes\", 3.0, 1.0, \"No\", 1], [3, \"Yuvraj\", \"Male\", 22.0, \"Mumbai\", \"Working Professional\", \"Teacher\", NaN, 5.0, NaN, NaN, 1.0, \"Less than 5 hours\", \"Moderate\", \"BBA\", \"Yes\", 10.0, 1.0, \"Yes\", 1], [4, \"Rhea\", \"Female\", 30.0, \"Kanpur\", \"Working Professional\", \"Business Analyst\", NaN, 1.0, NaN, NaN, 1.0, \"5-6 hours\", \"Unhealthy\", \"BBA\", \"Yes\", 9.0, 4.0, \"Yes\", 0], [5, \"Vani\", \"Female\", 59.0, \"Ahmedabad\", \"Working Professional\", \"Finanancial Analyst\", NaN, 2.0, NaN, NaN, 5.0, \"5-6 hours\", \"Healthy\", \"MCA\", \"No\", 7.0, 5.0, \"No\", 0], [6, \"Ritvik\", \"Male\", 47.0, \"Thane\", \"Working Professional\", \"Chemist\", NaN, 5.0, NaN, NaN, 2.0, \"7-8 hours\", \"Moderate\", \"MD\", \"No\", 6.0, 2.0, \"No\", 0], [7, \"Rajveer\", \"Male\", 38.0, \"Nashik\", \"Working Professional\", \"Teacher\", NaN, 3.0, NaN, NaN, 4.0, \"7-8 hours\", \"Unhealthy\", \"B.Pharm\", \"No\", 10.0, 3.0, \"Yes\", 0], [8, \"Aishwarya\", \"Female\", 24.0, \"Bangalore\", \"Student\", \"NaN\", 2.0, NaN, 5.9, 5.0, NaN, \"5-6 hours\", \"Moderate\", \"BSc\", \"No\", 3.0, 2.0, \"Yes\", 0], [9, \"Simran\", \"Female\", 42.0, \"Patna\", \"Working Professional\", \"Electrician\", NaN, 4.0, NaN, NaN, 1.0, \"5-6 hours\", \"Healthy\", \"ME\", \"Yes\", 7.0, 2.0, \"Yes\", 0], [10, \"Utkarsh\", \"Male\", 55.0, \"Rajkot\", \"Working Professional\", \"Software Engineer\", NaN, 3.0, NaN, NaN, 2.0, \"7-8 hours\", \"Moderate\", \"BSc\", \"No\", 6.0, 4.0, \"Yes\", 0], [11, \"Aahana\", \"Female\", 51.0, \"Patna\", \"Working Professional\", \"Teacher\", NaN, 1.0, NaN, NaN, 2.0, \"7-8 hours\", \"Moderate\", \"B.Arch\", \"No\", 9.0, 5.0, \"No\", 0], [12, \"Tejas\", \"Male\", 39.0, \"Jaipur\", \"Working Professional\", \"Data Scientist\", NaN, 2.0, NaN, NaN, 5.0, \"More than 8 hours\", \"Moderate\", \"BCA\", \"Yes\", 1.0, 3.0, \"No\", 0], [13, \"Aadhya\", \"Female\", 29.0, \"Pune\", \"Working Professional\", \"Chef\", NaN, 4.0, NaN, NaN, 4.0, \"7-8 hours\", \"Unhealthy\", \"BHM\", \"No\", 6.0, 5.0, \"Yes\", 0], [14, \"Kiran\", \"Male\", 50.0, \"Thane\", \"Working Professional\", \"Plumber\", NaN, 1.0, NaN, NaN, 1.0, \"More than 8 hours\", \"Moderate\", \"BE\", \"Yes\", 8.0, 5.0, \"Yes\", 0], [15, \"Aditi\", \"Female\", 23.0, \"Patna\", \"Working Professional\", \"Marketing Manager\", NaN, 2.0, NaN, NaN, 2.0, \"5-6 hours\", \"Healthy\", \"MA\", \"Yes\", 6.0, 4.0, \"Yes\", 1], [16, \"Suhani\", \"Female\", 49.0, \"Lucknow\", \"Working Professional\", \"Teacher\", NaN, 5.0, NaN, NaN, 3.0, \"More than 8 hours\", \"Healthy\", \"B.Ed\", \"No\", 2.0, 1.0, \"No\", 0], [17, \"Jiya\", \"Female\", 56.0, \"Meerut\", \"Working Professional\", \"Accountant\", NaN, 5.0, NaN, NaN, 3.0, \"7-8 hours\", \"Moderate\", \"B.Com\", \"No\", 0.0, 5.0, \"Yes\", 0], [18, \"Bhavesh\", \"Male\", 50.0, \"Agra\", \"Working Professional\", \"Entrepreneur\", NaN, 5.0, NaN, NaN, 2.0, \"7-8 hours\", \"Moderate\", \"BBA\", \"No\", 3.0, 2.0, \"Yes\", 0], [19, \"Armaan\", \"Male\", 45.0, \"Rajkot\", \"Working Professional\", \"Teacher\", NaN, 2.0, NaN, NaN, 4.0, \"5-6 hours\", \"Moderate\", \"MBA\", \"Yes\", 2.0, 3.0, \"No\", 0], [20, \"Ishaani\", \"Female\", 37.0, \"Surat\", \"Working Professional\", \"Teacher\", NaN, 3.0, NaN, NaN, 1.0, \"7-8 hours\", \"Healthy\", \"B.Ed\", \"No\", 5.0, 2.0, \"Yes\", 0], [21, \"Prachi\", \"Female\", 45.0, \"Faridabad\", \"Working Professional\", \"HR Manager\", NaN, 3.0, NaN, NaN, 1.0, \"7-8 hours\", \"Unhealthy\", \"MA\", \"Yes\", 6.0, 4.0, \"Yes\", 0], [22, \"Pratyush\", \"Male\", 37.0, \"Meerut\", \"Working Professional\", \"Teacher\", NaN, 5.0, NaN, NaN, 5.0, \"5-6 hours\", \"Healthy\", \"B.Arch\", \"No\", 9.0, 2.0, \"Yes\", 0], [23, \"Aishwarya\", \"Female\", 46.0, \"Hyderabad\", \"Working Professional\", \"UX/UI Designer\", NaN, 2.0, NaN, NaN, 3.0, \"5-6 hours\", \"Healthy\", \"BCA\", \"No\", 7.0, 5.0, \"No\", 0], [24, \"Abhinav\", \"Male\", 39.0, \"Pune\", \"Working Professional\", \"Content Writer\", NaN, 5.0, NaN, NaN, 2.0, \"More than 8 hours\", \"Healthy\", \"M.Com\", \"Yes\", 7.0, 2.0, \"Yes\", 0], [25, \"Siddhesh\", \"Male\", 38.0, \"Thane\", \"Working Professional\", \"Chef\", NaN, 2.0, NaN, NaN, 1.0, \"More than 8 hours\", \"Healthy\", \"MHM\", \"Yes\", 2.0, 2.0, \"No\", 0], [26, \"Aditya\", \"Male\", 31.0, \"Srinagar\", \"Student\", \"NaN\", 3.0, NaN, 7.03, 5.0, NaN, \"Less than 5 hours\", \"Healthy\", \"BA\", \"No\", 9.0, 1.0, \"Yes\", 0], [27, \"Aarav\", \"Male\", 50.0, \"Ghaziabad\", \"Working Professional\", \"HR Manager\", NaN, 5.0, NaN, NaN, 3.0, \"Less than 5 hours\", \"Healthy\", \"MA\", \"Yes\", 12.0, 5.0, \"Yes\", 1], [28, \"Asha\", \"Female\", 47.0, \"Kolkata\", \"Working Professional\", \"Entrepreneur\", NaN, 3.0, NaN, NaN, 5.0, \"7-8 hours\", \"Moderate\", \"BSc\", \"No\", 5.0, 1.0, \"No\", 0], [29, \"Kashish\", \"Female\", 19.0, \"Agra\", \"Working Professional\", \"NaN\", NaN, 1.0, NaN, NaN, 5.0, \"More than 8 hours\", \"Healthy\", \"Class 12\", \"No\", 5.0, 2.0, \"No\", 0], [30, \"Prisha\", \"Female\", 28.0, \"Varanasi\", \"Student\", \"NaN\", 3.0, NaN, 5.59, 2.0, NaN, \"7-8 hours\", \"Moderate\", \"BCA\", \"Yes\", 4.0, 5.0, \"Yes\", 1], [31, \"Aaradhya\", \"Female\", 37.0, \"Pune\", \"Working Professional\", \"Chef\", NaN, 2.0, NaN, NaN, 1.0, \"7-8 hours\", \"Unhealthy\", \"BHM\", \"No\", 5.0, 3.0, \"Yes\", 0], [32, \"Chhavi\", \"Female\", 25.0, \"Jaipur\", \"Student\", \"NaN\", 4.0, NaN, 8.13, 3.0, NaN, \"5-6 hours\", \"Moderate\", \"M.Tech\", \"Yes\", 1.0, 1.0, \"No\", 0], [33, \"Tanmay\", \"Male\", 29.0, \"Pune\", \"Student\", \"NaN\", 2.0, NaN, 5.7, 3.0, NaN, \"Less than 5 hours\", \"Healthy\", \"PhD\", \"No\", 4.0, 1.0, \"No\", 0], [34, \"Vihaan\", \"Male\", 41.0, \"Chennai\", \"Working Professional\", \"Teacher\", NaN, 1.0, NaN, NaN, 4.0, \"7-8 hours\", \"Unhealthy\", \"LLB\", \"Yes\", 6.0, 5.0, \"No\", 0], [35, \"Shiv\", \"Male\", 45.0, \"Rajkot\", \"Working Professional\", \"Chemist\", NaN, 1.0, NaN, NaN, 4.0, \"7-8 hours\", \"Moderate\", \"B.Pharm\", \"Yes\", 9.0, 1.0, \"Yes\", 0], [36, \"Anvi\", \"Female\", 50.0, \"Kalyan\", \"Working Professional\", \"NaN\", NaN, 4.0, NaN, NaN, 4.0, \"7-8 hours\", \"Unhealthy\", \"Class 12\", \"No\", 0.0, 2.0, \"No\", 0], [37, \"Darsh\", \"Male\", 51.0, \"Nagpur\", \"Working Professional\", \"Educational Consultant\", NaN, 1.0, NaN, NaN, 5.0, \"7-8 hours\", \"Unhealthy\", \"B.Ed\", \"Yes\", 0.0, 4.0, \"No\", 0], [38, \"Samar\", \"Male\", 45.0, \"Mumbai\", \"Working Professional\", \"Civil Engineer\", NaN, 3.0, NaN, NaN, 2.0, \"Less than 5 hours\", \"Healthy\", \"MCA\", \"No\", 9.0, 5.0, \"No\", 0], [39, \"Raunak\", \"Male\", 59.0, \"Jaipur\", \"Working Professional\", \"Manager\", NaN, 4.0, NaN, NaN, 1.0, \"Less than 5 hours\", \"Unhealthy\", \"BHM\", \"Yes\", 2.0, 4.0, \"No\", 0], [40, \"Armaan\", \"Male\", 51.0, \"Nashik\", \"Working Professional\", \"Electrician\", NaN, 2.0, NaN, NaN, 4.0, \"7-8 hours\", \"Healthy\", \"ME\", \"No\", 1.0, 2.0, \"Yes\", 0], [41, \"Mahi\", \"Female\", 47.0, \"Ludhiana\", \"Working Professional\", \"Pharmacist\", NaN, 4.0, NaN, NaN, 1.0, \"Less than 5 hours\", \"Healthy\", \"B.Pharm\", \"Yes\", 9.0, 2.0, \"Yes\", 0], [42, \"Shaurya\", \"Male\", 60.0, \"Ludhiana\", \"Working Professional\", \"Manager\", NaN, 4.0, NaN, NaN, 1.0, \"5-6 hours\", \"Moderate\", \"MHM\", \"Yes\", 3.0, 2.0, \"No\", 0], [43, \"Vidya\", \"Female\", 18.0, \"Vadodara\", \"Working Professional\", \"NaN\", NaN, 5.0, NaN, NaN, 4.0, \"Less than 5 hours\", \"Moderate\", \"Class 12\", \"Yes\", 10.0, 5.0, \"No\", 1], [44, \"Jai\", \"Male\", 55.0, \"Jaipur\", \"Working Professional\", \"Civil Engineer\", NaN, 1.0, NaN, NaN, 1.0, \"7-8 hours\", \"Unhealthy\", \"BBA\", \"Yes\", 0.0, 2.0, \"No\", 0], [45, \"Ayush\", \"Male\", 36.0, \"Ludhiana\", \"Working Professional\", \"Marketing Manager\", NaN, 1.0, NaN, NaN, 2.0, \"7-8 hours\", \"Healthy\", \"BA\", \"Yes\", 0.0, 2.0, \"Yes\", 0], [46, \"Ansh\", \"Male\", 49.0, \"Meerut\", \"Working Professional\", \"Teacher\", NaN, 2.0, NaN, NaN, 1.0, \"7-8 hours\", \"Moderate\", \"M.Ed\", \"Yes\", 0.0, 1.0, \"Yes\", 0], [47, \"Vani\", \"Female\", 50.0, \"Nashik\", \"Working Professional\", \"Pharmacist\", NaN, 1.0, NaN, NaN, 3.0, \"7-8 hours\", \"Unhealthy\", \"MA\", \"Yes\", 10.0, 2.0, \"Yes\", 0], [48, \"Anand\", \"Male\", 38.0, \"Ghaziabad\", \"Working Professional\", \"NaN\", NaN, 2.0, NaN, NaN, 5.0, \"5-6 hours\", \"Moderate\", \"Class 12\", \"No\", 1.0, 1.0, \"Yes\", 0], [49, \"Yashvi\", \"Female\", 39.0, \"Vasai-Virar\", \"Working Professional\", \"Financial Analyst\", NaN, 2.0, NaN, NaN, 2.0, \"7-8 hours\", \"Moderate\", \"B.Com\", \"No\", 0.0, 1.0, \"Yes\", 0], [50, \"Raunak\", \"Male\", 21.0, \"Pune\", \"Working Professional\", \"NaN\", NaN, 4.0, NaN, NaN, 5.0, \"5-6 hours\", \"Healthy\", \"Class 12\", \"Yes\", 8.0, 5.0, \"Yes\", 0], [51, \"Aarav\", \"Male\", 58.0, \"Kalyan\", \"Working Professional\", \"Architect\", NaN, 2.0, NaN, NaN, 1.0, \"More than 8 hours\", \"Unhealthy\", \"B.Arch\", \"Yes\", 4.0, 1.0, \"Yes\", 0], [52, \"Shrey\", \"Male\", 30.0, \"Thane\", \"Student\", \"NaN\", 3.0, NaN, 9.54, 4.0, NaN, \"7-8 hours\", \"Healthy\", \"BSc\", \"No\", 1.0, 2.0, \"No\", 0], [53, \"Ritika\", \"Female\", 44.0, \"Ludhiana\", \"Working Professional\", \"Teacher\", NaN, 5.0, NaN, NaN, 2.0, \"7-8 hours\", \"Unhealthy\", \"B.Pharm\", \"No\", 9.0, 1.0, \"Yes\", 0], [54, \"Mihir\", \"Male\", 31.0, \"Patna\", \"Working Professional\", \"Mechanical Engineer\", NaN, 2.0, NaN, NaN, 5.0, \"Less than 5 hours\", \"Healthy\", \"PhD\", \"No\", 0.0, 3.0, \"Yes\", 0], [55, \"Ayush\", \"Male\", 56.0, \"Kanpur\", \"Working Professional\", \"Plumber\", NaN, 2.0, NaN, NaN, 3.0, \"Less than 5 hours\", \"Moderate\", \"MCA\", \"No\", 10.0, 3.0, \"No\", 0], [56, \"Isha\", \"Female\", 30.0, \"Chennai\", \"Student\", \"NaN\", 2.0, NaN, 8.04, 4.0, NaN, \"Less than 5 hours\", \"Unhealthy\", \"Class 12\", \"No\", 0.0, 1.0, \"Yes\", 0], [57, \"Arjun\", \"Male\", 47.0, \"Lucknow\", \"Working Professional\", \"Teacher\", NaN, 2.0, NaN, NaN, 3.0, \"More than 8 hours\", \"Healthy\", \"MCA\", \"Yes\", 12.0, 4.0, \"No\", 0], [58, \"Vani\", \"Female\", 23.0, \"Agra\", \"Working Professional\", \"HR Manager\", NaN, 5.0, NaN, NaN, 2.0, \"5-6 hours\", \"Healthy\", \"MSc\", \"Yes\", 3.0, 4.0, \"No\", 1], [59, \"Rohan\", \"Male\", 28.0, \"Nagpur\", \"Student\", \"NaN\", 3.0, NaN, 9.79, 1.0, NaN, \"7-8 hours\", \"Moderate\", \"B.Ed\", \"Yes\", 12.0, 3.0, \"No\", 1], [60, \"Vivan\", \"Male\", 25.0, \"Hyderabad\", \"Working Professional\", \"Teacher\", NaN, 5.0, NaN, NaN, 2.0, \"7-8 hours\", \"Unhealthy\", \"B.Arch\", \"No\", 4.0, 5.0, \"Yes\", 1], [61, \"Pratham\", \"Male\", 43.0, \"Patna\", \"Working Professional\", \"Architect\", NaN, 4.0, NaN, NaN, 1.0, \"Less than 5 hours\", \"Healthy\", \"BSc\", \"No\", 0.0, 3.0, \"No\", 0], [62, \"Nirvaan\", \"Male\", 31.0, \"Nashik\", \"Student\", \"NaN\", 2.0, NaN, 8.38, 3.0, NaN, \"Less than 5 hours\", \"Moderate\", \"LLB\", \"Yes\", 2.0, 5.0, \"No\", 1], [63, \"Ishaan\", \"Male\", 40.0, \"Ludhiana\", \"Working Professional\", \"Marketing Manager\", NaN, 3.0, NaN, NaN, 3.0, \"Less than 5 hours\", \"Unhealthy\", \"BA\", \"No\", 1.0, 5.0, \"Yes\", 0], [64, \"Aarya\", \"Female\", 28.0, \"Chennai\", \"Working Professional\", \"Electrician\", NaN, 3.0, NaN, NaN, 2.0, \"5-6 hours\", \"Moderate\", \"BCA\", \"No\", 9.0, 1.0, \"Yes\", 0], [65, \"Riya\", \"Female\", 35.0, \"Rajkot\", \"Working Professional\", \"Mechanical Engineer\", NaN, 4.0, NaN, NaN, 1.0, \"5-6 hours\", \"Healthy\", \"BSc\", \"Yes\", 4.0, 4.0, \"No\", 0], [66, \"Aariv\", \"Male\", 54.0, \"Meerut\", \"Working Professional\", \"Chef\", NaN, 1.0, NaN, NaN, 2.0, \"5-6 hours\", \"Moderate\", \"BHM\", \"No\", 1.0, 3.0, \"No\", 0], [67, \"Raghavendra\", \"Male\", 50.0, \"Vasai-Virar\", \"Working Professional\", \"Customer Support\", NaN, 4.0, NaN, NaN, 3.0, \"7-8 hours\", \"Healthy\", \"BA\", \"No\", 7.0, 4.0, \"No\", 0], [68, \"Armaan\", \"Male\", 46.0, \"Ludhiana\", \"Working Professional\", \"Consultant\", NaN, 1.0, NaN, NaN, 3.0, \"Less than 5 hours\", \"Healthy\", \"PhD\", \"Yes\", 3.0, 3.0, \"No\", 0], [69, \"Mahika\", \"Female\", 51.0, \"Agra\", \"Working Professional\", \"Teacher\", NaN, 2.0, NaN, NaN, 4.0, \"5-6 hours\", \"Healthy\", \"B.Ed\", \"No\", 0.0, 2.0, \"No\", 0], [70, \"Abhishek\", \"Male\", 18.0, \"Vasai-Virar\", \"Working Professional\", \"NaN\", NaN, 5.0, NaN, NaN, 2.0, \"Less than 5 hours\", \"Moderate\", \"Class 12\", \"Yes\", 6.0, 4.0, \"No\", 1], [71, \"Jiya\", \"Female\", 38.0, \"Vadodara\", \"Working Professional\", \"Architect\", NaN, 4.0, NaN, NaN, 2.0, \"7-8 hours\", \"Healthy\", \"MCA\", \"Yes\", 11.0, 5.0, \"Yes\", 0], [72, \"Armaan\", \"Male\", 54.0, \"Vasai-Virar\", \"Working Professional\", \"Teacher\", NaN, 2.0, NaN, NaN, 3.0, \"5-6 hours\", \"Moderate\", \"B.Arch\", \"No\", 6.0, 1.0, \"No\", 0], [73, \"Harshil\", \"Male\", 44.0, \"Kolkata\", \"Working Professional\", \"Consultant\", NaN, 3.0, NaN, NaN, 5.0, \"5-6 hours\", \"Healthy\", \"BBA\", \"No\", 1.0, 3.0, \"No\", 0], [74, \"Rohan\", \"Male\", 41.0, \"Thane\", \"Working Professional\", \"Content Writer\", NaN, 1.0, NaN, NaN, 2.0, \"5-6 hours\", \"Unhealthy\", \"ME\", \"Yes\", 6.0, 2.0, \"Yes\", 0], [75, \"Janvi\", \"Female\", 59.0, \"Agra\", \"Working Professional\", \"Marketing Manager\", NaN, 5.0, NaN, NaN, 3.0, \"7-8 hours\", \"Healthy\", \"BA\", \"Yes\", 5.0, 4.0, \"Yes\", 0], [76, \"Aariv\", \"Male\", 54.0, \"Delhi\", \"Working Professional\", \"Content Writer\", NaN, 4.0, NaN, NaN, 2.0, \"7-8 hours\", \"Unhealthy\", \"B.Ed\", \"No\", 12.0, 5.0, \"Yes\", 0], [77, \"Kartikeya\", \"Male\", 45.0, \"Rajkot\", \"Working Professional\", \"Architect\", NaN, 1.0, NaN, NaN, 5.0, \"7-8 hours\", \"Unhealthy\", \"B.Arch\", \"Yes\", 6.0, 3.0, \"Yes\", 0], [78, \"Shivam\", \"Male\", 46.0, \"Surat\", \"Working Professional\", \"Educational Consultant\", NaN, 2.0, NaN, NaN, 2.0, \"7-8 hours\", \"Moderate\", \"B.Ed\", \"No\", 10.0, 1.0, \"Yes\", 0], [79, \"Advait\", \"Male\", 45.0, \"Bangalore\", \"Working Professional\", \"Teacher\", NaN, 2.0, NaN, NaN, 4.0, \"7-8 hours\", \"Unhealthy\", \"B.Pharm\", \"No\", 11.0, 4.0, \"No\", 0], [80, \"Samar\", \"Male\", 21.0, \"Thane\", \"Working Professional\", \"NaN\", NaN, 4.0, NaN, NaN, 4.0, \"5-6 hours\", \"Unhealthy\", \"Class 12\", \"No\", 1.0, 2.0, \"No\", 0], [81, \"Reyansh\", \"Male\", 19.0, \"Nagpur\", \"Working Professional\", \"NaN\", NaN, 5.0, NaN, NaN, 4.0, \"Less than 5 hours\", \"Moderate\", \"Class 12\", \"Yes\", 11.0, 2.0, \"No\", 1], [82, \"Saanvi\", \"Female\", 49.0, \"Hyderabad\", \"Working Professional\", \"NaN\", NaN, 1.0, NaN, NaN, 5.0, \"5-6 hours\", \"Moderate\", \"Class 12\", \"No\", 0.0, 3.0, \"No\", 0], [83, \"Ivaan\", \"Male\", 24.0, \"Nagpur\", \"Student\", \"NaN\", 3.0, NaN, 6.1, 3.0, NaN, \"5-6 hours\", \"Moderate\", \"Class 12\", \"Yes\", 11.0, 1.0, \"Yes\", 1], [84, \"Pallavi\", \"Female\", 47.0, \"Nagpur\", \"Working Professional\", \"Teacher\", NaN, 5.0, NaN, NaN, 5.0, \"7-8 hours\", \"Unhealthy\", \"BSc\", \"No\", 0.0, 5.0, \"Yes\", 0], [85, \"Rohan\", \"Male\", 51.0, \"Hyderabad\", \"Working Professional\", \"Judge\", NaN, 3.0, NaN, NaN, 5.0, \"5-6 hours\", \"Healthy\", \"LLB\", \"No\", 11.0, 1.0, \"Yes\", 0], [86, \"Aaradhya\", \"Female\", 30.0, \"Vadodara\", \"Working Professional\", \"Teacher\", NaN, 2.0, NaN, NaN, 4.0, \"Less than 5 hours\", \"Unhealthy\", \"B.Arch\", \"No\", 10.0, 2.0, \"No\", 0], [87, \"Samar\", \"Male\", 54.0, \"Jaipur\", \"Working Professional\", \"Researcher\", NaN, 2.0, NaN, NaN, 4.0, \"5-6 hours\", \"Unhealthy\", \"M.Tech\", \"No\", 2.0, 2.0, \"No\", 0], [88, \"Sneha\", \"Female\", 60.0, \"Rajkot\", \"Working Professional\", \"UX/UI Designer\", NaN, 5.0, NaN, NaN, 3.0, \"7-8 hours\", \"Moderate\", \"MSc\", \"No\", 2.0, 1.0, \"Yes\", 0], [89, \"Ayaan\", \"Male\", 45.0, \"Bangalore\", \"Working Professional\", \"Teacher\", NaN, 1.0, NaN, NaN, 5.0, \"7-8 hours\", \"Moderate\", \"B.Arch\", \"No\", 2.0, 4.0, \"Yes\", 0], [90, \"Ayush\", \"Male\", 24.0, \"Chennai\", \"Working Professional\", \"Teacher\", NaN, 4.0, NaN, NaN, 3.0, \"5-6 hours\", \"Healthy\", \"B.Ed\", \"Yes\", 8.0, 4.0, \"Yes\", 0], [91, \"Aakash\", \"Male\", 33.0, \"Vadodara\", \"Student\", \"NaN\", 3.0, NaN, 7.03, 4.0, NaN, \"Less than 5 hours\", \"Healthy\", \"BE\", \"Yes\", 10.0, 2.0, \"Yes\", 0], [92, \"Raghav\", \"Male\", 54.0, \"Nagpur\", \"Working Professional\", \"Content Writer\", NaN, 2.0, NaN, NaN, 1.0, \"More than 8 hours\", \"Unhealthy\", \"B.Tech\", \"No\", 3.0, 1.0, \"No\", 0], [93, \"Shiv\", \"Male\", 18.0, \"Thane\", \"Working Professional\", \"NaN\", NaN, 4.0, NaN, NaN, 2.0, \"7-8 hours\", \"Unhealthy\", \"Class 12\", \"No\", 2.0, 1.0, \"No\", 0], [94, \"Satyam\", \"Male\", 27.0, \"Kalyan\", \"Student\", \"NaN\", 5.0, NaN, 7.04, 1.0, NaN, \"Less than 5 hours\", \"Moderate\", \"M.Tech\", \"No\", 10.0, 1.0, \"Yes\", 1], [95, \"Shiv\", \"Male\", 36.0, \"Rajkot\", \"Working Professional\", \"Teacher\", NaN, 2.0, NaN, NaN, 5.0, \"More than 8 hours\", \"Healthy\", \"B.Ed\", \"Yes\", 10.0, 4.0, \"No\", 0], [96, \"Aarush\", \"Male\", 31.0, \"Ludhiana\", \"Working Professional\", \"Teacher\", NaN, 4.0, NaN, NaN, 3.0, \"5-6 hours\", \"Unhealthy\", \"B.Ed\", \"Yes\", 4.0, 2.0, \"No\", 0], [97, \"Vibha\", \"Female\", 52.0, \"Chennai\", \"Working Professional\", \"Data Scientist\", NaN, 1.0, NaN, NaN, 3.0, \"7-8 hours\", \"Moderate\", \"M.Tech\", \"No\", 1.0, 2.0, \"Yes\", 0], [98, \"Rupal\", \"Female\", 56.0, \"Lucknow\", \"Working Professional\", \"Educational Consultant\", NaN, 2.0, NaN, NaN, 2.0, \"Less than 5 hours\", \"Healthy\", \"B.Ed\", \"No\", 9.0, 2.0, \"No\", 0], [99, \"Vivan\", \"Male\", 36.0, \"Thane\", \"Working Professional\", \"Teacher\", NaN, 1.0, NaN, NaN, 2.0, \"Less than 5 hours\", \"Healthy\", \"B.Ed\", \"Yes\", 10.0, 3.0, \"Yes\", 0], [100, \"Sanya\", \"Female\", 19.0, \"Rajkot\", \"Student\", \"NaN\", 2.0, NaN, 8.52, 4.0, NaN, \"Less than 5 hours\", \"Unhealthy\", \"Class 12\", \"No\", 6.0, 2.0, \"Yes\", 0], [101, \"Mira\", \"Female\", 48.0, \"Ludhiana\", \"Working Professional\", \"NaN\", NaN, 3.0, NaN, NaN, 2.0, \"5-6 hours\", \"Healthy\", \"Class 12\", \"Yes\", 8.0, 4.0, \"Yes\", 1], [102, \"Shiv\", \"Male\", 56.0, \"Rajkot\", \"Working Professional\", \"Teacher\", NaN, 3.0, NaN, NaN, 3.0, \"7-8 hours\", \"Moderate\", \"B.Arch\", \"No\", 7.0, 3.0, \"No\", 0], [103, \"Rashi\", \"Female\", 19.0, \"Kalyan\", \"Student\", \"NaN\", 5.0, NaN, 5.64, 5.0, NaN, \"Less than 5 hours\", \"Moderate\", \"Class 12\", \"Yes\", 4.0, 5.0, \"Yes\", 1], [104, \"Shivam\", \"Male\", 43.0, \"Meerut\", \"Working Professional\", \"Judge\", NaN, 4.0, NaN, NaN, 2.0, \"7-8 hours\", \"Healthy\", \"LLM\", \"No\", 7.0, 3.0, \"No\", 0], [105, \"Bhavesh\", \"Male\", 57.0, \"Chennai\", \"Working Professional\", \"Consultant\", NaN, 3.0, NaN, NaN, 5.0, \"Less than 5 hours\", \"Unhealthy\", \"BE\", \"No\", 2.0, 3.0, \"No\", 0], [106, \"Shlok\", \"Male\", 29.0, \"Srinagar\", \"Student\", \"NaN\", 3.0, NaN, 8.58, 3.0, NaN, \"More than 8 hours\", \"Moderate\", \"M.Tech\", \"Yes\", 10.0, 2.0, \"Yes\", 1], [107, \"Vani\", \"Female\", 19.0, \"Srinagar\", \"Working Professional\", \"NaN\", NaN, 5.0, NaN, NaN, 5.0, \"7-8 hours\", \"Healthy\", \"Class 12\", \"Yes\", 11.0, 4.0, \"Yes\", 1], [108, \"Harsha\", \"Male\", 50.0, \"Delhi\", \"Working Professional\", \"Researcher\", NaN, 2.0, NaN, NaN, 1.0, \"Less than 5 hours\", \"Unhealthy\", \"B.Tech\", \"Yes\", 1.0, 2.0, \"Yes\", 0], [109, \"Rupal\", \"Female\", 37.0, \"Kanpur\", \"Working Professional\", \"Electrician\", NaN, 1.0, NaN, NaN, 4.0, \"5-6 hours\", \"Moderate\", \"BCA\", \"No\", 9.0, 5.0, \"No\", 0], [110, \"Raunak\", \"Male\", 38.0, \"Kanpur\", \"Working Professional\", \"Teacher\", NaN, 4.0, NaN, NaN, 1.0, \"5-6 hours\", \"Unhealthy\", \"B.Pharm\", \"No\", 3.0, 5.0, \"Yes\", 0], [111, \"Divya\", \"Female\", 37.0, \"Visakhapatnam\", \"Working Professional\", \"Architect\", NaN, 4.0, NaN, NaN, 1.0, \"More than 8 hours\", \"Moderate\", \"MSc\", \"No\", 12.0, 3.0, \"No\", 0], [112, \"Aariv\", \"Male\", 53.0, \"Delhi\", \"Working Professional\", \"HR Manager\", NaN, 4.0, NaN, NaN, 4.0, \"5-6 hours\", \"Healthy\", \"MA\", \"Yes\", 9.0, 3.0, \"Yes\", 0], [113, \"Aariv\", \"Male\", 34.0, \"Patna\", \"Working Professional\", \"Teacher\", NaN, 3.0, NaN, NaN, 5.0, \"More than 8 hours\", \"Moderate\", \"B.Ed\", \"Yes\", 10.0, 3.0, \"No\", 0], [114, \"Ishaan\", \"Male\", 57.0, \"Kanpur\", \"Working Professional\", \"HR Manager\", NaN, 1.0, NaN, NaN, 4.0, \"5-6 hours\", \"Moderate\", \"M.Tech\", \"No\", 11.0, 5.0, \"No\", 0], [115, \"Pranav\", \"Male\", 55.0, \"Patna\", \"Working Professional\", \"Content Writer\", NaN, 1.0, NaN, NaN, 4.0, \"Less than 5 hours\", \"Healthy\", \"BE\", \"No\", 9.0, 1.0, \"No\", 0], [116, \"Hrithik\", \"Male\", 53.0, \"Kolkata\", \"Working Professional\", \"Judge\", NaN, 4.0, NaN, NaN, 5.0, \"Less than 5 hours\", \"Unhealthy\", \"LLB\", \"No\", 0.0, 4.0, \"Yes\", 0], [117, \"Prachi\", \"Female\", 24.0, \"Bangalore\", \"Working Professional\", \"Teacher\", NaN, 1.0, NaN, NaN, 1.0, \"5-6 hours\", \"Unhealthy\", \"MBBS\", \"No\", 8.0, 3.0, \"No\", 0], [118, \"Prisha\", \"Female\", 59.0, \"Agra\", \"Working Professional\", \"Entrepreneur\", NaN, 2.0, NaN, NaN, 3.0, \"More than 8 hours\", \"Healthy\", \"BSc\", \"Yes\", 10.0, 2.0, \"No\", 0], [119, \"Aaradhya\", \"Female\", 51.0, \"Meerut\", \"Working Professional\", \"Marketing Manager\", NaN, 2.0, NaN, NaN, 5.0, \"7-8 hours\", \"Healthy\", \"BA\", \"No\", 9.0, 3.0, \"No\", 0], [120, \"Tushar\", \"Male\", 25.0, \"Nashik\", \"Student\", \"NaN\", 5.0, NaN, 6.51, 2.0, NaN, \"Less than 5 hours\", \"Unhealthy\", \"M.Ed\", \"Yes\", 2.0, 5.0, \"Yes\", 1], [121, \"Garima\", \"Female\", 18.0, \"Hyderabad\", \"Working Professional\", \"NaN\", NaN, 5.0, NaN, NaN, 4.0, \"7-8 hours\", \"Unhealthy\", \"Class 12\", \"Yes\", 7.0, 2.0, \"Yes\", 1], [122, \"Rashi\", \"Female\", 19.0, \"Ludhiana\", \"Working Professional\", \"NaN\", NaN, 2.0, NaN, NaN, 1.0, \"5-6 hours\", \"Healthy\", \"Class 12\", \"Yes\", 3.0, 1.0, \"Yes\", 0], [123, \"Abhishek\", \"Male\", 47.0, \"Kanpur\", \"Working Professional\", \"Teacher\", NaN, 4.0, NaN, NaN, 5.0, \"Less than 5 hours\", \"Unhealthy\", \"M.Pharm\", \"Yes\", 6.0, 4.0, \"Yes\", 0], [124, \"Shivam\", \"Male\", 44.0, \"Pune\", \"Working Professional\", \"Teacher\", NaN, 2.0, NaN, NaN, 1.0, \"7-8 hours\", \"Healthy\", \"B.Tech\", \"Yes\", 1.0, 3.0, \"No\", 0], [125, \"Divya\", \"Female\", 50.0, \"Bangalore\", \"Working Professional\", \"Content Writer\", NaN, 4.0, NaN, NaN, 5.0, \"Less than 5 hours\", \"Moderate\", \"BE\", \"No\", 4.0, 3.0, \"No\", 0], [126, \"Ishaani\", \"Female\", 29.0, \"Vasai-Virar\", \"Working Professional\", \"Marketing Manager\", NaN, 5.0, NaN, NaN, 5.0, \"More than 8 hours\", \"Healthy\", \"B.Com\", \"No\", 12.0, 1.0, \"Yes\", 0], [127, \"Anand\", \"Male\", 59.0, \"Mumbai\", \"Working Professional\", \"NaN\", NaN, 1.0, NaN, NaN, 5.0, \"Less than 5 hours\", \"Healthy\", \"Class 12\", \"Yes\", 5.0, 1.0, \"No\", 0], [128, \"Zoya\", \"Female\", 57.0, \"Pune\", \"Working Professional\", \"Consultant\", NaN, 2.0, NaN, NaN, 3.0, \"7-8 hours\", \"Healthy\", \"B.Com\", \"Yes\", 9.0, 3.0, \"No\", 0], [129, \"Kian\", \"Male\", 45.0, \"Kanpur\", \"Working Professional\", \"NaN\", NaN, 4.0, NaN, NaN, 3.0, \"5-6 hours\", \"Healthy\", \"Class 12\", \"Yes\", 2.0, 4.0, \"No\", 0], [130, \"Aakash\", \"Female\", 51.0, \"Vadodara\", \"Working Professional\", \"Teacher\", NaN, 2.0, NaN, NaN, 5.0, \"More than 8 hours\", \"Moderate\", \"B.Arch\", \"No\", 11.0, 1.0, \"No\", 0], [131, \"Vibha\", \"Female\", 57.0, \"Mumbai\", \"Working Professional\", \"Entrepreneur\", NaN, 1.0, NaN, NaN, 5.0, \"7-8 hours\", \"Unhealthy\", \"BSc\", \"Yes\", 8.0, 2.0, \"No\", 0], [132, \"Vani\", \"Female\", 20.0, \"Ahmedabad\", \"Student\", \"NaN\", 5.0, NaN, 7.25, 3.0, NaN, \"5-6 hours\", \"Healthy\", \"Class 12\", \"Yes\", 10.0, 3.0, \"No\", 1], [133, \"Reyansh\", \"Male\", 50.0, \"Vasai-Virar\", \"Working Professional\", \"Manager\", NaN, 5.0, NaN, NaN, 5.0, \"Less than 5 hours\", \"Healthy\", \"MHM\", \"No\", 12.0, 1.0, \"No\", 0], [134, \"Rohan\", \"Male\", 54.0, \"Thane\", \"Working Professional\", \"Finanancial Analyst\", NaN, 3.0, NaN, NaN, 5.0, \"7-8 hours\", \"Moderate\", \"B.Tech\", \"No\", 10.0, 2.0, \"No\", 0], [135, \"Rohan\", \"Male\", 54.0, \"Jaipur\", \"Working Professional\", \"Pilot\", NaN, 3.0, NaN, NaN, 5.0, \"7-8 hours\", \"Healthy\", \"B.Tech\", \"No\", 7.0, 4.0, \"No\", 0], [136, \"Navya\", \"Female\", 52.0, \"Kolkata\", \"Working Professional\", \"NaN\", NaN, 3.0, NaN, NaN, 4.0, \"5-6 hours\", \"Moderate\", \"Class 12\", \"Yes\", 4.0, 4.0, \"No\", 0], [137, \"Lakshay\", \"Male\", 29.0, \"Kanpur\", \"Working Professional\", \"Business Analyst\", NaN, 5.0, NaN, NaN, 1.0, \"5-6 hours\", \"Unhealthy\", \"BE\", \"Yes\", 4.0, 3.0, \"Yes\", 1], [138, \"Aarush\", \"Male\", 25.0, \"Nashik\", \"Working Professional\", \"Graphic Designer\", NaN, 2.0, NaN, NaN, 2.0, \"5-6 hours\", \"Moderate\", \"B.Tech\", \"No\", 6.0, 5.0, \"No\", 1], [139, \"Advait\", \"Male\", 19.0, \"Chennai\", \"Student\", \"NaN\", 2.0, NaN, 7.83, 2.0, NaN, \"7-8 hours\", \"Unhealthy\", \"Class 12\", \"No\", 6.0, 3.0, \"No\", 0], [140, \"Kriti\", \"Female\", 36.0, \"Ahmedabad\", \"Working Professional\", \"Teacher\", NaN, 5.0, NaN, NaN, 2.0, \"More than 8 hours\", \"Moderate\", \"BA\", \"No\", 1.0, 2.0, \"Yes\", 0], [141, \"Asha\", \"Female\", 60.0, \"Bhopal\", \"Working Professional\", \"Travel Consultant\", NaN, 2.0, NaN, NaN, 2.0, \"7-8 hours\", \"Moderate\", \"MHM\", \"No\", 12.0, 2.0, \"Yes\", 0], [142, \"Raghav\", \"Male\", 53.0, \"Patna\", \"Working Professional\", \"Business Analyst\", NaN, 3.0, NaN, NaN, 4.0, \"Less than 5 hours\", \"Unhealthy\", \"ME\", \"No\", 4.0, 1.0, \"No\", 0], [143, \"Palak\", \"Female\", 46.0, \"Vadodara\", \"Working Professional\", \"Teacher\", NaN, 4.0, NaN, NaN, 1.0, \"Less than 5 hours\", \"Healthy\", \"B.Arch\", \"Yes\", 1.0, 5.0, \"No\", 0], [144, \"Rohan\", \"Male\", 28.0, \"Lucknow\", \"Working Professional\", \"Digital Marketer\", NaN, 2.0, NaN, NaN, 5.0, \"Less than 5 hours\", \"Unhealthy\", \"B.Com\", \"Yes\", 0.0, 1.0, \"No\", 1], [145, \"Aryan\", \"Male\", 25.0, \"Kalyan\", \"Student\", \"NaN\", 3.0, NaN, 9.93, 3.0, NaN, \"5-6 hours\", \"Moderate\", \"B.Ed\", \"No\", 8.0, 3.0, \"Yes\", 1], [146, \"Parth\", \"Male\", 34.0, \"Agra\", \"Working Professional\", \"Teacher\", NaN, 3.0, NaN, NaN, 5.0, \"More than 8 hours\", \"Healthy\", \"LLB\", \"No\", 11.0, 3.0, \"No\", 0], [147, \"Ishan\", \"Male\", 51.0, \"Kanpur\", \"Working Professional\", \"Manager\", NaN, 4.0, NaN, NaN, 3.0, \"7-8 hours\", \"Healthy\", \"MHM\", \"No\", 1.0, 2.0, \"No\", 0], [148, \"Divya\", \"Female\", 43.0, \"Pune\", \"Working Professional\", \"Content Writer\", NaN, 5.0, NaN, NaN, 4.0, \"Less than 5 hours\", \"Unhealthy\", \"B.Ed\", \"No\", 7.0, 2.0, \"No\", 0], [149, \"Rupak\", \"Male\", 46.0, \"Pune\", \"Working Professional\", \"Content Writer\", NaN, 2.0, NaN, NaN, 4.0, \"7-8 hours\", \"Healthy\", \"M.Ed\", \"No\", 11.0, 3.0, \"No\", 0], [150, \"Raghavendra\", \"Male\", 48.0, \"Varanasi\", \"Working Professional\", \"Content Writer\", NaN, 4.0, NaN, NaN, 2.0, \"5-6 hours\", \"Healthy\", \"B.Ed\", \"Yes\", 6.0, 1.0, \"Yes\", 0], [151, \"Aaradhya\", \"Female\", 42.0, \"Vasai-Virar\", \"Working Professional\", \"Finanancial Analyst\", NaN, 5.0, NaN, NaN, 1.0, \"5-6 hours\", \"Healthy\", \"BCA\", \"Yes\", 8.0, 1.0, \"Yes\", 0], [152, \"Atharv\", \"Male\", 60.0, \"Varanasi\", \"Working Professional\", \"Travel Consultant\", NaN, 1.0, NaN, NaN, 5.0, \"7-8 hours\", \"Moderate\", \"MHM\", \"No\", 0.0, 2.0, \"No\", 0], [153, \"Shaurya\", \"Male\", 22.0, \"Surat\", \"Working Professional\", \"Teacher\", NaN, 5.0, NaN, NaN, 1.0, \"7-8 hours\", \"Healthy\", \"BCA\", \"No\", 11.0, 1.0, \"Yes\", 1], [154, \"Aarti\", \"Female\", 43.0, \"Delhi\", \"Working Professional\", \"Content Writer\", NaN, 3.0, NaN, NaN, 5.0, \"7-8 hours\", \"Unhealthy\", \"ME\", \"Yes\", 12.0, 2.0, \"Yes\", 0], [155, \"Anirudh\", \"Male\", 43.0, \"Lucknow\", \"Working Professional\", \"Lawyer\", NaN, 5.0, NaN, NaN, 1.0, \"5-6 hours\", \"Healthy\", \"LLM\", \"No\", 10.0, 4.0, \"No\", 0], [156, \"Kabir\", \"Male\", 55.0, \"Ghaziabad\", \"Working Professional\", \"Customer Support\", NaN, 4.0, NaN, NaN, 2.0, \"More than 8 hours\", \"Unhealthy\", \"BA\", \"No\", 11.0, 2.0, \"Yes\", 0], [157, \"Aariv\", \"Male\", 23.0, \"Rajkot\", \"Working Professional\", \"Architect\", NaN, 3.0, NaN, NaN, 2.0, \"7-8 hours\", \"Moderate\", \"B.Arch\", \"No\", 5.0, 1.0, \"No\", 0], [158, \"Shiv\", \"Male\", 56.0, \"Pune\", \"Working Professional\", \"Civil Engineer\", NaN, 2.0, NaN, NaN, 3.0, \"5-6 hours\", \"Healthy\", \"M.Tech\", \"Yes\", 12.0, 4.0, \"Yes\", 0], [159, \"Rhea\", \"Female\", 45.0, \"Ludhiana\", \"Working Professional\", \"Teacher\", NaN, 2.0, NaN, NaN, 5.0, \"More than 8 hours\", \"Healthy\", \"B.Arch\", \"Yes\", 6.0, 4.0, \"Yes\", 0], [160, \"Jai\", \"Male\", 46.0, \"Jaipur\", \"Working Professional\", \"Civil Engineer\", NaN, 3.0, NaN, NaN, 1.0, \"7-8 hours\", \"Healthy\", \"M.Tech\", \"No\", 10.0, 3.0, \"No\", 0], [161, \"Ritvik\", \"Male\", 29.0, \"Kolkata\", \"Student\", \"NaN\", 3.0, NaN, 8.74, 4.0, NaN, \"5-6 hours\", \"Moderate\", \"B.Ed\", \"Yes\", 1.0, 1.0, \"No\", 0], [162, \"Ritvik\", \"Male\", 29.0, \"Kolkata\", \"Student\", \"NaN\", 3.0, NaN, 6.73, 3.0, NaN, \"7-8 hours\", \"Moderate\", \"M.Tech\", \"No\", 0.0, 1.0, \"No\", 0], [163, \"Sanjeev\", \"Male\", 49.0, \"Delhi\", \"Working Professional\", \"Pharmacist\", NaN, 2.0, NaN, NaN, 2.0, \"More than 8 hours\", \"Moderate\", \"B.Pharm\", \"Yes\", 11.0, 5.0, \"No\", 0], [164, \"Armaan\", \"Male\", 38.0, \"Pune\", \"Working Professional\", \"Chef\", NaN, 4.0, NaN, NaN, 4.0, \"7-8 hours\", \"Healthy\", \"BHM\", \"No\", 7.0, 5.0, \"No\", 0], [165, \"Sanket\", \"Male\", 22.0, \"Chennai\", \"Working Professional\", \"Content Writer\", NaN, 2.0, NaN, NaN, 5.0, \"5-6 hours\", \"Moderate\", \"BCA\", \"Yes\", 9.0, 2.0, \"Yes\", 0], [166, \"Tara\", \"Female\", 25.0, \"Ahmedabad\", \"Student\", \"NaN\", 3.0, NaN, 5.57, 3.0, NaN, \"More than 8 hours\", \"Unhealthy\", \"MSc\", \"Yes\", 10.0, 5.0, \"No\", 1], [167, \"Tushar\", \"Male\", 38.0, \"Visakhapatnam\", \"Working Professional\", \"Chemist\", NaN, 4.0, NaN, NaN, 5.0, \"7-8 hours\", \"Moderate\", \"B.Pharm\", \"No\", 10.0, 5.0, \"Yes\", 0], [168, \"Rashi\", \"Female\", 38.0, \"Faridabad\", \"Working Professional\", \"Consultant\", NaN, 4.0, NaN, NaN, 4.0, \"7-8 hours\", \"Unhealthy\", \"MCA\", \"No\", 9.0, 5.0, \"Yes\", 0], [169, \"Ishaani\", \"Female\", 42.0, \"Kalyan\", \"Working Professional\", \"Finanancial Analyst\", NaN, 5.0, NaN, NaN, 1.0, \"More than 8 hours\", \"Healthy\", \"MSc\", \"Yes\", 1.0, 5.0, \"No\", 0], [170, \"Gagan\", \"Male\", 36.0, \"Delhi\", \"Working Professional\", \"Content Writer\", NaN, 2.0, NaN, NaN, 2.0, \"5-6 hours\", \"Moderate\", \"M.Ed\", \"Yes\", 4.0, 4.0, \"Yes\", 0], [171, \"Anjali\", \"Female\", 35.0, \"Chennai\", \"Working Professional\", \"Lawyer\", NaN, 4.0, NaN, NaN, 1.0, \"5-6 hours\", \"Moderate\", \"LLB\", \"No\", 10.0, 1.0, \"Yes\", 0], [172, \"Kartikeya\", \"Male\", 23.0, \"Thane\", \"Student\", \"NaN\", 1.0, NaN, 8.59, 4.0, NaN, \"7-8 hours\", \"Healthy\", \"BHM\", \"No\", 11.0, 3.0, \"No\", 0], [173, \"Hrithik\", \"Male\", 18.0, \"Bangalore\", \"Student\", \"NaN\", 4.0, NaN, 7.1, 3.0, NaN, \"More than 8 hours\", \"Unhealthy\", \"Class 12\", \"Yes\", 11.0, 5.0, \"Yes\", 1], [174, \"Gaurav\", \"Male\", 18.0, \"Chennai\", \"Working Professional\", \"NaN\", NaN, 5.0, NaN, NaN, 3.0, \"Less than 5 hours\", \"Unhealthy\", \"Class 12\", \"No\", 3.0, 5.0, \"No\", 1], [175, \"Rashi\", \"Female\", 28.0, \"Ludhiana\", \"Working Professional\", \"Educational Consultant\", NaN, 2.0, NaN, NaN, 5.0, \"5-6 hours\", \"Healthy\", \"B.Ed\", \"Yes\", 9.0, 5.0, \"Yes\", 0], [176, \"Aditi\", \"Female\", 20.0, \"Mumbai\", \"Student\", \"NaN\", 5.0, NaN, 8.58, 5.0, NaN, \"7-8 hours\", \"Moderate\", \"Class 12\", \"No\", 2.0, 2.0, \"Yes\", 1], [177, \"Janvi\", \"Female\", 47.0, \"Nagpur\", \"Working Professional\", \"HR Manager\", NaN, 4.0, NaN, NaN, 3.0, \"5-6 hours\", \"Healthy\", \"BA\", \"Yes\", 3.0, 2.0, \"Yes\", 0], [178, \"Asha\", \"Female\", 46.0, \"Chennai\", \"Working Professional\", \"Mechanical Engineer\", NaN, 4.0, NaN, NaN, 4.0, \"Less than 5 hours\", \"Healthy\", \"BSc\", \"Yes\", 0.0, 1.0, \"No\", 0], [179, \"Siddhesh\", \"Male\", 31.0, \"Rajkot\", \"Working Professional\", \"Finanancial Analyst\", NaN, 5.0, NaN, NaN, 2.0, \"Less than 5 hours\", \"Moderate\", \"PhD\", \"Yes\", 3.0, 2.0, \"Yes\", 0], [180, \"Riya\", \"Female\", 40.0, \"Mumbai\", \"Working Professional\", \"Chef\", NaN, 3.0, NaN, NaN, 4.0, \"7-8 hours\", \"Moderate\", \"BHM\", \"Yes\", 11.0, 5.0, \"Yes\", 1], [181, \"Vikram\", \"Male\", 50.0, \"Kolkata\", \"Working Professional\", \"Customer Support\", NaN, 2.0, NaN, NaN, 5.0, \"7-8 hours\", \"Healthy\", \"BA\", \"Yes\", 2.0, 4.0, \"No\", 0], [182, \"Yogesh\", \"Male\", 56.0, \"Ahmedabad\", \"Working Professional\", \"Pharmacist\", NaN, 2.0, NaN, NaN, 5.0, \"Less than 5 hours\", \"Unhealthy\", \"MBBS\", \"No\", 4.0, 5.0, \"Yes\", 0], [183, \"Pratyush\", \"Male\", 57.0, \"Visakhapatnam\", \"Working Professional\", \"Manager\", NaN, 4.0, NaN, NaN, 2.0, \"5-6 hours\", \"Unhealthy\", \"MHM\", \"Yes\", 9.0, 4.0, \"Yes\", 0], [184, \"Ila\", \"Female\", 49.0, \"Nashik\", \"Working Professional\", \"Entrepreneur\", NaN, 2.0, NaN, NaN, 5.0, \"More than 8 hours\", \"Unhealthy\", \"B.Tech\", \"No\", 1.0, 4.0, \"Yes\", 0], [185, \"Rishi\", \"Male\", 55.0, \"Hyderabad\", \"Working Professional\", \"Content Writer\", NaN, 2.0, NaN, NaN, 2.0, \"Less than 5 hours\", \"Unhealthy\", \"B.Ed\", \"No\", 11.0, 3.0, \"No\", 0], [186, \"Pratham\", \"Male\", 31.0, \"Ahmedabad\", \"Student\", \"NaN\", 2.0, NaN, 6.08, 5.0, NaN, \"7-8 hours\", \"Moderate\", \"LLB\", \"Yes\", 3.0, 3.0, \"Yes\", 1], [187, \"Aditi\", \"Female\", 39.0, \"Ludhiana\", \"Working Professional\", \"Data Scientist\", NaN, 4.0, NaN, NaN, 3.0, \"5-6 hours\", \"Unhealthy\", \"MCA\", \"No\", 5.0, 5.0, \"No\", 0], [188, \"Ayansh\", \"Male\", 50.0, \"Patna\", \"Working Professional\", \"Teacher\", NaN, 1.0, NaN, NaN, 3.0, \"Less than 5 hours\", \"Moderate\", \"B.Ed\", \"Yes\", 0.0, 2.0, \"No\", 0], [189, \"Armaan\", \"Male\", 59.0, \"Indore\", \"Working Professional\", \"Chemist\", NaN, 5.0, NaN, NaN, 4.0, \"More than 8 hours\", \"Moderate\", \"M.Pharm\", \"No\", 10.0, 4.0, \"Yes\", 0], [190, \"Vidya\", \"Female\", 39.0, \"Lucknow\", \"Working Professional\", \"Chef\", NaN, 1.0, NaN, NaN, 5.0, \"Less than 5 hours\", \"Unhealthy\", \"MHM\", \"Yes\", 4.0, 5.0, \"Yes\", 0], [191, \"Kolkata\", \"Male\", 54.0, \"Kolkata\", \"Working Professional\", \"Lawyer\", NaN, 1.0, NaN, NaN, 3.0, \"Less than 5 hours\", \"Unhealthy\", \"LLB\", \"Yes\", 2.0, 1.0, \"Yes\", 0], [192, \"Abhishek\", \"Male\", 29.0, \"Vasai-Virar\", \"Working Professional\", \"Judge\", NaN, 2.0, NaN, NaN, 3.0, \"More than 8 hours\", \"Moderate\", \"LLB\", \"Yes\", 8.0, 1.0, \"Yes\", 0], [193, \"Gaurav\", \"Male\", 25.0, \"Lucknow\", \"Student\", \"NaN\", 3.0, NaN, 7.25, 3.0, NaN, \"More than 8 hours\", \"Unhealthy\", \"M.Ed\", \"Yes\", 10.0, 5.0, \"No\", 1], [194, \"Kavya\", \"Female\", 54.0, \"Kolkata\", \"Working Professional\", \"Teacher\", NaN, 2.0, NaN, NaN, 2.0, \"5-6 hours\", \"Moderate\", \"B.Ed\", \"No\", 6.0, 4.0, \"Yes\", 0], [195, \"Shivam\", \"Male\", 38.0, \"Mumbai\", \"Working Professional\", \"Teacher\", NaN, 1.0, NaN, NaN, 2.0, \"7-8 hours\", \"Healthy\", \"BA\", \"No\", 2.0, 4.0, \"No\", 0], [196, \"Aanchal\", \"Female\", 33.0, \"Srinagar\", \"Working Professional\", \"Teacher\", NaN, 3.0, NaN, NaN, 4.0, \"7-8 hours\", \"Healthy\", \"B.Ed\", \"Yes\", 11.0, 5.0, \"No\", 0], [197, \"Vedant\", \"Male\", 46.0, \"Nashik\", \"Working Professional\", \"Financial Analyst\", NaN, 2.0, NaN, NaN, 1.0, \"More than 8 hours\", \"Healthy\", \"M.Com\", \"No\", 10.0, 3.0, \"Yes\", 0], [198, \"Abhishek\", \"Male\", 37.0, \"Jaipur\", \"Working Professional\", \"Teacher\", NaN, 3.0, NaN, NaN, 4.0, \"More than 8 hours\", \"Moderate\", \"M.Pharm\", \"Yes\", 2.0, 3.0, \"Yes\", 0], [199, \"Aariv\", \"Male\", 43.0, \"Patna\", \"Working Professional\", \"Teacher\", NaN, 1.0, NaN, NaN, 4.0, \"More than 8 hours\", \"Moderate\", \"B.Ed\", \"Yes\", 4.0, 5.0, \"Yes\", 0], [200, \"Samaira\", \"Female\", 60.0, \"Kalyan\", \"Working Professional\", \"Research Analyst\", NaN, 5.0, NaN, NaN, 2.0, \"5-6 hours\", \"Healthy\", \"MBA\", \"No\", 3.0, 2.0, \"No\", 0], [201, \"Harsh\", \"Male\", 48.0, \"Indore\", \"Working Professional\", \"Sales Executive\", NaN, 1.0, NaN, NaN, 1.0, \"7-8 hours\", \"Moderate\", \"M.Com\", \"Yes\", 12.0, 5.0, \"Yes\", 0], [202, \"Reyansh\", \"Male\", 43.0, \"Meerut\", \"Working Professional\", \"Customer Support\", NaN, 5.0, NaN, NaN, 3.0, \"5-6 hours\", \"Healthy\", \"B.Com\", \"No\", 12.0, 1.0, \"Yes\", 0], [203, \"Shiv\", \"Male\", 49.0, \"Bangalore\", \"Working Professional\", \"Chemist\", NaN, 2.0, NaN, NaN, 2.0, \"Less than 5 hours\", \"Moderate\", \"M.Pharm\", \"Yes\", 6.0, 1.0, \"No\", 0], [204, \"Nikita\", \"Female\", 45.0, \"Vadodara\", \"Working Professional\", \"Teacher\", NaN, 4.0, NaN, NaN, 2.0, \"More than 8 hours\", \"Healthy\", \"B.Arch\", \"No\", 2.0, 4.0, \"Yes\", 0], [140496, \"Jhanvi\", \"Female\", 40.0, \"Chennai\", \"Working Professional\", \"Researcher\", NaN, 4.0, NaN, NaN, 5.0, \"7-8 hours\", \"Healthy\", \"MCA\", \"No\", 4.0, 3.0, \"Yes\", 0], [140497, \"Ritik\", \"Male\", 43.0, \"Nagpur\", \"Working Professional\", \"Business Analyst\", NaN, 2.0, NaN, NaN, 3.0, \"5-6 hours\", \"Unhealthy\", \"B.Com\", \"Yes\", 4.0, 5.0, \"No\", 0], [140498, \"Raghavendra\", \"Male\", 54.0, \"Vadodara\", \"Working Professional\", \"HR Manager\", NaN, 2.0, NaN, NaN, 2.0, \"5-6 hours\", \"Moderate\", \"M.Tech\", \"Yes\", 4.0, 1.0, \"No\", 0], [140499, \"Yashvi\", \"Female\", 57.0, \"Thane\", \"Working Professional\", \"Teacher\", NaN, 1.0, NaN, NaN, 1.0, \"7-8 hours\", \"Unhealthy\", \"B.Pharm\", \"Yes\", 11.0, 1.0, \"Yes\", 0], [140500, \"Kartikeya\", \"Male\", 42.0, \"Kolkata\", \"Working Professional\", \"Manager\", NaN, 3.0, NaN, NaN, 5.0, \"Less than 5 hours\", \"Unhealthy\", \"BHM\", \"Yes\", 1.0, 3.0, \"Yes\", 0], [140501, \"Mira\", \"Female\", 33.0, \"Vasai-Virar\", \"Working Professional\", \"Content Writer\", NaN, 4.0, NaN, NaN, 4.0, \"Less than 5 hours\", \"Unhealthy\", \"M.Ed\", \"Yes\", 11.0, 5.0, \"No\", 0], [140502, \"Kartik\", \"Male\", 48.0, \"Pune\", \"Working Professional\", \"Investment Banker\", NaN, 1.0, NaN, NaN, 1.0, \"5-6 hours\", \"Healthy\", \"MBA\", \"No\", 10.0, 2.0, \"Yes\", 0], [140503, \"Aarush\", \"Male\", 22.0, \"Chennai\", \"Student\", \"NaN\", 2.0, NaN, 5.77, 1.0, NaN, \"5-6 hours\", \"Unhealthy\", \"M.Tech\", \"No\", 10.0, 1.0, \"No\", 0], [140504, \"Aarush\", \"Male\", 18.0, \"Ahmedabad\", \"Student\", \"NaN\", 3.0, NaN, 7.88, 4.0, NaN, \"7-8 hours\", \"Healthy\", \"Class 12\", \"Yes\", 10.0, 3.0, \"No\", 1], [140505, \"Ila\", \"Female\", 42.0, \"Kalyan\", \"Working Professional\", \"HR Manager\", NaN, 4.0, NaN, NaN, 2.0, \"More than 8 hours\", \"Healthy\", \"MSc\", \"No\", 8.0, 2.0, \"No\", 0], [140506, \"Darsh\", \"Male\", 58.0, \"Vasai-Virar\", \"Working Professional\", \"Researcher\", NaN, 4.0, NaN, NaN, 3.0, \"5-6 hours\", \"Moderate\", \"ME\", \"No\", 8.0, 4.0, \"Yes\", 0], [140507, \"Gauri\", \"Female\", 33.0, \"Chennai\", \"Student\", \"NaN\", 5.0, NaN, 5.86, 3.0, NaN, \"Less than 5 hours\", \"Unhealthy\", \"BCA\", \"Yes\", 12.0, 5.0, \"Yes\", 1], [140508, \"Tara\", \"Female\", 48.0, \"Mumbai\", \"Working Professional\", \"Manager\", NaN, 4.0, NaN, NaN, 1.0, \"5-6 hours\", \"Unhealthy\", \"MHM\", \"No\", 6.0, 4.0, \"Yes\", 0], [140509, \"Prachi\", \"Female\", 38.0, \"Kolkata\", \"Working Professional\", \"Pharmacist\", NaN, 3.0, NaN, NaN, 2.0, \"More than 8 hours\", \"Moderate\", \"MBBS\", \"Yes\", 7.0, 4.0, \"Yes\", 0], [140510, \"Riya\", \"Female\", 51.0, \"Mumbai\", \"Working Professional\", \"Entrepreneur\", NaN, 4.0, NaN, NaN, 3.0, \"Less than 5 hours\", \"Unhealthy\", \"B.Tech\", \"Yes\", 2.0, 5.0, \"No\", 0], [140511, \"Pallavi\", \"Female\", 38.0, \"Vadodara\", \"Working Professional\", \"Chef\", NaN, 3.0, NaN, NaN, 1.0, \"Less than 5 hours\", \"Healthy\", \"BHM\", \"Yes\", 1.0, 1.0, \"Yes\", 0], [140512, \"Arnav\", \"Male\", 30.0, \"Hyderabad\", \"Student\", \"NaN\", 5.0, NaN, 9.71, 2.0, NaN, \"7-8 hours\", \"Unhealthy\", \"M.Ed\", \"Yes\", 9.0, 5.0, \"No\", 1], [140513, \"Yamini\", \"Female\", 25.0, \"Visakhapatnam\", \"Student\", \"NaN\", 2.0, NaN, 8.7, 5.0, NaN, \"5-6 hours\", \"Healthy\", \"B.Ed\", \"Yes\", 1.0, 4.0, \"Yes\", 0], [140514, \"Aarti\", \"Female\", 24.0, \"Vasai-Virar\", \"Working Professional\", \"NaN\", NaN, 3.0, NaN, NaN, 3.0, \"More than 8 hours\", \"Healthy\", \"Class 12\", \"No\", 4.0, 4.0, \"No\", 0], [140515, \"Arav\", \"Male\", 59.0, \"Vasai-Virar\", \"Working Professional\", \"Architect\", NaN, 2.0, NaN, NaN, 5.0, \"More than 8 hours\", \"Unhealthy\", \"B.Arch\", \"Yes\", 8.0, 2.0, \"No\", 0], [140516, \"Prisha\", \"Female\", 55.0, \"Mumbai\", \"Working Professional\", \"Investment Banker\", NaN, 3.0, NaN, NaN, 4.0, \"Less than 5 hours\", \"Moderate\", \"MBA\", \"No\", 4.0, 2.0, \"Yes\", 0], [140517, \"Reyansh\", \"Male\", 26.0, \"Srinagar\", \"Student\", \"NaN\", 1.0, NaN, 7.46, 3.0, NaN, \"5-6 hours\", \"Unhealthy\", \"MCA\", \"No\", 12.0, 2.0, \"No\", 0], [140518, \"Abhishek\", \"Male\", 34.0, \"Jaipur\", \"Student\", \"NaN\", 4.0, NaN, 5.12, 5.0, NaN, \"7-8 hours\", \"Healthy\", \"MD\", \"Yes\", 4.0, 4.0, \"Yes\", 0], [140519, \"Deepak\", \"Male\", 46.0, \"Hyderabad\", \"Working Professional\", \"Sales Executive\", NaN, 5.0, NaN, NaN, 3.0, \"Less than 5 hours\", \"Healthy\", \"BBA\", \"No\", 7.0, 3.0, \"No\", 0], [140520, \"Arav\", \"Male\", 31.0, \"Patna\", \"Working Professional\", \"Judge\", NaN, 4.0, NaN, NaN, 3.0, \"5-6 hours\", \"Unhealthy\", \"LLB\", \"Yes\", 7.0, 5.0, \"Yes\", 1], [140521, \"Aishwarya\", \"Female\", 45.0, \"Ludhiana\", \"Working Professional\", \"Digital Marketer\", NaN, 1.0, NaN, NaN, 3.0, \"7-8 hours\", \"Unhealthy\", \"B.Com\", \"No\", 1.0, 3.0, \"No\", 0], [140522, \"Kriti\", \"Female\", 22.0, \"Vasai-Virar\", \"Student\", \"Architect\", 3.0, NaN, 9.13, 4.0, NaN, \"7-8 hours\", \"Unhealthy\", \"MCA\", \"Yes\", 4.0, 1.0, \"Yes\", 1], [140523, \"Rupal\", \"Female\", 37.0, \"Srinagar\", \"Working Professional\", \"Lawyer\", NaN, 4.0, NaN, NaN, 2.0, \"7-8 hours\", \"Moderate\", \"LLB\", \"Yes\", 7.0, 2.0, \"Yes\", 0], [140524, \"Rupal\", \"Female\", 26.0, \"Vadodara\", \"Working Professional\", \"Customer Support\", NaN, 1.0, NaN, NaN, 4.0, \"More than 8 hours\", \"Unhealthy\", \"BA\", \"Yes\", 3.0, 2.0, \"No\", 0], [140525, \"Riya\", \"Female\", 42.0, \"Chennai\", \"Working Professional\", \"Consultant\", NaN, 1.0, NaN, NaN, 2.0, \"More than 8 hours\", \"Healthy\", \"MSc\", \"No\", 6.0, 5.0, \"No\", 0], [140526, \"Janvi\", \"Female\", 26.0, \"Surat\", \"Working Professional\", \"Teacher\", NaN, 3.0, NaN, NaN, 5.0, \"Less than 5 hours\", \"Moderate\", \"B.Arch\", \"Yes\", 10.0, 4.0, \"No\", 0], [140527, \"Shivansh\", \"Male\", 49.0, \"Mumbai\", \"Working Professional\", \"Plumber\", NaN, 2.0, NaN, NaN, 1.0, \"Less than 5 hours\", \"Moderate\", \"BE\", \"No\", 0.0, 5.0, \"No\", 0], [140528, \"Tina\", \"Female\", 46.0, \"Vadodara\", \"Working Professional\", \"Electrician\", NaN, 3.0, NaN, NaN, 5.0, \"5-6 hours\", \"Healthy\", \"ME\", \"Yes\", 5.0, 1.0, \"No\", 0], [140529, \"Yashvi\", \"Female\", 44.0, \"Vadodara\", \"Working Professional\", \"Teacher\", NaN, 3.0, NaN, NaN, 2.0, \"More than 8 hours\", \"Unhealthy\", \"M.Com\", \"Yes\", 8.0, 4.0, \"No\", 0], [140530, \"Vibha\", \"Female\", 19.0, \"Ghaziabad\", \"Student\", \"NaN\", 3.0, NaN, 9.93, 3.0, NaN, \"7-8 hours\", \"Unhealthy\", \"Class 12\", \"Yes\", 4.0, 5.0, \"No\", 1], [140531, \"Saanvi\", \"Female\", 23.0, \"Faridabad\", \"Student\", \"NaN\", 3.0, NaN, 5.38, 4.0, NaN, \"7-8 hours\", \"Unhealthy\", \"BSc\", \"Yes\", 12.0, 4.0, \"No\", 1], [140532, \"Shlok\", \"Male\", 42.0, \"Agra\", \"Working Professional\", \"Digital Marketer\", NaN, 2.0, NaN, NaN, 3.0, \"7-8 hours\", \"Moderate\", \"BA\", \"No\", 9.0, 4.0, \"No\", 0], [140533, \"Rupak\", \"Male\", 53.0, \"Vadodara\", \"Working Professional\", \"Architect\", NaN, 4.0, NaN, NaN, 4.0, \"5-6 hours\", \"Moderate\", \"B.Arch\", \"Yes\", 7.0, 5.0, \"Yes\", 0], [140534, \"Jhanvi\", \"Female\", 39.0, \"Ludhiana\", \"Working Professional\", \"Travel Consultant\", NaN, 2.0, NaN, NaN, 4.0, \"More than 8 hours\", \"Healthy\", \"MHM\", \"No\", 5.0, 3.0, \"No\", 0], [140535, \"Tushar\", \"Male\", 51.0, \"Vasai-Virar\", \"Working Professional\", \"Teacher\", NaN, 3.0, NaN, NaN, 2.0, \"5-6 hours\", \"Unhealthy\", \"M.Ed\", \"No\", 5.0, 5.0, \"Yes\", 0], [140536, \"Arya\", \"Male\", 33.0, \"Nagpur\", \"Student\", \"NaN\", 1.0, NaN, 7.39, 4.0, NaN, \"7-8 hours\", \"Unhealthy\", \"BHM\", \"No\", 12.0, 2.0, \"No\", 0], [140537, \"Krishna\", \"Male\", 43.0, \"Bangalore\", \"Working Professional\", \"Teacher\", NaN, 2.0, NaN, NaN, 1.0, \"Less than 5 hours\", \"Moderate\", \"B.Arch\", \"Yes\", 4.0, 4.0, \"No\", 0], [140538, \"Pooja\", \"Female\", 42.0, \"Kalyan\", \"Working Professional\", \"Sales Executive\", NaN, 4.0, NaN, NaN, 5.0, \"More than 8 hours\", \"Unhealthy\", \"M.Com\", \"No\", 7.0, 5.0, \"Yes\", 0], [140539, \"Zoya\", \"Female\", 49.0, \"Kolkata\", \"Working Professional\", \"Civil Engineer\", NaN, 1.0, NaN, NaN, 3.0, \"Less than 5 hours\", \"Unhealthy\", \"BSc\", \"No\", 2.0, 2.0, \"Yes\", 0], [140540, \"Ila\", \"Female\", 50.0, \"Srinagar\", \"Working Professional\", \"Chef\", NaN, 5.0, NaN, NaN, 2.0, \"More than 8 hours\", \"Moderate\", \"BHM\", \"No\", 12.0, 5.0, \"No\", 0], [140541, \"Ansh\", \"Male\", 54.0, \"Vasai-Virar\", \"Working Professional\", \"Teacher\", NaN, 1.0, NaN, NaN, 4.0, \"7-8 hours\", \"Healthy\", \"B.Arch\", \"Yes\", 0.0, 5.0, \"Yes\", 0], [140542, \"Vidya\", \"Female\", 37.0, \"Ghaziabad\", \"Working Professional\", \"Architect\", NaN, 4.0, NaN, NaN, 3.0, \"7-8 hours\", \"Unhealthy\", \"B.Arch\", \"Yes\", 10.0, 5.0, \"No\", 0], [140543, \"Rhea\", \"Female\", 51.0, \"Indore\", \"Working Professional\", \"Electrician\", NaN, 5.0, NaN, NaN, 1.0, \"Less than 5 hours\", \"Healthy\", \"ME\", \"No\", 4.0, 4.0, \"No\", 0], [140544, \"Anand\", \"Male\", 51.0, \"Ghaziabad\", \"Working Professional\", \"Customer Support\", NaN, 4.0, NaN, NaN, 3.0, \"More than 8 hours\", \"Unhealthy\", \"B.Com\", \"Yes\", 9.0, 5.0, \"No\", 0], [140545, \"Rajat\", \"Male\", 19.0, \"Pune\", \"Student\", \"NaN\", 2.0, NaN, 6.33, 5.0, NaN, \"More than 8 hours\", \"Healthy\", \"Class 12\", \"Yes\", 12.0, 2.0, \"Yes\", 0], [140546, \"Aaradhya\", \"Female\", 28.0, \"Vasai-Virar\", \"Working Professional\", \"Customer Support\", NaN, 5.0, NaN, NaN, 2.0, \"7-8 hours\", \"Unhealthy\", \"BA\", \"Yes\", 0.0, 3.0, \"No\", 0], [140547, \"Anand\", \"Male\", 27.0, \"Indore\", \"Student\", \"NaN\", 4.0, NaN, 9.88, 3.0, NaN, \"7-8 hours\", \"Unhealthy\", \"B.Com\", \"Yes\", 12.0, 2.0, \"Yes\", 1], [140548, \"Ritvik\", \"Male\", 21.0, \"Kalyan\", \"Student\", \"NaN\", 1.0, NaN, 9.21, 3.0, NaN, \"More than 8 hours\", \"Unhealthy\", \"M.Com\", \"No\", 10.0, 3.0, \"No\", 0], [140549, \"Pari\", \"Female\", 47.0, \"Ahmedabad\", \"Working Professional\", \"Research Analyst\", NaN, 2.0, NaN, NaN, 4.0, \"7-8 hours\", \"Moderate\", \"MBA\", \"Yes\", 10.0, 4.0, \"No\", 0], [140550, \"Anika\", \"Female\", 59.0, \"Nagpur\", \"Working Professional\", \"Doctor\", NaN, 2.0, NaN, NaN, 5.0, \"5-6 hours\", \"Healthy\", \"B.Pharm\", \"Yes\", 9.0, 1.0, \"No\", 0], [140551, \"Zara\", \"Female\", 28.0, \"Srinagar\", \"Working Professional\", \"Business Analyst\", NaN, 1.0, NaN, NaN, 4.0, \"Less than 5 hours\", \"Moderate\", \"M.Com\", \"No\", 12.0, 4.0, \"Yes\", 0], [140552, \"Mira\", \"Female\", 56.0, \"Visakhapatnam\", \"Working Professional\", \"Architect\", NaN, 2.0, NaN, NaN, 4.0, \"5-6 hours\", \"Unhealthy\", \"MCA\", \"Yes\", 11.0, 4.0, \"Yes\", 0], [140553, \"Janvi\", \"Female\", 52.0, \"Varanasi\", \"Working Professional\", \"Educational Consultant\", NaN, 1.0, NaN, NaN, 3.0, \"5-6 hours\", \"Healthy\", \"M.Ed\", \"No\", 9.0, 3.0, \"Yes\", 0], [140554, \"Rajveer\", \"Male\", 42.0, \"Bangalore\", \"Working Professional\", \"Teacher\", NaN, 3.0, NaN, NaN, 5.0, \"Less than 5 hours\", \"Moderate\", \"MBBS\", \"Yes\", 5.0, 5.0, \"No\", 0], [140555, \"Aarav\", \"Male\", 41.0, \"Bangalore\", \"Working Professional\", \"Manager\", NaN, 1.0, NaN, NaN, 3.0, \"Less than 5 hours\", \"Unhealthy\", \"MHM\", \"No\", 4.0, 2.0, \"No\", 0], [140556, \"Aditi\", \"Female\", 50.0, \"Chennai\", \"Working Professional\", \"Civil Engineer\", NaN, 2.0, NaN, NaN, 5.0, \"Less than 5 hours\", \"Moderate\", \"MCA\", \"No\", 6.0, 5.0, \"No\", 0], [140557, \"Vivan\", \"Male\", 45.0, \"Nagpur\", \"Working Professional\", \"Judge\", NaN, 2.0, NaN, NaN, 5.0, \"5-6 hours\", \"Healthy\", \"LLM\", \"Yes\", 3.0, 3.0, \"Yes\", 0], [140558, \"Ivaan\", \"Male\", 24.0, \"Nagpur\", \"Student\", \"NaN\", 3.0, NaN, 8.54, 3.0, NaN, \"5-6 hours\", \"Moderate\", \"Class 12\", \"Yes\", 11.0, 2.0, \"No\", 0], [140559, \"Vibha\", \"Female\", 18.0, \"Agra\", \"Working Professional\", \"NaN\", NaN, 2.0, NaN, NaN, 5.0, \"7-8 hours\", \"Unhealthy\", \"Class 12\", \"Yes\", 7.0, 2.0, \"No\", 0], [140560, \"Jiya\", \"Female\", 38.0, \"Nagpur\", \"Working Professional\", \"Financial Analyst\", NaN, 1.0, NaN, NaN, 5.0, \"7-8 hours\", \"Unhealthy\", \"M.Com\", \"Yes\", 0.0, 3.0, \"No\", 0], [140561, \"Aarti\", \"Female\", 18.0, \"Pune\", \"Working Professional\", \"NaN\", NaN, 3.0, NaN, NaN, 5.0, \"More than 8 hours\", \"Healthy\", \"Class 12\", \"Yes\", 8.0, 4.0, \"Yes\", 0], [140562, \"Ivaan\", \"Male\", 56.0, \"Kolkata\", \"Working Professional\", \"Teacher\", NaN, 3.0, NaN, NaN, 1.0, \"5-6 hours\", \"Moderate\", \"B.Pharm\", \"No\", 5.0, 2.0, \"No\", 0], [140563, \"Shivam\", \"Male\", 44.0, \"Bhopal\", \"Working Professional\", \"Chemist\", NaN, 4.0, NaN, NaN, 2.0, \"More than 8 hours\", \"Moderate\", \"MD\", \"No\", 0.0, 1.0, \"No\", 0], [140564, \"Ishan\", \"Male\", 27.0, \"Surat\", \"Student\", \"NaN\", 4.0, NaN, 5.16, 4.0, NaN, \"Less than 5 hours\", \"Moderate\", \"M.Pharm\", \"Yes\", 6.0, 2.0, \"Yes\", 1], [140565, \"Armaan\", \"Male\", 48.0, \"Bangalore\", \"Working Professional\", \"Pilot\", NaN, 5.0, NaN, NaN, 2.0, \"Less than 5 hours\", \"Healthy\", \"BCA\", \"Yes\", 2.0, 5.0, \"No\", 0], [140566, \"Aaradhya\", \"Female\", 46.0, \"Bhopal\", \"Working Professional\", \"Pharmacist\", NaN, 2.0, NaN, NaN, 2.0, \"Less than 5 hours\", \"Healthy\", \"MBBS\", \"Yes\", 12.0, 1.0, \"Yes\", 0], [140567, \"Gaurav\", \"Male\", 47.0, \"Patna\", \"Working Professional\", \"HR Manager\", NaN, 5.0, NaN, NaN, 2.0, \"Less than 5 hours\", \"Unhealthy\", \"BBA\", \"No\", 2.0, 4.0, \"No\", 0], [140568, \"Anvi\", \"Female\", 28.0, \"Vasai-Virar\", \"Student\", \"NaN\", 2.0, NaN, 5.86, 3.0, NaN, \"Less than 5 hours\", \"Unhealthy\", \"M.Ed\", \"No\", 1.0, 2.0, \"No\", 0], [140569, \"Ira\", \"Female\", 39.0, \"Kolkata\", \"Working Professional\", \"Consultant\", NaN, 2.0, NaN, NaN, 2.0, \"More than 8 hours\", \"Healthy\", \"B.Com\", \"Yes\", 0.0, 2.0, \"No\", 0], [140570, \"Vivan\", \"Male\", 58.0, \"Meerut\", \"Working Professional\", \"Financial Analyst\", NaN, 2.0, NaN, NaN, 4.0, \"More than 8 hours\", \"Moderate\", \"M.Com\", \"No\", 8.0, 1.0, \"No\", 0], [140571, \"Mayank\", \"Male\", 35.0, \"Srinagar\", \"Working Professional\", \"Teacher\", NaN, 4.0, NaN, NaN, 3.0, \"5-6 hours\", \"Healthy\", \"LLB\", \"Yes\", 12.0, 5.0, \"Yes\", 0], [140572, \"Rohan\", \"Male\", 53.0, \"Kolkata\", \"Working Professional\", \"Consultant\", NaN, 1.0, NaN, NaN, 2.0, \"Less than 5 hours\", \"Healthy\", \"B.Com\", \"Yes\", 6.0, 3.0, \"No\", 0], [140573, \"Parth\", \"Male\", 37.0, \"Patna\", \"Working Professional\", \"Chef\", NaN, 2.0, NaN, NaN, 5.0, \"5-6 hours\", \"Unhealthy\", \"MHM\", \"No\", 10.0, 3.0, \"Yes\", 0], [140574, \"Rahil\", \"Male\", 43.0, \"Meerut\", \"Working Professional\", \"Civil Engineer\", NaN, 2.0, NaN, NaN, 3.0, \"Less than 5 hours\", \"Unhealthy\", \"BSc\", \"Yes\", 5.0, 3.0, \"No\", 0], [140575, \"Shaurya\", \"Male\", 51.0, \"Jaipur\", \"Working Professional\", \"Mechanical Engineer\", NaN, 3.0, NaN, NaN, 2.0, \"5-6 hours\", \"Moderate\", \"MSc\", \"Yes\", 1.0, 2.0, \"Yes\", 0], [140576, \"Rupak\", \"Male\", 49.0, \"Bangalore\", \"Working Professional\", \"Architect\", NaN, 1.0, NaN, NaN, 3.0, \"More than 8 hours\", \"Healthy\", \"B.Arch\", \"No\", 9.0, 3.0, \"No\", 0], [140577, \"Aariv\", \"Male\", 28.0, \"Agra\", \"Working Professional\", \"NaN\", NaN, 5.0, NaN, NaN, 4.0, \"Less than 5 hours\", \"Unhealthy\", \"Class 12\", \"Yes\", 11.0, 3.0, \"Yes\", 1], [140578, \"Rohan\", \"Male\", 48.0, \"Mumbai\", \"Working Professional\", \"Content Writer\", NaN, 5.0, NaN, NaN, 1.0, \"Less than 5 hours\", \"Moderate\", \"B.Ed\", \"No\", 11.0, 3.0, \"Yes\", 0], [140579, \"Rohan\", \"Male\", 56.0, \"Rajkot\", \"Working Professional\", \"Consultant\", NaN, 3.0, NaN, NaN, 4.0, \"5-6 hours\", \"Healthy\", \"B.Com\", \"No\", 7.0, 2.0, \"Yes\", 0], [140580, \"Reyansh\", \"Male\", 25.0, \"Kanpur\", \"Working Professional\", \"Travel Consultant\", NaN, 3.0, NaN, NaN, 5.0, \"Less than 5 hours\", \"Unhealthy\", \"MHM\", \"Yes\", 9.0, 2.0, \"Yes\", 0], [140581, \"Reyansh\", \"Male\", 54.0, \"Faridabad\", \"Working Professional\", \"Researcher\", NaN, 4.0, NaN, NaN, 2.0, \"5-6 hours\", \"Healthy\", \"BSc\", \"Yes\", 8.0, 4.0, \"No\", 0], [140582, \"Ritik\", \"Male\", 52.0, \"Chennai\", \"Working Professional\", \"Teacher\", NaN, 2.0, NaN, NaN, 1.0, \"More than 8 hours\", \"Moderate\", \"M.Pharm\", \"No\", 2.0, 2.0, \"No\", 0], [140583, \"Shiv\", \"Male\", 53.0, \"Delhi\", \"Working Professional\", \"Judge\", NaN, 4.0, NaN, NaN, 2.0, \"Less than 5 hours\", \"Moderate\", \"LLB\", \"No\", 3.0, 1.0, \"No\", 0], [140584, \"Vibha\", \"Female\", 22.0, \"Kanpur\", \"Student\", \"NaN\", 4.0, NaN, 6.61, 2.0, NaN, \"More than 8 hours\", \"Unhealthy\", \"M.Com\", \"Yes\", 6.0, 5.0, \"No\", 1], [140585, \"Vedant\", \"Male\", 51.0, \"Kalyan\", \"Working Professional\", \"Teacher\", NaN, 2.0, NaN, NaN, 2.0, \"More than 8 hours\", \"Moderate\", \"M.Pharm\", \"No\", 6.0, 5.0, \"No\", 0], [140586, \"Om\", \"Male\", 57.0, \"Visakhapatnam\", \"Working Professional\", \"Chef\", NaN, 5.0, NaN, NaN, 4.0, \"7-8 hours\", \"Healthy\", \"MHM\", \"No\", 1.0, 2.0, \"No\", 0], [140587, \"Nikita\", \"Female\", 59.0, \"Chennai\", \"Working Professional\", \"Consultant\", NaN, 4.0, NaN, NaN, 3.0, \"5-6 hours\", \"Unhealthy\", \"BSc\", \"Yes\", 3.0, 4.0, \"Yes\", 0], [140588, \"Pratyush\", \"Male\", 41.0, \"Pune\", \"Working Professional\", \"Judge\", NaN, 2.0, NaN, NaN, 3.0, \"7-8 hours\", \"Unhealthy\", \"LLB\", \"No\", 10.0, 2.0, \"Yes\", 0], [140589, \"Sanya\", \"Female\", 48.0, \"Mumbai\", \"Working Professional\", \"Business Analyst\", NaN, 3.0, NaN, NaN, 2.0, \"7-8 hours\", \"Healthy\", \"M.Com\", \"Yes\", 0.0, 2.0, \"Yes\", 0], [140590, \"Vidhi\", \"Female\", 28.0, \"Srinagar\", \"Working Professional\", \"Digital Marketer\", NaN, 2.0, NaN, NaN, 4.0, \"7-8 hours\", \"Moderate\", \"B.Com\", \"Yes\", 2.0, 2.0, \"Yes\", 0], [140591, \"Karishma\", \"Female\", 59.0, \"Bangalore\", \"Working Professional\", \"Teacher\", NaN, 2.0, NaN, NaN, 3.0, \"Less than 5 hours\", \"Moderate\", \"B.Ed\", \"No\", 2.0, 3.0, \"Yes\", 0], [140592, \"Ishan\", \"Male\", 39.0, \"Nagpur\", \"Working Professional\", \"Teacher\", NaN, 2.0, NaN, NaN, 1.0, \"Less than 5 hours\", \"Moderate\", \"LLM\", \"No\", 7.0, 1.0, \"No\", 0], [140593, \"Tushar\", \"Male\", 18.0, \"Surat\", \"Working Professional\", \"NaN\", NaN, 1.0, NaN, NaN, 1.0, \"5-6 hours\", \"Healthy\", \"Class 12\", \"Yes\", 8.0, 4.0, \"No\", 1], [140594, \"Vihaan\", \"Male\", 18.0, \"Meerut\", \"Student\", \"NaN\", 5.0, NaN, 6.25, 3.0, NaN, \"7-8 hours\", \"Unhealthy\", \"Class 12\", \"No\", 11.0, 2.0, \"Yes\", 1], [140595, \"Ansh\", \"Male\", 43.0, \"Lucknow\", \"Working Professional\", \"Teacher\", NaN, 4.0, NaN, NaN, 2.0, \"7-8 hours\", \"Moderate\", \"B.Ed\", \"No\", 1.0, 3.0, \"Yes\", 0], [140596, \"Rishi\", \"Male\", 37.0, \"Jaipur\", \"Working Professional\", \"Data Scientist\", NaN, 2.0, NaN, NaN, 4.0, \"Less than 5 hours\", \"Healthy\", \"BCA\", \"No\", 3.0, 5.0, \"Yes\", 0], [140597, \"Vani\", \"Female\", 19.0, \"Mumbai\", \"Student\", \"NaN\", 2.0, NaN, 9.21, 5.0, NaN, \"5-6 hours\", \"Unhealthy\", \"Class 12\", \"Yes\", 3.0, 2.0, \"No\", 0], [140598, \"Aishwarya\", \"Female\", 51.0, \"Bangalore\", \"Working Professional\", \"Doctor\", NaN, 3.0, NaN, NaN, 2.0, \"7-8 hours\", \"Moderate\", \"M.Pharm\", \"Yes\", 11.0, 1.0, \"No\", 0], [140599, \"Shaurya\", \"Male\", 50.0, \"Kanpur\", \"Working Professional\", \"Researcher\", NaN, 5.0, NaN, NaN, 4.0, \"7-8 hours\", \"Unhealthy\", \"B.Tech\", \"No\", 6.0, 1.0, \"No\", 0], [140600, \"Darsh\", \"Male\", 47.0, \"Rajkot\", \"Working Professional\", \"Judge\", NaN, 1.0, NaN, NaN, 5.0, \"7-8 hours\", \"Moderate\", \"LLB\", \"No\", 0.0, 3.0, \"Yes\", 0], [140601, \"Tanisha\", \"Female\", 22.0, \"Jaipur\", \"Student\", \"NaN\", 5.0, NaN, 9.25, 4.0, NaN, \"More than 8 hours\", \"Unhealthy\", \"BBA\", \"Yes\", 8.0, 3.0, \"No\", 1], [140602, \"Zara\", \"Female\", 57.0, \"Nashik\", \"Working Professional\", \"Teacher\", NaN, 5.0, NaN, NaN, 3.0, \"5-6 hours\", \"Unhealthy\", \"MBA\", \"No\", 2.0, 1.0, \"Yes\", 0], [140603, \"Harsha\", \"Male\", 59.0, \"Vasai-Virar\", \"Working Professional\", \"Teacher\", NaN, 2.0, NaN, NaN, 4.0, \"Less than 5 hours\", \"Moderate\", \"B.Arch\", \"Yes\", 9.0, 4.0, \"Yes\", 0], [140604, \"Janvi\", \"Female\", 49.0, \"Visakhapatnam\", \"Working Professional\", \"Teacher\", NaN, 4.0, NaN, NaN, 4.0, \"7-8 hours\", \"Healthy\", \"B.Arch\", \"No\", 4.0, 1.0, \"No\", 0], [140605, \"Vihaan\", \"Male\", 24.0, \"Pune\", \"Working Professional\", \"Teacher\", NaN, 2.0, NaN, NaN, 5.0, \"7-8 hours\", \"Moderate\", \"MD\", \"Yes\", 9.0, 5.0, \"Yes\", 1], [140606, \"Mahi\", \"Female\", 50.0, \"Delhi\", \"Working Professional\", \"NaN\", NaN, 1.0, NaN, NaN, 5.0, \"Less than 5 hours\", \"Healthy\", \"Class 12\", \"No\", 1.0, 1.0, \"No\", 0], [140607, \"Krishna\", \"Male\", 59.0, \"Varanasi\", \"Working Professional\", \"Travel Consultant\", NaN, 5.0, NaN, NaN, 5.0, \"More than 8 hours\", \"Unhealthy\", \"BHM\", \"No\", 3.0, 4.0, \"No\", 0], [140608, \"Zoya\", \"Female\", 44.0, \"Visakhapatnam\", \"Working Professional\", \"Architect\", NaN, 1.0, NaN, NaN, 3.0, \"Less than 5 hours\", \"Moderate\", \"B.Arch\", \"No\", 9.0, 5.0, \"Yes\", 0], [140609, \"Pranav\", \"Male\", 25.0, \"Mumbai\", \"Working Professional\", \"NaN\", NaN, 5.0, NaN, NaN, 5.0, \"Less than 5 hours\", \"Unhealthy\", \"Class 12\", \"Yes\", 6.0, 4.0, \"Yes\", 1], [140610, \"Trisha\", \"Female\", 44.0, \"Pune\", \"Working Professional\", \"Business Analyst\", NaN, 5.0, NaN, NaN, 2.0, \"More than 8 hours\", \"Moderate\", \"BCA\", \"No\", 10.0, 3.0, \"Yes\", 0], [140611, \"Rohan\", \"Male\", 50.0, \"Kalyan\", \"Working Professional\", \"Entrepreneur\", NaN, 3.0, NaN, NaN, 1.0, \"Less than 5 hours\", \"Moderate\", \"BBA\", \"No\", 2.0, 2.0, \"Yes\", 0], [140612, \"Raghavendra\", \"Male\", 38.0, \"Pune\", \"Working Professional\", \"Teacher\", NaN, 5.0, NaN, NaN, 4.0, \"7-8 hours\", \"Healthy\", \"LLM\", \"Yes\", 5.0, 3.0, \"Yes\", 0], [140613, \"Vivan\", \"Male\", 45.0, \"Patna\", \"Working Professional\", \"Teacher\", NaN, 5.0, NaN, NaN, 1.0, \"7-8 hours\", \"Healthy\", \"B.Ed\", \"Yes\", 2.0, 3.0, \"Yes\", 0], [140614, \"Jiya\", \"Female\", 56.0, \"Bhopal\", \"Working Professional\", \"Doctor\", NaN, 1.0, NaN, NaN, 4.0, \"Less than 5 hours\", \"Healthy\", \"MD\", \"No\", 6.0, 1.0, \"No\", 0], [140615, \"Rahil\", \"Male\", 38.0, \"Jaipur\", \"Working Professional\", \"Teacher\", NaN, 4.0, NaN, NaN, 3.0, \"More than 8 hours\", \"Unhealthy\", \"MBA\", \"No\", 7.0, 1.0, \"No\", 0], [140616, \"Shiv\", \"Male\", 39.0, \"Ludhiana\", \"Working Professional\", \"Teacher\", NaN, 4.0, NaN, NaN, 5.0, \"More than 8 hours\", \"Unhealthy\", \"LLM\", \"Yes\", 9.0, 2.0, \"Yes\", 0], [140617, \"Ritika\", \"Female\", 42.0, \"Bangalore\", \"Working Professional\", \"Consultant\", NaN, 1.0, NaN, NaN, 2.0, \"5-6 hours\", \"Moderate\", \"PhD\", \"No\", 9.0, 2.0, \"No\", 0], [140618, \"Tanisha\", \"Female\", 29.0, \"Kolkata\", \"Working Professional\", \"Consultant\", NaN, 1.0, NaN, NaN, 2.0, \"7-8 hours\", \"Unhealthy\", \"ME\", \"No\", 9.0, 5.0, \"Yes\", 0], [140619, \"Raunak\", \"Male\", 52.0, \"Lucknow\", \"Working Professional\", \"Teacher\", NaN, 2.0, NaN, NaN, 5.0, \"5-6 hours\", \"Moderate\", \"M.Ed\", \"Yes\", 11.0, 1.0, \"No\", 0], [140620, \"Rupal\", \"Female\", 42.0, \"Kalyan\", \"Working Professional\", \"Architect\", NaN, 4.0, NaN, NaN, 2.0, \"5-6 hours\", \"Moderate\", \"B.Arch\", \"Yes\", 12.0, 1.0, \"Yes\", 0], [140621, \"Prachi\", \"Female\", 23.0, \"Ahmedabad\", \"Working Professional\", \"Sales Executive\", NaN, 4.0, NaN, NaN, 1.0, \"Less than 5 hours\", \"Unhealthy\", \"B.Com\", \"Yes\", 4.0, 1.0, \"Yes\", 1], [140622, \"Rupal\", \"Female\", 23.0, \"Kanpur\", \"Working Professional\", \"Teacher\", NaN, 4.0, NaN, NaN, 5.0, \"7-8 hours\", \"Unhealthy\", \"BCA\", \"No\", 0.0, 1.0, \"No\", 0], [140623, \"Vani\", \"Female\", 56.0, \"Ghaziabad\", \"Working Professional\", \"Marketing Manager\", NaN, 2.0, NaN, NaN, 3.0, \"7-8 hours\", \"Moderate\", \"B.Com\", \"No\", 4.0, 1.0, \"Yes\", 0], [140624, \"Vikram\", \"Male\", 32.0, \"Rajkot\", \"Student\", \"NaN\", 4.0, NaN, 9.19, 1.0, NaN, \"5-6 hours\", \"Healthy\", \"MSc\", \"No\", 7.0, 4.0, \"Yes\", 1], [140625, \"Rohan\", \"Male\", 43.0, \"Pune\", \"Working Professional\", \"Teacher\", NaN, 1.0, NaN, NaN, 3.0, \"More than 8 hours\", \"Healthy\", \"LLM\", \"Yes\", 6.0, 5.0, \"Yes\", 0], [140626, \"Prachi\", \"Female\", 43.0, \"Ahmedabad\", \"Working Professional\", \"Teacher\", NaN, 3.0, NaN, NaN, 4.0, \"5-6 hours\", \"Moderate\", \"B.Arch\", \"Yes\", 1.0, 3.0, \"Yes\", 0], [140627, \"Rudransh\", \"Male\", 54.0, \"Kolkata\", \"Working Professional\", \"Plumber\", NaN, 5.0, NaN, NaN, 3.0, \"5-6 hours\", \"Unhealthy\", \"MCA\", \"No\", 7.0, 3.0, \"No\", 0], [140628, \"Leela\", \"Female\", 53.0, \"Patna\", \"Working Professional\", \"Business Analyst\", NaN, 3.0, NaN, NaN, 3.0, \"Less than 5 hours\", \"Unhealthy\", \"B.Com\", \"Yes\", 9.0, 1.0, \"No\", 0], [140629, \"Kartik\", \"Male\", 50.0, \"Meerut\", \"Working Professional\", \"Consultant\", NaN, 4.0, NaN, NaN, 3.0, \"7-8 hours\", \"Healthy\", \"MCA\", \"Yes\", 8.0, 4.0, \"No\", 1], [140630, \"Ishan\", \"Male\", 19.0, \"Kolkata\", \"Student\", \"NaN\", 4.0, NaN, 7.13, 1.0, NaN, \"More than 8 hours\", \"Moderate\", \"Class 12\", \"No\", 10.0, 2.0, \"No\", 1], [140631, \"Kunal\", \"Male\", 33.0, \"Ahmedabad\", \"Student\", \"NaN\", 1.0, NaN, 5.7, 2.0, NaN, \"Less than 5 hours\", \"Healthy\", \"MCA\", \"Yes\", 2.0, 2.0, \"No\", 0], [140632, \"Darsh\", \"Male\", 52.0, \"Bhopal\", \"Working Professional\", \"Teacher\", NaN, 2.0, NaN, NaN, 5.0, \"More than 8 hours\", \"Unhealthy\", \"BA\", \"No\", 12.0, 3.0, \"No\", 0], [140633, \"Isha\", \"Female\", 38.0, \"Chennai\", \"Working Professional\", \"Teacher\", NaN, 2.0, NaN, NaN, 5.0, \"More than 8 hours\", \"Healthy\", \"M.Ed\", \"No\", 5.0, 5.0, \"No\", 0], [140634, \"Satyam\", \"Male\", 41.0, \"Pune\", \"Working Professional\", \"Pharmacist\", NaN, 3.0, NaN, NaN, 5.0, \"More than 8 hours\", \"Healthy\", \"MBBS\", \"No\", 10.0, 1.0, \"No\", 0], [140635, \"Shrey\", \"Male\", 28.0, \"Ludhiana\", \"Student\", \"NaN\", 3.0, NaN, 5.03, 3.0, NaN, \"Less than 5 hours\", \"Moderate\", \"Class 12\", \"Yes\", 6.0, 2.0, \"Yes\", 0], [140636, \"Anushka\", \"Female\", 50.0, \"Vasai-Virar\", \"Working Professional\", \"HR Manager\", NaN, 2.0, NaN, NaN, 2.0, \"7-8 hours\", \"Unhealthy\", \"BBA\", \"No\", 9.0, 3.0, \"Yes\", 0], [140637, \"Veda\", \"Female\", 44.0, \"Ludhiana\", \"Working Professional\", \"Marketing Manager\", NaN, 4.0, NaN, NaN, 4.0, \"7-8 hours\", \"Unhealthy\", \"MA\", \"Yes\", 0.0, 3.0, \"No\", 0], [140638, \"Anvi\", \"Female\", 45.0, \"Visakhapatnam\", \"Working Professional\", \"Content Writer\", NaN, 2.0, NaN, NaN, 4.0, \"7-8 hours\", \"Healthy\", \"M.Ed\", \"Yes\", 12.0, 5.0, \"No\", 0], [140639, \"Ritik\", \"Male\", 38.0, \"Agra\", \"Working Professional\", \"Content Writer\", NaN, 5.0, NaN, NaN, 5.0, \"Less than 5 hours\", \"Healthy\", \"B.Ed\", \"Yes\", 10.0, 4.0, \"Yes\", 0], [140640, \"Ishaani\", \"Female\", 44.0, \"Thane\", \"Working Professional\", \"Teacher\", NaN, 2.0, NaN, NaN, 5.0, \"More than 8 hours\", \"Unhealthy\", \"MD\", \"No\", 10.0, 5.0, \"Yes\", 0], [140641, \"Shrey\", \"Male\", 18.0, \"Thane\", \"Working Professional\", \"NaN\", NaN, 5.0, NaN, NaN, 5.0, \"5-6 hours\", \"Moderate\", \"Class 12\", \"Yes\", 8.0, 1.0, \"Yes\", 0], [140642, \"Vihaan\", \"Male\", 53.0, \"Kalyan\", \"Working Professional\", \"Pharmacist\", NaN, 3.0, NaN, NaN, 3.0, \"5-6 hours\", \"Unhealthy\", \"B.Pharm\", \"No\", 4.0, 5.0, \"Yes\", 0], [140643, \"Rudransh\", \"Male\", 56.0, \"Agra\", \"Working Professional\", \"Content Writer\", NaN, 5.0, NaN, NaN, 2.0, \"More than 8 hours\", \"Unhealthy\", \"ME\", \"No\", 6.0, 2.0, \"Yes\", 0], [140644, \"Rohan\", \"Male\", 47.0, \"Mumbai\", \"Working Professional\", \"Teacher\", NaN, 2.0, NaN, NaN, 2.0, \"More than 8 hours\", \"Unhealthy\", \"B.Ed\", \"No\", 7.0, 1.0, \"Yes\", 0], [140645, \"Eshita\", \"Female\", 28.0, \"Thane\", \"Student\", \"NaN\", 4.0, NaN, 7.77, 3.0, NaN, \"Less than 5 hours\", \"Unhealthy\", \"MSc\", \"No\", 2.0, 5.0, \"No\", 1], [140646, \"Harini\", \"Female\", 53.0, \"Rajkot\", \"Working Professional\", \"Investment Banker\", NaN, 3.0, NaN, NaN, 1.0, \"5-6 hours\", \"Healthy\", \"BBA\", \"No\", 10.0, 1.0, \"No\", 0], [140647, \"Yuvraj\", \"Male\", 35.0, \"Rajkot\", \"Working Professional\", \"NaN\", NaN, 5.0, NaN, NaN, 1.0, \"7-8 hours\", \"Unhealthy\", \"Class 12\", \"Yes\", 11.0, 2.0, \"Yes\", 1], [140648, \"Rishi\", \"Male\", 53.0, \"Nagpur\", \"Working Professional\", \"Teacher\", NaN, 1.0, NaN, NaN, 1.0, \"Less than 5 hours\", \"Moderate\", \"LLM\", \"No\", 10.0, 5.0, \"No\", 0], [140649, \"Aadhya\", \"Female\", 47.0, \"Kolkata\", \"Working Professional\", \"Manager\", NaN, 5.0, NaN, NaN, 3.0, \"7-8 hours\", \"Healthy\", \"BHM\", \"No\", 0.0, 5.0, \"Yes\", 0], [140650, \"Aarav\", \"Male\", 56.0, \"Bhopal\", \"Working Professional\", \"Pharmacist\", NaN, 5.0, NaN, NaN, 5.0, \"More than 8 hours\", \"Unhealthy\", \"MBBS\", \"Yes\", 12.0, 4.0, \"No\", 0], [140651, \"Chhavi\", \"Female\", 59.0, \"Ludhiana\", \"Working Professional\", \"Sales Executive\", NaN, 2.0, NaN, NaN, 2.0, \"5-6 hours\", \"Healthy\", \"M.Com\", \"No\", 5.0, 5.0, \"Yes\", 0], [140652, \"Rupak\", \"Male\", 43.0, \"Thane\", \"Working Professional\", \"Teacher\", NaN, 1.0, NaN, NaN, 5.0, \"More than 8 hours\", \"Moderate\", \"B.Arch\", \"No\", 4.0, 3.0, \"No\", 0], [140653, \"Varun\", \"Male\", 21.0, \"Faridabad\", \"Working Professional\", \"Manager\", NaN, 5.0, NaN, NaN, 3.0, \"Less than 5 hours\", \"Unhealthy\", \"BHM\", \"No\", 0.0, 3.0, \"Yes\", 1], [140654, \"Armaan\", \"Male\", 31.0, \"Agra\", \"Working Professional\", \"Pharmacist\", NaN, 5.0, NaN, NaN, 3.0, \"Less than 5 hours\", \"Healthy\", \"MBBS\", \"No\", 11.0, 2.0, \"Yes\", 0], [140655, \"Kiran\", \"Male\", 44.0, \"Meerut\", \"Working Professional\", \"NaN\", NaN, 1.0, NaN, NaN, 3.0, \"More than 8 hours\", \"Healthy\", \"PhD\", \"No\", 0.0, 4.0, \"No\", 0], [140656, \"Nalini\", \"Female\", 59.0, \"Meerut\", \"Working Professional\", \"Teacher\", NaN, 3.0, NaN, NaN, 4.0, \"Less than 5 hours\", \"Unhealthy\", \"M.Ed\", \"No\", 11.0, 4.0, \"No\", 0], [140657, \"Aariv\", \"Male\", 48.0, \"Kolkata\", \"Working Professional\", \"Customer Support\", NaN, 5.0, NaN, NaN, 4.0, \"Less than 5 hours\", \"Unhealthy\", \"BA\", \"Yes\", 0.0, 4.0, \"No\", 0], [140658, \"Esha\", \"Female\", 50.0, \"Varanasi\", \"Working Professional\", \"Content Writer\", NaN, 1.0, NaN, NaN, 5.0, \"Less than 5 hours\", \"Unhealthy\", \"BA\", \"No\", 1.0, 4.0, \"No\", 0], [140659, \"Aanchal\", \"Female\", 44.0, \"Kalyan\", \"Working Professional\", \"Teacher\", NaN, 4.0, NaN, NaN, 1.0, \"More than 8 hours\", \"Healthy\", \"M.Com\", \"Yes\", 12.0, 2.0, \"No\", 0], [140660, \"Rohan\", \"Male\", 47.0, \"Kalyan\", \"Working Professional\", \"Data Scientist\", NaN, 2.0, NaN, NaN, 5.0, \"7-8 hours\", \"Moderate\", \"MCA\", \"No\", 6.0, 1.0, \"No\", 0], [140661, \"Raghavendra\", \"Male\", 49.0, \"Vasai-Virar\", \"Working Professional\", \"Teacher\", NaN, 5.0, NaN, NaN, 2.0, \"5-6 hours\", \"Moderate\", \"BBA\", \"No\", 5.0, 3.0, \"Yes\", 0], [140662, \"Gaurav\", \"Male\", 42.0, \"Visakhapatnam\", \"Working Professional\", \"HR Manager\", NaN, 4.0, NaN, NaN, 2.0, \"7-8 hours\", \"Healthy\", \"MBA\", \"Yes\", 4.0, 5.0, \"No\", 0], [140663, \"Harsha\", \"Male\", 55.0, \"Indore\", \"Working Professional\", \"Teacher\", NaN, 3.0, NaN, NaN, 3.0, \"5-6 hours\", \"Unhealthy\", \"B.Ed\", \"Yes\", 1.0, 5.0, \"No\", 0], [140664, \"Divya\", \"Female\", 40.0, \"Visakhapatnam\", \"Working Professional\", \"Teacher\", NaN, 5.0, NaN, NaN, 2.0, \"5-6 hours\", \"Moderate\", \"B.Ed\", \"No\", 9.0, 5.0, \"No\", 0], [140665, \"Asha\", \"Female\", 50.0, \"Thane\", \"Working Professional\", \"Travel Consultant\", NaN, 2.0, NaN, NaN, 3.0, \"5-6 hours\", \"Healthy\", \"MHM\", \"No\", 9.0, 3.0, \"Yes\", 0], [140666, \"Abhishek\", \"Male\", 18.0, \"Vadodara\", \"Working Professional\", \"NaN\", NaN, 5.0, NaN, NaN, 4.0, \"Less than 5 hours\", \"Moderate\", \"Class 12\", \"No\", 2.0, 5.0, \"No\", 1], [140667, \"Kashish\", \"Female\", 19.0, \"Rajkot\", \"Working Professional\", \"NaN\", NaN, 4.0, NaN, NaN, 2.0, \"More than 8 hours\", \"Unhealthy\", \"MHM\", \"Yes\", 12.0, 4.0, \"Yes\", 1], [140668, \"Kashish\", \"Female\", 57.0, \"Faridabad\", \"Working Professional\", \"Teacher\", NaN, 5.0, NaN, NaN, 2.0, \"7-8 hours\", \"Moderate\", \"B.Com\", \"Yes\", 5.0, 2.0, \"Yes\", 0], [140669, \"Aditi\", \"Female\", 20.0, \"Indore\", \"Student\", \"NaN\", 3.0, NaN, 7.72, 5.0, NaN, \"Less than 5 hours\", \"Moderate\", \"Class 12\", \"Yes\", 8.0, 1.0, \"No\", 0], [140670, \"Ritvik\", \"Male\", 49.0, \"Kanpur\", \"Working Professional\", \"Content Writer\", NaN, 5.0, NaN, NaN, 4.0, \"5-6 hours\", \"Healthy\", \"B.Tech\", \"Yes\", 3.0, 4.0, \"No\", 0], [140671, \"Shiv\", \"Male\", 35.0, \"Kanpur\", \"Working Professional\", \"Teacher\", NaN, 4.0, NaN, NaN, 1.0, \"Less than 5 hours\", \"Unhealthy\", \"B.Arch\", \"Yes\", 11.0, 1.0, \"No\", 0], [140672, \"Nandini\", \"Female\", 24.0, \"Hyderabad\", \"Student\", \"NaN\", 3.0, NaN, 6.02, 2.0, NaN, \"7-8 hours\", \"Moderate\", \"B.Arch\", \"No\", 8.0, 2.0, \"No\", 0], [140673, \"Kiara\", \"Female\", 59.0, \"Kanpur\", \"Working Professional\", \"Teacher\", NaN, 5.0, NaN, NaN, 2.0, \"5-6 hours\", \"Moderate\", \"B.Ed\", \"Yes\", 8.0, 5.0, \"No\", 0], [140674, \"Harsh\", \"Male\", 56.0, \"Vadodara\", \"Working Professional\", \"Lawyer\", NaN, 5.0, NaN, NaN, 2.0, \"More than 8 hours\", \"Moderate\", \"LLB\", \"No\", 11.0, 4.0, \"Yes\", 0], [140675, \"Gagan\", \"Male\", 50.0, \"Kanpur\", \"Working Professional\", \"Digital Marketer\", NaN, 4.0, NaN, NaN, 1.0, \"5-6 hours\", \"Unhealthy\", \"BA\", \"No\", 3.0, 4.0, \"No\", 0], [140676, \"Rupak\", \"Male\", 40.0, \"Chennai\", \"Working Professional\", \"Teacher\", NaN, 2.0, NaN, NaN, 3.0, \"5-6 hours\", \"Moderate\", \"LLB\", \"No\", 0.0, 4.0, \"Yes\", 0], [140677, \"Shanaya\", \"Female\", 57.0, \"Pune\", \"Working Professional\", \"Pharmacist\", NaN, 5.0, NaN, NaN, 4.0, \"More than 8 hours\", \"Moderate\", \"B.Pharm\", \"Yes\", 1.0, 2.0, \"No\", 0], [140678, \"Rajveer\", \"Male\", 53.0, \"Varanasi\", \"Working Professional\", \"Business Analyst\", NaN, 4.0, NaN, NaN, 3.0, \"7-8 hours\", \"Healthy\", \"MCA\", \"No\", 12.0, 1.0, \"Yes\", 0], [140679, \"Manan\", \"Male\", 56.0, \"Meerut\", \"Working Professional\", \"Teacher\", NaN, 2.0, NaN, NaN, 5.0, \"7-8 hours\", \"Healthy\", \"ME\", \"Yes\", 0.0, 5.0, \"No\", 0], [140680, \"Shivam\", \"Male\", 46.0, \"Jaipur\", \"Working Professional\", \"Content Writer\", NaN, 2.0, NaN, NaN, 1.0, \"More than 8 hours\", \"Healthy\", \"BA\", \"No\", 1.0, 4.0, \"No\", 0], [140681, \"Pratham\", \"Male\", 23.0, \"Srinagar\", \"Student\", \"NaN\", 3.0, NaN, 6.0, 2.0, NaN, \"More than 8 hours\", \"Healthy\", \"MBBS\", \"Yes\", 12.0, 4.0, \"No\", 0], [140682, \"Raghavendra\", \"Male\", 42.0, \"Delhi\", \"Working Professional\", \"Software Engineer\", NaN, 3.0, NaN, NaN, 3.0, \"5-6 hours\", \"Unhealthy\", \"M.Tech\", \"No\", 7.0, 5.0, \"Yes\", 0], [140683, \"Zoya\", \"Female\", 58.0, \"Surat\", \"Working Professional\", \"Teacher\", NaN, 4.0, NaN, NaN, 4.0, \"Less than 5 hours\", \"Healthy\", \"B.Arch\", \"No\", 9.0, 2.0, \"Yes\", 0], [140684, \"Gaurav\", \"Male\", 31.0, \"Lucknow\", \"Student\", \"NaN\", 2.0, NaN, 7.27, 5.0, NaN, \"7-8 hours\", \"Moderate\", \"B.Com\", \"Yes\", 6.0, 1.0, \"Yes\", 0], [140685, \"Aaradhya\", \"Female\", 27.0, \"Surat\", \"Student\", \"NaN\", 5.0, NaN, 5.75, 5.0, NaN, \"5-6 hours\", \"Unhealthy\", \"Class 12\", \"Yes\", 7.0, 1.0, \"Yes\", 0], [140686, \"Rohan\", \"Male\", 27.0, \"Ludhiana\", \"Student\", \"NaN\", 2.0, NaN, 9.4, 3.0, NaN, \"Less than 5 hours\", \"Healthy\", \"MSc\", \"No\", 0.0, 3.0, \"Yes\", 0], [140687, \"Reyansh\", \"Male\", 38.0, \"Mumbai\", \"Working Professional\", \"Civil Engineer\", NaN, 2.0, NaN, NaN, 4.0, \"5-6 hours\", \"Moderate\", \"MCA\", \"Yes\", 8.0, 1.0, \"No\", 0], [140688, \"Rajat\", \"Male\", 48.0, \"Hyderabad\", \"Working Professional\", \"Chemist\", NaN, 5.0, NaN, NaN, 1.0, \"Less than 5 hours\", \"Moderate\", \"B.Pharm\", \"No\", 8.0, 4.0, \"Yes\", 0], [140689, \"Ayaan\", \"Male\", 31.0, \"Faridabad\", \"Student\", \"NaN\", 3.0, NaN, 6.61, 4.0, NaN, \"5-6 hours\", \"Unhealthy\", \"MD\", \"No\", 12.0, 2.0, \"No\", 0], [140690, \"Rashi\", \"Female\", 18.0, \"Ludhiana\", \"Student\", \"NaN\", 5.0, NaN, 6.88, 2.0, NaN, \"Less than 5 hours\", \"Healthy\", \"Class 12\", \"Yes\", 10.0, 5.0, \"No\", 1], [140691, \"Zara\", \"Female\", 57.0, \"Meerut\", \"Working Professional\", \"Teacher\", NaN, 1.0, NaN, NaN, 1.0, \"Less than 5 hours\", \"Moderate\", \"B.Arch\", \"Yes\", 4.0, 5.0, \"Yes\", 0], [140692, \"Raunak\", \"Male\", 49.0, \"Bhopal\", \"Working Professional\", \"Financial Analyst\", NaN, 4.0, NaN, NaN, 1.0, \"7-8 hours\", \"Moderate\", \"MBA\", \"No\", 9.0, 1.0, \"No\", 0], [140693, \"Shaurya\", \"Male\", 55.0, \"Srinagar\", \"Working Professional\", \"Data Scientist\", NaN, 1.0, NaN, NaN, 3.0, \"Less than 5 hours\", \"Unhealthy\", \"M.Tech\", \"No\", 9.0, 2.0, \"No\", 0], [140694, \"Ishaani\", \"Female\", 45.0, \"Ahmedabad\", \"Working Professional\", \"Teacher\", NaN, 2.0, NaN, NaN, 5.0, \"Less than 5 hours\", \"Moderate\", \"B.Ed\", \"Yes\", 1.0, 5.0, \"No\", 0], [140695, \"Vidya\", \"Female\", 18.0, \"Ahmedabad\", \"Working Professional\", \"NaN\", NaN, 5.0, NaN, NaN, 4.0, \"5-6 hours\", \"Unhealthy\", \"Class 12\", \"No\", 2.0, 4.0, \"Yes\", 1], [140696, \"Lata\", \"Female\", 41.0, \"Hyderabad\", \"Working Professional\", \"Content Writer\", NaN, 5.0, NaN, NaN, 4.0, \"7-8 hours\", \"Moderate\", \"B.Tech\", \"Yes\", 6.0, 5.0, \"Yes\", 0], [140697, \"Aanchal\", \"Female\", 24.0, \"Kolkata\", \"Working Professional\", \"Marketing Manager\", NaN, 3.0, NaN, NaN, 1.0, \"More than 8 hours\", \"Moderate\", \"B.Com\", \"No\", 4.0, 4.0, \"No\", 0], [140698, \"Prachi\", \"Female\", 49.0, \"Srinagar\", \"Working Professional\", \"Plumber\", NaN, 5.0, NaN, NaN, 2.0, \"5-6 hours\", \"Moderate\", \"ME\", \"Yes\", 10.0, 1.0, \"No\", 0], [140699, \"Sai\", \"Male\", 27.0, \"Patna\", \"Student\", \"NaN\", 4.0, NaN, 9.24, 1.0, NaN, \"Less than 5 hours\", \"Healthy\", \"BCA\", \"Yes\", 2.0, 3.0, \"Yes\", 1]];\n",
       "\n",
       "        // Define the dt_args\n",
       "        let dt_args = {\"layout\": {\"topStart\": \"pageLength\", \"topEnd\": \"search\", \"bottomStart\": \"info\", \"bottomEnd\": \"paging\"}, \"order\": [], \"warn_on_selected_rows_not_rendered\": true, \"filtered_row_count\": 140291, \"fnInfoCallback\": function (oSettings, iStart, iEnd, iMax, iTotal, sPre) { return sPre + ' (<a href=\"https://mwouts.github.io/itables/downsampling.html\">downsampled</a> from 140,700x20 to 409x20 as maxBytes=64KB)'; }};\n",
       "        dt_args[\"data\"] = data;\n",
       "\n",
       "        \n",
       "        new DataTable(table, dt_args);\n",
       "    });\n",
       "</script>\n"
      ],
      "text/plain": [
       "<IPython.core.display.HTML object>"
      ]
     },
     "metadata": {},
     "output_type": "display_data"
    }
   ],
   "source": [
    "# importing data\n",
    "file_name = 'Data/train.csv'\n",
    "DF = pd.read_csv(file_name)\n",
    "show(DF)"
   ]
  },
  {
   "cell_type": "markdown",
   "id": "c2fa3dd5-7a1a-443d-8264-75f6ed14e481",
   "metadata": {},
   "source": [
    "## Questions: \n",
    "\n",
    "### Questions 1: Which Variables Have the Greatest Effect on Depression"
   ]
  },
  {
   "cell_type": "code",
   "execution_count": 339,
   "id": "709d1620-68b7-44a4-ad35-c4e3d362b8c6",
   "metadata": {},
   "outputs": [
    {
     "data": {
      "application/vnd.plotly.v1+json": {
       "config": {
        "plotlyServerURL": "https://plot.ly"
       },
       "data": [
        {
         "customdata": [
          [
           1
          ],
          [
           0
          ]
         ],
         "domain": {
          "x": [
           0,
           0.18400000000000002
          ],
          "y": [
           0,
           1
          ]
         },
         "hovertemplate": "Study Satisfaction=1.0<br>Depression=%{customdata[0]}<br>count=%{value}<extra></extra>",
         "labels": [
          1,
          0
         ],
         "legendgroup": "",
         "marker": {
          "colors": [
           "#636efa",
           "#EF553B"
          ]
         },
         "name": "",
         "showlegend": true,
         "type": "pie",
         "values": [
          3857,
          1594
         ]
        },
        {
         "customdata": [
          [
           1
          ],
          [
           0
          ]
         ],
         "domain": {
          "x": [
           0.20400000000000001,
           0.388
          ],
          "y": [
           0,
           1
          ]
         },
         "hovertemplate": "Study Satisfaction=2.0<br>Depression=%{customdata[0]}<br>count=%{value}<extra></extra>",
         "labels": [
          1,
          0
         ],
         "legendgroup": "",
         "marker": {
          "colors": [
           "#636efa",
           "#EF553B"
          ]
         },
         "name": "",
         "showlegend": true,
         "type": "pie",
         "values": [
          3769,
          2071
         ]
        },
        {
         "customdata": [
          [
           1
          ],
          [
           0
          ]
         ],
         "domain": {
          "x": [
           0.40800000000000003,
           0.5920000000000001
          ],
          "y": [
           0,
           1
          ]
         },
         "hovertemplate": "Study Satisfaction=3.0<br>Depression=%{customdata[0]}<br>count=%{value}<extra></extra>",
         "labels": [
          1,
          0
         ],
         "legendgroup": "",
         "marker": {
          "colors": [
           "#636efa",
           "#EF553B"
          ]
         },
         "name": "",
         "showlegend": true,
         "type": "pie",
         "values": [
          3354,
          2469
         ]
        },
        {
         "customdata": [
          [
           1
          ],
          [
           0
          ]
         ],
         "domain": {
          "x": [
           0.6120000000000001,
           0.7960000000000002
          ],
          "y": [
           0,
           1
          ]
         },
         "hovertemplate": "Study Satisfaction=4.0<br>Depression=%{customdata[0]}<br>count=%{value}<extra></extra>",
         "labels": [
          1,
          0
         ],
         "legendgroup": "",
         "marker": {
          "colors": [
           "#636efa",
           "#EF553B"
          ]
         },
         "name": "",
         "showlegend": true,
         "type": "pie",
         "values": [
          3265,
          3095
         ]
        },
        {
         "customdata": [
          [
           0
          ],
          [
           1
          ]
         ],
         "domain": {
          "x": [
           0.8160000000000001,
           1
          ],
          "y": [
           0,
           1
          ]
         },
         "hovertemplate": "Study Satisfaction=5.0<br>Depression=%{customdata[0]}<br>count=%{value}<extra></extra>",
         "labels": [
          0,
          1
         ],
         "legendgroup": "",
         "marker": {
          "colors": [
           "#636efa",
           "#EF553B"
          ]
         },
         "name": "",
         "showlegend": true,
         "type": "pie",
         "values": [
          2334,
          2089
         ]
        }
       ],
       "layout": {
        "annotations": [
         {
          "font": {},
          "showarrow": false,
          "text": "Study Satisfaction=1.0",
          "x": 0.09200000000000001,
          "xanchor": "center",
          "xref": "paper",
          "y": 1,
          "yanchor": "bottom",
          "yref": "paper"
         },
         {
          "font": {},
          "showarrow": false,
          "text": "Study Satisfaction=2.0",
          "x": 0.29600000000000004,
          "xanchor": "center",
          "xref": "paper",
          "y": 1,
          "yanchor": "bottom",
          "yref": "paper"
         },
         {
          "font": {},
          "showarrow": false,
          "text": "Study Satisfaction=3.0",
          "x": 0.5,
          "xanchor": "center",
          "xref": "paper",
          "y": 1,
          "yanchor": "bottom",
          "yref": "paper"
         },
         {
          "font": {},
          "showarrow": false,
          "text": "Study Satisfaction=4.0",
          "x": 0.7040000000000002,
          "xanchor": "center",
          "xref": "paper",
          "y": 1,
          "yanchor": "bottom",
          "yref": "paper"
         },
         {
          "font": {},
          "showarrow": false,
          "text": "Study Satisfaction=5.0",
          "x": 0.908,
          "xanchor": "center",
          "xref": "paper",
          "y": 1,
          "yanchor": "bottom",
          "yref": "paper"
         }
        ],
        "height": 300,
        "legend": {
         "title": {
          "text": "Depression"
         },
         "tracegroupgap": 0
        },
        "margin": {
         "t": 60
        },
        "template": {
         "data": {
          "bar": [
           {
            "error_x": {
             "color": "rgb(51,51,51)"
            },
            "error_y": {
             "color": "rgb(51,51,51)"
            },
            "marker": {
             "line": {
              "color": "rgb(237,237,237)",
              "width": 0.5
             },
             "pattern": {
              "fillmode": "overlay",
              "size": 10,
              "solidity": 0.2
             }
            },
            "type": "bar"
           }
          ],
          "barpolar": [
           {
            "marker": {
             "line": {
              "color": "rgb(237,237,237)",
              "width": 0.5
             },
             "pattern": {
              "fillmode": "overlay",
              "size": 10,
              "solidity": 0.2
             }
            },
            "type": "barpolar"
           }
          ],
          "carpet": [
           {
            "aaxis": {
             "endlinecolor": "rgb(51,51,51)",
             "gridcolor": "white",
             "linecolor": "white",
             "minorgridcolor": "white",
             "startlinecolor": "rgb(51,51,51)"
            },
            "baxis": {
             "endlinecolor": "rgb(51,51,51)",
             "gridcolor": "white",
             "linecolor": "white",
             "minorgridcolor": "white",
             "startlinecolor": "rgb(51,51,51)"
            },
            "type": "carpet"
           }
          ],
          "choropleth": [
           {
            "colorbar": {
             "outlinewidth": 0,
             "tickcolor": "rgb(237,237,237)",
             "ticklen": 6,
             "ticks": "inside"
            },
            "type": "choropleth"
           }
          ],
          "contour": [
           {
            "colorbar": {
             "outlinewidth": 0,
             "tickcolor": "rgb(237,237,237)",
             "ticklen": 6,
             "ticks": "inside"
            },
            "colorscale": [
             [
              0,
              "rgb(20,44,66)"
             ],
             [
              1,
              "rgb(90,179,244)"
             ]
            ],
            "type": "contour"
           }
          ],
          "contourcarpet": [
           {
            "colorbar": {
             "outlinewidth": 0,
             "tickcolor": "rgb(237,237,237)",
             "ticklen": 6,
             "ticks": "inside"
            },
            "type": "contourcarpet"
           }
          ],
          "heatmap": [
           {
            "colorbar": {
             "outlinewidth": 0,
             "tickcolor": "rgb(237,237,237)",
             "ticklen": 6,
             "ticks": "inside"
            },
            "colorscale": [
             [
              0,
              "rgb(20,44,66)"
             ],
             [
              1,
              "rgb(90,179,244)"
             ]
            ],
            "type": "heatmap"
           }
          ],
          "heatmapgl": [
           {
            "colorbar": {
             "outlinewidth": 0,
             "tickcolor": "rgb(237,237,237)",
             "ticklen": 6,
             "ticks": "inside"
            },
            "colorscale": [
             [
              0,
              "rgb(20,44,66)"
             ],
             [
              1,
              "rgb(90,179,244)"
             ]
            ],
            "type": "heatmapgl"
           }
          ],
          "histogram": [
           {
            "marker": {
             "pattern": {
              "fillmode": "overlay",
              "size": 10,
              "solidity": 0.2
             }
            },
            "type": "histogram"
           }
          ],
          "histogram2d": [
           {
            "colorbar": {
             "outlinewidth": 0,
             "tickcolor": "rgb(237,237,237)",
             "ticklen": 6,
             "ticks": "inside"
            },
            "colorscale": [
             [
              0,
              "rgb(20,44,66)"
             ],
             [
              1,
              "rgb(90,179,244)"
             ]
            ],
            "type": "histogram2d"
           }
          ],
          "histogram2dcontour": [
           {
            "colorbar": {
             "outlinewidth": 0,
             "tickcolor": "rgb(237,237,237)",
             "ticklen": 6,
             "ticks": "inside"
            },
            "colorscale": [
             [
              0,
              "rgb(20,44,66)"
             ],
             [
              1,
              "rgb(90,179,244)"
             ]
            ],
            "type": "histogram2dcontour"
           }
          ],
          "mesh3d": [
           {
            "colorbar": {
             "outlinewidth": 0,
             "tickcolor": "rgb(237,237,237)",
             "ticklen": 6,
             "ticks": "inside"
            },
            "type": "mesh3d"
           }
          ],
          "parcoords": [
           {
            "line": {
             "colorbar": {
              "outlinewidth": 0,
              "tickcolor": "rgb(237,237,237)",
              "ticklen": 6,
              "ticks": "inside"
             }
            },
            "type": "parcoords"
           }
          ],
          "pie": [
           {
            "automargin": true,
            "type": "pie"
           }
          ],
          "scatter": [
           {
            "fillpattern": {
             "fillmode": "overlay",
             "size": 10,
             "solidity": 0.2
            },
            "type": "scatter"
           }
          ],
          "scatter3d": [
           {
            "line": {
             "colorbar": {
              "outlinewidth": 0,
              "tickcolor": "rgb(237,237,237)",
              "ticklen": 6,
              "ticks": "inside"
             }
            },
            "marker": {
             "colorbar": {
              "outlinewidth": 0,
              "tickcolor": "rgb(237,237,237)",
              "ticklen": 6,
              "ticks": "inside"
             }
            },
            "type": "scatter3d"
           }
          ],
          "scattercarpet": [
           {
            "marker": {
             "colorbar": {
              "outlinewidth": 0,
              "tickcolor": "rgb(237,237,237)",
              "ticklen": 6,
              "ticks": "inside"
             }
            },
            "type": "scattercarpet"
           }
          ],
          "scattergeo": [
           {
            "marker": {
             "colorbar": {
              "outlinewidth": 0,
              "tickcolor": "rgb(237,237,237)",
              "ticklen": 6,
              "ticks": "inside"
             }
            },
            "type": "scattergeo"
           }
          ],
          "scattergl": [
           {
            "marker": {
             "colorbar": {
              "outlinewidth": 0,
              "tickcolor": "rgb(237,237,237)",
              "ticklen": 6,
              "ticks": "inside"
             }
            },
            "type": "scattergl"
           }
          ],
          "scattermapbox": [
           {
            "marker": {
             "colorbar": {
              "outlinewidth": 0,
              "tickcolor": "rgb(237,237,237)",
              "ticklen": 6,
              "ticks": "inside"
             }
            },
            "type": "scattermapbox"
           }
          ],
          "scatterpolar": [
           {
            "marker": {
             "colorbar": {
              "outlinewidth": 0,
              "tickcolor": "rgb(237,237,237)",
              "ticklen": 6,
              "ticks": "inside"
             }
            },
            "type": "scatterpolar"
           }
          ],
          "scatterpolargl": [
           {
            "marker": {
             "colorbar": {
              "outlinewidth": 0,
              "tickcolor": "rgb(237,237,237)",
              "ticklen": 6,
              "ticks": "inside"
             }
            },
            "type": "scatterpolargl"
           }
          ],
          "scatterternary": [
           {
            "marker": {
             "colorbar": {
              "outlinewidth": 0,
              "tickcolor": "rgb(237,237,237)",
              "ticklen": 6,
              "ticks": "inside"
             }
            },
            "type": "scatterternary"
           }
          ],
          "surface": [
           {
            "colorbar": {
             "outlinewidth": 0,
             "tickcolor": "rgb(237,237,237)",
             "ticklen": 6,
             "ticks": "inside"
            },
            "colorscale": [
             [
              0,
              "rgb(20,44,66)"
             ],
             [
              1,
              "rgb(90,179,244)"
             ]
            ],
            "type": "surface"
           }
          ],
          "table": [
           {
            "cells": {
             "fill": {
              "color": "rgb(237,237,237)"
             },
             "line": {
              "color": "white"
             }
            },
            "header": {
             "fill": {
              "color": "rgb(217,217,217)"
             },
             "line": {
              "color": "white"
             }
            },
            "type": "table"
           }
          ]
         },
         "layout": {
          "annotationdefaults": {
           "arrowhead": 0,
           "arrowwidth": 1
          },
          "autotypenumbers": "strict",
          "coloraxis": {
           "colorbar": {
            "outlinewidth": 0,
            "tickcolor": "rgb(237,237,237)",
            "ticklen": 6,
            "ticks": "inside"
           }
          },
          "colorscale": {
           "sequential": [
            [
             0,
             "rgb(20,44,66)"
            ],
            [
             1,
             "rgb(90,179,244)"
            ]
           ],
           "sequentialminus": [
            [
             0,
             "rgb(20,44,66)"
            ],
            [
             1,
             "rgb(90,179,244)"
            ]
           ]
          },
          "colorway": [
           "#F8766D",
           "#A3A500",
           "#00BF7D",
           "#00B0F6",
           "#E76BF3"
          ],
          "font": {
           "color": "rgb(51,51,51)"
          },
          "geo": {
           "bgcolor": "white",
           "lakecolor": "white",
           "landcolor": "rgb(237,237,237)",
           "showlakes": true,
           "showland": true,
           "subunitcolor": "white"
          },
          "hoverlabel": {
           "align": "left"
          },
          "hovermode": "closest",
          "paper_bgcolor": "white",
          "plot_bgcolor": "rgb(237,237,237)",
          "polar": {
           "angularaxis": {
            "gridcolor": "white",
            "linecolor": "white",
            "showgrid": true,
            "tickcolor": "rgb(51,51,51)",
            "ticks": "outside"
           },
           "bgcolor": "rgb(237,237,237)",
           "radialaxis": {
            "gridcolor": "white",
            "linecolor": "white",
            "showgrid": true,
            "tickcolor": "rgb(51,51,51)",
            "ticks": "outside"
           }
          },
          "scene": {
           "xaxis": {
            "backgroundcolor": "rgb(237,237,237)",
            "gridcolor": "white",
            "gridwidth": 2,
            "linecolor": "white",
            "showbackground": true,
            "showgrid": true,
            "tickcolor": "rgb(51,51,51)",
            "ticks": "outside",
            "zerolinecolor": "white"
           },
           "yaxis": {
            "backgroundcolor": "rgb(237,237,237)",
            "gridcolor": "white",
            "gridwidth": 2,
            "linecolor": "white",
            "showbackground": true,
            "showgrid": true,
            "tickcolor": "rgb(51,51,51)",
            "ticks": "outside",
            "zerolinecolor": "white"
           },
           "zaxis": {
            "backgroundcolor": "rgb(237,237,237)",
            "gridcolor": "white",
            "gridwidth": 2,
            "linecolor": "white",
            "showbackground": true,
            "showgrid": true,
            "tickcolor": "rgb(51,51,51)",
            "ticks": "outside",
            "zerolinecolor": "white"
           }
          },
          "shapedefaults": {
           "fillcolor": "black",
           "line": {
            "width": 0
           },
           "opacity": 0.3
          },
          "ternary": {
           "aaxis": {
            "gridcolor": "white",
            "linecolor": "white",
            "showgrid": true,
            "tickcolor": "rgb(51,51,51)",
            "ticks": "outside"
           },
           "baxis": {
            "gridcolor": "white",
            "linecolor": "white",
            "showgrid": true,
            "tickcolor": "rgb(51,51,51)",
            "ticks": "outside"
           },
           "bgcolor": "rgb(237,237,237)",
           "caxis": {
            "gridcolor": "white",
            "linecolor": "white",
            "showgrid": true,
            "tickcolor": "rgb(51,51,51)",
            "ticks": "outside"
           }
          },
          "xaxis": {
           "automargin": true,
           "gridcolor": "white",
           "linecolor": "white",
           "showgrid": true,
           "tickcolor": "rgb(51,51,51)",
           "ticks": "outside",
           "title": {
            "standoff": 15
           },
           "zerolinecolor": "white"
          },
          "yaxis": {
           "automargin": true,
           "gridcolor": "white",
           "linecolor": "white",
           "showgrid": true,
           "tickcolor": "rgb(51,51,51)",
           "ticks": "outside",
           "title": {
            "standoff": 15
           },
           "zerolinecolor": "white"
          }
         }
        },
        "title": {
         "text": "How Do Different Variables Influence Depression Rates"
        },
        "width": 1000
       }
      },
      "image/png": "[encoded data removed]",
      "text/html": [
       "<div>                            <div id=\"9796eea4-14bc-4073-a2ae-631a73031879\" class=\"plotly-graph-div\" style=\"height:300px; width:1000px;\"></div>            <script type=\"text/javascript\">                require([\"plotly\"], function(Plotly) {                    window.PLOTLYENV=window.PLOTLYENV || {};                                    if (document.getElementById(\"9796eea4-14bc-4073-a2ae-631a73031879\")) {                    Plotly.newPlot(                        \"9796eea4-14bc-4073-a2ae-631a73031879\",                        [{\"customdata\":[[1],[0]],\"domain\":{\"x\":[0.0,0.18400000000000002],\"y\":[0.0,1.0]},\"hovertemplate\":\"Study Satisfaction=1.0\\u003cbr\\u003eDepression=%{customdata[0]}\\u003cbr\\u003ecount=%{value}\\u003cextra\\u003e\\u003c\\u002fextra\\u003e\",\"labels\":[1,0],\"legendgroup\":\"\",\"marker\":{\"colors\":[\"#636efa\",\"#EF553B\"]},\"name\":\"\",\"showlegend\":true,\"values\":[3857,1594],\"type\":\"pie\"},{\"customdata\":[[1],[0]],\"domain\":{\"x\":[0.20400000000000001,0.388],\"y\":[0.0,1.0]},\"hovertemplate\":\"Study Satisfaction=2.0\\u003cbr\\u003eDepression=%{customdata[0]}\\u003cbr\\u003ecount=%{value}\\u003cextra\\u003e\\u003c\\u002fextra\\u003e\",\"labels\":[1,0],\"legendgroup\":\"\",\"marker\":{\"colors\":[\"#636efa\",\"#EF553B\"]},\"name\":\"\",\"showlegend\":true,\"values\":[3769,2071],\"type\":\"pie\"},{\"customdata\":[[1],[0]],\"domain\":{\"x\":[0.40800000000000003,0.5920000000000001],\"y\":[0.0,1.0]},\"hovertemplate\":\"Study Satisfaction=3.0\\u003cbr\\u003eDepression=%{customdata[0]}\\u003cbr\\u003ecount=%{value}\\u003cextra\\u003e\\u003c\\u002fextra\\u003e\",\"labels\":[1,0],\"legendgroup\":\"\",\"marker\":{\"colors\":[\"#636efa\",\"#EF553B\"]},\"name\":\"\",\"showlegend\":true,\"values\":[3354,2469],\"type\":\"pie\"},{\"customdata\":[[1],[0]],\"domain\":{\"x\":[0.6120000000000001,0.7960000000000002],\"y\":[0.0,1.0]},\"hovertemplate\":\"Study Satisfaction=4.0\\u003cbr\\u003eDepression=%{customdata[0]}\\u003cbr\\u003ecount=%{value}\\u003cextra\\u003e\\u003c\\u002fextra\\u003e\",\"labels\":[1,0],\"legendgroup\":\"\",\"marker\":{\"colors\":[\"#636efa\",\"#EF553B\"]},\"name\":\"\",\"showlegend\":true,\"values\":[3265,3095],\"type\":\"pie\"},{\"customdata\":[[0],[1]],\"domain\":{\"x\":[0.8160000000000001,1.0],\"y\":[0.0,1.0]},\"hovertemplate\":\"Study Satisfaction=5.0\\u003cbr\\u003eDepression=%{customdata[0]}\\u003cbr\\u003ecount=%{value}\\u003cextra\\u003e\\u003c\\u002fextra\\u003e\",\"labels\":[0,1],\"legendgroup\":\"\",\"marker\":{\"colors\":[\"#636efa\",\"#EF553B\"]},\"name\":\"\",\"showlegend\":true,\"values\":[2334,2089],\"type\":\"pie\"}],                        {\"template\":{\"data\":{\"barpolar\":[{\"marker\":{\"line\":{\"color\":\"rgb(237,237,237)\",\"width\":0.5},\"pattern\":{\"fillmode\":\"overlay\",\"size\":10,\"solidity\":0.2}},\"type\":\"barpolar\"}],\"bar\":[{\"error_x\":{\"color\":\"rgb(51,51,51)\"},\"error_y\":{\"color\":\"rgb(51,51,51)\"},\"marker\":{\"line\":{\"color\":\"rgb(237,237,237)\",\"width\":0.5},\"pattern\":{\"fillmode\":\"overlay\",\"size\":10,\"solidity\":0.2}},\"type\":\"bar\"}],\"carpet\":[{\"aaxis\":{\"endlinecolor\":\"rgb(51,51,51)\",\"gridcolor\":\"white\",\"linecolor\":\"white\",\"minorgridcolor\":\"white\",\"startlinecolor\":\"rgb(51,51,51)\"},\"baxis\":{\"endlinecolor\":\"rgb(51,51,51)\",\"gridcolor\":\"white\",\"linecolor\":\"white\",\"minorgridcolor\":\"white\",\"startlinecolor\":\"rgb(51,51,51)\"},\"type\":\"carpet\"}],\"choropleth\":[{\"colorbar\":{\"outlinewidth\":0,\"tickcolor\":\"rgb(237,237,237)\",\"ticklen\":6,\"ticks\":\"inside\"},\"type\":\"choropleth\"}],\"contourcarpet\":[{\"colorbar\":{\"outlinewidth\":0,\"tickcolor\":\"rgb(237,237,237)\",\"ticklen\":6,\"ticks\":\"inside\"},\"type\":\"contourcarpet\"}],\"contour\":[{\"colorbar\":{\"outlinewidth\":0,\"tickcolor\":\"rgb(237,237,237)\",\"ticklen\":6,\"ticks\":\"inside\"},\"colorscale\":[[0,\"rgb(20,44,66)\"],[1,\"rgb(90,179,244)\"]],\"type\":\"contour\"}],\"heatmapgl\":[{\"colorbar\":{\"outlinewidth\":0,\"tickcolor\":\"rgb(237,237,237)\",\"ticklen\":6,\"ticks\":\"inside\"},\"colorscale\":[[0,\"rgb(20,44,66)\"],[1,\"rgb(90,179,244)\"]],\"type\":\"heatmapgl\"}],\"heatmap\":[{\"colorbar\":{\"outlinewidth\":0,\"tickcolor\":\"rgb(237,237,237)\",\"ticklen\":6,\"ticks\":\"inside\"},\"colorscale\":[[0,\"rgb(20,44,66)\"],[1,\"rgb(90,179,244)\"]],\"type\":\"heatmap\"}],\"histogram2dcontour\":[{\"colorbar\":{\"outlinewidth\":0,\"tickcolor\":\"rgb(237,237,237)\",\"ticklen\":6,\"ticks\":\"inside\"},\"colorscale\":[[0,\"rgb(20,44,66)\"],[1,\"rgb(90,179,244)\"]],\"type\":\"histogram2dcontour\"}],\"histogram2d\":[{\"colorbar\":{\"outlinewidth\":0,\"tickcolor\":\"rgb(237,237,237)\",\"ticklen\":6,\"ticks\":\"inside\"},\"colorscale\":[[0,\"rgb(20,44,66)\"],[1,\"rgb(90,179,244)\"]],\"type\":\"histogram2d\"}],\"histogram\":[{\"marker\":{\"pattern\":{\"fillmode\":\"overlay\",\"size\":10,\"solidity\":0.2}},\"type\":\"histogram\"}],\"mesh3d\":[{\"colorbar\":{\"outlinewidth\":0,\"tickcolor\":\"rgb(237,237,237)\",\"ticklen\":6,\"ticks\":\"inside\"},\"type\":\"mesh3d\"}],\"parcoords\":[{\"line\":{\"colorbar\":{\"outlinewidth\":0,\"tickcolor\":\"rgb(237,237,237)\",\"ticklen\":6,\"ticks\":\"inside\"}},\"type\":\"parcoords\"}],\"pie\":[{\"automargin\":true,\"type\":\"pie\"}],\"scatter3d\":[{\"line\":{\"colorbar\":{\"outlinewidth\":0,\"tickcolor\":\"rgb(237,237,237)\",\"ticklen\":6,\"ticks\":\"inside\"}},\"marker\":{\"colorbar\":{\"outlinewidth\":0,\"tickcolor\":\"rgb(237,237,237)\",\"ticklen\":6,\"ticks\":\"inside\"}},\"type\":\"scatter3d\"}],\"scattercarpet\":[{\"marker\":{\"colorbar\":{\"outlinewidth\":0,\"tickcolor\":\"rgb(237,237,237)\",\"ticklen\":6,\"ticks\":\"inside\"}},\"type\":\"scattercarpet\"}],\"scattergeo\":[{\"marker\":{\"colorbar\":{\"outlinewidth\":0,\"tickcolor\":\"rgb(237,237,237)\",\"ticklen\":6,\"ticks\":\"inside\"}},\"type\":\"scattergeo\"}],\"scattergl\":[{\"marker\":{\"colorbar\":{\"outlinewidth\":0,\"tickcolor\":\"rgb(237,237,237)\",\"ticklen\":6,\"ticks\":\"inside\"}},\"type\":\"scattergl\"}],\"scattermapbox\":[{\"marker\":{\"colorbar\":{\"outlinewidth\":0,\"tickcolor\":\"rgb(237,237,237)\",\"ticklen\":6,\"ticks\":\"inside\"}},\"type\":\"scattermapbox\"}],\"scatterpolargl\":[{\"marker\":{\"colorbar\":{\"outlinewidth\":0,\"tickcolor\":\"rgb(237,237,237)\",\"ticklen\":6,\"ticks\":\"inside\"}},\"type\":\"scatterpolargl\"}],\"scatterpolar\":[{\"marker\":{\"colorbar\":{\"outlinewidth\":0,\"tickcolor\":\"rgb(237,237,237)\",\"ticklen\":6,\"ticks\":\"inside\"}},\"type\":\"scatterpolar\"}],\"scatter\":[{\"fillpattern\":{\"fillmode\":\"overlay\",\"size\":10,\"solidity\":0.2},\"type\":\"scatter\"}],\"scatterternary\":[{\"marker\":{\"colorbar\":{\"outlinewidth\":0,\"tickcolor\":\"rgb(237,237,237)\",\"ticklen\":6,\"ticks\":\"inside\"}},\"type\":\"scatterternary\"}],\"surface\":[{\"colorbar\":{\"outlinewidth\":0,\"tickcolor\":\"rgb(237,237,237)\",\"ticklen\":6,\"ticks\":\"inside\"},\"colorscale\":[[0,\"rgb(20,44,66)\"],[1,\"rgb(90,179,244)\"]],\"type\":\"surface\"}],\"table\":[{\"cells\":{\"fill\":{\"color\":\"rgb(237,237,237)\"},\"line\":{\"color\":\"white\"}},\"header\":{\"fill\":{\"color\":\"rgb(217,217,217)\"},\"line\":{\"color\":\"white\"}},\"type\":\"table\"}]},\"layout\":{\"annotationdefaults\":{\"arrowhead\":0,\"arrowwidth\":1},\"autotypenumbers\":\"strict\",\"coloraxis\":{\"colorbar\":{\"outlinewidth\":0,\"tickcolor\":\"rgb(237,237,237)\",\"ticklen\":6,\"ticks\":\"inside\"}},\"colorscale\":{\"sequential\":[[0,\"rgb(20,44,66)\"],[1,\"rgb(90,179,244)\"]],\"sequentialminus\":[[0,\"rgb(20,44,66)\"],[1,\"rgb(90,179,244)\"]]},\"colorway\":[\"#F8766D\",\"#A3A500\",\"#00BF7D\",\"#00B0F6\",\"#E76BF3\"],\"font\":{\"color\":\"rgb(51,51,51)\"},\"geo\":{\"bgcolor\":\"white\",\"lakecolor\":\"white\",\"landcolor\":\"rgb(237,237,237)\",\"showlakes\":true,\"showland\":true,\"subunitcolor\":\"white\"},\"hoverlabel\":{\"align\":\"left\"},\"hovermode\":\"closest\",\"paper_bgcolor\":\"white\",\"plot_bgcolor\":\"rgb(237,237,237)\",\"polar\":{\"angularaxis\":{\"gridcolor\":\"white\",\"linecolor\":\"white\",\"showgrid\":true,\"tickcolor\":\"rgb(51,51,51)\",\"ticks\":\"outside\"},\"bgcolor\":\"rgb(237,237,237)\",\"radialaxis\":{\"gridcolor\":\"white\",\"linecolor\":\"white\",\"showgrid\":true,\"tickcolor\":\"rgb(51,51,51)\",\"ticks\":\"outside\"}},\"scene\":{\"xaxis\":{\"backgroundcolor\":\"rgb(237,237,237)\",\"gridcolor\":\"white\",\"gridwidth\":2,\"linecolor\":\"white\",\"showbackground\":true,\"showgrid\":true,\"tickcolor\":\"rgb(51,51,51)\",\"ticks\":\"outside\",\"zerolinecolor\":\"white\"},\"yaxis\":{\"backgroundcolor\":\"rgb(237,237,237)\",\"gridcolor\":\"white\",\"gridwidth\":2,\"linecolor\":\"white\",\"showbackground\":true,\"showgrid\":true,\"tickcolor\":\"rgb(51,51,51)\",\"ticks\":\"outside\",\"zerolinecolor\":\"white\"},\"zaxis\":{\"backgroundcolor\":\"rgb(237,237,237)\",\"gridcolor\":\"white\",\"gridwidth\":2,\"linecolor\":\"white\",\"showbackground\":true,\"showgrid\":true,\"tickcolor\":\"rgb(51,51,51)\",\"ticks\":\"outside\",\"zerolinecolor\":\"white\"}},\"shapedefaults\":{\"fillcolor\":\"black\",\"line\":{\"width\":0},\"opacity\":0.3},\"ternary\":{\"aaxis\":{\"gridcolor\":\"white\",\"linecolor\":\"white\",\"showgrid\":true,\"tickcolor\":\"rgb(51,51,51)\",\"ticks\":\"outside\"},\"baxis\":{\"gridcolor\":\"white\",\"linecolor\":\"white\",\"showgrid\":true,\"tickcolor\":\"rgb(51,51,51)\",\"ticks\":\"outside\"},\"bgcolor\":\"rgb(237,237,237)\",\"caxis\":{\"gridcolor\":\"white\",\"linecolor\":\"white\",\"showgrid\":true,\"tickcolor\":\"rgb(51,51,51)\",\"ticks\":\"outside\"}},\"xaxis\":{\"automargin\":true,\"gridcolor\":\"white\",\"linecolor\":\"white\",\"showgrid\":true,\"tickcolor\":\"rgb(51,51,51)\",\"ticks\":\"outside\",\"title\":{\"standoff\":15},\"zerolinecolor\":\"white\"},\"yaxis\":{\"automargin\":true,\"gridcolor\":\"white\",\"linecolor\":\"white\",\"showgrid\":true,\"tickcolor\":\"rgb(51,51,51)\",\"ticks\":\"outside\",\"title\":{\"standoff\":15},\"zerolinecolor\":\"white\"}}},\"annotations\":[{\"font\":{},\"showarrow\":false,\"text\":\"Study Satisfaction=1.0\",\"x\":0.09200000000000001,\"xanchor\":\"center\",\"xref\":\"paper\",\"y\":1.0,\"yanchor\":\"bottom\",\"yref\":\"paper\"},{\"font\":{},\"showarrow\":false,\"text\":\"Study Satisfaction=2.0\",\"x\":0.29600000000000004,\"xanchor\":\"center\",\"xref\":\"paper\",\"y\":1.0,\"yanchor\":\"bottom\",\"yref\":\"paper\"},{\"font\":{},\"showarrow\":false,\"text\":\"Study Satisfaction=3.0\",\"x\":0.5,\"xanchor\":\"center\",\"xref\":\"paper\",\"y\":1.0,\"yanchor\":\"bottom\",\"yref\":\"paper\"},{\"font\":{},\"showarrow\":false,\"text\":\"Study Satisfaction=4.0\",\"x\":0.7040000000000002,\"xanchor\":\"center\",\"xref\":\"paper\",\"y\":1.0,\"yanchor\":\"bottom\",\"yref\":\"paper\"},{\"font\":{},\"showarrow\":false,\"text\":\"Study Satisfaction=5.0\",\"x\":0.908,\"xanchor\":\"center\",\"xref\":\"paper\",\"y\":1.0,\"yanchor\":\"bottom\",\"yref\":\"paper\"}],\"legend\":{\"tracegroupgap\":0,\"title\":{\"text\":\"Depression\"}},\"margin\":{\"t\":60},\"title\":{\"text\":\"How Do Different Variables Influence Depression Rates\"},\"width\":1000,\"height\":300},                        {\"responsive\": true}                    ).then(function(){\n",
       "                            \n",
       "var gd = document.getElementById('9796eea4-14bc-4073-a2ae-631a73031879');\n",
       "var x = new MutationObserver(function (mutations, observer) {{\n",
       "        var display = window.getComputedStyle(gd).display;\n",
       "        if (!display || display === 'none') {{\n",
       "            console.log([gd, 'removed!']);\n",
       "            Plotly.purge(gd);\n",
       "            observer.disconnect();\n",
       "        }}\n",
       "}});\n",
       "\n",
       "// Listen for the removal of the full notebook cells\n",
       "var notebookContainer = gd.closest('#notebook-container');\n",
       "if (notebookContainer) {{\n",
       "    x.observe(notebookContainer, {childList: true});\n",
       "}}\n",
       "\n",
       "// Listen for the clearing of the current output cell\n",
       "var outputEl = gd.closest('.output');\n",
       "if (outputEl) {{\n",
       "    x.observe(outputEl, {childList: true});\n",
       "}}\n",
       "\n",
       "                        })                };                });            </script>        </div>"
      ]
     },
     "metadata": {},
     "output_type": "display_data"
    },
    {
     "data": {
      "application/vnd.plotly.v1+json": {
       "config": {
        "plotlyServerURL": "https://plot.ly"
       },
       "data": [
        {
         "customdata": [
          [
           0
          ],
          [
           1
          ]
         ],
         "domain": {
          "x": [
           0,
           0.18400000000000002
          ],
          "y": [
           0,
           1
          ]
         },
         "hovertemplate": "Job Satisfaction=1.0<br>count=%{value}<br>Depression=%{customdata[0]}<extra></extra>",
         "legendgroup": "",
         "marker": {
          "colors": [
           "#636efa",
           "#EF553B"
          ]
         },
         "name": "",
         "showlegend": false,
         "type": "pie",
         "values": [
          18439,
          3885
         ]
        },
        {
         "customdata": [
          [
           0
          ],
          [
           1
          ]
         ],
         "domain": {
          "x": [
           0.20400000000000001,
           0.388
          ],
          "y": [
           0,
           1
          ]
         },
         "hovertemplate": "Job Satisfaction=2.0<br>count=%{value}<br>Depression=%{customdata[0]}<extra></extra>",
         "legendgroup": "",
         "marker": {
          "colors": [
           "#636efa",
           "#EF553B"
          ]
         },
         "name": "",
         "showlegend": false,
         "type": "pie",
         "values": [
          22346,
          2437
         ]
        },
        {
         "customdata": [
          [
           0
          ],
          [
           1
          ]
         ],
         "domain": {
          "x": [
           0.40800000000000003,
           0.5920000000000001
          ],
          "y": [
           0,
           1
          ]
         },
         "hovertemplate": "Job Satisfaction=3.0<br>count=%{value}<br>Depression=%{customdata[0]}<extra></extra>",
         "legendgroup": "",
         "marker": {
          "colors": [
           "#636efa",
           "#EF553B"
          ]
         },
         "name": "",
         "showlegend": false,
         "type": "pie",
         "values": [
          20755,
          1196
         ]
        },
        {
         "customdata": [
          [
           0
          ],
          [
           1
          ]
         ],
         "domain": {
          "x": [
           0.6120000000000001,
           0.7960000000000002
          ],
          "y": [
           0,
           1
          ]
         },
         "hovertemplate": "Job Satisfaction=4.0<br>count=%{value}<br>Depression=%{customdata[0]}<extra></extra>",
         "legendgroup": "",
         "marker": {
          "colors": [
           "#636efa",
           "#EF553B"
          ]
         },
         "name": "",
         "showlegend": false,
         "type": "pie",
         "values": [
          20095,
          825
         ]
        },
        {
         "customdata": [
          [
           0
          ],
          [
           1
          ]
         ],
         "domain": {
          "x": [
           0.8160000000000001,
           1
          ],
          "y": [
           0,
           1
          ]
         },
         "hovertemplate": "Job Satisfaction=5.0<br>count=%{value}<br>Depression=%{customdata[0]}<extra></extra>",
         "legendgroup": "",
         "marker": {
          "colors": [
           "#636efa",
           "#EF553B"
          ]
         },
         "name": "",
         "showlegend": false,
         "type": "pie",
         "values": [
          21928,
          884
         ]
        }
       ],
       "layout": {
        "annotations": [
         {
          "font": {},
          "showarrow": false,
          "text": "Job Satisfaction=1.0",
          "x": 0.09200000000000001,
          "xanchor": "center",
          "xref": "paper",
          "y": 1,
          "yanchor": "bottom",
          "yref": "paper"
         },
         {
          "font": {},
          "showarrow": false,
          "text": "Job Satisfaction=2.0",
          "x": 0.29600000000000004,
          "xanchor": "center",
          "xref": "paper",
          "y": 1,
          "yanchor": "bottom",
          "yref": "paper"
         },
         {
          "font": {},
          "showarrow": false,
          "text": "Job Satisfaction=3.0",
          "x": 0.5,
          "xanchor": "center",
          "xref": "paper",
          "y": 1,
          "yanchor": "bottom",
          "yref": "paper"
         },
         {
          "font": {},
          "showarrow": false,
          "text": "Job Satisfaction=4.0",
          "x": 0.7040000000000002,
          "xanchor": "center",
          "xref": "paper",
          "y": 1,
          "yanchor": "bottom",
          "yref": "paper"
         },
         {
          "font": {},
          "showarrow": false,
          "text": "Job Satisfaction=5.0",
          "x": 0.908,
          "xanchor": "center",
          "xref": "paper",
          "y": 1,
          "yanchor": "bottom",
          "yref": "paper"
         }
        ],
        "height": 320,
        "legend": {
         "tracegroupgap": 0
        },
        "margin": {
         "t": 60
        },
        "template": {
         "data": {
          "bar": [
           {
            "error_x": {
             "color": "rgb(51,51,51)"
            },
            "error_y": {
             "color": "rgb(51,51,51)"
            },
            "marker": {
             "line": {
              "color": "rgb(237,237,237)",
              "width": 0.5
             },
             "pattern": {
              "fillmode": "overlay",
              "size": 10,
              "solidity": 0.2
             }
            },
            "type": "bar"
           }
          ],
          "barpolar": [
           {
            "marker": {
             "line": {
              "color": "rgb(237,237,237)",
              "width": 0.5
             },
             "pattern": {
              "fillmode": "overlay",
              "size": 10,
              "solidity": 0.2
             }
            },
            "type": "barpolar"
           }
          ],
          "carpet": [
           {
            "aaxis": {
             "endlinecolor": "rgb(51,51,51)",
             "gridcolor": "white",
             "linecolor": "white",
             "minorgridcolor": "white",
             "startlinecolor": "rgb(51,51,51)"
            },
            "baxis": {
             "endlinecolor": "rgb(51,51,51)",
             "gridcolor": "white",
             "linecolor": "white",
             "minorgridcolor": "white",
             "startlinecolor": "rgb(51,51,51)"
            },
            "type": "carpet"
           }
          ],
          "choropleth": [
           {
            "colorbar": {
             "outlinewidth": 0,
             "tickcolor": "rgb(237,237,237)",
             "ticklen": 6,
             "ticks": "inside"
            },
            "type": "choropleth"
           }
          ],
          "contour": [
           {
            "colorbar": {
             "outlinewidth": 0,
             "tickcolor": "rgb(237,237,237)",
             "ticklen": 6,
             "ticks": "inside"
            },
            "colorscale": [
             [
              0,
              "rgb(20,44,66)"
             ],
             [
              1,
              "rgb(90,179,244)"
             ]
            ],
            "type": "contour"
           }
          ],
          "contourcarpet": [
           {
            "colorbar": {
             "outlinewidth": 0,
             "tickcolor": "rgb(237,237,237)",
             "ticklen": 6,
             "ticks": "inside"
            },
            "type": "contourcarpet"
           }
          ],
          "heatmap": [
           {
            "colorbar": {
             "outlinewidth": 0,
             "tickcolor": "rgb(237,237,237)",
             "ticklen": 6,
             "ticks": "inside"
            },
            "colorscale": [
             [
              0,
              "rgb(20,44,66)"
             ],
             [
              1,
              "rgb(90,179,244)"
             ]
            ],
            "type": "heatmap"
           }
          ],
          "heatmapgl": [
           {
            "colorbar": {
             "outlinewidth": 0,
             "tickcolor": "rgb(237,237,237)",
             "ticklen": 6,
             "ticks": "inside"
            },
            "colorscale": [
             [
              0,
              "rgb(20,44,66)"
             ],
             [
              1,
              "rgb(90,179,244)"
             ]
            ],
            "type": "heatmapgl"
           }
          ],
          "histogram": [
           {
            "marker": {
             "pattern": {
              "fillmode": "overlay",
              "size": 10,
              "solidity": 0.2
             }
            },
            "type": "histogram"
           }
          ],
          "histogram2d": [
           {
            "colorbar": {
             "outlinewidth": 0,
             "tickcolor": "rgb(237,237,237)",
             "ticklen": 6,
             "ticks": "inside"
            },
            "colorscale": [
             [
              0,
              "rgb(20,44,66)"
             ],
             [
              1,
              "rgb(90,179,244)"
             ]
            ],
            "type": "histogram2d"
           }
          ],
          "histogram2dcontour": [
           {
            "colorbar": {
             "outlinewidth": 0,
             "tickcolor": "rgb(237,237,237)",
             "ticklen": 6,
             "ticks": "inside"
            },
            "colorscale": [
             [
              0,
              "rgb(20,44,66)"
             ],
             [
              1,
              "rgb(90,179,244)"
             ]
            ],
            "type": "histogram2dcontour"
           }
          ],
          "mesh3d": [
           {
            "colorbar": {
             "outlinewidth": 0,
             "tickcolor": "rgb(237,237,237)",
             "ticklen": 6,
             "ticks": "inside"
            },
            "type": "mesh3d"
           }
          ],
          "parcoords": [
           {
            "line": {
             "colorbar": {
              "outlinewidth": 0,
              "tickcolor": "rgb(237,237,237)",
              "ticklen": 6,
              "ticks": "inside"
             }
            },
            "type": "parcoords"
           }
          ],
          "pie": [
           {
            "automargin": true,
            "type": "pie"
           }
          ],
          "scatter": [
           {
            "fillpattern": {
             "fillmode": "overlay",
             "size": 10,
             "solidity": 0.2
            },
            "type": "scatter"
           }
          ],
          "scatter3d": [
           {
            "line": {
             "colorbar": {
              "outlinewidth": 0,
              "tickcolor": "rgb(237,237,237)",
              "ticklen": 6,
              "ticks": "inside"
             }
            },
            "marker": {
             "colorbar": {
              "outlinewidth": 0,
              "tickcolor": "rgb(237,237,237)",
              "ticklen": 6,
              "ticks": "inside"
             }
            },
            "type": "scatter3d"
           }
          ],
          "scattercarpet": [
           {
            "marker": {
             "colorbar": {
              "outlinewidth": 0,
              "tickcolor": "rgb(237,237,237)",
              "ticklen": 6,
              "ticks": "inside"
             }
            },
            "type": "scattercarpet"
           }
          ],
          "scattergeo": [
           {
            "marker": {
             "colorbar": {
              "outlinewidth": 0,
              "tickcolor": "rgb(237,237,237)",
              "ticklen": 6,
              "ticks": "inside"
             }
            },
            "type": "scattergeo"
           }
          ],
          "scattergl": [
           {
            "marker": {
             "colorbar": {
              "outlinewidth": 0,
              "tickcolor": "rgb(237,237,237)",
              "ticklen": 6,
              "ticks": "inside"
             }
            },
            "type": "scattergl"
           }
          ],
          "scattermapbox": [
           {
            "marker": {
             "colorbar": {
              "outlinewidth": 0,
              "tickcolor": "rgb(237,237,237)",
              "ticklen": 6,
              "ticks": "inside"
             }
            },
            "type": "scattermapbox"
           }
          ],
          "scatterpolar": [
           {
            "marker": {
             "colorbar": {
              "outlinewidth": 0,
              "tickcolor": "rgb(237,237,237)",
              "ticklen": 6,
              "ticks": "inside"
             }
            },
            "type": "scatterpolar"
           }
          ],
          "scatterpolargl": [
           {
            "marker": {
             "colorbar": {
              "outlinewidth": 0,
              "tickcolor": "rgb(237,237,237)",
              "ticklen": 6,
              "ticks": "inside"
             }
            },
            "type": "scatterpolargl"
           }
          ],
          "scatterternary": [
           {
            "marker": {
             "colorbar": {
              "outlinewidth": 0,
              "tickcolor": "rgb(237,237,237)",
              "ticklen": 6,
              "ticks": "inside"
             }
            },
            "type": "scatterternary"
           }
          ],
          "surface": [
           {
            "colorbar": {
             "outlinewidth": 0,
             "tickcolor": "rgb(237,237,237)",
             "ticklen": 6,
             "ticks": "inside"
            },
            "colorscale": [
             [
              0,
              "rgb(20,44,66)"
             ],
             [
              1,
              "rgb(90,179,244)"
             ]
            ],
            "type": "surface"
           }
          ],
          "table": [
           {
            "cells": {
             "fill": {
              "color": "rgb(237,237,237)"
             },
             "line": {
              "color": "white"
             }
            },
            "header": {
             "fill": {
              "color": "rgb(217,217,217)"
             },
             "line": {
              "color": "white"
             }
            },
            "type": "table"
           }
          ]
         },
         "layout": {
          "annotationdefaults": {
           "arrowhead": 0,
           "arrowwidth": 1
          },
          "autotypenumbers": "strict",
          "coloraxis": {
           "colorbar": {
            "outlinewidth": 0,
            "tickcolor": "rgb(237,237,237)",
            "ticklen": 6,
            "ticks": "inside"
           }
          },
          "colorscale": {
           "sequential": [
            [
             0,
             "rgb(20,44,66)"
            ],
            [
             1,
             "rgb(90,179,244)"
            ]
           ],
           "sequentialminus": [
            [
             0,
             "rgb(20,44,66)"
            ],
            [
             1,
             "rgb(90,179,244)"
            ]
           ]
          },
          "colorway": [
           "#F8766D",
           "#A3A500",
           "#00BF7D",
           "#00B0F6",
           "#E76BF3"
          ],
          "font": {
           "color": "rgb(51,51,51)"
          },
          "geo": {
           "bgcolor": "white",
           "lakecolor": "white",
           "landcolor": "rgb(237,237,237)",
           "showlakes": true,
           "showland": true,
           "subunitcolor": "white"
          },
          "hoverlabel": {
           "align": "left"
          },
          "hovermode": "closest",
          "paper_bgcolor": "white",
          "plot_bgcolor": "rgb(237,237,237)",
          "polar": {
           "angularaxis": {
            "gridcolor": "white",
            "linecolor": "white",
            "showgrid": true,
            "tickcolor": "rgb(51,51,51)",
            "ticks": "outside"
           },
           "bgcolor": "rgb(237,237,237)",
           "radialaxis": {
            "gridcolor": "white",
            "linecolor": "white",
            "showgrid": true,
            "tickcolor": "rgb(51,51,51)",
            "ticks": "outside"
           }
          },
          "scene": {
           "xaxis": {
            "backgroundcolor": "rgb(237,237,237)",
            "gridcolor": "white",
            "gridwidth": 2,
            "linecolor": "white",
            "showbackground": true,
            "showgrid": true,
            "tickcolor": "rgb(51,51,51)",
            "ticks": "outside",
            "zerolinecolor": "white"
           },
           "yaxis": {
            "backgroundcolor": "rgb(237,237,237)",
            "gridcolor": "white",
            "gridwidth": 2,
            "linecolor": "white",
            "showbackground": true,
            "showgrid": true,
            "tickcolor": "rgb(51,51,51)",
            "ticks": "outside",
            "zerolinecolor": "white"
           },
           "zaxis": {
            "backgroundcolor": "rgb(237,237,237)",
            "gridcolor": "white",
            "gridwidth": 2,
            "linecolor": "white",
            "showbackground": true,
            "showgrid": true,
            "tickcolor": "rgb(51,51,51)",
            "ticks": "outside",
            "zerolinecolor": "white"
           }
          },
          "shapedefaults": {
           "fillcolor": "black",
           "line": {
            "width": 0
           },
           "opacity": 0.3
          },
          "ternary": {
           "aaxis": {
            "gridcolor": "white",
            "linecolor": "white",
            "showgrid": true,
            "tickcolor": "rgb(51,51,51)",
            "ticks": "outside"
           },
           "baxis": {
            "gridcolor": "white",
            "linecolor": "white",
            "showgrid": true,
            "tickcolor": "rgb(51,51,51)",
            "ticks": "outside"
           },
           "bgcolor": "rgb(237,237,237)",
           "caxis": {
            "gridcolor": "white",
            "linecolor": "white",
            "showgrid": true,
            "tickcolor": "rgb(51,51,51)",
            "ticks": "outside"
           }
          },
          "xaxis": {
           "automargin": true,
           "gridcolor": "white",
           "linecolor": "white",
           "showgrid": true,
           "tickcolor": "rgb(51,51,51)",
           "ticks": "outside",
           "title": {
            "standoff": 15
           },
           "zerolinecolor": "white"
          },
          "yaxis": {
           "automargin": true,
           "gridcolor": "white",
           "linecolor": "white",
           "showgrid": true,
           "tickcolor": "rgb(51,51,51)",
           "ticks": "outside",
           "title": {
            "standoff": 15
           },
           "zerolinecolor": "white"
          }
         }
        },
        "width": 1000,
        "yaxis": {
         "title": {
          "text": "Job Satisfaction"
         }
        }
       }
      },
      "image/png": "[encoded data removed]",
      "text/html": [
       "<div>                            <div id=\"0f93214f-7251-4b5e-b375-866378aa5e9e\" class=\"plotly-graph-div\" style=\"height:320px; width:1000px;\"></div>            <script type=\"text/javascript\">                require([\"plotly\"], function(Plotly) {                    window.PLOTLYENV=window.PLOTLYENV || {};                                    if (document.getElementById(\"0f93214f-7251-4b5e-b375-866378aa5e9e\")) {                    Plotly.newPlot(                        \"0f93214f-7251-4b5e-b375-866378aa5e9e\",                        [{\"customdata\":[[0],[1]],\"domain\":{\"x\":[0.0,0.18400000000000002],\"y\":[0.0,1.0]},\"hovertemplate\":\"Job Satisfaction=1.0\\u003cbr\\u003ecount=%{value}\\u003cbr\\u003eDepression=%{customdata[0]}\\u003cextra\\u003e\\u003c\\u002fextra\\u003e\",\"legendgroup\":\"\",\"marker\":{\"colors\":[\"#636efa\",\"#EF553B\"]},\"name\":\"\",\"showlegend\":false,\"values\":[18439,3885],\"type\":\"pie\"},{\"customdata\":[[0],[1]],\"domain\":{\"x\":[0.20400000000000001,0.388],\"y\":[0.0,1.0]},\"hovertemplate\":\"Job Satisfaction=2.0\\u003cbr\\u003ecount=%{value}\\u003cbr\\u003eDepression=%{customdata[0]}\\u003cextra\\u003e\\u003c\\u002fextra\\u003e\",\"legendgroup\":\"\",\"marker\":{\"colors\":[\"#636efa\",\"#EF553B\"]},\"name\":\"\",\"showlegend\":false,\"values\":[22346,2437],\"type\":\"pie\"},{\"customdata\":[[0],[1]],\"domain\":{\"x\":[0.40800000000000003,0.5920000000000001],\"y\":[0.0,1.0]},\"hovertemplate\":\"Job Satisfaction=3.0\\u003cbr\\u003ecount=%{value}\\u003cbr\\u003eDepression=%{customdata[0]}\\u003cextra\\u003e\\u003c\\u002fextra\\u003e\",\"legendgroup\":\"\",\"marker\":{\"colors\":[\"#636efa\",\"#EF553B\"]},\"name\":\"\",\"showlegend\":false,\"values\":[20755,1196],\"type\":\"pie\"},{\"customdata\":[[0],[1]],\"domain\":{\"x\":[0.6120000000000001,0.7960000000000002],\"y\":[0.0,1.0]},\"hovertemplate\":\"Job Satisfaction=4.0\\u003cbr\\u003ecount=%{value}\\u003cbr\\u003eDepression=%{customdata[0]}\\u003cextra\\u003e\\u003c\\u002fextra\\u003e\",\"legendgroup\":\"\",\"marker\":{\"colors\":[\"#636efa\",\"#EF553B\"]},\"name\":\"\",\"showlegend\":false,\"values\":[20095,825],\"type\":\"pie\"},{\"customdata\":[[0],[1]],\"domain\":{\"x\":[0.8160000000000001,1.0],\"y\":[0.0,1.0]},\"hovertemplate\":\"Job Satisfaction=5.0\\u003cbr\\u003ecount=%{value}\\u003cbr\\u003eDepression=%{customdata[0]}\\u003cextra\\u003e\\u003c\\u002fextra\\u003e\",\"legendgroup\":\"\",\"marker\":{\"colors\":[\"#636efa\",\"#EF553B\"]},\"name\":\"\",\"showlegend\":false,\"values\":[21928,884],\"type\":\"pie\"}],                        {\"template\":{\"data\":{\"barpolar\":[{\"marker\":{\"line\":{\"color\":\"rgb(237,237,237)\",\"width\":0.5},\"pattern\":{\"fillmode\":\"overlay\",\"size\":10,\"solidity\":0.2}},\"type\":\"barpolar\"}],\"bar\":[{\"error_x\":{\"color\":\"rgb(51,51,51)\"},\"error_y\":{\"color\":\"rgb(51,51,51)\"},\"marker\":{\"line\":{\"color\":\"rgb(237,237,237)\",\"width\":0.5},\"pattern\":{\"fillmode\":\"overlay\",\"size\":10,\"solidity\":0.2}},\"type\":\"bar\"}],\"carpet\":[{\"aaxis\":{\"endlinecolor\":\"rgb(51,51,51)\",\"gridcolor\":\"white\",\"linecolor\":\"white\",\"minorgridcolor\":\"white\",\"startlinecolor\":\"rgb(51,51,51)\"},\"baxis\":{\"endlinecolor\":\"rgb(51,51,51)\",\"gridcolor\":\"white\",\"linecolor\":\"white\",\"minorgridcolor\":\"white\",\"startlinecolor\":\"rgb(51,51,51)\"},\"type\":\"carpet\"}],\"choropleth\":[{\"colorbar\":{\"outlinewidth\":0,\"tickcolor\":\"rgb(237,237,237)\",\"ticklen\":6,\"ticks\":\"inside\"},\"type\":\"choropleth\"}],\"contourcarpet\":[{\"colorbar\":{\"outlinewidth\":0,\"tickcolor\":\"rgb(237,237,237)\",\"ticklen\":6,\"ticks\":\"inside\"},\"type\":\"contourcarpet\"}],\"contour\":[{\"colorbar\":{\"outlinewidth\":0,\"tickcolor\":\"rgb(237,237,237)\",\"ticklen\":6,\"ticks\":\"inside\"},\"colorscale\":[[0,\"rgb(20,44,66)\"],[1,\"rgb(90,179,244)\"]],\"type\":\"contour\"}],\"heatmapgl\":[{\"colorbar\":{\"outlinewidth\":0,\"tickcolor\":\"rgb(237,237,237)\",\"ticklen\":6,\"ticks\":\"inside\"},\"colorscale\":[[0,\"rgb(20,44,66)\"],[1,\"rgb(90,179,244)\"]],\"type\":\"heatmapgl\"}],\"heatmap\":[{\"colorbar\":{\"outlinewidth\":0,\"tickcolor\":\"rgb(237,237,237)\",\"ticklen\":6,\"ticks\":\"inside\"},\"colorscale\":[[0,\"rgb(20,44,66)\"],[1,\"rgb(90,179,244)\"]],\"type\":\"heatmap\"}],\"histogram2dcontour\":[{\"colorbar\":{\"outlinewidth\":0,\"tickcolor\":\"rgb(237,237,237)\",\"ticklen\":6,\"ticks\":\"inside\"},\"colorscale\":[[0,\"rgb(20,44,66)\"],[1,\"rgb(90,179,244)\"]],\"type\":\"histogram2dcontour\"}],\"histogram2d\":[{\"colorbar\":{\"outlinewidth\":0,\"tickcolor\":\"rgb(237,237,237)\",\"ticklen\":6,\"ticks\":\"inside\"},\"colorscale\":[[0,\"rgb(20,44,66)\"],[1,\"rgb(90,179,244)\"]],\"type\":\"histogram2d\"}],\"histogram\":[{\"marker\":{\"pattern\":{\"fillmode\":\"overlay\",\"size\":10,\"solidity\":0.2}},\"type\":\"histogram\"}],\"mesh3d\":[{\"colorbar\":{\"outlinewidth\":0,\"tickcolor\":\"rgb(237,237,237)\",\"ticklen\":6,\"ticks\":\"inside\"},\"type\":\"mesh3d\"}],\"parcoords\":[{\"line\":{\"colorbar\":{\"outlinewidth\":0,\"tickcolor\":\"rgb(237,237,237)\",\"ticklen\":6,\"ticks\":\"inside\"}},\"type\":\"parcoords\"}],\"pie\":[{\"automargin\":true,\"type\":\"pie\"}],\"scatter3d\":[{\"line\":{\"colorbar\":{\"outlinewidth\":0,\"tickcolor\":\"rgb(237,237,237)\",\"ticklen\":6,\"ticks\":\"inside\"}},\"marker\":{\"colorbar\":{\"outlinewidth\":0,\"tickcolor\":\"rgb(237,237,237)\",\"ticklen\":6,\"ticks\":\"inside\"}},\"type\":\"scatter3d\"}],\"scattercarpet\":[{\"marker\":{\"colorbar\":{\"outlinewidth\":0,\"tickcolor\":\"rgb(237,237,237)\",\"ticklen\":6,\"ticks\":\"inside\"}},\"type\":\"scattercarpet\"}],\"scattergeo\":[{\"marker\":{\"colorbar\":{\"outlinewidth\":0,\"tickcolor\":\"rgb(237,237,237)\",\"ticklen\":6,\"ticks\":\"inside\"}},\"type\":\"scattergeo\"}],\"scattergl\":[{\"marker\":{\"colorbar\":{\"outlinewidth\":0,\"tickcolor\":\"rgb(237,237,237)\",\"ticklen\":6,\"ticks\":\"inside\"}},\"type\":\"scattergl\"}],\"scattermapbox\":[{\"marker\":{\"colorbar\":{\"outlinewidth\":0,\"tickcolor\":\"rgb(237,237,237)\",\"ticklen\":6,\"ticks\":\"inside\"}},\"type\":\"scattermapbox\"}],\"scatterpolargl\":[{\"marker\":{\"colorbar\":{\"outlinewidth\":0,\"tickcolor\":\"rgb(237,237,237)\",\"ticklen\":6,\"ticks\":\"inside\"}},\"type\":\"scatterpolargl\"}],\"scatterpolar\":[{\"marker\":{\"colorbar\":{\"outlinewidth\":0,\"tickcolor\":\"rgb(237,237,237)\",\"ticklen\":6,\"ticks\":\"inside\"}},\"type\":\"scatterpolar\"}],\"scatter\":[{\"fillpattern\":{\"fillmode\":\"overlay\",\"size\":10,\"solidity\":0.2},\"type\":\"scatter\"}],\"scatterternary\":[{\"marker\":{\"colorbar\":{\"outlinewidth\":0,\"tickcolor\":\"rgb(237,237,237)\",\"ticklen\":6,\"ticks\":\"inside\"}},\"type\":\"scatterternary\"}],\"surface\":[{\"colorbar\":{\"outlinewidth\":0,\"tickcolor\":\"rgb(237,237,237)\",\"ticklen\":6,\"ticks\":\"inside\"},\"colorscale\":[[0,\"rgb(20,44,66)\"],[1,\"rgb(90,179,244)\"]],\"type\":\"surface\"}],\"table\":[{\"cells\":{\"fill\":{\"color\":\"rgb(237,237,237)\"},\"line\":{\"color\":\"white\"}},\"header\":{\"fill\":{\"color\":\"rgb(217,217,217)\"},\"line\":{\"color\":\"white\"}},\"type\":\"table\"}]},\"layout\":{\"annotationdefaults\":{\"arrowhead\":0,\"arrowwidth\":1},\"autotypenumbers\":\"strict\",\"coloraxis\":{\"colorbar\":{\"outlinewidth\":0,\"tickcolor\":\"rgb(237,237,237)\",\"ticklen\":6,\"ticks\":\"inside\"}},\"colorscale\":{\"sequential\":[[0,\"rgb(20,44,66)\"],[1,\"rgb(90,179,244)\"]],\"sequentialminus\":[[0,\"rgb(20,44,66)\"],[1,\"rgb(90,179,244)\"]]},\"colorway\":[\"#F8766D\",\"#A3A500\",\"#00BF7D\",\"#00B0F6\",\"#E76BF3\"],\"font\":{\"color\":\"rgb(51,51,51)\"},\"geo\":{\"bgcolor\":\"white\",\"lakecolor\":\"white\",\"landcolor\":\"rgb(237,237,237)\",\"showlakes\":true,\"showland\":true,\"subunitcolor\":\"white\"},\"hoverlabel\":{\"align\":\"left\"},\"hovermode\":\"closest\",\"paper_bgcolor\":\"white\",\"plot_bgcolor\":\"rgb(237,237,237)\",\"polar\":{\"angularaxis\":{\"gridcolor\":\"white\",\"linecolor\":\"white\",\"showgrid\":true,\"tickcolor\":\"rgb(51,51,51)\",\"ticks\":\"outside\"},\"bgcolor\":\"rgb(237,237,237)\",\"radialaxis\":{\"gridcolor\":\"white\",\"linecolor\":\"white\",\"showgrid\":true,\"tickcolor\":\"rgb(51,51,51)\",\"ticks\":\"outside\"}},\"scene\":{\"xaxis\":{\"backgroundcolor\":\"rgb(237,237,237)\",\"gridcolor\":\"white\",\"gridwidth\":2,\"linecolor\":\"white\",\"showbackground\":true,\"showgrid\":true,\"tickcolor\":\"rgb(51,51,51)\",\"ticks\":\"outside\",\"zerolinecolor\":\"white\"},\"yaxis\":{\"backgroundcolor\":\"rgb(237,237,237)\",\"gridcolor\":\"white\",\"gridwidth\":2,\"linecolor\":\"white\",\"showbackground\":true,\"showgrid\":true,\"tickcolor\":\"rgb(51,51,51)\",\"ticks\":\"outside\",\"zerolinecolor\":\"white\"},\"zaxis\":{\"backgroundcolor\":\"rgb(237,237,237)\",\"gridcolor\":\"white\",\"gridwidth\":2,\"linecolor\":\"white\",\"showbackground\":true,\"showgrid\":true,\"tickcolor\":\"rgb(51,51,51)\",\"ticks\":\"outside\",\"zerolinecolor\":\"white\"}},\"shapedefaults\":{\"fillcolor\":\"black\",\"line\":{\"width\":0},\"opacity\":0.3},\"ternary\":{\"aaxis\":{\"gridcolor\":\"white\",\"linecolor\":\"white\",\"showgrid\":true,\"tickcolor\":\"rgb(51,51,51)\",\"ticks\":\"outside\"},\"baxis\":{\"gridcolor\":\"white\",\"linecolor\":\"white\",\"showgrid\":true,\"tickcolor\":\"rgb(51,51,51)\",\"ticks\":\"outside\"},\"bgcolor\":\"rgb(237,237,237)\",\"caxis\":{\"gridcolor\":\"white\",\"linecolor\":\"white\",\"showgrid\":true,\"tickcolor\":\"rgb(51,51,51)\",\"ticks\":\"outside\"}},\"xaxis\":{\"automargin\":true,\"gridcolor\":\"white\",\"linecolor\":\"white\",\"showgrid\":true,\"tickcolor\":\"rgb(51,51,51)\",\"ticks\":\"outside\",\"title\":{\"standoff\":15},\"zerolinecolor\":\"white\"},\"yaxis\":{\"automargin\":true,\"gridcolor\":\"white\",\"linecolor\":\"white\",\"showgrid\":true,\"tickcolor\":\"rgb(51,51,51)\",\"ticks\":\"outside\",\"title\":{\"standoff\":15},\"zerolinecolor\":\"white\"}}},\"annotations\":[{\"font\":{},\"showarrow\":false,\"text\":\"Job Satisfaction=1.0\",\"x\":0.09200000000000001,\"xanchor\":\"center\",\"xref\":\"paper\",\"y\":1.0,\"yanchor\":\"bottom\",\"yref\":\"paper\"},{\"font\":{},\"showarrow\":false,\"text\":\"Job Satisfaction=2.0\",\"x\":0.29600000000000004,\"xanchor\":\"center\",\"xref\":\"paper\",\"y\":1.0,\"yanchor\":\"bottom\",\"yref\":\"paper\"},{\"font\":{},\"showarrow\":false,\"text\":\"Job Satisfaction=3.0\",\"x\":0.5,\"xanchor\":\"center\",\"xref\":\"paper\",\"y\":1.0,\"yanchor\":\"bottom\",\"yref\":\"paper\"},{\"font\":{},\"showarrow\":false,\"text\":\"Job Satisfaction=4.0\",\"x\":0.7040000000000002,\"xanchor\":\"center\",\"xref\":\"paper\",\"y\":1.0,\"yanchor\":\"bottom\",\"yref\":\"paper\"},{\"font\":{},\"showarrow\":false,\"text\":\"Job Satisfaction=5.0\",\"x\":0.908,\"xanchor\":\"center\",\"xref\":\"paper\",\"y\":1.0,\"yanchor\":\"bottom\",\"yref\":\"paper\"}],\"legend\":{\"tracegroupgap\":0},\"margin\":{\"t\":60},\"width\":1000,\"height\":320,\"yaxis\":{\"title\":{\"text\":\"Job Satisfaction\"}}},                        {\"responsive\": true}                    ).then(function(){\n",
       "                            \n",
       "var gd = document.getElementById('0f93214f-7251-4b5e-b375-866378aa5e9e');\n",
       "var x = new MutationObserver(function (mutations, observer) {{\n",
       "        var display = window.getComputedStyle(gd).display;\n",
       "        if (!display || display === 'none') {{\n",
       "            console.log([gd, 'removed!']);\n",
       "            Plotly.purge(gd);\n",
       "            observer.disconnect();\n",
       "        }}\n",
       "}});\n",
       "\n",
       "// Listen for the removal of the full notebook cells\n",
       "var notebookContainer = gd.closest('#notebook-container');\n",
       "if (notebookContainer) {{\n",
       "    x.observe(notebookContainer, {childList: true});\n",
       "}}\n",
       "\n",
       "// Listen for the clearing of the current output cell\n",
       "var outputEl = gd.closest('.output');\n",
       "if (outputEl) {{\n",
       "    x.observe(outputEl, {childList: true});\n",
       "}}\n",
       "\n",
       "                        })                };                });            </script>        </div>"
      ]
     },
     "metadata": {},
     "output_type": "display_data"
    },
    {
     "data": {
      "application/vnd.plotly.v1+json": {
       "config": {
        "plotlyServerURL": "https://plot.ly"
       },
       "data": [
        {
         "customdata": [
          [
           0
          ],
          [
           1
          ]
         ],
         "domain": {
          "x": [
           0,
           0.18400000000000002
          ],
          "y": [
           0,
           1
          ]
         },
         "hovertemplate": "Financial Stress=1.0<br>count=%{value}<br>Depression=%{customdata[0]}<extra></extra>",
         "legendgroup": "",
         "marker": {
          "colors": [
           "#636efa",
           "#EF553B"
          ]
         },
         "name": "",
         "showlegend": false,
         "type": "pie",
         "values": [
          24899,
          2312
         ]
        },
        {
         "customdata": [
          [
           0
          ],
          [
           1
          ]
         ],
         "domain": {
          "x": [
           0.20400000000000001,
           0.388
          ],
          "y": [
           0,
           1
          ]
         },
         "hovertemplate": "Financial Stress=2.0<br>count=%{value}<br>Depression=%{customdata[0]}<extra></extra>",
         "legendgroup": "",
         "marker": {
          "colors": [
           "#636efa",
           "#EF553B"
          ]
         },
         "name": "",
         "showlegend": false,
         "type": "pie",
         "values": [
          28261,
          3190
         ]
        },
        {
         "customdata": [
          [
           0
          ],
          [
           1
          ]
         ],
         "domain": {
          "x": [
           0.40800000000000003,
           0.5920000000000001
          ],
          "y": [
           0,
           1
          ]
         },
         "hovertemplate": "Financial Stress=3.0<br>count=%{value}<br>Depression=%{customdata[0]}<extra></extra>",
         "legendgroup": "",
         "marker": {
          "colors": [
           "#636efa",
           "#EF553B"
          ]
         },
         "name": "",
         "showlegend": false,
         "type": "pie",
         "values": [
          21463,
          4527
         ]
        },
        {
         "customdata": [
          [
           0
          ],
          [
           1
          ]
         ],
         "domain": {
          "x": [
           0.6120000000000001,
           0.7960000000000002
          ],
          "y": [
           0,
           1
          ]
         },
         "hovertemplate": "Financial Stress=4.0<br>count=%{value}<br>Depression=%{customdata[0]}<extra></extra>",
         "legendgroup": "",
         "marker": {
          "colors": [
           "#636efa",
           "#EF553B"
          ]
         },
         "name": "",
         "showlegend": false,
         "type": "pie",
         "values": [
          21651,
          6114
         ]
        },
        {
         "customdata": [
          [
           0
          ],
          [
           1
          ]
         ],
         "domain": {
          "x": [
           0.8160000000000001,
           1
          ],
          "y": [
           0,
           1
          ]
         },
         "hovertemplate": "Financial Stress=5.0<br>count=%{value}<br>Depression=%{customdata[0]}<extra></extra>",
         "legendgroup": "",
         "marker": {
          "colors": [
           "#636efa",
           "#EF553B"
          ]
         },
         "name": "",
         "showlegend": false,
         "type": "pie",
         "values": [
          18856,
          9423
         ]
        }
       ],
       "layout": {
        "annotations": [
         {
          "font": {},
          "showarrow": false,
          "text": "Financial Stress=1.0",
          "x": 0.09200000000000001,
          "xanchor": "center",
          "xref": "paper",
          "y": 1,
          "yanchor": "bottom",
          "yref": "paper"
         },
         {
          "font": {},
          "showarrow": false,
          "text": "Financial Stress=2.0",
          "x": 0.29600000000000004,
          "xanchor": "center",
          "xref": "paper",
          "y": 1,
          "yanchor": "bottom",
          "yref": "paper"
         },
         {
          "font": {},
          "showarrow": false,
          "text": "Financial Stress=3.0",
          "x": 0.5,
          "xanchor": "center",
          "xref": "paper",
          "y": 1,
          "yanchor": "bottom",
          "yref": "paper"
         },
         {
          "font": {},
          "showarrow": false,
          "text": "Financial Stress=4.0",
          "x": 0.7040000000000002,
          "xanchor": "center",
          "xref": "paper",
          "y": 1,
          "yanchor": "bottom",
          "yref": "paper"
         },
         {
          "font": {},
          "showarrow": false,
          "text": "Financial Stress=5.0",
          "x": 0.908,
          "xanchor": "center",
          "xref": "paper",
          "y": 1,
          "yanchor": "bottom",
          "yref": "paper"
         }
        ],
        "height": 300,
        "legend": {
         "tracegroupgap": 0
        },
        "margin": {
         "t": 60
        },
        "template": {
         "data": {
          "bar": [
           {
            "error_x": {
             "color": "rgb(51,51,51)"
            },
            "error_y": {
             "color": "rgb(51,51,51)"
            },
            "marker": {
             "line": {
              "color": "rgb(237,237,237)",
              "width": 0.5
             },
             "pattern": {
              "fillmode": "overlay",
              "size": 10,
              "solidity": 0.2
             }
            },
            "type": "bar"
           }
          ],
          "barpolar": [
           {
            "marker": {
             "line": {
              "color": "rgb(237,237,237)",
              "width": 0.5
             },
             "pattern": {
              "fillmode": "overlay",
              "size": 10,
              "solidity": 0.2
             }
            },
            "type": "barpolar"
           }
          ],
          "carpet": [
           {
            "aaxis": {
             "endlinecolor": "rgb(51,51,51)",
             "gridcolor": "white",
             "linecolor": "white",
             "minorgridcolor": "white",
             "startlinecolor": "rgb(51,51,51)"
            },
            "baxis": {
             "endlinecolor": "rgb(51,51,51)",
             "gridcolor": "white",
             "linecolor": "white",
             "minorgridcolor": "white",
             "startlinecolor": "rgb(51,51,51)"
            },
            "type": "carpet"
           }
          ],
          "choropleth": [
           {
            "colorbar": {
             "outlinewidth": 0,
             "tickcolor": "rgb(237,237,237)",
             "ticklen": 6,
             "ticks": "inside"
            },
            "type": "choropleth"
           }
          ],
          "contour": [
           {
            "colorbar": {
             "outlinewidth": 0,
             "tickcolor": "rgb(237,237,237)",
             "ticklen": 6,
             "ticks": "inside"
            },
            "colorscale": [
             [
              0,
              "rgb(20,44,66)"
             ],
             [
              1,
              "rgb(90,179,244)"
             ]
            ],
            "type": "contour"
           }
          ],
          "contourcarpet": [
           {
            "colorbar": {
             "outlinewidth": 0,
             "tickcolor": "rgb(237,237,237)",
             "ticklen": 6,
             "ticks": "inside"
            },
            "type": "contourcarpet"
           }
          ],
          "heatmap": [
           {
            "colorbar": {
             "outlinewidth": 0,
             "tickcolor": "rgb(237,237,237)",
             "ticklen": 6,
             "ticks": "inside"
            },
            "colorscale": [
             [
              0,
              "rgb(20,44,66)"
             ],
             [
              1,
              "rgb(90,179,244)"
             ]
            ],
            "type": "heatmap"
           }
          ],
          "heatmapgl": [
           {
            "colorbar": {
             "outlinewidth": 0,
             "tickcolor": "rgb(237,237,237)",
             "ticklen": 6,
             "ticks": "inside"
            },
            "colorscale": [
             [
              0,
              "rgb(20,44,66)"
             ],
             [
              1,
              "rgb(90,179,244)"
             ]
            ],
            "type": "heatmapgl"
           }
          ],
          "histogram": [
           {
            "marker": {
             "pattern": {
              "fillmode": "overlay",
              "size": 10,
              "solidity": 0.2
             }
            },
            "type": "histogram"
           }
          ],
          "histogram2d": [
           {
            "colorbar": {
             "outlinewidth": 0,
             "tickcolor": "rgb(237,237,237)",
             "ticklen": 6,
             "ticks": "inside"
            },
            "colorscale": [
             [
              0,
              "rgb(20,44,66)"
             ],
             [
              1,
              "rgb(90,179,244)"
             ]
            ],
            "type": "histogram2d"
           }
          ],
          "histogram2dcontour": [
           {
            "colorbar": {
             "outlinewidth": 0,
             "tickcolor": "rgb(237,237,237)",
             "ticklen": 6,
             "ticks": "inside"
            },
            "colorscale": [
             [
              0,
              "rgb(20,44,66)"
             ],
             [
              1,
              "rgb(90,179,244)"
             ]
            ],
            "type": "histogram2dcontour"
           }
          ],
          "mesh3d": [
           {
            "colorbar": {
             "outlinewidth": 0,
             "tickcolor": "rgb(237,237,237)",
             "ticklen": 6,
             "ticks": "inside"
            },
            "type": "mesh3d"
           }
          ],
          "parcoords": [
           {
            "line": {
             "colorbar": {
              "outlinewidth": 0,
              "tickcolor": "rgb(237,237,237)",
              "ticklen": 6,
              "ticks": "inside"
             }
            },
            "type": "parcoords"
           }
          ],
          "pie": [
           {
            "automargin": true,
            "type": "pie"
           }
          ],
          "scatter": [
           {
            "fillpattern": {
             "fillmode": "overlay",
             "size": 10,
             "solidity": 0.2
            },
            "type": "scatter"
           }
          ],
          "scatter3d": [
           {
            "line": {
             "colorbar": {
              "outlinewidth": 0,
              "tickcolor": "rgb(237,237,237)",
              "ticklen": 6,
              "ticks": "inside"
             }
            },
            "marker": {
             "colorbar": {
              "outlinewidth": 0,
              "tickcolor": "rgb(237,237,237)",
              "ticklen": 6,
              "ticks": "inside"
             }
            },
            "type": "scatter3d"
           }
          ],
          "scattercarpet": [
           {
            "marker": {
             "colorbar": {
              "outlinewidth": 0,
              "tickcolor": "rgb(237,237,237)",
              "ticklen": 6,
              "ticks": "inside"
             }
            },
            "type": "scattercarpet"
           }
          ],
          "scattergeo": [
           {
            "marker": {
             "colorbar": {
              "outlinewidth": 0,
              "tickcolor": "rgb(237,237,237)",
              "ticklen": 6,
              "ticks": "inside"
             }
            },
            "type": "scattergeo"
           }
          ],
          "scattergl": [
           {
            "marker": {
             "colorbar": {
              "outlinewidth": 0,
              "tickcolor": "rgb(237,237,237)",
              "ticklen": 6,
              "ticks": "inside"
             }
            },
            "type": "scattergl"
           }
          ],
          "scattermapbox": [
           {
            "marker": {
             "colorbar": {
              "outlinewidth": 0,
              "tickcolor": "rgb(237,237,237)",
              "ticklen": 6,
              "ticks": "inside"
             }
            },
            "type": "scattermapbox"
           }
          ],
          "scatterpolar": [
           {
            "marker": {
             "colorbar": {
              "outlinewidth": 0,
              "tickcolor": "rgb(237,237,237)",
              "ticklen": 6,
              "ticks": "inside"
             }
            },
            "type": "scatterpolar"
           }
          ],
          "scatterpolargl": [
           {
            "marker": {
             "colorbar": {
              "outlinewidth": 0,
              "tickcolor": "rgb(237,237,237)",
              "ticklen": 6,
              "ticks": "inside"
             }
            },
            "type": "scatterpolargl"
           }
          ],
          "scatterternary": [
           {
            "marker": {
             "colorbar": {
              "outlinewidth": 0,
              "tickcolor": "rgb(237,237,237)",
              "ticklen": 6,
              "ticks": "inside"
             }
            },
            "type": "scatterternary"
           }
          ],
          "surface": [
           {
            "colorbar": {
             "outlinewidth": 0,
             "tickcolor": "rgb(237,237,237)",
             "ticklen": 6,
             "ticks": "inside"
            },
            "colorscale": [
             [
              0,
              "rgb(20,44,66)"
             ],
             [
              1,
              "rgb(90,179,244)"
             ]
            ],
            "type": "surface"
           }
          ],
          "table": [
           {
            "cells": {
             "fill": {
              "color": "rgb(237,237,237)"
             },
             "line": {
              "color": "white"
             }
            },
            "header": {
             "fill": {
              "color": "rgb(217,217,217)"
             },
             "line": {
              "color": "white"
             }
            },
            "type": "table"
           }
          ]
         },
         "layout": {
          "annotationdefaults": {
           "arrowhead": 0,
           "arrowwidth": 1
          },
          "autotypenumbers": "strict",
          "coloraxis": {
           "colorbar": {
            "outlinewidth": 0,
            "tickcolor": "rgb(237,237,237)",
            "ticklen": 6,
            "ticks": "inside"
           }
          },
          "colorscale": {
           "sequential": [
            [
             0,
             "rgb(20,44,66)"
            ],
            [
             1,
             "rgb(90,179,244)"
            ]
           ],
           "sequentialminus": [
            [
             0,
             "rgb(20,44,66)"
            ],
            [
             1,
             "rgb(90,179,244)"
            ]
           ]
          },
          "colorway": [
           "#F8766D",
           "#A3A500",
           "#00BF7D",
           "#00B0F6",
           "#E76BF3"
          ],
          "font": {
           "color": "rgb(51,51,51)"
          },
          "geo": {
           "bgcolor": "white",
           "lakecolor": "white",
           "landcolor": "rgb(237,237,237)",
           "showlakes": true,
           "showland": true,
           "subunitcolor": "white"
          },
          "hoverlabel": {
           "align": "left"
          },
          "hovermode": "closest",
          "paper_bgcolor": "white",
          "plot_bgcolor": "rgb(237,237,237)",
          "polar": {
           "angularaxis": {
            "gridcolor": "white",
            "linecolor": "white",
            "showgrid": true,
            "tickcolor": "rgb(51,51,51)",
            "ticks": "outside"
           },
           "bgcolor": "rgb(237,237,237)",
           "radialaxis": {
            "gridcolor": "white",
            "linecolor": "white",
            "showgrid": true,
            "tickcolor": "rgb(51,51,51)",
            "ticks": "outside"
           }
          },
          "scene": {
           "xaxis": {
            "backgroundcolor": "rgb(237,237,237)",
            "gridcolor": "white",
            "gridwidth": 2,
            "linecolor": "white",
            "showbackground": true,
            "showgrid": true,
            "tickcolor": "rgb(51,51,51)",
            "ticks": "outside",
            "zerolinecolor": "white"
           },
           "yaxis": {
            "backgroundcolor": "rgb(237,237,237)",
            "gridcolor": "white",
            "gridwidth": 2,
            "linecolor": "white",
            "showbackground": true,
            "showgrid": true,
            "tickcolor": "rgb(51,51,51)",
            "ticks": "outside",
            "zerolinecolor": "white"
           },
           "zaxis": {
            "backgroundcolor": "rgb(237,237,237)",
            "gridcolor": "white",
            "gridwidth": 2,
            "linecolor": "white",
            "showbackground": true,
            "showgrid": true,
            "tickcolor": "rgb(51,51,51)",
            "ticks": "outside",
            "zerolinecolor": "white"
           }
          },
          "shapedefaults": {
           "fillcolor": "black",
           "line": {
            "width": 0
           },
           "opacity": 0.3
          },
          "ternary": {
           "aaxis": {
            "gridcolor": "white",
            "linecolor": "white",
            "showgrid": true,
            "tickcolor": "rgb(51,51,51)",
            "ticks": "outside"
           },
           "baxis": {
            "gridcolor": "white",
            "linecolor": "white",
            "showgrid": true,
            "tickcolor": "rgb(51,51,51)",
            "ticks": "outside"
           },
           "bgcolor": "rgb(237,237,237)",
           "caxis": {
            "gridcolor": "white",
            "linecolor": "white",
            "showgrid": true,
            "tickcolor": "rgb(51,51,51)",
            "ticks": "outside"
           }
          },
          "xaxis": {
           "automargin": true,
           "gridcolor": "white",
           "linecolor": "white",
           "showgrid": true,
           "tickcolor": "rgb(51,51,51)",
           "ticks": "outside",
           "title": {
            "standoff": 15
           },
           "zerolinecolor": "white"
          },
          "yaxis": {
           "automargin": true,
           "gridcolor": "white",
           "linecolor": "white",
           "showgrid": true,
           "tickcolor": "rgb(51,51,51)",
           "ticks": "outside",
           "title": {
            "standoff": 15
           },
           "zerolinecolor": "white"
          }
         }
        },
        "width": 1000,
        "yaxis": {
         "title": {
          "text": "Financial Stress"
         }
        }
       }
      },
      "image/png": "[encoded data removed]",
      "text/html": [
       "<div>                            <div id=\"8b7911f9-75a5-4b34-b380-a862a12b99a3\" class=\"plotly-graph-div\" style=\"height:300px; width:1000px;\"></div>            <script type=\"text/javascript\">                require([\"plotly\"], function(Plotly) {                    window.PLOTLYENV=window.PLOTLYENV || {};                                    if (document.getElementById(\"8b7911f9-75a5-4b34-b380-a862a12b99a3\")) {                    Plotly.newPlot(                        \"8b7911f9-75a5-4b34-b380-a862a12b99a3\",                        [{\"customdata\":[[0],[1]],\"domain\":{\"x\":[0.0,0.18400000000000002],\"y\":[0.0,1.0]},\"hovertemplate\":\"Financial Stress=1.0\\u003cbr\\u003ecount=%{value}\\u003cbr\\u003eDepression=%{customdata[0]}\\u003cextra\\u003e\\u003c\\u002fextra\\u003e\",\"legendgroup\":\"\",\"marker\":{\"colors\":[\"#636efa\",\"#EF553B\"]},\"name\":\"\",\"showlegend\":false,\"values\":[24899,2312],\"type\":\"pie\"},{\"customdata\":[[0],[1]],\"domain\":{\"x\":[0.20400000000000001,0.388],\"y\":[0.0,1.0]},\"hovertemplate\":\"Financial Stress=2.0\\u003cbr\\u003ecount=%{value}\\u003cbr\\u003eDepression=%{customdata[0]}\\u003cextra\\u003e\\u003c\\u002fextra\\u003e\",\"legendgroup\":\"\",\"marker\":{\"colors\":[\"#636efa\",\"#EF553B\"]},\"name\":\"\",\"showlegend\":false,\"values\":[28261,3190],\"type\":\"pie\"},{\"customdata\":[[0],[1]],\"domain\":{\"x\":[0.40800000000000003,0.5920000000000001],\"y\":[0.0,1.0]},\"hovertemplate\":\"Financial Stress=3.0\\u003cbr\\u003ecount=%{value}\\u003cbr\\u003eDepression=%{customdata[0]}\\u003cextra\\u003e\\u003c\\u002fextra\\u003e\",\"legendgroup\":\"\",\"marker\":{\"colors\":[\"#636efa\",\"#EF553B\"]},\"name\":\"\",\"showlegend\":false,\"values\":[21463,4527],\"type\":\"pie\"},{\"customdata\":[[0],[1]],\"domain\":{\"x\":[0.6120000000000001,0.7960000000000002],\"y\":[0.0,1.0]},\"hovertemplate\":\"Financial Stress=4.0\\u003cbr\\u003ecount=%{value}\\u003cbr\\u003eDepression=%{customdata[0]}\\u003cextra\\u003e\\u003c\\u002fextra\\u003e\",\"legendgroup\":\"\",\"marker\":{\"colors\":[\"#636efa\",\"#EF553B\"]},\"name\":\"\",\"showlegend\":false,\"values\":[21651,6114],\"type\":\"pie\"},{\"customdata\":[[0],[1]],\"domain\":{\"x\":[0.8160000000000001,1.0],\"y\":[0.0,1.0]},\"hovertemplate\":\"Financial Stress=5.0\\u003cbr\\u003ecount=%{value}\\u003cbr\\u003eDepression=%{customdata[0]}\\u003cextra\\u003e\\u003c\\u002fextra\\u003e\",\"legendgroup\":\"\",\"marker\":{\"colors\":[\"#636efa\",\"#EF553B\"]},\"name\":\"\",\"showlegend\":false,\"values\":[18856,9423],\"type\":\"pie\"}],                        {\"template\":{\"data\":{\"barpolar\":[{\"marker\":{\"line\":{\"color\":\"rgb(237,237,237)\",\"width\":0.5},\"pattern\":{\"fillmode\":\"overlay\",\"size\":10,\"solidity\":0.2}},\"type\":\"barpolar\"}],\"bar\":[{\"error_x\":{\"color\":\"rgb(51,51,51)\"},\"error_y\":{\"color\":\"rgb(51,51,51)\"},\"marker\":{\"line\":{\"color\":\"rgb(237,237,237)\",\"width\":0.5},\"pattern\":{\"fillmode\":\"overlay\",\"size\":10,\"solidity\":0.2}},\"type\":\"bar\"}],\"carpet\":[{\"aaxis\":{\"endlinecolor\":\"rgb(51,51,51)\",\"gridcolor\":\"white\",\"linecolor\":\"white\",\"minorgridcolor\":\"white\",\"startlinecolor\":\"rgb(51,51,51)\"},\"baxis\":{\"endlinecolor\":\"rgb(51,51,51)\",\"gridcolor\":\"white\",\"linecolor\":\"white\",\"minorgridcolor\":\"white\",\"startlinecolor\":\"rgb(51,51,51)\"},\"type\":\"carpet\"}],\"choropleth\":[{\"colorbar\":{\"outlinewidth\":0,\"tickcolor\":\"rgb(237,237,237)\",\"ticklen\":6,\"ticks\":\"inside\"},\"type\":\"choropleth\"}],\"contourcarpet\":[{\"colorbar\":{\"outlinewidth\":0,\"tickcolor\":\"rgb(237,237,237)\",\"ticklen\":6,\"ticks\":\"inside\"},\"type\":\"contourcarpet\"}],\"contour\":[{\"colorbar\":{\"outlinewidth\":0,\"tickcolor\":\"rgb(237,237,237)\",\"ticklen\":6,\"ticks\":\"inside\"},\"colorscale\":[[0,\"rgb(20,44,66)\"],[1,\"rgb(90,179,244)\"]],\"type\":\"contour\"}],\"heatmapgl\":[{\"colorbar\":{\"outlinewidth\":0,\"tickcolor\":\"rgb(237,237,237)\",\"ticklen\":6,\"ticks\":\"inside\"},\"colorscale\":[[0,\"rgb(20,44,66)\"],[1,\"rgb(90,179,244)\"]],\"type\":\"heatmapgl\"}],\"heatmap\":[{\"colorbar\":{\"outlinewidth\":0,\"tickcolor\":\"rgb(237,237,237)\",\"ticklen\":6,\"ticks\":\"inside\"},\"colorscale\":[[0,\"rgb(20,44,66)\"],[1,\"rgb(90,179,244)\"]],\"type\":\"heatmap\"}],\"histogram2dcontour\":[{\"colorbar\":{\"outlinewidth\":0,\"tickcolor\":\"rgb(237,237,237)\",\"ticklen\":6,\"ticks\":\"inside\"},\"colorscale\":[[0,\"rgb(20,44,66)\"],[1,\"rgb(90,179,244)\"]],\"type\":\"histogram2dcontour\"}],\"histogram2d\":[{\"colorbar\":{\"outlinewidth\":0,\"tickcolor\":\"rgb(237,237,237)\",\"ticklen\":6,\"ticks\":\"inside\"},\"colorscale\":[[0,\"rgb(20,44,66)\"],[1,\"rgb(90,179,244)\"]],\"type\":\"histogram2d\"}],\"histogram\":[{\"marker\":{\"pattern\":{\"fillmode\":\"overlay\",\"size\":10,\"solidity\":0.2}},\"type\":\"histogram\"}],\"mesh3d\":[{\"colorbar\":{\"outlinewidth\":0,\"tickcolor\":\"rgb(237,237,237)\",\"ticklen\":6,\"ticks\":\"inside\"},\"type\":\"mesh3d\"}],\"parcoords\":[{\"line\":{\"colorbar\":{\"outlinewidth\":0,\"tickcolor\":\"rgb(237,237,237)\",\"ticklen\":6,\"ticks\":\"inside\"}},\"type\":\"parcoords\"}],\"pie\":[{\"automargin\":true,\"type\":\"pie\"}],\"scatter3d\":[{\"line\":{\"colorbar\":{\"outlinewidth\":0,\"tickcolor\":\"rgb(237,237,237)\",\"ticklen\":6,\"ticks\":\"inside\"}},\"marker\":{\"colorbar\":{\"outlinewidth\":0,\"tickcolor\":\"rgb(237,237,237)\",\"ticklen\":6,\"ticks\":\"inside\"}},\"type\":\"scatter3d\"}],\"scattercarpet\":[{\"marker\":{\"colorbar\":{\"outlinewidth\":0,\"tickcolor\":\"rgb(237,237,237)\",\"ticklen\":6,\"ticks\":\"inside\"}},\"type\":\"scattercarpet\"}],\"scattergeo\":[{\"marker\":{\"colorbar\":{\"outlinewidth\":0,\"tickcolor\":\"rgb(237,237,237)\",\"ticklen\":6,\"ticks\":\"inside\"}},\"type\":\"scattergeo\"}],\"scattergl\":[{\"marker\":{\"colorbar\":{\"outlinewidth\":0,\"tickcolor\":\"rgb(237,237,237)\",\"ticklen\":6,\"ticks\":\"inside\"}},\"type\":\"scattergl\"}],\"scattermapbox\":[{\"marker\":{\"colorbar\":{\"outlinewidth\":0,\"tickcolor\":\"rgb(237,237,237)\",\"ticklen\":6,\"ticks\":\"inside\"}},\"type\":\"scattermapbox\"}],\"scatterpolargl\":[{\"marker\":{\"colorbar\":{\"outlinewidth\":0,\"tickcolor\":\"rgb(237,237,237)\",\"ticklen\":6,\"ticks\":\"inside\"}},\"type\":\"scatterpolargl\"}],\"scatterpolar\":[{\"marker\":{\"colorbar\":{\"outlinewidth\":0,\"tickcolor\":\"rgb(237,237,237)\",\"ticklen\":6,\"ticks\":\"inside\"}},\"type\":\"scatterpolar\"}],\"scatter\":[{\"fillpattern\":{\"fillmode\":\"overlay\",\"size\":10,\"solidity\":0.2},\"type\":\"scatter\"}],\"scatterternary\":[{\"marker\":{\"colorbar\":{\"outlinewidth\":0,\"tickcolor\":\"rgb(237,237,237)\",\"ticklen\":6,\"ticks\":\"inside\"}},\"type\":\"scatterternary\"}],\"surface\":[{\"colorbar\":{\"outlinewidth\":0,\"tickcolor\":\"rgb(237,237,237)\",\"ticklen\":6,\"ticks\":\"inside\"},\"colorscale\":[[0,\"rgb(20,44,66)\"],[1,\"rgb(90,179,244)\"]],\"type\":\"surface\"}],\"table\":[{\"cells\":{\"fill\":{\"color\":\"rgb(237,237,237)\"},\"line\":{\"color\":\"white\"}},\"header\":{\"fill\":{\"color\":\"rgb(217,217,217)\"},\"line\":{\"color\":\"white\"}},\"type\":\"table\"}]},\"layout\":{\"annotationdefaults\":{\"arrowhead\":0,\"arrowwidth\":1},\"autotypenumbers\":\"strict\",\"coloraxis\":{\"colorbar\":{\"outlinewidth\":0,\"tickcolor\":\"rgb(237,237,237)\",\"ticklen\":6,\"ticks\":\"inside\"}},\"colorscale\":{\"sequential\":[[0,\"rgb(20,44,66)\"],[1,\"rgb(90,179,244)\"]],\"sequentialminus\":[[0,\"rgb(20,44,66)\"],[1,\"rgb(90,179,244)\"]]},\"colorway\":[\"#F8766D\",\"#A3A500\",\"#00BF7D\",\"#00B0F6\",\"#E76BF3\"],\"font\":{\"color\":\"rgb(51,51,51)\"},\"geo\":{\"bgcolor\":\"white\",\"lakecolor\":\"white\",\"landcolor\":\"rgb(237,237,237)\",\"showlakes\":true,\"showland\":true,\"subunitcolor\":\"white\"},\"hoverlabel\":{\"align\":\"left\"},\"hovermode\":\"closest\",\"paper_bgcolor\":\"white\",\"plot_bgcolor\":\"rgb(237,237,237)\",\"polar\":{\"angularaxis\":{\"gridcolor\":\"white\",\"linecolor\":\"white\",\"showgrid\":true,\"tickcolor\":\"rgb(51,51,51)\",\"ticks\":\"outside\"},\"bgcolor\":\"rgb(237,237,237)\",\"radialaxis\":{\"gridcolor\":\"white\",\"linecolor\":\"white\",\"showgrid\":true,\"tickcolor\":\"rgb(51,51,51)\",\"ticks\":\"outside\"}},\"scene\":{\"xaxis\":{\"backgroundcolor\":\"rgb(237,237,237)\",\"gridcolor\":\"white\",\"gridwidth\":2,\"linecolor\":\"white\",\"showbackground\":true,\"showgrid\":true,\"tickcolor\":\"rgb(51,51,51)\",\"ticks\":\"outside\",\"zerolinecolor\":\"white\"},\"yaxis\":{\"backgroundcolor\":\"rgb(237,237,237)\",\"gridcolor\":\"white\",\"gridwidth\":2,\"linecolor\":\"white\",\"showbackground\":true,\"showgrid\":true,\"tickcolor\":\"rgb(51,51,51)\",\"ticks\":\"outside\",\"zerolinecolor\":\"white\"},\"zaxis\":{\"backgroundcolor\":\"rgb(237,237,237)\",\"gridcolor\":\"white\",\"gridwidth\":2,\"linecolor\":\"white\",\"showbackground\":true,\"showgrid\":true,\"tickcolor\":\"rgb(51,51,51)\",\"ticks\":\"outside\",\"zerolinecolor\":\"white\"}},\"shapedefaults\":{\"fillcolor\":\"black\",\"line\":{\"width\":0},\"opacity\":0.3},\"ternary\":{\"aaxis\":{\"gridcolor\":\"white\",\"linecolor\":\"white\",\"showgrid\":true,\"tickcolor\":\"rgb(51,51,51)\",\"ticks\":\"outside\"},\"baxis\":{\"gridcolor\":\"white\",\"linecolor\":\"white\",\"showgrid\":true,\"tickcolor\":\"rgb(51,51,51)\",\"ticks\":\"outside\"},\"bgcolor\":\"rgb(237,237,237)\",\"caxis\":{\"gridcolor\":\"white\",\"linecolor\":\"white\",\"showgrid\":true,\"tickcolor\":\"rgb(51,51,51)\",\"ticks\":\"outside\"}},\"xaxis\":{\"automargin\":true,\"gridcolor\":\"white\",\"linecolor\":\"white\",\"showgrid\":true,\"tickcolor\":\"rgb(51,51,51)\",\"ticks\":\"outside\",\"title\":{\"standoff\":15},\"zerolinecolor\":\"white\"},\"yaxis\":{\"automargin\":true,\"gridcolor\":\"white\",\"linecolor\":\"white\",\"showgrid\":true,\"tickcolor\":\"rgb(51,51,51)\",\"ticks\":\"outside\",\"title\":{\"standoff\":15},\"zerolinecolor\":\"white\"}}},\"annotations\":[{\"font\":{},\"showarrow\":false,\"text\":\"Financial Stress=1.0\",\"x\":0.09200000000000001,\"xanchor\":\"center\",\"xref\":\"paper\",\"y\":1.0,\"yanchor\":\"bottom\",\"yref\":\"paper\"},{\"font\":{},\"showarrow\":false,\"text\":\"Financial Stress=2.0\",\"x\":0.29600000000000004,\"xanchor\":\"center\",\"xref\":\"paper\",\"y\":1.0,\"yanchor\":\"bottom\",\"yref\":\"paper\"},{\"font\":{},\"showarrow\":false,\"text\":\"Financial Stress=3.0\",\"x\":0.5,\"xanchor\":\"center\",\"xref\":\"paper\",\"y\":1.0,\"yanchor\":\"bottom\",\"yref\":\"paper\"},{\"font\":{},\"showarrow\":false,\"text\":\"Financial Stress=4.0\",\"x\":0.7040000000000002,\"xanchor\":\"center\",\"xref\":\"paper\",\"y\":1.0,\"yanchor\":\"bottom\",\"yref\":\"paper\"},{\"font\":{},\"showarrow\":false,\"text\":\"Financial Stress=5.0\",\"x\":0.908,\"xanchor\":\"center\",\"xref\":\"paper\",\"y\":1.0,\"yanchor\":\"bottom\",\"yref\":\"paper\"}],\"legend\":{\"tracegroupgap\":0},\"margin\":{\"t\":60},\"yaxis\":{\"title\":{\"text\":\"Financial Stress\"}},\"width\":1000,\"height\":300},                        {\"responsive\": true}                    ).then(function(){\n",
       "                            \n",
       "var gd = document.getElementById('8b7911f9-75a5-4b34-b380-a862a12b99a3');\n",
       "var x = new MutationObserver(function (mutations, observer) {{\n",
       "        var display = window.getComputedStyle(gd).display;\n",
       "        if (!display || display === 'none') {{\n",
       "            console.log([gd, 'removed!']);\n",
       "            Plotly.purge(gd);\n",
       "            observer.disconnect();\n",
       "        }}\n",
       "}});\n",
       "\n",
       "// Listen for the removal of the full notebook cells\n",
       "var notebookContainer = gd.closest('#notebook-container');\n",
       "if (notebookContainer) {{\n",
       "    x.observe(notebookContainer, {childList: true});\n",
       "}}\n",
       "\n",
       "// Listen for the clearing of the current output cell\n",
       "var outputEl = gd.closest('.output');\n",
       "if (outputEl) {{\n",
       "    x.observe(outputEl, {childList: true});\n",
       "}}\n",
       "\n",
       "                        })                };                });            </script>        </div>"
      ]
     },
     "metadata": {},
     "output_type": "display_data"
    }
   ],
   "source": [
    "DF_Depression_Influence = (\n",
    "DF.value_counts(subset=['Study Satisfaction', 'Depression']).reset_index(name='count').sort_values(by='Study Satisfaction', ascending=True)\n",
    "\n",
    ")\n",
    "\n",
    "fig = px.pie(DF_Depression_Influence, \n",
    "    values='count', \n",
    "    names = 'Depression',\n",
    "    facet_col='Study Satisfaction',\n",
    "    color = 'Depression',\n",
    ")\n",
    "\n",
    "\n",
    "fig.update_layout(\n",
    "                  title='How Do Different Variables Influence Depression Rates',\n",
    "                  template='ggplot2',\n",
    "                  legend_title='Depression',\n",
    "                  width=1000,\n",
    "                  height=300,\n",
    "                      )\n",
    "\n",
    "fig.show()\n",
    "\n",
    "\n",
    "DF_Depression_Influence = (\n",
    "DF.value_counts(subset=['Job Satisfaction', 'Depression']).reset_index(name='count').sort_values(by='Job Satisfaction', ascending=True)\n",
    "\n",
    ")\n",
    "\n",
    "fig = px.pie(DF_Depression_Influence, \n",
    "    values='count', \n",
    "    facet_col='Job Satisfaction',\n",
    "    color = 'Depression',\n",
    "    facet_col_wrap = 5,\n",
    ")\n",
    "\n",
    "\n",
    "fig.update_layout(\n",
    "                  template='ggplot2',\n",
    "                  width=1000,\n",
    "                  height=320,\n",
    "                  yaxis_title=\"Job Satisfaction\",\n",
    "                      )\n",
    "\n",
    "fig.show()\n",
    "\n",
    "\n",
    "DF_Financial_Influence = (\n",
    "DF.value_counts(subset=['Financial Stress', 'Depression']).reset_index(name='count').sort_values(by='Financial Stress', ascending=True)\n",
    "\n",
    ")\n",
    "\n",
    "fig = px.pie(DF_Financial_Influence, \n",
    "    values='count', \n",
    "    facet_col='Financial Stress',\n",
    "    color = 'Depression',\n",
    "    facet_col_wrap = 5,\n",
    ")\n",
    "\n",
    "\n",
    "fig.update_layout(\n",
    "                  yaxis_title=\"Financial Stress\",\n",
    "                  template='ggplot2',\n",
    "                  width=1000,\n",
    "                  height=300,\n",
    "                      \n",
    "                      )\n",
    "\n",
    "fig.show()"
   ]
  },
  {
   "cell_type": "markdown",
   "id": "f1ce1004-9b2c-4406-9198-74d10f84c74b",
   "metadata": {},
   "source": [
    "### Question 2: How does work/study hours affect different variables?"
   ]
  },
  {
   "cell_type": "code",
   "execution_count": null,
   "id": "42abc2b2-863b-436f-9888-f9af1de10f95",
   "metadata": {},
   "outputs": [],
   "source": []
  },
  {
   "cell_type": "markdown",
   "id": "7c19673f-cd77-45cd-80a1-a54cb9393038",
   "metadata": {},
   "source": [
    "### Question 3: How does age affect different variables?"
   ]
  },
  {
   "cell_type": "code",
   "execution_count": null,
   "id": "f481d8c1-0d39-4194-8c2d-54672f50a8a1",
   "metadata": {},
   "outputs": [],
   "source": []
  }
 ],
 "metadata": {
  "kernelspec": {
   "display_name": "Python 3 (ipykernel)",
   "language": "python",
   "name": "python3"
  },
  "language_info": {
   "codemirror_mode": {
    "name": "ipython",
    "version": 3
   },
   "file_extension": ".py",
   "mimetype": "text/x-python",
   "name": "python",
   "nbconvert_exporter": "python",
   "pygments_lexer": "ipython3",
   "version": "3.12.2"
  }
 },
 "nbformat": 4,
 "nbformat_minor": 5
}
