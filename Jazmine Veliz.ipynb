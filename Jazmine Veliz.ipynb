{
 "cells": [
  {
   "cell_type": "code",
   "execution_count": 32,
   "id": "1f836e3b-7912-4600-89ac-2232554af8a2",
   "metadata": {},
   "outputs": [],
   "source": [
    "import numpy as np\n",
    "import pandas as pd\n",
    "\n",
    "import matplotlib.pyplot as plt\n",
    "import plotly.express as px\n",
    "from plotly.subplots import make_subplots\n",
    "import plotly.io as pio\n",
    "pio.renderers.defaule = 'colab'\n",
    "\n",
    "from itables import show\n",
    "\n",
    "# This stops a few warning messages from showing\n",
    "pd.options.mode.chained_assignment = None \n",
    "import warnings\n",
    "warnings.simplefilter(action='ignore', category=FutureWarning)\n",
    "\n",
    "# Machine Learning Packages\n",
    "from sklearn.preprocessing import OneHotEncoder\n",
    "from sklearn.linear_model import LinearRegression "
   ]
  },
  {
   "cell_type": "code",
   "execution_count": 33,
   "id": "520b5b7b-7f30-4e67-8c46-df3b4bedd569",
   "metadata": {},
   "outputs": [
    {
     "data": {
      "text/html": [
       "<table id=\"itables_1b16d331_8eae_40bd_8b20_d8fa705aa860\" class=\"display nowrap\" data-quarto-disable-processing=\"true\" style=\"table-layout:auto;width:auto;margin:auto;caption-side:bottom\">\n",
       "<thead>\n",
       "    <tr style=\"text-align: right;\">\n",
       "      \n",
       "      <th>Student_ID</th>\n",
       "      <th>Age</th>\n",
       "      <th>Gender</th>\n",
       "      <th>Year_of_Study</th>\n",
       "      <th>Family_Support</th>\n",
       "      <th>Student_Behavior</th>\n",
       "      <th>Placement_Status</th>\n",
       "      <th>Sleep_Hours</th>\n",
       "      <th>Academic_Stress_Level</th>\n",
       "      <th>Financial_Stress_Level</th>\n",
       "      <th>Family_Stress_Level</th>\n",
       "      <th>Emotional_Stress_Level</th>\n",
       "      <th>Total_Stress_Level</th>\n",
       "      <th>Main_Stress_Source</th>\n",
       "      <th>Counseling_Need</th>\n",
       "      <th>Proposed_Remedy</th>\n",
       "      <th>Coping_Mechanisms_Used</th>\n",
       "      <th>Risky_Behaviors_Engaged</th>\n",
       "      <th>CGPA</th>\n",
       "      <th>Parental_Income</th>\n",
       "    </tr>\n",
       "  </thead><tbody><tr>\n",
       "<td style=\"vertical-align:middle; text-align:left\">\n",
       "<div style=\"float:left; margin-right: 10px;\">\n",
       "<a href=https://mwouts.github.io/itables/><svg class=\"main-svg\" xmlns=\"http://www.w3.org/2000/svg\" xmlns:xlink=\"http://www.w3.org/1999/xlink\"\n",
       "width=\"64\" viewBox=\"0 0 500 400\" style=\"font-family: 'Droid Sans', sans-serif;\">\n",
       "    <g style=\"fill:#d9d7fc\">\n",
       "        <path d=\"M100,400H500V357H100Z\" />\n",
       "        <path d=\"M100,300H400V257H100Z\" />\n",
       "        <path d=\"M0,200H400V157H0Z\" />\n",
       "        <path d=\"M100,100H500V57H100Z\" />\n",
       "        <path d=\"M100,350H500V307H100Z\" />\n",
       "        <path d=\"M100,250H400V207H100Z\" />\n",
       "        <path d=\"M0,150H400V107H0Z\" />\n",
       "        <path d=\"M100,50H500V7H100Z\" />\n",
       "    </g>\n",
       "    <g style=\"fill:#1a1366;stroke:#1a1366;\">\n",
       "   <rect x=\"100\" y=\"7\" width=\"400\" height=\"43\">\n",
       "    <animate\n",
       "      attributeName=\"width\"\n",
       "      values=\"0;400;0\"\n",
       "      dur=\"5s\"\n",
       "      repeatCount=\"indefinite\" />\n",
       "      <animate\n",
       "      attributeName=\"x\"\n",
       "      values=\"100;100;500\"\n",
       "      dur=\"5s\"\n",
       "      repeatCount=\"indefinite\" />\n",
       "  </rect>\n",
       "        <rect x=\"0\" y=\"107\" width=\"400\" height=\"43\">\n",
       "    <animate\n",
       "      attributeName=\"width\"\n",
       "      values=\"0;400;0\"\n",
       "      dur=\"3.5s\"\n",
       "      repeatCount=\"indefinite\" />\n",
       "    <animate\n",
       "      attributeName=\"x\"\n",
       "      values=\"0;0;400\"\n",
       "      dur=\"3.5s\"\n",
       "      repeatCount=\"indefinite\" />\n",
       "  </rect>\n",
       "        <rect x=\"100\" y=\"207\" width=\"300\" height=\"43\">\n",
       "    <animate\n",
       "      attributeName=\"width\"\n",
       "      values=\"0;300;0\"\n",
       "      dur=\"3s\"\n",
       "      repeatCount=\"indefinite\" />\n",
       "    <animate\n",
       "      attributeName=\"x\"\n",
       "      values=\"100;100;400\"\n",
       "      dur=\"3s\"\n",
       "      repeatCount=\"indefinite\" />\n",
       "  </rect>\n",
       "        <rect x=\"100\" y=\"307\" width=\"400\" height=\"43\">\n",
       "    <animate\n",
       "      attributeName=\"width\"\n",
       "      values=\"0;400;0\"\n",
       "      dur=\"4s\"\n",
       "      repeatCount=\"indefinite\" />\n",
       "      <animate\n",
       "      attributeName=\"x\"\n",
       "      values=\"100;100;500\"\n",
       "      dur=\"4s\"\n",
       "      repeatCount=\"indefinite\" />\n",
       "  </rect>\n",
       "        <g style=\"fill:transparent;stroke-width:8; stroke-linejoin:round\" rx=\"5\">\n",
       "            <g transform=\"translate(45 50) rotate(-45)\">\n",
       "                <circle r=\"33\" cx=\"0\" cy=\"0\" />\n",
       "                <rect x=\"-8\" y=\"32\" width=\"16\" height=\"30\" />\n",
       "            </g>\n",
       "\n",
       "            <g transform=\"translate(450 152)\">\n",
       "                <polyline points=\"-15,-20 -35,-20 -35,40 25,40 25,20\" />\n",
       "                <rect x=\"-15\" y=\"-40\" width=\"60\" height=\"60\" />\n",
       "            </g>\n",
       "\n",
       "            <g transform=\"translate(50 352)\">\n",
       "                <polygon points=\"-35,-5 0,-40 35,-5\" />\n",
       "                <polygon points=\"-35,10 0,45 35,10\" />\n",
       "            </g>\n",
       "\n",
       "            <g transform=\"translate(75 250)\">\n",
       "                <polyline points=\"-30,30 -60,0 -30,-30\" />\n",
       "                <polyline points=\"0,30 -30,0 0,-30\" />\n",
       "            </g>\n",
       "\n",
       "            <g transform=\"translate(425 250) rotate(180)\">\n",
       "                <polyline points=\"-30,30 -60,0 -30,-30\" />\n",
       "                <polyline points=\"0,30 -30,0 0,-30\" />\n",
       "            </g>\n",
       "        </g>\n",
       "    </g>\n",
       "</svg>\n",
       "</a>\n",
       "</div>\n",
       "<div>\n",
       "Loading ITables v2.1.4 from the internet...\n",
       "(need <a href=https://mwouts.github.io/itables/troubleshooting.html>help</a>?)</td>\n",
       "</div>\n",
       "</tr></tbody>\n",
       "\n",
       "</table>\n",
       "<link href=\"https://www.unpkg.com/dt_for_itables@2.0.11/dt_bundle.css\" rel=\"stylesheet\">\n",
       "<script type=\"module\">\n",
       "    import {DataTable, jQuery as $} from 'https://www.unpkg.com/dt_for_itables@2.0.11/dt_bundle.js';\n",
       "\n",
       "    document.querySelectorAll(\"#itables_1b16d331_8eae_40bd_8b20_d8fa705aa860:not(.dataTable)\").forEach(table => {\n",
       "        // Define the table data\n",
       "        const data = [[101, 19, \"M\", 3, \"Medium\", \"Reserved\", \"Not Placed\", 4, 4, 2, 5, 3, 14, \"Family\", 1, \"Academic Counseling\", \"Socializing\", 0, 2.8, 39540], [102, 23, \"F\", 4, \"Low\", \"Reactive\", \"Not Eligible\", 6, 3, 2, 6, 5, 16, \"Family\", 0, \"Financial Aid Consultation\", \"Socializing\", 0, 2.35, 21331], [103, 19, \"F\", 3, \"High\", \"Reserved\", \"Placed\", 4, 6, 9, 4, 2, 21, \"Financial\", 0, \"Academic Counseling\", \"Journaling\", 1, 3.23, 48483], [104, 21, \"M\", 2, \"Medium\", \"Aggressive\", \"Not Eligible\", 4, 10, 2, 8, 1, 21, \"Academic\", 0, \"Emotional Support Workshop\", \"Reading\", 0, 3.35, 37263], [105, 20, \"M\", 3, \"Low\", \"Aggressive\", \"Not Placed\", 5, 6, 7, 10, 1, 24, \"Family\", 1, \"Financial Aid Consultation\", \"Socializing\", 1, 3.96, 51514], [106, 19, \"F\", 1, \"Medium\", \"Positive\", \"Not Eligible\", 7, 6, 5, 10, 4, 25, \"Family\", 1, \"Peer Support\", \"Reading\", 0, 3.01, 19378], [107, 21, \"M\", 1, \"High\", \"Reserved\", \"Not Placed\", 4, 3, 2, 3, 10, 18, \"Emotional\", 1, \"Financial Aid Consultation\", \"Exercise\", 1, 2.1, 59932], [108, 24, \"F\", 2, \"Low\", \"Reserved\", \"Placed\", 8, 6, 2, 10, 8, 26, \"Family\", 0, \"Emotional Support Workshop\", \"Meditation\", 0, 2.93, 46573], [109, 20, \"M\", 2, \"Medium\", \"Positive\", \"Placed\", 5, 1, 2, 7, 2, 12, \"Family\", 1, \"Financial Aid Consultation\", \"Meditation\", 1, 3.79, 57871], [110, 23, \"M\", 1, \"Low\", \"Reserved\", \"Placed\", 5, 9, 3, 6, 2, 20, \"Academic\", 1, \"Academic Counseling\", \"Meditation\", 1, 3.48, 43299], [111, 19, \"F\", 1, \"High\", \"Reactive\", \"Not Placed\", 8, 3, 6, 5, 6, 20, \"Financial\", 1, \"Family Counseling\", \"Reading\", 0, 2.28, 41688], [112, 20, \"M\", 2, \"Low\", \"Aggressive\", \"Not Placed\", 8, 6, 1, 2, 7, 16, \"Emotional\", 1, \"Emotional Support Workshop\", \"Meditation\", 1, 3.16, 19532], [113, 22, \"M\", 4, \"Low\", \"Aggressive\", \"Not Placed\", 4, 7, 10, 6, 1, 24, \"Financial\", 0, \"Family Counseling\", \"Reading\", 1, 2.39, 52560], [114, 20, \"M\", 4, \"High\", \"Reserved\", \"Placed\", 8, 3, 9, 3, 2, 17, \"Financial\", 1, \"Family Counseling\", \"Meditation\", 0, 3.1, 46638], [115, 24, \"F\", 1, \"Low\", \"Reactive\", \"Placed\", 7, 6, 3, 7, 5, 21, \"Family\", 1, \"Family Counseling\", \"Socializing\", 0, 3.97, 57603], [116, 24, \"M\", 1, \"Medium\", \"Reserved\", \"Placed\", 8, 8, 6, 1, 1, 16, \"Academic\", 1, \"Family Counseling\", \"Journaling\", 0, 3.11, 51682], [117, 19, \"F\", 1, \"High\", \"Aggressive\", \"Placed\", 7, 3, 7, 1, 1, 12, \"Financial\", 1, \"Family Counseling\", \"Exercise\", 0, 2.01, 18867], [118, 20, \"F\", 4, \"High\", \"Reactive\", \"Placed\", 7, 1, 6, 1, 8, 16, \"Emotional\", 0, \"Peer Support\", \"Journaling\", 0, 2.49, 51439], [119, 22, \"M\", 1, \"Low\", \"Reactive\", \"Placed\", 7, 7, 8, 8, 2, 25, \"Financial\", 1, \"Emotional Support Workshop\", \"Journaling\", 0, 2.41, 30486], [120, 24, \"F\", 1, \"Low\", \"Aggressive\", \"Not Eligible\", 8, 7, 2, 6, 1, 16, \"Academic\", 0, \"Financial Aid Consultation\", \"Meditation\", 0, 3.13, 16749], [121, 19, \"F\", 2, \"Medium\", \"Reserved\", \"Not Eligible\", 6, 7, 4, 6, 8, 25, \"Emotional\", 1, \"Family Counseling\", \"Journaling\", 0, 2.68, 48882], [122, 19, \"F\", 4, \"High\", \"Reactive\", \"Placed\", 5, 10, 10, 9, 7, 36, \"Academic\", 0, \"Family Counseling\", \"Meditation\", 1, 2.03, 54133], [123, 23, \"F\", 1, \"High\", \"Reactive\", \"Not Eligible\", 8, 1, 7, 3, 2, 13, \"Financial\", 0, \"Financial Aid Consultation\", \"Journaling\", 1, 3.89, 20233], [124, 21, \"M\", 2, \"Low\", \"Positive\", \"Placed\", 4, 6, 3, 6, 9, 24, \"Emotional\", 1, \"Financial Aid Consultation\", \"Reading\", 1, 2.87, 30502], [125, 21, \"M\", 1, \"Low\", \"Aggressive\", \"Placed\", 5, 6, 9, 8, 1, 24, \"Financial\", 0, \"Financial Aid Consultation\", \"Socializing\", 0, 2.25, 36626], [126, 19, \"M\", 4, \"Medium\", \"Positive\", \"Placed\", 7, 6, 1, 3, 8, 18, \"Emotional\", 0, \"Peer Support\", \"Exercise\", 1, 3.61, 19213], [127, 24, \"F\", 2, \"Low\", \"Reactive\", \"Not Eligible\", 6, 10, 2, 2, 7, 21, \"Academic\", 0, \"Academic Counseling\", \"Reading\", 1, 2.35, 27092], [128, 21, \"M\", 1, \"High\", \"Reactive\", \"Not Placed\", 5, 8, 2, 7, 5, 22, \"Academic\", 0, \"Financial Aid Consultation\", \"Journaling\", 0, 3.44, 17003], [129, 21, \"M\", 1, \"High\", \"Reserved\", \"Placed\", 7, 1, 8, 2, 8, 19, \"Financial\", 0, \"Peer Support\", \"Journaling\", 0, 2.41, 43678], [130, 23, \"M\", 3, \"Medium\", \"Aggressive\", \"Not Placed\", 8, 4, 7, 3, 6, 20, \"Financial\", 0, \"Financial Aid Consultation\", \"Journaling\", 1, 3.06, 43084], [131, 21, \"F\", 3, \"High\", \"Reserved\", \"Placed\", 4, 8, 8, 6, 8, 30, \"Academic\", 1, \"Academic Counseling\", \"Journaling\", 1, 2.01, 17535], [132, 20, \"F\", 1, \"Low\", \"Positive\", \"Placed\", 4, 9, 4, 8, 1, 22, \"Academic\", 0, \"Family Counseling\", \"Meditation\", 0, 3.31, 29078], [133, 22, \"M\", 3, \"High\", \"Reactive\", \"Not Eligible\", 5, 1, 6, 7, 5, 19, \"Family\", 0, \"Financial Aid Consultation\", \"Journaling\", 0, 3.47, 21268], [134, 21, \"M\", 1, \"Medium\", \"Aggressive\", \"Not Placed\", 6, 1, 8, 6, 4, 19, \"Financial\", 0, \"Family Counseling\", \"Socializing\", 1, 3.09, 55018], [135, 22, \"M\", 4, \"High\", \"Reserved\", \"Not Placed\", 7, 6, 9, 6, 2, 23, \"Financial\", 1, \"Academic Counseling\", \"Reading\", 0, 3.16, 49388], [136, 24, \"F\", 4, \"Medium\", \"Reserved\", \"Not Eligible\", 8, 6, 5, 3, 8, 22, \"Emotional\", 0, \"Academic Counseling\", \"Journaling\", 0, 3.98, 50141], [137, 22, \"F\", 3, \"High\", \"Reserved\", \"Not Placed\", 6, 4, 6, 5, 4, 19, \"Financial\", 0, \"Financial Aid Consultation\", \"Exercise\", 0, 3.67, 46489], [138, 20, \"M\", 4, \"Low\", \"Reserved\", \"Placed\", 5, 4, 1, 2, 4, 11, \"Academic\", 0, \"Family Counseling\", \"Exercise\", 1, 3.7, 57005], [139, 22, \"M\", 3, \"Medium\", \"Aggressive\", \"Placed\", 7, 2, 9, 4, 3, 18, \"Financial\", 0, \"Family Counseling\", \"Journaling\", 1, 2.79, 22845], [140, 24, \"M\", 3, \"Low\", \"Aggressive\", \"Not Eligible\", 6, 8, 7, 5, 2, 22, \"Academic\", 1, \"Family Counseling\", \"Meditation\", 1, 2.35, 57783], [141, 21, \"F\", 3, \"Low\", \"Aggressive\", \"Not Eligible\", 6, 6, 6, 10, 9, 31, \"Family\", 0, \"Emotional Support Workshop\", \"Exercise\", 0, 3.5, 47431], [142, 20, \"F\", 2, \"Low\", \"Reactive\", \"Placed\", 4, 5, 7, 4, 9, 25, \"Emotional\", 1, \"Family Counseling\", \"Exercise\", 0, 2.31, 27262], [143, 22, \"M\", 3, \"High\", \"Positive\", \"Placed\", 8, 10, 8, 10, 6, 34, \"Academic\", 0, \"Emotional Support Workshop\", \"Reading\", 0, 3.67, 41367], [144, 24, \"M\", 4, \"Low\", \"Aggressive\", \"Not Eligible\", 7, 1, 5, 2, 4, 12, \"Financial\", 0, \"Peer Support\", \"Socializing\", 1, 3.4, 38320], [145, 24, \"F\", 3, \"Low\", \"Aggressive\", \"Not Placed\", 6, 6, 9, 9, 1, 25, \"Financial\", 0, \"Academic Counseling\", \"Reading\", 1, 3.21, 51252], [146, 24, \"M\", 2, \"Medium\", \"Reserved\", \"Placed\", 6, 1, 9, 2, 3, 15, \"Financial\", 1, \"Peer Support\", \"Socializing\", 1, 2.74, 17103], [147, 18, \"F\", 1, \"High\", \"Reserved\", \"Not Eligible\", 4, 9, 1, 8, 4, 22, \"Academic\", 0, \"Financial Aid Consultation\", \"Meditation\", 1, 3.01, 30509], [148, 23, \"F\", 2, \"Medium\", \"Aggressive\", \"Not Placed\", 4, 3, 8, 4, 1, 16, \"Financial\", 1, \"Peer Support\", \"Meditation\", 1, 3.99, 33356], [149, 24, \"M\", 2, \"Medium\", \"Aggressive\", \"Placed\", 4, 4, 1, 4, 10, 19, \"Emotional\", 1, \"Emotional Support Workshop\", \"Reading\", 0, 2.91, 17730], [150, 21, \"F\", 3, \"High\", \"Reactive\", \"Placed\", 6, 7, 8, 6, 5, 26, \"Financial\", 1, \"Emotional Support Workshop\", \"Reading\", 1, 3.81, 21367], [151, 24, \"M\", 2, \"Low\", \"Reserved\", \"Placed\", 8, 5, 5, 1, 2, 13, \"Academic\", 0, \"Family Counseling\", \"Meditation\", 0, 3.69, 30054], [152, 19, \"M\", 3, \"Low\", \"Positive\", \"Placed\", 4, 5, 2, 5, 6, 18, \"Emotional\", 0, \"Family Counseling\", \"Socializing\", 1, 3.34, 55786], [153, 19, \"M\", 2, \"Low\", \"Reserved\", \"Not Placed\", 8, 9, 3, 1, 5, 18, \"Academic\", 1, \"Emotional Support Workshop\", \"Meditation\", 1, 2.49, 47206], [154, 21, \"M\", 1, \"High\", \"Reactive\", \"Not Eligible\", 6, 3, 4, 9, 8, 24, \"Family\", 1, \"Peer Support\", \"Exercise\", 0, 2.9, 56197], [155, 19, \"M\", 4, \"Low\", \"Positive\", \"Not Placed\", 7, 4, 7, 8, 8, 27, \"Family\", 0, \"Family Counseling\", \"Socializing\", 1, 3.22, 55825], [156, 23, \"F\", 1, \"Low\", \"Positive\", \"Not Eligible\", 5, 4, 1, 8, 10, 23, \"Emotional\", 0, \"Financial Aid Consultation\", \"Socializing\", 0, 2.22, 15927], [157, 18, \"M\", 3, \"Medium\", \"Aggressive\", \"Not Placed\", 4, 4, 2, 7, 1, 14, \"Family\", 1, \"Academic Counseling\", \"Journaling\", 0, 2.23, 28875], [158, 18, \"F\", 1, \"High\", \"Reserved\", \"Not Eligible\", 8, 5, 7, 4, 4, 20, \"Financial\", 0, \"Financial Aid Consultation\", \"Meditation\", 1, 3.65, 37926], [159, 24, \"M\", 4, \"Low\", \"Aggressive\", \"Not Placed\", 8, 6, 9, 4, 8, 27, \"Financial\", 0, \"Financial Aid Consultation\", \"Meditation\", 1, 2.52, 36621], [160, 20, \"M\", 1, \"Medium\", \"Reserved\", \"Placed\", 5, 3, 9, 9, 7, 28, \"Financial\", 0, \"Financial Aid Consultation\", \"Journaling\", 0, 3.58, 41529], [161, 23, \"F\", 3, \"Low\", \"Reactive\", \"Not Placed\", 4, 4, 5, 1, 8, 18, \"Emotional\", 1, \"Academic Counseling\", \"Reading\", 1, 3.81, 39524], [162, 19, \"M\", 4, \"Low\", \"Aggressive\", \"Not Eligible\", 7, 5, 7, 5, 3, 20, \"Financial\", 0, \"Financial Aid Consultation\", \"Meditation\", 1, 2.89, 31079], [163, 21, \"M\", 2, \"Medium\", \"Positive\", \"Placed\", 4, 2, 2, 7, 3, 14, \"Family\", 1, \"Family Counseling\", \"Journaling\", 1, 3.2, 35461], [164, 24, \"F\", 1, \"Low\", \"Aggressive\", \"Not Eligible\", 4, 7, 4, 5, 2, 18, \"Academic\", 1, \"Financial Aid Consultation\", \"Socializing\", 0, 3.22, 24498], [165, 23, \"M\", 2, \"Medium\", \"Aggressive\", \"Not Placed\", 5, 7, 2, 6, 6, 21, \"Academic\", 1, \"Peer Support\", \"Reading\", 0, 2.78, 21406], [166, 23, \"M\", 2, \"High\", \"Reserved\", \"Placed\", 6, 1, 9, 2, 9, 21, \"Financial\", 1, \"Academic Counseling\", \"Meditation\", 0, 3.89, 22956], [167, 22, \"F\", 2, \"High\", \"Reactive\", \"Placed\", 5, 8, 1, 2, 5, 16, \"Academic\", 1, \"Peer Support\", \"Journaling\", 0, 3.39, 22849], [168, 20, \"F\", 2, \"High\", \"Positive\", \"Not Eligible\", 4, 10, 4, 7, 5, 26, \"Academic\", 1, \"Academic Counseling\", \"Journaling\", 0, 3.1, 31800], [169, 24, \"M\", 1, \"Medium\", \"Reactive\", \"Placed\", 6, 6, 6, 8, 1, 21, \"Family\", 0, \"Emotional Support Workshop\", \"Reading\", 0, 3.07, 29861], [170, 21, \"M\", 2, \"Low\", \"Reactive\", \"Not Eligible\", 8, 5, 7, 1, 3, 16, \"Financial\", 1, \"Peer Support\", \"Socializing\", 1, 2.21, 21596], [171, 19, \"M\", 3, \"Medium\", \"Positive\", \"Placed\", 8, 1, 6, 10, 9, 26, \"Family\", 1, \"Financial Aid Consultation\", \"Journaling\", 1, 2.5, 30597], [172, 20, \"M\", 2, \"Low\", \"Positive\", \"Not Eligible\", 4, 9, 1, 4, 4, 18, \"Academic\", 1, \"Emotional Support Workshop\", \"Journaling\", 1, 2.79, 17111], [173, 20, \"M\", 4, \"Medium\", \"Positive\", \"Not Placed\", 8, 1, 7, 1, 2, 11, \"Financial\", 1, \"Emotional Support Workshop\", \"Journaling\", 1, 2.52, 38411], [174, 19, \"F\", 4, \"Low\", \"Reactive\", \"Not Eligible\", 8, 4, 3, 1, 2, 10, \"Academic\", 0, \"Academic Counseling\", \"Reading\", 1, 2.7, 24554], [175, 20, \"F\", 2, \"High\", \"Positive\", \"Not Eligible\", 6, 8, 5, 5, 1, 19, \"Academic\", 0, \"Peer Support\", \"Socializing\", 0, 3.05, 36263], [176, 21, \"F\", 3, \"Medium\", \"Positive\", \"Not Eligible\", 6, 1, 3, 7, 9, 20, \"Emotional\", 0, \"Family Counseling\", \"Journaling\", 1, 3.0, 57849], [177, 22, \"M\", 2, \"Medium\", \"Positive\", \"Not Eligible\", 6, 9, 4, 5, 5, 23, \"Academic\", 1, \"Peer Support\", \"Exercise\", 0, 3.73, 21982], [178, 24, \"M\", 1, \"Low\", \"Aggressive\", \"Placed\", 5, 6, 2, 7, 5, 20, \"Family\", 0, \"Peer Support\", \"Socializing\", 1, 2.67, 17526], [179, 20, \"M\", 4, \"Medium\", \"Reactive\", \"Not Placed\", 6, 7, 3, 1, 2, 13, \"Academic\", 0, \"Family Counseling\", \"Reading\", 1, 3.47, 18293], [180, 22, \"F\", 1, \"Low\", \"Reactive\", \"Not Placed\", 4, 2, 6, 3, 3, 14, \"Financial\", 1, \"Peer Support\", \"Meditation\", 1, 2.86, 29928], [181, 19, \"F\", 1, \"High\", \"Positive\", \"Not Placed\", 7, 5, 4, 9, 10, 28, \"Emotional\", 0, \"Financial Aid Consultation\", \"Journaling\", 0, 2.85, 35756], [182, 24, \"M\", 2, \"Medium\", \"Aggressive\", \"Not Eligible\", 7, 7, 5, 5, 6, 23, \"Academic\", 0, \"Family Counseling\", \"Journaling\", 0, 3.79, 36882], [183, 24, \"M\", 4, \"High\", \"Reactive\", \"Not Placed\", 4, 6, 1, 1, 4, 12, \"Academic\", 0, \"Emotional Support Workshop\", \"Reading\", 1, 3.54, 49730], [184, 21, \"F\", 2, \"Low\", \"Positive\", \"Placed\", 5, 9, 7, 5, 2, 23, \"Academic\", 1, \"Emotional Support Workshop\", \"Socializing\", 0, 3.83, 36968], [185, 20, \"F\", 4, \"High\", \"Reactive\", \"Placed\", 5, 6, 2, 7, 10, 25, \"Emotional\", 0, \"Family Counseling\", \"Reading\", 0, 2.51, 16146], [186, 20, \"F\", 4, \"Medium\", \"Positive\", \"Not Placed\", 4, 10, 4, 9, 4, 27, \"Academic\", 0, \"Financial Aid Consultation\", \"Socializing\", 0, 2.28, 40271], [187, 23, \"F\", 1, \"High\", \"Reactive\", \"Placed\", 7, 5, 10, 8, 1, 24, \"Financial\", 1, \"Emotional Support Workshop\", \"Reading\", 0, 2.92, 34598], [188, 24, \"F\", 2, \"Low\", \"Reactive\", \"Placed\", 4, 7, 10, 3, 7, 27, \"Financial\", 1, \"Academic Counseling\", \"Exercise\", 0, 3.09, 48436], [189, 20, \"M\", 2, \"High\", \"Positive\", \"Not Eligible\", 6, 8, 4, 5, 7, 24, \"Academic\", 0, \"Financial Aid Consultation\", \"Journaling\", 1, 3.01, 54342], [190, 19, \"F\", 3, \"Low\", \"Reactive\", \"Not Eligible\", 6, 4, 10, 1, 6, 21, \"Financial\", 1, \"Emotional Support Workshop\", \"Journaling\", 1, 2.58, 40724], [191, 20, \"F\", 3, \"Low\", \"Aggressive\", \"Not Eligible\", 5, 2, 6, 9, 4, 21, \"Family\", 1, \"Family Counseling\", \"Reading\", 1, 2.78, 26662], [192, 18, \"M\", 3, \"Low\", \"Reactive\", \"Not Eligible\", 5, 10, 10, 10, 7, 37, \"Academic\", 1, \"Emotional Support Workshop\", \"Journaling\", 0, 2.63, 22994], [193, 21, \"M\", 3, \"Medium\", \"Reserved\", \"Not Placed\", 5, 8, 9, 10, 1, 28, \"Family\", 0, \"Financial Aid Consultation\", \"Journaling\", 1, 2.81, 36603], [194, 18, \"F\", 2, \"High\", \"Aggressive\", \"Not Placed\", 7, 1, 2, 6, 4, 13, \"Family\", 1, \"Emotional Support Workshop\", \"Exercise\", 0, 2.81, 23699], [195, 19, \"F\", 2, \"High\", \"Reactive\", \"Not Placed\", 5, 10, 7, 9, 7, 33, \"Academic\", 0, \"Peer Support\", \"Socializing\", 1, 3.29, 33206], [196, 24, \"F\", 3, \"High\", \"Reactive\", \"Not Eligible\", 8, 10, 9, 2, 8, 29, \"Academic\", 1, \"Peer Support\", \"Socializing\", 1, 2.66, 15444], [197, 20, \"M\", 3, \"High\", \"Positive\", \"Placed\", 7, 5, 4, 5, 4, 18, \"Academic\", 0, \"Family Counseling\", \"Journaling\", 1, 2.44, 48112], [198, 19, \"M\", 2, \"Low\", \"Reactive\", \"Placed\", 8, 10, 8, 7, 10, 35, \"Academic\", 1, \"Financial Aid Consultation\", \"Socializing\", 1, 3.28, 25190], [199, 21, \"F\", 2, \"Low\", \"Aggressive\", \"Placed\", 5, 2, 9, 8, 10, 29, \"Emotional\", 1, \"Peer Support\", \"Exercise\", 1, 2.82, 47647], [200, 21, \"M\", 3, \"Low\", \"Reactive\", \"Not Eligible\", 7, 2, 1, 6, 9, 18, \"Emotional\", 0, \"Financial Aid Consultation\", \"Exercise\", 1, 3.49, 16626]];\n",
       "\n",
       "        // Define the dt_args\n",
       "        let dt_args = {\"layout\": {\"topStart\": \"pageLength\", \"topEnd\": \"search\", \"bottomStart\": \"info\", \"bottomEnd\": \"paging\"}, \"order\": []};\n",
       "        dt_args[\"data\"] = data;\n",
       "\n",
       "        \n",
       "        new DataTable(table, dt_args);\n",
       "    });\n",
       "</script>\n"
      ],
      "text/plain": [
       "<IPython.core.display.HTML object>"
      ]
     },
     "metadata": {},
     "output_type": "display_data"
    }
   ],
   "source": [
    "# importing data\n",
    "file_name = 'Data/Student_Stress_Dataset.csv'\n",
    "DF = pd.read_csv(file_name)\n",
    "show(DF)"
   ]
  },
  {
   "cell_type": "code",
   "execution_count": 36,
   "id": "44bc9a0e-1607-4a12-bc44-a4cb48a22fb6",
   "metadata": {},
   "outputs": [
    {
     "data": {
      "text/plain": [
       "Index(['Student_ID', 'Age', 'Gender', 'Year_of_Study', 'Family_Support',\n",
       "       'Student_Behavior', 'Placement_Status', 'Sleep_Hours',\n",
       "       'Academic_Stress_Level', 'Financial_Stress_Level',\n",
       "       'Family_Stress_Level', 'Emotional_Stress_Level', 'Total_Stress_Level',\n",
       "       'Main_Stress_Source', 'Counseling_Need', 'Proposed_Remedy',\n",
       "       'Coping_Mechanisms_Used', 'Risky_Behaviors_Engaged', 'CGPA',\n",
       "       'Parental_Income'],\n",
       "      dtype='object')"
      ]
     },
     "execution_count": 36,
     "metadata": {},
     "output_type": "execute_result"
    }
   ],
   "source": [
    "DF.keys()"
   ]
  },
  {
   "cell_type": "markdown",
   "id": "9e13ed82-a4ea-41de-a0de-22993a9cd6a9",
   "metadata": {},
   "source": [
    "### Proposed Questions:\n",
    "\n",
    "- Is placement status affected by the need for counseling?\n",
    "- How much does financial stress affect a student's overall grade point average?"
   ]
  },
  {
   "cell_type": "code",
   "execution_count": null,
   "id": "92babe17-ec78-42e0-b84e-ff982431350c",
   "metadata": {},
   "outputs": [],
   "source": []
  },
  {
   "cell_type": "code",
   "execution_count": null,
   "id": "e5eb2a2d-ef83-4a57-9360-7e5c6b35a0fd",
   "metadata": {},
   "outputs": [],
   "source": []
  },
  {
   "cell_type": "markdown",
   "id": "e4383fd5-bb28-4867-9418-8bbfc22caf3d",
   "metadata": {},
   "source": [
    "### Exploratory Data Analysis"
   ]
  },
  {
   "cell_type": "code",
   "execution_count": 70,
   "id": "44604010-b9cb-4d6d-ba8a-081bf04f013e",
   "metadata": {},
   "outputs": [],
   "source": [
    "my_cols=['Counseling_Need','Proposed_Remedy','Placement_Status']\n",
    "DF_model1=DF[my_cols]"
   ]
  },
  {
   "cell_type": "code",
   "execution_count": 72,
   "id": "038c8252-e8aa-495d-aabf-00cee47ec944",
   "metadata": {},
   "outputs": [],
   "source": [
    "DF_model1['Counseling_Need'].replace({0:'No Need', 1:'Need'},inplace=True)\n",
    "DF_model1['Counseling_Need'] = pd.Categorical(DF_model1['Counseling_Need'], categories=['No Need','Need'], ordered=True)"
   ]
  },
  {
   "cell_type": "code",
   "execution_count": 83,
   "id": "7e3044d6-a8d8-4718-a286-f549d187bfbe",
   "metadata": {},
   "outputs": [],
   "source": [
    "#show(DF_model1)"
   ]
  },
  {
   "cell_type": "code",
   "execution_count": 80,
   "id": "661588fe-ba91-4cef-980f-8d32b793c0fb",
   "metadata": {},
   "outputs": [
    {
     "data": {
      "application/vnd.plotly.v1+json": {
       "config": {
        "plotlyServerURL": "https://plot.ly"
       },
       "data": [
        {
         "hovertemplate": "Proposed_Remedy=Academic Counseling<br>Placement_Status=%{x}<br>Counseling_Need=%{y}<extra></extra>",
         "legendgroup": "Academic Counseling",
         "marker": {
          "color": "#636efa",
          "symbol": "circle"
         },
         "mode": "markers",
         "name": "Academic Counseling",
         "orientation": "v",
         "showlegend": true,
         "type": "scatter",
         "x": [
          "Not Placed",
          "Placed",
          "Placed",
          "Not Eligible",
          "Placed",
          "Not Placed",
          "Not Eligible",
          "Not Placed",
          "Not Placed",
          "Not Placed",
          "Placed",
          "Not Eligible",
          "Not Eligible",
          "Placed"
         ],
         "xaxis": "x",
         "y": [
          "Need",
          "No Need",
          "Need",
          "No Need",
          "Need",
          "Need",
          "No Need",
          "No Need",
          "Need",
          "Need",
          "Need",
          "Need",
          "No Need",
          "Need"
         ],
         "yaxis": "y"
        },
        {
         "hovertemplate": "Proposed_Remedy=Financial Aid Consultation<br>Placement_Status=%{x}<br>Counseling_Need=%{y}<extra></extra>",
         "legendgroup": "Financial Aid Consultation",
         "marker": {
          "color": "#EF553B",
          "symbol": "circle"
         },
         "mode": "markers",
         "name": "Financial Aid Consultation",
         "orientation": "v",
         "showlegend": true,
         "type": "scatter",
         "x": [
          "Not Eligible",
          "Not Placed",
          "Not Placed",
          "Placed",
          "Not Eligible",
          "Not Eligible",
          "Placed",
          "Placed",
          "Not Placed",
          "Not Placed",
          "Not Eligible",
          "Not Placed",
          "Not Eligible",
          "Not Eligible",
          "Not Eligible",
          "Not Placed",
          "Placed",
          "Not Eligible",
          "Not Eligible",
          "Placed",
          "Not Placed",
          "Not Placed",
          "Not Eligible",
          "Not Placed",
          "Placed",
          "Not Eligible"
         ],
         "xaxis": "x",
         "y": [
          "No Need",
          "Need",
          "Need",
          "Need",
          "No Need",
          "No Need",
          "Need",
          "No Need",
          "No Need",
          "No Need",
          "No Need",
          "No Need",
          "No Need",
          "No Need",
          "No Need",
          "No Need",
          "No Need",
          "No Need",
          "Need",
          "Need",
          "No Need",
          "No Need",
          "No Need",
          "No Need",
          "Need",
          "No Need"
         ],
         "yaxis": "y"
        },
        {
         "hovertemplate": "Proposed_Remedy=Emotional Support Workshop<br>Placement_Status=%{x}<br>Counseling_Need=%{y}<extra></extra>",
         "legendgroup": "Emotional Support Workshop",
         "marker": {
          "color": "#00cc96",
          "symbol": "circle"
         },
         "mode": "markers",
         "name": "Emotional Support Workshop",
         "orientation": "v",
         "showlegend": true,
         "type": "scatter",
         "x": [
          "Not Eligible",
          "Placed",
          "Not Placed",
          "Placed",
          "Not Eligible",
          "Placed",
          "Placed",
          "Placed",
          "Not Placed",
          "Placed",
          "Not Eligible",
          "Not Placed",
          "Not Placed",
          "Placed",
          "Placed",
          "Not Eligible",
          "Not Eligible",
          "Not Placed"
         ],
         "xaxis": "x",
         "y": [
          "No Need",
          "No Need",
          "Need",
          "Need",
          "No Need",
          "No Need",
          "Need",
          "Need",
          "Need",
          "No Need",
          "Need",
          "Need",
          "No Need",
          "Need",
          "Need",
          "Need",
          "Need",
          "Need"
         ],
         "yaxis": "y"
        },
        {
         "hovertemplate": "Proposed_Remedy=Peer Support<br>Placement_Status=%{x}<br>Counseling_Need=%{y}<extra></extra>",
         "legendgroup": "Peer Support",
         "marker": {
          "color": "#ab63fa",
          "symbol": "circle"
         },
         "mode": "markers",
         "name": "Peer Support",
         "orientation": "v",
         "showlegend": true,
         "type": "scatter",
         "x": [
          "Not Eligible",
          "Placed",
          "Placed",
          "Placed",
          "Not Eligible",
          "Placed",
          "Not Placed",
          "Not Eligible",
          "Not Placed",
          "Placed",
          "Not Eligible",
          "Not Eligible",
          "Not Eligible",
          "Placed",
          "Not Placed",
          "Not Placed",
          "Not Eligible",
          "Placed"
         ],
         "xaxis": "x",
         "y": [
          "Need",
          "No Need",
          "No Need",
          "No Need",
          "No Need",
          "Need",
          "Need",
          "Need",
          "Need",
          "Need",
          "Need",
          "No Need",
          "Need",
          "No Need",
          "Need",
          "No Need",
          "Need",
          "Need"
         ],
         "yaxis": "y"
        },
        {
         "hovertemplate": "Proposed_Remedy=Family Counseling<br>Placement_Status=%{x}<br>Counseling_Need=%{y}<extra></extra>",
         "legendgroup": "Family Counseling",
         "marker": {
          "color": "#FFA15A",
          "symbol": "circle"
         },
         "mode": "markers",
         "name": "Family Counseling",
         "orientation": "v",
         "showlegend": true,
         "type": "scatter",
         "x": [
          "Not Placed",
          "Not Placed",
          "Placed",
          "Placed",
          "Placed",
          "Placed",
          "Not Eligible",
          "Placed",
          "Placed",
          "Not Placed",
          "Placed",
          "Placed",
          "Not Eligible",
          "Placed",
          "Placed",
          "Placed",
          "Not Placed",
          "Placed",
          "Not Eligible",
          "Not Placed",
          "Not Eligible",
          "Placed",
          "Not Eligible",
          "Placed"
         ],
         "xaxis": "x",
         "y": [
          "Need",
          "No Need",
          "Need",
          "Need",
          "Need",
          "Need",
          "Need",
          "No Need",
          "No Need",
          "No Need",
          "No Need",
          "No Need",
          "Need",
          "Need",
          "No Need",
          "No Need",
          "No Need",
          "Need",
          "No Need",
          "No Need",
          "No Need",
          "No Need",
          "Need",
          "No Need"
         ],
         "yaxis": "y"
        }
       ],
       "layout": {
        "autosize": true,
        "legend": {
         "title": {
          "text": "Proposed_Remedy"
         },
         "tracegroupgap": 0
        },
        "margin": {
         "t": 60
        },
        "template": {
         "data": {
          "bar": [
           {
            "error_x": {
             "color": "#2a3f5f"
            },
            "error_y": {
             "color": "#2a3f5f"
            },
            "marker": {
             "line": {
              "color": "#E5ECF6",
              "width": 0.5
             },
             "pattern": {
              "fillmode": "overlay",
              "size": 10,
              "solidity": 0.2
             }
            },
            "type": "bar"
           }
          ],
          "barpolar": [
           {
            "marker": {
             "line": {
              "color": "#E5ECF6",
              "width": 0.5
             },
             "pattern": {
              "fillmode": "overlay",
              "size": 10,
              "solidity": 0.2
             }
            },
            "type": "barpolar"
           }
          ],
          "carpet": [
           {
            "aaxis": {
             "endlinecolor": "#2a3f5f",
             "gridcolor": "white",
             "linecolor": "white",
             "minorgridcolor": "white",
             "startlinecolor": "#2a3f5f"
            },
            "baxis": {
             "endlinecolor": "#2a3f5f",
             "gridcolor": "white",
             "linecolor": "white",
             "minorgridcolor": "white",
             "startlinecolor": "#2a3f5f"
            },
            "type": "carpet"
           }
          ],
          "choropleth": [
           {
            "colorbar": {
             "outlinewidth": 0,
             "ticks": ""
            },
            "type": "choropleth"
           }
          ],
          "contour": [
           {
            "colorbar": {
             "outlinewidth": 0,
             "ticks": ""
            },
            "colorscale": [
             [
              0,
              "#0d0887"
             ],
             [
              0.1111111111111111,
              "#46039f"
             ],
             [
              0.2222222222222222,
              "#7201a8"
             ],
             [
              0.3333333333333333,
              "#9c179e"
             ],
             [
              0.4444444444444444,
              "#bd3786"
             ],
             [
              0.5555555555555556,
              "#d8576b"
             ],
             [
              0.6666666666666666,
              "#ed7953"
             ],
             [
              0.7777777777777778,
              "#fb9f3a"
             ],
             [
              0.8888888888888888,
              "#fdca26"
             ],
             [
              1,
              "#f0f921"
             ]
            ],
            "type": "contour"
           }
          ],
          "contourcarpet": [
           {
            "colorbar": {
             "outlinewidth": 0,
             "ticks": ""
            },
            "type": "contourcarpet"
           }
          ],
          "heatmap": [
           {
            "colorbar": {
             "outlinewidth": 0,
             "ticks": ""
            },
            "colorscale": [
             [
              0,
              "#0d0887"
             ],
             [
              0.1111111111111111,
              "#46039f"
             ],
             [
              0.2222222222222222,
              "#7201a8"
             ],
             [
              0.3333333333333333,
              "#9c179e"
             ],
             [
              0.4444444444444444,
              "#bd3786"
             ],
             [
              0.5555555555555556,
              "#d8576b"
             ],
             [
              0.6666666666666666,
              "#ed7953"
             ],
             [
              0.7777777777777778,
              "#fb9f3a"
             ],
             [
              0.8888888888888888,
              "#fdca26"
             ],
             [
              1,
              "#f0f921"
             ]
            ],
            "type": "heatmap"
           }
          ],
          "heatmapgl": [
           {
            "colorbar": {
             "outlinewidth": 0,
             "ticks": ""
            },
            "colorscale": [
             [
              0,
              "#0d0887"
             ],
             [
              0.1111111111111111,
              "#46039f"
             ],
             [
              0.2222222222222222,
              "#7201a8"
             ],
             [
              0.3333333333333333,
              "#9c179e"
             ],
             [
              0.4444444444444444,
              "#bd3786"
             ],
             [
              0.5555555555555556,
              "#d8576b"
             ],
             [
              0.6666666666666666,
              "#ed7953"
             ],
             [
              0.7777777777777778,
              "#fb9f3a"
             ],
             [
              0.8888888888888888,
              "#fdca26"
             ],
             [
              1,
              "#f0f921"
             ]
            ],
            "type": "heatmapgl"
           }
          ],
          "histogram": [
           {
            "marker": {
             "pattern": {
              "fillmode": "overlay",
              "size": 10,
              "solidity": 0.2
             }
            },
            "type": "histogram"
           }
          ],
          "histogram2d": [
           {
            "colorbar": {
             "outlinewidth": 0,
             "ticks": ""
            },
            "colorscale": [
             [
              0,
              "#0d0887"
             ],
             [
              0.1111111111111111,
              "#46039f"
             ],
             [
              0.2222222222222222,
              "#7201a8"
             ],
             [
              0.3333333333333333,
              "#9c179e"
             ],
             [
              0.4444444444444444,
              "#bd3786"
             ],
             [
              0.5555555555555556,
              "#d8576b"
             ],
             [
              0.6666666666666666,
              "#ed7953"
             ],
             [
              0.7777777777777778,
              "#fb9f3a"
             ],
             [
              0.8888888888888888,
              "#fdca26"
             ],
             [
              1,
              "#f0f921"
             ]
            ],
            "type": "histogram2d"
           }
          ],
          "histogram2dcontour": [
           {
            "colorbar": {
             "outlinewidth": 0,
             "ticks": ""
            },
            "colorscale": [
             [
              0,
              "#0d0887"
             ],
             [
              0.1111111111111111,
              "#46039f"
             ],
             [
              0.2222222222222222,
              "#7201a8"
             ],
             [
              0.3333333333333333,
              "#9c179e"
             ],
             [
              0.4444444444444444,
              "#bd3786"
             ],
             [
              0.5555555555555556,
              "#d8576b"
             ],
             [
              0.6666666666666666,
              "#ed7953"
             ],
             [
              0.7777777777777778,
              "#fb9f3a"
             ],
             [
              0.8888888888888888,
              "#fdca26"
             ],
             [
              1,
              "#f0f921"
             ]
            ],
            "type": "histogram2dcontour"
           }
          ],
          "mesh3d": [
           {
            "colorbar": {
             "outlinewidth": 0,
             "ticks": ""
            },
            "type": "mesh3d"
           }
          ],
          "parcoords": [
           {
            "line": {
             "colorbar": {
              "outlinewidth": 0,
              "ticks": ""
             }
            },
            "type": "parcoords"
           }
          ],
          "pie": [
           {
            "automargin": true,
            "type": "pie"
           }
          ],
          "scatter": [
           {
            "fillpattern": {
             "fillmode": "overlay",
             "size": 10,
             "solidity": 0.2
            },
            "type": "scatter"
           }
          ],
          "scatter3d": [
           {
            "line": {
             "colorbar": {
              "outlinewidth": 0,
              "ticks": ""
             }
            },
            "marker": {
             "colorbar": {
              "outlinewidth": 0,
              "ticks": ""
             }
            },
            "type": "scatter3d"
           }
          ],
          "scattercarpet": [
           {
            "marker": {
             "colorbar": {
              "outlinewidth": 0,
              "ticks": ""
             }
            },
            "type": "scattercarpet"
           }
          ],
          "scattergeo": [
           {
            "marker": {
             "colorbar": {
              "outlinewidth": 0,
              "ticks": ""
             }
            },
            "type": "scattergeo"
           }
          ],
          "scattergl": [
           {
            "marker": {
             "colorbar": {
              "outlinewidth": 0,
              "ticks": ""
             }
            },
            "type": "scattergl"
           }
          ],
          "scattermapbox": [
           {
            "marker": {
             "colorbar": {
              "outlinewidth": 0,
              "ticks": ""
             }
            },
            "type": "scattermapbox"
           }
          ],
          "scatterpolar": [
           {
            "marker": {
             "colorbar": {
              "outlinewidth": 0,
              "ticks": ""
             }
            },
            "type": "scatterpolar"
           }
          ],
          "scatterpolargl": [
           {
            "marker": {
             "colorbar": {
              "outlinewidth": 0,
              "ticks": ""
             }
            },
            "type": "scatterpolargl"
           }
          ],
          "scatterternary": [
           {
            "marker": {
             "colorbar": {
              "outlinewidth": 0,
              "ticks": ""
             }
            },
            "type": "scatterternary"
           }
          ],
          "surface": [
           {
            "colorbar": {
             "outlinewidth": 0,
             "ticks": ""
            },
            "colorscale": [
             [
              0,
              "#0d0887"
             ],
             [
              0.1111111111111111,
              "#46039f"
             ],
             [
              0.2222222222222222,
              "#7201a8"
             ],
             [
              0.3333333333333333,
              "#9c179e"
             ],
             [
              0.4444444444444444,
              "#bd3786"
             ],
             [
              0.5555555555555556,
              "#d8576b"
             ],
             [
              0.6666666666666666,
              "#ed7953"
             ],
             [
              0.7777777777777778,
              "#fb9f3a"
             ],
             [
              0.8888888888888888,
              "#fdca26"
             ],
             [
              1,
              "#f0f921"
             ]
            ],
            "type": "surface"
           }
          ],
          "table": [
           {
            "cells": {
             "fill": {
              "color": "#EBF0F8"
             },
             "line": {
              "color": "white"
             }
            },
            "header": {
             "fill": {
              "color": "#C8D4E3"
             },
             "line": {
              "color": "white"
             }
            },
            "type": "table"
           }
          ]
         },
         "layout": {
          "annotationdefaults": {
           "arrowcolor": "#2a3f5f",
           "arrowhead": 0,
           "arrowwidth": 1
          },
          "autotypenumbers": "strict",
          "coloraxis": {
           "colorbar": {
            "outlinewidth": 0,
            "ticks": ""
           }
          },
          "colorscale": {
           "diverging": [
            [
             0,
             "#8e0152"
            ],
            [
             0.1,
             "#c51b7d"
            ],
            [
             0.2,
             "#de77ae"
            ],
            [
             0.3,
             "#f1b6da"
            ],
            [
             0.4,
             "#fde0ef"
            ],
            [
             0.5,
             "#f7f7f7"
            ],
            [
             0.6,
             "#e6f5d0"
            ],
            [
             0.7,
             "#b8e186"
            ],
            [
             0.8,
             "#7fbc41"
            ],
            [
             0.9,
             "#4d9221"
            ],
            [
             1,
             "#276419"
            ]
           ],
           "sequential": [
            [
             0,
             "#0d0887"
            ],
            [
             0.1111111111111111,
             "#46039f"
            ],
            [
             0.2222222222222222,
             "#7201a8"
            ],
            [
             0.3333333333333333,
             "#9c179e"
            ],
            [
             0.4444444444444444,
             "#bd3786"
            ],
            [
             0.5555555555555556,
             "#d8576b"
            ],
            [
             0.6666666666666666,
             "#ed7953"
            ],
            [
             0.7777777777777778,
             "#fb9f3a"
            ],
            [
             0.8888888888888888,
             "#fdca26"
            ],
            [
             1,
             "#f0f921"
            ]
           ],
           "sequentialminus": [
            [
             0,
             "#0d0887"
            ],
            [
             0.1111111111111111,
             "#46039f"
            ],
            [
             0.2222222222222222,
             "#7201a8"
            ],
            [
             0.3333333333333333,
             "#9c179e"
            ],
            [
             0.4444444444444444,
             "#bd3786"
            ],
            [
             0.5555555555555556,
             "#d8576b"
            ],
            [
             0.6666666666666666,
             "#ed7953"
            ],
            [
             0.7777777777777778,
             "#fb9f3a"
            ],
            [
             0.8888888888888888,
             "#fdca26"
            ],
            [
             1,
             "#f0f921"
            ]
           ]
          },
          "colorway": [
           "#636efa",
           "#EF553B",
           "#00cc96",
           "#ab63fa",
           "#FFA15A",
           "#19d3f3",
           "#FF6692",
           "#B6E880",
           "#FF97FF",
           "#FECB52"
          ],
          "font": {
           "color": "#2a3f5f"
          },
          "geo": {
           "bgcolor": "white",
           "lakecolor": "white",
           "landcolor": "#E5ECF6",
           "showlakes": true,
           "showland": true,
           "subunitcolor": "white"
          },
          "hoverlabel": {
           "align": "left"
          },
          "hovermode": "closest",
          "mapbox": {
           "style": "light"
          },
          "paper_bgcolor": "white",
          "plot_bgcolor": "#E5ECF6",
          "polar": {
           "angularaxis": {
            "gridcolor": "white",
            "linecolor": "white",
            "ticks": ""
           },
           "bgcolor": "#E5ECF6",
           "radialaxis": {
            "gridcolor": "white",
            "linecolor": "white",
            "ticks": ""
           }
          },
          "scene": {
           "xaxis": {
            "backgroundcolor": "#E5ECF6",
            "gridcolor": "white",
            "gridwidth": 2,
            "linecolor": "white",
            "showbackground": true,
            "ticks": "",
            "zerolinecolor": "white"
           },
           "yaxis": {
            "backgroundcolor": "#E5ECF6",
            "gridcolor": "white",
            "gridwidth": 2,
            "linecolor": "white",
            "showbackground": true,
            "ticks": "",
            "zerolinecolor": "white"
           },
           "zaxis": {
            "backgroundcolor": "#E5ECF6",
            "gridcolor": "white",
            "gridwidth": 2,
            "linecolor": "white",
            "showbackground": true,
            "ticks": "",
            "zerolinecolor": "white"
           }
          },
          "shapedefaults": {
           "line": {
            "color": "#2a3f5f"
           }
          },
          "ternary": {
           "aaxis": {
            "gridcolor": "white",
            "linecolor": "white",
            "ticks": ""
           },
           "baxis": {
            "gridcolor": "white",
            "linecolor": "white",
            "ticks": ""
           },
           "bgcolor": "#E5ECF6",
           "caxis": {
            "gridcolor": "white",
            "linecolor": "white",
            "ticks": ""
           }
          },
          "title": {
           "x": 0.05
          },
          "xaxis": {
           "automargin": true,
           "gridcolor": "white",
           "linecolor": "white",
           "ticks": "",
           "title": {
            "standoff": 15
           },
           "zerolinecolor": "white",
           "zerolinewidth": 2
          },
          "yaxis": {
           "automargin": true,
           "gridcolor": "white",
           "linecolor": "white",
           "ticks": "",
           "title": {
            "standoff": 15
           },
           "zerolinecolor": "white",
           "zerolinewidth": 2
          }
         }
        },
        "title": {
         "text": "",
         "x": 0.5
        },
        "xaxis": {
         "anchor": "y",
         "autorange": true,
         "domain": [
          0,
          1
         ],
         "range": [
          -0.13354873451803986,
          2.13354873451804
         ],
         "title": {
          "text": "Placement_Status"
         },
         "type": "category"
        },
        "yaxis": {
         "anchor": "x",
         "autorange": true,
         "domain": [
          0,
          1
         ],
         "range": [
          -0.0774278215223097,
          1.0774278215223096
         ],
         "title": {
          "text": "Counseling_Need"
         },
         "type": "category"
        }
       }
      },
      "image/png": "[encoded data removed]",
      "text/html": [
       "<div>                            <div id=\"68cc2c38-3934-442b-9c40-4aa0a2660d1f\" class=\"plotly-graph-div\" style=\"height:525px; width:100%;\"></div>            <script type=\"text/javascript\">                require([\"plotly\"], function(Plotly) {                    window.PLOTLYENV=window.PLOTLYENV || {};                                    if (document.getElementById(\"68cc2c38-3934-442b-9c40-4aa0a2660d1f\")) {                    Plotly.newPlot(                        \"68cc2c38-3934-442b-9c40-4aa0a2660d1f\",                        [{\"hovertemplate\":\"Proposed_Remedy=Academic Counseling\\u003cbr\\u003ePlacement_Status=%{x}\\u003cbr\\u003eCounseling_Need=%{y}\\u003cextra\\u003e\\u003c\\u002fextra\\u003e\",\"legendgroup\":\"Academic Counseling\",\"marker\":{\"color\":\"#636efa\",\"symbol\":\"circle\"},\"mode\":\"markers\",\"name\":\"Academic Counseling\",\"orientation\":\"v\",\"showlegend\":true,\"x\":[\"Not Placed\",\"Placed\",\"Placed\",\"Not Eligible\",\"Placed\",\"Not Placed\",\"Not Eligible\",\"Not Placed\",\"Not Placed\",\"Not Placed\",\"Placed\",\"Not Eligible\",\"Not Eligible\",\"Placed\"],\"xaxis\":\"x\",\"y\":[\"Need\",\"No Need\",\"Need\",\"No Need\",\"Need\",\"Need\",\"No Need\",\"No Need\",\"Need\",\"Need\",\"Need\",\"Need\",\"No Need\",\"Need\"],\"yaxis\":\"y\",\"type\":\"scatter\"},{\"hovertemplate\":\"Proposed_Remedy=Financial Aid Consultation\\u003cbr\\u003ePlacement_Status=%{x}\\u003cbr\\u003eCounseling_Need=%{y}\\u003cextra\\u003e\\u003c\\u002fextra\\u003e\",\"legendgroup\":\"Financial Aid Consultation\",\"marker\":{\"color\":\"#EF553B\",\"symbol\":\"circle\"},\"mode\":\"markers\",\"name\":\"Financial Aid Consultation\",\"orientation\":\"v\",\"showlegend\":true,\"x\":[\"Not Eligible\",\"Not Placed\",\"Not Placed\",\"Placed\",\"Not Eligible\",\"Not Eligible\",\"Placed\",\"Placed\",\"Not Placed\",\"Not Placed\",\"Not Eligible\",\"Not Placed\",\"Not Eligible\",\"Not Eligible\",\"Not Eligible\",\"Not Placed\",\"Placed\",\"Not Eligible\",\"Not Eligible\",\"Placed\",\"Not Placed\",\"Not Placed\",\"Not Eligible\",\"Not Placed\",\"Placed\",\"Not Eligible\"],\"xaxis\":\"x\",\"y\":[\"No Need\",\"Need\",\"Need\",\"Need\",\"No Need\",\"No Need\",\"Need\",\"No Need\",\"No Need\",\"No Need\",\"No Need\",\"No Need\",\"No Need\",\"No Need\",\"No Need\",\"No Need\",\"No Need\",\"No Need\",\"Need\",\"Need\",\"No Need\",\"No Need\",\"No Need\",\"No Need\",\"Need\",\"No Need\"],\"yaxis\":\"y\",\"type\":\"scatter\"},{\"hovertemplate\":\"Proposed_Remedy=Emotional Support Workshop\\u003cbr\\u003ePlacement_Status=%{x}\\u003cbr\\u003eCounseling_Need=%{y}\\u003cextra\\u003e\\u003c\\u002fextra\\u003e\",\"legendgroup\":\"Emotional Support Workshop\",\"marker\":{\"color\":\"#00cc96\",\"symbol\":\"circle\"},\"mode\":\"markers\",\"name\":\"Emotional Support Workshop\",\"orientation\":\"v\",\"showlegend\":true,\"x\":[\"Not Eligible\",\"Placed\",\"Not Placed\",\"Placed\",\"Not Eligible\",\"Placed\",\"Placed\",\"Placed\",\"Not Placed\",\"Placed\",\"Not Eligible\",\"Not Placed\",\"Not Placed\",\"Placed\",\"Placed\",\"Not Eligible\",\"Not Eligible\",\"Not Placed\"],\"xaxis\":\"x\",\"y\":[\"No Need\",\"No Need\",\"Need\",\"Need\",\"No Need\",\"No Need\",\"Need\",\"Need\",\"Need\",\"No Need\",\"Need\",\"Need\",\"No Need\",\"Need\",\"Need\",\"Need\",\"Need\",\"Need\"],\"yaxis\":\"y\",\"type\":\"scatter\"},{\"hovertemplate\":\"Proposed_Remedy=Peer Support\\u003cbr\\u003ePlacement_Status=%{x}\\u003cbr\\u003eCounseling_Need=%{y}\\u003cextra\\u003e\\u003c\\u002fextra\\u003e\",\"legendgroup\":\"Peer Support\",\"marker\":{\"color\":\"#ab63fa\",\"symbol\":\"circle\"},\"mode\":\"markers\",\"name\":\"Peer Support\",\"orientation\":\"v\",\"showlegend\":true,\"x\":[\"Not Eligible\",\"Placed\",\"Placed\",\"Placed\",\"Not Eligible\",\"Placed\",\"Not Placed\",\"Not Eligible\",\"Not Placed\",\"Placed\",\"Not Eligible\",\"Not Eligible\",\"Not Eligible\",\"Placed\",\"Not Placed\",\"Not Placed\",\"Not Eligible\",\"Placed\"],\"xaxis\":\"x\",\"y\":[\"Need\",\"No Need\",\"No Need\",\"No Need\",\"No Need\",\"Need\",\"Need\",\"Need\",\"Need\",\"Need\",\"Need\",\"No Need\",\"Need\",\"No Need\",\"Need\",\"No Need\",\"Need\",\"Need\"],\"yaxis\":\"y\",\"type\":\"scatter\"},{\"hovertemplate\":\"Proposed_Remedy=Family Counseling\\u003cbr\\u003ePlacement_Status=%{x}\\u003cbr\\u003eCounseling_Need=%{y}\\u003cextra\\u003e\\u003c\\u002fextra\\u003e\",\"legendgroup\":\"Family Counseling\",\"marker\":{\"color\":\"#FFA15A\",\"symbol\":\"circle\"},\"mode\":\"markers\",\"name\":\"Family Counseling\",\"orientation\":\"v\",\"showlegend\":true,\"x\":[\"Not Placed\",\"Not Placed\",\"Placed\",\"Placed\",\"Placed\",\"Placed\",\"Not Eligible\",\"Placed\",\"Placed\",\"Not Placed\",\"Placed\",\"Placed\",\"Not Eligible\",\"Placed\",\"Placed\",\"Placed\",\"Not Placed\",\"Placed\",\"Not Eligible\",\"Not Placed\",\"Not Eligible\",\"Placed\",\"Not Eligible\",\"Placed\"],\"xaxis\":\"x\",\"y\":[\"Need\",\"No Need\",\"Need\",\"Need\",\"Need\",\"Need\",\"Need\",\"No Need\",\"No Need\",\"No Need\",\"No Need\",\"No Need\",\"Need\",\"Need\",\"No Need\",\"No Need\",\"No Need\",\"Need\",\"No Need\",\"No Need\",\"No Need\",\"No Need\",\"Need\",\"No Need\"],\"yaxis\":\"y\",\"type\":\"scatter\"}],                        {\"template\":{\"data\":{\"histogram2dcontour\":[{\"type\":\"histogram2dcontour\",\"colorbar\":{\"outlinewidth\":0,\"ticks\":\"\"},\"colorscale\":[[0.0,\"#0d0887\"],[0.1111111111111111,\"#46039f\"],[0.2222222222222222,\"#7201a8\"],[0.3333333333333333,\"#9c179e\"],[0.4444444444444444,\"#bd3786\"],[0.5555555555555556,\"#d8576b\"],[0.6666666666666666,\"#ed7953\"],[0.7777777777777778,\"#fb9f3a\"],[0.8888888888888888,\"#fdca26\"],[1.0,\"#f0f921\"]]}],\"choropleth\":[{\"type\":\"choropleth\",\"colorbar\":{\"outlinewidth\":0,\"ticks\":\"\"}}],\"histogram2d\":[{\"type\":\"histogram2d\",\"colorbar\":{\"outlinewidth\":0,\"ticks\":\"\"},\"colorscale\":[[0.0,\"#0d0887\"],[0.1111111111111111,\"#46039f\"],[0.2222222222222222,\"#7201a8\"],[0.3333333333333333,\"#9c179e\"],[0.4444444444444444,\"#bd3786\"],[0.5555555555555556,\"#d8576b\"],[0.6666666666666666,\"#ed7953\"],[0.7777777777777778,\"#fb9f3a\"],[0.8888888888888888,\"#fdca26\"],[1.0,\"#f0f921\"]]}],\"heatmap\":[{\"type\":\"heatmap\",\"colorbar\":{\"outlinewidth\":0,\"ticks\":\"\"},\"colorscale\":[[0.0,\"#0d0887\"],[0.1111111111111111,\"#46039f\"],[0.2222222222222222,\"#7201a8\"],[0.3333333333333333,\"#9c179e\"],[0.4444444444444444,\"#bd3786\"],[0.5555555555555556,\"#d8576b\"],[0.6666666666666666,\"#ed7953\"],[0.7777777777777778,\"#fb9f3a\"],[0.8888888888888888,\"#fdca26\"],[1.0,\"#f0f921\"]]}],\"heatmapgl\":[{\"type\":\"heatmapgl\",\"colorbar\":{\"outlinewidth\":0,\"ticks\":\"\"},\"colorscale\":[[0.0,\"#0d0887\"],[0.1111111111111111,\"#46039f\"],[0.2222222222222222,\"#7201a8\"],[0.3333333333333333,\"#9c179e\"],[0.4444444444444444,\"#bd3786\"],[0.5555555555555556,\"#d8576b\"],[0.6666666666666666,\"#ed7953\"],[0.7777777777777778,\"#fb9f3a\"],[0.8888888888888888,\"#fdca26\"],[1.0,\"#f0f921\"]]}],\"contourcarpet\":[{\"type\":\"contourcarpet\",\"colorbar\":{\"outlinewidth\":0,\"ticks\":\"\"}}],\"contour\":[{\"type\":\"contour\",\"colorbar\":{\"outlinewidth\":0,\"ticks\":\"\"},\"colorscale\":[[0.0,\"#0d0887\"],[0.1111111111111111,\"#46039f\"],[0.2222222222222222,\"#7201a8\"],[0.3333333333333333,\"#9c179e\"],[0.4444444444444444,\"#bd3786\"],[0.5555555555555556,\"#d8576b\"],[0.6666666666666666,\"#ed7953\"],[0.7777777777777778,\"#fb9f3a\"],[0.8888888888888888,\"#fdca26\"],[1.0,\"#f0f921\"]]}],\"surface\":[{\"type\":\"surface\",\"colorbar\":{\"outlinewidth\":0,\"ticks\":\"\"},\"colorscale\":[[0.0,\"#0d0887\"],[0.1111111111111111,\"#46039f\"],[0.2222222222222222,\"#7201a8\"],[0.3333333333333333,\"#9c179e\"],[0.4444444444444444,\"#bd3786\"],[0.5555555555555556,\"#d8576b\"],[0.6666666666666666,\"#ed7953\"],[0.7777777777777778,\"#fb9f3a\"],[0.8888888888888888,\"#fdca26\"],[1.0,\"#f0f921\"]]}],\"mesh3d\":[{\"type\":\"mesh3d\",\"colorbar\":{\"outlinewidth\":0,\"ticks\":\"\"}}],\"scatter\":[{\"fillpattern\":{\"fillmode\":\"overlay\",\"size\":10,\"solidity\":0.2},\"type\":\"scatter\"}],\"parcoords\":[{\"type\":\"parcoords\",\"line\":{\"colorbar\":{\"outlinewidth\":0,\"ticks\":\"\"}}}],\"scatterpolargl\":[{\"type\":\"scatterpolargl\",\"marker\":{\"colorbar\":{\"outlinewidth\":0,\"ticks\":\"\"}}}],\"bar\":[{\"error_x\":{\"color\":\"#2a3f5f\"},\"error_y\":{\"color\":\"#2a3f5f\"},\"marker\":{\"line\":{\"color\":\"#E5ECF6\",\"width\":0.5},\"pattern\":{\"fillmode\":\"overlay\",\"size\":10,\"solidity\":0.2}},\"type\":\"bar\"}],\"scattergeo\":[{\"type\":\"scattergeo\",\"marker\":{\"colorbar\":{\"outlinewidth\":0,\"ticks\":\"\"}}}],\"scatterpolar\":[{\"type\":\"scatterpolar\",\"marker\":{\"colorbar\":{\"outlinewidth\":0,\"ticks\":\"\"}}}],\"histogram\":[{\"marker\":{\"pattern\":{\"fillmode\":\"overlay\",\"size\":10,\"solidity\":0.2}},\"type\":\"histogram\"}],\"scattergl\":[{\"type\":\"scattergl\",\"marker\":{\"colorbar\":{\"outlinewidth\":0,\"ticks\":\"\"}}}],\"scatter3d\":[{\"type\":\"scatter3d\",\"line\":{\"colorbar\":{\"outlinewidth\":0,\"ticks\":\"\"}},\"marker\":{\"colorbar\":{\"outlinewidth\":0,\"ticks\":\"\"}}}],\"scattermapbox\":[{\"type\":\"scattermapbox\",\"marker\":{\"colorbar\":{\"outlinewidth\":0,\"ticks\":\"\"}}}],\"scatterternary\":[{\"type\":\"scatterternary\",\"marker\":{\"colorbar\":{\"outlinewidth\":0,\"ticks\":\"\"}}}],\"scattercarpet\":[{\"type\":\"scattercarpet\",\"marker\":{\"colorbar\":{\"outlinewidth\":0,\"ticks\":\"\"}}}],\"carpet\":[{\"aaxis\":{\"endlinecolor\":\"#2a3f5f\",\"gridcolor\":\"white\",\"linecolor\":\"white\",\"minorgridcolor\":\"white\",\"startlinecolor\":\"#2a3f5f\"},\"baxis\":{\"endlinecolor\":\"#2a3f5f\",\"gridcolor\":\"white\",\"linecolor\":\"white\",\"minorgridcolor\":\"white\",\"startlinecolor\":\"#2a3f5f\"},\"type\":\"carpet\"}],\"table\":[{\"cells\":{\"fill\":{\"color\":\"#EBF0F8\"},\"line\":{\"color\":\"white\"}},\"header\":{\"fill\":{\"color\":\"#C8D4E3\"},\"line\":{\"color\":\"white\"}},\"type\":\"table\"}],\"barpolar\":[{\"marker\":{\"line\":{\"color\":\"#E5ECF6\",\"width\":0.5},\"pattern\":{\"fillmode\":\"overlay\",\"size\":10,\"solidity\":0.2}},\"type\":\"barpolar\"}],\"pie\":[{\"automargin\":true,\"type\":\"pie\"}]},\"layout\":{\"autotypenumbers\":\"strict\",\"colorway\":[\"#636efa\",\"#EF553B\",\"#00cc96\",\"#ab63fa\",\"#FFA15A\",\"#19d3f3\",\"#FF6692\",\"#B6E880\",\"#FF97FF\",\"#FECB52\"],\"font\":{\"color\":\"#2a3f5f\"},\"hovermode\":\"closest\",\"hoverlabel\":{\"align\":\"left\"},\"paper_bgcolor\":\"white\",\"plot_bgcolor\":\"#E5ECF6\",\"polar\":{\"bgcolor\":\"#E5ECF6\",\"angularaxis\":{\"gridcolor\":\"white\",\"linecolor\":\"white\",\"ticks\":\"\"},\"radialaxis\":{\"gridcolor\":\"white\",\"linecolor\":\"white\",\"ticks\":\"\"}},\"ternary\":{\"bgcolor\":\"#E5ECF6\",\"aaxis\":{\"gridcolor\":\"white\",\"linecolor\":\"white\",\"ticks\":\"\"},\"baxis\":{\"gridcolor\":\"white\",\"linecolor\":\"white\",\"ticks\":\"\"},\"caxis\":{\"gridcolor\":\"white\",\"linecolor\":\"white\",\"ticks\":\"\"}},\"coloraxis\":{\"colorbar\":{\"outlinewidth\":0,\"ticks\":\"\"}},\"colorscale\":{\"sequential\":[[0.0,\"#0d0887\"],[0.1111111111111111,\"#46039f\"],[0.2222222222222222,\"#7201a8\"],[0.3333333333333333,\"#9c179e\"],[0.4444444444444444,\"#bd3786\"],[0.5555555555555556,\"#d8576b\"],[0.6666666666666666,\"#ed7953\"],[0.7777777777777778,\"#fb9f3a\"],[0.8888888888888888,\"#fdca26\"],[1.0,\"#f0f921\"]],\"sequentialminus\":[[0.0,\"#0d0887\"],[0.1111111111111111,\"#46039f\"],[0.2222222222222222,\"#7201a8\"],[0.3333333333333333,\"#9c179e\"],[0.4444444444444444,\"#bd3786\"],[0.5555555555555556,\"#d8576b\"],[0.6666666666666666,\"#ed7953\"],[0.7777777777777778,\"#fb9f3a\"],[0.8888888888888888,\"#fdca26\"],[1.0,\"#f0f921\"]],\"diverging\":[[0,\"#8e0152\"],[0.1,\"#c51b7d\"],[0.2,\"#de77ae\"],[0.3,\"#f1b6da\"],[0.4,\"#fde0ef\"],[0.5,\"#f7f7f7\"],[0.6,\"#e6f5d0\"],[0.7,\"#b8e186\"],[0.8,\"#7fbc41\"],[0.9,\"#4d9221\"],[1,\"#276419\"]]},\"xaxis\":{\"gridcolor\":\"white\",\"linecolor\":\"white\",\"ticks\":\"\",\"title\":{\"standoff\":15},\"zerolinecolor\":\"white\",\"automargin\":true,\"zerolinewidth\":2},\"yaxis\":{\"gridcolor\":\"white\",\"linecolor\":\"white\",\"ticks\":\"\",\"title\":{\"standoff\":15},\"zerolinecolor\":\"white\",\"automargin\":true,\"zerolinewidth\":2},\"scene\":{\"xaxis\":{\"backgroundcolor\":\"#E5ECF6\",\"gridcolor\":\"white\",\"linecolor\":\"white\",\"showbackground\":true,\"ticks\":\"\",\"zerolinecolor\":\"white\",\"gridwidth\":2},\"yaxis\":{\"backgroundcolor\":\"#E5ECF6\",\"gridcolor\":\"white\",\"linecolor\":\"white\",\"showbackground\":true,\"ticks\":\"\",\"zerolinecolor\":\"white\",\"gridwidth\":2},\"zaxis\":{\"backgroundcolor\":\"#E5ECF6\",\"gridcolor\":\"white\",\"linecolor\":\"white\",\"showbackground\":true,\"ticks\":\"\",\"zerolinecolor\":\"white\",\"gridwidth\":2}},\"shapedefaults\":{\"line\":{\"color\":\"#2a3f5f\"}},\"annotationdefaults\":{\"arrowcolor\":\"#2a3f5f\",\"arrowhead\":0,\"arrowwidth\":1},\"geo\":{\"bgcolor\":\"white\",\"landcolor\":\"#E5ECF6\",\"subunitcolor\":\"white\",\"showland\":true,\"showlakes\":true,\"lakecolor\":\"white\"},\"title\":{\"x\":0.05},\"mapbox\":{\"style\":\"light\"}}},\"xaxis\":{\"anchor\":\"y\",\"domain\":[0.0,1.0],\"title\":{\"text\":\"Placement_Status\"}},\"yaxis\":{\"anchor\":\"x\",\"domain\":[0.0,1.0],\"title\":{\"text\":\"Counseling_Need\"}},\"legend\":{\"title\":{\"text\":\"Proposed_Remedy\"},\"tracegroupgap\":0},\"margin\":{\"t\":60},\"title\":{\"text\":\"\",\"x\":0.5}},                        {\"responsive\": true}                    ).then(function(){\n",
       "                            \n",
       "var gd = document.getElementById('68cc2c38-3934-442b-9c40-4aa0a2660d1f');\n",
       "var x = new MutationObserver(function (mutations, observer) {{\n",
       "        var display = window.getComputedStyle(gd).display;\n",
       "        if (!display || display === 'none') {{\n",
       "            console.log([gd, 'removed!']);\n",
       "            Plotly.purge(gd);\n",
       "            observer.disconnect();\n",
       "        }}\n",
       "}});\n",
       "\n",
       "// Listen for the removal of the full notebook cells\n",
       "var notebookContainer = gd.closest('#notebook-container');\n",
       "if (notebookContainer) {{\n",
       "    x.observe(notebookContainer, {childList: true});\n",
       "}}\n",
       "\n",
       "// Listen for the clearing of the current output cell\n",
       "var outputEl = gd.closest('.output');\n",
       "if (outputEl) {{\n",
       "    x.observe(outputEl, {childList: true});\n",
       "}}\n",
       "\n",
       "                        })                };                });            </script>        </div>"
      ]
     },
     "metadata": {},
     "output_type": "display_data"
    }
   ],
   "source": [
    "fig=px.scatter(DF_model1,x='Placement_Status',y='Counseling_Need',color='Proposed_Remedy')\n",
    "fig.update_layout(title='',title_x=0.5,)\n",
    "fig.show()"
   ]
  },
  {
   "cell_type": "code",
   "execution_count": 85,
   "id": "3a10e4aa-8ca0-4915-9ae1-d06423c18305",
   "metadata": {},
   "outputs": [
    {
     "data": {
      "application/vnd.plotly.v1+json": {
       "config": {
        "plotlyServerURL": "https://plot.ly"
       },
       "data": [
        {
         "hovertemplate": "Financial_Stress_Level=%{x}<br>Parental_Income=%{y}<br>CGPA=%{marker.color}<extra></extra>",
         "legendgroup": "",
         "marker": {
          "color": [
           2.8,
           2.35,
           3.23,
           3.35,
           3.96,
           3.01,
           2.1,
           2.93,
           3.79,
           3.48,
           2.28,
           3.16,
           2.39,
           3.1,
           3.97,
           3.11,
           2.01,
           2.49,
           2.41,
           3.13,
           2.68,
           2.03,
           3.89,
           2.87,
           2.25,
           3.61,
           2.35,
           3.44,
           2.41,
           3.06,
           2.01,
           3.31,
           3.47,
           3.09,
           3.16,
           3.98,
           3.67,
           3.7,
           2.79,
           2.35,
           3.5,
           2.31,
           3.67,
           3.4,
           3.21,
           2.74,
           3.01,
           3.99,
           2.91,
           3.81,
           3.69,
           3.34,
           2.49,
           2.9,
           3.22,
           2.22,
           2.23,
           3.65,
           2.52,
           3.58,
           3.81,
           2.89,
           3.2,
           3.22,
           2.78,
           3.89,
           3.39,
           3.1,
           3.07,
           2.21,
           2.5,
           2.79,
           2.52,
           2.7,
           3.05,
           3,
           3.73,
           2.67,
           3.47,
           2.86,
           2.85,
           3.79,
           3.54,
           3.83,
           2.51,
           2.28,
           2.92,
           3.09,
           3.01,
           2.58,
           2.78,
           2.63,
           2.81,
           2.81,
           3.29,
           2.66,
           2.44,
           3.28,
           2.82,
           3.49
          ],
          "coloraxis": "coloraxis",
          "symbol": "circle"
         },
         "mode": "markers",
         "name": "",
         "orientation": "v",
         "showlegend": false,
         "type": "scatter",
         "x": [
          2,
          2,
          9,
          2,
          7,
          5,
          2,
          2,
          2,
          3,
          6,
          1,
          10,
          9,
          3,
          6,
          7,
          6,
          8,
          2,
          4,
          10,
          7,
          3,
          9,
          1,
          2,
          2,
          8,
          7,
          8,
          4,
          6,
          8,
          9,
          5,
          6,
          1,
          9,
          7,
          6,
          7,
          8,
          5,
          9,
          9,
          1,
          8,
          1,
          8,
          5,
          2,
          3,
          4,
          7,
          1,
          2,
          7,
          9,
          9,
          5,
          7,
          2,
          4,
          2,
          9,
          1,
          4,
          6,
          7,
          6,
          1,
          7,
          3,
          5,
          3,
          4,
          2,
          3,
          6,
          4,
          5,
          1,
          7,
          2,
          4,
          10,
          10,
          4,
          10,
          6,
          10,
          9,
          2,
          7,
          9,
          4,
          8,
          9,
          1
         ],
         "xaxis": "x",
         "y": [
          39540,
          21331,
          48483,
          37263,
          51514,
          19378,
          59932,
          46573,
          57871,
          43299,
          41688,
          19532,
          52560,
          46638,
          57603,
          51682,
          18867,
          51439,
          30486,
          16749,
          48882,
          54133,
          20233,
          30502,
          36626,
          19213,
          27092,
          17003,
          43678,
          43084,
          17535,
          29078,
          21268,
          55018,
          49388,
          50141,
          46489,
          57005,
          22845,
          57783,
          47431,
          27262,
          41367,
          38320,
          51252,
          17103,
          30509,
          33356,
          17730,
          21367,
          30054,
          55786,
          47206,
          56197,
          55825,
          15927,
          28875,
          37926,
          36621,
          41529,
          39524,
          31079,
          35461,
          24498,
          21406,
          22956,
          22849,
          31800,
          29861,
          21596,
          30597,
          17111,
          38411,
          24554,
          36263,
          57849,
          21982,
          17526,
          18293,
          29928,
          35756,
          36882,
          49730,
          36968,
          16146,
          40271,
          34598,
          48436,
          54342,
          40724,
          26662,
          22994,
          36603,
          23699,
          33206,
          15444,
          48112,
          25190,
          47647,
          16626
         ],
         "yaxis": "y"
        }
       ],
       "layout": {
        "autosize": true,
        "coloraxis": {
         "colorbar": {
          "title": {
           "text": "CGPA"
          }
         },
         "colorscale": [
          [
           0,
           "#0d0887"
          ],
          [
           0.1111111111111111,
           "#46039f"
          ],
          [
           0.2222222222222222,
           "#7201a8"
          ],
          [
           0.3333333333333333,
           "#9c179e"
          ],
          [
           0.4444444444444444,
           "#bd3786"
          ],
          [
           0.5555555555555556,
           "#d8576b"
          ],
          [
           0.6666666666666666,
           "#ed7953"
          ],
          [
           0.7777777777777778,
           "#fb9f3a"
          ],
          [
           0.8888888888888888,
           "#fdca26"
          ],
          [
           1,
           "#f0f921"
          ]
         ]
        },
        "legend": {
         "tracegroupgap": 0
        },
        "margin": {
         "t": 60
        },
        "template": {
         "data": {
          "bar": [
           {
            "error_x": {
             "color": "#2a3f5f"
            },
            "error_y": {
             "color": "#2a3f5f"
            },
            "marker": {
             "line": {
              "color": "#E5ECF6",
              "width": 0.5
             },
             "pattern": {
              "fillmode": "overlay",
              "size": 10,
              "solidity": 0.2
             }
            },
            "type": "bar"
           }
          ],
          "barpolar": [
           {
            "marker": {
             "line": {
              "color": "#E5ECF6",
              "width": 0.5
             },
             "pattern": {
              "fillmode": "overlay",
              "size": 10,
              "solidity": 0.2
             }
            },
            "type": "barpolar"
           }
          ],
          "carpet": [
           {
            "aaxis": {
             "endlinecolor": "#2a3f5f",
             "gridcolor": "white",
             "linecolor": "white",
             "minorgridcolor": "white",
             "startlinecolor": "#2a3f5f"
            },
            "baxis": {
             "endlinecolor": "#2a3f5f",
             "gridcolor": "white",
             "linecolor": "white",
             "minorgridcolor": "white",
             "startlinecolor": "#2a3f5f"
            },
            "type": "carpet"
           }
          ],
          "choropleth": [
           {
            "colorbar": {
             "outlinewidth": 0,
             "ticks": ""
            },
            "type": "choropleth"
           }
          ],
          "contour": [
           {
            "colorbar": {
             "outlinewidth": 0,
             "ticks": ""
            },
            "colorscale": [
             [
              0,
              "#0d0887"
             ],
             [
              0.1111111111111111,
              "#46039f"
             ],
             [
              0.2222222222222222,
              "#7201a8"
             ],
             [
              0.3333333333333333,
              "#9c179e"
             ],
             [
              0.4444444444444444,
              "#bd3786"
             ],
             [
              0.5555555555555556,
              "#d8576b"
             ],
             [
              0.6666666666666666,
              "#ed7953"
             ],
             [
              0.7777777777777778,
              "#fb9f3a"
             ],
             [
              0.8888888888888888,
              "#fdca26"
             ],
             [
              1,
              "#f0f921"
             ]
            ],
            "type": "contour"
           }
          ],
          "contourcarpet": [
           {
            "colorbar": {
             "outlinewidth": 0,
             "ticks": ""
            },
            "type": "contourcarpet"
           }
          ],
          "heatmap": [
           {
            "colorbar": {
             "outlinewidth": 0,
             "ticks": ""
            },
            "colorscale": [
             [
              0,
              "#0d0887"
             ],
             [
              0.1111111111111111,
              "#46039f"
             ],
             [
              0.2222222222222222,
              "#7201a8"
             ],
             [
              0.3333333333333333,
              "#9c179e"
             ],
             [
              0.4444444444444444,
              "#bd3786"
             ],
             [
              0.5555555555555556,
              "#d8576b"
             ],
             [
              0.6666666666666666,
              "#ed7953"
             ],
             [
              0.7777777777777778,
              "#fb9f3a"
             ],
             [
              0.8888888888888888,
              "#fdca26"
             ],
             [
              1,
              "#f0f921"
             ]
            ],
            "type": "heatmap"
           }
          ],
          "heatmapgl": [
           {
            "colorbar": {
             "outlinewidth": 0,
             "ticks": ""
            },
            "colorscale": [
             [
              0,
              "#0d0887"
             ],
             [
              0.1111111111111111,
              "#46039f"
             ],
             [
              0.2222222222222222,
              "#7201a8"
             ],
             [
              0.3333333333333333,
              "#9c179e"
             ],
             [
              0.4444444444444444,
              "#bd3786"
             ],
             [
              0.5555555555555556,
              "#d8576b"
             ],
             [
              0.6666666666666666,
              "#ed7953"
             ],
             [
              0.7777777777777778,
              "#fb9f3a"
             ],
             [
              0.8888888888888888,
              "#fdca26"
             ],
             [
              1,
              "#f0f921"
             ]
            ],
            "type": "heatmapgl"
           }
          ],
          "histogram": [
           {
            "marker": {
             "pattern": {
              "fillmode": "overlay",
              "size": 10,
              "solidity": 0.2
             }
            },
            "type": "histogram"
           }
          ],
          "histogram2d": [
           {
            "colorbar": {
             "outlinewidth": 0,
             "ticks": ""
            },
            "colorscale": [
             [
              0,
              "#0d0887"
             ],
             [
              0.1111111111111111,
              "#46039f"
             ],
             [
              0.2222222222222222,
              "#7201a8"
             ],
             [
              0.3333333333333333,
              "#9c179e"
             ],
             [
              0.4444444444444444,
              "#bd3786"
             ],
             [
              0.5555555555555556,
              "#d8576b"
             ],
             [
              0.6666666666666666,
              "#ed7953"
             ],
             [
              0.7777777777777778,
              "#fb9f3a"
             ],
             [
              0.8888888888888888,
              "#fdca26"
             ],
             [
              1,
              "#f0f921"
             ]
            ],
            "type": "histogram2d"
           }
          ],
          "histogram2dcontour": [
           {
            "colorbar": {
             "outlinewidth": 0,
             "ticks": ""
            },
            "colorscale": [
             [
              0,
              "#0d0887"
             ],
             [
              0.1111111111111111,
              "#46039f"
             ],
             [
              0.2222222222222222,
              "#7201a8"
             ],
             [
              0.3333333333333333,
              "#9c179e"
             ],
             [
              0.4444444444444444,
              "#bd3786"
             ],
             [
              0.5555555555555556,
              "#d8576b"
             ],
             [
              0.6666666666666666,
              "#ed7953"
             ],
             [
              0.7777777777777778,
              "#fb9f3a"
             ],
             [
              0.8888888888888888,
              "#fdca26"
             ],
             [
              1,
              "#f0f921"
             ]
            ],
            "type": "histogram2dcontour"
           }
          ],
          "mesh3d": [
           {
            "colorbar": {
             "outlinewidth": 0,
             "ticks": ""
            },
            "type": "mesh3d"
           }
          ],
          "parcoords": [
           {
            "line": {
             "colorbar": {
              "outlinewidth": 0,
              "ticks": ""
             }
            },
            "type": "parcoords"
           }
          ],
          "pie": [
           {
            "automargin": true,
            "type": "pie"
           }
          ],
          "scatter": [
           {
            "fillpattern": {
             "fillmode": "overlay",
             "size": 10,
             "solidity": 0.2
            },
            "type": "scatter"
           }
          ],
          "scatter3d": [
           {
            "line": {
             "colorbar": {
              "outlinewidth": 0,
              "ticks": ""
             }
            },
            "marker": {
             "colorbar": {
              "outlinewidth": 0,
              "ticks": ""
             }
            },
            "type": "scatter3d"
           }
          ],
          "scattercarpet": [
           {
            "marker": {
             "colorbar": {
              "outlinewidth": 0,
              "ticks": ""
             }
            },
            "type": "scattercarpet"
           }
          ],
          "scattergeo": [
           {
            "marker": {
             "colorbar": {
              "outlinewidth": 0,
              "ticks": ""
             }
            },
            "type": "scattergeo"
           }
          ],
          "scattergl": [
           {
            "marker": {
             "colorbar": {
              "outlinewidth": 0,
              "ticks": ""
             }
            },
            "type": "scattergl"
           }
          ],
          "scattermapbox": [
           {
            "marker": {
             "colorbar": {
              "outlinewidth": 0,
              "ticks": ""
             }
            },
            "type": "scattermapbox"
           }
          ],
          "scatterpolar": [
           {
            "marker": {
             "colorbar": {
              "outlinewidth": 0,
              "ticks": ""
             }
            },
            "type": "scatterpolar"
           }
          ],
          "scatterpolargl": [
           {
            "marker": {
             "colorbar": {
              "outlinewidth": 0,
              "ticks": ""
             }
            },
            "type": "scatterpolargl"
           }
          ],
          "scatterternary": [
           {
            "marker": {
             "colorbar": {
              "outlinewidth": 0,
              "ticks": ""
             }
            },
            "type": "scatterternary"
           }
          ],
          "surface": [
           {
            "colorbar": {
             "outlinewidth": 0,
             "ticks": ""
            },
            "colorscale": [
             [
              0,
              "#0d0887"
             ],
             [
              0.1111111111111111,
              "#46039f"
             ],
             [
              0.2222222222222222,
              "#7201a8"
             ],
             [
              0.3333333333333333,
              "#9c179e"
             ],
             [
              0.4444444444444444,
              "#bd3786"
             ],
             [
              0.5555555555555556,
              "#d8576b"
             ],
             [
              0.6666666666666666,
              "#ed7953"
             ],
             [
              0.7777777777777778,
              "#fb9f3a"
             ],
             [
              0.8888888888888888,
              "#fdca26"
             ],
             [
              1,
              "#f0f921"
             ]
            ],
            "type": "surface"
           }
          ],
          "table": [
           {
            "cells": {
             "fill": {
              "color": "#EBF0F8"
             },
             "line": {
              "color": "white"
             }
            },
            "header": {
             "fill": {
              "color": "#C8D4E3"
             },
             "line": {
              "color": "white"
             }
            },
            "type": "table"
           }
          ]
         },
         "layout": {
          "annotationdefaults": {
           "arrowcolor": "#2a3f5f",
           "arrowhead": 0,
           "arrowwidth": 1
          },
          "autotypenumbers": "strict",
          "coloraxis": {
           "colorbar": {
            "outlinewidth": 0,
            "ticks": ""
           }
          },
          "colorscale": {
           "diverging": [
            [
             0,
             "#8e0152"
            ],
            [
             0.1,
             "#c51b7d"
            ],
            [
             0.2,
             "#de77ae"
            ],
            [
             0.3,
             "#f1b6da"
            ],
            [
             0.4,
             "#fde0ef"
            ],
            [
             0.5,
             "#f7f7f7"
            ],
            [
             0.6,
             "#e6f5d0"
            ],
            [
             0.7,
             "#b8e186"
            ],
            [
             0.8,
             "#7fbc41"
            ],
            [
             0.9,
             "#4d9221"
            ],
            [
             1,
             "#276419"
            ]
           ],
           "sequential": [
            [
             0,
             "#0d0887"
            ],
            [
             0.1111111111111111,
             "#46039f"
            ],
            [
             0.2222222222222222,
             "#7201a8"
            ],
            [
             0.3333333333333333,
             "#9c179e"
            ],
            [
             0.4444444444444444,
             "#bd3786"
            ],
            [
             0.5555555555555556,
             "#d8576b"
            ],
            [
             0.6666666666666666,
             "#ed7953"
            ],
            [
             0.7777777777777778,
             "#fb9f3a"
            ],
            [
             0.8888888888888888,
             "#fdca26"
            ],
            [
             1,
             "#f0f921"
            ]
           ],
           "sequentialminus": [
            [
             0,
             "#0d0887"
            ],
            [
             0.1111111111111111,
             "#46039f"
            ],
            [
             0.2222222222222222,
             "#7201a8"
            ],
            [
             0.3333333333333333,
             "#9c179e"
            ],
            [
             0.4444444444444444,
             "#bd3786"
            ],
            [
             0.5555555555555556,
             "#d8576b"
            ],
            [
             0.6666666666666666,
             "#ed7953"
            ],
            [
             0.7777777777777778,
             "#fb9f3a"
            ],
            [
             0.8888888888888888,
             "#fdca26"
            ],
            [
             1,
             "#f0f921"
            ]
           ]
          },
          "colorway": [
           "#636efa",
           "#EF553B",
           "#00cc96",
           "#ab63fa",
           "#FFA15A",
           "#19d3f3",
           "#FF6692",
           "#B6E880",
           "#FF97FF",
           "#FECB52"
          ],
          "font": {
           "color": "#2a3f5f"
          },
          "geo": {
           "bgcolor": "white",
           "lakecolor": "white",
           "landcolor": "#E5ECF6",
           "showlakes": true,
           "showland": true,
           "subunitcolor": "white"
          },
          "hoverlabel": {
           "align": "left"
          },
          "hovermode": "closest",
          "mapbox": {
           "style": "light"
          },
          "paper_bgcolor": "white",
          "plot_bgcolor": "#E5ECF6",
          "polar": {
           "angularaxis": {
            "gridcolor": "white",
            "linecolor": "white",
            "ticks": ""
           },
           "bgcolor": "#E5ECF6",
           "radialaxis": {
            "gridcolor": "white",
            "linecolor": "white",
            "ticks": ""
           }
          },
          "scene": {
           "xaxis": {
            "backgroundcolor": "#E5ECF6",
            "gridcolor": "white",
            "gridwidth": 2,
            "linecolor": "white",
            "showbackground": true,
            "ticks": "",
            "zerolinecolor": "white"
           },
           "yaxis": {
            "backgroundcolor": "#E5ECF6",
            "gridcolor": "white",
            "gridwidth": 2,
            "linecolor": "white",
            "showbackground": true,
            "ticks": "",
            "zerolinecolor": "white"
           },
           "zaxis": {
            "backgroundcolor": "#E5ECF6",
            "gridcolor": "white",
            "gridwidth": 2,
            "linecolor": "white",
            "showbackground": true,
            "ticks": "",
            "zerolinecolor": "white"
           }
          },
          "shapedefaults": {
           "line": {
            "color": "#2a3f5f"
           }
          },
          "ternary": {
           "aaxis": {
            "gridcolor": "white",
            "linecolor": "white",
            "ticks": ""
           },
           "baxis": {
            "gridcolor": "white",
            "linecolor": "white",
            "ticks": ""
           },
           "bgcolor": "#E5ECF6",
           "caxis": {
            "gridcolor": "white",
            "linecolor": "white",
            "ticks": ""
           }
          },
          "title": {
           "x": 0.05
          },
          "xaxis": {
           "automargin": true,
           "gridcolor": "white",
           "linecolor": "white",
           "ticks": "",
           "title": {
            "standoff": 15
           },
           "zerolinecolor": "white",
           "zerolinewidth": 2
          },
          "yaxis": {
           "automargin": true,
           "gridcolor": "white",
           "linecolor": "white",
           "ticks": "",
           "title": {
            "standoff": 15
           },
           "zerolinecolor": "white",
           "zerolinewidth": 2
          }
         }
        },
        "xaxis": {
         "anchor": "y",
         "autorange": true,
         "domain": [
          0,
          1
         ],
         "range": [
          0.4271137026239067,
          10.572886297376094
         ],
         "title": {
          "text": "Financial_Stress_Level"
         },
         "type": "linear"
        },
        "yaxis": {
         "anchor": "x",
         "autorange": true,
         "domain": [
          0,
          1
         ],
         "range": [
          11999.391076115486,
          63376.608923884516
         ],
         "title": {
          "text": "Parental_Income"
         },
         "type": "linear"
        }
       }
      },
      "image/png": "[encoded data removed]",
      "text/html": [
       "<div>                            <div id=\"300042c9-f965-4fac-a9a5-f7637ca92e3d\" class=\"plotly-graph-div\" style=\"height:525px; width:100%;\"></div>            <script type=\"text/javascript\">                require([\"plotly\"], function(Plotly) {                    window.PLOTLYENV=window.PLOTLYENV || {};                                    if (document.getElementById(\"300042c9-f965-4fac-a9a5-f7637ca92e3d\")) {                    Plotly.newPlot(                        \"300042c9-f965-4fac-a9a5-f7637ca92e3d\",                        [{\"hovertemplate\":\"Financial_Stress_Level=%{x}\\u003cbr\\u003eParental_Income=%{y}\\u003cbr\\u003eCGPA=%{marker.color}\\u003cextra\\u003e\\u003c\\u002fextra\\u003e\",\"legendgroup\":\"\",\"marker\":{\"color\":[2.8,2.35,3.23,3.35,3.96,3.01,2.1,2.93,3.79,3.48,2.28,3.16,2.39,3.1,3.97,3.11,2.01,2.49,2.41,3.13,2.68,2.03,3.89,2.87,2.25,3.61,2.35,3.44,2.41,3.06,2.01,3.31,3.47,3.09,3.16,3.98,3.67,3.7,2.79,2.35,3.5,2.31,3.67,3.4,3.21,2.74,3.01,3.99,2.91,3.81,3.69,3.34,2.49,2.9,3.22,2.22,2.23,3.65,2.52,3.58,3.81,2.89,3.2,3.22,2.78,3.89,3.39,3.1,3.07,2.21,2.5,2.79,2.52,2.7,3.05,3.0,3.73,2.67,3.47,2.86,2.85,3.79,3.54,3.83,2.51,2.28,2.92,3.09,3.01,2.58,2.78,2.63,2.81,2.81,3.29,2.66,2.44,3.28,2.82,3.49],\"coloraxis\":\"coloraxis\",\"symbol\":\"circle\"},\"mode\":\"markers\",\"name\":\"\",\"orientation\":\"v\",\"showlegend\":false,\"x\":[2,2,9,2,7,5,2,2,2,3,6,1,10,9,3,6,7,6,8,2,4,10,7,3,9,1,2,2,8,7,8,4,6,8,9,5,6,1,9,7,6,7,8,5,9,9,1,8,1,8,5,2,3,4,7,1,2,7,9,9,5,7,2,4,2,9,1,4,6,7,6,1,7,3,5,3,4,2,3,6,4,5,1,7,2,4,10,10,4,10,6,10,9,2,7,9,4,8,9,1],\"xaxis\":\"x\",\"y\":[39540,21331,48483,37263,51514,19378,59932,46573,57871,43299,41688,19532,52560,46638,57603,51682,18867,51439,30486,16749,48882,54133,20233,30502,36626,19213,27092,17003,43678,43084,17535,29078,21268,55018,49388,50141,46489,57005,22845,57783,47431,27262,41367,38320,51252,17103,30509,33356,17730,21367,30054,55786,47206,56197,55825,15927,28875,37926,36621,41529,39524,31079,35461,24498,21406,22956,22849,31800,29861,21596,30597,17111,38411,24554,36263,57849,21982,17526,18293,29928,35756,36882,49730,36968,16146,40271,34598,48436,54342,40724,26662,22994,36603,23699,33206,15444,48112,25190,47647,16626],\"yaxis\":\"y\",\"type\":\"scatter\"}],                        {\"template\":{\"data\":{\"histogram2dcontour\":[{\"type\":\"histogram2dcontour\",\"colorbar\":{\"outlinewidth\":0,\"ticks\":\"\"},\"colorscale\":[[0.0,\"#0d0887\"],[0.1111111111111111,\"#46039f\"],[0.2222222222222222,\"#7201a8\"],[0.3333333333333333,\"#9c179e\"],[0.4444444444444444,\"#bd3786\"],[0.5555555555555556,\"#d8576b\"],[0.6666666666666666,\"#ed7953\"],[0.7777777777777778,\"#fb9f3a\"],[0.8888888888888888,\"#fdca26\"],[1.0,\"#f0f921\"]]}],\"choropleth\":[{\"type\":\"choropleth\",\"colorbar\":{\"outlinewidth\":0,\"ticks\":\"\"}}],\"histogram2d\":[{\"type\":\"histogram2d\",\"colorbar\":{\"outlinewidth\":0,\"ticks\":\"\"},\"colorscale\":[[0.0,\"#0d0887\"],[0.1111111111111111,\"#46039f\"],[0.2222222222222222,\"#7201a8\"],[0.3333333333333333,\"#9c179e\"],[0.4444444444444444,\"#bd3786\"],[0.5555555555555556,\"#d8576b\"],[0.6666666666666666,\"#ed7953\"],[0.7777777777777778,\"#fb9f3a\"],[0.8888888888888888,\"#fdca26\"],[1.0,\"#f0f921\"]]}],\"heatmap\":[{\"type\":\"heatmap\",\"colorbar\":{\"outlinewidth\":0,\"ticks\":\"\"},\"colorscale\":[[0.0,\"#0d0887\"],[0.1111111111111111,\"#46039f\"],[0.2222222222222222,\"#7201a8\"],[0.3333333333333333,\"#9c179e\"],[0.4444444444444444,\"#bd3786\"],[0.5555555555555556,\"#d8576b\"],[0.6666666666666666,\"#ed7953\"],[0.7777777777777778,\"#fb9f3a\"],[0.8888888888888888,\"#fdca26\"],[1.0,\"#f0f921\"]]}],\"heatmapgl\":[{\"type\":\"heatmapgl\",\"colorbar\":{\"outlinewidth\":0,\"ticks\":\"\"},\"colorscale\":[[0.0,\"#0d0887\"],[0.1111111111111111,\"#46039f\"],[0.2222222222222222,\"#7201a8\"],[0.3333333333333333,\"#9c179e\"],[0.4444444444444444,\"#bd3786\"],[0.5555555555555556,\"#d8576b\"],[0.6666666666666666,\"#ed7953\"],[0.7777777777777778,\"#fb9f3a\"],[0.8888888888888888,\"#fdca26\"],[1.0,\"#f0f921\"]]}],\"contourcarpet\":[{\"type\":\"contourcarpet\",\"colorbar\":{\"outlinewidth\":0,\"ticks\":\"\"}}],\"contour\":[{\"type\":\"contour\",\"colorbar\":{\"outlinewidth\":0,\"ticks\":\"\"},\"colorscale\":[[0.0,\"#0d0887\"],[0.1111111111111111,\"#46039f\"],[0.2222222222222222,\"#7201a8\"],[0.3333333333333333,\"#9c179e\"],[0.4444444444444444,\"#bd3786\"],[0.5555555555555556,\"#d8576b\"],[0.6666666666666666,\"#ed7953\"],[0.7777777777777778,\"#fb9f3a\"],[0.8888888888888888,\"#fdca26\"],[1.0,\"#f0f921\"]]}],\"surface\":[{\"type\":\"surface\",\"colorbar\":{\"outlinewidth\":0,\"ticks\":\"\"},\"colorscale\":[[0.0,\"#0d0887\"],[0.1111111111111111,\"#46039f\"],[0.2222222222222222,\"#7201a8\"],[0.3333333333333333,\"#9c179e\"],[0.4444444444444444,\"#bd3786\"],[0.5555555555555556,\"#d8576b\"],[0.6666666666666666,\"#ed7953\"],[0.7777777777777778,\"#fb9f3a\"],[0.8888888888888888,\"#fdca26\"],[1.0,\"#f0f921\"]]}],\"mesh3d\":[{\"type\":\"mesh3d\",\"colorbar\":{\"outlinewidth\":0,\"ticks\":\"\"}}],\"scatter\":[{\"fillpattern\":{\"fillmode\":\"overlay\",\"size\":10,\"solidity\":0.2},\"type\":\"scatter\"}],\"parcoords\":[{\"type\":\"parcoords\",\"line\":{\"colorbar\":{\"outlinewidth\":0,\"ticks\":\"\"}}}],\"scatterpolargl\":[{\"type\":\"scatterpolargl\",\"marker\":{\"colorbar\":{\"outlinewidth\":0,\"ticks\":\"\"}}}],\"bar\":[{\"error_x\":{\"color\":\"#2a3f5f\"},\"error_y\":{\"color\":\"#2a3f5f\"},\"marker\":{\"line\":{\"color\":\"#E5ECF6\",\"width\":0.5},\"pattern\":{\"fillmode\":\"overlay\",\"size\":10,\"solidity\":0.2}},\"type\":\"bar\"}],\"scattergeo\":[{\"type\":\"scattergeo\",\"marker\":{\"colorbar\":{\"outlinewidth\":0,\"ticks\":\"\"}}}],\"scatterpolar\":[{\"type\":\"scatterpolar\",\"marker\":{\"colorbar\":{\"outlinewidth\":0,\"ticks\":\"\"}}}],\"histogram\":[{\"marker\":{\"pattern\":{\"fillmode\":\"overlay\",\"size\":10,\"solidity\":0.2}},\"type\":\"histogram\"}],\"scattergl\":[{\"type\":\"scattergl\",\"marker\":{\"colorbar\":{\"outlinewidth\":0,\"ticks\":\"\"}}}],\"scatter3d\":[{\"type\":\"scatter3d\",\"line\":{\"colorbar\":{\"outlinewidth\":0,\"ticks\":\"\"}},\"marker\":{\"colorbar\":{\"outlinewidth\":0,\"ticks\":\"\"}}}],\"scattermapbox\":[{\"type\":\"scattermapbox\",\"marker\":{\"colorbar\":{\"outlinewidth\":0,\"ticks\":\"\"}}}],\"scatterternary\":[{\"type\":\"scatterternary\",\"marker\":{\"colorbar\":{\"outlinewidth\":0,\"ticks\":\"\"}}}],\"scattercarpet\":[{\"type\":\"scattercarpet\",\"marker\":{\"colorbar\":{\"outlinewidth\":0,\"ticks\":\"\"}}}],\"carpet\":[{\"aaxis\":{\"endlinecolor\":\"#2a3f5f\",\"gridcolor\":\"white\",\"linecolor\":\"white\",\"minorgridcolor\":\"white\",\"startlinecolor\":\"#2a3f5f\"},\"baxis\":{\"endlinecolor\":\"#2a3f5f\",\"gridcolor\":\"white\",\"linecolor\":\"white\",\"minorgridcolor\":\"white\",\"startlinecolor\":\"#2a3f5f\"},\"type\":\"carpet\"}],\"table\":[{\"cells\":{\"fill\":{\"color\":\"#EBF0F8\"},\"line\":{\"color\":\"white\"}},\"header\":{\"fill\":{\"color\":\"#C8D4E3\"},\"line\":{\"color\":\"white\"}},\"type\":\"table\"}],\"barpolar\":[{\"marker\":{\"line\":{\"color\":\"#E5ECF6\",\"width\":0.5},\"pattern\":{\"fillmode\":\"overlay\",\"size\":10,\"solidity\":0.2}},\"type\":\"barpolar\"}],\"pie\":[{\"automargin\":true,\"type\":\"pie\"}]},\"layout\":{\"autotypenumbers\":\"strict\",\"colorway\":[\"#636efa\",\"#EF553B\",\"#00cc96\",\"#ab63fa\",\"#FFA15A\",\"#19d3f3\",\"#FF6692\",\"#B6E880\",\"#FF97FF\",\"#FECB52\"],\"font\":{\"color\":\"#2a3f5f\"},\"hovermode\":\"closest\",\"hoverlabel\":{\"align\":\"left\"},\"paper_bgcolor\":\"white\",\"plot_bgcolor\":\"#E5ECF6\",\"polar\":{\"bgcolor\":\"#E5ECF6\",\"angularaxis\":{\"gridcolor\":\"white\",\"linecolor\":\"white\",\"ticks\":\"\"},\"radialaxis\":{\"gridcolor\":\"white\",\"linecolor\":\"white\",\"ticks\":\"\"}},\"ternary\":{\"bgcolor\":\"#E5ECF6\",\"aaxis\":{\"gridcolor\":\"white\",\"linecolor\":\"white\",\"ticks\":\"\"},\"baxis\":{\"gridcolor\":\"white\",\"linecolor\":\"white\",\"ticks\":\"\"},\"caxis\":{\"gridcolor\":\"white\",\"linecolor\":\"white\",\"ticks\":\"\"}},\"coloraxis\":{\"colorbar\":{\"outlinewidth\":0,\"ticks\":\"\"}},\"colorscale\":{\"sequential\":[[0.0,\"#0d0887\"],[0.1111111111111111,\"#46039f\"],[0.2222222222222222,\"#7201a8\"],[0.3333333333333333,\"#9c179e\"],[0.4444444444444444,\"#bd3786\"],[0.5555555555555556,\"#d8576b\"],[0.6666666666666666,\"#ed7953\"],[0.7777777777777778,\"#fb9f3a\"],[0.8888888888888888,\"#fdca26\"],[1.0,\"#f0f921\"]],\"sequentialminus\":[[0.0,\"#0d0887\"],[0.1111111111111111,\"#46039f\"],[0.2222222222222222,\"#7201a8\"],[0.3333333333333333,\"#9c179e\"],[0.4444444444444444,\"#bd3786\"],[0.5555555555555556,\"#d8576b\"],[0.6666666666666666,\"#ed7953\"],[0.7777777777777778,\"#fb9f3a\"],[0.8888888888888888,\"#fdca26\"],[1.0,\"#f0f921\"]],\"diverging\":[[0,\"#8e0152\"],[0.1,\"#c51b7d\"],[0.2,\"#de77ae\"],[0.3,\"#f1b6da\"],[0.4,\"#fde0ef\"],[0.5,\"#f7f7f7\"],[0.6,\"#e6f5d0\"],[0.7,\"#b8e186\"],[0.8,\"#7fbc41\"],[0.9,\"#4d9221\"],[1,\"#276419\"]]},\"xaxis\":{\"gridcolor\":\"white\",\"linecolor\":\"white\",\"ticks\":\"\",\"title\":{\"standoff\":15},\"zerolinecolor\":\"white\",\"automargin\":true,\"zerolinewidth\":2},\"yaxis\":{\"gridcolor\":\"white\",\"linecolor\":\"white\",\"ticks\":\"\",\"title\":{\"standoff\":15},\"zerolinecolor\":\"white\",\"automargin\":true,\"zerolinewidth\":2},\"scene\":{\"xaxis\":{\"backgroundcolor\":\"#E5ECF6\",\"gridcolor\":\"white\",\"linecolor\":\"white\",\"showbackground\":true,\"ticks\":\"\",\"zerolinecolor\":\"white\",\"gridwidth\":2},\"yaxis\":{\"backgroundcolor\":\"#E5ECF6\",\"gridcolor\":\"white\",\"linecolor\":\"white\",\"showbackground\":true,\"ticks\":\"\",\"zerolinecolor\":\"white\",\"gridwidth\":2},\"zaxis\":{\"backgroundcolor\":\"#E5ECF6\",\"gridcolor\":\"white\",\"linecolor\":\"white\",\"showbackground\":true,\"ticks\":\"\",\"zerolinecolor\":\"white\",\"gridwidth\":2}},\"shapedefaults\":{\"line\":{\"color\":\"#2a3f5f\"}},\"annotationdefaults\":{\"arrowcolor\":\"#2a3f5f\",\"arrowhead\":0,\"arrowwidth\":1},\"geo\":{\"bgcolor\":\"white\",\"landcolor\":\"#E5ECF6\",\"subunitcolor\":\"white\",\"showland\":true,\"showlakes\":true,\"lakecolor\":\"white\"},\"title\":{\"x\":0.05},\"mapbox\":{\"style\":\"light\"}}},\"xaxis\":{\"anchor\":\"y\",\"domain\":[0.0,1.0],\"title\":{\"text\":\"Financial_Stress_Level\"}},\"yaxis\":{\"anchor\":\"x\",\"domain\":[0.0,1.0],\"title\":{\"text\":\"Parental_Income\"}},\"coloraxis\":{\"colorbar\":{\"title\":{\"text\":\"CGPA\"}},\"colorscale\":[[0.0,\"#0d0887\"],[0.1111111111111111,\"#46039f\"],[0.2222222222222222,\"#7201a8\"],[0.3333333333333333,\"#9c179e\"],[0.4444444444444444,\"#bd3786\"],[0.5555555555555556,\"#d8576b\"],[0.6666666666666666,\"#ed7953\"],[0.7777777777777778,\"#fb9f3a\"],[0.8888888888888888,\"#fdca26\"],[1.0,\"#f0f921\"]]},\"legend\":{\"tracegroupgap\":0},\"margin\":{\"t\":60}},                        {\"responsive\": true}                    ).then(function(){\n",
       "                            \n",
       "var gd = document.getElementById('300042c9-f965-4fac-a9a5-f7637ca92e3d');\n",
       "var x = new MutationObserver(function (mutations, observer) {{\n",
       "        var display = window.getComputedStyle(gd).display;\n",
       "        if (!display || display === 'none') {{\n",
       "            console.log([gd, 'removed!']);\n",
       "            Plotly.purge(gd);\n",
       "            observer.disconnect();\n",
       "        }}\n",
       "}});\n",
       "\n",
       "// Listen for the removal of the full notebook cells\n",
       "var notebookContainer = gd.closest('#notebook-container');\n",
       "if (notebookContainer) {{\n",
       "    x.observe(notebookContainer, {childList: true});\n",
       "}}\n",
       "\n",
       "// Listen for the clearing of the current output cell\n",
       "var outputEl = gd.closest('.output');\n",
       "if (outputEl) {{\n",
       "    x.observe(outputEl, {childList: true});\n",
       "}}\n",
       "\n",
       "                        })                };                });            </script>        </div>"
      ]
     },
     "metadata": {},
     "output_type": "display_data"
    }
   ],
   "source": [
    "variables=['Financial_Stress_Level','Parental_Income','CGPA']\n",
    "DF_model2=DF[variables]\n",
    "fig=px.scatter(DF_model2,x='Financial_Stress_Level',y='Parental_Income',color='CGPA')\n",
    "fig.show()"
   ]
  },
  {
   "cell_type": "code",
   "execution_count": null,
   "id": "7dd5d61c-50c4-4e23-acf0-3c4afb5b2116",
   "metadata": {},
   "outputs": [],
   "source": []
  }
 ],
 "metadata": {
  "kernelspec": {
   "display_name": "Python 3 (ipykernel)",
   "language": "python",
   "name": "python3"
  },
  "language_info": {
   "codemirror_mode": {
    "name": "ipython",
    "version": 3
   },
   "file_extension": ".py",
   "mimetype": "text/x-python",
   "name": "python",
   "nbconvert_exporter": "python",
   "pygments_lexer": "ipython3",
   "version": "3.12.2"
  }
 },
 "nbformat": 4,
 "nbformat_minor": 5
}
